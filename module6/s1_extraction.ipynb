{
 "cells": [
  {
   "cell_type": "markdown",
   "metadata": {},
   "source": [
    "# Extraire le texte dans des documents \"riches\""
   ]
  },
  {
   "cell_type": "markdown",
   "metadata": {},
   "source": [
    "## Imports"
   ]
  },
  {
   "cell_type": "code",
   "execution_count": 1,
   "metadata": {},
   "outputs": [],
   "source": [
    "import os\n",
    "import textract\n",
    "import openpyxl"
   ]
  },
  {
   "cell_type": "markdown",
   "metadata": {},
   "source": [
    "## Lister les fichiers dans le répertoire `dummy`"
   ]
  },
  {
   "cell_type": "code",
   "execution_count": 2,
   "metadata": {},
   "outputs": [
    {
     "name": "stdout",
     "output_type": "stream",
     "text": [
      "['test.doc', 'test.docx', 'test.jpg', 'test.mp3', 'test.odt', 'test.pdf', 'test.png', 'test.pptx', 'test.rtf', 'test.txt', 'test.xls']\n"
     ]
    }
   ],
   "source": [
    "path = 'dummy/'\n",
    "files = os.listdir(path)\n",
    "print(files)"
   ]
  },
  {
   "cell_type": "markdown",
   "metadata": {},
   "source": [
    "## Extraire le texte de chacun des fichiers à l'aide de la librairie `textract`\n"
   ]
  },
  {
   "cell_type": "code",
   "execution_count": 3,
   "metadata": {},
   "outputs": [
    {
     "name": "stdout",
     "output_type": "stream",
     "text": [
      "Ceci est un document doc.\n",
      "Ceci est un document docx.\n",
      "Ceci est un document jpg.\n",
      "this is an MP3 documents\n",
      "Ceci est un document odt.\n",
      "Ceci est un document pdf.\n",
      "Ceci est un document png.\n",
      "Ceci est un document pptx.\n",
      "Ceci est un document rtf.\n",
      "Ceci est un document txt.\n",
      "Ceci est un document xlsx.\n"
     ]
    }
   ],
   "source": [
    "for f in sorted(files):\n",
    "    try:\n",
    "        text = textract.process(os.path.join(path, f))\n",
    "        print(text.decode('utf-8').strip())\n",
    "    except Exception as e:\n",
    "        print(os.path.join(path, f), e)"
   ]
  },
  {
   "cell_type": "code",
   "execution_count": null,
   "metadata": {},
   "outputs": [],
   "source": []
  }
 ],
 "metadata": {
  "kernelspec": {
   "display_name": "Python 3 (ipykernel)",
   "language": "python",
   "name": "python3"
  },
  "language_info": {
   "codemirror_mode": {
    "name": "ipython",
    "version": 3
   },
   "file_extension": ".py",
   "mimetype": "text/x-python",
   "name": "python",
   "nbconvert_exporter": "python",
   "pygments_lexer": "ipython3",
   "version": "3.9.7"
  }
 },
 "nbformat": 4,
 "nbformat_minor": 4
}
