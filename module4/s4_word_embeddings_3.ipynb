{
 "cells": [
  {
   "cell_type": "markdown",
   "metadata": {},
   "source": [
    "# Word Embeddings : le modèle Word2Vec"
   ]
  },
  {
   "cell_type": "markdown",
   "metadata": {},
   "source": [
    "## Imports"
   ]
  },
  {
   "cell_type": "code",
   "execution_count": 1,
   "metadata": {},
   "outputs": [],
   "source": [
    "import sys\n",
    "\n",
    "from gensim.models.phrases import Phrases, Phraser\n",
    "from gensim.models import Word2Vec\n",
    "\n",
    "import nltk\n",
    "from nltk.tokenize import wordpunct_tokenize\n",
    "from unidecode import unidecode"
   ]
  },
  {
   "cell_type": "markdown",
   "metadata": {},
   "source": [
    "## Chargement et traitement des phrases du corpus"
   ]
  },
  {
   "cell_type": "markdown",
   "metadata": {},
   "source": [
    "### Création d'un objet qui *streame* les lignes d'un fichier pour économiser de la RAM"
   ]
  },
  {
   "cell_type": "code",
   "execution_count": 2,
   "metadata": {},
   "outputs": [],
   "source": [
    "class MySentences(object):\n",
    "    \"\"\"Tokenize and Lemmatize sentences\"\"\"\n",
    "    def __init__(self, filename):\n",
    "        self.filename = filename\n",
    "\n",
    "    def __iter__(self):\n",
    "        for line in open(self.filename, encoding='utf-8', errors=\"backslashreplace\"):\n",
    "            yield [unidecode(w.lower()) for w in wordpunct_tokenize(line)]"
   ]
  },
  {
   "cell_type": "code",
   "execution_count": 3,
   "metadata": {},
   "outputs": [],
   "source": [
    "infile = f\"../data/sents_2.txt\"\n",
    "sentences = MySentences(infile)"
   ]
  },
  {
   "cell_type": "markdown",
   "metadata": {},
   "source": [
    "### Détection des bigrams\n",
    "\n",
    "Article intéressant sur le sujet : https://towardsdatascience.com/word2vec-for-phrases-learning-embeddings-for-more-than-one-word-727b6cf723cf"
   ]
  },
  {
   "cell_type": "code",
   "execution_count": 4,
   "metadata": {},
   "outputs": [],
   "source": [
    "bigram_phrases = Phrases(sentences)"
   ]
  },
  {
   "cell_type": "markdown",
   "metadata": {
    "tags": []
   },
   "source": [
    "L'object `phrases` peut être vu comme un large dictionnaire d'expressions multi-mots associées à un score, le *PMI-like scoring*. Ce dictionnaire est construit par un apprentissage sur base d'exemples.\n",
    "Voir les références ci-dessous :\n",
    "- https://arxiv.org/abs/1310.4546\n",
    "- https://en.wikipedia.org/wiki/Pointwise_mutual_information"
   ]
  },
  {
   "cell_type": "code",
   "execution_count": 5,
   "metadata": {},
   "outputs": [
    {
     "data": {
      "text/plain": [
       "dict"
      ]
     },
     "execution_count": 5,
     "metadata": {},
     "output_type": "execute_result"
    }
   ],
   "source": [
    "type(bigram_phrases.vocab)"
   ]
  },
  {
   "cell_type": "markdown",
   "metadata": {},
   "source": [
    "Il contient de nombreuses clés qui sont autant de termes observés dans le corpus"
   ]
  },
  {
   "cell_type": "code",
   "execution_count": 6,
   "metadata": {},
   "outputs": [
    {
     "data": {
      "text/plain": [
       "5978799"
      ]
     },
     "execution_count": 6,
     "metadata": {},
     "output_type": "execute_result"
    }
   ],
   "source": [
    "len(bigram_phrases.vocab.keys())"
   ]
  },
  {
   "cell_type": "markdown",
   "metadata": {},
   "source": [
    "Prenons une clé au hasard :"
   ]
  },
  {
   "cell_type": "code",
   "execution_count": 7,
   "metadata": {},
   "outputs": [
    {
     "name": "stdout",
     "output_type": "stream",
     "text": [
      "absence_&\n"
     ]
    }
   ],
   "source": [
    "key_ = list(bigram_phrases.vocab.keys())[144]\n",
    "print(key_)"
   ]
  },
  {
   "cell_type": "markdown",
   "metadata": {},
   "source": [
    "Le dictionnaire indique le score de cette coocurrence :"
   ]
  },
  {
   "cell_type": "code",
   "execution_count": 8,
   "metadata": {},
   "outputs": [
    {
     "data": {
      "text/plain": [
       "1"
      ]
     },
     "execution_count": 8,
     "metadata": {},
     "output_type": "execute_result"
    }
   ],
   "source": [
    "bigram_phrases.vocab[key_]"
   ]
  },
  {
   "cell_type": "code",
   "execution_count": 14,
   "metadata": {},
   "outputs": [
    {
     "name": "stdout",
     "output_type": "stream",
     "text": [
      "['v', 'i', 'v_i', 'l', 'i_l', 'l_l', 'e', 'l_e', 'de', 'e_de', 'bruxelles', 'de_bruxelles', 'bulletin', 'bruxelles_bulletin', 'ires', 'bulletin_ires', '8eanas', 'ires_8eanas', 'dl', '8eanas_dl', '!', 'dl_!', 'conseil', 'communal', 'conseil_communal', 'annee', 'communal_annee', '1847', 'annee_1847', '.', '1847_.', 'au', 'ville', 'au_ville', 'ville_de', 'b', 'de_b', 'r', 'b_r', 'u', 'r_u', 'x', 'u_x', 'x_e', 'e_l', 's', 'e_s', 's_.', 'bulletin_conseil', 'aes', 'conseil_aes', 'seances', 'aes_seances', 'seances_communal', 'communal_.', ',', 'bruxelles_,', 'imprimerie', ',_imprimerie', 'd', 'imprimerie_d', 'd_e', 'j', 'e_j', 'j_.', 'h', 'h_.', '._b', 'r_i', 'a', 'i_a', 'a_r', 'r_d', 'd_,', 'rite', ',_rite', 'n', 'rite_n', 'n_e', 'e_u', 'u_v', 'v_e', 'e_,', '3', ',_3', '1', '3_1', '1_,', 'faubourg', ',_faubourg', 'faubourg_de', 'de_n', 'n_a', 'm', 'a_m', 'm_u', 'u_r', 'r_,', ',_1', '84']\n"
     ]
    }
   ],
   "source": [
    "print(list(bigram_phrases.vocab.keys())[:100])"
   ]
  },
  {
   "cell_type": "markdown",
   "metadata": {},
   "source": [
    "Lorsque l'instance de `Phrases` a été entraînée, elle peut concaténer les bigrams dans les phrases lorsque c'est pertinent."
   ]
  },
  {
   "cell_type": "code",
   "execution_count": 15,
   "metadata": {},
   "outputs": [
    {
     "name": "stdout",
     "output_type": "stream",
     "text": [
      "CPU times: user 7.29 ms, sys: 0 ns, total: 7.29 ms\n",
      "Wall time: 14.4 ms\n"
     ]
    },
    {
     "data": {
      "text/plain": [
       "<gensim.interfaces.TransformedCorpus at 0x7fad398b1280>"
      ]
     },
     "execution_count": 15,
     "metadata": {},
     "output_type": "execute_result"
    }
   ],
   "source": [
    "%time bigram_phrases[sentences]"
   ]
  },
  {
   "cell_type": "markdown",
   "metadata": {},
   "source": [
    "### Conversion des `Phrases` en objet `Phraser`\n",
    "\n",
    "`Phraser` est un alias pour `gensim.models.phrases.FrozenPhrases`, voir ici https://radimrehurek.com/gensim/models/phrases.html.\n",
    "\n",
    "Le `Phraser` est une version *light* du `Phrases`, plus optimale pour transformer les phrases en concaténant les bigrams."
   ]
  },
  {
   "cell_type": "code",
   "execution_count": 16,
   "metadata": {},
   "outputs": [],
   "source": [
    "bigram_phraser = Phraser(phrases_model=bigram_phrases)"
   ]
  },
  {
   "cell_type": "markdown",
   "metadata": {},
   "source": [
    "Le `Phraser` est un objet qui convertit certains unigrams d'une liste en bigrams lorsqu'ils ont été identifiés comme pertinents."
   ]
  },
  {
   "cell_type": "code",
   "execution_count": 17,
   "metadata": {},
   "outputs": [
    {
     "name": "stdout",
     "output_type": "stream",
     "text": [
      "CPU times: user 12.5 ms, sys: 88 µs, total: 12.6 ms\n",
      "Wall time: 16.1 ms\n"
     ]
    },
    {
     "data": {
      "text/plain": [
       "<gensim.interfaces.TransformedCorpus at 0x7fad398c2190>"
      ]
     },
     "execution_count": 17,
     "metadata": {},
     "output_type": "execute_result"
    }
   ],
   "source": [
    "%time bigram_phraser[sentences]"
   ]
  },
  {
   "cell_type": "markdown",
   "metadata": {},
   "source": [
    "### Extraction des trigrams"
   ]
  },
  {
   "cell_type": "markdown",
   "metadata": {},
   "source": [
    "Nous répétons l'opération en envoyant cette fois la liste de bigrams afin d'extraire les trigrams."
   ]
  },
  {
   "cell_type": "code",
   "execution_count": 18,
   "metadata": {},
   "outputs": [],
   "source": [
    "trigram_phrases = Phrases(bigram_phraser[sentences])"
   ]
  },
  {
   "cell_type": "code",
   "execution_count": 19,
   "metadata": {},
   "outputs": [],
   "source": [
    "trigram_phraser = Phraser(phrases_model=trigram_phrases)"
   ]
  },
  {
   "cell_type": "markdown",
   "metadata": {},
   "source": [
    "### Création d'un corpus d'unigrams, bigrams, trigrams"
   ]
  },
  {
   "cell_type": "code",
   "execution_count": null,
   "metadata": {},
   "outputs": [],
   "source": [
    "corpus = list(trigram_phraser[bigram_phraser[sentences]])"
   ]
  },
  {
   "cell_type": "code",
   "execution_count": null,
   "metadata": {},
   "outputs": [],
   "source": [
    "print(corpus[:100])"
   ]
  },
  {
   "cell_type": "markdown",
   "metadata": {},
   "source": [
    "## Entrainement d'un modèle Word2Vec sur ce corpus (modèle 10)"
   ]
  },
  {
   "cell_type": "code",
   "execution_count": 17,
   "metadata": {},
   "outputs": [
    {
     "name": "stdout",
     "output_type": "stream",
     "text": [
      "CPU times: user 28min 15s, sys: 25.5 s, total: 28min 41s\n",
      "Wall time: 14min 13s\n"
     ]
    }
   ],
   "source": [
    "%%time\n",
    "model = Word2Vec(\n",
    "    corpus, # On passe le corpus de ngrams que nous venons de créer\n",
    "    vector_size=32, # Le nombre de dimensions dans lesquelles le contexte des mots devra être réduit, aka. vector_size\n",
    "    window=5, # La taille du \"contexte\", ici 5 mots avant et après le mot observé\n",
    "    min_count=2, # On ignore les mots qui n'apparaissent pas au moins 5 fois dans le corpus\n",
    "    workers=2, # Permet de paralléliser l'entraînement du modèle en 4 threads\n",
    "    epochs=10 # Nombre d'itérations du réseau de neurones sur le jeu de données pour ajuster les paramètres avec la descende de gradient, aka. epochs.\n",
    ")"
   ]
  },
  {
   "cell_type": "markdown",
   "metadata": {},
   "source": [
    "#### Remarque\n",
    "\n",
    "Vous voyez ici que l'entrainement du modèle est parallélisé (sur 4 workers).\n",
    "\n",
    "Lors qu'on parallélise l'entrainement du modèle, 4 modèles \"séparés\" sont entrainés sur environ un quart des phrases.\n",
    "\n",
    "Ensuite, les résultats sont agrégés pour ne plus faire qu'un seul modèle.\n",
    "\n",
    "On ne peut prédire quel worker aura quelle phrase, car il y a des aléas lors de la parallélisation (p. ex. un worker qui serait plus lent, etc.).\n",
    "\n",
    "Du coup, les valeurs peuvent varier légèrement d'un entrainement à l'autre.\n",
    "\n",
    "Mais, globalement, les résultats restent cohérents."
   ]
  },
  {
   "cell_type": "markdown",
   "metadata": {},
   "source": [
    "### Sauver le modèle dans un fichier"
   ]
  },
  {
   "cell_type": "code",
   "execution_count": 18,
   "metadata": {},
   "outputs": [],
   "source": [
    "outfile = f\"../data/bulletins_10.model\"\n",
    "model.save(outfile)"
   ]
  },
  {
   "cell_type": "markdown",
   "metadata": {},
   "source": [
    "## Explorer le modèle"
   ]
  },
  {
   "cell_type": "markdown",
   "metadata": {},
   "source": [
    "### Charger le modèle en mémoire"
   ]
  },
  {
   "cell_type": "code",
   "execution_count": 19,
   "metadata": {},
   "outputs": [],
   "source": [
    "model = Word2Vec.load(\"../data/bulletins_10.model\")"
   ]
  },
  {
   "cell_type": "markdown",
   "metadata": {},
   "source": [
    "### Imprimer le vecteur d'un terme"
   ]
  },
  {
   "cell_type": "code",
   "execution_count": 20,
   "metadata": {},
   "outputs": [
    {
     "data": {
      "text/plain": [
       "array([ 1.1260105 , -2.1725283 ,  0.4175255 , -0.69901973,  0.97302616,\n",
       "       -2.6768591 , -1.5538032 ,  2.8593185 , -3.2508225 , -4.498826  ,\n",
       "       -1.0544505 ,  4.9645147 , -2.5055726 ,  4.3030825 ,  4.922113  ,\n",
       "       -0.27940458,  2.6213033 , -2.7516031 ,  3.5029454 ,  1.9816391 ,\n",
       "       -2.734784  , -3.1897314 , -1.4461392 ,  2.9164798 , -3.4263446 ,\n",
       "        3.1776385 ,  4.9700117 ,  1.8515121 ,  3.8447385 ,  1.0398239 ,\n",
       "       -1.0671779 ,  1.2635777 ], dtype=float32)"
      ]
     },
     "execution_count": 20,
     "metadata": {},
     "output_type": "execute_result"
    }
   ],
   "source": [
    "model.wv[\"bruxelles\"]"
   ]
  },
  {
   "cell_type": "markdown",
   "metadata": {},
   "source": [
    "### Calculer la similarité entre deux termes"
   ]
  },
  {
   "cell_type": "code",
   "execution_count": 21,
   "metadata": {},
   "outputs": [
    {
     "data": {
      "text/plain": [
       "0.88451433"
      ]
     },
     "execution_count": 21,
     "metadata": {},
     "output_type": "execute_result"
    }
   ],
   "source": [
    "model.wv.similarity(\"boucher\", \"boulanger\")"
   ]
  },
  {
   "cell_type": "markdown",
   "metadata": {},
   "source": [
    "### Chercher les mots les plus proches d'un terme donné"
   ]
  },
  {
   "cell_type": "code",
   "execution_count": 22,
   "metadata": {},
   "outputs": [
    {
     "data": {
      "text/plain": [
       "[('laeken', 0.8489513397216797),\n",
       " ('paris', 0.8009144067764282),\n",
       " ('liege', 0.7990047335624695),\n",
       " ('nivelles', 0.7926765084266663),\n",
       " ('considere_comme_officiel', 0.7591863870620728),\n",
       " ('gand', 0.7544216513633728),\n",
       " ('rruxelles', 0.7373996376991272),\n",
       " ('huy', 0.7307796478271484),\n",
       " ('louvain', 0.7209203839302063),\n",
       " ('binche', 0.7185885310173035)]"
      ]
     },
     "execution_count": 22,
     "metadata": {},
     "output_type": "execute_result"
    }
   ],
   "source": [
    "model.wv.most_similar(\"bruxelles\", topn=10)"
   ]
  },
  {
   "cell_type": "markdown",
   "metadata": {},
   "source": [
    "### Faire des recherches complexes à travers l'espace vectoriel"
   ]
  },
  {
   "cell_type": "code",
   "execution_count": 23,
   "metadata": {},
   "outputs": [
    {
     "name": "stdout",
     "output_type": "stream",
     "text": [
      "[('huy', 0.8321443200111389), ('paris', 0.8168970346450806), ('manchester', 0.8040940761566162), ('verviers', 0.798650860786438), ('norvege', 0.7958981394767761), ('lille', 0.7932437658309937), ('gand', 0.7927877902984619), ('prague', 0.7915379405021667), ('zurich', 0.7848337292671204), ('tournai', 0.7804679870605469)]\n"
     ]
    }
   ],
   "source": [
    "print(model.wv.most_similar(positive=['bruxelles', 'france'], negative=['belgique']))"
   ]
  },
  {
   "cell_type": "markdown",
   "metadata": {},
   "source": [
    "### Modèle 11: Taille du vecteur = 100 (vs 32)"
   ]
  },
  {
   "cell_type": "code",
   "execution_count": 24,
   "metadata": {},
   "outputs": [
    {
     "name": "stdout",
     "output_type": "stream",
     "text": [
      "CPU times: user 39min 11s, sys: 36.1 s, total: 39min 47s\n",
      "Wall time: 20min 7s\n"
     ]
    }
   ],
   "source": [
    "%%time\n",
    "model = Word2Vec(\n",
    "    corpus, # On passe le corpus de ngrams que nous venons de créer\n",
    "    vector_size=100, # Le nombre de dimensions dans lesquelles le contexte des mots devra être réduit, aka. vector_size\n",
    "    window=5, # La taille du \"contexte\", ici 5 mots avant et après le mot observé\n",
    "    min_count=2, # On ignore les mots qui n'apparaissent pas au moins 5 fois dans le corpus\n",
    "    workers=2, # Permet de paralléliser l'entraînement du modèle en 4 threads\n",
    "    epochs=10 # Nombre d'itérations du réseau de neurones sur le jeu de données pour ajuster les paramètres avec la descende de gradient, aka. epochs.\n",
    ")"
   ]
  },
  {
   "cell_type": "code",
   "execution_count": 25,
   "metadata": {},
   "outputs": [],
   "source": [
    "outfile = f\"../data/bulletins_11.model\"\n",
    "model.save(outfile)"
   ]
  },
  {
   "cell_type": "code",
   "execution_count": 26,
   "metadata": {},
   "outputs": [],
   "source": [
    "model = Word2Vec.load(\"../data/bulletins_11.model\")"
   ]
  },
  {
   "cell_type": "code",
   "execution_count": 27,
   "metadata": {},
   "outputs": [
    {
     "data": {
      "text/plain": [
       "array([-1.1539743e+00,  1.8585192e+00, -1.6800332e+00, -4.4222820e-01,\n",
       "        1.7482232e+00,  3.9750993e+00, -2.6492040e+00, -5.3296113e+00,\n",
       "        1.5155109e+00, -1.9158862e+00,  5.2028531e-01,  9.3181378e-01,\n",
       "        1.2822436e+00, -8.5219488e-02,  3.4232870e-02,  1.7136720e-01,\n",
       "        1.9729372e+00,  3.5099645e+00, -9.8435052e-02,  1.2754691e+00,\n",
       "        4.1667604e+00, -3.1279242e+00, -1.8638443e+00,  2.1328425e+00,\n",
       "        2.6962016e+00,  9.5783979e-01,  4.8206758e-01, -1.3146660e-01,\n",
       "        9.5839614e-01,  1.3258016e+00,  6.5184885e-01,  2.2936983e+00,\n",
       "        1.2322680e+00,  5.0789362e-01, -5.1532584e-01,  1.2043320e+00,\n",
       "        1.1132662e+00, -3.3199067e+00, -1.6523521e+00, -5.9322041e-01,\n",
       "        2.6820681e+00,  4.6180341e-01, -2.8952336e+00,  2.0132332e+00,\n",
       "        1.1390903e+00, -4.2447958e+00, -7.7328593e-01, -1.0703262e+00,\n",
       "        2.4343159e+00,  1.5587091e-03, -2.3235846e+00, -3.4852853e-01,\n",
       "       -4.2528143e+00, -1.6277497e+00, -1.3276261e+00, -1.5694494e+00,\n",
       "        1.6396835e+00, -1.5996410e+00,  1.9390267e+00,  1.5370157e+00,\n",
       "       -1.6244661e+00,  2.0708909e+00, -4.9386042e-01, -3.0734411e-01,\n",
       "        2.6523738e+00,  4.8732331e-01, -1.1395293e+00, -3.9854440e-01,\n",
       "       -7.0323157e-01, -1.8117710e+00,  2.0908425e+00,  2.2632513e+00,\n",
       "       -3.4036307e+00, -1.1338270e+00, -1.2371708e+00,  1.7336627e+00,\n",
       "       -4.7422653e-01, -1.6079575e+00, -4.3637681e-01, -5.7031918e-02,\n",
       "       -5.5245495e-01, -1.0049973e+00, -2.8642893e+00,  3.8260782e-01,\n",
       "       -1.2333890e+00,  1.0304279e+00,  3.9609349e+00,  7.9537356e-01,\n",
       "       -1.5010744e+00, -2.8671181e+00,  1.5709505e+00,  5.7932043e+00,\n",
       "       -2.6339960e+00, -1.9093469e-01,  8.9265978e-01, -1.0952634e+00,\n",
       "        2.1260262e+00,  1.5667429e+00, -3.1988430e+00,  2.0243502e+00],\n",
       "      dtype=float32)"
      ]
     },
     "execution_count": 27,
     "metadata": {},
     "output_type": "execute_result"
    }
   ],
   "source": [
    "model.wv[\"bruxelles\"]"
   ]
  },
  {
   "cell_type": "code",
   "execution_count": 28,
   "metadata": {},
   "outputs": [
    {
     "data": {
      "text/plain": [
       "0.74020714"
      ]
     },
     "execution_count": 28,
     "metadata": {},
     "output_type": "execute_result"
    }
   ],
   "source": [
    "model.wv.similarity(\"boucher\", \"boulanger\")"
   ]
  },
  {
   "cell_type": "code",
   "execution_count": 29,
   "metadata": {},
   "outputs": [
    {
     "data": {
      "text/plain": [
       "[('rruxelles', 0.7136662602424622),\n",
       " ('nivelles', 0.6468287110328674),\n",
       " ('prague', 0.6252561807632446),\n",
       " ('liege', 0.6158735752105713),\n",
       " ('paris', 0.6153978705406189),\n",
       " ('bruxelle', 0.6121673583984375),\n",
       " ('lille', 0.6068112850189209),\n",
       " ('laeken', 0.6047728657722473),\n",
       " ('gand', 0.6014081835746765),\n",
       " ('lhotel', 0.5876725912094116)]"
      ]
     },
     "execution_count": 29,
     "metadata": {},
     "output_type": "execute_result"
    }
   ],
   "source": [
    "model.wv.most_similar(\"bruxelles\", topn=10)"
   ]
  },
  {
   "cell_type": "code",
   "execution_count": 30,
   "metadata": {},
   "outputs": [
    {
     "name": "stdout",
     "output_type": "stream",
     "text": [
      "[('prague', 0.6978469491004944), ('paris', 0.6645860075950623), ('lille', 0.6635715961456299), ('tournai', 0.6521830558776855), ('londres', 0.6501026749610901), ('liege', 0.6492911577224731), ('gand', 0.6386280655860901), ('huy', 0.6197343468666077), ('milan', 0.5927150845527649), ('hambourg', 0.5915898084640503)]\n"
     ]
    }
   ],
   "source": [
    "print(model.wv.most_similar(positive=['bruxelles', 'france'], negative=['belgique']))"
   ]
  },
  {
   "cell_type": "markdown",
   "metadata": {},
   "source": [
    "### Modèle 12: Vecteur 100 + élargissement de la fenêtre à 7"
   ]
  },
  {
   "cell_type": "code",
   "execution_count": 31,
   "metadata": {},
   "outputs": [
    {
     "name": "stdout",
     "output_type": "stream",
     "text": [
      "CPU times: user 49min 7s, sys: 1min 11s, total: 50min 19s\n",
      "Wall time: 16min 36s\n"
     ]
    }
   ],
   "source": [
    "%%time\n",
    "model = Word2Vec(\n",
    "    corpus, # On passe le corpus de ngrams que nous venons de créer\n",
    "    vector_size=100, # Le nombre de dimensions dans lesquelles le contexte des mots devra être réduit, aka. vector_size\n",
    "    window=7, # La taille du \"contexte\", ici 5 mots avant et après le mot observé\n",
    "    min_count=2, # On ignore les mots qui n'apparaissent pas au moins 5 fois dans le corpus\n",
    "    workers=4, # Permet de paralléliser l'entraînement du modèle en 4 threads\n",
    "    epochs=10 # Nombre d'itérations du réseau de neurones sur le jeu de données pour ajuster les paramètres avec la descende de gradient, aka. epochs.\n",
    ")"
   ]
  },
  {
   "cell_type": "code",
   "execution_count": 32,
   "metadata": {},
   "outputs": [],
   "source": [
    "outfile = f\"../data/bulletins_12.model\"\n",
    "model.save(outfile)"
   ]
  },
  {
   "cell_type": "code",
   "execution_count": 33,
   "metadata": {},
   "outputs": [],
   "source": [
    "model = Word2Vec.load(\"../data/bulletins_12.model\")"
   ]
  },
  {
   "cell_type": "code",
   "execution_count": 34,
   "metadata": {},
   "outputs": [
    {
     "data": {
      "text/plain": [
       "array([-2.5097110e+00, -1.6216507e+00, -1.7737223e+00,  2.2958612e+00,\n",
       "        1.4272438e+00, -5.5398822e-02, -4.7675767e+00, -3.9126141e+00,\n",
       "        3.2183037e+00, -4.2289095e+00, -8.1615108e-01,  3.6222725e-03,\n",
       "        1.5715544e+00, -9.6815938e-01,  3.7148803e-01,  1.8808427e+00,\n",
       "        4.0873914e+00,  3.8944528e+00,  8.0108821e-01,  1.5176334e+00,\n",
       "        4.3372049e+00, -4.3116035e+00, -1.1436946e+00,  3.0126836e+00,\n",
       "        3.1584575e+00, -1.3725473e+00, -2.1337962e+00,  1.9179517e-01,\n",
       "        5.1859361e-01,  1.1316208e+00, -1.0905432e+00,  2.4017324e+00,\n",
       "        4.8845053e-01,  5.2066278e-01, -1.1646289e+00, -2.3857501e-01,\n",
       "       -1.6562866e+00,  2.9832468e+00, -1.7789822e+00,  2.7195344e+00,\n",
       "       -1.4348168e+00,  2.2810922e+00, -1.8511634e+00,  4.1115832e-01,\n",
       "        1.1041604e-01, -3.4578316e+00, -4.9020991e+00,  3.4461372e-02,\n",
       "        1.0478247e+00,  1.3229064e+00, -2.8644516e+00,  7.5171903e-02,\n",
       "        1.2130132e+00, -7.6969671e-01, -1.7908067e+00, -3.7262318e+00,\n",
       "        2.6654830e+00, -1.2370365e+00,  1.9874837e+00,  9.9252891e-03,\n",
       "        4.3945289e+00,  3.8948722e+00,  8.6309320e-01, -1.0443116e+00,\n",
       "        2.3020484e+00,  7.7079791e-01, -3.5341102e-01, -6.2687153e-01,\n",
       "       -4.1037350e+00, -4.6861055e-01, -6.2594074e-01,  1.8414228e+00,\n",
       "       -1.7152816e-01, -2.9321661e+00, -1.6770972e+00, -1.0281720e+00,\n",
       "       -4.0033960e+00, -1.9154269e+00,  1.4503285e+00,  1.9918890e+00,\n",
       "       -1.1153256e+00,  2.1284950e+00,  8.1382599e-03,  2.4693345e-01,\n",
       "       -9.2231750e-01,  5.3683317e-01,  2.1423984e+00, -2.3587701e+00,\n",
       "        1.1390176e-01, -2.6387300e+00,  1.4173434e+00,  4.8900208e+00,\n",
       "        1.2348202e+00,  4.4326985e-01,  1.6656631e+00, -3.0858672e+00,\n",
       "        5.2060280e+00,  3.9925215e+00, -5.5435336e-01, -1.0399109e+00],\n",
       "      dtype=float32)"
      ]
     },
     "execution_count": 34,
     "metadata": {},
     "output_type": "execute_result"
    }
   ],
   "source": [
    "model.wv[\"bruxelles\"]"
   ]
  },
  {
   "cell_type": "code",
   "execution_count": 35,
   "metadata": {},
   "outputs": [
    {
     "data": {
      "text/plain": [
       "0.74992484"
      ]
     },
     "execution_count": 35,
     "metadata": {},
     "output_type": "execute_result"
    }
   ],
   "source": [
    "model.wv.similarity(\"boucher\", \"boulanger\")"
   ]
  },
  {
   "cell_type": "code",
   "execution_count": 36,
   "metadata": {},
   "outputs": [
    {
     "data": {
      "text/plain": [
       "[('rruxelles', 0.6743203401565552),\n",
       " ('liege', 0.6394780874252319),\n",
       " ('prague', 0.6360003352165222),\n",
       " ('bruxelle', 0.6343247890472412),\n",
       " ('xelles', 0.6240631341934204),\n",
       " ('bruxe', 0.6227555871009827),\n",
       " ('nivelles', 0.6150801181793213),\n",
       " ('lille', 0.612572193145752),\n",
       " ('paris', 0.6059279441833496),\n",
       " ('bruxeles', 0.5985421538352966)]"
      ]
     },
     "execution_count": 36,
     "metadata": {},
     "output_type": "execute_result"
    }
   ],
   "source": [
    "model.wv.most_similar(\"bruxelles\", topn=10)"
   ]
  },
  {
   "cell_type": "code",
   "execution_count": 37,
   "metadata": {},
   "outputs": [
    {
     "name": "stdout",
     "output_type": "stream",
     "text": [
      "[('prague', 0.6655336022377014), ('londres', 0.6648284792900085), ('paris', 0.6592709422111511), ('lille', 0.658177375793457), ('liege', 0.6438037157058716), ('strasbourg', 0.6386304497718811), ('huy', 0.6232372522354126), ('verviers', 0.6213777661323547), ('gand', 0.6208687424659729), ('tournai', 0.610344409942627)]\n"
     ]
    }
   ],
   "source": [
    "print(model.wv.most_similar(positive=['bruxelles', 'france'], negative=['belgique']))"
   ]
  },
  {
   "cell_type": "code",
   "execution_count": 38,
   "metadata": {},
   "outputs": [
    {
     "name": "stdout",
     "output_type": "stream",
     "text": [
      "[('magistrat', 0.5965210199356079), ('prince', 0.5952725410461426), ('parlement', 0.5779935121536255), ('souverain', 0.5624872446060181), ('geste', 0.5579628348350525), ('peuple', 0.5476931929588318), ('gouvernement', 0.5424214005470276), ('citoyen', 0.5420892238616943), ('soldat', 0.5411161184310913), ('directoire_executif', 0.5341085195541382)]\n"
     ]
    }
   ],
   "source": [
    "print(model.wv.most_similar(positive=['homme', 'roi'], negative=['femme']))"
   ]
  },
  {
   "cell_type": "code",
   "execution_count": 39,
   "metadata": {},
   "outputs": [
    {
     "name": "stdout",
     "output_type": "stream",
     "text": [
      "[('russie', 0.6977651715278625), ('hollande', 0.6429075598716736), ('gique', 0.6396220922470093), ('prusse', 0.6370446681976318), ('grece', 0.6329469084739685), ('pologne', 0.6301029920578003), ('egypte', 0.6247028708457947), ('allemagne', 0.6204552054405212), ('prose', 0.6186758875846863), ('magne', 0.6132579445838928)]\n"
     ]
    }
   ],
   "source": [
    "print(model.wv.most_similar(positive=['france', 'belgique'], negative=['paris']))"
   ]
  },
  {
   "cell_type": "markdown",
   "metadata": {},
   "source": [
    "### Modèle 13: Taille fenêtre 20 (vs 5) et vecteur 32 (vs 100)"
   ]
  },
  {
   "cell_type": "code",
   "execution_count": 40,
   "metadata": {},
   "outputs": [
    {
     "name": "stdout",
     "output_type": "stream",
     "text": [
      "CPU times: user 53min 1s, sys: 1min 24s, total: 54min 26s\n",
      "Wall time: 17min 25s\n"
     ]
    }
   ],
   "source": [
    "%%time\n",
    "model = Word2Vec(\n",
    "    corpus, # On passe le corpus de ngrams que nous venons de créer\n",
    "    vector_size=100, # Le nombre de dimensions dans lesquelles le contexte des mots devra être réduit, aka. vector_size\n",
    "    window=10, # La taille du \"contexte\", ici 5 mots avant et après le mot observé\n",
    "    min_count=2, # On ignore les mots qui n'apparaissent pas au moins 5 fois dans le corpus\n",
    "    workers=4, # Permet de paralléliser l'entraînement du modèle en 4 threads\n",
    "    epochs=10 # Nombre d'itérations du réseau de neurones sur le jeu de données pour ajuster les paramètres avec la descende de gradient, aka. epochs.\n",
    ")"
   ]
  },
  {
   "cell_type": "code",
   "execution_count": 41,
   "metadata": {},
   "outputs": [],
   "source": [
    "outfile = f\"../data/bulletins_13.model\"\n",
    "model.save(outfile)"
   ]
  },
  {
   "cell_type": "code",
   "execution_count": 42,
   "metadata": {},
   "outputs": [],
   "source": [
    "model = Word2Vec.load(\"../data/bulletins_13.model\")"
   ]
  },
  {
   "cell_type": "code",
   "execution_count": 43,
   "metadata": {},
   "outputs": [
    {
     "data": {
      "text/plain": [
       "array([-0.971476  ,  1.1585819 ,  1.9293963 ,  2.2696738 , -0.95015925,\n",
       "        0.4804774 , -3.5447733 ,  0.19505647, -1.0813653 , -2.173142  ,\n",
       "        2.5600793 , -3.197074  ,  1.8823612 , -2.4818788 ,  0.51100093,\n",
       "       -0.05277269, -2.0051522 ,  4.0309167 ,  3.00355   , -1.6767248 ,\n",
       "        7.8519526 , -1.6590991 ,  3.3218467 ,  1.8396266 ,  2.589873  ,\n",
       "        4.742811  , -0.5411295 ,  1.102619  ,  3.304934  ,  0.37661466,\n",
       "       -2.6051095 ,  1.3045704 ,  0.66989094, -1.9110194 ,  1.4860145 ,\n",
       "       -0.6226967 ,  0.9053694 ,  0.94488925,  0.9938249 , -2.2563617 ,\n",
       "        2.6645045 ,  2.2340987 ,  0.24985437, -0.72093827,  2.3941057 ,\n",
       "       -0.21500607, -3.6347086 ,  1.2598578 ,  0.9621279 , -0.02723751,\n",
       "       -3.3255062 ,  2.0855017 , -7.586353  ,  0.7574345 , -3.7482953 ,\n",
       "        1.776607  ,  4.2794366 , -3.969426  ,  2.6658452 ,  4.8011866 ,\n",
       "        3.8450189 ,  1.7982588 ,  0.03574454,  3.5566518 ,  2.6109102 ,\n",
       "       -0.7125153 , -0.19396746,  3.6263819 ,  0.17875561, -8.235237  ,\n",
       "        0.17071912, -0.95039636, -1.4768777 ,  1.1137592 , -0.5477304 ,\n",
       "       -0.7410656 , -3.0881083 , -2.1591427 , -0.29399425,  0.451873  ,\n",
       "       -1.1206756 ,  2.112756  , -0.8136764 ,  0.23903519,  1.4338317 ,\n",
       "       -2.033412  ,  4.0187554 , -2.4749172 , -2.2516842 , -3.3369534 ,\n",
       "       -0.26470855,  4.2817802 , -2.3708272 ,  0.4617793 , -3.3191483 ,\n",
       "       -2.1658428 , -1.1737219 ,  5.8778944 , -1.0249206 ,  1.335971  ],\n",
       "      dtype=float32)"
      ]
     },
     "execution_count": 43,
     "metadata": {},
     "output_type": "execute_result"
    }
   ],
   "source": [
    "model.wv[\"bruxelles\"]"
   ]
  },
  {
   "cell_type": "code",
   "execution_count": 44,
   "metadata": {},
   "outputs": [
    {
     "data": {
      "text/plain": [
       "array([ 1.0531648 , -0.67007715, -0.8484522 , -0.3299128 ,  1.9245322 ,\n",
       "       -1.0435863 ,  2.6561742 ,  0.35014355,  0.34272856, -0.05957036,\n",
       "        0.13900189, -3.10177   , -1.219908  ,  0.29260308,  0.6749098 ,\n",
       "        1.212267  , -0.36900538,  1.6241764 ,  1.6359512 , -0.54867625,\n",
       "        2.4581873 , -0.0513159 , -2.1077986 , -2.5916808 ,  0.6399825 ,\n",
       "       -1.9364533 ,  0.07702505, -1.4731607 ,  2.1370702 , -1.2038982 ,\n",
       "       -0.18382151, -1.9336646 ,  1.35962   ,  1.2636005 ,  2.1745293 ,\n",
       "       -1.0393125 , -1.5382365 , -0.4658787 ,  1.3203089 ,  1.1236529 ,\n",
       "        0.8015843 , -0.19109268, -2.1660376 ,  0.2275303 , -0.48223156,\n",
       "        0.16956599, -0.6738468 , -1.8383192 ,  0.51808244,  0.24323906,\n",
       "       -1.7735149 , -1.1688193 , -0.42180204, -0.91761196,  2.64465   ,\n",
       "        2.7966313 ,  1.0244737 ,  0.1243986 , -0.95424265, -0.74975544,\n",
       "       -0.8377274 , -1.2847992 , -0.26673326,  1.1967674 , -2.9241085 ,\n",
       "        1.2438351 ,  0.14159115,  1.4974174 , -0.41187888,  0.02006261,\n",
       "        2.4800837 ,  0.6686184 ,  2.7917209 ,  2.514962  ,  0.5302496 ,\n",
       "        0.783775  ,  0.68708724,  0.88918906, -0.51264066,  0.6433455 ,\n",
       "       -2.9959853 ,  0.5705759 , -0.9760445 ,  2.3611794 ,  0.5579601 ,\n",
       "        0.28647122, -0.1861377 , -1.4201019 ,  1.7726791 , -0.5392824 ,\n",
       "       -1.3682972 ,  1.2134063 , -0.73328286,  1.3175874 , -0.64874107,\n",
       "        0.36780778,  1.9658253 , -0.89722157, -0.5643233 , -0.49169657],\n",
       "      dtype=float32)"
      ]
     },
     "execution_count": 44,
     "metadata": {},
     "output_type": "execute_result"
    }
   ],
   "source": [
    "model.wv[\"boucher\"]"
   ]
  },
  {
   "cell_type": "code",
   "execution_count": 45,
   "metadata": {},
   "outputs": [
    {
     "data": {
      "text/plain": [
       "0.6937786"
      ]
     },
     "execution_count": 45,
     "metadata": {},
     "output_type": "execute_result"
    }
   ],
   "source": [
    "model.wv.similarity(\"boucher\", \"boulanger\")"
   ]
  },
  {
   "cell_type": "code",
   "execution_count": 46,
   "metadata": {},
   "outputs": [
    {
     "data": {
      "text/plain": [
       "[('rruxelles', 0.651600182056427),\n",
       " ('nivelles', 0.638759195804596),\n",
       " ('bruxelle', 0.6351412534713745),\n",
       " ('liege', 0.6297926902770996),\n",
       " ('xelles', 0.6212089657783508),\n",
       " ('bruxe', 0.6058027148246765),\n",
       " ('bruxeles', 0.5974170565605164),\n",
       " ('thotel', 0.5858594179153442),\n",
       " ('paris', 0.5826448798179626),\n",
       " ('laeken', 0.5800283551216125)]"
      ]
     },
     "execution_count": 46,
     "metadata": {},
     "output_type": "execute_result"
    }
   ],
   "source": [
    "model.wv.most_similar(\"bruxelles\", topn=10)"
   ]
  },
  {
   "cell_type": "code",
   "execution_count": 47,
   "metadata": {},
   "outputs": [
    {
     "name": "stdout",
     "output_type": "stream",
     "text": [
      "[('liege', 0.6205630302429199), ('paris', 0.6186079382896423), ('lille', 0.617577850818634), ('verviers', 0.6161673069000244), ('londres', 0.6111919283866882), ('huy', 0.6109883189201355), ('tournai', 0.602641224861145), ('gand', 0.596588671207428), ('prague', 0.595768392086029), ('marseille', 0.5875338912010193)]\n"
     ]
    }
   ],
   "source": [
    "print(model.wv.most_similar(positive=['bruxelles', 'france'], negative=['belgique']))"
   ]
  },
  {
   "cell_type": "code",
   "execution_count": 48,
   "metadata": {},
   "outputs": [
    {
     "name": "stdout",
     "output_type": "stream",
     "text": [
      "[('parlement', 0.6019852161407471), ('magistrat', 0.5870837569236755), ('prince', 0.5709598064422607), ('peuple', 0.5621649622917175), ('substitut', 0.5548692345619202), ('geste', 0.5506982803344727), ('roi_guillaume', 0.54563969373703), ('commissaire_special', 0.5449787974357605), ('episode', 0.5426084995269775), ('congres_national', 0.5395960807800293)]\n"
     ]
    }
   ],
   "source": [
    "print(model.wv.most_similar(positive=['homme', 'roi'], negative=['femme']))"
   ]
  },
  {
   "cell_type": "code",
   "execution_count": 49,
   "metadata": {},
   "outputs": [
    {
     "name": "stdout",
     "output_type": "stream",
     "text": [
      "[('londres', 0.5867902040481567), ('gand', 0.5701483488082886), ('lille', 0.5545138120651245), ('strasbourg', 0.5509448647499084), ('manchester', 0.5442072749137878), ('liege', 0.5433911681175232), ('hambourg', 0.53736811876297), ('verviers', 0.5217142105102539), ('prague', 0.5190670490264893), ('amsterdam', 0.5169219970703125)]\n"
     ]
    }
   ],
   "source": [
    "print(model.wv.most_similar(positive=['bruxelles', 'paris'], negative=['belgique']))"
   ]
  },
  {
   "cell_type": "markdown",
   "metadata": {},
   "source": [
    "### Modèle 14 : Vecteur 100 et fenêtre 13"
   ]
  },
  {
   "cell_type": "code",
   "execution_count": 50,
   "metadata": {},
   "outputs": [
    {
     "name": "stdout",
     "output_type": "stream",
     "text": [
      "CPU times: user 57min 44s, sys: 1min 12s, total: 58min 57s\n",
      "Wall time: 18min 45s\n"
     ]
    }
   ],
   "source": [
    "%%time\n",
    "model = Word2Vec(\n",
    "    corpus, # On passe le corpus de ngrams que nous venons de créer\n",
    "    vector_size=100, # Le nombre de dimensions dans lesquelles le contexte des mots devra être réduit, aka. vector_size\n",
    "    window=13, # La taille du \"contexte\", ici 5 mots avant et après le mot observé\n",
    "    min_count=2, # On ignore les mots qui n'apparaissent pas au moins 5 fois dans le corpus\n",
    "    workers=4, # Permet de paralléliser l'entraînement du modèle en 4 threads\n",
    "    epochs=10 # Nombre d'itérations du réseau de neurones sur le jeu de données pour ajuster les paramètres avec la descende de gradient, aka. epochs.\n",
    ")"
   ]
  },
  {
   "cell_type": "code",
   "execution_count": 51,
   "metadata": {},
   "outputs": [],
   "source": [
    "outfile = f\"../data/bulletins_14.model\"\n",
    "model.save(outfile)"
   ]
  },
  {
   "cell_type": "code",
   "execution_count": 52,
   "metadata": {},
   "outputs": [],
   "source": [
    "model = Word2Vec.load(\"../data/bulletins_14.model\")"
   ]
  },
  {
   "cell_type": "code",
   "execution_count": 53,
   "metadata": {},
   "outputs": [
    {
     "data": {
      "text/plain": [
       "array([-3.14808607e-01, -2.02222228e+00, -3.66169238e+00,  4.28409576e-01,\n",
       "        2.02761793e+00,  1.08896542e+00, -1.80558741e-01,  1.29934645e+00,\n",
       "        3.53410769e+00,  1.14933781e-01, -1.53659098e-02,  8.16034794e-01,\n",
       "        3.74506402e+00, -8.76322314e-02,  2.50448203e+00,  3.27910256e+00,\n",
       "        5.81417751e+00,  4.16030836e+00,  5.54160070e+00, -3.01619482e+00,\n",
       "        7.16032982e+00, -3.53323293e+00, -5.94187307e+00,  5.98532581e+00,\n",
       "        2.72803128e-01, -4.08051443e+00,  1.68708339e-01, -1.85459256e+00,\n",
       "        7.18670666e-01,  4.21209540e-03,  1.61055648e+00,  8.72412562e-01,\n",
       "        4.39906025e+00,  9.89009798e-01,  3.16437244e+00, -1.55942190e+00,\n",
       "        3.88595653e+00,  1.07271934e+00, -1.27110615e-01, -1.23921764e+00,\n",
       "       -6.21512413e+00,  2.40721464e+00, -2.61588335e+00,  6.43322170e-01,\n",
       "       -1.15487814e+00, -5.11716557e+00, -2.07160139e+00,  1.46752000e+00,\n",
       "        1.20237017e+00,  2.73816276e+00, -7.97673643e-01,  1.02384746e-01,\n",
       "       -1.03925812e+00, -2.83131576e+00, -1.45275986e+00,  2.09489369e+00,\n",
       "        8.93167317e-01, -3.50899130e-01, -1.04642069e+00,  5.95531106e-01,\n",
       "        4.09128618e+00,  3.36950731e+00, -3.70005608e-01,  5.62855661e-01,\n",
       "       -1.43891644e+00, -1.56406832e+00, -5.24922490e-01,  6.13539934e+00,\n",
       "       -4.19535875e+00, -2.88292384e+00, -6.75601542e-01,  3.31031704e+00,\n",
       "       -4.74075413e+00, -2.46114492e+00,  1.30810964e+00,  1.11558092e+00,\n",
       "       -2.60454774e-01, -5.44302702e-01,  3.43293214e+00, -1.99620688e+00,\n",
       "        2.98229432e+00,  7.39201903e-01, -3.36307979e+00,  2.02619863e+00,\n",
       "       -4.72004451e-02,  6.52731478e-01,  3.03169847e+00, -1.99660635e+00,\n",
       "       -4.65850383e-01, -3.33106875e-01, -4.27502155e+00,  2.19137955e+00,\n",
       "       -2.44276214e+00, -2.18838835e+00, -4.03079319e+00, -3.62055087e+00,\n",
       "       -3.38974738e+00,  7.77449083e+00, -1.29704857e+00, -1.96285510e+00],\n",
       "      dtype=float32)"
      ]
     },
     "execution_count": 53,
     "metadata": {},
     "output_type": "execute_result"
    }
   ],
   "source": [
    "model.wv[\"bruxelles\"]"
   ]
  },
  {
   "cell_type": "code",
   "execution_count": 54,
   "metadata": {},
   "outputs": [
    {
     "data": {
      "text/plain": [
       "0.6723962"
      ]
     },
     "execution_count": 54,
     "metadata": {},
     "output_type": "execute_result"
    }
   ],
   "source": [
    "model.wv.similarity(\"boucher\", \"boulanger\")"
   ]
  },
  {
   "cell_type": "code",
   "execution_count": 55,
   "metadata": {},
   "outputs": [
    {
     "data": {
      "text/plain": [
       "0.31495377"
      ]
     },
     "execution_count": 55,
     "metadata": {},
     "output_type": "execute_result"
    }
   ],
   "source": [
    "model.wv.similarity(\"voiture\", \"carrosse\")"
   ]
  },
  {
   "cell_type": "code",
   "execution_count": 56,
   "metadata": {},
   "outputs": [
    {
     "data": {
      "text/plain": [
       "[('xelles', 0.6420583724975586),\n",
       " ('bruxelle', 0.6356337070465088),\n",
       " ('manufacturiere', 0.6315798759460449),\n",
       " ('nivelles', 0.6286843419075012),\n",
       " ('liege', 0.6279160976409912),\n",
       " ('dette_active', 0.6258662939071655),\n",
       " ('rruxelles', 0.620442807674408),\n",
       " ('tournai', 0.584047257900238),\n",
       " ('bruxe', 0.5773397088050842),\n",
       " ('prague', 0.5762890577316284)]"
      ]
     },
     "execution_count": 56,
     "metadata": {},
     "output_type": "execute_result"
    }
   ],
   "source": [
    "model.wv.most_similar(\"bruxelles\", topn=10)"
   ]
  },
  {
   "cell_type": "code",
   "execution_count": 57,
   "metadata": {},
   "outputs": [
    {
     "data": {
      "text/plain": [
       "[('charcutier', 0.7419087290763855),\n",
       " ('batelier', 0.7248253226280212),\n",
       " ('cabaretier', 0.7033025622367859),\n",
       " ('marchand', 0.6830555200576782),\n",
       " ('serrurier', 0.6813036799430847),\n",
       " ('menuisier', 0.6732695698738098),\n",
       " ('boulanger', 0.672396183013916),\n",
       " ('abatteur', 0.6655840277671814),\n",
       " ('meunier', 0.6591508984565735),\n",
       " ('tailleur', 0.6587807536125183)]"
      ]
     },
     "execution_count": 57,
     "metadata": {},
     "output_type": "execute_result"
    }
   ],
   "source": [
    "model.wv.most_similar(\"boucher\", topn=10)"
   ]
  },
  {
   "cell_type": "code",
   "execution_count": 58,
   "metadata": {},
   "outputs": [
    {
     "name": "stdout",
     "output_type": "stream",
     "text": [
      "[('londres', 0.627091646194458), ('prague', 0.6158853769302368), ('liege', 0.6125531792640686), ('paris', 0.6043033599853516), ('manchester', 0.602205216884613), ('lille', 0.5956189632415771), ('ostende', 0.5921670794487), ('tournai', 0.5895686149597168), ('huy', 0.588439404964447), ('verviers', 0.5736773014068604)]\n"
     ]
    }
   ],
   "source": [
    "print(model.wv.most_similar(positive=['bruxelles', 'france'], negative=['belgique']))"
   ]
  },
  {
   "cell_type": "code",
   "execution_count": 59,
   "metadata": {},
   "outputs": [
    {
     "name": "stdout",
     "output_type": "stream",
     "text": [
      "[('prince', 0.612407922744751), ('magistrat', 0.5882052779197693), ('souverain', 0.5804455876350403), ('parlement', 0.5735340714454651), ('congres_national', 0.5685485601425171), ('peuple', 0.5683119297027588), ('citoyen', 0.5606240630149841), ('homme_politique', 0.5573277473449707), ('geste', 0.5502994060516357), ('penseur', 0.5411233901977539)]\n"
     ]
    }
   ],
   "source": [
    "print(model.wv.most_similar(positive=['homme', 'roi'], negative=['femme']))"
   ]
  },
  {
   "cell_type": "code",
   "execution_count": 60,
   "metadata": {},
   "outputs": [
    {
     "name": "stdout",
     "output_type": "stream",
     "text": [
      "[('collegue', 0.5705028772354126), ('defenseur', 0.5656442642211914), ('ministre', 0.5545243620872498), ('scrupule', 0.542506217956543), ('geste', 0.5404203534126282), ('conseiller', 0.538261890411377), ('premier_ministre', 0.5310626029968262), ('prob', 0.5282989740371704), ('nistre', 0.5277909636497498), ('discours', 0.5143312811851501)]\n"
     ]
    }
   ],
   "source": [
    "print(model.wv.most_similar(positive=['homme', 'bourgmestre'], negative=['femme']))"
   ]
  },
  {
   "cell_type": "code",
   "execution_count": 61,
   "metadata": {},
   "outputs": [
    {
     "name": "stdout",
     "output_type": "stream",
     "text": [
      "[('rruxelles', 0.5320407152175903), ('manufacturiere', 0.5163587927818298), ('bruxelle', 0.5104468464851379), ('bruxeves', 0.4848758578300476), ('bruxelles_previent', 0.4795002043247223), ('baron_steens', 0.4618682861328125), ('nivelles', 0.45592978596687317), ('anversoise', 0.45487308502197266), ('bruxe', 0.45260101556777954), ('binche', 0.45215967297554016)]\n"
     ]
    }
   ],
   "source": [
    "print(model.wv.most_similar(positive=['bourgmestre', 'bruxelles'], negative=['echevin']))"
   ]
  },
  {
   "cell_type": "code",
   "execution_count": 62,
   "metadata": {},
   "outputs": [
    {
     "name": "stdout",
     "output_type": "stream",
     "text": [
      "[('dette_active', 0.5938431024551392), ('rruxelles', 0.5544723272323608), ('bruxeves', 0.5492538213729858), ('lhotel', 0.5239477157592773), ('bruxelle', 0.5142613053321838), ('brussel_bruxelles_gemeenteblad', 0.5085204839706421), ('xelles', 0.5079637765884399), ('bruxe', 0.5027642250061035), ('jumeaux_naissances', 0.4880010783672333), ('immobilisations_propres', 0.4863151013851166)]\n"
     ]
    }
   ],
   "source": [
    "print(model.wv.most_similar(positive=['bruxelles', 'belgique'], negative=['france']))"
   ]
  },
  {
   "cell_type": "markdown",
   "metadata": {},
   "source": [
    "### Modèle 15 : 300 dimensions et élargissement de la fenêtre à 13 et entrainement ++"
   ]
  },
  {
   "cell_type": "code",
   "execution_count": 63,
   "metadata": {},
   "outputs": [
    {
     "name": "stdout",
     "output_type": "stream",
     "text": [
      "CPU times: user 1h 50min 13s, sys: 4min 58s, total: 1h 55min 11s\n",
      "Wall time: 32min 57s\n"
     ]
    }
   ],
   "source": [
    "%%time\n",
    "model = Word2Vec(\n",
    "    corpus, # On passe le corpus de ngrams que nous venons de créer\n",
    "    vector_size=300, # Le nombre de dimensions dans lesquelles le contexte des mots devra être réduit, aka. vector_size\n",
    "    window=13, # La taille du \"contexte\", ici 5 mots avant et après le mot observé\n",
    "    min_count=2, # On ignore les mots qui n'apparaissent pas au moins 5 fois dans le corpus\n",
    "    workers=4, # Permet de paralléliser l'entraînement du modèle en 4 threads\n",
    "    epochs=10 # Nombre d'itérations du réseau de neurones sur le jeu de données pour ajuster les paramètres avec la descende de gradient, aka. epochs.\n",
    ")"
   ]
  },
  {
   "cell_type": "code",
   "execution_count": 64,
   "metadata": {},
   "outputs": [],
   "source": [
    "outfile = f\"../data/bulletins_15.model\"\n",
    "model.save(outfile)"
   ]
  },
  {
   "cell_type": "code",
   "execution_count": 65,
   "metadata": {},
   "outputs": [],
   "source": [
    "model = Word2Vec.load(\"../data/bulletins_15.model\")"
   ]
  },
  {
   "cell_type": "code",
   "execution_count": 66,
   "metadata": {},
   "outputs": [
    {
     "data": {
      "text/plain": [
       "array([-1.6131113e+00, -1.7705723e+00,  1.5323797e+00, -1.0271399e+00,\n",
       "       -1.3975497e+00,  1.2016973e+00,  5.1747388e-01, -4.9310511e-01,\n",
       "       -4.8463640e-01,  3.3092864e+00,  1.5544190e+00,  3.7663591e+00,\n",
       "        2.4313972e+00,  1.5103762e-01, -5.0827867e-01, -2.4846964e+00,\n",
       "        1.9778758e+00,  3.1144278e+00,  1.2442329e+00,  1.1813360e+00,\n",
       "        1.3347781e+00,  2.2994943e+00,  1.0616659e+00,  1.8465179e+00,\n",
       "       -1.6029588e+00, -2.0999169e+00,  1.4347253e+00, -8.6572230e-02,\n",
       "        2.5102215e+00, -3.3589727e-01,  3.8957560e-01, -4.4208968e-01,\n",
       "        1.2430557e+00,  2.9331477e+00,  1.0393891e+00,  3.4847264e+00,\n",
       "        7.7900916e-02,  3.5337523e-01,  4.1654860e-03,  8.0260283e-01,\n",
       "       -3.1242816e+00,  1.0474235e+00,  4.0889068e+00,  1.4083492e+00,\n",
       "        1.3219323e-02, -3.6417234e+00, -3.8513380e-01,  3.4908571e+00,\n",
       "        3.2785473e+00,  2.0484619e-01,  1.8237715e+00,  2.9266566e-01,\n",
       "        1.1467165e-04,  2.0547850e+00, -8.1822497e-01,  1.0596249e+00,\n",
       "       -1.5699705e+00,  9.4141728e-01, -1.4681548e+00,  1.5754983e+00,\n",
       "       -9.0586203e-01, -4.8045653e-01,  2.2197478e+00, -1.6973757e+00,\n",
       "        1.9935062e+00,  2.8799454e-02, -5.9724534e-01,  1.7639343e+00,\n",
       "        1.0429387e+00,  2.5202932e+00, -9.7369349e-01, -1.2179576e+00,\n",
       "        1.7919966e+00,  2.7895930e+00,  3.3357327e+00, -2.5919347e+00,\n",
       "       -3.8015941e-01, -9.8001832e-01, -3.9788908e-01, -2.5915706e+00,\n",
       "       -1.0983459e+00, -1.9010030e+00, -1.7499024e+00,  1.0889924e+00,\n",
       "        1.8954271e+00, -6.7112702e-01,  1.1685658e+00, -1.2595842e+00,\n",
       "        2.3895297e+00,  1.8918415e+00,  1.2111511e+00,  1.7332643e+00,\n",
       "        5.3677136e-01,  1.2131648e+00,  1.0811765e+00,  1.7327340e+00,\n",
       "       -4.1134334e+00, -2.4676695e+00, -1.5494671e-01, -2.7865093e+00,\n",
       "       -1.5382141e+00,  2.3704118e-01, -1.0034945e+00,  5.2889669e-01,\n",
       "       -1.0837891e+00, -6.6547960e-01, -1.0897305e+00, -5.8187079e-02,\n",
       "        1.0473198e+00, -1.8573308e+00,  8.4388888e-01,  1.1559817e+00,\n",
       "        2.7739218e-01, -2.2295289e+00,  1.2062513e+00, -2.8481553e+00,\n",
       "       -1.7793074e+00, -1.2541910e+00,  2.1786935e+00, -2.6232426e+00,\n",
       "        1.6873652e+00, -1.5240554e+00,  2.2790654e-01,  3.1254544e+00,\n",
       "        1.3437678e+00,  4.6419482e+00, -1.3385847e+00,  1.8710762e-01,\n",
       "       -2.2318063e+00, -2.3988245e+00,  1.8970907e+00, -4.4435713e-01,\n",
       "       -7.5682563e-01,  8.2861936e-01,  1.3096223e+00, -1.1357658e+00,\n",
       "       -2.2046945e+00,  9.1410244e-01,  2.5770159e+00, -2.7483764e+00,\n",
       "        8.8282883e-01, -5.4392636e-01,  2.1012761e-02, -5.7745996e+00,\n",
       "       -2.4327934e+00, -1.8205246e+00, -2.1237040e+00, -1.1887921e+00,\n",
       "       -2.4481940e+00, -3.0649519e-01, -1.4090458e+00,  2.4587827e-02,\n",
       "        9.1654277e-01,  2.0563216e+00, -2.9831686e+00, -1.5843033e+00,\n",
       "        2.3020630e+00,  2.3312795e+00,  8.6006826e-01, -2.8899565e+00,\n",
       "       -3.2783896e-01,  8.8198775e-01, -6.5605241e-01, -1.1836312e-01,\n",
       "        3.5944507e+00, -1.5196357e+00,  4.3603168e+00, -3.7614193e+00,\n",
       "        1.8241021e-01, -1.3426150e-01, -3.9290294e-01, -4.6453261e-01,\n",
       "        3.5029626e+00,  3.5359325e+00, -1.1311519e+00, -3.1305509e+00,\n",
       "       -2.6745136e+00,  1.7888087e+00,  7.9921275e-01,  2.8251491e+00,\n",
       "        1.4584432e+00,  5.4749560e-01, -1.7038648e+00,  7.1686327e-01,\n",
       "        1.5138417e+00,  5.8640480e-01, -2.6881926e+00,  2.0218630e+00,\n",
       "        2.2532918e-02, -1.9340351e+00, -4.4668654e-01, -1.0271069e+00,\n",
       "        1.0417901e+00, -2.8119701e-01,  1.4837624e+00,  5.5666983e-01,\n",
       "        1.1624539e+00, -2.1507771e+00,  1.9277667e+00, -2.3321989e+00,\n",
       "       -1.4625580e+00,  3.0040429e+00,  2.6749036e-01, -1.0494055e+00,\n",
       "        9.4258350e-01, -1.6159763e+00,  7.6352574e-02, -2.1958116e-01,\n",
       "       -1.6931783e+00,  3.1874938e+00, -8.4859365e-01, -1.1154346e+00,\n",
       "        1.3904338e+00, -5.0606985e+00,  4.4268256e-01,  1.9754231e+00,\n",
       "       -4.7802252e-01,  1.5707386e+00,  1.8064225e+00, -1.7757994e+00,\n",
       "       -1.8729608e+00, -7.2404683e-01,  1.3162598e-01, -2.8690284e-01,\n",
       "       -2.2584598e+00, -1.2489241e+00,  2.8486636e+00, -1.0599704e+00,\n",
       "       -1.4487343e+00, -7.7244866e-01, -1.6063505e+00, -1.2386450e+00,\n",
       "       -5.4446882e-01,  6.1442822e-01, -2.7353179e+00, -1.2970808e+00,\n",
       "        1.2548088e+00, -6.4250529e-01, -2.0253885e+00,  8.4402211e-02,\n",
       "       -1.3297573e+00,  3.2465512e-01,  2.4611490e+00, -2.5002406e+00,\n",
       "       -4.8761320e-01, -1.4239441e+00,  1.7287792e+00, -1.1808339e+00,\n",
       "       -1.2793475e+00,  6.5966773e-01,  9.5638967e-01,  3.3824267e+00,\n",
       "       -8.2373567e-02,  1.6076959e+00, -3.1195514e+00,  7.9439187e-01,\n",
       "       -2.9659876e-01, -2.1755221e+00, -2.1612787e+00,  2.1795623e-01,\n",
       "        2.6556385e+00, -2.7846763e+00,  5.2561102e+00,  1.2910104e+00,\n",
       "       -1.3408247e+00, -1.6787289e+00, -1.9447473e-01, -1.1148943e+00,\n",
       "        1.2260828e+00,  5.9092336e+00,  1.1756316e+00,  4.1152918e-01,\n",
       "       -1.9085208e+00,  7.6121086e-01,  1.4344965e+00,  1.7763417e+00,\n",
       "        2.1326654e+00, -7.1528000e-01, -1.4871061e-01,  1.8970029e+00,\n",
       "       -3.5929635e-01, -2.4077418e+00, -8.7055403e-01,  6.7408675e-01,\n",
       "        9.9971491e-01, -1.0238415e+00,  1.6650914e+00,  1.0577134e+00,\n",
       "       -1.5540500e+00,  8.5688835e-01,  9.7953343e-01, -3.8138479e-01,\n",
       "        1.7372566e+00, -1.9563298e+00, -9.6775913e-01, -7.6037532e-01,\n",
       "       -4.8800712e-03, -4.4289967e-01,  5.2351820e-01, -1.5635941e+00],\n",
       "      dtype=float32)"
      ]
     },
     "execution_count": 66,
     "metadata": {},
     "output_type": "execute_result"
    }
   ],
   "source": [
    "model.wv[\"bruxelles\"]"
   ]
  },
  {
   "cell_type": "code",
   "execution_count": 67,
   "metadata": {},
   "outputs": [
    {
     "data": {
      "text/plain": [
       "0.5587284"
      ]
     },
     "execution_count": 67,
     "metadata": {},
     "output_type": "execute_result"
    }
   ],
   "source": [
    "model.wv.similarity(\"boucher\", \"boulanger\")"
   ]
  },
  {
   "cell_type": "code",
   "execution_count": 68,
   "metadata": {},
   "outputs": [
    {
     "data": {
      "text/plain": [
       "0.26498124"
      ]
     },
     "execution_count": 68,
     "metadata": {},
     "output_type": "execute_result"
    }
   ],
   "source": [
    "model.wv.similarity(\"voiture\", \"carrosse\")"
   ]
  },
  {
   "cell_type": "code",
   "execution_count": 69,
   "metadata": {},
   "outputs": [
    {
     "data": {
      "text/plain": [
       "[('rruxelles', 0.5277640223503113),\n",
       " ('dette_active', 0.49114567041397095),\n",
       " ('liege', 0.48792389035224915),\n",
       " ('bruxelle', 0.4822578728199005),\n",
       " ('manufacturiere', 0.4812834858894348),\n",
       " ('nivelles', 0.4720197021961212),\n",
       " ('xelles', 0.4664071798324585),\n",
       " ('binche', 0.4439750015735626),\n",
       " ('verviers', 0.44394662976264954),\n",
       " ('tournai', 0.4434230625629425)]"
      ]
     },
     "execution_count": 69,
     "metadata": {},
     "output_type": "execute_result"
    }
   ],
   "source": [
    "model.wv.most_similar(\"bruxelles\", topn=10)"
   ]
  },
  {
   "cell_type": "code",
   "execution_count": 70,
   "metadata": {},
   "outputs": [
    {
     "data": {
      "text/plain": [
       "[('charcutier', 0.5835238695144653),\n",
       " ('cordonnier', 0.5590786933898926),\n",
       " ('boulanger', 0.5587283372879028),\n",
       " ('menuisier', 0.5515034794807434),\n",
       " ('abatteur', 0.551483154296875),\n",
       " ('tailleur', 0.5508565306663513),\n",
       " ('cabaretier', 0.5470849871635437),\n",
       " ('serrurier', 0.5364952683448792),\n",
       " ('coiffeur', 0.5345790386199951),\n",
       " ('marchand', 0.5307872891426086)]"
      ]
     },
     "execution_count": 70,
     "metadata": {},
     "output_type": "execute_result"
    }
   ],
   "source": [
    "model.wv.most_similar(\"boucher\", topn=10)"
   ]
  },
  {
   "cell_type": "code",
   "execution_count": 71,
   "metadata": {},
   "outputs": [
    {
     "name": "stdout",
     "output_type": "stream",
     "text": [
      "[('londres', 0.48951879143714905), ('liege', 0.4573286175727844), ('manchester', 0.4476049840450287), ('milan', 0.4397909343242645), ('ostende', 0.4391721785068512), ('prague', 0.4373452961444855), ('marseille', 0.4363729953765869), ('paris', 0.4332381784915924), ('verviers', 0.4286613166332245), ('lille', 0.42616918683052063)]\n"
     ]
    }
   ],
   "source": [
    "print(model.wv.most_similar(positive=['bruxelles', 'france'], negative=['belgique']))"
   ]
  },
  {
   "cell_type": "code",
   "execution_count": 72,
   "metadata": {},
   "outputs": [
    {
     "name": "stdout",
     "output_type": "stream",
     "text": [
      "[('souverain', 0.4747852385044098), ('prince', 0.45544907450675964), ('citoyen', 0.4522494375705719), ('magistrat', 0.44988343119621277), ('peuple', 0.44894155859947205), ('congres_national', 0.43645983934402466), ('peuple_belge', 0.43318602442741394), ('geste', 0.43007296323776245), ('soldat', 0.42618703842163086), ('gouvernement', 0.4182727634906769)]\n"
     ]
    }
   ],
   "source": [
    "print(model.wv.most_similar(positive=['homme', 'roi'], negative=['femme']))"
   ]
  },
  {
   "cell_type": "code",
   "execution_count": 73,
   "metadata": {},
   "outputs": [
    {
     "name": "stdout",
     "output_type": "stream",
     "text": [
      "[('collegue', 0.4349214434623718), ('conseiller', 0.43413612246513367), ('geste', 0.43205609917640686), ('scrupule', 0.42409834265708923), ('citoyen', 0.4215727150440216), ('journaliste', 0.4145069718360901), ('confrere', 0.41157031059265137), ('organe', 0.4087005853652954), ('defenseur', 0.408004492521286), ('college', 0.40521830320358276)]\n"
     ]
    }
   ],
   "source": [
    "print(model.wv.most_similar(positive=['homme', 'bourgmestre'], negative=['femme']))"
   ]
  },
  {
   "cell_type": "code",
   "execution_count": 74,
   "metadata": {},
   "outputs": [
    {
     "name": "stdout",
     "output_type": "stream",
     "text": [
      "[('manufacturiere', 0.3887120485305786), ('rruxelles', 0.38367435336112976), ('berne', 0.37505900859832764), ('liege', 0.36691057682037354), ('thudinie', 0.3605770170688629), ('nivelles', 0.360552042722702), ('verviers', 0.3577989637851715), ('huy', 0.3493027985095978), ('xelles', 0.34713125228881836), ('dette_active', 0.34653908014297485)]\n"
     ]
    }
   ],
   "source": [
    "print(model.wv.most_similar(positive=['bourgmestre', 'bruxelles'], negative=['echevin']))"
   ]
  },
  {
   "cell_type": "code",
   "execution_count": 75,
   "metadata": {},
   "outputs": [
    {
     "name": "stdout",
     "output_type": "stream",
     "text": [
      "[('londres', 0.5025566220283508), ('liege', 0.4976400136947632), ('gand', 0.49677982926368713), ('ostende', 0.47121167182922363), ('manchester', 0.46761396527290344), ('amsterdam', 0.4648502469062805), ('lille', 0.4556922912597656), ('hambourg', 0.436231791973114), ('marseille', 0.4356374144554138), ('verviers', 0.4276580810546875)]\n"
     ]
    }
   ],
   "source": [
    "print(model.wv.most_similar(positive=['bruxelles', 'paris'], negative=['belgique']))"
   ]
  },
  {
   "cell_type": "code",
   "execution_count": 76,
   "metadata": {},
   "outputs": [
    {
     "name": "stdout",
     "output_type": "stream",
     "text": [
      "[('obeissance', 0.5646178126335144), ('peuple_belge', 0.5225080251693726), ('<<_je_jure', 0.5205273628234863), ('serment_suivant', 0.4406374394893646), ('je_jure_fidelite', 0.42930683493614197), ('bon_sens', 0.4198843538761139), ('solennel_hommage', 0.4143155813217163), ('attachement', 0.40777382254600525), ('juste_hommage', 0.40399980545043945), ('serment_constitutionnel', 0.40388408303260803)]\n"
     ]
    }
   ],
   "source": [
    "print(model.wv.most_similar(positive=['homme', 'fidelite'], negative=['femme']))"
   ]
  },
  {
   "cell_type": "code",
   "execution_count": 78,
   "metadata": {},
   "outputs": [
    {
     "name": "stdout",
     "output_type": "stream",
     "text": [
      "[('<<_je_jure', 0.5334307551383972), ('obeissance', 0.5174692273139954), ('je_jure_fidelite', 0.5028979778289795), ('serment_suivant', 0.425331175327301), ('serment_constitutionnel', 0.41269707679748535), ('famille_royale', 0.3903077244758606), ('jure_fidelite', 0.38963350653648376), ('cousine', 0.3626801073551178), ('fille', 0.3621591627597809), ('peuple_belge', 0.3595965504646301)]\n"
     ]
    }
   ],
   "source": [
    "print(model.wv.most_similar(positive=['femme', 'fidelite'], negative=['homme']))"
   ]
  },
  {
   "cell_type": "markdown",
   "metadata": {},
   "source": [
    "### Modèle 16 : Vecteur 300, fenêtre 10"
   ]
  },
  {
   "cell_type": "code",
   "execution_count": 79,
   "metadata": {},
   "outputs": [
    {
     "name": "stdout",
     "output_type": "stream",
     "text": [
      "CPU times: user 2h 5min 22s, sys: 6min 26s, total: 2h 11min 48s\n",
      "Wall time: 38min 53s\n"
     ]
    }
   ],
   "source": [
    "%%time\n",
    "model = Word2Vec(\n",
    "    corpus, # On passe le corpus de ngrams que nous venons de créer\n",
    "    vector_size=300, # Le nombre de dimensions dans lesquelles le contexte des mots devra être réduit, aka. vector_size\n",
    "    window=10, # La taille du \"contexte\", ici 5 mots avant et après le mot observé\n",
    "    min_count=2, # On ignore les mots qui n'apparaissent pas au moins 5 fois dans le corpus\n",
    "    workers=4, # Permet de paralléliser l'entraînement du modèle en 4 threads\n",
    "    epochs=10 # Nombre d'itérations du réseau de neurones sur le jeu de données pour ajuster les paramètres avec la descende de gradient, aka. epochs.\n",
    ")"
   ]
  },
  {
   "cell_type": "code",
   "execution_count": 80,
   "metadata": {},
   "outputs": [],
   "source": [
    "outfile = f\"../data/bulletins_16.model\"\n",
    "model.save(outfile)"
   ]
  },
  {
   "cell_type": "code",
   "execution_count": 81,
   "metadata": {},
   "outputs": [],
   "source": [
    "model = Word2Vec.load(\"../data/bulletins_16.model\")"
   ]
  },
  {
   "cell_type": "code",
   "execution_count": 82,
   "metadata": {},
   "outputs": [
    {
     "data": {
      "text/plain": [
       "array([-1.0579622e+00, -5.6169719e-01,  1.1898893e+00, -3.8814965e-01,\n",
       "        2.2468174e-01, -1.8987186e+00, -6.1882597e-01,  4.1828978e-01,\n",
       "       -2.8047802e+00,  3.3881884e+00,  9.3040264e-01,  2.7897813e+00,\n",
       "        4.0321007e-01,  1.6594656e+00,  5.3586769e-01, -1.0323501e+00,\n",
       "        1.4026655e+00, -5.4061049e-01, -1.3939899e+00,  1.8595953e-01,\n",
       "        3.8109545e-02,  1.4204879e-01,  1.7486145e+00, -1.0764769e+00,\n",
       "       -2.5238070e+00, -9.3505830e-01,  2.0750864e+00, -1.4975587e+00,\n",
       "        1.8201261e+00, -1.4629894e+00,  1.7497315e+00, -2.8160000e+00,\n",
       "        7.1919709e-01,  1.1690323e+00,  2.8720286e+00, -1.9213365e+00,\n",
       "       -2.9598197e-01, -3.0847213e+00,  1.3518298e+00,  1.7768536e+00,\n",
       "       -1.1930108e-02,  1.6791235e+00,  8.1502736e-01, -1.2119979e+00,\n",
       "       -2.0136635e+00, -2.9949892e+00, -1.5466478e+00,  2.2385702e-02,\n",
       "        1.9664036e+00, -3.3665806e-02, -3.4102303e-01,  3.4911290e-01,\n",
       "       -2.1772516e-01, -5.7361478e-01,  6.8714750e-01,  4.0961426e-01,\n",
       "       -2.5359926e+00,  8.3706892e-01, -6.3992357e-01,  5.4395932e-01,\n",
       "        2.1028919e+00, -1.0913134e+00,  8.7541467e-01, -8.6459881e-01,\n",
       "       -4.7651103e-01, -1.5188177e+00, -1.3075860e+00,  2.5937347e+00,\n",
       "       -2.2527866e-01,  3.9821541e-01,  3.4773687e-01,  6.0517627e-01,\n",
       "        9.1116899e-01, -3.3391023e-01,  6.6432792e-01,  4.1271237e-01,\n",
       "       -2.1701686e+00,  2.9438010e-01, -1.2129364e+00, -6.6774744e-01,\n",
       "        1.5602421e+00,  5.8363706e-01, -1.5905459e+00,  9.6374202e-01,\n",
       "       -1.5948284e-01, -1.8368030e-01, -4.3013892e-01, -2.7111888e-01,\n",
       "       -3.9614673e+00, -1.2527710e+00, -1.8201123e-01,  4.0168839e+00,\n",
       "        5.1260751e-01, -2.5976655e-01,  8.3374774e-01, -5.6148189e-01,\n",
       "       -1.6690389e+00, -2.8347392e+00, -2.5883226e+00, -1.8792224e+00,\n",
       "        2.6845040e+00, -1.5222888e+00,  3.5372581e+00,  4.3550989e-01,\n",
       "       -1.1201130e+00, -1.7123541e+00,  1.1487646e+00, -9.3618888e-01,\n",
       "       -3.1388655e+00, -1.4423348e+00, -1.6695120e-03, -6.6575605e-01,\n",
       "        2.7983243e+00, -3.3086390e+00,  3.2738948e-01, -2.1906641e+00,\n",
       "        4.3256581e-01,  1.1861079e+00,  3.4254901e+00, -6.0662878e-01,\n",
       "        4.7706622e-01, -1.3689953e+00, -1.1824485e+00,  1.8775155e-01,\n",
       "       -1.8320454e+00,  3.9455514e+00,  6.7390911e-02,  9.1990083e-01,\n",
       "        1.9766511e+00, -5.1799113e-01,  2.2935681e+00, -1.7408787e+00,\n",
       "       -1.7371730e+00,  1.7914683e+00, -8.0895936e-01,  8.4203774e-01,\n",
       "        1.0486292e+00,  3.0721433e+00,  6.5133744e-01, -1.8601871e+00,\n",
       "        1.7189823e-01, -5.1019782e-01, -8.1470841e-01, -3.4312034e+00,\n",
       "       -6.1833751e-01, -2.3457515e+00,  1.5805039e+00,  1.4974900e+00,\n",
       "        8.4945172e-01, -1.6774931e+00, -1.1292976e+00, -1.7401460e+00,\n",
       "        1.1930952e+00,  2.9540267e+00, -1.1678659e+00,  5.0355512e-01,\n",
       "        6.9425577e-01,  8.8315564e-01,  2.8828607e+00,  1.0675393e+00,\n",
       "       -2.4703374e+00,  2.1653447e+00, -4.2645326e-01,  1.1373382e+00,\n",
       "        1.8285282e+00,  2.0593729e+00, -2.6085720e+00, -2.8264880e+00,\n",
       "        1.7858249e+00,  1.0820153e+00,  2.6253781e-01, -1.1565372e+00,\n",
       "        1.5174520e-01,  2.0005803e+00,  9.5696014e-01,  1.3405132e+00,\n",
       "        9.4537675e-01,  3.0295184e+00,  3.9819143e+00,  9.2239487e-01,\n",
       "       -7.3112887e-01, -9.4696569e-01,  6.9947344e-01,  5.2712339e-01,\n",
       "       -2.5068930e-01, -7.5806016e-01,  4.4834188e-01, -2.2038088e+00,\n",
       "        2.2397642e+00, -2.2680311e+00,  4.4997302e-01,  1.7611700e+00,\n",
       "        1.1975138e+00, -1.0238297e+00, -8.9188677e-01,  1.8408860e+00,\n",
       "       -2.0458064e+00,  2.7115102e+00,  8.2842535e-01, -1.5864049e+00,\n",
       "       -5.9337270e-01, -5.0554395e-01,  3.0683186e+00, -7.7721429e-01,\n",
       "       -5.7932448e-01, -3.6269137e-01,  5.8189136e-01, -1.1547270e+00,\n",
       "       -3.3428717e+00,  1.1742526e+00, -1.4840324e-01, -1.4503804e+00,\n",
       "        2.2147081e+00,  2.3896587e+00,  8.5525727e-01,  2.7674294e+00,\n",
       "       -7.5497627e-02,  2.5097637e-03,  1.3767190e-01, -1.7824355e+00,\n",
       "       -1.3763068e+00,  1.6259890e+00,  2.4821630e-01,  7.0014870e-01,\n",
       "       -1.6155562e+00,  4.0356144e-01,  1.1818610e+00, -3.7532893e-01,\n",
       "        4.8941150e-01, -6.5879506e-01, -1.6004778e-01,  1.5075295e+00,\n",
       "        2.2496593e+00, -1.7220739e+00, -2.4596486e+00, -1.0387585e+00,\n",
       "       -2.5432518e+00,  9.4545519e-01, -1.4818355e+00,  5.8624583e-01,\n",
       "       -3.1661847e+00,  2.4586504e+00, -3.3561952e+00, -1.9175589e-01,\n",
       "       -3.2419366e-01,  2.7324051e-01, -2.4140661e+00, -1.2693213e+00,\n",
       "       -4.1762298e-01, -2.4063349e+00, -3.6870131e-01,  2.4927092e+00,\n",
       "       -8.2230076e-02,  1.9735998e+00, -1.7122780e+00,  1.1988859e+00,\n",
       "       -1.2816999e+00,  3.3964553e+00, -2.0308328e+00,  1.0921034e+00,\n",
       "        1.8893150e+00, -1.4521166e+00,  4.6404433e+00,  1.6933184e+00,\n",
       "       -4.2682390e+00, -2.3984470e+00, -1.3148863e+00, -1.3365489e-01,\n",
       "       -3.4282160e+00,  5.3905666e-01,  1.2100763e+00,  2.7785480e+00,\n",
       "       -8.2669342e-01, -1.1670627e-01, -2.6142082e+00,  9.1038197e-01,\n",
       "       -1.3692036e+00,  9.6155131e-01, -2.4455287e+00,  4.8596805e-01,\n",
       "       -1.1466814e+00, -2.7460670e+00, -1.8956473e+00, -2.4007496e-01,\n",
       "        9.8752999e-01, -3.6297232e-01,  1.1769141e+00,  9.1626513e-01,\n",
       "       -4.7967255e-01, -2.6784018e-01,  3.1406534e+00, -3.1474656e-01,\n",
       "       -7.8544247e-01, -1.3179039e+00,  1.3134021e+00, -1.7658781e-02,\n",
       "       -1.3406802e+00, -3.5436018e+00,  4.1002913e+00,  1.9917274e-01],\n",
       "      dtype=float32)"
      ]
     },
     "execution_count": 82,
     "metadata": {},
     "output_type": "execute_result"
    }
   ],
   "source": [
    "model.wv[\"bruxelles\"]"
   ]
  },
  {
   "cell_type": "code",
   "execution_count": 83,
   "metadata": {},
   "outputs": [
    {
     "data": {
      "text/plain": [
       "0.594906"
      ]
     },
     "execution_count": 83,
     "metadata": {},
     "output_type": "execute_result"
    }
   ],
   "source": [
    "model.wv.similarity(\"boucher\", \"boulanger\")"
   ]
  },
  {
   "cell_type": "code",
   "execution_count": 84,
   "metadata": {},
   "outputs": [
    {
     "data": {
      "text/plain": [
       "0.22808711"
      ]
     },
     "execution_count": 84,
     "metadata": {},
     "output_type": "execute_result"
    }
   ],
   "source": [
    "model.wv.similarity(\"voiture\", \"carrosse\")"
   ]
  },
  {
   "cell_type": "code",
   "execution_count": 85,
   "metadata": {},
   "outputs": [
    {
     "data": {
      "text/plain": [
       "[('nivelles', 0.5170215368270874),\n",
       " ('rruxelles', 0.5137457251548767),\n",
       " ('liege', 0.509574294090271),\n",
       " ('manufacturiere', 0.4940529763698578),\n",
       " ('tournai', 0.47900691628456116),\n",
       " ('prague', 0.47698986530303955),\n",
       " ('liruxelles', 0.47526562213897705),\n",
       " ('lille', 0.4690064787864685),\n",
       " ('xelles', 0.46365970373153687),\n",
       " ('huy', 0.4627675414085388)]"
      ]
     },
     "execution_count": 85,
     "metadata": {},
     "output_type": "execute_result"
    }
   ],
   "source": [
    "model.wv.most_similar(\"bruxelles\", topn=10)"
   ]
  },
  {
   "cell_type": "code",
   "execution_count": 86,
   "metadata": {},
   "outputs": [
    {
     "data": {
      "text/plain": [
       "[('cabaretier', 0.611894428730011),\n",
       " ('charcutier', 0.6005944609642029),\n",
       " ('boulanger', 0.5949059128761292),\n",
       " ('serrurier', 0.58980792760849),\n",
       " ('marchand', 0.5820729732513428),\n",
       " ('tapissier', 0.5787808299064636),\n",
       " ('menuisier', 0.5779645442962646),\n",
       " ('tailleur', 0.576256275177002),\n",
       " ('coiffeur', 0.5692282319068909),\n",
       " ('camionneur', 0.567164957523346)]"
      ]
     },
     "execution_count": 86,
     "metadata": {},
     "output_type": "execute_result"
    }
   ],
   "source": [
    "model.wv.most_similar(\"boucher\", topn=10)"
   ]
  },
  {
   "cell_type": "code",
   "execution_count": 87,
   "metadata": {},
   "outputs": [
    {
     "name": "stdout",
     "output_type": "stream",
     "text": [
      "[('lille', 0.4911900460720062), ('liege', 0.4882427453994751), ('londres', 0.4805184006690979), ('hambourg', 0.4721403121948242), ('huy', 0.46542081236839294), ('ostende', 0.46507900953292847), ('prague', 0.4622458219528198), ('tournai', 0.45100125670433044), ('nivelles', 0.446857213973999), ('verviers', 0.4414343535900116)]\n"
     ]
    }
   ],
   "source": [
    "print(model.wv.most_similar(positive=['bruxelles', 'france'], negative=['belgique']))"
   ]
  },
  {
   "cell_type": "code",
   "execution_count": 88,
   "metadata": {},
   "outputs": [
    {
     "name": "stdout",
     "output_type": "stream",
     "text": [
      "[('peuple', 0.45256468653678894), ('congres_national', 0.4514980912208557), ('prince', 0.44521579146385193), ('souverain', 0.43910712003707886), ('roi_albert', 0.4365619122982025), ('magistrat', 0.4359917640686035), ('citoyen', 0.43517181277275085), ('roi_guillaume', 0.43415313959121704), ('solennel_hommage', 0.4326202869415283), ('gouvernement', 0.43144482374191284)]\n"
     ]
    }
   ],
   "source": [
    "print(model.wv.most_similar(positive=['homme', 'roi'], negative=['femme']))"
   ]
  },
  {
   "cell_type": "code",
   "execution_count": 89,
   "metadata": {},
   "outputs": [
    {
     "name": "stdout",
     "output_type": "stream",
     "text": [
      "[('conseiller', 0.43390145897865295), ('defenseur', 0.4318047761917114), ('scrupule', 0.42873626947402954), ('collegue', 0.4235033392906189), ('ministre', 0.42178773880004883), ('juriste', 0.4213380813598633), ('citoyen', 0.4180642068386078), ('geste', 0.41071468591690063), ('homme_politique', 0.4049619734287262), ('premier_ministre', 0.40486839413642883)]\n"
     ]
    }
   ],
   "source": [
    "print(model.wv.most_similar(positive=['homme', 'bourgmestre'], negative=['femme']))"
   ]
  },
  {
   "cell_type": "code",
   "execution_count": 90,
   "metadata": {},
   "outputs": [
    {
     "name": "stdout",
     "output_type": "stream",
     "text": [
      "[('nivelles', 0.39674824476242065), ('manufacturiere', 0.39540737867355347), ('rruxelles', 0.39506372809410095), ('prague', 0.3835618197917938), ('liege', 0.3790830373764038), ('termonde', 0.3711857497692108), ('tournai', 0.36896225810050964), ('geneve', 0.3603479862213135), ('berne', 0.3585074245929718), ('oflert', 0.3570314943790436)]\n"
     ]
    }
   ],
   "source": [
    "print(model.wv.most_similar(positive=['bourgmestre', 'bruxelles'], negative=['echevin']))"
   ]
  },
  {
   "cell_type": "code",
   "execution_count": 91,
   "metadata": {},
   "outputs": [
    {
     "name": "stdout",
     "output_type": "stream",
     "text": [
      "[('londres', 0.5095242857933044), ('gand', 0.4988791048526764), ('liege', 0.49003878235816956), ('ostende', 0.48811212182044983), ('lille', 0.48261022567749023), ('hambourg', 0.45355549454689026), ('amsterdam', 0.43955713510513306), ('prague', 0.4376818537712097), ('tournai', 0.43189409375190735), ('bruges', 0.4308760166168213)]\n"
     ]
    }
   ],
   "source": [
    "print(model.wv.most_similar(positive=['bruxelles', 'paris'], negative=['belgique']))"
   ]
  },
  {
   "cell_type": "code",
   "execution_count": 92,
   "metadata": {},
   "outputs": [
    {
     "name": "stdout",
     "output_type": "stream",
     "text": [
      "[('obeissance', 0.5594314932823181), ('<<_je_jure', 0.5141829252243042), ('je_jure_fidelite', 0.4372416138648987), ('peuple_belge', 0.42120975255966187), ('sol_natal', 0.414111852645874), ('serment_suivant', 0.4088107645511627), ('solennel_hommage', 0.4080139696598053), ('citoyen', 0.4011800289154053), ('respect', 0.39841872453689575), ('attachement', 0.3957091271877289)]\n"
     ]
    }
   ],
   "source": [
    "print(model.wv.most_similar(positive=['homme', 'fidelite'], negative=['femme']))"
   ]
  },
  {
   "cell_type": "code",
   "execution_count": 93,
   "metadata": {},
   "outputs": [
    {
     "name": "stdout",
     "output_type": "stream",
     "text": [
      "[('obeissance', 0.49036070704460144), ('<<_je_jure', 0.4824706017971039), ('je_jure_fidelite', 0.4782809019088745), ('clause_relative', 0.43898582458496094), ('famille_royale', 0.3985356092453003), ('constance', 0.3898252844810486), ('serment_constitutionnel', 0.3866255283355713), ('tranquillite', 0.3846322000026703), ('tartine', 0.3830212354660034), ('sirene', 0.38232743740081787)]\n"
     ]
    }
   ],
   "source": [
    "print(model.wv.most_similar(positive=['femme', 'fidelite'], negative=['homme']))"
   ]
  },
  {
   "cell_type": "markdown",
   "metadata": {},
   "source": [
    "### Modèle 17 : Vecteur 300, fenêtre 13"
   ]
  },
  {
   "cell_type": "code",
   "execution_count": null,
   "metadata": {},
   "outputs": [],
   "source": [
    "%%time\n",
    "model = Word2Vec(\n",
    "    corpus, # On passe le corpus de ngrams que nous venons de créer\n",
    "    vector_size=300, # Le nombre de dimensions dans lesquelles le contexte des mots devra être réduit, aka. vector_size\n",
    "    window=13, # La taille du \"contexte\", ici 5 mots avant et après le mot observé\n",
    "    min_count=1, # On ignore les mots qui n'apparaissent pas au moins 5 fois dans le corpus\n",
    "    workers=4, # Permet de paralléliser l'entraînement du modèle en 4 threads\n",
    "    epochs=10 # Nombre d'itérations du réseau de neurones sur le jeu de données pour ajuster les paramètres avec la descende de gradient, aka. epochs.\n",
    ")"
   ]
  },
  {
   "cell_type": "code",
   "execution_count": null,
   "metadata": {},
   "outputs": [],
   "source": [
    "outfile = f\"../data/bulletins_17.model\"\n",
    "model.save(outfile)"
   ]
  },
  {
   "cell_type": "code",
   "execution_count": null,
   "metadata": {},
   "outputs": [],
   "source": [
    "model = Word2Vec.load(\"../data/bulletins_17.model\")"
   ]
  },
  {
   "cell_type": "code",
   "execution_count": null,
   "metadata": {},
   "outputs": [],
   "source": [
    "model.wv[\"bruxelles\"]"
   ]
  },
  {
   "cell_type": "code",
   "execution_count": null,
   "metadata": {},
   "outputs": [],
   "source": [
    "model.wv.similarity(\"boucher\", \"boulanger\")"
   ]
  },
  {
   "cell_type": "code",
   "execution_count": null,
   "metadata": {},
   "outputs": [],
   "source": [
    "model.wv.similarity(\"voiture\", \"carrosse\")"
   ]
  },
  {
   "cell_type": "code",
   "execution_count": null,
   "metadata": {},
   "outputs": [],
   "source": [
    "model.wv.most_similar(\"bruxelles\", topn=10)"
   ]
  },
  {
   "cell_type": "code",
   "execution_count": null,
   "metadata": {},
   "outputs": [],
   "source": [
    "model.wv.most_similar(\"boucher\", topn=10)"
   ]
  },
  {
   "cell_type": "code",
   "execution_count": null,
   "metadata": {},
   "outputs": [],
   "source": [
    "print(model.wv.most_similar(positive=['bruxelles', 'france'], negative=['belgique']))"
   ]
  },
  {
   "cell_type": "code",
   "execution_count": null,
   "metadata": {},
   "outputs": [],
   "source": [
    "print(model.wv.most_similar(positive=['homme', 'roi'], negative=['femme']))"
   ]
  },
  {
   "cell_type": "code",
   "execution_count": null,
   "metadata": {},
   "outputs": [],
   "source": [
    "print(model.wv.most_similar(positive=['homme', 'bourgmestre'], negative=['femme']))"
   ]
  },
  {
   "cell_type": "code",
   "execution_count": null,
   "metadata": {},
   "outputs": [],
   "source": [
    "print(model.wv.most_similar(positive=['bourgmestre', 'bruxelles'], negative=['echevin']))"
   ]
  },
  {
   "cell_type": "code",
   "execution_count": null,
   "metadata": {},
   "outputs": [],
   "source": [
    "print(model.wv.most_similar(positive=['bruxelles', 'paris'], negative=['belgique']))"
   ]
  },
  {
   "cell_type": "code",
   "execution_count": null,
   "metadata": {},
   "outputs": [],
   "source": [
    "print(model.wv.most_similar(positive=['homme', 'fidelite'], negative=['femme']))"
   ]
  },
  {
   "cell_type": "code",
   "execution_count": null,
   "metadata": {},
   "outputs": [],
   "source": [
    "print(model.wv.most_similar(positive=['femme', 'fidelite'], negative=['homme']))"
   ]
  },
  {
   "cell_type": "code",
   "execution_count": null,
   "metadata": {},
   "outputs": [],
   "source": [
    "print(model.wv.most_similar(positive=['femme', 'homme'], negative=['fidelite']))"
   ]
  }
 ],
 "metadata": {
  "kernelspec": {
   "display_name": "Python 3 (ipykernel)",
   "language": "python",
   "name": "python3"
  },
  "language_info": {
   "codemirror_mode": {
    "name": "ipython",
    "version": 3
   },
   "file_extension": ".py",
   "mimetype": "text/x-python",
   "name": "python",
   "nbconvert_exporter": "python",
   "pygments_lexer": "ipython3",
   "version": "3.9.7"
  }
 },
 "nbformat": 4,
 "nbformat_minor": 4
}
