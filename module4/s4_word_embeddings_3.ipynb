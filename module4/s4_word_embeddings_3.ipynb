{
 "cells": [
  {
   "cell_type": "markdown",
   "metadata": {},
   "source": [
    "# Word Embeddings : le modèle Word2Vec"
   ]
  },
  {
   "cell_type": "markdown",
   "metadata": {},
   "source": [
    "## Imports"
   ]
  },
  {
   "cell_type": "code",
   "execution_count": 1,
   "metadata": {},
   "outputs": [],
   "source": [
    "import sys\n",
    "\n",
    "from gensim.models.phrases import Phrases, Phraser\n",
    "from gensim.models import Word2Vec\n",
    "\n",
    "import nltk\n",
    "from nltk.tokenize import wordpunct_tokenize\n",
    "from unidecode import unidecode"
   ]
  },
  {
   "cell_type": "markdown",
   "metadata": {},
   "source": [
    "## Entrainement d'un modèle Word2Vec sur ce corpus (modèle 10)"
   ]
  },
  {
   "cell_type": "code",
   "execution_count": 17,
   "metadata": {},
   "outputs": [
    {
     "name": "stdout",
     "output_type": "stream",
     "text": [
      "CPU times: user 28min 15s, sys: 25.5 s, total: 28min 41s\n",
      "Wall time: 14min 13s\n"
     ]
    }
   ],
   "source": [
    "%%time\n",
    "model = Word2Vec(\n",
    "    corpus, # On passe le corpus de ngrams que nous venons de créer\n",
    "    vector_size=32, # Le nombre de dimensions dans lesquelles le contexte des mots devra être réduit, aka. vector_size\n",
    "    window=5, # La taille du \"contexte\", ici 5 mots avant et après le mot observé\n",
    "    min_count=2, # On ignore les mots qui n'apparaissent pas au moins 5 fois dans le corpus\n",
    "    workers=2, # Permet de paralléliser l'entraînement du modèle en 4 threads\n",
    "    epochs=10 # Nombre d'itérations du réseau de neurones sur le jeu de données pour ajuster les paramètres avec la descende de gradient, aka. epochs.\n",
    ")"
   ]
  },
  {
   "cell_type": "markdown",
   "metadata": {},
   "source": [
    "## Explorer le modèle"
   ]
  },
  {
   "cell_type": "code",
   "execution_count": 3,
   "metadata": {},
   "outputs": [],
   "source": [
    "model = Word2Vec.load(\"../data/bulletins_10.model\")"
   ]
  },
  {
   "cell_type": "markdown",
   "metadata": {},
   "source": [
    "### Calculer la similarité entre deux termes"
   ]
  },
  {
   "cell_type": "code",
   "execution_count": 4,
   "metadata": {},
   "outputs": [
    {
     "data": {
      "text/plain": [
       "0.88451433"
      ]
     },
     "execution_count": 4,
     "metadata": {},
     "output_type": "execute_result"
    }
   ],
   "source": [
    "model.wv.similarity(\"boucher\", \"boulanger\")"
   ]
  },
  {
   "cell_type": "code",
   "execution_count": 5,
   "metadata": {},
   "outputs": [
    {
     "data": {
      "text/plain": [
       "0.5493822"
      ]
     },
     "execution_count": 5,
     "metadata": {},
     "output_type": "execute_result"
    }
   ],
   "source": [
    "model.wv.similarity(\"homme\", \"femme\")"
   ]
  },
  {
   "cell_type": "code",
   "execution_count": 6,
   "metadata": {},
   "outputs": [
    {
     "data": {
      "text/plain": [
       "0.3774972"
      ]
     },
     "execution_count": 6,
     "metadata": {},
     "output_type": "execute_result"
    }
   ],
   "source": [
    "model.wv.similarity(\"voiture\", \"carrosse\")"
   ]
  },
  {
   "cell_type": "markdown",
   "metadata": {},
   "source": [
    "### Chercher les mots les plus proches d'un terme donné"
   ]
  },
  {
   "cell_type": "code",
   "execution_count": 7,
   "metadata": {},
   "outputs": [
    {
     "data": {
      "text/plain": [
       "[('laeken', 0.8489513397216797),\n",
       " ('paris', 0.8009144067764282),\n",
       " ('liege', 0.7990047335624695),\n",
       " ('nivelles', 0.7926765084266663),\n",
       " ('considere_comme_officiel', 0.7591863870620728),\n",
       " ('gand', 0.7544216513633728),\n",
       " ('rruxelles', 0.7373996376991272),\n",
       " ('huy', 0.7307796478271484),\n",
       " ('louvain', 0.7209203839302063),\n",
       " ('binche', 0.7185885310173035)]"
      ]
     },
     "execution_count": 7,
     "metadata": {},
     "output_type": "execute_result"
    }
   ],
   "source": [
    "model.wv.most_similar(\"bruxelles\", topn=10)"
   ]
  },
  {
   "cell_type": "code",
   "execution_count": 8,
   "metadata": {},
   "outputs": [
    {
     "data": {
      "text/plain": [
       "[('menuisier', 0.9059860110282898),\n",
       " ('batelier', 0.8974393010139465),\n",
       " ('marbrier', 0.8947756290435791),\n",
       " ('tailleur', 0.8872564435005188),\n",
       " ('boulanger', 0.8845143914222717),\n",
       " ('cordonnier', 0.8701961040496826),\n",
       " ('carrossier', 0.8672388195991516),\n",
       " ('commissionnaire', 0.8648064136505127),\n",
       " ('cabaretier', 0.8515767455101013),\n",
       " ('charcutier', 0.8497314453125)]"
      ]
     },
     "execution_count": 8,
     "metadata": {},
     "output_type": "execute_result"
    }
   ],
   "source": [
    "model.wv.most_similar(\"boucher\", topn=10)"
   ]
  },
  {
   "cell_type": "markdown",
   "metadata": {},
   "source": [
    "### Faire des recherches complexes à travers l'espace vectoriel"
   ]
  },
  {
   "cell_type": "code",
   "execution_count": 9,
   "metadata": {},
   "outputs": [
    {
     "name": "stdout",
     "output_type": "stream",
     "text": [
      "[('huy', 0.8321443200111389), ('paris', 0.8168970346450806), ('manchester', 0.8040940761566162), ('verviers', 0.798650860786438), ('norvege', 0.7958981394767761), ('lille', 0.7932437658309937), ('gand', 0.7927877902984619), ('prague', 0.7915379405021667), ('zurich', 0.7848337292671204), ('tournai', 0.7804679870605469)]\n"
     ]
    }
   ],
   "source": [
    "print(model.wv.most_similar(positive=['bruxelles', 'france'], negative=['belgique']))"
   ]
  },
  {
   "cell_type": "code",
   "execution_count": 10,
   "metadata": {},
   "outputs": [
    {
     "name": "stdout",
     "output_type": "stream",
     "text": [
      "[('aux_flambeaux', 0.721421480178833), ('communaute_religieuse', 0.7197997570037842), ('federation_bruxelloise', 0.699807345867157), ('vdle', 0.6950361132621765), ('cuur', 0.683005690574646), ('gourde', 0.6818018555641174), ('confederation_nationale', 0.6745078563690186), ('demeurante', 0.6704278588294983), ('representation_dramatique_gratuite_flamande', 0.6599694490432739), ('conference_monetaire', 0.6551566123962402)]\n"
     ]
    }
   ],
   "source": [
    "print(model.wv.most_similar(positive=['roi', 'femme'], negative=['homme']))"
   ]
  },
  {
   "cell_type": "markdown",
   "metadata": {},
   "source": [
    "### Modèle 11: Taille du vecteur = 100 (vs 32)"
   ]
  },
  {
   "cell_type": "code",
   "execution_count": 24,
   "metadata": {},
   "outputs": [
    {
     "name": "stdout",
     "output_type": "stream",
     "text": [
      "CPU times: user 39min 11s, sys: 36.1 s, total: 39min 47s\n",
      "Wall time: 20min 7s\n"
     ]
    }
   ],
   "source": [
    "%%time\n",
    "model = Word2Vec(\n",
    "    corpus, # On passe le corpus de ngrams que nous venons de créer\n",
    "    vector_size=100, # Le nombre de dimensions dans lesquelles le contexte des mots devra être réduit, aka. vector_size\n",
    "    window=5, # La taille du \"contexte\", ici 5 mots avant et après le mot observé\n",
    "    min_count=2, # On ignore les mots qui n'apparaissent pas au moins 5 fois dans le corpus\n",
    "    workers=2, # Permet de paralléliser l'entraînement du modèle en 4 threads\n",
    "    epochs=10 # Nombre d'itérations du réseau de neurones sur le jeu de données pour ajuster les paramètres avec la descende de gradient, aka. epochs.\n",
    ")"
   ]
  },
  {
   "cell_type": "code",
   "execution_count": 11,
   "metadata": {},
   "outputs": [],
   "source": [
    "model = Word2Vec.load(\"../data/bulletins_11.model\")"
   ]
  },
  {
   "cell_type": "code",
   "execution_count": 12,
   "metadata": {},
   "outputs": [
    {
     "data": {
      "text/plain": [
       "0.74020714"
      ]
     },
     "execution_count": 12,
     "metadata": {},
     "output_type": "execute_result"
    }
   ],
   "source": [
    "model.wv.similarity(\"boucher\", \"boulanger\")"
   ]
  },
  {
   "cell_type": "code",
   "execution_count": 13,
   "metadata": {},
   "outputs": [
    {
     "data": {
      "text/plain": [
       "0.47778884"
      ]
     },
     "execution_count": 13,
     "metadata": {},
     "output_type": "execute_result"
    }
   ],
   "source": [
    "model.wv.similarity(\"homme\", \"femme\")"
   ]
  },
  {
   "cell_type": "code",
   "execution_count": 55,
   "metadata": {},
   "outputs": [
    {
     "data": {
      "text/plain": [
       "0.22808711"
      ]
     },
     "execution_count": 55,
     "metadata": {},
     "output_type": "execute_result"
    }
   ],
   "source": [
    "model.wv.similarity(\"voiture\", \"carrosse\")"
   ]
  },
  {
   "cell_type": "code",
   "execution_count": 14,
   "metadata": {},
   "outputs": [
    {
     "data": {
      "text/plain": [
       "[('rruxelles', 0.7136662602424622),\n",
       " ('nivelles', 0.6468287110328674),\n",
       " ('prague', 0.6252561807632446),\n",
       " ('liege', 0.6158735752105713),\n",
       " ('paris', 0.6153978705406189),\n",
       " ('bruxelle', 0.6121673583984375),\n",
       " ('lille', 0.6068112850189209),\n",
       " ('laeken', 0.6047728657722473),\n",
       " ('gand', 0.6014081835746765),\n",
       " ('lhotel', 0.5876725912094116)]"
      ]
     },
     "execution_count": 14,
     "metadata": {},
     "output_type": "execute_result"
    }
   ],
   "source": [
    "model.wv.most_similar(\"bruxelles\", topn=10)"
   ]
  },
  {
   "cell_type": "code",
   "execution_count": 15,
   "metadata": {},
   "outputs": [
    {
     "data": {
      "text/plain": [
       "[('cabaretier', 0.7643478512763977),\n",
       " ('menuisier', 0.7573539018630981),\n",
       " ('cordonnier', 0.7483867406845093),\n",
       " ('boulanger', 0.7402071356773376),\n",
       " ('charcutier', 0.7394126653671265),\n",
       " ('tapissier', 0.7257411479949951),\n",
       " ('serrurier', 0.7218273282051086),\n",
       " ('marbrier', 0.7206658720970154),\n",
       " ('tailleur', 0.7194016575813293),\n",
       " ('terrassier', 0.7117941975593567)]"
      ]
     },
     "execution_count": 15,
     "metadata": {},
     "output_type": "execute_result"
    }
   ],
   "source": [
    "model.wv.most_similar(\"boucher\", topn=10)"
   ]
  },
  {
   "cell_type": "code",
   "execution_count": 16,
   "metadata": {},
   "outputs": [
    {
     "name": "stdout",
     "output_type": "stream",
     "text": [
      "[('prague', 0.6978469491004944), ('paris', 0.6645860075950623), ('lille', 0.6635715961456299), ('tournai', 0.6521830558776855), ('londres', 0.6501026749610901), ('liege', 0.6492911577224731), ('gand', 0.6386280655860901), ('huy', 0.6197343468666077), ('milan', 0.5927150845527649), ('hambourg', 0.5915898084640503)]\n"
     ]
    }
   ],
   "source": [
    "print(model.wv.most_similar(positive=['bruxelles', 'france'], negative=['belgique']))"
   ]
  },
  {
   "cell_type": "code",
   "execution_count": 17,
   "metadata": {},
   "outputs": [
    {
     "name": "stdout",
     "output_type": "stream",
     "text": [
      "[('famille_royale', 0.5253315567970276), ('fille', 0.5147914886474609), ('eoi', 0.5106225609779358), ('cujus', 0.5047848224639893), ('saintnicolas', 0.49845537543296814), ('mere', 0.49611812829971313), ('general_belliard', 0.47663527727127075), ('sa_majeste', 0.47655728459358215), ('societe_chorale', 0.4701026678085327), ('legion_nationale', 0.4682620167732239)]\n"
     ]
    }
   ],
   "source": [
    "print(model.wv.most_similar(positive=['roi', 'femme'], negative=['homme']))"
   ]
  },
  {
   "cell_type": "markdown",
   "metadata": {},
   "source": [
    "### Modèle 12: Vecteur 100 + élargissement de la fenêtre à 7"
   ]
  },
  {
   "cell_type": "code",
   "execution_count": 31,
   "metadata": {},
   "outputs": [
    {
     "name": "stdout",
     "output_type": "stream",
     "text": [
      "CPU times: user 49min 7s, sys: 1min 11s, total: 50min 19s\n",
      "Wall time: 16min 36s\n"
     ]
    }
   ],
   "source": [
    "%%time\n",
    "model = Word2Vec(\n",
    "    corpus, # On passe le corpus de ngrams que nous venons de créer\n",
    "    vector_size=100, # Le nombre de dimensions dans lesquelles le contexte des mots devra être réduit, aka. vector_size\n",
    "    window=7, # La taille du \"contexte\", ici 5 mots avant et après le mot observé\n",
    "    min_count=2, # On ignore les mots qui n'apparaissent pas au moins 5 fois dans le corpus\n",
    "    workers=4, # Permet de paralléliser l'entraînement du modèle en 4 threads\n",
    "    epochs=10 # Nombre d'itérations du réseau de neurones sur le jeu de données pour ajuster les paramètres avec la descende de gradient, aka. epochs.\n",
    ")"
   ]
  },
  {
   "cell_type": "code",
   "execution_count": 57,
   "metadata": {},
   "outputs": [],
   "source": [
    "model = Word2Vec.load(\"../data/bulletins_12.model\")"
   ]
  },
  {
   "cell_type": "code",
   "execution_count": 58,
   "metadata": {},
   "outputs": [
    {
     "data": {
      "text/plain": [
       "0.74992484"
      ]
     },
     "execution_count": 58,
     "metadata": {},
     "output_type": "execute_result"
    }
   ],
   "source": [
    "model.wv.similarity(\"boucher\", \"boulanger\")"
   ]
  },
  {
   "cell_type": "code",
   "execution_count": 59,
   "metadata": {},
   "outputs": [
    {
     "data": {
      "text/plain": [
       "0.49970785"
      ]
     },
     "execution_count": 59,
     "metadata": {},
     "output_type": "execute_result"
    }
   ],
   "source": [
    "model.wv.similarity(\"homme\", \"femme\")"
   ]
  },
  {
   "cell_type": "code",
   "execution_count": 60,
   "metadata": {},
   "outputs": [
    {
     "data": {
      "text/plain": [
       "0.2508179"
      ]
     },
     "execution_count": 60,
     "metadata": {},
     "output_type": "execute_result"
    }
   ],
   "source": [
    "model.wv.similarity(\"voiture\", \"carrosse\")"
   ]
  },
  {
   "cell_type": "code",
   "execution_count": 21,
   "metadata": {},
   "outputs": [
    {
     "data": {
      "text/plain": [
       "[('rruxelles', 0.6743203401565552),\n",
       " ('liege', 0.6394780874252319),\n",
       " ('prague', 0.6360003352165222),\n",
       " ('bruxelle', 0.6343247890472412),\n",
       " ('xelles', 0.6240631341934204),\n",
       " ('bruxe', 0.6227555871009827),\n",
       " ('nivelles', 0.6150801181793213),\n",
       " ('lille', 0.612572193145752),\n",
       " ('paris', 0.6059279441833496),\n",
       " ('bruxeles', 0.5985421538352966)]"
      ]
     },
     "execution_count": 21,
     "metadata": {},
     "output_type": "execute_result"
    }
   ],
   "source": [
    "model.wv.most_similar(\"bruxelles\", topn=10)"
   ]
  },
  {
   "cell_type": "code",
   "execution_count": 22,
   "metadata": {},
   "outputs": [
    {
     "data": {
      "text/plain": [
       "[('charcutier', 0.7554579973220825),\n",
       " ('boulanger', 0.7499249577522278),\n",
       " ('menuisier', 0.7398019433021545),\n",
       " ('cabaretier', 0.7291788458824158),\n",
       " ('tailleur', 0.7144469618797302),\n",
       " ('batelier', 0.7124482989311218),\n",
       " ('serrurier', 0.7025189399719238),\n",
       " ('cordonnier', 0.7000163197517395),\n",
       " ('coiffeur', 0.698936402797699),\n",
       " ('chapelier', 0.697650671005249)]"
      ]
     },
     "execution_count": 22,
     "metadata": {},
     "output_type": "execute_result"
    }
   ],
   "source": [
    "model.wv.most_similar(\"boucher\", topn=10)"
   ]
  },
  {
   "cell_type": "code",
   "execution_count": 23,
   "metadata": {},
   "outputs": [
    {
     "name": "stdout",
     "output_type": "stream",
     "text": [
      "[('prague', 0.6655336022377014), ('londres', 0.6648284792900085), ('paris', 0.6592709422111511), ('lille', 0.658177375793457), ('liege', 0.6438037157058716), ('strasbourg', 0.6386304497718811), ('huy', 0.6232372522354126), ('verviers', 0.6213777661323547), ('gand', 0.6208687424659729), ('tournai', 0.610344409942627)]\n"
     ]
    }
   ],
   "source": [
    "print(model.wv.most_similar(positive=['bruxelles', 'france'], negative=['belgique']))"
   ]
  },
  {
   "cell_type": "code",
   "execution_count": 24,
   "metadata": {},
   "outputs": [
    {
     "name": "stdout",
     "output_type": "stream",
     "text": [
      "[('fille', 0.5155900120735168), ('iication', 0.5074321627616882), ('deput', 0.5027685165405273), ('eoi', 0.5025864243507385), ('louve', 0.49552175402641296), ('gouvernement_provincial', 0.48193249106407166), ('cure', 0.46933111548423767), ('brabanl', 0.46789273619651794), ('general_belliard', 0.4666241407394409), ('princesse_marie', 0.46532654762268066)]\n"
     ]
    }
   ],
   "source": [
    "print(model.wv.most_similar(positive=['roi', 'femme'], negative=['homme']))"
   ]
  },
  {
   "cell_type": "markdown",
   "metadata": {},
   "source": [
    "### Modèle 13: Taille fenêtre 20 (vs 5) et vecteur 32 (vs 100)"
   ]
  },
  {
   "cell_type": "code",
   "execution_count": 40,
   "metadata": {},
   "outputs": [
    {
     "name": "stdout",
     "output_type": "stream",
     "text": [
      "CPU times: user 53min 1s, sys: 1min 24s, total: 54min 26s\n",
      "Wall time: 17min 25s\n"
     ]
    }
   ],
   "source": [
    "%%time\n",
    "model = Word2Vec(\n",
    "    corpus, # On passe le corpus de ngrams que nous venons de créer\n",
    "    vector_size=100, # Le nombre de dimensions dans lesquelles le contexte des mots devra être réduit, aka. vector_size\n",
    "    window=10, # La taille du \"contexte\", ici 5 mots avant et après le mot observé\n",
    "    min_count=2, # On ignore les mots qui n'apparaissent pas au moins 5 fois dans le corpus\n",
    "    workers=4, # Permet de paralléliser l'entraînement du modèle en 4 threads\n",
    "    epochs=10 # Nombre d'itérations du réseau de neurones sur le jeu de données pour ajuster les paramètres avec la descende de gradient, aka. epochs.\n",
    ")"
   ]
  },
  {
   "cell_type": "code",
   "execution_count": 61,
   "metadata": {},
   "outputs": [],
   "source": [
    "model = Word2Vec.load(\"../data/bulletins_13.model\")"
   ]
  },
  {
   "cell_type": "code",
   "execution_count": 62,
   "metadata": {},
   "outputs": [
    {
     "data": {
      "text/plain": [
       "0.6937786"
      ]
     },
     "execution_count": 62,
     "metadata": {},
     "output_type": "execute_result"
    }
   ],
   "source": [
    "model.wv.similarity(\"boucher\", \"boulanger\")"
   ]
  },
  {
   "cell_type": "code",
   "execution_count": 63,
   "metadata": {},
   "outputs": [
    {
     "data": {
      "text/plain": [
       "0.49711436"
      ]
     },
     "execution_count": 63,
     "metadata": {},
     "output_type": "execute_result"
    }
   ],
   "source": [
    "model.wv.similarity(\"homme\", \"femme\")"
   ]
  },
  {
   "cell_type": "code",
   "execution_count": 64,
   "metadata": {},
   "outputs": [
    {
     "data": {
      "text/plain": [
       "0.30251795"
      ]
     },
     "execution_count": 64,
     "metadata": {},
     "output_type": "execute_result"
    }
   ],
   "source": [
    "model.wv.similarity(\"voiture\", \"carrosse\")"
   ]
  },
  {
   "cell_type": "code",
   "execution_count": 28,
   "metadata": {},
   "outputs": [
    {
     "data": {
      "text/plain": [
       "[('rruxelles', 0.651600182056427),\n",
       " ('nivelles', 0.638759195804596),\n",
       " ('bruxelle', 0.6351412534713745),\n",
       " ('liege', 0.6297926902770996),\n",
       " ('xelles', 0.6212089657783508),\n",
       " ('bruxe', 0.6058027148246765),\n",
       " ('bruxeles', 0.5974170565605164),\n",
       " ('thotel', 0.5858594179153442),\n",
       " ('paris', 0.5826448798179626),\n",
       " ('laeken', 0.5800283551216125)]"
      ]
     },
     "execution_count": 28,
     "metadata": {},
     "output_type": "execute_result"
    }
   ],
   "source": [
    "model.wv.most_similar(\"bruxelles\", topn=10)"
   ]
  },
  {
   "cell_type": "code",
   "execution_count": 29,
   "metadata": {},
   "outputs": [
    {
     "data": {
      "text/plain": [
       "[('menuisier', 0.6990550756454468),\n",
       " ('boulanger', 0.6937785744667053),\n",
       " ('cabaretier', 0.6871023774147034),\n",
       " ('serrurier', 0.6829543709754944),\n",
       " ('batelier', 0.6759117841720581),\n",
       " ('tailleur', 0.6719610691070557),\n",
       " ('ebeniste', 0.6639692783355713),\n",
       " ('plombier', 0.6599940061569214),\n",
       " ('charcutier', 0.6555059552192688),\n",
       " ('coiffeur', 0.64664626121521)]"
      ]
     },
     "execution_count": 29,
     "metadata": {},
     "output_type": "execute_result"
    }
   ],
   "source": [
    "model.wv.most_similar(\"boucher\", topn=10)"
   ]
  },
  {
   "cell_type": "code",
   "execution_count": 30,
   "metadata": {},
   "outputs": [
    {
     "name": "stdout",
     "output_type": "stream",
     "text": [
      "[('liege', 0.6205630302429199), ('paris', 0.6186079382896423), ('lille', 0.617577850818634), ('verviers', 0.6161673069000244), ('londres', 0.6111919283866882), ('huy', 0.6109883189201355), ('tournai', 0.602641224861145), ('gand', 0.596588671207428), ('prague', 0.595768392086029), ('marseille', 0.5875338912010193)]\n"
     ]
    }
   ],
   "source": [
    "print(model.wv.most_similar(positive=['bruxelles', 'france'], negative=['belgique']))"
   ]
  },
  {
   "cell_type": "code",
   "execution_count": 31,
   "metadata": {},
   "outputs": [
    {
     "name": "stdout",
     "output_type": "stream",
     "text": [
      "[('fille', 0.4998374283313751), ('mere', 0.49119219183921814), ('famille_royale', 0.48008471727371216), ('defunt', 0.4772540330886841), ('sa_majeste', 0.465778112411499), ('depouille_mortelle', 0.4591931402683258), ('congregation', 0.4549408555030823), ('prince_umberto', 0.4521107077598572), ('leur_mere', 0.4515117406845093), ('museliere_sera', 0.44228291511535645)]\n"
     ]
    }
   ],
   "source": [
    "print(model.wv.most_similar(positive=['roi', 'femme'], negative=['homme']))"
   ]
  },
  {
   "cell_type": "markdown",
   "metadata": {},
   "source": [
    "### Modèle 14 : Vecteur 100 et fenêtre 13"
   ]
  },
  {
   "cell_type": "code",
   "execution_count": 50,
   "metadata": {},
   "outputs": [
    {
     "name": "stdout",
     "output_type": "stream",
     "text": [
      "CPU times: user 57min 44s, sys: 1min 12s, total: 58min 57s\n",
      "Wall time: 18min 45s\n"
     ]
    }
   ],
   "source": [
    "%%time\n",
    "model = Word2Vec(\n",
    "    corpus, # On passe le corpus de ngrams que nous venons de créer\n",
    "    vector_size=100, # Le nombre de dimensions dans lesquelles le contexte des mots devra être réduit, aka. vector_size\n",
    "    window=13, # La taille du \"contexte\", ici 5 mots avant et après le mot observé\n",
    "    min_count=2, # On ignore les mots qui n'apparaissent pas au moins 5 fois dans le corpus\n",
    "    workers=4, # Permet de paralléliser l'entraînement du modèle en 4 threads\n",
    "    epochs=10 # Nombre d'itérations du réseau de neurones sur le jeu de données pour ajuster les paramètres avec la descende de gradient, aka. epochs.\n",
    ")"
   ]
  },
  {
   "cell_type": "code",
   "execution_count": 32,
   "metadata": {},
   "outputs": [],
   "source": [
    "model = Word2Vec.load(\"../data/bulletins_14.model\")"
   ]
  },
  {
   "cell_type": "code",
   "execution_count": 33,
   "metadata": {},
   "outputs": [
    {
     "data": {
      "text/plain": [
       "0.6723962"
      ]
     },
     "execution_count": 33,
     "metadata": {},
     "output_type": "execute_result"
    }
   ],
   "source": [
    "model.wv.similarity(\"boucher\", \"boulanger\")"
   ]
  },
  {
   "cell_type": "code",
   "execution_count": 34,
   "metadata": {},
   "outputs": [
    {
     "data": {
      "text/plain": [
       "0.49160355"
      ]
     },
     "execution_count": 34,
     "metadata": {},
     "output_type": "execute_result"
    }
   ],
   "source": [
    "model.wv.similarity(\"homme\", \"femme\")"
   ]
  },
  {
   "cell_type": "code",
   "execution_count": 35,
   "metadata": {},
   "outputs": [
    {
     "data": {
      "text/plain": [
       "0.31495377"
      ]
     },
     "execution_count": 35,
     "metadata": {},
     "output_type": "execute_result"
    }
   ],
   "source": [
    "model.wv.similarity(\"voiture\", \"carrosse\")"
   ]
  },
  {
   "cell_type": "code",
   "execution_count": 36,
   "metadata": {},
   "outputs": [
    {
     "data": {
      "text/plain": [
       "[('xelles', 0.6420583724975586),\n",
       " ('bruxelle', 0.6356337070465088),\n",
       " ('manufacturiere', 0.6315798759460449),\n",
       " ('nivelles', 0.6286843419075012),\n",
       " ('liege', 0.6279160976409912),\n",
       " ('dette_active', 0.6258662939071655),\n",
       " ('rruxelles', 0.620442807674408),\n",
       " ('tournai', 0.584047257900238),\n",
       " ('bruxe', 0.5773397088050842),\n",
       " ('prague', 0.5762890577316284)]"
      ]
     },
     "execution_count": 36,
     "metadata": {},
     "output_type": "execute_result"
    }
   ],
   "source": [
    "model.wv.most_similar(\"bruxelles\", topn=10)"
   ]
  },
  {
   "cell_type": "code",
   "execution_count": 37,
   "metadata": {},
   "outputs": [
    {
     "data": {
      "text/plain": [
       "[('charcutier', 0.7419087290763855),\n",
       " ('batelier', 0.7248253226280212),\n",
       " ('cabaretier', 0.7033025622367859),\n",
       " ('marchand', 0.6830555200576782),\n",
       " ('serrurier', 0.6813036799430847),\n",
       " ('menuisier', 0.6732695698738098),\n",
       " ('boulanger', 0.672396183013916),\n",
       " ('abatteur', 0.6655840277671814),\n",
       " ('meunier', 0.6591508984565735),\n",
       " ('tailleur', 0.6587807536125183)]"
      ]
     },
     "execution_count": 37,
     "metadata": {},
     "output_type": "execute_result"
    }
   ],
   "source": [
    "model.wv.most_similar(\"boucher\", topn=10)"
   ]
  },
  {
   "cell_type": "code",
   "execution_count": 38,
   "metadata": {},
   "outputs": [
    {
     "name": "stdout",
     "output_type": "stream",
     "text": [
      "[('londres', 0.627091646194458), ('prague', 0.6158853769302368), ('liege', 0.6125531792640686), ('paris', 0.6043033599853516), ('manchester', 0.602205216884613), ('lille', 0.5956189632415771), ('ostende', 0.5921670794487), ('tournai', 0.5895686149597168), ('huy', 0.588439404964447), ('verviers', 0.5736773014068604)]\n"
     ]
    }
   ],
   "source": [
    "print(model.wv.most_similar(positive=['bruxelles', 'france'], negative=['belgique']))"
   ]
  },
  {
   "cell_type": "code",
   "execution_count": 39,
   "metadata": {},
   "outputs": [
    {
     "name": "stdout",
     "output_type": "stream",
     "text": [
      "[('mere', 0.5091543197631836), ('fille', 0.49800336360931396), ('princesse_marie', 0.48935967683792114), ('deput', 0.47794777154922485), ('cure', 0.46977701783180237), ('casteau', 0.4649643898010254), ('prince_umberto', 0.4642382860183716), ('sieur_van_eesbeeck', 0.4600988030433655), ('zeepaard', 0.45792263746261597), ('gouvernement_provincial', 0.4477558135986328)]\n"
     ]
    }
   ],
   "source": [
    "print(model.wv.most_similar(positive=['roi', 'femme'], negative=['homme']))"
   ]
  },
  {
   "cell_type": "markdown",
   "metadata": {},
   "source": [
    "### Modèle 15 : 300 dimensions et élargissement de la fenêtre à 13 et entrainement ++"
   ]
  },
  {
   "cell_type": "code",
   "execution_count": 63,
   "metadata": {},
   "outputs": [
    {
     "name": "stdout",
     "output_type": "stream",
     "text": [
      "CPU times: user 1h 50min 13s, sys: 4min 58s, total: 1h 55min 11s\n",
      "Wall time: 32min 57s\n"
     ]
    }
   ],
   "source": [
    "%%time\n",
    "model = Word2Vec(\n",
    "    corpus, # On passe le corpus de ngrams que nous venons de créer\n",
    "    vector_size=300, # Le nombre de dimensions dans lesquelles le contexte des mots devra être réduit, aka. vector_size\n",
    "    window=13, # La taille du \"contexte\", ici 5 mots avant et après le mot observé\n",
    "    min_count=2, # On ignore les mots qui n'apparaissent pas au moins 5 fois dans le corpus\n",
    "    workers=4, # Permet de paralléliser l'entraînement du modèle en 4 threads\n",
    "    epochs=10 # Nombre d'itérations du réseau de neurones sur le jeu de données pour ajuster les paramètres avec la descende de gradient, aka. epochs.\n",
    ")"
   ]
  },
  {
   "cell_type": "code",
   "execution_count": 40,
   "metadata": {},
   "outputs": [],
   "source": [
    "model = Word2Vec.load(\"../data/bulletins_15.model\")"
   ]
  },
  {
   "cell_type": "code",
   "execution_count": 41,
   "metadata": {},
   "outputs": [
    {
     "data": {
      "text/plain": [
       "0.5587284"
      ]
     },
     "execution_count": 41,
     "metadata": {},
     "output_type": "execute_result"
    }
   ],
   "source": [
    "model.wv.similarity(\"boucher\", \"boulanger\")"
   ]
  },
  {
   "cell_type": "code",
   "execution_count": 42,
   "metadata": {},
   "outputs": [
    {
     "data": {
      "text/plain": [
       "0.39769208"
      ]
     },
     "execution_count": 42,
     "metadata": {},
     "output_type": "execute_result"
    }
   ],
   "source": [
    "model.wv.similarity(\"homme\", \"femme\")"
   ]
  },
  {
   "cell_type": "code",
   "execution_count": 43,
   "metadata": {},
   "outputs": [
    {
     "data": {
      "text/plain": [
       "0.26498124"
      ]
     },
     "execution_count": 43,
     "metadata": {},
     "output_type": "execute_result"
    }
   ],
   "source": [
    "model.wv.similarity(\"voiture\", \"carrosse\")"
   ]
  },
  {
   "cell_type": "code",
   "execution_count": 44,
   "metadata": {},
   "outputs": [
    {
     "data": {
      "text/plain": [
       "[('rruxelles', 0.5277640223503113),\n",
       " ('dette_active', 0.49114567041397095),\n",
       " ('liege', 0.48792389035224915),\n",
       " ('bruxelle', 0.4822578728199005),\n",
       " ('manufacturiere', 0.4812834858894348),\n",
       " ('nivelles', 0.4720197021961212),\n",
       " ('xelles', 0.4664071798324585),\n",
       " ('binche', 0.4439750015735626),\n",
       " ('verviers', 0.44394662976264954),\n",
       " ('tournai', 0.4434230625629425)]"
      ]
     },
     "execution_count": 44,
     "metadata": {},
     "output_type": "execute_result"
    }
   ],
   "source": [
    "model.wv.most_similar(\"bruxelles\", topn=10)"
   ]
  },
  {
   "cell_type": "code",
   "execution_count": 45,
   "metadata": {},
   "outputs": [
    {
     "data": {
      "text/plain": [
       "[('charcutier', 0.5835238695144653),\n",
       " ('cordonnier', 0.5590786933898926),\n",
       " ('boulanger', 0.5587283372879028),\n",
       " ('menuisier', 0.5515034794807434),\n",
       " ('abatteur', 0.551483154296875),\n",
       " ('tailleur', 0.5508565306663513),\n",
       " ('cabaretier', 0.5470849871635437),\n",
       " ('serrurier', 0.5364952683448792),\n",
       " ('coiffeur', 0.5345790386199951),\n",
       " ('marchand', 0.5307872891426086)]"
      ]
     },
     "execution_count": 45,
     "metadata": {},
     "output_type": "execute_result"
    }
   ],
   "source": [
    "model.wv.most_similar(\"boucher\", topn=10)"
   ]
  },
  {
   "cell_type": "code",
   "execution_count": 46,
   "metadata": {},
   "outputs": [
    {
     "name": "stdout",
     "output_type": "stream",
     "text": [
      "[('londres', 0.48951879143714905), ('liege', 0.4573286175727844), ('manchester', 0.4476049840450287), ('milan', 0.4397909343242645), ('ostende', 0.4391721785068512), ('prague', 0.4373452961444855), ('marseille', 0.4363729953765869), ('paris', 0.4332381784915924), ('verviers', 0.4286613166332245), ('lille', 0.42616918683052063)]\n"
     ]
    }
   ],
   "source": [
    "print(model.wv.most_similar(positive=['bruxelles', 'france'], negative=['belgique']))"
   ]
  },
  {
   "cell_type": "code",
   "execution_count": 72,
   "metadata": {},
   "outputs": [
    {
     "name": "stdout",
     "output_type": "stream",
     "text": [
      "[('souverain', 0.4747852385044098), ('prince', 0.45544907450675964), ('citoyen', 0.4522494375705719), ('magistrat', 0.44988343119621277), ('peuple', 0.44894155859947205), ('congres_national', 0.43645983934402466), ('peuple_belge', 0.43318602442741394), ('geste', 0.43007296323776245), ('soldat', 0.42618703842163086), ('gouvernement', 0.4182727634906769)]\n"
     ]
    }
   ],
   "source": [
    "print(model.wv.most_similar(positive=['roi', 'femme'], negative=['homme']))"
   ]
  },
  {
   "cell_type": "markdown",
   "metadata": {},
   "source": [
    "### Modèle 16 : Vecteur 300, fenêtre 10"
   ]
  },
  {
   "cell_type": "code",
   "execution_count": 79,
   "metadata": {},
   "outputs": [
    {
     "name": "stdout",
     "output_type": "stream",
     "text": [
      "CPU times: user 2h 5min 22s, sys: 6min 26s, total: 2h 11min 48s\n",
      "Wall time: 38min 53s\n"
     ]
    }
   ],
   "source": [
    "%%time\n",
    "model = Word2Vec(\n",
    "    corpus, # On passe le corpus de ngrams que nous venons de créer\n",
    "    vector_size=300, # Le nombre de dimensions dans lesquelles le contexte des mots devra être réduit, aka. vector_size\n",
    "    window=10, # La taille du \"contexte\", ici 5 mots avant et après le mot observé\n",
    "    min_count=2, # On ignore les mots qui n'apparaissent pas au moins 5 fois dans le corpus\n",
    "    workers=4, # Permet de paralléliser l'entraînement du modèle en 4 threads\n",
    "    epochs=10 # Nombre d'itérations du réseau de neurones sur le jeu de données pour ajuster les paramètres avec la descende de gradient, aka. epochs.\n",
    ")"
   ]
  },
  {
   "cell_type": "code",
   "execution_count": 47,
   "metadata": {},
   "outputs": [],
   "source": [
    "model = Word2Vec.load(\"../data/bulletins_16.model\")"
   ]
  },
  {
   "cell_type": "code",
   "execution_count": 48,
   "metadata": {},
   "outputs": [
    {
     "data": {
      "text/plain": [
       "0.594906"
      ]
     },
     "execution_count": 48,
     "metadata": {},
     "output_type": "execute_result"
    }
   ],
   "source": [
    "model.wv.similarity(\"boucher\", \"boulanger\")"
   ]
  },
  {
   "cell_type": "code",
   "execution_count": 49,
   "metadata": {},
   "outputs": [
    {
     "data": {
      "text/plain": [
       "0.41035208"
      ]
     },
     "execution_count": 49,
     "metadata": {},
     "output_type": "execute_result"
    }
   ],
   "source": [
    "model.wv.similarity(\"homme\", \"femme\")"
   ]
  },
  {
   "cell_type": "code",
   "execution_count": 50,
   "metadata": {},
   "outputs": [
    {
     "data": {
      "text/plain": [
       "0.22808711"
      ]
     },
     "execution_count": 50,
     "metadata": {},
     "output_type": "execute_result"
    }
   ],
   "source": [
    "model.wv.similarity(\"voiture\", \"carrosse\")"
   ]
  },
  {
   "cell_type": "code",
   "execution_count": 51,
   "metadata": {},
   "outputs": [
    {
     "data": {
      "text/plain": [
       "[('nivelles', 0.5170215368270874),\n",
       " ('rruxelles', 0.5137457251548767),\n",
       " ('liege', 0.509574294090271),\n",
       " ('manufacturiere', 0.4940529763698578),\n",
       " ('tournai', 0.47900691628456116),\n",
       " ('prague', 0.47698986530303955),\n",
       " ('liruxelles', 0.47526562213897705),\n",
       " ('lille', 0.4690064787864685),\n",
       " ('xelles', 0.46365970373153687),\n",
       " ('huy', 0.4627675414085388)]"
      ]
     },
     "execution_count": 51,
     "metadata": {},
     "output_type": "execute_result"
    }
   ],
   "source": [
    "model.wv.most_similar(\"bruxelles\", topn=10)"
   ]
  },
  {
   "cell_type": "code",
   "execution_count": 52,
   "metadata": {},
   "outputs": [
    {
     "data": {
      "text/plain": [
       "[('cabaretier', 0.611894428730011),\n",
       " ('charcutier', 0.6005944609642029),\n",
       " ('boulanger', 0.5949059128761292),\n",
       " ('serrurier', 0.58980792760849),\n",
       " ('marchand', 0.5820729732513428),\n",
       " ('tapissier', 0.5787808299064636),\n",
       " ('menuisier', 0.5779645442962646),\n",
       " ('tailleur', 0.576256275177002),\n",
       " ('coiffeur', 0.5692282319068909),\n",
       " ('camionneur', 0.567164957523346)]"
      ]
     },
     "execution_count": 52,
     "metadata": {},
     "output_type": "execute_result"
    }
   ],
   "source": [
    "model.wv.most_similar(\"boucher\", topn=10)"
   ]
  },
  {
   "cell_type": "code",
   "execution_count": 53,
   "metadata": {},
   "outputs": [
    {
     "name": "stdout",
     "output_type": "stream",
     "text": [
      "[('lille', 0.4911900460720062), ('liege', 0.4882427453994751), ('londres', 0.4805184006690979), ('hambourg', 0.4721403121948242), ('huy', 0.46542081236839294), ('ostende', 0.46507900953292847), ('prague', 0.4622458219528198), ('tournai', 0.45100125670433044), ('nivelles', 0.446857213973999), ('verviers', 0.4414343535900116)]\n"
     ]
    }
   ],
   "source": [
    "print(model.wv.most_similar(positive=['bruxelles', 'france'], negative=['belgique']))"
   ]
  },
  {
   "cell_type": "code",
   "execution_count": 54,
   "metadata": {},
   "outputs": [
    {
     "name": "stdout",
     "output_type": "stream",
     "text": [
      "[('fille', 0.4048213064670563), ('mere', 0.40387463569641113), ('boi', 0.3755878806114197), ('gouvernement_italien', 0.374500036239624), ('famille_royale', 0.37325236201286316), ('eoi', 0.36761078238487244), ('klary', 0.36225759983062744), ('legation_belge', 0.3591693937778473), ('sa_majeste', 0.3579140305519104), ('koi', 0.351666659116745)]\n"
     ]
    }
   ],
   "source": [
    "print(model.wv.most_similar(positive=['roi', 'femme'], negative=['homme']))"
   ]
  },
  {
   "cell_type": "code",
   "execution_count": null,
   "metadata": {},
   "outputs": [],
   "source": []
  }
 ],
 "metadata": {
  "kernelspec": {
   "display_name": "Python 3",
   "language": "python",
   "name": "python3"
  },
  "language_info": {
   "codemirror_mode": {
    "name": "ipython",
    "version": 3
   },
   "file_extension": ".py",
   "mimetype": "text/x-python",
   "name": "python",
   "nbconvert_exporter": "python",
   "pygments_lexer": "ipython3",
   "version": "3.10.9"
  }
 },
 "nbformat": 4,
 "nbformat_minor": 4
}
