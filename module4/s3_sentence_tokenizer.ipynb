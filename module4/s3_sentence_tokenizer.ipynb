{
 "cells": [
  {
   "cell_type": "markdown",
   "metadata": {},
   "source": [
    "# Segmentation en phrases"
   ]
  },
  {
   "cell_type": "markdown",
   "metadata": {},
   "source": [
    "## Imports"
   ]
  },
  {
   "cell_type": "code",
   "execution_count": 1,
   "metadata": {},
   "outputs": [],
   "source": [
    "import os\n",
    "import sys\n",
    "import nltk\n",
    "from nltk.tokenize import sent_tokenize"
   ]
  },
  {
   "cell_type": "markdown",
   "metadata": {},
   "source": [
    "## Fichiers d'inputs et d'outputs"
   ]
  },
  {
   "cell_type": "code",
   "execution_count": 2,
   "metadata": {},
   "outputs": [],
   "source": [
    "infile = \"../data/bxl.txt\"\n",
    "outfile = \"../data/sents.txt\""
   ]
  },
  {
   "cell_type": "markdown",
   "metadata": {},
   "source": [
    "## Segmentation en phrases du corpus complet et création d'un nouveau fichier"
   ]
  },
  {
   "cell_type": "markdown",
   "metadata": {},
   "source": [
    "**Important** : pour traiter le corpus complet, indiquez `LIMIT = None`"
   ]
  },
  {
   "cell_type": "code",
   "execution_count": 3,
   "metadata": {},
   "outputs": [],
   "source": [
    "# LIMIT = 1000000"
   ]
  },
  {
   "cell_type": "code",
   "execution_count": 4,
   "metadata": {
    "tags": []
   },
   "outputs": [
    {
     "name": "stdout",
     "output_type": "stream",
     "text": [
      "processing line 0/332287\n",
      "processing line 10000/332287\n",
      "processing line 20000/332287\n",
      "processing line 30000/332287\n",
      "processing line 40000/332287\n",
      "processing line 50000/332287\n",
      "processing line 60000/332287\n",
      "processing line 70000/332287\n",
      "processing line 80000/332287\n",
      "processing line 90000/332287\n",
      "processing line 100000/332287\n",
      "processing line 110000/332287\n",
      "processing line 120000/332287\n",
      "processing line 130000/332287\n",
      "processing line 140000/332287\n",
      "processing line 150000/332287\n",
      "processing line 160000/332287\n",
      "processing line 170000/332287\n",
      "processing line 180000/332287\n",
      "processing line 190000/332287\n",
      "processing line 200000/332287\n",
      "processing line 210000/332287\n",
      "processing line 220000/332287\n",
      "processing line 230000/332287\n",
      "processing line 240000/332287\n",
      "processing line 250000/332287\n",
      "processing line 260000/332287\n",
      "processing line 270000/332287\n",
      "processing line 280000/332287\n",
      "processing line 290000/332287\n",
      "processing line 300000/332287\n",
      "processing line 310000/332287\n",
      "processing line 320000/332287\n",
      "processing line 330000/332287\n",
      "Done\n"
     ]
    }
   ],
   "source": [
    "with open(outfile, 'w', encoding=\"utf-8\") as output:\n",
    "    with open(infile, encoding=\"utf-8\", errors=\"backslashreplace\") as f:\n",
    "        content = f.readlines()\n",
    "        # content = content[:LIMIT] if LIMIT is not None else content\n",
    "        n_lines = len(content)\n",
    "        for i, line in enumerate(content):\n",
    "            if i % 10000 == 0:\n",
    "                print(f'processing line {i}/{n_lines}')\n",
    "            sentences = sent_tokenize(line)\n",
    "            for sent in sentences:\n",
    "                output.write(sent + \"\\n\")\n",
    "print(\"Done\")"
   ]
  },
  {
   "cell_type": "code",
   "execution_count": 10,
   "metadata": {},
   "outputs": [],
   "source": [
    "!cat ../data/sents/*.txt > ../data/bxl_sents.txt # en dehors du dossier txt ! pour ne pas mélanger"
   ]
  },
  {
   "cell_type": "code",
   "execution_count": 11,
   "metadata": {},
   "outputs": [
    {
     "name": "stdout",
     "output_type": "stream",
     "text": [
      "  6213982  96545818 481084713 ../data/bxl_sents.txt\n"
     ]
    }
   ],
   "source": [
    "!wc ../data/bxl_sents.txt"
   ]
  },
  {
   "cell_type": "code",
   "execution_count": 12,
   "metadata": {},
   "outputs": [
    {
     "name": "stdout",
     "output_type": "stream",
     "text": [
      "6213982 ../data/bxl_sents.txt\n"
     ]
    }
   ],
   "source": [
    "!wc -l ../data/bxl_sents.txt"
   ]
  },
  {
   "cell_type": "code",
   "execution_count": 13,
   "metadata": {},
   "outputs": [
    {
     "name": "stdout",
     "output_type": "stream",
     "text": [
      "96545818 ../data/bxl_sents.txt\n"
     ]
    }
   ],
   "source": [
    "!wc -w ../data/bxl_sents.txt"
   ]
  },
  {
   "cell_type": "code",
   "execution_count": 14,
   "metadata": {},
   "outputs": [
    {
     "name": "stdout",
     "output_type": "stream",
     "text": [
      "481084713 ../data/bxl_sents.txt\n"
     ]
    }
   ],
   "source": [
    "!wc -c ../data/bxl_sents.txt"
   ]
  },
  {
   "cell_type": "code",
   "execution_count": null,
   "metadata": {},
   "outputs": [],
   "source": []
  }
 ],
 "metadata": {
  "kernelspec": {
   "display_name": "Python 3 (ipykernel)",
   "language": "python",
   "name": "python3"
  },
  "language_info": {
   "codemirror_mode": {
    "name": "ipython",
    "version": 3
   },
   "file_extension": ".py",
   "mimetype": "text/x-python",
   "name": "python",
   "nbconvert_exporter": "python",
   "pygments_lexer": "ipython3",
   "version": "3.9.7"
  }
 },
 "nbformat": 4,
 "nbformat_minor": 4
}
