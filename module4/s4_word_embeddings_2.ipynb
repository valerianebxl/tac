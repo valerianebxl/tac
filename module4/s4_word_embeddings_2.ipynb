{
 "cells": [
  {
   "cell_type": "markdown",
   "metadata": {},
   "source": [
    "# Word Embeddings : le modèle Word2Vec"
   ]
  },
  {
   "cell_type": "markdown",
   "metadata": {},
   "source": [
    "## Imports"
   ]
  },
  {
   "cell_type": "code",
   "execution_count": 1,
   "metadata": {},
   "outputs": [],
   "source": [
    "import sys\n",
    "\n",
    "from gensim.models.phrases import Phrases, Phraser\n",
    "from gensim.models import Word2Vec\n",
    "\n",
    "import nltk\n",
    "from nltk.tokenize import wordpunct_tokenize\n",
    "from unidecode import unidecode"
   ]
  },
  {
   "cell_type": "markdown",
   "metadata": {},
   "source": [
    "## Chargement et traitement des phrases du corpus"
   ]
  },
  {
   "cell_type": "markdown",
   "metadata": {},
   "source": [
    "### Création d'un objet qui *streame* les lignes d'un fichier pour économiser de la RAM"
   ]
  },
  {
   "cell_type": "code",
   "execution_count": 2,
   "metadata": {},
   "outputs": [],
   "source": [
    "class MySentences(object):\n",
    "    \"\"\"Tokenize and Lemmatize sentences\"\"\"\n",
    "    def __init__(self, filename):\n",
    "        self.filename = filename\n",
    "\n",
    "    def __iter__(self):\n",
    "        for line in open(self.filename, encoding='utf-8', errors=\"backslashreplace\"):\n",
    "            yield [unidecode(w.lower()) for w in wordpunct_tokenize(line)]"
   ]
  },
  {
   "cell_type": "code",
   "execution_count": 3,
   "metadata": {},
   "outputs": [],
   "source": [
    "infile = f\"../data/sents_2.txt\"\n",
    "sentences = MySentences(infile)"
   ]
  },
  {
   "cell_type": "markdown",
   "metadata": {},
   "source": [
    "### Détection des bigrams\n",
    "\n",
    "Article intéressant sur le sujet : https://towardsdatascience.com/word2vec-for-phrases-learning-embeddings-for-more-than-one-word-727b6cf723cf"
   ]
  },
  {
   "cell_type": "code",
   "execution_count": 4,
   "metadata": {},
   "outputs": [],
   "source": [
    "bigram_phrases = Phrases(sentences)"
   ]
  },
  {
   "cell_type": "markdown",
   "metadata": {
    "tags": []
   },
   "source": [
    "L'object `phrases` peut être vu comme un large dictionnaire d'expressions multi-mots associées à un score, le *PMI-like scoring*. Ce dictionnaire est construit par un apprentissage sur base d'exemples.\n",
    "Voir les références ci-dessous :\n",
    "- https://arxiv.org/abs/1310.4546\n",
    "- https://en.wikipedia.org/wiki/Pointwise_mutual_information"
   ]
  },
  {
   "cell_type": "code",
   "execution_count": 5,
   "metadata": {},
   "outputs": [
    {
     "data": {
      "text/plain": [
       "dict"
      ]
     },
     "execution_count": 5,
     "metadata": {},
     "output_type": "execute_result"
    }
   ],
   "source": [
    "type(bigram_phrases.vocab)"
   ]
  },
  {
   "cell_type": "markdown",
   "metadata": {},
   "source": [
    "Il contient de nombreuses clés qui sont autant de termes observés dans le corpus"
   ]
  },
  {
   "cell_type": "code",
   "execution_count": 6,
   "metadata": {},
   "outputs": [
    {
     "data": {
      "text/plain": [
       "5978799"
      ]
     },
     "execution_count": 6,
     "metadata": {},
     "output_type": "execute_result"
    }
   ],
   "source": [
    "len(bigram_phrases.vocab.keys())"
   ]
  },
  {
   "cell_type": "markdown",
   "metadata": {},
   "source": [
    "Prenons une clé au hasard :"
   ]
  },
  {
   "cell_type": "code",
   "execution_count": 7,
   "metadata": {},
   "outputs": [
    {
     "name": "stdout",
     "output_type": "stream",
     "text": [
      "absence_&\n"
     ]
    }
   ],
   "source": [
    "key_ = list(bigram_phrases.vocab.keys())[144]\n",
    "print(key_)"
   ]
  },
  {
   "cell_type": "markdown",
   "metadata": {},
   "source": [
    "Le dictionnaire indique le score de cette coocurrence :"
   ]
  },
  {
   "cell_type": "code",
   "execution_count": 8,
   "metadata": {},
   "outputs": [
    {
     "data": {
      "text/plain": [
       "1"
      ]
     },
     "execution_count": 8,
     "metadata": {},
     "output_type": "execute_result"
    }
   ],
   "source": [
    "bigram_phrases.vocab[key_]"
   ]
  },
  {
   "cell_type": "markdown",
   "metadata": {},
   "source": [
    "Lorsque l'instance de `Phrases` a été entraînée, elle peut concaténer les bigrams dans les phrases lorsque c'est pertinent."
   ]
  },
  {
   "cell_type": "code",
   "execution_count": 9,
   "metadata": {},
   "outputs": [
    {
     "name": "stdout",
     "output_type": "stream",
     "text": [
      "CPU times: user 1.33 ms, sys: 6 µs, total: 1.34 ms\n",
      "Wall time: 5.16 ms\n"
     ]
    },
    {
     "data": {
      "text/plain": [
       "<gensim.interfaces.TransformedCorpus at 0x7fb7c4556910>"
      ]
     },
     "execution_count": 9,
     "metadata": {},
     "output_type": "execute_result"
    }
   ],
   "source": [
    "%time bigram_phrases[sentences]"
   ]
  },
  {
   "cell_type": "markdown",
   "metadata": {},
   "source": [
    "### Conversion des `Phrases` en objet `Phraser`\n",
    "\n",
    "`Phraser` est un alias pour `gensim.models.phrases.FrozenPhrases`, voir ici https://radimrehurek.com/gensim/models/phrases.html.\n",
    "\n",
    "Le `Phraser` est une version *light* du `Phrases`, plus optimale pour transformer les phrases en concaténant les bigrams."
   ]
  },
  {
   "cell_type": "code",
   "execution_count": 10,
   "metadata": {},
   "outputs": [],
   "source": [
    "bigram_phraser = Phraser(phrases_model=bigram_phrases)"
   ]
  },
  {
   "cell_type": "markdown",
   "metadata": {},
   "source": [
    "Le `Phraser` est un objet qui convertit certains unigrams d'une liste en bigrams lorsqu'ils ont été identifiés comme pertinents."
   ]
  },
  {
   "cell_type": "code",
   "execution_count": 11,
   "metadata": {},
   "outputs": [
    {
     "name": "stdout",
     "output_type": "stream",
     "text": [
      "CPU times: user 3.56 ms, sys: 15 µs, total: 3.57 ms\n",
      "Wall time: 3.49 ms\n"
     ]
    },
    {
     "data": {
      "text/plain": [
       "<gensim.interfaces.TransformedCorpus at 0x7fb76947f5b0>"
      ]
     },
     "execution_count": 11,
     "metadata": {},
     "output_type": "execute_result"
    }
   ],
   "source": [
    "%time bigram_phraser[sentences]"
   ]
  },
  {
   "cell_type": "markdown",
   "metadata": {},
   "source": [
    "### Extraction des trigrams"
   ]
  },
  {
   "cell_type": "markdown",
   "metadata": {},
   "source": [
    "Nous répétons l'opération en envoyant cette fois la liste de bigrams afin d'extraire les trigrams."
   ]
  },
  {
   "cell_type": "code",
   "execution_count": 12,
   "metadata": {},
   "outputs": [],
   "source": [
    "trigram_phrases = Phrases(bigram_phraser[sentences])"
   ]
  },
  {
   "cell_type": "code",
   "execution_count": 13,
   "metadata": {},
   "outputs": [],
   "source": [
    "trigram_phraser = Phraser(phrases_model=trigram_phrases)"
   ]
  },
  {
   "cell_type": "markdown",
   "metadata": {},
   "source": [
    "### Création d'un corpus d'unigrams, bigrams, trigrams"
   ]
  },
  {
   "cell_type": "code",
   "execution_count": 14,
   "metadata": {},
   "outputs": [],
   "source": [
    "corpus = list(trigram_phraser[bigram_phraser[sentences]])"
   ]
  },
  {
   "cell_type": "code",
   "execution_count": 15,
   "metadata": {},
   "outputs": [
    {
     "name": "stdout",
     "output_type": "stream",
     "text": [
      "[['v', 'i', 'l', 'l', 'e', 'de', 'bruxelles', 'bulletin', 'ires', '8eanas', 'dl', '!'], ['conseil_communal', 'annee', '1847', '.'], ['au', 'ville', 'de', 'b', 'r', 'u', 'x', 'e', 'l', 'l', 'e', 's', '.'], ['bulletin', 'conseil', 'aes', 'seances', 'communal', '.'], ['annee', '1847', '.'], ['bruxelles', ',', 'imprimerie', 'd', 'e', 'j', '.'], ['h', '.', 'b', 'r', 'i', 'a', 'r', 'd', ',', 'rite', 'n', 'e', 'u', 'v', 'e', ',', '3', '1', ',', 'faubourg', 'de', 'n', 'a', 'm', 'u', 'r', ',', '1', '84', '8', 'de', '!'], ['du', 'consei', 'dibi', 'e', '.', '-', 'communication', 'conclusions', 'de', 'la', 'section', 'des', 'du', 'nouvel_hospice', 'pour', 'les', 'av', 'enraisonde', 'l', \"'\", 'absence', '&', 'maladie', '.', 'le', 'conseil', 'ajourne', 'leurs', 'de', 'pierre', 'el', 'marchai', 'cles', 'des', 'taxes', 'communale', \"'\", 'bieniaance', 'eldeseianv', 'il', 'est', 'donne', 'communie', ';', 'mandant', 'le', 'o', 'p', 'fa', 'gnant', 'l', \"'\", 'envoi', 'de', 'leur', 'bn', 'par', 'l', \"'\", 'etat', 'obligatoire', 'p', 'secretariat', 'et', 'dtput', 'uf', 'proposition', 'dan', '*', 'le', 'meme', 'u', 'est', 'donne_lecture', 'd', \"'\", 't', 'glissement', 'd', \"'\", 'un', 'marc', '!'], [\"'*\", 'royales', ',', 'rue', 'de', 'la', 'i', 'd', 'e', 'k', ':', ';', 'i', 'fai', 'phonnenr', 'de', 'to', '>>', '<<', '<<', 'terrains', 'reumsderb', '.\"'], ['^', 'par', 'une', 'combinaison', 'f', 'sans', 'devoir', 'fe', 'soit', 'dow', 'ans', ',', 'un', 'marcs', '1', 's', 'u', 'r', 'l', 'iraocs', '.'], ['^', 'w', 'metres', 'sur', '35', 'l', ';', 'n', '^', 'espourvica', '.', 'lem', 'ed', '<<', 'l', 't', 'a', 'r', '<<<<', 'lle5la', '<<', 'compte', 'des', 'du', 'conseil', 'de', 'rendu', 'seances', 'communal', 'bruxelles', '.'], ['seance', 'du', '9', 'janvier', '.'], ['(', 'presidence', 'de', 'm', '.', 'le', 'chevalier', 'w', 'y', 'n', 's', 'de', 'raucourt', ',', 'bourgmestre', '.)'], ['sommaire', '.'], ['--', 'communication', 'de', 'pieces', '.'], ['--', 'discussion', 'et', 'adoption', 'des', 'conclusions', 'de', 'la', 'section', 'des_travaux_publics', 'relatives', 'a', 'l', \"'\", 'emplacement', 'du', 'nouvel_hospice', 'pour', 'les', 'aveugles', 'indigents', '.'], ['en', 'raison', 'de', 'l', \"'\", 'absence', 'de', 'm', '.', 'l', \"'\", 'echevin', 'doucet', ',', 'pour', 'cause', 'de', 'maladie', ',', 'le', 'conseil', 'ajourne', 'l', \"'\", 'examen', 'de', 'la', 'reclamation', 'des', 'tailleurs', 'de', 'pierre', 'et', 'marchands', 'de', 'briques', ',', 'contre', 'quelques', 'articles', 'des', 'taxes_communales', ',', 'et', 'la', 'discussion', 'des', 'budgets', 'de', 'la', 'bienfaisance', 'et', 'des', 'enfants', '-', 'trouves', '.'], ['il', 'est', 'donne_communication', 'd', \"'\", 'une', 'lettre', 'demm', '.', 'donies', ',', 'commandant', 'le', 'corps', 'des', 'pompiers', ',', 'et', 'adolphe', 'bartels', ',', 'accompagnant', 'l', \"'\", 'envoi', 'de', 'leur', 'brochure', 'relative', 'a', 'un', 'plan', 'd', \"'\", 'assurance', 'par', 'l', \"'\", 'etat', 'obligatoire', 'pour', 'tous', 'les', 'proprietaires', '.'], ['--', 'depot', 'au_secretariat', 'et', 'depot', 'sur', 'le', 'bureau', 'pendant', 'la', 'discussion', 'de', 'la', 'proposition', 'dans', 'le', 'meme', 'sens', 'faite', 'par', 'm', '.', 'le', 'conseiller', 'bartels', '.'], ['il', 'est', 'donne_lecture', 'd', \"'\", 'une', 'lettre', 'de', 'm', '.', 'bortier', ',', 'relative', 'a', 'l', \"'\", 'etablissement', 'd', \"'\", 'un', 'marche', 'dans', 'l', \"'\", 'ancien', 'local', 'des', 'messageries', 'royales', ',', 'rue', 'de', 'la', 'madeleine', '.'], ['elle', 'est', 'ainsi_concue', ':', '<<', 'j', \"'\", 'ai', 'l', \"'\", 'honneur', 'de', 'vous', 'adresser', 'un', 'plan', 'de', 'marche_couvert', 'a', 'etablir', 'sur', 'les', 'terrains', 'reunis', 'de', 'l', \"'\", 'hotel', 'des', 'messageries', ',', 'des', 'hospices', 'et', 'de', 'm', '.', 'partoes', '.'], ['par', 'une', 'combinaison_financiere', 'que_je_viens', 'vous', 'soumettre', ',', 'la', 'ville', 'de', 'bruxelles', ',', 'sans', 'devoir', 'faire', 'la', 'moindre', 'avance', 'de', 'fonds', ',', 'soit', 'pour', 'acquisitions', 'de', 'terrains', ',', 'soit', 'pour', 'constructions', ',', 'deviendrait', ',', 'au', 'bout', 'de', 'vingt_ans', ',', 'proprietaire', 'd', \"'\", 'un', 'marche', 'dont', 'le', 'produit', 'est', 'evalue', 'a', 'plus', 'de', 'soixante_mille', 'francs', '.'], ['<<', 'avant', 'la', 'mise', 'en', 'possession', 'de', 'ce', 'vaste', 'terrain', 'ayant', 'un', 'developpement', 'de', 'go', 'metres', 'sur', '33', ',', 'la', 'ville', 'pourrait', 'faire', 'construire', 'au', 'premier_etage', 'des', 'salles', 'pour', 'l', \"'\", 'academie', 'des', 'beaux', '-', 'arts', '.'], ['<<', '11', 'suffira', 'de', 'jeter', 'un', 'regard', 'sur', 'le', 'plan', 'et', 'd', \"'\", 'examiner', 'les', 'chiffres', 'qui', 'figurent', 'dans', 'l', \"'\", 'expose', ',', 'pour', 'comprendre', 'tous', 'les', 'avantages', 'que', 'presente', 'a', 'la', 'ville', 'de', 'bruxelles', 'la', 'realisation', 'de', 'ce', 'projet', '.'], ['<<', 'en', 'renvoyant', 'le', 'plan', 'a', 'la', 'commission', 'des_travaux_publics', ',', 'je_viens', 'vous_prier', ',', 'messieurs', ',', 'de', 'vouloir_bien', 'demander', 'qu', \"'\", 'un', 'rapport', 'soit', 'fait', 'immediatement', ':', 'un', 'contrat', 'me', 'lie', 'avec', 'l', \"'\", 'administration', 'des', 'hospices', '5', 'avant', 'le', '--', '2', '--', 't', 'fevrier', 'j', \"'\", 'ai', 'a', 'me', 'decider', 'sur', 'l', \"'\", 'acceptation', 'de', 'plusieurs_lots', 'de', 'terrains', 'ie', 'duquesnoy', '.'], ['11', 'est', 'donc', 'indispensable', 'que', 'la', 'ville', 'me', 'fasse_connaitre', 'sa', 'vision', 'avant', 'la', 'fin', 'du', 'mois', ',', 'sinon', 'ma_proposition', 'devra_etre', 'consideree', 'imrac', 'non', 'avenue', '.'], ['i', 'l', 'est', 'donne', 'ensuite', 'lecture', 'de', 'l', \"'\", 'expose_financier', 'de', 'l', \"'\", 'affaire', ',', 'dt', 'par', 'm', '.', 'bortier', 'dans', 'les', 'termes', 'suivans', ':', 'e', 'v', 'a', 'l', 'u', 'a', 't', 'i', 'o', 'n', 'des', 't', 'e', 'r', 'r', 'a', 'i', 'n', 's', ',', 'constructions', 'de', 'caves', 'e', 't', 'hangars', '.'], ['hotel', 'des', 'messageries', ',', 'calcule', 'sur', 'un', 'revenu', 'qui', 'a', 'ete', 'de', '12', ',', '000', 'f', 'r', '.'], [',', 'soit', '00', ',', '000', 'f', 'r', '.'], [';', 'a', 'deduire', 'de', 'cette', 'somme', 'la', 'valeur', 'de', 'deux', 'maisons_louees', ',', '000', 'f', 'r', '.'], [',', 'soit', '120', ',', '000', 'fr', '.,', 'y_compris', 'les', 'batimens', 'dans', 'la', 'cour', 'fr', '.'], ['180', ',', '000', 'terrains', 'achetes', 'a', 'l', \"'\", 'administration', 'des', 'hospices', '(', 'p', 'r', 'i', 'x', 'rachat', ')', '28', ',', '000', 'terrains', 'achetes', 'conditionnellement', 'a', 'la', 'meme', 'administraion', '(', 'prix', 'd', \"'\", 'achat', ')', '88', ',', '000', 'terrain', 'a', 'm', '.'], ['partoes', '10', ',', '000', 'constructions', 'de', 'caves', 'et', 'hangars', ',', 'p', 'r', 'i', 'x', '5', 'etablir', 'lors', 'de', \"'\", 'adjudication_publique', '(', 'devis', ')', '60', ',', '000', 'total', 'f', 'r', '.'], ['366', ',', '000', 'produit', 'du', 'm', 'a', 'r', 'c', 'h', 'e', '.'], ['1', ',', '250', 'metres', 'de', 'surface', ',', 'a', '10', 'centimes', 'par', 'metre', 'et', 'pendant', '311', 'jours', 'de', 'l', \"'\", 'annee', ',', 'donnent', 'un', 'produit', 'de', 'f', 'r', '.'], ['38', ',', '875', '1', ',', '875', 'metres', 'de', 'caves', ',', 'a', '5', 'centimes', 'par', 'metre', 'et', 'demi', ',', 'pendant', '311', 'jours', '23', ',', '325', 'total', 'f', 'r', '.'], ['62', ',', '200', 'n', '.', 'b', '.'], ['a', 'paris', ',', 'au', 'marche', 'de', 'la', 'madeleine', ',', 'ou', 'le', 'p', 'r', 'i', 'x', 'de', 'location', 'est', 'inferieur', 'a', 'celui', 'de', 'quatre', 'autres', 'marches', ',', 'le', 'metre', 'de', 'surface', 'est', 'loue', 'a', 'raison', 'de', '25', 'centimes', 'par', 'j', 'o', 'u', 'r', ',', 'dimanches', 'et', 'fetes', 'compris', '.'], ['de', 'tous', 'les', 'marches', 'de', 'p', 'a', 'r', 'i', 's', ',', 'le', 'marche', 'saint', '-', 'joseph', 'est', 'celui', 'ou', 'le', 'p', 'r', 'i', 'x', 'de', 'location', 'est', 'le', 'plus', 'eleve', ':', 'i', 'l', 'y', 'a', 'des', 'places', 'qui', 'se_louent', 'jusqu', \"'\", 'a', '6', 'f', 'r', '.'], ['les', '4', 'metres', '.'], ['depenses', '.'], ['interets', 'sur', '366', ',', '000', 'f', 'r', '.'], [',', 'a', '4', '1', '/', '2', 'p', '.'], ['c', '.', 'amortissement', 'solde', 'en', 'benefice', '.'], ['.'], ['total', '.'], ['f', 'r', '.'], ['16', ',', '470', '20', ',', '000', '25', ',', '730', 'f', 'r', '.'], ['62', ',', '200', 'recettes', '.'], ['location', 'du', 'marche', 'de', 'la', 'madeleine', '.'], ['total', '.'], ['.'], ['f', 'r', '.'], ['62', ',', '200', 'f', 'r', '.'], ['62', ',', '200', 'solde', 'en', 'benefice', ',', 'l', 'e', 'annee', 'r', 'f', 'r', '.'], ['25', ',', '730', 'resume', '.'], ['la', 'ville', 'de', 'bruxelles', ',', 'des', 'la', 'premiere_annee', ',', 'percevrait', ',', 'deduction_faite', 'des', 'interets', 'et', 'de', 'l', \"'\", 'amortissement', ',', 'la', 'somme', 'de', '25', ',', '080', 'f', 'r', '.'], [';', 'le', 'produit', 'du', 'marche', 'augmenterait', 'tous', 'les', 'ans', 'dans', 'la', 'proportion', 'de', 'la', 'reduction', 'du', 'capital', 'q', 'u', 'i', ',', 'par', 'l', \"'\", 'amortissement', 'annuel', 'de', '20', ',', '000', 'f', 'r', '.'], [',', 'se_trouvera', 'eteint', 'en', '18', 'ou', '19', 'ans', '.'], ['en', '1867', ',', 'l', 'a', 'ville', 'de', 'bruxelles', 'deviendrait_proprietaire', 'd', \"'\", 'un', 'marche', 'produisant', 'plus', 'de', 'soixante_mille', 'francs', '.'], ['--', '3', '--', 'proposition', 'de', 'm', '.'], ['bortier', 'est', 'renvoyee', 'a', 'sections', 'des_travaux_publics', 'et', 'des', 'finances', ',', 'avec', 'la', 'l', \"'\", 'examen', 'des', 'demande', 'd', \"'\", 'un', 'prompt_rapport', '.'], ['m', '.', 'le', 'secretaire_donne_lecture', 'd', 'u', 'rapport', 'de', 'l', 'a', 'section', 'des_travaux_publics', 'sur', 'l', \"'\", 'emplacement', 'de', 'l', \"'\", 'hospice', 'projete', 'pour', 'les', 'aveugles_indigens', '.'], ['m', 'u', 'le', 'college', 'a', 'communique', 'a', 'la', 'section', 'la', 'resolution_prise', 'le', '1', '5', 'decembre', 'dernier', ',', 'p', 'a', 'r', 'l', 'e', 'conseil_general', 'd', \"'\", 'administration', 'des', 'hospices', 'de', 'bruxelles', ',', 'portant', 'acceptation', 'de', 'la', 'donation', 'de', 'm', 'm', '.'], ['schuermans', 'et', 'verelst', 'p', 'o', 'u', 'r', 'l', 'a', 'construction', 'd', \"'\", 'un', 'hospice', 'destine', 'aux', 'aveugles_indigens', '.'], ['<<', 'a', 'cette', 'resolution', 'se_trouvent', 'joints', ':', '1', '<>', 'l', \"'\", 'acte', 'de', 'donation', 'modifie', 'dans', 'le', 'sens', 'de', 'la', 'deliberation', 'du', 'conseil_communal', ',', 'en', 'date', 'du', '4', 'novembre', '1', '8', '4', '6', ';', 'q', '2', 'deg', 'une', 'note', 'indiquant', 'les', 'changemens', 'apportes', 'au', 'projet', 'p', 'r', 'i', 'm', 'i', 't', 'i', 'f', 'tant', 'par', 'l', \"'\", 'administration', 'des', 'hospices', ',', 'que', 'par', 'les', 'donateurs', '.'], ['<<', 'cet', 'acte', 'a', 'fait', ',', 'messieurs', ',', 'de', 'la', 'part', 'de', 'la', 'section', ',', 'l', \"'\", 'objet', 'd', \"'\", 'un', 'examen_attentif', '.'], ['b', 'la', 'plupart', 'des', 'modifications_proposees', 'par', 'l', \"'\", 'administration', 'des', 'hospices', 'et', 'par', 'les', 'donateurs', 'sont', 'de', 'peu', 'importance', ',', 'et', 'ont', 'paru', 'de', 'nature', 'a', 'pouvoir', 'etre', 'adoptees', ';', 'seulement', 'la', 'section', 'pense', 'q', 'u', \"'\", 'i', 'l', 'conviendrait', 'de', 'changer', 'en', 'partie', 'la', 'redaction', 'du', 'SS', '2', 'de', 'l', \"'\", 'art', '.'], ['6', 'et', 'de', 'substituer', 'de', 'nouvelles_dispositions', 'a', 'celles', 'de', 'l', \"'\", 'art', '.'], ['8', 'de', 'l', \"'\", 'acte', 'de', 'donation', '.'], ['<', 'a', 'le', '2', '?'], ['SS', 'de', 'l', \"'\", 'art', '.'], ['6', 'dit', ':', '*', 'm', '.'], ['cluysenaar', ',', 'auteur', 'de', 'l', \"'\", 'avant', '-', 'projet', 'de', 'l', \"'\", 'hospice', 'a', 'construire', 'p', 'o', 'u', 'r', 'les', 'aveugles', ',', 's', \"'\", 'offranta', 'fournir_gratuitement', 'tous', 'les', 'profils', 'et', 'details', 'accessoires', 'et', 'a', 'diriger', 'les', 'travaux', 'jusqu', \"'\", 'a', 'leur', 'parfait_achevement', ',', 'le', 'conseil_communal', 'a', 'decide', 'qu', \"'\", 'au', 'cas', 'ou', 'ces', 'plans', 'seraient', 'admis', 'et', 'executes', 'sous', 'sa', 'direction', ',', 'i', 'l', 'l', 'u', 'i', 'sera', 'accorde', ',', 'etc', '.'], ['>>', '<<', 'la', 'section', 'propose', 'de', 'terminer', 'ainsi', ':', 'four', 'l', 'u', 'i', 'et', 'ses', 'descendans', ',', 'la', 'collation', 'd', \"'\", 'un', 'lit', 'dans', 'ledit', 'hospice', 'en', 'faveur', ',', 'soit', 'd', \"'\", 'un', 'membre', 'de', 'leur_famille', ',', 'belge', 'de', 'naissance', ',', 'soit', 'd', \"'\", 'un', 'aveugle', 'bruxellois', '.'], ['<<', 'l', \"'\", 'art', '.'], ['8', 'porte', ':', '<<', 'l', \"'\", 'administration', 'des', 'hospices', 'touchera', 'le', 'l', 'o', 'y', 'e', 'r', 'de', 'la', 'blanchisserie', '(', 'paye_par_anticipation', 'jusqu', \"'\", 'au', '1er', 'mars_prochain', ')', 'a', 'partir', 'de', 'cette', 'date', '.'], ['il', 'sera', 'tenu_compte', 'a', 'la', 'societe', 'du', 'produit', 'des', 'actions', 'et', 'capitaux', 'donnes', 'j', 'u', 's', 'qu', \"'\", 'a', 'leur', 'application', 'aux', 'constructions', 'susmentionnees', 'apres', 'l', \"'\", 'avance', 'c', 'o', 'n', 'venue', 'sur', 'la', 'propriete', 'de', 'la', 'blanchisserie', '.'], ['<<', '<<', 'l', 'a', 'section', 'propose', 'la', 'redaction_suivante', ':', '<<', 'a', 'r', 't', '.'], ['8', '.'], ['l', 'a', 'societe', 'de', 'philanthropie', 'j', 'o', 'u', 'i', 'r', 'a', 'des', 'revenus', ',', 'interets', 'et', 'd', 'i', 'v', 'i', 'dendes', 'des', 'actions', 'jusqu', \"'\", 'au', 'i', '>>', 'janvier', '1', '8', '4', '7', ',', 'et', 'l', \"'\", 'administration', 'des', 'hospices', 'touchera', 'les', 'loyers', 'de', 'la', 'blanchisserie', ',', 'a', 'partir', 'de', 'l', 'a', 'derniere_echeance', '.'], ['a', 'les', 'loyers', ',', 'interets', 'et', 'dividendes', 'seront', 'ajoutes', 'aux', 'capitaux', 'p', 'o', 'u', 'r', 'etre', 'appliques', 'a', 'la', 'construction', 'de', 'l', \"'\", 'hospice', ',', 'a', '^', 'moyennant', 'ce', 'changement', ',', 'i', 'l', 'y', 'aurait', 'l', 'i', 'e', 'u', ',', 'suivant', 'la', 'section', ',', 'd', \"'\", 'approuver', 'le', 'nouvel', 'acte', 'de', 'donation', 'dont', 'i', 'l', 's', \"'\", 'agit', '.'], ['<<', 'les', 'conclusions', 'que', 'la', 'section', 'des_travaux_publics', 'a', 'eu', 'l', \"'\", 'honneur', 'de', 'soumettre', 'precedemment', 'au', 'conseil_communal', 'tendaient', 'a', 'etablir', 'l', \"'\", 'hospice', 'des', 'aveugles', 'a', 'la', 'plaine', 'dite', 'du', 'remblai', '.'], ['e', 'le', 'conseil', 'a', 'ajourne', 'toute', 'decision', 'sur', 'ce', 'point', ',', 'et', 'a', 'resolu', 'que', 'la', 'question', 'serait', 'soumise', 'a', 'un', 'nouvel_examen', '.'], ['<<', 'dans', 'la', 'discussion', 'a', 'laquelle', 'ont', 'donne_lieu', 'les', 'conclusions', 'de', 'la', 'section', ',', 'un', 'membre', 'a', 'emis', 'l', \"'\", 'opinion', 'qu', \"'\", 'il', 'conviendrait', 'de', 'placer', 'ledit', 'hospice', 'au', 'boulevard', 'de', 'waterloo', ',', 'a', 'cote', 'de', 'la', 'caserne', 'de', 'gendarmerie', '.'], ['apres_avoir', 'attentivement', 'pese', 'les', 'considerations', 'qui', 'ont_ete_presentees', 'en', 'faveur', 'de', 'c', 'e', '-', '--', '4', '--', 'l', \"'\", 'emplacement', 'du', 'boulevard', 'de', 'waterloo', ',', 'la', 'section', 'des_travaux_publics', 'a', 'cru_devoir', 'maintenir', 'ses', 'conclusions', 'precedentes', 'en', 'faveur', 'de', 'remplacement', 'de', 'la', 'plaine', 'du', 'remblai', '.'], ['<<', 'dans', 'le', 'sein', 'du', 'conseil', ',', 'l', \"'\", 'honorable_membre', 'qui', 'a', 'donne', 'la', 'preference', 'aux', 'terrains', 'du', 'boulevard', 'de', 'waterloo', ',', 's', \"'\", 'est', 'appuye', 'sur', 'deux', 'motifs', ':', 'dans', 'son_opinion', ',', 'l', \"'\", 'hospice', 'devrait_etre', 'erige', 'sur', 'ces', 'terrains', ',', 'd', \"'\", 'abord', ',', 'parce', 'que', 'l', \"'\", 'on', 'pourrait', 'combiner', 'cette', 'construction', 'avec', 'les', 'travaux', 'a', 'faire', 'a', 'l', \"'\", 'hopital_saint', '-', 'pierre', ';', 'ensuite', ',', 'parce', 'que', 'differens', 'services', ',', 'tels', 'que', 'le', 'service_medical', ',', 'le', 'service', 'de', 'la', 'pharmacie', 'et', 'celui', 'des', 'vivres', 'pourraient_etre', 'communs', 'aux', 'deux', 'etablissemens', ',', 'et', 'par', 'la', 'reviendraient', 'moins', 'chers', '.'], ['<<', 'de', 'ces', 'deux', 'avantages', ',', 'le', ',', 'section', 'estime', 'que', 'le', 'premier', 'n', \"'\", 'est', 'pas', 'susceptible', 'de', 'realisation', ',', 'et', 'que', 'le', 'second', 'pourra_etre', 'obtenu', ',', 'quel', 'que', 'soit', 'celui', 'des', 'deux', 'terrains', 'ou', 'l', \"'\", 'on', 'erigera', 'l', \"'\", 'hospice', 'projete', '.'], ['<<', 'on', 'ne', 'pourrait', 'combiner', 'les', 'travaux', 'de', 'l', \"'\", 'hospice', 'avec', 'ceux', 'qu', \"'\", 'il', 'y', 'aurait', 'a', 'faire', 'a', 'l', \"'\", 'hopital_st', '.-', 'pierre', '.'], ['en', 'effet', ',', 'les', 'deux', 'etablissemens', 'seront', 'separes', 'l', \"'\", 'un', 'de', 'l', \"'\", 'autre', 'par', 'la', 'rue', 'nouvelle', ',', 'qui', 'forme', 'le', 'prolongement', ',', 'de', 'la', 'rue_aux_laines', ',', 'entre', 'la', 'caserne', 'de', 'la', 'gendarmerie', 'et', 'l', \"'\", 'hopital_st', '.-', 'pierre', '.'], ['pour', 'annexer', 'l', \"'\", 'hospice', 'des', 'aveugles', 'a', 'l', \"'\", 'hopital_st', '.-', 'pierre', ',', 'il_faudrait', 'ou', 'supprimer', 'la', 'rue', 'nouvelle', 'ou', 'lui', 'faire', 'former', 'un', 'coude', ',', 'ce', 'qui', 'rendrait', 'cette', 'voie', 'de', 'communication', 'tout', 'a', 'fait', 'moins', 'belle', 'et', 'moins', 'utile', ';', 'd', \"'\", 'ailleurs', ',', 'i', 'l', 'ne', 'faut', 'pas', 'perdre', 'de', 'vue', 'que', 'l', \"'\", 'hospice', 'des', 'aveugles', 'est', 'une', 'institution', 'speciale', 'et', 'distincte', 'des', 'etablissemens', 'de', 'l', \"'\", 'administration', 'des', 'hospices', ';', 'c', \"'\", 'est', 'la', 'societe', 'de', 'philanthrophie', 'qui', 'administrera', 'le', 'nouvel_hospice', ',', 'c', \"'\", 'est', 'elle', 'qui', 'sera', 'charge', 'de', 'l', \"'\", 'entretenir', ';', 'elle', 'y', 'aura', 'ses', 'bureaux', ';', 'les', 'locaux', 'de', 'l', \"'\", 'hospice', 'ne', 'pourront_servir', 'pour', 'les', 'besoins', 'de', 'l', \"'\", 'hopital', '.'], ['<<', '11', 'est', 'a', 'desirer', 'qu', \"'\", 'on', 'puisse', 'utiliser', ',', 'pour', 'l', \"'\", 'hospice', 'des', 'aveugles', ',', 'certains', 'services', 'de', 'l', \"'\", 'hopital_st', '.-', 'pierre', ';', 'mais', 'l', \"'\", 'etablissement', 'de', 'l', \"'\", 'hospice', 'a', 'la', 'plaine', 'du', 'remblai', 'ne', 'portera', 'pas', 'obstacle', 'a', 'cette', 'combinaison', ',', 'car', 'la', 'plaine', 'est', 'a', 'peu', 'de', 'distance', 'de', 'l', \"'\", 'hopital', ',', 'et', 'en', 'sera', 'plus_rapprochee', 'encore', ',', 'lorsque', 'la', 'rue', 'du', 'remblai', 'debouchera', 'directement', 'sur', 'la', 'rue_haute', '.'], ['la', 'section', 'prefere', 'l', \"'\", 'emplacement', 'de', 'la', 'plaine', 'de', 'remblai', 'a', 'celui', 'du', 'boulevard', 'de', 'waterloo', 'pour', 'trois', 'motifs', ':', '<<', '1', 'deg', 'parce', 'que', 'les', 'terrains', 'a', 'ceder', 'par', 'la', 'ville', 'ont', 'un', 'tiers', 'moins', 'de', 'valeur', 'a', 'la', 'plaine', 'du', 'remblai', 'qu', \"'\", 'au', 'boulevard', 'de', 'waterloo', ',', 'et', 'qu', \"'\", 'il_convient', 'de', 'restreindre_autant', 'que', 'possible', 'l', \"'\", 'etendue', 'du', 'sacrifice', 'qui', 'nous', 'est', 'demande', ';', 'a', '2', 'deg', 'parce', 'que', 'les', 'terrains', 'du', 'boulevard', 'de', 'waterloo', ',', 'a', 'raison', 'de', 'leur', 'situation', 'et', 'de', 'la', 'proximite', 'des', 'constructions_erigees', 'sur', 'ce', 'point', 'depuis', 'un', 'certain_nombre', 'd', \"'\", 'annees', ',', 'pourraient_etre', 'mis', 'en', 'vente', 'immediatement', ',', 'tandis', 'que', 'ceux', 'de', 'la', 'plaine', 'du', 'remblai', 'ne', 'pourraient', 'l', \"'\", 'etre', 'convenablement', 'que', 'dans', 'un', 'temps', 'plus', 'eloigne', '.'], ['<<', '3', 'deg', 'parce', 'que', 'la', 'construction', 'de', 'l', \"'\", 'hospice', 'a', 'la', 'plaine', 'du', 'remblai', 'embellira', 'une', 'localite', 'ou', ',', 'sans', 'cela', ',', 'on', 'ne', 'verrait', 's', \"'\", 'elever', 'd', \"'\", 'ici', 'a', 'longtemps', 'aucune', 'construction', 'quelconque', ';', '<<', 'quant', 'aux', 'fondations', 'de', 'l', \"'\", 'hospice', ',', 'elle', 'couteront', 'autant', 'au', 'boulevard', 'du', 'midi', 'qu', \"'\", 'a', 'celui', 'de', 'waterloo', ',', 'de', 'l', \"'\", 'avis', 'de', 'l', \"'\", 'architecte', ',', 'auteur', 'du', 'plan', '.'], ['par', 'ces', 'motifs', ',', 'la', 'section', 'a', 'l', \"'\", 'honneur', 'de', 'proposer', 'au', 'conseil', 'de', 'conceder', 'dans', 'la', 'plaine', 'du', 'remblai', ',', 'un', 'terrain', 'd', \"'\", 'une', 'superficie', 'd', \"'\", 'environ', '60', '.', '000', 'pieds_carres', 'pour', 'l', \"'\", 'erection', 'de', 'l', \"'\", 'hospice', 'des', 'aveugles_indigens', '.'], ['m', '.'], ['bourgeois', '.'], ['dans', 'aucun', 'des', 'rapports', 'qui', 'ont_ete', 'faits', 'au', 'conseil', 'sur', 'cette_affaire', ',', 'je', 'n', \"'\", 'ai', 'vu', 'ni', 'l', \"'\", 'estimation', 'du', 'cout', 'definitif', ',', 'ni', 'l', \"'\", 'assurance', 'que', 'la', 'donation_faite', 'a', 'la', 'sociele', 'philanlropique', 'pourra', 'suffire', 'aux', 'depenses', 'de', 'construction', 'de', 'l', \"'\", 'hospice', 'projete', '.'], ['car', 'je', 'ne', 'me', 'fie', 'guere', 'aux', 'evaluations', 'des', '--', '5', '--', 'architectes', ',', 'auxquelles', 'i', 'l', 'faut', 'toujours', 'ajouter', 'sinon', 'la', 'moitie', ',', 'au', 'moins', 'le', 'tiers', 'je_voudrais', 'avoir', 'a', 'ce', 'sujet', 'quelques', 'donnees', '.'], ['m', 'le', 'president', '.']]\n"
     ]
    }
   ],
   "source": [
    "print(corpus[:100])"
   ]
  },
  {
   "cell_type": "markdown",
   "metadata": {},
   "source": [
    "## Entrainement d'un modèle Word2Vec sur ce corpus"
   ]
  },
  {
   "cell_type": "code",
   "execution_count": 16,
   "metadata": {},
   "outputs": [
    {
     "name": "stdout",
     "output_type": "stream",
     "text": [
      "CPU times: user 19min 5s, sys: 47.3 s, total: 19min 52s\n",
      "Wall time: 7min 21s\n"
     ]
    }
   ],
   "source": [
    "%%time\n",
    "model = Word2Vec(\n",
    "    corpus, # On passe le corpus de ngrams que nous venons de créer\n",
    "    vector_size=32, # Le nombre de dimensions dans lesquelles le contexte des mots devra être réduit, aka. vector_size\n",
    "    window=5, # La taille du \"contexte\", ici 5 mots avant et après le mot observé\n",
    "    min_count=5, # On ignore les mots qui n'apparaissent pas au moins 5 fois dans le corpus\n",
    "    workers=4, # Permet de paralléliser l'entraînement du modèle en 4 threads\n",
    "    epochs=5 # Nombre d'itérations du réseau de neurones sur le jeu de données pour ajuster les paramètres avec la descende de gradient, aka. epochs.\n",
    ")"
   ]
  },
  {
   "cell_type": "markdown",
   "metadata": {},
   "source": [
    "#### Remarque\n",
    "\n",
    "Vous voyez ici que l'entrainement du modèle est parallélisé (sur 4 workers).\n",
    "\n",
    "Lors qu'on parallélise l'entrainement du modèle, 4 modèles \"séparés\" sont entrainés sur environ un quart des phrases.\n",
    "\n",
    "Ensuite, les résultats sont agrégés pour ne plus faire qu'un seul modèle.\n",
    "\n",
    "On ne peut prédire quel worker aura quelle phrase, car il y a des aléas lors de la parallélisation (p. ex. un worker qui serait plus lent, etc.).\n",
    "\n",
    "Du coup, les valeurs peuvent varier légèrement d'un entrainement à l'autre.\n",
    "\n",
    "Mais, globalement, les résultats restent cohérents."
   ]
  },
  {
   "cell_type": "markdown",
   "metadata": {},
   "source": [
    "### Sauver le modèle dans un fichier"
   ]
  },
  {
   "cell_type": "code",
   "execution_count": 17,
   "metadata": {},
   "outputs": [],
   "source": [
    "outfile = f\"../data/bulletins_2.model\"\n",
    "model.save(outfile)"
   ]
  },
  {
   "cell_type": "markdown",
   "metadata": {},
   "source": [
    "## Explorer le modèle"
   ]
  },
  {
   "cell_type": "markdown",
   "metadata": {},
   "source": [
    "### Charger le modèle en mémoire"
   ]
  },
  {
   "cell_type": "code",
   "execution_count": 28,
   "metadata": {},
   "outputs": [],
   "source": [
    "model = Word2Vec.load(\"../data/bulletins_2.model\")"
   ]
  },
  {
   "cell_type": "markdown",
   "metadata": {},
   "source": [
    "### Imprimer le vecteur d'un terme"
   ]
  },
  {
   "cell_type": "code",
   "execution_count": 29,
   "metadata": {},
   "outputs": [
    {
     "data": {
      "text/plain": [
       "array([ 0.58973897, -1.0262196 ,  2.0716813 ,  1.589865  ,  1.3657871 ,\n",
       "       -2.0293982 , -0.21928205,  4.652348  , -4.202351  , -4.3337784 ,\n",
       "       -0.86379164,  5.786408  , -2.7091334 ,  1.221566  ,  3.5432715 ,\n",
       "        0.9311423 , -1.8224436 ,  1.488655  ,  2.5310202 , -0.78291976,\n",
       "        0.30947435, -3.211929  , -1.6163418 ,  4.165647  , -3.4496503 ,\n",
       "        0.3898385 ,  0.67458636,  1.77817   ,  1.7902862 ,  2.8616135 ,\n",
       "       -3.8638105 , -0.1167161 ], dtype=float32)"
      ]
     },
     "execution_count": 29,
     "metadata": {},
     "output_type": "execute_result"
    }
   ],
   "source": [
    "model.wv[\"bruxelles\"]"
   ]
  },
  {
   "cell_type": "markdown",
   "metadata": {},
   "source": [
    "### Calculer la similarité entre deux termes"
   ]
  },
  {
   "cell_type": "code",
   "execution_count": 30,
   "metadata": {},
   "outputs": [
    {
     "data": {
      "text/plain": [
       "0.86908996"
      ]
     },
     "execution_count": 30,
     "metadata": {},
     "output_type": "execute_result"
    }
   ],
   "source": [
    "model.wv.similarity(\"boucher\", \"boulanger\")"
   ]
  },
  {
   "cell_type": "markdown",
   "metadata": {},
   "source": [
    "### Chercher les mots les plus proches d'un terme donné"
   ]
  },
  {
   "cell_type": "code",
   "execution_count": 31,
   "metadata": {},
   "outputs": [
    {
     "data": {
      "text/plain": [
       "[('laeken', 0.8239486217498779),\n",
       " ('considere_comme_officiel', 0.7925914525985718),\n",
       " ('liege', 0.7702558040618896),\n",
       " ('paris', 0.7679300308227539),\n",
       " ('nivelles', 0.7521665096282959),\n",
       " ('gand', 0.7397889494895935),\n",
       " ('lille', 0.7102484703063965),\n",
       " ('differents_quartiers', 0.6752375960350037),\n",
       " ('lille_1860', 0.6710933446884155),\n",
       " ('louvain', 0.6700588464736938)]"
      ]
     },
     "execution_count": 31,
     "metadata": {},
     "output_type": "execute_result"
    }
   ],
   "source": [
    "model.wv.most_similar(\"bruxelles\", topn=10)"
   ]
  },
  {
   "cell_type": "markdown",
   "metadata": {},
   "source": [
    "### Faire des recherches complexes à travers l'espace vectoriel"
   ]
  },
  {
   "cell_type": "code",
   "execution_count": 32,
   "metadata": {},
   "outputs": [
    {
     "name": "stdout",
     "output_type": "stream",
     "text": [
      "[('lille', 0.8239251375198364), ('ostende', 0.8021267056465149), ('gand', 0.7774108052253723), ('manchester', 0.7756398320198059), ('londres', 0.7693049311637878), ('tournai', 0.7622190117835999), ('verviers', 0.7603538036346436), ('paris', 0.7556376457214355), ('louvain', 0.7518820762634277), ('prague', 0.7503906488418579)]\n"
     ]
    }
   ],
   "source": [
    "print(model.wv.most_similar(positive=['bruxelles', 'france'], negative=['belgique']))"
   ]
  },
  {
   "cell_type": "code",
   "execution_count": null,
   "metadata": {},
   "outputs": [],
   "source": []
  }
 ],
 "metadata": {
  "kernelspec": {
   "display_name": "Python 3 (ipykernel)",
   "language": "python",
   "name": "python3"
  },
  "language_info": {
   "codemirror_mode": {
    "name": "ipython",
    "version": 3
   },
   "file_extension": ".py",
   "mimetype": "text/x-python",
   "name": "python",
   "nbconvert_exporter": "python",
   "pygments_lexer": "ipython3",
   "version": "3.9.7"
  }
 },
 "nbformat": 4,
 "nbformat_minor": 4
}
