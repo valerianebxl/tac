{
 "cells": [
  {
   "cell_type": "markdown",
   "metadata": {},
   "source": [
    "# Word Embeddings : le modèle Word2Vec"
   ]
  },
  {
   "cell_type": "markdown",
   "metadata": {},
   "source": [
    "## Imports"
   ]
  },
  {
   "cell_type": "code",
   "execution_count": 1,
   "metadata": {},
   "outputs": [],
   "source": [
    "import sys\n",
    "\n",
    "from gensim.models.phrases import Phrases, Phraser\n",
    "from gensim.models import Word2Vec\n",
    "\n",
    "import nltk\n",
    "from nltk.tokenize import wordpunct_tokenize\n",
    "from unidecode import unidecode"
   ]
  },
  {
   "cell_type": "markdown",
   "metadata": {},
   "source": [
    "## Chargement et traitement des phrases du corpus"
   ]
  },
  {
   "cell_type": "markdown",
   "metadata": {},
   "source": [
    "### Création d'un objet qui *streame* les lignes d'un fichier pour économiser de la RAM"
   ]
  },
  {
   "cell_type": "code",
   "execution_count": 2,
   "metadata": {},
   "outputs": [],
   "source": [
    "class MySentences(object):\n",
    "    \"\"\"Tokenize and Lemmatize sentences\"\"\"\n",
    "    def __init__(self, filename):\n",
    "        self.filename = filename\n",
    "\n",
    "    def __iter__(self):\n",
    "        for line in open(self.filename, encoding='utf-8', errors=\"backslashreplace\"):\n",
    "            yield [unidecode(w.lower()) for w in wordpunct_tokenize(line)]"
   ]
  },
  {
   "cell_type": "code",
   "execution_count": 3,
   "metadata": {},
   "outputs": [],
   "source": [
    "infile = f\"../data/sents_2.txt\"\n",
    "sentences = MySentences(infile)"
   ]
  },
  {
   "cell_type": "markdown",
   "metadata": {},
   "source": [
    "### Détection des bigrams\n",
    "\n",
    "Article intéressant sur le sujet : https://towardsdatascience.com/word2vec-for-phrases-learning-embeddings-for-more-than-one-word-727b6cf723cf"
   ]
  },
  {
   "cell_type": "code",
   "execution_count": 4,
   "metadata": {},
   "outputs": [],
   "source": [
    "bigram_phrases = Phrases(sentences)"
   ]
  },
  {
   "cell_type": "markdown",
   "metadata": {
    "tags": []
   },
   "source": [
    "L'object `phrases` peut être vu comme un large dictionnaire d'expressions multi-mots associées à un score, le *PMI-like scoring*. Ce dictionnaire est construit par un apprentissage sur base d'exemples.\n",
    "Voir les références ci-dessous :\n",
    "- https://arxiv.org/abs/1310.4546\n",
    "- https://en.wikipedia.org/wiki/Pointwise_mutual_information"
   ]
  },
  {
   "cell_type": "code",
   "execution_count": 5,
   "metadata": {},
   "outputs": [
    {
     "data": {
      "text/plain": [
       "dict"
      ]
     },
     "execution_count": 5,
     "metadata": {},
     "output_type": "execute_result"
    }
   ],
   "source": [
    "type(bigram_phrases.vocab)"
   ]
  },
  {
   "cell_type": "markdown",
   "metadata": {},
   "source": [
    "Il contient de nombreuses clés qui sont autant de termes observés dans le corpus"
   ]
  },
  {
   "cell_type": "code",
   "execution_count": 6,
   "metadata": {},
   "outputs": [
    {
     "data": {
      "text/plain": [
       "5978799"
      ]
     },
     "execution_count": 6,
     "metadata": {},
     "output_type": "execute_result"
    }
   ],
   "source": [
    "len(bigram_phrases.vocab.keys())"
   ]
  },
  {
   "cell_type": "markdown",
   "metadata": {},
   "source": [
    "Prenons une clé au hasard :"
   ]
  },
  {
   "cell_type": "code",
   "execution_count": 7,
   "metadata": {},
   "outputs": [
    {
     "name": "stdout",
     "output_type": "stream",
     "text": [
      "absence_&\n"
     ]
    }
   ],
   "source": [
    "key_ = list(bigram_phrases.vocab.keys())[144]\n",
    "print(key_)"
   ]
  },
  {
   "cell_type": "markdown",
   "metadata": {},
   "source": [
    "Le dictionnaire indique le score de cette coocurrence :"
   ]
  },
  {
   "cell_type": "code",
   "execution_count": 8,
   "metadata": {},
   "outputs": [
    {
     "data": {
      "text/plain": [
       "1"
      ]
     },
     "execution_count": 8,
     "metadata": {},
     "output_type": "execute_result"
    }
   ],
   "source": [
    "bigram_phrases.vocab[key_]"
   ]
  },
  {
   "cell_type": "markdown",
   "metadata": {},
   "source": [
    "Lorsque l'instance de `Phrases` a été entraînée, elle peut concaténer les bigrams dans les phrases lorsque c'est pertinent."
   ]
  },
  {
   "cell_type": "code",
   "execution_count": 9,
   "metadata": {},
   "outputs": [
    {
     "name": "stdout",
     "output_type": "stream",
     "text": [
      "CPU times: user 1.33 ms, sys: 6 µs, total: 1.34 ms\n",
      "Wall time: 5.16 ms\n"
     ]
    },
    {
     "data": {
      "text/plain": [
       "<gensim.interfaces.TransformedCorpus at 0x7fb7c4556910>"
      ]
     },
     "execution_count": 9,
     "metadata": {},
     "output_type": "execute_result"
    }
   ],
   "source": [
    "%time bigram_phrases[sentences]"
   ]
  },
  {
   "cell_type": "markdown",
   "metadata": {},
   "source": [
    "### Conversion des `Phrases` en objet `Phraser`\n",
    "\n",
    "`Phraser` est un alias pour `gensim.models.phrases.FrozenPhrases`, voir ici https://radimrehurek.com/gensim/models/phrases.html.\n",
    "\n",
    "Le `Phraser` est une version *light* du `Phrases`, plus optimale pour transformer les phrases en concaténant les bigrams."
   ]
  },
  {
   "cell_type": "code",
   "execution_count": 10,
   "metadata": {},
   "outputs": [],
   "source": [
    "bigram_phraser = Phraser(phrases_model=bigram_phrases)"
   ]
  },
  {
   "cell_type": "markdown",
   "metadata": {},
   "source": [
    "Le `Phraser` est un objet qui convertit certains unigrams d'une liste en bigrams lorsqu'ils ont été identifiés comme pertinents."
   ]
  },
  {
   "cell_type": "code",
   "execution_count": 11,
   "metadata": {},
   "outputs": [
    {
     "name": "stdout",
     "output_type": "stream",
     "text": [
      "CPU times: user 3.56 ms, sys: 15 µs, total: 3.57 ms\n",
      "Wall time: 3.49 ms\n"
     ]
    },
    {
     "data": {
      "text/plain": [
       "<gensim.interfaces.TransformedCorpus at 0x7fb76947f5b0>"
      ]
     },
     "execution_count": 11,
     "metadata": {},
     "output_type": "execute_result"
    }
   ],
   "source": [
    "%time bigram_phraser[sentences]"
   ]
  },
  {
   "cell_type": "markdown",
   "metadata": {},
   "source": [
    "### Extraction des trigrams"
   ]
  },
  {
   "cell_type": "markdown",
   "metadata": {},
   "source": [
    "Nous répétons l'opération en envoyant cette fois la liste de bigrams afin d'extraire les trigrams."
   ]
  },
  {
   "cell_type": "code",
   "execution_count": 12,
   "metadata": {},
   "outputs": [],
   "source": [
    "trigram_phrases = Phrases(bigram_phraser[sentences])"
   ]
  },
  {
   "cell_type": "code",
   "execution_count": 13,
   "metadata": {},
   "outputs": [],
   "source": [
    "trigram_phraser = Phraser(phrases_model=trigram_phrases)"
   ]
  },
  {
   "cell_type": "markdown",
   "metadata": {},
   "source": [
    "### Création d'un corpus d'unigrams, bigrams, trigrams"
   ]
  },
  {
   "cell_type": "code",
   "execution_count": 14,
   "metadata": {},
   "outputs": [],
   "source": [
    "corpus = list(trigram_phraser[bigram_phraser[sentences]])"
   ]
  },
  {
   "cell_type": "code",
   "execution_count": 15,
   "metadata": {},
   "outputs": [
    {
     "name": "stdout",
     "output_type": "stream",
     "text": [
      "[['v', 'i', 'l', 'l', 'e', 'de', 'bruxelles', 'bulletin', 'ires', '8eanas', 'dl', '!'], ['conseil_communal', 'annee', '1847', '.'], ['au', 'ville', 'de', 'b', 'r', 'u', 'x', 'e', 'l', 'l', 'e', 's', '.'], ['bulletin', 'conseil', 'aes', 'seances', 'communal', '.'], ['annee', '1847', '.'], ['bruxelles', ',', 'imprimerie', 'd', 'e', 'j', '.'], ['h', '.', 'b', 'r', 'i', 'a', 'r', 'd', ',', 'rite', 'n', 'e', 'u', 'v', 'e', ',', '3', '1', ',', 'faubourg', 'de', 'n', 'a', 'm', 'u', 'r', ',', '1', '84', '8', 'de', '!'], ['du', 'consei', 'dibi', 'e', '.', '-', 'communication', 'conclusions', 'de', 'la', 'section', 'des', 'du', 'nouvel_hospice', 'pour', 'les', 'av', 'enraisonde', 'l', \"'\", 'absence', '&', 'maladie', '.', 'le', 'conseil', 'ajourne', 'leurs', 'de', 'pierre', 'el', 'marchai', 'cles', 'des', 'taxes', 'communale', \"'\", 'bieniaance', 'eldeseianv', 'il', 'est', 'donne', 'communie', ';', 'mandant', 'le', 'o', 'p', 'fa', 'gnant', 'l', \"'\", 'envoi', 'de', 'leur', 'bn', 'par', 'l', \"'\", 'etat', 'obligatoire', 'p', 'secretariat', 'et', 'dtput', 'uf', 'proposition', 'dan', '*', 'le', 'meme', 'u', 'est', 'donne_lecture', 'd', \"'\", 't', 'glissement', 'd', \"'\", 'un', 'marc', '!'], [\"'*\", 'royales', ',', 'rue', 'de', 'la', 'i', 'd', 'e', 'k', ':', ';', 'i', 'fai', 'phonnenr', 'de', 'to', '>>', '<<', '<<', 'terrains', 'reumsderb', '.\"'], ['^', 'par', 'une', 'combinaison', 'f', 'sans', 'devoir', 'fe', 'soit', 'dow', 'ans', ',', 'un', 'marcs', '1', 's', 'u', 'r', 'l', 'iraocs', '.'], ['^', 'w', 'metres', 'sur', '35', 'l', ';', 'n', '^', 'espourvica', '.', 'lem', 'ed', '<<', 'l', 't', 'a', 'r', '<<<<', 'lle5la', '<<', 'compte', 'des', 'du', 'conseil', 'de', 'rendu', 'seances', 'communal', 'bruxelles', '.'], ['seance', 'du', '9', 'janvier', '.'], ['(', 'presidence', 'de', 'm', '.', 'le', 'chevalier', 'w', 'y', 'n', 's', 'de', 'raucourt', ',', 'bourgmestre', '.)'], ['sommaire', '.'], ['--', 'communication', 'de', 'pieces', '.'], ['--', 'discussion', 'et', 'adoption', 'des', 'conclusions', 'de', 'la', 'section', 'des_travaux_publics', 'relatives', 'a', 'l', \"'\", 'emplacement', 'du', 'nouvel_hospice', 'pour', 'les', 'aveugles', 'indigents', '.'], ['en', 'raison', 'de', 'l', \"'\", 'absence', 'de', 'm', '.', 'l', \"'\", 'echevin', 'doucet', ',', 'pour', 'cause', 'de', 'maladie', ',', 'le', 'conseil', 'ajourne', 'l', \"'\", 'examen', 'de', 'la', 'reclamation', 'des', 'tailleurs', 'de', 'pierre', 'et', 'marchands', 'de', 'briques', ',', 'contre', 'quelques', 'articles', 'des', 'taxes_communales', ',', 'et', 'la', 'discussion', 'des', 'budgets', 'de', 'la', 'bienfaisance', 'et', 'des', 'enfants', '-', 'trouves', '.'], ['il', 'est', 'donne_communication', 'd', \"'\", 'une', 'lettre', 'demm', '.', 'donies', ',', 'commandant', 'le', 'corps', 'des', 'pompiers', ',', 'et', 'adolphe', 'bartels', ',', 'accompagnant', 'l', \"'\", 'envoi', 'de', 'leur', 'brochure', 'relative', 'a', 'un', 'plan', 'd', \"'\", 'assurance', 'par', 'l', \"'\", 'etat', 'obligatoire', 'pour', 'tous', 'les', 'proprietaires', '.'], ['--', 'depot', 'au_secretariat', 'et', 'depot', 'sur', 'le', 'bureau', 'pendant', 'la', 'discussion', 'de', 'la', 'proposition', 'dans', 'le', 'meme', 'sens', 'faite', 'par', 'm', '.', 'le', 'conseiller', 'bartels', '.'], ['il', 'est', 'donne_lecture', 'd', \"'\", 'une', 'lettre', 'de', 'm', '.', 'bortier', ',', 'relative', 'a', 'l', \"'\", 'etablissement', 'd', \"'\", 'un', 'marche', 'dans', 'l', \"'\", 'ancien', 'local', 'des', 'messageries', 'royales', ',', 'rue', 'de', 'la', 'madeleine', '.'], ['elle', 'est', 'ainsi_concue', ':', '<<', 'j', \"'\", 'ai', 'l', \"'\", 'honneur', 'de', 'vous', 'adresser', 'un', 'plan', 'de', 'marche_couvert', 'a', 'etablir', 'sur', 'les', 'terrains', 'reunis', 'de', 'l', \"'\", 'hotel', 'des', 'messageries', ',', 'des', 'hospices', 'et', 'de', 'm', '.', 'partoes', '.'], ['par', 'une', 'combinaison_financiere', 'que_je_viens', 'vous', 'soumettre', ',', 'la', 'ville', 'de', 'bruxelles', ',', 'sans', 'devoir', 'faire', 'la', 'moindre', 'avance', 'de', 'fonds', ',', 'soit', 'pour', 'acquisitions', 'de', 'terrains', ',', 'soit', 'pour', 'constructions', ',', 'deviendrait', ',', 'au', 'bout', 'de', 'vingt_ans', ',', 'proprietaire', 'd', \"'\", 'un', 'marche', 'dont', 'le', 'produit', 'est', 'evalue', 'a', 'plus', 'de', 'soixante_mille', 'francs', '.'], ['<<', 'avant', 'la', 'mise', 'en', 'possession', 'de', 'ce', 'vaste', 'terrain', 'ayant', 'un', 'developpement', 'de', 'go', 'metres', 'sur', '33', ',', 'la', 'ville', 'pourrait', 'faire', 'construire', 'au', 'premier_etage', 'des', 'salles', 'pour', 'l', \"'\", 'academie', 'des', 'beaux', '-', 'arts', '.'], ['<<', '11', 'suffira', 'de', 'jeter', 'un', 'regard', 'sur', 'le', 'plan', 'et', 'd', \"'\", 'examiner', 'les', 'chiffres', 'qui', 'figurent', 'dans', 'l', \"'\", 'expose', ',', 'pour', 'comprendre', 'tous', 'les', 'avantages', 'que', 'presente', 'a', 'la', 'ville', 'de', 'bruxelles', 'la', 'realisation', 'de', 'ce', 'projet', '.'], ['<<', 'en', 'renvoyant', 'le', 'plan', 'a', 'la', 'commission', 'des_travaux_publics', ',', 'je_viens', 'vous_prier', ',', 'messieurs', ',', 'de', 'vouloir_bien', 'demander', 'qu', \"'\", 'un', 'rapport', 'soit', 'fait', 'immediatement', ':', 'un', 'contrat', 'me', 'lie', 'avec', 'l', \"'\", 'administration', 'des', 'hospices', '5', 'avant', 'le', '--', '2', '--', 't', 'fevrier', 'j', \"'\", 'ai', 'a', 'me', 'decider', 'sur', 'l', \"'\", 'acceptation', 'de', 'plusieurs_lots', 'de', 'terrains', 'ie', 'duquesnoy', '.'], ['11', 'est', 'donc', 'indispensable', 'que', 'la', 'ville', 'me', 'fasse_connaitre', 'sa', 'vision', 'avant', 'la', 'fin', 'du', 'mois', ',', 'sinon', 'ma_proposition', 'devra_etre', 'consideree', 'imrac', 'non', 'avenue', '.'], ['i', 'l', 'est', 'donne', 'ensuite', 'lecture', 'de', 'l', \"'\", 'expose_financier', 'de', 'l', \"'\", 'affaire', ',', 'dt', 'par', 'm', '.', 'bortier', 'dans', 'les', 'termes', 'suivans', ':', 'e', 'v', 'a', 'l', 'u', 'a', 't', 'i', 'o', 'n', 'des', 't', 'e', 'r', 'r', 'a', 'i', 'n', 's', ',', 'constructions', 'de', 'caves', 'e', 't', 'hangars', '.'], ['hotel', 'des', 'messageries', ',', 'calcule', 'sur', 'un', 'revenu', 'qui', 'a', 'ete', 'de', '12', ',', '000', 'f', 'r', '.'], [',', 'soit', '00', ',', '000', 'f', 'r', '.'], [';', 'a', 'deduire', 'de', 'cette', 'somme', 'la', 'valeur', 'de', 'deux', 'maisons_louees', ',', '000', 'f', 'r', '.'], [',', 'soit', '120', ',', '000', 'fr', '.,', 'y_compris', 'les', 'batimens', 'dans', 'la', 'cour', 'fr', '.'], ['180', ',', '000', 'terrains', 'achetes', 'a', 'l', \"'\", 'administration', 'des', 'hospices', '(', 'p', 'r', 'i', 'x', 'rachat', ')', '28', ',', '000', 'terrains', 'achetes', 'conditionnellement', 'a', 'la', 'meme', 'administraion', '(', 'prix', 'd', \"'\", 'achat', ')', '88', ',', '000', 'terrain', 'a', 'm', '.'], ['partoes', '10', ',', '000', 'constructions', 'de', 'caves', 'et', 'hangars', ',', 'p', 'r', 'i', 'x', '5', 'etablir', 'lors', 'de', \"'\", 'adjudication_publique', '(', 'devis', ')', '60', ',', '000', 'total', 'f', 'r', '.'], ['366', ',', '000', 'produit', 'du', 'm', 'a', 'r', 'c', 'h', 'e', '.'], ['1', ',', '250', 'metres', 'de', 'surface', ',', 'a', '10', 'centimes', 'par', 'metre', 'et', 'pendant', '311', 'jours', 'de', 'l', \"'\", 'annee', ',', 'donnent', 'un', 'produit', 'de', 'f', 'r', '.'], ['38', ',', '875', '1', ',', '875', 'metres', 'de', 'caves', ',', 'a', '5', 'centimes', 'par', 'metre', 'et', 'demi', ',', 'pendant', '311', 'jours', '23', ',', '325', 'total', 'f', 'r', '.'], ['62', ',', '200', 'n', '.', 'b', '.'], ['a', 'paris', ',', 'au', 'marche', 'de', 'la', 'madeleine', ',', 'ou', 'le', 'p', 'r', 'i', 'x', 'de', 'location', 'est', 'inferieur', 'a', 'celui', 'de', 'quatre', 'autres', 'marches', ',', 'le', 'metre', 'de', 'surface', 'est', 'loue', 'a', 'raison', 'de', '25', 'centimes', 'par', 'j', 'o', 'u', 'r', ',', 'dimanches', 'et', 'fetes', 'compris', '.'], ['de', 'tous', 'les', 'marches', 'de', 'p', 'a', 'r', 'i', 's', ',', 'le', 'marche', 'saint', '-', 'joseph', 'est', 'celui', 'ou', 'le', 'p', 'r', 'i', 'x', 'de', 'location', 'est', 'le', 'plus', 'eleve', ':', 'i', 'l', 'y', 'a', 'des', 'places', 'qui', 'se_louent', 'jusqu', \"'\", 'a', '6', 'f', 'r', '.'], ['les', '4', 'metres', '.'], ['depenses', '.'], ['interets', 'sur', '366', ',', '000', 'f', 'r', '.'], [',', 'a', '4', '1', '/', '2', 'p', '.'], ['c', '.', 'amortissement', 'solde', 'en', 'benefice', '.'], ['.'], ['total', '.'], ['f', 'r', '.'], ['16', ',', '470', '20', ',', '000', '25', ',', '730', 'f', 'r', '.'], ['62', ',', '200', 'recettes', '.'], ['location', 'du', 'marche', 'de', 'la', 'madeleine', '.'], ['total', '.'], ['.'], ['f', 'r', '.'], ['62', ',', '200', 'f', 'r', '.'], ['62', ',', '200', 'solde', 'en', 'benefice', ',', 'l', 'e', 'annee', 'r', 'f', 'r', '.'], ['25', ',', '730', 'resume', '.'], ['la', 'ville', 'de', 'bruxelles', ',', 'des', 'la', 'premiere_annee', ',', 'percevrait', ',', 'deduction_faite', 'des', 'interets', 'et', 'de', 'l', \"'\", 'amortissement', ',', 'la', 'somme', 'de', '25', ',', '080', 'f', 'r', '.'], [';', 'le', 'produit', 'du', 'marche', 'augmenterait', 'tous', 'les', 'ans', 'dans', 'la', 'proportion', 'de', 'la', 'reduction', 'du', 'capital', 'q', 'u', 'i', ',', 'par', 'l', \"'\", 'amortissement', 'annuel', 'de', '20', ',', '000', 'f', 'r', '.'], [',', 'se_trouvera', 'eteint', 'en', '18', 'ou', '19', 'ans', '.'], ['en', '1867', ',', 'l', 'a', 'ville', 'de', 'bruxelles', 'deviendrait_proprietaire', 'd', \"'\", 'un', 'marche', 'produisant', 'plus', 'de', 'soixante_mille', 'francs', '.'], ['--', '3', '--', 'proposition', 'de', 'm', '.'], ['bortier', 'est', 'renvoyee', 'a', 'sections', 'des_travaux_publics', 'et', 'des', 'finances', ',', 'avec', 'la', 'l', \"'\", 'examen', 'des', 'demande', 'd', \"'\", 'un', 'prompt_rapport', '.'], ['m', '.', 'le', 'secretaire_donne_lecture', 'd', 'u', 'rapport', 'de', 'l', 'a', 'section', 'des_travaux_publics', 'sur', 'l', \"'\", 'emplacement', 'de', 'l', \"'\", 'hospice', 'projete', 'pour', 'les', 'aveugles_indigens', '.'], ['m', 'u', 'le', 'college', 'a', 'communique', 'a', 'la', 'section', 'la', 'resolution_prise', 'le', '1', '5', 'decembre', 'dernier', ',', 'p', 'a', 'r', 'l', 'e', 'conseil_general', 'd', \"'\", 'administration', 'des', 'hospices', 'de', 'bruxelles', ',', 'portant', 'acceptation', 'de', 'la', 'donation', 'de', 'm', 'm', '.'], ['schuermans', 'et', 'verelst', 'p', 'o', 'u', 'r', 'l', 'a', 'construction', 'd', \"'\", 'un', 'hospice', 'destine', 'aux', 'aveugles_indigens', '.'], ['<<', 'a', 'cette', 'resolution', 'se_trouvent', 'joints', ':', '1', '<>', 'l', \"'\", 'acte', 'de', 'donation', 'modifie', 'dans', 'le', 'sens', 'de', 'la', 'deliberation', 'du', 'conseil_communal', ',', 'en', 'date', 'du', '4', 'novembre', '1', '8', '4', '6', ';', 'q', '2', 'deg', 'une', 'note', 'indiquant', 'les', 'changemens', 'apportes', 'au', 'projet', 'p', 'r', 'i', 'm', 'i', 't', 'i', 'f', 'tant', 'par', 'l', \"'\", 'administration', 'des', 'hospices', ',', 'que', 'par', 'les', 'donateurs', '.'], ['<<', 'cet', 'acte', 'a', 'fait', ',', 'messieurs', ',', 'de', 'la', 'part', 'de', 'la', 'section', ',', 'l', \"'\", 'objet', 'd', \"'\", 'un', 'examen_attentif', '.'], ['b', 'la', 'plupart', 'des', 'modifications_proposees', 'par', 'l', \"'\", 'administration', 'des', 'hospices', 'et', 'par', 'les', 'donateurs', 'sont', 'de', 'peu', 'importance', ',', 'et', 'ont', 'paru', 'de', 'nature', 'a', 'pouvoir', 'etre', 'adoptees', ';', 'seulement', 'la', 'section', 'pense', 'q', 'u', \"'\", 'i', 'l', 'conviendrait', 'de', 'changer', 'en', 'partie', 'la', 'redaction', 'du', 'SS', '2', 'de', 'l', \"'\", 'art', '.'], ['6', 'et', 'de', 'substituer', 'de', 'nouvelles_dispositions', 'a', 'celles', 'de', 'l', \"'\", 'art', '.'], ['8', 'de', 'l', \"'\", 'acte', 'de', 'donation', '.'], ['<', 'a', 'le', '2', '?'], ['SS', 'de', 'l', \"'\", 'art', '.'], ['6', 'dit', ':', '*', 'm', '.'], ['cluysenaar', ',', 'auteur', 'de', 'l', \"'\", 'avant', '-', 'projet', 'de', 'l', \"'\", 'hospice', 'a', 'construire', 'p', 'o', 'u', 'r', 'les', 'aveugles', ',', 's', \"'\", 'offranta', 'fournir_gratuitement', 'tous', 'les', 'profils', 'et', 'details', 'accessoires', 'et', 'a', 'diriger', 'les', 'travaux', 'jusqu', \"'\", 'a', 'leur', 'parfait_achevement', ',', 'le', 'conseil_communal', 'a', 'decide', 'qu', \"'\", 'au', 'cas', 'ou', 'ces', 'plans', 'seraient', 'admis', 'et', 'executes', 'sous', 'sa', 'direction', ',', 'i', 'l', 'l', 'u', 'i', 'sera', 'accorde', ',', 'etc', '.'], ['>>', '<<', 'la', 'section', 'propose', 'de', 'terminer', 'ainsi', ':', 'four', 'l', 'u', 'i', 'et', 'ses', 'descendans', ',', 'la', 'collation', 'd', \"'\", 'un', 'lit', 'dans', 'ledit', 'hospice', 'en', 'faveur', ',', 'soit', 'd', \"'\", 'un', 'membre', 'de', 'leur_famille', ',', 'belge', 'de', 'naissance', ',', 'soit', 'd', \"'\", 'un', 'aveugle', 'bruxellois', '.'], ['<<', 'l', \"'\", 'art', '.'], ['8', 'porte', ':', '<<', 'l', \"'\", 'administration', 'des', 'hospices', 'touchera', 'le', 'l', 'o', 'y', 'e', 'r', 'de', 'la', 'blanchisserie', '(', 'paye_par_anticipation', 'jusqu', \"'\", 'au', '1er', 'mars_prochain', ')', 'a', 'partir', 'de', 'cette', 'date', '.'], ['il', 'sera', 'tenu_compte', 'a', 'la', 'societe', 'du', 'produit', 'des', 'actions', 'et', 'capitaux', 'donnes', 'j', 'u', 's', 'qu', \"'\", 'a', 'leur', 'application', 'aux', 'constructions', 'susmentionnees', 'apres', 'l', \"'\", 'avance', 'c', 'o', 'n', 'venue', 'sur', 'la', 'propriete', 'de', 'la', 'blanchisserie', '.'], ['<<', '<<', 'l', 'a', 'section', 'propose', 'la', 'redaction_suivante', ':', '<<', 'a', 'r', 't', '.'], ['8', '.'], ['l', 'a', 'societe', 'de', 'philanthropie', 'j', 'o', 'u', 'i', 'r', 'a', 'des', 'revenus', ',', 'interets', 'et', 'd', 'i', 'v', 'i', 'dendes', 'des', 'actions', 'jusqu', \"'\", 'au', 'i', '>>', 'janvier', '1', '8', '4', '7', ',', 'et', 'l', \"'\", 'administration', 'des', 'hospices', 'touchera', 'les', 'loyers', 'de', 'la', 'blanchisserie', ',', 'a', 'partir', 'de', 'l', 'a', 'derniere_echeance', '.'], ['a', 'les', 'loyers', ',', 'interets', 'et', 'dividendes', 'seront', 'ajoutes', 'aux', 'capitaux', 'p', 'o', 'u', 'r', 'etre', 'appliques', 'a', 'la', 'construction', 'de', 'l', \"'\", 'hospice', ',', 'a', '^', 'moyennant', 'ce', 'changement', ',', 'i', 'l', 'y', 'aurait', 'l', 'i', 'e', 'u', ',', 'suivant', 'la', 'section', ',', 'd', \"'\", 'approuver', 'le', 'nouvel', 'acte', 'de', 'donation', 'dont', 'i', 'l', 's', \"'\", 'agit', '.'], ['<<', 'les', 'conclusions', 'que', 'la', 'section', 'des_travaux_publics', 'a', 'eu', 'l', \"'\", 'honneur', 'de', 'soumettre', 'precedemment', 'au', 'conseil_communal', 'tendaient', 'a', 'etablir', 'l', \"'\", 'hospice', 'des', 'aveugles', 'a', 'la', 'plaine', 'dite', 'du', 'remblai', '.'], ['e', 'le', 'conseil', 'a', 'ajourne', 'toute', 'decision', 'sur', 'ce', 'point', ',', 'et', 'a', 'resolu', 'que', 'la', 'question', 'serait', 'soumise', 'a', 'un', 'nouvel_examen', '.'], ['<<', 'dans', 'la', 'discussion', 'a', 'laquelle', 'ont', 'donne_lieu', 'les', 'conclusions', 'de', 'la', 'section', ',', 'un', 'membre', 'a', 'emis', 'l', \"'\", 'opinion', 'qu', \"'\", 'il', 'conviendrait', 'de', 'placer', 'ledit', 'hospice', 'au', 'boulevard', 'de', 'waterloo', ',', 'a', 'cote', 'de', 'la', 'caserne', 'de', 'gendarmerie', '.'], ['apres_avoir', 'attentivement', 'pese', 'les', 'considerations', 'qui', 'ont_ete_presentees', 'en', 'faveur', 'de', 'c', 'e', '-', '--', '4', '--', 'l', \"'\", 'emplacement', 'du', 'boulevard', 'de', 'waterloo', ',', 'la', 'section', 'des_travaux_publics', 'a', 'cru_devoir', 'maintenir', 'ses', 'conclusions', 'precedentes', 'en', 'faveur', 'de', 'remplacement', 'de', 'la', 'plaine', 'du', 'remblai', '.'], ['<<', 'dans', 'le', 'sein', 'du', 'conseil', ',', 'l', \"'\", 'honorable_membre', 'qui', 'a', 'donne', 'la', 'preference', 'aux', 'terrains', 'du', 'boulevard', 'de', 'waterloo', ',', 's', \"'\", 'est', 'appuye', 'sur', 'deux', 'motifs', ':', 'dans', 'son_opinion', ',', 'l', \"'\", 'hospice', 'devrait_etre', 'erige', 'sur', 'ces', 'terrains', ',', 'd', \"'\", 'abord', ',', 'parce', 'que', 'l', \"'\", 'on', 'pourrait', 'combiner', 'cette', 'construction', 'avec', 'les', 'travaux', 'a', 'faire', 'a', 'l', \"'\", 'hopital_saint', '-', 'pierre', ';', 'ensuite', ',', 'parce', 'que', 'differens', 'services', ',', 'tels', 'que', 'le', 'service_medical', ',', 'le', 'service', 'de', 'la', 'pharmacie', 'et', 'celui', 'des', 'vivres', 'pourraient_etre', 'communs', 'aux', 'deux', 'etablissemens', ',', 'et', 'par', 'la', 'reviendraient', 'moins', 'chers', '.'], ['<<', 'de', 'ces', 'deux', 'avantages', ',', 'le', ',', 'section', 'estime', 'que', 'le', 'premier', 'n', \"'\", 'est', 'pas', 'susceptible', 'de', 'realisation', ',', 'et', 'que', 'le', 'second', 'pourra_etre', 'obtenu', ',', 'quel', 'que', 'soit', 'celui', 'des', 'deux', 'terrains', 'ou', 'l', \"'\", 'on', 'erigera', 'l', \"'\", 'hospice', 'projete', '.'], ['<<', 'on', 'ne', 'pourrait', 'combiner', 'les', 'travaux', 'de', 'l', \"'\", 'hospice', 'avec', 'ceux', 'qu', \"'\", 'il', 'y', 'aurait', 'a', 'faire', 'a', 'l', \"'\", 'hopital_st', '.-', 'pierre', '.'], ['en', 'effet', ',', 'les', 'deux', 'etablissemens', 'seront', 'separes', 'l', \"'\", 'un', 'de', 'l', \"'\", 'autre', 'par', 'la', 'rue', 'nouvelle', ',', 'qui', 'forme', 'le', 'prolongement', ',', 'de', 'la', 'rue_aux_laines', ',', 'entre', 'la', 'caserne', 'de', 'la', 'gendarmerie', 'et', 'l', \"'\", 'hopital_st', '.-', 'pierre', '.'], ['pour', 'annexer', 'l', \"'\", 'hospice', 'des', 'aveugles', 'a', 'l', \"'\", 'hopital_st', '.-', 'pierre', ',', 'il_faudrait', 'ou', 'supprimer', 'la', 'rue', 'nouvelle', 'ou', 'lui', 'faire', 'former', 'un', 'coude', ',', 'ce', 'qui', 'rendrait', 'cette', 'voie', 'de', 'communication', 'tout', 'a', 'fait', 'moins', 'belle', 'et', 'moins', 'utile', ';', 'd', \"'\", 'ailleurs', ',', 'i', 'l', 'ne', 'faut', 'pas', 'perdre', 'de', 'vue', 'que', 'l', \"'\", 'hospice', 'des', 'aveugles', 'est', 'une', 'institution', 'speciale', 'et', 'distincte', 'des', 'etablissemens', 'de', 'l', \"'\", 'administration', 'des', 'hospices', ';', 'c', \"'\", 'est', 'la', 'societe', 'de', 'philanthrophie', 'qui', 'administrera', 'le', 'nouvel_hospice', ',', 'c', \"'\", 'est', 'elle', 'qui', 'sera', 'charge', 'de', 'l', \"'\", 'entretenir', ';', 'elle', 'y', 'aura', 'ses', 'bureaux', ';', 'les', 'locaux', 'de', 'l', \"'\", 'hospice', 'ne', 'pourront_servir', 'pour', 'les', 'besoins', 'de', 'l', \"'\", 'hopital', '.'], ['<<', '11', 'est', 'a', 'desirer', 'qu', \"'\", 'on', 'puisse', 'utiliser', ',', 'pour', 'l', \"'\", 'hospice', 'des', 'aveugles', ',', 'certains', 'services', 'de', 'l', \"'\", 'hopital_st', '.-', 'pierre', ';', 'mais', 'l', \"'\", 'etablissement', 'de', 'l', \"'\", 'hospice', 'a', 'la', 'plaine', 'du', 'remblai', 'ne', 'portera', 'pas', 'obstacle', 'a', 'cette', 'combinaison', ',', 'car', 'la', 'plaine', 'est', 'a', 'peu', 'de', 'distance', 'de', 'l', \"'\", 'hopital', ',', 'et', 'en', 'sera', 'plus_rapprochee', 'encore', ',', 'lorsque', 'la', 'rue', 'du', 'remblai', 'debouchera', 'directement', 'sur', 'la', 'rue_haute', '.'], ['la', 'section', 'prefere', 'l', \"'\", 'emplacement', 'de', 'la', 'plaine', 'de', 'remblai', 'a', 'celui', 'du', 'boulevard', 'de', 'waterloo', 'pour', 'trois', 'motifs', ':', '<<', '1', 'deg', 'parce', 'que', 'les', 'terrains', 'a', 'ceder', 'par', 'la', 'ville', 'ont', 'un', 'tiers', 'moins', 'de', 'valeur', 'a', 'la', 'plaine', 'du', 'remblai', 'qu', \"'\", 'au', 'boulevard', 'de', 'waterloo', ',', 'et', 'qu', \"'\", 'il_convient', 'de', 'restreindre_autant', 'que', 'possible', 'l', \"'\", 'etendue', 'du', 'sacrifice', 'qui', 'nous', 'est', 'demande', ';', 'a', '2', 'deg', 'parce', 'que', 'les', 'terrains', 'du', 'boulevard', 'de', 'waterloo', ',', 'a', 'raison', 'de', 'leur', 'situation', 'et', 'de', 'la', 'proximite', 'des', 'constructions_erigees', 'sur', 'ce', 'point', 'depuis', 'un', 'certain_nombre', 'd', \"'\", 'annees', ',', 'pourraient_etre', 'mis', 'en', 'vente', 'immediatement', ',', 'tandis', 'que', 'ceux', 'de', 'la', 'plaine', 'du', 'remblai', 'ne', 'pourraient', 'l', \"'\", 'etre', 'convenablement', 'que', 'dans', 'un', 'temps', 'plus', 'eloigne', '.'], ['<<', '3', 'deg', 'parce', 'que', 'la', 'construction', 'de', 'l', \"'\", 'hospice', 'a', 'la', 'plaine', 'du', 'remblai', 'embellira', 'une', 'localite', 'ou', ',', 'sans', 'cela', ',', 'on', 'ne', 'verrait', 's', \"'\", 'elever', 'd', \"'\", 'ici', 'a', 'longtemps', 'aucune', 'construction', 'quelconque', ';', '<<', 'quant', 'aux', 'fondations', 'de', 'l', \"'\", 'hospice', ',', 'elle', 'couteront', 'autant', 'au', 'boulevard', 'du', 'midi', 'qu', \"'\", 'a', 'celui', 'de', 'waterloo', ',', 'de', 'l', \"'\", 'avis', 'de', 'l', \"'\", 'architecte', ',', 'auteur', 'du', 'plan', '.'], ['par', 'ces', 'motifs', ',', 'la', 'section', 'a', 'l', \"'\", 'honneur', 'de', 'proposer', 'au', 'conseil', 'de', 'conceder', 'dans', 'la', 'plaine', 'du', 'remblai', ',', 'un', 'terrain', 'd', \"'\", 'une', 'superficie', 'd', \"'\", 'environ', '60', '.', '000', 'pieds_carres', 'pour', 'l', \"'\", 'erection', 'de', 'l', \"'\", 'hospice', 'des', 'aveugles_indigens', '.'], ['m', '.'], ['bourgeois', '.'], ['dans', 'aucun', 'des', 'rapports', 'qui', 'ont_ete', 'faits', 'au', 'conseil', 'sur', 'cette_affaire', ',', 'je', 'n', \"'\", 'ai', 'vu', 'ni', 'l', \"'\", 'estimation', 'du', 'cout', 'definitif', ',', 'ni', 'l', \"'\", 'assurance', 'que', 'la', 'donation_faite', 'a', 'la', 'sociele', 'philanlropique', 'pourra', 'suffire', 'aux', 'depenses', 'de', 'construction', 'de', 'l', \"'\", 'hospice', 'projete', '.'], ['car', 'je', 'ne', 'me', 'fie', 'guere', 'aux', 'evaluations', 'des', '--', '5', '--', 'architectes', ',', 'auxquelles', 'i', 'l', 'faut', 'toujours', 'ajouter', 'sinon', 'la', 'moitie', ',', 'au', 'moins', 'le', 'tiers', 'je_voudrais', 'avoir', 'a', 'ce', 'sujet', 'quelques', 'donnees', '.'], ['m', 'le', 'president', '.']]\n"
     ]
    }
   ],
   "source": [
    "print(corpus[:100])"
   ]
  },
  {
   "cell_type": "markdown",
   "metadata": {},
   "source": [
    "## Entrainement d'un modèle Word2Vec sur ce corpus (modèle 2)"
   ]
  },
  {
   "cell_type": "code",
   "execution_count": 16,
   "metadata": {},
   "outputs": [
    {
     "name": "stdout",
     "output_type": "stream",
     "text": [
      "CPU times: user 19min 5s, sys: 47.3 s, total: 19min 52s\n",
      "Wall time: 7min 21s\n"
     ]
    }
   ],
   "source": [
    "%%time\n",
    "model = Word2Vec(\n",
    "    corpus, # On passe le corpus de ngrams que nous venons de créer\n",
    "    vector_size=32, # Le nombre de dimensions dans lesquelles le contexte des mots devra être réduit, aka. vector_size\n",
    "    window=5, # La taille du \"contexte\", ici 5 mots avant et après le mot observé\n",
    "    min_count=5, # On ignore les mots qui n'apparaissent pas au moins 5 fois dans le corpus\n",
    "    workers=4, # Permet de paralléliser l'entraînement du modèle en 4 threads\n",
    "    epochs=5 # Nombre d'itérations du réseau de neurones sur le jeu de données pour ajuster les paramètres avec la descende de gradient, aka. epochs.\n",
    ")"
   ]
  },
  {
   "cell_type": "markdown",
   "metadata": {},
   "source": [
    "#### Remarque\n",
    "\n",
    "Vous voyez ici que l'entrainement du modèle est parallélisé (sur 4 workers).\n",
    "\n",
    "Lors qu'on parallélise l'entrainement du modèle, 4 modèles \"séparés\" sont entrainés sur environ un quart des phrases.\n",
    "\n",
    "Ensuite, les résultats sont agrégés pour ne plus faire qu'un seul modèle.\n",
    "\n",
    "On ne peut prédire quel worker aura quelle phrase, car il y a des aléas lors de la parallélisation (p. ex. un worker qui serait plus lent, etc.).\n",
    "\n",
    "Du coup, les valeurs peuvent varier légèrement d'un entrainement à l'autre.\n",
    "\n",
    "Mais, globalement, les résultats restent cohérents."
   ]
  },
  {
   "cell_type": "markdown",
   "metadata": {},
   "source": [
    "### Sauver le modèle dans un fichier"
   ]
  },
  {
   "cell_type": "code",
   "execution_count": 17,
   "metadata": {},
   "outputs": [],
   "source": [
    "outfile = f\"../data/bulletins_2.model\"\n",
    "model.save(outfile)"
   ]
  },
  {
   "cell_type": "markdown",
   "metadata": {},
   "source": [
    "## Explorer le modèle"
   ]
  },
  {
   "cell_type": "markdown",
   "metadata": {},
   "source": [
    "### Charger le modèle en mémoire"
   ]
  },
  {
   "cell_type": "code",
   "execution_count": 28,
   "metadata": {},
   "outputs": [],
   "source": [
    "model = Word2Vec.load(\"../data/bulletins_2.model\")"
   ]
  },
  {
   "cell_type": "markdown",
   "metadata": {},
   "source": [
    "### Imprimer le vecteur d'un terme"
   ]
  },
  {
   "cell_type": "code",
   "execution_count": 29,
   "metadata": {},
   "outputs": [
    {
     "data": {
      "text/plain": [
       "array([ 0.58973897, -1.0262196 ,  2.0716813 ,  1.589865  ,  1.3657871 ,\n",
       "       -2.0293982 , -0.21928205,  4.652348  , -4.202351  , -4.3337784 ,\n",
       "       -0.86379164,  5.786408  , -2.7091334 ,  1.221566  ,  3.5432715 ,\n",
       "        0.9311423 , -1.8224436 ,  1.488655  ,  2.5310202 , -0.78291976,\n",
       "        0.30947435, -3.211929  , -1.6163418 ,  4.165647  , -3.4496503 ,\n",
       "        0.3898385 ,  0.67458636,  1.77817   ,  1.7902862 ,  2.8616135 ,\n",
       "       -3.8638105 , -0.1167161 ], dtype=float32)"
      ]
     },
     "execution_count": 29,
     "metadata": {},
     "output_type": "execute_result"
    }
   ],
   "source": [
    "model.wv[\"bruxelles\"]"
   ]
  },
  {
   "cell_type": "markdown",
   "metadata": {},
   "source": [
    "### Calculer la similarité entre deux termes"
   ]
  },
  {
   "cell_type": "code",
   "execution_count": 30,
   "metadata": {},
   "outputs": [
    {
     "data": {
      "text/plain": [
       "0.86908996"
      ]
     },
     "execution_count": 30,
     "metadata": {},
     "output_type": "execute_result"
    }
   ],
   "source": [
    "model.wv.similarity(\"boucher\", \"boulanger\")"
   ]
  },
  {
   "cell_type": "markdown",
   "metadata": {},
   "source": [
    "### Chercher les mots les plus proches d'un terme donné"
   ]
  },
  {
   "cell_type": "code",
   "execution_count": 31,
   "metadata": {},
   "outputs": [
    {
     "data": {
      "text/plain": [
       "[('laeken', 0.8239486217498779),\n",
       " ('considere_comme_officiel', 0.7925914525985718),\n",
       " ('liege', 0.7702558040618896),\n",
       " ('paris', 0.7679300308227539),\n",
       " ('nivelles', 0.7521665096282959),\n",
       " ('gand', 0.7397889494895935),\n",
       " ('lille', 0.7102484703063965),\n",
       " ('differents_quartiers', 0.6752375960350037),\n",
       " ('lille_1860', 0.6710933446884155),\n",
       " ('louvain', 0.6700588464736938)]"
      ]
     },
     "execution_count": 31,
     "metadata": {},
     "output_type": "execute_result"
    }
   ],
   "source": [
    "model.wv.most_similar(\"bruxelles\", topn=10)"
   ]
  },
  {
   "cell_type": "markdown",
   "metadata": {},
   "source": [
    "### Faire des recherches complexes à travers l'espace vectoriel"
   ]
  },
  {
   "cell_type": "code",
   "execution_count": 32,
   "metadata": {},
   "outputs": [
    {
     "name": "stdout",
     "output_type": "stream",
     "text": [
      "[('lille', 0.8239251375198364), ('ostende', 0.8021267056465149), ('gand', 0.7774108052253723), ('manchester', 0.7756398320198059), ('londres', 0.7693049311637878), ('tournai', 0.7622190117835999), ('verviers', 0.7603538036346436), ('paris', 0.7556376457214355), ('louvain', 0.7518820762634277), ('prague', 0.7503906488418579)]\n"
     ]
    }
   ],
   "source": [
    "print(model.wv.most_similar(positive=['bruxelles', 'france'], negative=['belgique']))"
   ]
  },
  {
   "cell_type": "markdown",
   "metadata": {},
   "source": [
    "### Modèle 3: Taille du vecteur = 100 (vs 32)"
   ]
  },
  {
   "cell_type": "code",
   "execution_count": 33,
   "metadata": {},
   "outputs": [
    {
     "name": "stdout",
     "output_type": "stream",
     "text": [
      "CPU times: user 26min 12s, sys: 1min 6s, total: 27min 19s\n",
      "Wall time: 9min 32s\n"
     ]
    }
   ],
   "source": [
    "%%time\n",
    "model = Word2Vec(\n",
    "    corpus, # On passe le corpus de ngrams que nous venons de créer\n",
    "    vector_size=100, # Le nombre de dimensions dans lesquelles le contexte des mots devra être réduit, aka. vector_size\n",
    "    window=5, # La taille du \"contexte\", ici 5 mots avant et après le mot observé\n",
    "    min_count=5, # On ignore les mots qui n'apparaissent pas au moins 5 fois dans le corpus\n",
    "    workers=4, # Permet de paralléliser l'entraînement du modèle en 4 threads\n",
    "    epochs=5 # Nombre d'itérations du réseau de neurones sur le jeu de données pour ajuster les paramètres avec la descende de gradient, aka. epochs.\n",
    ")"
   ]
  },
  {
   "cell_type": "code",
   "execution_count": 34,
   "metadata": {},
   "outputs": [],
   "source": [
    "outfile = f\"../data/bulletins_3.model\"\n",
    "model.save(outfile)"
   ]
  },
  {
   "cell_type": "code",
   "execution_count": 35,
   "metadata": {},
   "outputs": [],
   "source": [
    "model = Word2Vec.load(\"../data/bulletins_3.model\")"
   ]
  },
  {
   "cell_type": "code",
   "execution_count": 36,
   "metadata": {},
   "outputs": [
    {
     "data": {
      "text/plain": [
       "array([-2.821787  ,  1.7417598 , -0.47517857, -0.9297561 ,  0.20933826,\n",
       "       -0.33410355,  1.0013304 , -3.9408467 ,  2.2906547 , -1.2519214 ,\n",
       "        2.0284204 ,  0.4734065 ,  0.7797554 , -2.3764455 ,  2.3031328 ,\n",
       "        1.3654215 , -0.23531204,  4.263294  ,  2.5052593 ,  1.7040656 ,\n",
       "        0.7755428 ,  1.1707009 , -3.485699  , -1.4181716 ,  1.7519428 ,\n",
       "       -1.1885886 , -0.9323578 ,  2.7376783 , -0.05357512,  3.0506134 ,\n",
       "       -0.04246143,  3.1094618 ,  2.361703  ,  0.3488069 ,  0.13668808,\n",
       "        1.7061647 ,  1.0303104 ,  0.16420278, -2.3176546 , -1.2321485 ,\n",
       "        1.0473685 , -0.16010597,  0.21304561, -3.2333903 ,  1.7420102 ,\n",
       "       -1.5983607 , -1.4976974 ,  0.67025024,  2.446454  ,  2.8469923 ,\n",
       "       -0.8682723 ,  0.5673862 , -1.9958344 ,  0.12715669, -2.2643695 ,\n",
       "       -0.83515686,  0.38899907, -2.7805963 ,  1.0056809 ,  2.4225903 ,\n",
       "       -0.6718316 ,  0.7441178 , -0.16049749,  1.4168892 ,  2.6510496 ,\n",
       "        0.04205501, -4.032287  ,  4.0189724 , -2.0547545 , -2.6571288 ,\n",
       "        0.4715778 ,  1.5417365 , -0.52734464, -1.302174  , -0.71684927,\n",
       "        1.1464645 ,  1.3912474 ,  0.18653074, -2.314527  , -0.6644496 ,\n",
       "        1.1553166 , -2.0867136 ,  0.9535456 , -0.0332024 , -1.2970892 ,\n",
       "        0.8744663 ,  1.1013999 , -1.1954099 , -0.04847314, -2.0406215 ,\n",
       "       -1.2976565 ,  5.6029286 , -3.3390112 ,  0.6147874 , -1.3527933 ,\n",
       "       -1.149895  ,  1.9169083 ,  1.8798678 ,  1.2291193 ,  0.54114425],\n",
       "      dtype=float32)"
      ]
     },
     "execution_count": 36,
     "metadata": {},
     "output_type": "execute_result"
    }
   ],
   "source": [
    "model.wv[\"bruxelles\"]"
   ]
  },
  {
   "cell_type": "code",
   "execution_count": 37,
   "metadata": {},
   "outputs": [
    {
     "data": {
      "text/plain": [
       "0.7806577"
      ]
     },
     "execution_count": 37,
     "metadata": {},
     "output_type": "execute_result"
    }
   ],
   "source": [
    "model.wv.similarity(\"boucher\", \"boulanger\")"
   ]
  },
  {
   "cell_type": "code",
   "execution_count": 38,
   "metadata": {},
   "outputs": [
    {
     "data": {
      "text/plain": [
       "[('rruxelles', 0.6470252275466919),\n",
       " ('paris', 0.6332045793533325),\n",
       " ('liege', 0.631273090839386),\n",
       " ('nivelles', 0.6280113458633423),\n",
       " ('gand', 0.6024729013442993),\n",
       " ('laeken', 0.5872405767440796),\n",
       " ('lille', 0.5851026773452759),\n",
       " ('bruxelle', 0.5699034929275513),\n",
       " ('jumeaux_naissances', 0.5477592945098877),\n",
       " ('malines', 0.5462380647659302)]"
      ]
     },
     "execution_count": 38,
     "metadata": {},
     "output_type": "execute_result"
    }
   ],
   "source": [
    "model.wv.most_similar(\"bruxelles\", topn=10)"
   ]
  },
  {
   "cell_type": "code",
   "execution_count": 39,
   "metadata": {},
   "outputs": [
    {
     "name": "stdout",
     "output_type": "stream",
     "text": [
      "[('lille', 0.6613479256629944), ('paris', 0.6434320211410522), ('verviers', 0.6389840841293335), ('londres', 0.6370319724082947), ('hambourg', 0.6282646059989929), ('prague', 0.6222774386405945), ('gand', 0.6142219305038452), ('tournai', 0.6134740114212036), ('liege', 0.6133009791374207), ('ostende', 0.6108174920082092)]\n"
     ]
    }
   ],
   "source": [
    "print(model.wv.most_similar(positive=['bruxelles', 'france'], negative=['belgique']))"
   ]
  },
  {
   "cell_type": "markdown",
   "metadata": {},
   "source": [
    "### Modèle 4: Vecteur 100 + élargissement de la fenêtre à 20 (vs 5)"
   ]
  },
  {
   "cell_type": "code",
   "execution_count": 40,
   "metadata": {},
   "outputs": [
    {
     "name": "stdout",
     "output_type": "stream",
     "text": [
      "CPU times: user 31min 2s, sys: 1min 10s, total: 32min 12s\n",
      "Wall time: 10min 3s\n"
     ]
    }
   ],
   "source": [
    "%%time\n",
    "model = Word2Vec(\n",
    "    corpus, # On passe le corpus de ngrams que nous venons de créer\n",
    "    vector_size=100, # Le nombre de dimensions dans lesquelles le contexte des mots devra être réduit, aka. vector_size\n",
    "    window=20, # La taille du \"contexte\", ici 5 mots avant et après le mot observé\n",
    "    min_count=5, # On ignore les mots qui n'apparaissent pas au moins 5 fois dans le corpus\n",
    "    workers=4, # Permet de paralléliser l'entraînement du modèle en 4 threads\n",
    "    epochs=5 # Nombre d'itérations du réseau de neurones sur le jeu de données pour ajuster les paramètres avec la descende de gradient, aka. epochs.\n",
    ")"
   ]
  },
  {
   "cell_type": "code",
   "execution_count": 41,
   "metadata": {},
   "outputs": [],
   "source": [
    "outfile = f\"../data/bulletins_4.model\"\n",
    "model.save(outfile)"
   ]
  },
  {
   "cell_type": "code",
   "execution_count": 117,
   "metadata": {},
   "outputs": [],
   "source": [
    "model = Word2Vec.load(\"../data/bulletins_4.model\")"
   ]
  },
  {
   "cell_type": "code",
   "execution_count": 118,
   "metadata": {},
   "outputs": [
    {
     "data": {
      "text/plain": [
       "array([-3.5294814 ,  0.46205315, -3.136256  ,  2.7181191 , -0.19754034,\n",
       "        1.3294256 , -5.4065156 , -1.7076005 ,  1.1482389 , -1.7121512 ,\n",
       "        3.2751715 , -6.316165  , -2.3904014 ,  2.6055224 , -4.316526  ,\n",
       "       -1.3751478 ,  3.7133205 , -0.11183983,  2.466617  , -2.2758758 ,\n",
       "        6.209551  , -5.186154  ,  2.6362963 ,  4.2062054 ,  1.7750355 ,\n",
       "       -2.3785162 , -2.730668  , -0.01242101, -4.154819  , -0.3899968 ,\n",
       "       -0.77142626,  0.82222265, -3.6569283 , -1.4491752 ,  4.992444  ,\n",
       "       -0.6587832 ,  1.5070369 , -0.5447458 ,  2.6052966 ,  0.9000388 ,\n",
       "       -3.480406  ,  0.1302352 ,  2.097107  , -3.139999  ,  0.8931701 ,\n",
       "       -4.249983  , -0.11780771,  1.2884921 ,  3.125195  , -3.7342858 ,\n",
       "       -6.842377  , -0.7513382 ,  0.7284325 ,  0.5234136 , -1.0563607 ,\n",
       "       -7.118118  ,  5.3821054 , -4.446206  ,  3.4555452 , -1.8658125 ,\n",
       "        2.457817  ,  1.0376217 ,  2.5419545 , -3.8404133 ,  2.0115778 ,\n",
       "       -1.5690126 , -0.6278956 ,  1.6097066 ,  2.5003555 , -0.8443101 ,\n",
       "       -3.5375607 , -1.3865341 , -2.9860559 ,  0.2286744 ,  2.428761  ,\n",
       "        1.1426338 , -3.7401314 , -2.1200407 ,  1.474651  , -2.0397477 ,\n",
       "       -0.51036555,  0.55975085,  2.30713   ,  1.0905495 ,  1.2668849 ,\n",
       "        1.329637  ,  1.8244367 , -1.5794268 , -4.294002  , -0.7148899 ,\n",
       "       -2.306293  ,  5.361093  , -6.8873606 , -1.0127934 , -3.352247  ,\n",
       "       -4.3727016 ,  1.4022926 , -3.8060715 ,  4.127268  ,  3.493579  ],\n",
       "      dtype=float32)"
      ]
     },
     "execution_count": 118,
     "metadata": {},
     "output_type": "execute_result"
    }
   ],
   "source": [
    "model.wv[\"bruxelles\"]"
   ]
  },
  {
   "cell_type": "code",
   "execution_count": 119,
   "metadata": {},
   "outputs": [
    {
     "data": {
      "text/plain": [
       "0.69779754"
      ]
     },
     "execution_count": 119,
     "metadata": {},
     "output_type": "execute_result"
    }
   ],
   "source": [
    "model.wv.similarity(\"boucher\", \"boulanger\")"
   ]
  },
  {
   "cell_type": "code",
   "execution_count": 120,
   "metadata": {},
   "outputs": [
    {
     "data": {
      "text/plain": [
       "[('xelles', 0.6508788466453552),\n",
       " ('dette_active', 0.6217373609542847),\n",
       " ('bruxelle', 0.5955502390861511),\n",
       " ('liege', 0.586171567440033),\n",
       " ('laeken', 0.5658113956451416),\n",
       " ('nivelles', 0.559372067451477),\n",
       " ('hutel', 0.5444490909576416),\n",
       " ('vhotel', 0.5254800915718079),\n",
       " ('manufacturiere', 0.5184491276741028),\n",
       " ('bruxel', 0.5167596340179443)]"
      ]
     },
     "execution_count": 120,
     "metadata": {},
     "output_type": "execute_result"
    }
   ],
   "source": [
    "model.wv.most_similar(\"bruxelles\", topn=10)"
   ]
  },
  {
   "cell_type": "code",
   "execution_count": 121,
   "metadata": {},
   "outputs": [
    {
     "name": "stdout",
     "output_type": "stream",
     "text": [
      "[('liege', 0.6075229048728943), ('manchester', 0.6038661599159241), ('hambourg', 0.5692122578620911), ('ostende', 0.5674587488174438), ('paris', 0.5573484897613525), ('lille', 0.5570899844169617), ('cologne', 0.5560243129730225), ('gand', 0.5556208491325378), ('amsterdam', 0.5449244976043701), ('tournai', 0.5420806407928467)]\n"
     ]
    }
   ],
   "source": [
    "print(model.wv.most_similar(positive=['bruxelles', 'france'], negative=['belgique']))"
   ]
  },
  {
   "cell_type": "code",
   "execution_count": 123,
   "metadata": {},
   "outputs": [
    {
     "name": "stdout",
     "output_type": "stream",
     "text": [
      "[('homme_politique', 0.6000778079032898), ('souverain', 0.5965874195098877), ('episode', 0.5854206085205078), ('defenseur', 0.5852083563804626), ('peuple', 0.5814440250396729), ('prince', 0.5742866396903992), ('parlement', 0.5693864822387695), ('magistrat', 0.5646989345550537), ('congres', 0.564418375492096), ('ecria', 0.562084972858429)]\n"
     ]
    }
   ],
   "source": [
    "print(model.wv.most_similar(positive=['homme', 'roi'], negative=['femme']))"
   ]
  },
  {
   "cell_type": "code",
   "execution_count": 124,
   "metadata": {},
   "outputs": [
    {
     "name": "stdout",
     "output_type": "stream",
     "text": [
      "[('russie', 0.6767497658729553), ('italie', 0.665309727191925), ('afrique', 0.6608356833457947), ('allemagne', 0.6561207175254822), ('grece', 0.6292099952697754), ('egypte', 0.6222110390663147), ('republique', 0.6180391311645508), ('nation', 0.6069801449775696), ('autriche', 0.6021126508712769), ('hollande', 0.598942756652832)]\n"
     ]
    }
   ],
   "source": [
    "print(model.wv.most_similar(positive=['france', 'belgique'], negative=['paris']))"
   ]
  },
  {
   "cell_type": "markdown",
   "metadata": {},
   "source": [
    "### Modèle 5: Taille fenêtre 20 (vs 5) et vecteur 32 (vs 100)"
   ]
  },
  {
   "cell_type": "code",
   "execution_count": 47,
   "metadata": {},
   "outputs": [
    {
     "name": "stdout",
     "output_type": "stream",
     "text": [
      "CPU times: user 26min 43s, sys: 1min 14s, total: 27min 58s\n",
      "Wall time: 9min 51s\n"
     ]
    }
   ],
   "source": [
    "%%time\n",
    "model = Word2Vec(\n",
    "    corpus, # On passe le corpus de ngrams que nous venons de créer\n",
    "    vector_size=32, # Le nombre de dimensions dans lesquelles le contexte des mots devra être réduit, aka. vector_size\n",
    "    window=20, # La taille du \"contexte\", ici 5 mots avant et après le mot observé\n",
    "    min_count=5, # On ignore les mots qui n'apparaissent pas au moins 5 fois dans le corpus\n",
    "    workers=4, # Permet de paralléliser l'entraînement du modèle en 4 threads\n",
    "    epochs=5 # Nombre d'itérations du réseau de neurones sur le jeu de données pour ajuster les paramètres avec la descende de gradient, aka. epochs.\n",
    ")"
   ]
  },
  {
   "cell_type": "code",
   "execution_count": 48,
   "metadata": {},
   "outputs": [],
   "source": [
    "outfile = f\"../data/bulletins_5.model\"\n",
    "model.save(outfile)"
   ]
  },
  {
   "cell_type": "code",
   "execution_count": 49,
   "metadata": {},
   "outputs": [],
   "source": [
    "model = Word2Vec.load(\"../data/bulletins_5.model\")"
   ]
  },
  {
   "cell_type": "code",
   "execution_count": 50,
   "metadata": {},
   "outputs": [
    {
     "data": {
      "text/plain": [
       "array([-0.503185  , -0.01135701,  2.9071445 , -0.33935323,  0.7852202 ,\n",
       "       -7.8717766 , -1.3153803 ,  8.027404  , -1.2895185 , -9.461477  ,\n",
       "        0.55994606,  7.050791  , -0.3875398 , -0.6959667 ,  3.3068764 ,\n",
       "       -7.1694727 , -3.735939  ,  6.395983  ,  2.3281946 ,  2.3793006 ,\n",
       "       -4.2038946 , -7.604685  , -0.70219207,  4.476044  , -0.3055644 ,\n",
       "       -0.7566809 , -1.6676246 , -1.3390484 , -2.741731  ,  4.5634756 ,\n",
       "        0.02120536,  0.61037207], dtype=float32)"
      ]
     },
     "execution_count": 50,
     "metadata": {},
     "output_type": "execute_result"
    }
   ],
   "source": [
    "model.wv[\"bruxelles\"]"
   ]
  },
  {
   "cell_type": "code",
   "execution_count": 51,
   "metadata": {},
   "outputs": [
    {
     "data": {
      "text/plain": [
       "0.8505966"
      ]
     },
     "execution_count": 51,
     "metadata": {},
     "output_type": "execute_result"
    }
   ],
   "source": [
    "model.wv.similarity(\"boucher\", \"boulanger\")"
   ]
  },
  {
   "cell_type": "code",
   "execution_count": 52,
   "metadata": {},
   "outputs": [
    {
     "data": {
      "text/plain": [
       "[('laeken', 0.8055386543273926),\n",
       " ('liege', 0.7914955615997314),\n",
       " ('gand', 0.7288044095039368),\n",
       " ('bruxelloise', 0.7005123496055603),\n",
       " ('aux_confins', 0.6939319372177124),\n",
       " ('nivelles', 0.6921486854553223),\n",
       " ('obbgations_tramways', 0.6838479042053223),\n",
       " ('ostende', 0.6827777624130249),\n",
       " ('paris', 0.6722395420074463),\n",
       " ('louvain', 0.6675084829330444)]"
      ]
     },
     "execution_count": 52,
     "metadata": {},
     "output_type": "execute_result"
    }
   ],
   "source": [
    "model.wv.most_similar(\"bruxelles\", topn=10)"
   ]
  },
  {
   "cell_type": "code",
   "execution_count": 53,
   "metadata": {},
   "outputs": [
    {
     "name": "stdout",
     "output_type": "stream",
     "text": [
      "[('liege', 0.8014519214630127), ('huy', 0.7924149632453918), ('gand', 0.7921144962310791), ('ostende', 0.7839378714561462), ('hambourg', 0.7556935548782349), ('manchester', 0.7534753680229187), ('lille', 0.7480643391609192), ('verviers', 0.7413298487663269), ('jadis', 0.7364925146102905), ('berlin', 0.735415518283844)]\n"
     ]
    }
   ],
   "source": [
    "print(model.wv.most_similar(positive=['bruxelles', 'france'], negative=['belgique']))"
   ]
  },
  {
   "cell_type": "markdown",
   "metadata": {},
   "source": [
    "### Modèle 6 : Vecteur 300 et fenêtre 10"
   ]
  },
  {
   "cell_type": "code",
   "execution_count": 54,
   "metadata": {},
   "outputs": [
    {
     "name": "stdout",
     "output_type": "stream",
     "text": [
      "CPU times: user 52min 11s, sys: 2min 14s, total: 54min 25s\n",
      "Wall time: 16min 7s\n"
     ]
    }
   ],
   "source": [
    "%%time\n",
    "model = Word2Vec(\n",
    "    corpus, # On passe le corpus de ngrams que nous venons de créer\n",
    "    vector_size=300, # Le nombre de dimensions dans lesquelles le contexte des mots devra être réduit, aka. vector_size\n",
    "    window=10, # La taille du \"contexte\", ici 5 mots avant et après le mot observé\n",
    "    min_count=5, # On ignore les mots qui n'apparaissent pas au moins 5 fois dans le corpus\n",
    "    workers=4, # Permet de paralléliser l'entraînement du modèle en 4 threads\n",
    "    epochs=5 # Nombre d'itérations du réseau de neurones sur le jeu de données pour ajuster les paramètres avec la descende de gradient, aka. epochs.\n",
    ")"
   ]
  },
  {
   "cell_type": "code",
   "execution_count": 55,
   "metadata": {},
   "outputs": [],
   "source": [
    "outfile = f\"../data/bulletins_6.model\"\n",
    "model.save(outfile)"
   ]
  },
  {
   "cell_type": "code",
   "execution_count": 56,
   "metadata": {},
   "outputs": [],
   "source": [
    "model = Word2Vec.load(\"../data/bulletins_6.model\")"
   ]
  },
  {
   "cell_type": "code",
   "execution_count": 57,
   "metadata": {},
   "outputs": [
    {
     "data": {
      "text/plain": [
       "array([-1.8941535 , -1.8441689 , -1.2983671 , -0.47930893, -1.4705082 ,\n",
       "        1.243803  ,  0.12675878,  0.46231017, -1.1026258 ,  0.11179759,\n",
       "        0.067589  ,  0.2038403 , -1.3499236 ,  4.0949454 , -0.36215502,\n",
       "       -1.1563224 ,  0.82115173,  0.82290274, -0.9631553 , -0.68517464,\n",
       "       -3.4759614 , -1.2089055 ,  1.694218  ,  1.6561887 , -1.1776484 ,\n",
       "       -0.30590585, -1.2849115 , -0.8244972 ,  0.4800813 ,  1.1263399 ,\n",
       "       -0.9571767 ,  1.5167176 ,  2.4747825 , -2.232404  ,  2.8815398 ,\n",
       "       -3.84935   ,  2.4273005 , -0.0388324 ,  0.07375836, -1.9437244 ,\n",
       "       -2.5345845 ,  0.32627085, -0.52031565, -1.6569221 , -1.452766  ,\n",
       "       -4.066375  , -2.7125504 , -2.0605338 ,  2.3531666 , -2.2015738 ,\n",
       "       -1.3226348 , -0.3980228 ,  0.32416967, -2.3192768 ,  3.910695  ,\n",
       "       -1.1025765 , -0.64029545, -1.7138597 , -3.528511  ,  1.1143405 ,\n",
       "       -0.11756355,  0.28521106,  2.1705024 ,  0.03962039,  2.611368  ,\n",
       "       -0.15945473, -1.0234438 ,  3.7989838 ,  0.32224187,  2.041919  ,\n",
       "        0.8837785 ,  1.7917472 ,  0.10342644,  0.8873275 ,  0.52254045,\n",
       "        0.91270775, -0.01515261,  2.426829  ,  0.49857014, -0.49608722,\n",
       "        1.8959092 ,  1.8379873 ,  0.3369815 ,  0.85028666,  2.7900124 ,\n",
       "       -0.1273884 , -1.0721118 ,  0.8196725 , -1.5823449 ,  0.12530528,\n",
       "        0.3604995 , -0.22634201, -0.80698407, -0.22974397,  0.31664532,\n",
       "       -0.18903315, -3.276598  , -2.7206702 ,  0.3620366 , -0.3781912 ,\n",
       "        0.7652788 ,  0.748625  ,  2.590197  ,  1.0973257 , -0.22601451,\n",
       "        0.07246593,  0.5071749 ,  5.8002815 , -0.16784158,  1.5172993 ,\n",
       "        2.6417186 , -0.5901384 ,  0.08982521, -2.7000139 , -2.038054  ,\n",
       "       -1.5709426 ,  0.97441405,  0.6859399 ,  0.33725443,  0.5214708 ,\n",
       "       -0.41503456,  0.24531406,  0.96809673, -1.3934324 ,  3.717635  ,\n",
       "        2.801387  , -0.17089842, -1.3738073 , -0.25096697, -2.8509443 ,\n",
       "        0.9251841 , -2.7008028 , -1.1402464 , -0.7544732 ,  1.3562086 ,\n",
       "       -0.22730671, -1.4858806 ,  0.06168693,  3.1807942 , -0.91318834,\n",
       "        0.64506054,  1.3895823 ,  1.5574907 , -0.5181467 ,  1.739228  ,\n",
       "       -2.123197  ,  0.4088979 ,  0.19063945, -1.8562465 , -0.41585472,\n",
       "        0.40629223,  2.293596  , -1.0703831 , -1.0887271 , -1.7027301 ,\n",
       "        2.1340847 ,  0.73955894,  0.5436964 ,  1.5910318 , -0.34058827,\n",
       "       -2.6428216 ,  0.4006035 , -1.9872029 , -0.842841  , -0.8779868 ,\n",
       "        0.9912072 ,  1.0706441 ,  1.5632766 ,  1.7019954 ,  1.1906989 ,\n",
       "       -0.90806293,  0.04310516, -1.882799  ,  0.28017253, -0.45833236,\n",
       "       -1.4587651 ,  1.3326913 , -1.2620101 ,  2.2152474 ,  2.3964627 ,\n",
       "        0.15808947, -0.8158003 , -0.8530409 ,  1.6057417 ,  1.0863957 ,\n",
       "        1.7917405 , -1.1041799 , -1.0331252 ,  0.3248345 , -2.268576  ,\n",
       "        0.32718328, -0.45478714,  1.7371593 ,  0.1415225 ,  0.35415787,\n",
       "       -0.06622099, -0.706304  , -1.1708885 , -0.24590228, -3.5604088 ,\n",
       "       -3.0829296 ,  1.349197  , -0.33837298,  0.14379096,  0.91735935,\n",
       "       -0.03889968,  0.35414475, -0.09104027, -2.3764453 ,  2.4418538 ,\n",
       "        2.5704792 ,  0.5279447 , -0.34800795, -0.6873313 ,  1.3288586 ,\n",
       "       -0.07976834, -0.02059115,  0.77973425, -0.13425456, -2.4130046 ,\n",
       "       -0.09763071, -0.28062838, -0.6264847 , -1.7317212 , -3.2049835 ,\n",
       "       -3.1345243 ,  2.0192745 ,  1.9629207 ,  0.37850782, -2.728966  ,\n",
       "        0.13093457,  0.02123903,  1.8330826 ,  1.2114387 , -2.324587  ,\n",
       "       -2.7710104 ,  0.8824344 , -0.80033576,  1.0644859 ,  0.2828137 ,\n",
       "       -1.3604821 ,  1.0472642 , -1.9602482 ,  0.09269468, -0.8392188 ,\n",
       "       -0.55274075, -1.1296508 , -0.28296158,  0.7941006 , -1.9228443 ,\n",
       "       -0.8916614 ,  0.4242926 ,  0.6363406 , -1.7846003 , -2.0483031 ,\n",
       "       -0.04220833, -2.0046468 ,  0.63932705, -0.9559152 ,  2.4995654 ,\n",
       "        0.5207554 , -1.2963006 ,  1.4286178 , -0.93576086, -1.5887356 ,\n",
       "        0.17769387,  0.13746037,  0.78583026,  0.57409626,  2.5668378 ,\n",
       "        1.3614473 ,  0.5411415 ,  0.36486432,  2.2372885 , -1.3534346 ,\n",
       "        1.3051894 , -0.94303715,  1.5633184 , -0.64703953,  0.6354696 ,\n",
       "        0.30567452,  1.6056793 , -2.7281666 ,  1.9398905 ,  2.0039535 ,\n",
       "       -0.49898115,  2.0726936 ,  0.9495998 , -0.2283544 , -0.37881958,\n",
       "       -0.03955855, -0.30911738, -0.7433682 , -0.77246356, -0.57569534,\n",
       "       -0.22415346,  0.4722578 , -1.4907461 , -0.52407956, -4.0428343 ],\n",
       "      dtype=float32)"
      ]
     },
     "execution_count": 57,
     "metadata": {},
     "output_type": "execute_result"
    }
   ],
   "source": [
    "model.wv[\"bruxelles\"]"
   ]
  },
  {
   "cell_type": "code",
   "execution_count": 95,
   "metadata": {},
   "outputs": [
    {
     "data": {
      "text/plain": [
       "0.24132355"
      ]
     },
     "execution_count": 95,
     "metadata": {},
     "output_type": "execute_result"
    }
   ],
   "source": [
    "model.wv.similarity(\"voiture\", \"carrosse\")"
   ]
  },
  {
   "cell_type": "code",
   "execution_count": 101,
   "metadata": {},
   "outputs": [
    {
     "data": {
      "text/plain": [
       "[('tailleur', 0.6623472571372986),\n",
       " ('boulanger', 0.6560649275779724),\n",
       " ('cabaretier', 0.6487619280815125),\n",
       " ('menuisier', 0.6416441798210144),\n",
       " ('serrurier', 0.6407414078712463),\n",
       " ('charcutier', 0.6258613467216492),\n",
       " ('tapissier', 0.614556074142456),\n",
       " ('terrassier', 0.6109156012535095),\n",
       " ('cordonnier', 0.6100437641143799),\n",
       " ('fabricant', 0.6039721965789795)]"
      ]
     },
     "execution_count": 101,
     "metadata": {},
     "output_type": "execute_result"
    }
   ],
   "source": [
    "model.wv.most_similar(\"boucher\", topn=10)"
   ]
  },
  {
   "cell_type": "code",
   "execution_count": 109,
   "metadata": {},
   "outputs": [
    {
     "name": "stdout",
     "output_type": "stream",
     "text": [
      "[('peuple', 0.5006588101387024), ('souverain', 0.49426090717315674), ('parlement', 0.489849716424942), ('pouvoir_legislatif', 0.48538702726364136), ('prince', 0.48223361372947693), ('citoyen', 0.4811207354068756), ('magistrat_communal', 0.46513354778289795), ('pouvoir_civil', 0.4647432267665863), ('gouvernement', 0.4601726233959198), ('soldat', 0.4586349129676819)]\n"
     ]
    }
   ],
   "source": [
    "print(model.wv.most_similar(positive=['homme', 'roi'], negative=['femme']))"
   ]
  },
  {
   "cell_type": "code",
   "execution_count": 111,
   "metadata": {},
   "outputs": [
    {
     "name": "stdout",
     "output_type": "stream",
     "text": [
      "[('collegue', 0.4746754467487335), ('defenseur', 0.45523303747177124), ('scrupule', 0.44064831733703613), ('conseiller', 0.43790969252586365), ('temoignage', 0.43457233905792236), ('sentiment', 0.4340687692165375), ('orateur', 0.4326702356338501), ('geste', 0.43116092681884766), ('ministre', 0.42899051308631897), ('pouvoir_legislatif', 0.4280470013618469)]\n"
     ]
    }
   ],
   "source": [
    "print(model.wv.most_similar(positive=['homme', 'bourgmestre'], negative=['femme']))"
   ]
  },
  {
   "cell_type": "code",
   "execution_count": 112,
   "metadata": {},
   "outputs": [
    {
     "name": "stdout",
     "output_type": "stream",
     "text": [
      "[('berne', 0.39495036005973816), ('nivelles', 0.3824808895587921), ('huy', 0.38201335072517395), ('prague', 0.37479788064956665), ('zurich', 0.3697776198387146), ('liege', 0.3689724802970886), ('turnhout', 0.3591597080230713), ('bruxelle', 0.3570358157157898), ('gand', 0.3554554581642151), ('verviers', 0.3481411039829254)]\n"
     ]
    }
   ],
   "source": [
    "print(model.wv.most_similar(positive=['bourgmestre', 'bruxelles'], negative=['echevin']))"
   ]
  },
  {
   "cell_type": "markdown",
   "metadata": {},
   "source": [
    "### Modèle 7 : 300 dimensions et élargissement de la fenêtre à 40"
   ]
  },
  {
   "cell_type": "code",
   "execution_count": 140,
   "metadata": {},
   "outputs": [
    {
     "name": "stdout",
     "output_type": "stream",
     "text": [
      "CPU times: user 1h 18min 26s, sys: 3min 23s, total: 1h 21min 49s\n",
      "Wall time: 23min 12s\n"
     ]
    }
   ],
   "source": [
    "%%time\n",
    "model = Word2Vec(\n",
    "    corpus, # On passe le corpus de ngrams que nous venons de créer\n",
    "    vector_size=300, # Le nombre de dimensions dans lesquelles le contexte des mots devra être réduit, aka. vector_size\n",
    "    window=40, # La taille du \"contexte\", ici 5 mots avant et après le mot observé\n",
    "    min_count=5, # On ignore les mots qui n'apparaissent pas au moins 5 fois dans le corpus\n",
    "    workers=4, # Permet de paralléliser l'entraînement du modèle en 4 threads\n",
    "    epochs=5 # Nombre d'itérations du réseau de neurones sur le jeu de données pour ajuster les paramètres avec la descende de gradient, aka. epochs.\n",
    ")"
   ]
  },
  {
   "cell_type": "code",
   "execution_count": 141,
   "metadata": {},
   "outputs": [],
   "source": [
    "outfile = f\"../data/bulletins_7.model\"\n",
    "model.save(outfile)"
   ]
  },
  {
   "cell_type": "code",
   "execution_count": 142,
   "metadata": {},
   "outputs": [],
   "source": [
    "model = Word2Vec.load(\"../data/bulletins_7.model\")"
   ]
  },
  {
   "cell_type": "code",
   "execution_count": 143,
   "metadata": {},
   "outputs": [
    {
     "data": {
      "text/plain": [
       "array([ 1.9420298 ,  3.9572117 , -0.479781  ,  1.8512313 ,  0.6077983 ,\n",
       "        1.3188373 , -1.9745599 ,  0.46632752,  2.8355045 , -0.65798265,\n",
       "       -3.0141528 ,  0.02807515,  2.7232294 , -3.1294572 , -0.7755505 ,\n",
       "       -0.8761443 ,  4.6830487 , -0.0317545 , -1.208987  , -4.676162  ,\n",
       "       -1.0931574 ,  3.129132  , -1.7631922 ,  0.0724907 , -4.6236115 ,\n",
       "        0.10611718,  1.9277457 ,  3.283433  , -1.8141987 ,  0.96423477,\n",
       "        0.50486016,  0.76499254,  0.17737277,  1.2694582 ,  1.6600125 ,\n",
       "       -2.447073  , -4.820738  ,  0.03984297, -2.380742  ,  1.2092748 ,\n",
       "        3.1448622 , -1.1168028 ,  4.773965  , -3.0806484 , -0.72048235,\n",
       "       -2.12679   , -4.354698  , -1.9469824 ,  1.847901  , -3.521771  ,\n",
       "        1.4613243 ,  2.1824555 , -3.1887782 , -0.9928644 ,  2.058186  ,\n",
       "        0.1577508 , -1.3968624 ,  0.07626353,  0.7373336 , -2.6723197 ,\n",
       "        2.6736565 , -1.9131659 , -1.7043934 ,  2.637292  ,  2.1176355 ,\n",
       "       -2.2369292 , -0.32820123, -0.18236516,  1.1420782 , -0.24571489,\n",
       "        3.0502586 ,  2.767932  ,  1.0978518 ,  0.832547  ,  1.7480999 ,\n",
       "       -3.912178  ,  0.6139157 , -0.27729616, -0.3643999 , -2.4248421 ,\n",
       "        0.23384064,  3.334903  ,  3.3479776 ,  0.33037478,  2.576103  ,\n",
       "       -1.6910125 ,  1.9112297 , -0.42782184, -3.3682308 ,  1.2463405 ,\n",
       "       -2.1011798 , -0.37098873, -2.1546483 ,  0.8272106 , -2.2710543 ,\n",
       "       -0.527117  , -2.5504618 , -1.9578538 ,  3.4842782 , -3.143123  ,\n",
       "        1.3678311 , -1.3210815 ,  0.30733502, -1.1802893 , -0.71038544,\n",
       "        0.80868936, -2.0341048 , -0.769066  , -0.39415112, -0.25094438,\n",
       "       -1.9463726 , -1.1500286 ,  2.3407488 , -0.60187674, -0.7072452 ,\n",
       "        1.0914255 , -1.8567054 , -1.4097168 , -2.277047  , -1.0259099 ,\n",
       "       -2.1127205 , -2.8030767 , -4.819013  ,  0.2988163 ,  2.0092154 ,\n",
       "        0.51794726,  3.5025308 ,  0.8725013 , -3.137336  , -0.16095118,\n",
       "        2.5651922 , -0.6685083 , -2.295434  , -2.8512633 ,  1.1372676 ,\n",
       "       -2.166724  , -1.0702595 ,  0.4814731 ,  1.6510478 , -1.0063618 ,\n",
       "       -3.4207284 ,  4.139281  , -2.2751892 , -0.3618215 , -0.6088992 ,\n",
       "       -1.5337678 ,  2.05667   , -2.103425  , -0.98169845,  1.6208019 ,\n",
       "       -1.6734154 , -4.2869053 , -0.54471296,  3.6511536 , -4.3222413 ,\n",
       "       -1.6126915 , -0.72455597,  2.9397712 ,  1.8342587 , -3.602361  ,\n",
       "       -1.7928928 ,  0.8763245 , -1.1903512 , -0.65145624, -1.1308115 ,\n",
       "        2.269397  ,  0.20943436,  3.8188746 ,  0.63621765,  2.0897295 ,\n",
       "       -3.2012382 ,  2.7549803 ,  3.116568  ,  2.6794348 ,  2.8448586 ,\n",
       "       -0.40252936, -1.3601015 ,  0.35540998,  0.89571387,  2.9007695 ,\n",
       "        0.6833655 ,  1.2675067 ,  0.2623314 , -1.5327226 ,  3.7322707 ,\n",
       "        4.130922  , -1.7307917 ,  4.161584  ,  0.02149289, -1.087879  ,\n",
       "        0.9923679 , -1.2569923 ,  4.0512037 ,  0.3227799 , -0.4412982 ,\n",
       "        3.0082755 ,  2.3522751 , -2.793008  , -1.5346687 , -0.23873085,\n",
       "       -1.280816  ,  1.0199112 ,  3.9879727 , -2.6544068 , -0.29285786,\n",
       "       -0.6245427 ,  3.7278175 , -0.689157  ,  1.201517  ,  0.01671342,\n",
       "        1.6393545 , -0.21180943, -0.50313085,  1.6262453 , -1.5896162 ,\n",
       "       -1.363269  , -0.86062324,  4.2088695 , -1.6288228 , -1.9165108 ,\n",
       "       -2.02474   , -1.4453045 ,  2.4663084 , -2.0492327 , -1.5255046 ,\n",
       "        1.5187023 ,  1.8584368 ,  0.36468318,  0.6975907 , -1.1104612 ,\n",
       "        2.2468853 , -2.546163  ,  0.84928256,  1.5769342 , -5.121354  ,\n",
       "       -0.46425474,  2.2313032 ,  2.4470706 , -1.9637537 , -2.7334774 ,\n",
       "       -2.410398  ,  2.1560643 ,  0.9024859 ,  3.120285  ,  1.9172623 ,\n",
       "        0.5226526 , -1.3543527 ,  0.37628865, -0.85916567,  0.85116005,\n",
       "       -0.8095084 ,  2.0738578 , -0.5339822 ,  0.487873  ,  1.0452371 ,\n",
       "        0.95599693, -0.23391587,  1.6551584 , -1.8892424 ,  2.2180212 ,\n",
       "       -0.49628204, -2.4670494 ,  1.0118868 ,  0.981888  , -0.41885394,\n",
       "        1.2440261 ,  0.8203421 , -0.13332663, -1.526392  , -4.482885  ,\n",
       "       -4.1127405 ,  1.4665786 , -0.97545075, -0.12535685, -5.634425  ,\n",
       "        2.4029536 ,  2.0643518 ,  1.8521869 , -0.01328719,  1.2278322 ,\n",
       "       -0.846214  ,  1.6202581 , -2.151915  ,  1.3848972 ,  1.6169527 ,\n",
       "       -4.129955  ,  3.532287  , -0.2136083 , -1.8572967 ,  1.1756625 ,\n",
       "        1.8660719 , -0.6267658 , -1.5738616 , -0.541411  ,  2.5806167 ,\n",
       "       -2.7876692 , -0.31827646, -0.5739929 ,  1.4128373 , -4.4056873 ],\n",
       "      dtype=float32)"
      ]
     },
     "execution_count": 143,
     "metadata": {},
     "output_type": "execute_result"
    }
   ],
   "source": [
    "model.wv[\"bruxelles\"]"
   ]
  },
  {
   "cell_type": "code",
   "execution_count": 144,
   "metadata": {},
   "outputs": [
    {
     "data": {
      "text/plain": [
       "0.59319586"
      ]
     },
     "execution_count": 144,
     "metadata": {},
     "output_type": "execute_result"
    }
   ],
   "source": [
    "model.wv.similarity(\"boucher\", \"boulanger\")"
   ]
  },
  {
   "cell_type": "code",
   "execution_count": 145,
   "metadata": {},
   "outputs": [
    {
     "data": {
      "text/plain": [
       "0.1269484"
      ]
     },
     "execution_count": 145,
     "metadata": {},
     "output_type": "execute_result"
    }
   ],
   "source": [
    "model.wv.similarity(\"voiture\", \"carrosse\")"
   ]
  },
  {
   "cell_type": "code",
   "execution_count": 146,
   "metadata": {},
   "outputs": [
    {
     "data": {
      "text/plain": [
       "[('liege', 0.5068586468696594),\n",
       " ('nivelles', 0.49116843938827515),\n",
       " ('bruxelle', 0.4783177375793457),\n",
       " ('xelles', 0.4692355692386627),\n",
       " ('tournai', 0.4536599814891815),\n",
       " ('lille', 0.44403088092803955),\n",
       " ('ostende', 0.44255688786506653),\n",
       " ('liruxelles', 0.4339611530303955),\n",
       " ('verviers', 0.43019574880599976),\n",
       " ('dette_active', 0.4301547706127167)]"
      ]
     },
     "execution_count": 146,
     "metadata": {},
     "output_type": "execute_result"
    }
   ],
   "source": [
    "model.wv.most_similar(\"bruxelles\", topn=10)"
   ]
  },
  {
   "cell_type": "code",
   "execution_count": 147,
   "metadata": {},
   "outputs": [
    {
     "data": {
      "text/plain": [
       "[('boulanger', 0.5931957364082336),\n",
       " ('marchand', 0.579157829284668),\n",
       " ('coiffeur', 0.5705497860908508),\n",
       " ('etre_abattus', 0.5697841644287109),\n",
       " ('fabricant', 0.5636791586875916),\n",
       " ('mecanicien', 0.5634440779685974),\n",
       " ('menuisier', 0.5607987642288208),\n",
       " ('cordonnier', 0.5579670071601868),\n",
       " ('serrurier', 0.5513495802879333),\n",
       " ('cabaretier', 0.5434521436691284)]"
      ]
     },
     "execution_count": 147,
     "metadata": {},
     "output_type": "execute_result"
    }
   ],
   "source": [
    "model.wv.most_similar(\"boucher\", topn=10)"
   ]
  },
  {
   "cell_type": "code",
   "execution_count": 148,
   "metadata": {},
   "outputs": [
    {
     "name": "stdout",
     "output_type": "stream",
     "text": [
      "[('liege', 0.5512763261795044), ('lille', 0.5193424820899963), ('tournai', 0.5141823291778564), ('ostende', 0.5015013217926025), ('huy', 0.48177802562713623), ('prague', 0.4748130738735199), ('gand', 0.47399699687957764), ('lyon', 0.46861395239830017), ('rotterdam', 0.4614550471305847), ('geneve', 0.45686960220336914)]\n"
     ]
    }
   ],
   "source": [
    "print(model.wv.most_similar(positive=['bruxelles', 'france'], negative=['belgique']))"
   ]
  },
  {
   "cell_type": "code",
   "execution_count": 149,
   "metadata": {},
   "outputs": [
    {
     "name": "stdout",
     "output_type": "stream",
     "text": [
      "[('congres_national', 0.5066206455230713), ('souverain', 0.49232104420661926), ('peuple', 0.4825543463230133), ('citoyen', 0.4798600673675537), ('drapeau_national', 0.4787912964820862), ('prince', 0.47850993275642395), ('homme_politique', 0.4680681824684143), ('roi_albert', 0.46507886052131653), ('premier_magistrat', 0.45432090759277344), ('parlement', 0.4437144100666046)]\n"
     ]
    }
   ],
   "source": [
    "print(model.wv.most_similar(positive=['homme', 'roi'], negative=['femme']))"
   ]
  },
  {
   "cell_type": "code",
   "execution_count": 150,
   "metadata": {},
   "outputs": [
    {
     "name": "stdout",
     "output_type": "stream",
     "text": [
      "[('defenseur', 0.43767887353897095), ('collegue', 0.4311828017234802), ('temoignage', 0.42559802532196045), ('conseiller', 0.4247235059738159), ('homme_politique', 0.4245629906654358), ('premier_magistrat', 0.4244137406349182), ('citoyen', 0.4110882580280304), ('seul_instant', 0.4006548821926117), ('instant', 0.3941536247730255), ('journaliste', 0.3907710015773773)]\n"
     ]
    }
   ],
   "source": [
    "print(model.wv.most_similar(positive=['homme', 'bourgmestre'], negative=['femme']))"
   ]
  },
  {
   "cell_type": "code",
   "execution_count": 151,
   "metadata": {},
   "outputs": [
    {
     "name": "stdout",
     "output_type": "stream",
     "text": [
      "[('bruxelle', 0.3950777053833008), ('prague', 0.3701161742210388), ('nivelles', 0.366010457277298), ('xelles', 0.35609501600265503), ('binche', 0.3530123829841614), ('tirlemont', 0.35275956988334656), ('duc', 0.35234901309013367), ('zurich', 0.3492000102996826), ('liege', 0.3395634591579437), ('tournai', 0.3369255065917969)]\n"
     ]
    }
   ],
   "source": [
    "print(model.wv.most_similar(positive=['bourgmestre', 'bruxelles'], negative=['echevin']))"
   ]
  },
  {
   "cell_type": "code",
   "execution_count": 152,
   "metadata": {},
   "outputs": [
    {
     "name": "stdout",
     "output_type": "stream",
     "text": [
      "[('liege', 0.4866924583911896), ('londres', 0.4715336859226227), ('gand', 0.4669768512248993), ('amsterdam', 0.4669738709926605), ('rotterdam', 0.4630443751811981), ('berlin', 0.4575584828853607), ('lyon', 0.45622313022613525), ('lille', 0.44650131464004517), ('hambourg', 0.4392347037792206), ('ostende', 0.43219050765037537)]\n"
     ]
    }
   ],
   "source": [
    "print(model.wv.most_similar(positive=['bruxelles', 'paris'], negative=['belgique']))"
   ]
  },
  {
   "cell_type": "markdown",
   "metadata": {},
   "source": [
    "### Modèle 8 : Vecteur 300, fenêtre 5"
   ]
  },
  {
   "cell_type": "code",
   "execution_count": 153,
   "metadata": {},
   "outputs": [
    {
     "name": "stdout",
     "output_type": "stream",
     "text": [
      "CPU times: user 52min 31s, sys: 2min 45s, total: 55min 16s\n",
      "Wall time: 17min 52s\n"
     ]
    }
   ],
   "source": [
    "%%time\n",
    "model = Word2Vec(\n",
    "    corpus, # On passe le corpus de ngrams que nous venons de créer\n",
    "    vector_size=300, # Le nombre de dimensions dans lesquelles le contexte des mots devra être réduit, aka. vector_size\n",
    "    window=5, # La taille du \"contexte\", ici 5 mots avant et après le mot observé\n",
    "    min_count=5, # On ignore les mots qui n'apparaissent pas au moins 5 fois dans le corpus\n",
    "    workers=4, # Permet de paralléliser l'entraînement du modèle en 4 threads\n",
    "    epochs=5 # Nombre d'itérations du réseau de neurones sur le jeu de données pour ajuster les paramètres avec la descende de gradient, aka. epochs.\n",
    ")"
   ]
  },
  {
   "cell_type": "code",
   "execution_count": 154,
   "metadata": {},
   "outputs": [],
   "source": [
    "outfile = f\"../data/bulletins_8.model\"\n",
    "model.save(outfile)"
   ]
  },
  {
   "cell_type": "code",
   "execution_count": 155,
   "metadata": {},
   "outputs": [],
   "source": [
    "model = Word2Vec.load(\"../data/bulletins_8.model\")"
   ]
  },
  {
   "cell_type": "code",
   "execution_count": 156,
   "metadata": {},
   "outputs": [
    {
     "data": {
      "text/plain": [
       "array([ 0.03376665, -0.15368643, -0.2372689 ,  0.16326897,  0.35034972,\n",
       "       -0.7852263 , -0.71298736, -1.1754018 , -2.959566  ,  0.9983248 ,\n",
       "       -0.5194356 ,  0.49538508, -0.64167076,  0.48807636,  2.068091  ,\n",
       "        0.5359729 ,  1.0986643 ,  0.8097426 , -0.56722987,  1.3344384 ,\n",
       "       -1.5750489 ,  1.0391806 , -0.02509025,  2.548433  , -1.0727464 ,\n",
       "       -1.1938587 , -0.31837767, -1.2871847 ,  0.6490244 , -0.00775517,\n",
       "        0.40511045, -0.4292743 ,  2.499439  , -1.2697452 ,  3.769812  ,\n",
       "       -0.14065114,  1.5113703 ,  1.7290576 ,  1.3724093 ,  1.6587178 ,\n",
       "       -0.47041377,  1.3847239 ,  0.7703857 , -0.55137706, -1.044063  ,\n",
       "       -2.366426  , -2.2340603 , -0.47734085,  0.6138347 , -1.1245146 ,\n",
       "       -1.4871107 ,  2.4642067 ,  2.8817992 , -1.2213827 , -0.79821867,\n",
       "       -1.72223   ,  0.71573466, -1.1036998 , -1.679436  ,  0.19673033,\n",
       "        0.86890656, -1.2333289 , -0.06400593, -0.61558604,  1.071806  ,\n",
       "       -0.3724426 , -0.16024712,  1.7617979 ,  0.700619  ,  1.8698041 ,\n",
       "        0.51412416, -0.7250891 ,  1.5172626 ,  0.3703224 , -0.3609342 ,\n",
       "       -1.0881777 , -1.4395477 ,  0.7754197 , -0.22017696,  0.8514694 ,\n",
       "       -0.76623535,  0.46628606, -0.33712748, -1.0941614 ,  1.9808236 ,\n",
       "       -0.43971527,  0.72414774, -2.2261338 , -1.6993002 ,  1.2572203 ,\n",
       "        0.48710904, -0.65679294, -0.60946   ,  0.7706007 ,  0.08190112,\n",
       "       -0.7320033 , -3.8155525 , -1.6250944 ,  1.1305118 , -0.5674815 ,\n",
       "        1.0885757 , -0.38668892, -0.4268172 , -1.4652743 , -0.44952306,\n",
       "        2.259109  ,  1.8170011 ,  1.5140822 , -0.6221789 , -1.6001728 ,\n",
       "        1.4278129 , -0.55033904,  2.1557338 , -0.45421574, -0.16181111,\n",
       "        0.49223596, -1.2160686 , -0.3467382 ,  0.9936782 ,  1.4408388 ,\n",
       "        0.31083596, -0.26168087, -0.37342247, -0.58630633,  0.17017883,\n",
       "        1.7731577 , -0.18881044, -0.12102868,  0.49982098, -0.9599714 ,\n",
       "        1.0544454 , -1.5030451 , -1.3629665 , -0.5448895 , -0.08475573,\n",
       "        2.0991569 , -0.47443324,  1.5023448 ,  0.11377405, -1.8687143 ,\n",
       "        0.11519732,  1.7537723 , -2.1832387 , -2.0132143 , -0.20126325,\n",
       "       -1.016258  ,  0.6592508 ,  0.689929  ,  0.48465925, -1.0727826 ,\n",
       "        1.4899501 ,  0.18986624, -1.72558   ,  0.49561203, -1.4922565 ,\n",
       "        0.09742989, -1.335906  ,  0.13502629, -0.16765672,  1.487401  ,\n",
       "       -1.9044473 ,  1.1395024 , -0.6174026 ,  0.07606979,  1.0889684 ,\n",
       "        0.5162119 , -0.77995235,  0.6789527 ,  0.30541682,  2.5087883 ,\n",
       "       -1.4466382 , -0.3940029 ,  0.9074792 ,  0.16010927, -0.06852561,\n",
       "       -1.024836  , -0.7884354 ,  2.4365966 ,  2.3874328 ,  0.53893924,\n",
       "        0.45916894,  0.48385137, -0.3127643 ,  0.12142333,  1.0007044 ,\n",
       "       -0.82435906, -1.5959874 ,  1.1704228 ,  1.8163226 , -3.249464  ,\n",
       "        1.4797844 ,  0.42213187, -0.19319597, -0.31571627,  1.0294024 ,\n",
       "        0.40356812, -1.0384386 ,  1.4977037 , -0.30543637, -0.31163597,\n",
       "       -0.36894462, -1.4433458 ,  1.0245807 , -0.6677124 ,  1.9285711 ,\n",
       "        0.11882633,  0.21070787, -0.5591785 , -2.1878881 ,  0.95177174,\n",
       "       -0.4082698 ,  0.08861517, -1.0047404 , -1.0683963 , -1.1784263 ,\n",
       "        1.1337628 , -1.17458   , -1.4283891 , -0.16217978,  0.9621706 ,\n",
       "        1.3613327 ,  0.5028141 ,  1.4735806 ,  0.75440377, -2.2685566 ,\n",
       "       -1.2208688 ,  1.573138  , -0.45457786,  0.0182407 , -1.2408679 ,\n",
       "        1.5920292 , -0.29359946, -1.1569365 ,  1.1176653 , -3.160235  ,\n",
       "       -3.4825974 ,  1.6281954 , -0.41270536,  0.20471743,  1.0317221 ,\n",
       "       -2.089807  ,  0.54740506, -0.3040625 , -0.22459292, -0.78281885,\n",
       "       -0.09863719, -1.4178908 ,  0.3024509 , -0.8537292 , -1.7667364 ,\n",
       "        1.87232   ,  0.29718894,  2.1397977 ,  0.8987568 , -0.99367857,\n",
       "       -0.6011539 , -1.7171971 ,  0.5212486 , -1.6212833 ,  1.3205814 ,\n",
       "       -1.1267245 , -1.4453478 ,  2.7968593 , -0.2669239 ,  0.88437873,\n",
       "       -1.7880499 , -0.28099233,  0.06535276, -1.3225434 , -1.4738852 ,\n",
       "       -0.6905195 ,  1.3230387 ,  0.79907745, -0.20593803,  0.415995  ,\n",
       "        0.05323392,  0.24580358, -1.1089607 , -0.65913546, -0.38640186,\n",
       "       -0.31629667,  0.04754582, -2.712919  , -0.79835564,  2.2975526 ,\n",
       "        1.1671375 ,  1.7654557 ,  1.0288997 , -0.7027891 ,  0.49723202,\n",
       "        0.7908857 ,  0.04439405,  0.4928846 ,  1.1613573 ,  0.91459113,\n",
       "       -0.369946  , -0.59255993, -0.85606474,  0.775298  , -0.56966466],\n",
       "      dtype=float32)"
      ]
     },
     "execution_count": 156,
     "metadata": {},
     "output_type": "execute_result"
    }
   ],
   "source": [
    "model.wv[\"bruxelles\"]"
   ]
  },
  {
   "cell_type": "code",
   "execution_count": 157,
   "metadata": {},
   "outputs": [
    {
     "data": {
      "text/plain": [
       "0.6921761"
      ]
     },
     "execution_count": 157,
     "metadata": {},
     "output_type": "execute_result"
    }
   ],
   "source": [
    "model.wv.similarity(\"boucher\", \"boulanger\")"
   ]
  },
  {
   "cell_type": "code",
   "execution_count": 158,
   "metadata": {},
   "outputs": [
    {
     "data": {
      "text/plain": [
       "0.20062777"
      ]
     },
     "execution_count": 158,
     "metadata": {},
     "output_type": "execute_result"
    }
   ],
   "source": [
    "model.wv.similarity(\"voiture\", \"carrosse\")"
   ]
  },
  {
   "cell_type": "code",
   "execution_count": 159,
   "metadata": {},
   "outputs": [
    {
     "data": {
      "text/plain": [
       "[('nivelles', 0.5794664025306702),\n",
       " ('rruxelles', 0.5737338662147522),\n",
       " ('liege', 0.5225680470466614),\n",
       " ('gand', 0.5023678541183472),\n",
       " ('paris', 0.48170360922813416),\n",
       " ('xelles', 0.4629574120044708),\n",
       " ('malines', 0.4540492296218872),\n",
       " ('londres', 0.450400710105896),\n",
       " ('lille', 0.449739545583725),\n",
       " ('verviers', 0.44773247838020325)]"
      ]
     },
     "execution_count": 159,
     "metadata": {},
     "output_type": "execute_result"
    }
   ],
   "source": [
    "model.wv.most_similar(\"bruxelles\", topn=10)"
   ]
  },
  {
   "cell_type": "code",
   "execution_count": 160,
   "metadata": {},
   "outputs": [
    {
     "data": {
      "text/plain": [
       "[('menuisier', 0.705475926399231),\n",
       " ('tailleur', 0.7049712538719177),\n",
       " ('cordonnier', 0.6925906538963318),\n",
       " ('boulanger', 0.6921761631965637),\n",
       " ('charcutier', 0.6875828504562378),\n",
       " ('tapissier', 0.6866316795349121),\n",
       " ('serrurier', 0.67592453956604),\n",
       " ('marbrier', 0.657673180103302),\n",
       " ('cabaretier', 0.6564407348632812),\n",
       " ('batelier', 0.6554194092750549)]"
      ]
     },
     "execution_count": 160,
     "metadata": {},
     "output_type": "execute_result"
    }
   ],
   "source": [
    "model.wv.most_similar(\"boucher\", topn=10)"
   ]
  },
  {
   "cell_type": "code",
   "execution_count": 161,
   "metadata": {},
   "outputs": [
    {
     "name": "stdout",
     "output_type": "stream",
     "text": [
      "[('verviers', 0.534920334815979), ('londres', 0.5326730608940125), ('liege', 0.5236067175865173), ('tournai', 0.5141814947128296), ('gand', 0.5092669129371643), ('hambourg', 0.4946388006210327), ('nivelles', 0.4940313696861267), ('paris', 0.4934212565422058), ('prague', 0.4888829290866852), ('lille', 0.4820585250854492)]\n"
     ]
    }
   ],
   "source": [
    "print(model.wv.most_similar(positive=['bruxelles', 'france'], negative=['belgique']))"
   ]
  },
  {
   "cell_type": "code",
   "execution_count": 162,
   "metadata": {},
   "outputs": [
    {
     "name": "stdout",
     "output_type": "stream",
     "text": [
      "[('substitut', 0.4808488190174103), ('prince', 0.4788137674331665), ('peuple', 0.4772094190120697), ('pouvoir_legislatif', 0.47451895475387573), ('parlement', 0.47124239802360535), ('congres_national', 0.46308228373527527), ('magistrat', 0.45981365442276), ('portique', 0.45897307991981506), ('parti_liberal', 0.4527781903743744), ('souverain', 0.4506208300590515)]\n"
     ]
    }
   ],
   "source": [
    "print(model.wv.most_similar(positive=['homme', 'roi'], negative=['femme']))"
   ]
  },
  {
   "cell_type": "code",
   "execution_count": 163,
   "metadata": {},
   "outputs": [
    {
     "name": "stdout",
     "output_type": "stream",
     "text": [
      "[('collegue', 0.4900236427783966), ('defenseur', 0.481063574552536), ('scrupule', 0.4779437482357025), ('geste', 0.4597097337245941), ('discours', 0.4495963454246521), ('collaborateur', 0.447189062833786), ('orateur', 0.4450376033782959), ('juriste', 0.4424530267715454), ('ministre', 0.44214901328086853), ('sentiment', 0.44033125042915344)]\n"
     ]
    }
   ],
   "source": [
    "print(model.wv.most_similar(positive=['homme', 'bourgmestre'], negative=['femme']))"
   ]
  },
  {
   "cell_type": "code",
   "execution_count": 164,
   "metadata": {},
   "outputs": [
    {
     "name": "stdout",
     "output_type": "stream",
     "text": [
      "[('nivelles', 0.434680312871933), ('rruxelles', 0.41497689485549927), ('liege', 0.39032211899757385), ('paris', 0.3756389915943146), ('prague', 0.3523339331150055), ('termonde', 0.3519954979419708), ('xelles', 0.35197094082832336), ('bruges', 0.34980642795562744), ('izier', 0.3487500846385956), ('zurich', 0.3485882878303528)]\n"
     ]
    }
   ],
   "source": [
    "print(model.wv.most_similar(positive=['bourgmestre', 'bruxelles'], negative=['echevin']))"
   ]
  },
  {
   "cell_type": "code",
   "execution_count": 165,
   "metadata": {},
   "outputs": [
    {
     "name": "stdout",
     "output_type": "stream",
     "text": [
      "[('gand', 0.5362998843193054), ('londres', 0.5179358720779419), ('liege', 0.4998849332332611), ('verviers', 0.48312634229660034), ('nivelles', 0.46410995721817017), ('rruxelles', 0.4593343436717987), ('tournai', 0.4545356333255768), ('prague', 0.45003101229667664), ('amsterdam', 0.44772326946258545), ('ostende', 0.4376828074455261)]\n"
     ]
    }
   ],
   "source": [
    "print(model.wv.most_similar(positive=['bruxelles', 'paris'], negative=['belgique']))"
   ]
  },
  {
   "cell_type": "markdown",
   "metadata": {},
   "source": [
    "### Modèle 9 : Vecteur 100, fenêtre 40"
   ]
  },
  {
   "cell_type": "code",
   "execution_count": 166,
   "metadata": {},
   "outputs": [
    {
     "name": "stdout",
     "output_type": "stream",
     "text": [
      "CPU times: user 42min 18s, sys: 2min 4s, total: 44min 23s\n",
      "Wall time: 14min 49s\n"
     ]
    }
   ],
   "source": [
    "%%time\n",
    "model = Word2Vec(\n",
    "    corpus, # On passe le corpus de ngrams que nous venons de créer\n",
    "    vector_size=100, # Le nombre de dimensions dans lesquelles le contexte des mots devra être réduit, aka. vector_size\n",
    "    window=40, # La taille du \"contexte\", ici 5 mots avant et après le mot observé\n",
    "    min_count=5, # On ignore les mots qui n'apparaissent pas au moins 5 fois dans le corpus\n",
    "    workers=4, # Permet de paralléliser l'entraînement du modèle en 4 threads\n",
    "    epochs=5 # Nombre d'itérations du réseau de neurones sur le jeu de données pour ajuster les paramètres avec la descende de gradient, aka. epochs.\n",
    ")"
   ]
  },
  {
   "cell_type": "code",
   "execution_count": 167,
   "metadata": {},
   "outputs": [],
   "source": [
    "outfile = f\"../data/bulletins_9.model\"\n",
    "model.save(outfile)"
   ]
  },
  {
   "cell_type": "code",
   "execution_count": 168,
   "metadata": {},
   "outputs": [],
   "source": [
    "model = Word2Vec.load(\"../data/bulletins_9.model\")"
   ]
  },
  {
   "cell_type": "code",
   "execution_count": 169,
   "metadata": {},
   "outputs": [
    {
     "data": {
      "text/plain": [
       "array([-5.632714  , -2.0852008 , -2.3220026 ,  2.9778798 , -3.181986  ,\n",
       "        1.9977478 , -2.6852753 , -3.832645  ,  0.04784409,  3.4816964 ,\n",
       "        0.8636748 ,  1.9691361 ,  0.9180136 ,  3.7392008 ,  1.2560499 ,\n",
       "        1.4207648 ,  4.804548  , -1.0894951 ,  9.480927  , -0.43994424,\n",
       "        5.1391587 , -3.0354512 , -5.303183  , -0.57952183,  0.13835198,\n",
       "        2.1639357 ,  3.3303363 ,  1.3061031 ,  2.9484484 , -4.6935205 ,\n",
       "       -4.3497524 ,  3.09033   , -4.0258107 , -0.93852985,  2.2096207 ,\n",
       "        3.5929976 , -1.8873901 ,  5.338172  , -0.7563687 , -2.4372873 ,\n",
       "        1.5720205 , -1.5531121 , -0.79097915,  6.760926  ,  0.7869648 ,\n",
       "       -3.91618   ,  2.8180945 , -8.252442  ,  3.1905584 , -1.4279473 ,\n",
       "        0.6705358 ,  2.1984186 ,  1.9810268 , -2.109154  , -3.2923827 ,\n",
       "        2.5102317 , -3.6633947 , -7.3272233 ,  1.1219487 ,  3.597578  ,\n",
       "        0.76092094,  2.7240448 ,  5.8935547 ,  4.804508  ,  2.0144448 ,\n",
       "        4.04141   ,  1.5511286 ,  4.4134827 ,  1.5147197 ,  0.48005006,\n",
       "        0.52916455,  5.7429237 , -3.8845515 , -1.9366082 ,  0.9297787 ,\n",
       "        2.3234048 , -2.208352  , -3.6750717 , -0.26481396, -1.2986492 ,\n",
       "        2.3579204 ,  1.5169945 , -3.9369435 , -3.8675478 , -0.93134445,\n",
       "        1.6478099 ,  7.5172276 ,  2.2661712 ,  0.13682626, -2.5198624 ,\n",
       "       -5.368272  ,  3.0967314 , -1.8198799 , -3.7968721 , -6.6852965 ,\n",
       "       -2.1316006 ,  2.4141126 , -3.7023387 , -0.03417927, -2.317917  ],\n",
       "      dtype=float32)"
      ]
     },
     "execution_count": 169,
     "metadata": {},
     "output_type": "execute_result"
    }
   ],
   "source": [
    "model.wv[\"bruxelles\"]"
   ]
  },
  {
   "cell_type": "code",
   "execution_count": 170,
   "metadata": {},
   "outputs": [
    {
     "data": {
      "text/plain": [
       "0.68535304"
      ]
     },
     "execution_count": 170,
     "metadata": {},
     "output_type": "execute_result"
    }
   ],
   "source": [
    "model.wv.similarity(\"boucher\", \"boulanger\")"
   ]
  },
  {
   "cell_type": "code",
   "execution_count": 171,
   "metadata": {},
   "outputs": [
    {
     "data": {
      "text/plain": [
       "0.12812918"
      ]
     },
     "execution_count": 171,
     "metadata": {},
     "output_type": "execute_result"
    }
   ],
   "source": [
    "model.wv.similarity(\"voiture\", \"carrosse\")"
   ]
  },
  {
   "cell_type": "code",
   "execution_count": 172,
   "metadata": {},
   "outputs": [
    {
     "data": {
      "text/plain": [
       "[('xelles', 0.6651670336723328),\n",
       " ('liege', 0.5861473083496094),\n",
       " ('nivelles', 0.5695111155509949),\n",
       " ('laeken', 0.563617467880249),\n",
       " ('dette_active', 0.5545754432678223),\n",
       " ('bruxelle', 0.5514754056930542),\n",
       " ('bruxe', 0.540813148021698),\n",
       " ('manufacturiere', 0.5400780439376831),\n",
       " ('huy', 0.5379692316055298),\n",
       " ('ostende', 0.5323569774627686)]"
      ]
     },
     "execution_count": 172,
     "metadata": {},
     "output_type": "execute_result"
    }
   ],
   "source": [
    "model.wv.most_similar(\"bruxelles\", topn=10)"
   ]
  },
  {
   "cell_type": "code",
   "execution_count": 173,
   "metadata": {},
   "outputs": [
    {
     "data": {
      "text/plain": [
       "[('cordonnier', 0.7136046290397644),\n",
       " ('fabricant', 0.695364773273468),\n",
       " ('boulanger', 0.6853529810905457),\n",
       " ('charpentier', 0.6758134365081787),\n",
       " ('marchand', 0.6743961572647095),\n",
       " ('serrurier', 0.6743265390396118),\n",
       " ('menuisier', 0.6717424988746643),\n",
       " ('charcutier', 0.6633214950561523),\n",
       " ('tailleur', 0.656404435634613),\n",
       " ('meunier', 0.6544731855392456)]"
      ]
     },
     "execution_count": 173,
     "metadata": {},
     "output_type": "execute_result"
    }
   ],
   "source": [
    "model.wv.most_similar(\"boucher\", topn=10)"
   ]
  },
  {
   "cell_type": "code",
   "execution_count": 174,
   "metadata": {},
   "outputs": [
    {
     "name": "stdout",
     "output_type": "stream",
     "text": [
      "[('huy', 0.6195623278617859), ('hambourg', 0.5991153717041016), ('manchester', 0.5982712507247925), ('liege', 0.5854235887527466), ('londres', 0.5793405175209045), ('ostende', 0.5688986778259277), ('paris', 0.5649790167808533), ('lille', 0.5636627674102783), ('amsterdam', 0.5562283992767334), ('gand', 0.5400305390357971)]\n"
     ]
    }
   ],
   "source": [
    "print(model.wv.most_similar(positive=['bruxelles', 'france'], negative=['belgique']))"
   ]
  },
  {
   "cell_type": "code",
   "execution_count": 175,
   "metadata": {},
   "outputs": [
    {
     "name": "stdout",
     "output_type": "stream",
     "text": [
      "[('congres_national', 0.6028381586074829), ('prince', 0.6000238060951233), ('congres', 0.5982035398483276), ('souverain', 0.5863264799118042), ('peuple', 0.5856724977493286), ('magistrat', 0.5816968083381653), ('citoyen', 0.5683267116546631), ('drapeau_national', 0.5603322982788086), ('banquet', 0.5595159530639648), ('congo', 0.5558876395225525)]\n"
     ]
    }
   ],
   "source": [
    "print(model.wv.most_similar(positive=['homme', 'roi'], negative=['femme']))"
   ]
  },
  {
   "cell_type": "code",
   "execution_count": 176,
   "metadata": {},
   "outputs": [
    {
     "name": "stdout",
     "output_type": "stream",
     "text": [
      "[('nistre', 0.5475883483886719), ('defenseur', 0.5099793672561646), ('collegue', 0.49658870697021484), ('coliege', 0.4927530288696289), ('premier_ministre', 0.48967066407203674), ('rapporteur', 0.48401108384132385), ('g_mestre', 0.48272135853767395), ('conseiller', 0.4821358323097229), ('discours', 0.47750771045684814), ('premier_magistrat', 0.4689492881298065)]\n"
     ]
    }
   ],
   "source": [
    "print(model.wv.most_similar(positive=['homme', 'bourgmestre'], negative=['femme']))"
   ]
  },
  {
   "cell_type": "code",
   "execution_count": 177,
   "metadata": {},
   "outputs": [
    {
     "name": "stdout",
     "output_type": "stream",
     "text": [
      "[('bruxe', 0.4750226140022278), ('bruxelle', 0.47379934787750244), ('laeken', 0.4509906768798828), ('manufacturiere', 0.44638532400131226), ('xelles', 0.44368958473205566), ('traditionnel_defile', 0.4164222180843353), ('tournai', 0.41501978039741516), ('prague', 0.412350058555603), ('huy', 0.4119340777397156), ('otel', 0.4079040586948395)]\n"
     ]
    }
   ],
   "source": [
    "print(model.wv.most_similar(positive=['bourgmestre', 'bruxelles'], negative=['echevin']))"
   ]
  },
  {
   "cell_type": "code",
   "execution_count": 178,
   "metadata": {},
   "outputs": [
    {
     "name": "stdout",
     "output_type": "stream",
     "text": [
      "[('hambourg', 0.5637348890304565), ('londres', 0.5500701069831848), ('manchester', 0.532948911190033), ('gand', 0.5250847935676575), ('liege', 0.5164158940315247), ('berlin', 0.5028001666069031), ('huy', 0.491977334022522), ('ostende', 0.4851594865322113), ('amsterdam', 0.48425236344337463), ('laeken', 0.4806765615940094)]\n"
     ]
    }
   ],
   "source": [
    "print(model.wv.most_similar(positive=['bruxelles', 'paris'], negative=['belgique']))"
   ]
  },
  {
   "cell_type": "code",
   "execution_count": null,
   "metadata": {},
   "outputs": [],
   "source": []
  }
 ],
 "metadata": {
  "kernelspec": {
   "display_name": "Python 3 (ipykernel)",
   "language": "python",
   "name": "python3"
  },
  "language_info": {
   "codemirror_mode": {
    "name": "ipython",
    "version": 3
   },
   "file_extension": ".py",
   "mimetype": "text/x-python",
   "name": "python",
   "nbconvert_exporter": "python",
   "pygments_lexer": "ipython3",
   "version": "3.9.7"
  }
 },
 "nbformat": 4,
 "nbformat_minor": 4
}
