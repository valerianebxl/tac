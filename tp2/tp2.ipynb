{
 "cells": [
  {
   "cell_type": "markdown",
   "id": "61793493-3d93-4e4c-b254-96baec655d4b",
   "metadata": {},
   "source": [
    "# TP2 : Extraction d'informations"
   ]
  },
  {
   "cell_type": "markdown",
   "id": "97afba42-e1c4-482d-b6f5-bfaab8520ee2",
   "metadata": {},
   "source": [
    "Sur la base des éléments méthodologiques et des enseignements techniques présentés lors du cours théorique, il est demandé dans le cadre de ce TP :\n",
    "- de se familiariser avec les techniques d’enrichissement (extraction de mots-clés, reconnaissance d’entités nommées, analyse de sentiment...)\n",
    "- d’appliquer celles-ci au corpus de bulletins de la ville de Bruxelles préalablement convertis au format .txt\n",
    "\n",
    "Pour ce faire, vous utiliserez différentes librairies Python vues au cours."
   ]
  },
  {
   "cell_type": "markdown",
   "id": "ba771dfa-52a2-44f7-92e5-010ed498f318",
   "metadata": {},
   "source": [
    "## 1. Keywords"
   ]
  },
  {
   "cell_type": "markdown",
   "id": "7d4505ac-f7c4-453f-beac-672f41c58715",
   "metadata": {},
   "source": [
    "### Librairies utilisées dans le code"
   ]
  },
  {
   "cell_type": "markdown",
   "id": "40260ec3-4d87-41c2-9c43-7cf881f1befe",
   "metadata": {
    "tags": []
   },
   "source": [
    "#### Choix d'une année à analyser"
   ]
  },
  {
   "cell_type": "code",
   "execution_count": 1,
   "id": "61718da2-0b36-4ee4-baa6-e84d664347a5",
   "metadata": {},
   "outputs": [],
   "source": [
    "import os\n",
    "from collections import defaultdict, Counter\n",
    "import textract\n",
    "import nltk\n",
    "from nltk.corpus import stopwords\n",
    "import yake\n",
    "from wordcloud import WordCloud\n",
    "from IPython.display import Image"
   ]
  },
  {
   "cell_type": "markdown",
   "id": "3beeca5f-03a5-4a52-be94-a9258e8916e5",
   "metadata": {},
   "source": [
    "### Sélection des fichiers à analyser"
   ]
  },
  {
   "cell_type": "markdown",
   "id": "129bbbbd-a57e-4de9-a3e5-cabb17a69a85",
   "metadata": {},
   "source": [
    "#### Choix d'une année à analyser"
   ]
  },
  {
   "cell_type": "code",
   "execution_count": 2,
   "id": "07566073-2b23-49ae-a5c4-6eea6434caa9",
   "metadata": {},
   "outputs": [],
   "source": [
    "selected_year = 1939"
   ]
  },
  {
   "cell_type": "markdown",
   "id": "66db830f-14c9-47eb-92fb-b7104915d62d",
   "metadata": {},
   "source": [
    "#### Stocker la liste des fichiers contenus dans le dossier 'txt'"
   ]
  },
  {
   "cell_type": "code",
   "execution_count": 3,
   "id": "5328a90b-86ee-456f-93da-8f23c09aa18e",
   "metadata": {},
   "outputs": [
    {
     "data": {
      "text/plain": [
       "2827"
      ]
     },
     "execution_count": 3,
     "metadata": {},
     "output_type": "execute_result"
    }
   ],
   "source": [
    "txt_path = \"../data/txt/\"\n",
    "files = sorted(os.listdir(txt_path))\n",
    "len(files)"
   ]
  },
  {
   "cell_type": "markdown",
   "id": "04021383-4e4e-40fa-83f4-224828b7d051",
   "metadata": {},
   "source": [
    "#### Lister les fichiers pour Bruxelles et pour Laeken"
   ]
  },
  {
   "cell_type": "code",
   "execution_count": 4,
   "id": "0176468e-5005-4cf7-a3e4-a5b0878efcb7",
   "metadata": {},
   "outputs": [
    {
     "name": "stdout",
     "output_type": "stream",
     "text": [
      "24\n",
      "0\n"
     ]
    }
   ],
   "source": [
    "bxl_selected_year = [f for f in files if f.startswith('Bxl_') and str(selected_year) in f]\n",
    "print(len(bxl_selected_year))\n",
    "\n",
    "lkn_selected_year = [f for f in files if f.startswith('Lkn_') and str(selected_year) in f]\n",
    "print(len(lkn_selected_year))"
   ]
  },
  {
   "cell_type": "markdown",
   "id": "82477b97-b244-4da2-bd6c-1a70fd7e6ecd",
   "metadata": {},
   "source": [
    "#### Vérification du nombre de fichiers"
   ]
  },
  {
   "cell_type": "code",
   "execution_count": 5,
   "id": "cf92ac9f-b684-45de-be90-51d8c0543a17",
   "metadata": {},
   "outputs": [
    {
     "name": "stdout",
     "output_type": "stream",
     "text": [
      "24\n"
     ]
    }
   ],
   "source": [
    "count_years = defaultdict(int)\n",
    "\n",
    "for f in files: \n",
    "    if \"_\" in f and f.endswith(\"txt\"): \n",
    "        elems = f.split(\"_\") \n",
    "        year = elems[1] \n",
    "        count_years[year] += 1 \n",
    "        \n",
    "n_selected_year = count_years[str(selected_year)]\n",
    "print(n_selected_year)"
   ]
  },
  {
   "cell_type": "markdown",
   "id": "957180a5-9f50-4950-9d19-6e2b3f01648f",
   "metadata": {
    "tags": []
   },
   "source": [
    "### Récupérer le texte des fichiers"
   ]
  },
  {
   "cell_type": "markdown",
   "id": "f21ed6de-b02e-4ece-b5c6-cb121133e73c",
   "metadata": {},
   "source": [
    "#### Créer le dossier adéquat"
   ]
  },
  {
   "cell_type": "code",
   "execution_count": 6,
   "id": "f558f63e-8193-4732-894d-e3472cb3845a",
   "metadata": {},
   "outputs": [],
   "source": [
    "path_year = os.path.join('../data/', str(selected_year))\n",
    "if not os.path.exists(path_year):\n",
    "    os.mkdir(path_year)"
   ]
  },
  {
   "cell_type": "markdown",
   "id": "be0fa113-73e7-4f01-a2f6-1584ba474f00",
   "metadata": {},
   "source": [
    "#### Copier les fichiers désirés dans le dossier"
   ]
  },
  {
   "cell_type": "code",
   "execution_count": 7,
   "id": "862e034c-7406-4bd5-8c81-de97b114d783",
   "metadata": {},
   "outputs": [],
   "source": [
    "for txt in bxl_selected_year:\n",
    "    text = textract.process(os.path.join(txt_path, txt))\n",
    "    with open(os.path.join(path_year, txt), 'wb') as f: \n",
    "        f.write(text) "
   ]
  },
  {
   "cell_type": "markdown",
   "id": "8e160a76-9b8f-4595-a14c-d62a3d01c303",
   "metadata": {},
   "source": [
    "#### Concaténer le texte des fichiers"
   ]
  },
  {
   "cell_type": "code",
   "execution_count": 8,
   "id": "28f10492-ad19-43d6-ae80-65368e4e89b6",
   "metadata": {},
   "outputs": [],
   "source": [
    "!cat ../data/{selected_year}/*.txt > ../data/{selected_year}.txt"
   ]
  },
  {
   "cell_type": "markdown",
   "id": "7e0057c0-946d-462d-b8e2-022acd5a163c",
   "metadata": {},
   "source": [
    "#### Compter le nombre de mots repris dans le fichier"
   ]
  },
  {
   "cell_type": "code",
   "execution_count": 9,
   "id": "33b8ee36-9df4-4085-ab6e-c20ed6a095bf",
   "metadata": {},
   "outputs": [
    {
     "name": "stdout",
     "output_type": "stream",
     "text": [
      "3642058 ../data/1939.txt\n"
     ]
    }
   ],
   "source": [
    "!wc -m ../data/{selected_year}.txt"
   ]
  },
  {
   "cell_type": "markdown",
   "id": "1cb7e660-57c4-4151-a24f-5731005b827f",
   "metadata": {},
   "source": [
    "#### Vérification du nombre de mots"
   ]
  },
  {
   "cell_type": "code",
   "execution_count": 10,
   "id": "1eadc149-d82b-423d-b249-aaba05b0a086",
   "metadata": {},
   "outputs": [
    {
     "name": "stdout",
     "output_type": "stream",
     "text": [
      "3642058\n"
     ]
    }
   ],
   "source": [
    "text_selected = open(os.path.join(f'../data/{selected_year}.txt'), 'r').read()\n",
    "print(len(text_selected))"
   ]
  },
  {
   "cell_type": "markdown",
   "id": "51f3e3f4-a691-4a74-85cc-1786fa25a758",
   "metadata": {},
   "source": [
    "#### Affichage des premiers caractères"
   ]
  },
  {
   "cell_type": "code",
   "execution_count": 11,
   "id": "8beefb64-2828-420b-9a93-424a33ec1561",
   "metadata": {},
   "outputs": [
    {
     "data": {
      "text/plain": [
       "\"\\x0c—\\nNo 5.\\n\\n859 —\\n\\nC O M P T E R E N D U D E L A S E A N C E D U 23 O C T O B R E 1939.\\n\\nVILLE DE BRUXELLES\\n\\nBULLETIN COMMUNAL\\nAnnée 1939\\nCONSEIL\\nSéance\\n\\nCOMMUNAL\\n\\ndu 23 octobre\\n\\n1939.\\n\\nP r é s i d e n c e de M . A D O L P H E M A X , Bourgmestre.\\n\\nSOMMAIRE :\\nPAGES.\\n\\n1.\\n\\nCommunications\\n\\n2.\\n\\nProjet d'unification des règlements généraux de police dans les diverses communes de l'agglomération\\nbruxelloise\\nAdoption. 861\\n\\n3.\\n\\nEglise anglicane du Christ, à Ixelles. — Compte de\\n1938\\nAvis favorable.\\nEglise\""
      ]
     },
     "execution_count": 11,
     "metadata": {},
     "output_type": "execute_result"
    }
   ],
   "source": [
    "text_selected[:500]"
   ]
  },
  {
   "cell_type": "markdown",
   "id": "d0ee885c-17df-440e-a40f-5a404942afe2",
   "metadata": {
    "tags": []
   },
   "source": [
    "### Extraction des mots clés"
   ]
  },
  {
   "cell_type": "markdown",
   "id": "47af4c26-26cd-4d7f-b308-5b2a8297e75f",
   "metadata": {
    "tags": []
   },
   "source": [
    "#### Extraire les mots clés pour l'année entière"
   ]
  },
  {
   "cell_type": "code",
   "execution_count": 12,
   "id": "afb7a12a-018c-4dd7-ad42-90bd88fd2ca5",
   "metadata": {
    "tags": []
   },
   "outputs": [
    {
     "name": "stdout",
     "output_type": "stream",
     "text": [
      "['avis favorable', 'budget extraordinaire', 'caisse publique', \"commission d'assistance\", 'crédit supplémentaire', \"d'assistance publique\", \"d'autre part\", \"d'un crédit\", 'het collège', \"l'administration communale\", \"l'echevin coelst\", \"l'echevin van\", 'rue van', 'séance publique', 'van den', 'van halteren', 'van het', 'van remoortel', 'voie publique', 'voies publiques', \"vote d'un\"]\n"
     ]
    }
   ],
   "source": [
    "kw_extractor = yake.KeywordExtractor(lan=\"fr\", top=100)\n",
    "text_all = open(os.path.join(f'../data/{selected_year}.txt'), 'r').read()\n",
    "keywords = kw_extractor.extract_keywords(text_all.lower())\n",
    "\n",
    "ignored = [\"conseil communal\", \"conseil général\", \"conseiller communal\", \"rue rue\", \"avenue rue\", \"maison rue\"]\n",
    "\n",
    "kw_results = []\n",
    "unigr = []\n",
    "for kw, score in keywords:\n",
    "    words = kw.split()\n",
    "    if len(words) == 2 and kw.lower() not in ignored:\n",
    "        kw_results.append(kw.lower())\n",
    "    if len(words) == 1 and kw.lower() not in ignored:\n",
    "        unigr.append(kw.lower())\n",
    "\n",
    "print(sorted(set(kw_results)))"
   ]
  },
  {
   "cell_type": "markdown",
   "id": "61108e46-760a-4048-8746-15bf31f684f9",
   "metadata": {},
   "source": [
    "#### Ajout de mots à ignorer dans l'analyse des fichiers un à un"
   ]
  },
  {
   "cell_type": "code",
   "execution_count": 13,
   "id": "9655f75b-aa14-4471-92d6-43c80d410ea3",
   "metadata": {},
   "outputs": [],
   "source": [
    "ignored += kw_results"
   ]
  },
  {
   "cell_type": "markdown",
   "id": "20b4892c-d172-4d22-9b85-dcc5f52b4736",
   "metadata": {},
   "source": [
    "#### Analyse séquentielle des fichiers de l'année"
   ]
  },
  {
   "cell_type": "code",
   "execution_count": 14,
   "id": "3c50445c-1679-41c2-9ff0-765b4cb76a30",
   "metadata": {},
   "outputs": [
    {
     "name": "stdout",
     "output_type": "stream",
     "text": [
      "['avenue avenue', 'chiffre électoral', \"conseil d'administration\", 'cours cours', 'credits depenses', 'crédits supplémentaires', 'depenses faites', \"frais d'entretien\", 'frais généraux', 'francs francs', 'het verboden', 'hoogte van', \"l'année scolaire\", \"l'hygiène publique\", \"l'hôpital brugmann\", 'loi communale', \"nombre d'élèves\", 'nomination définitive', 'nomination provisoire', 'pensions communales', 'personnel adoption', 'personnel subalterne', 'section section', 'service administratif', 'service intérieur', 'service médical', 'société royale', \"travaux d'entretien\", 'voor het', 'votes nominatifs', 'écoles libres']\n"
     ]
    }
   ],
   "source": [
    "kw_extractor = yake.KeywordExtractor(lan=\"fr\", top=20)\n",
    "\n",
    "kw_details = []\n",
    "\n",
    "for f in bxl_selected_year:\n",
    "    text = open(os.path.join(path_year, f), 'r').read()\n",
    "    keywords = kw_extractor.extract_keywords(text.lower())\n",
    "    for kw, score in keywords:\n",
    "        words = kw.split()\n",
    "        if len(words) == 2 and kw.lower() not in ignored:\n",
    "            kw_details.append(kw)\n",
    "        if len(words) == 1 and kw.lower() not in ignored:\n",
    "            unigr.append(kw)\n",
    "            \n",
    "print(sorted(set(kw_details)))"
   ]
  },
  {
   "cell_type": "code",
   "execution_count": 15,
   "id": "83341a5f-46b5-427c-9c2f-5059cb274d78",
   "metadata": {},
   "outputs": [
    {
     "name": "stdout",
     "output_type": "stream",
     "text": [
      "['année année', \"année d'études\", 'assche bruxelles', 'avenue avenue', \"chiffre d'éligibilité\", 'chiffre électoral', 'commerces multiples', \"conseil d'administration\", 'conseiller prestation', 'cours cours', 'credits depenses', 'crédits supplémentaires', \"d'une pension\", \"d'école primaire\", 'den openbaren', 'depenses faites', 'divisions territoriales', 'door het', \"frais d'entretien\", 'frais généraux', 'francs francs', 'groupes transformateurs', 'het verboden', 'hoogte van', 'hôpital saint-pierre', \"l'année scolaire\", \"l'echevin catteau\", \"l'echevin verheven\", \"l'hygiène publique\", \"l'hôpital brugmann\", 'loi communale', 'musée communal', 'naar den', 'naissances vivantes', \"nombre d'élèves\", 'nombre total', 'nomination définitive', 'nomination provisoire', 'pensions communales', 'personnel administratif', 'personnel adoption', 'personnel médical', 'personnel subalterne', 'population présente', 'présent règlement', 'quotient électoral', 'rue neuve', 'section section', 'service administratif', 'service communal', 'service intérieur', 'service médical', 'société royale', 'totaux liste', 'transports funèbres', \"travaux d'entretien\", 'van een', 'voor het', 'votes nominatifs', 'écoles libres', 'écoles primaires']\n"
     ]
    }
   ],
   "source": [
    "kw_extractor = yake.KeywordExtractor(lan=\"fr\", top=30)\n",
    "\n",
    "kw_details = []\n",
    "\n",
    "for f in bxl_selected_year:\n",
    "    text = open(os.path.join(path_year, f), 'r').read()\n",
    "    keywords = kw_extractor.extract_keywords(text.lower())\n",
    "    for kw, score in keywords:\n",
    "        words = kw.split()\n",
    "        if len(words) == 2 and kw.lower() not in ignored:\n",
    "            kw_details.append(kw)\n",
    "        if len(words) == 1 and kw.lower() not in ignored:\n",
    "            unigr.append(kw)\n",
    "            \n",
    "print(sorted(set(kw_details)))"
   ]
  },
  {
   "cell_type": "code",
   "execution_count": 16,
   "id": "afa38d03-9721-4906-82c1-672a66f0c178",
   "metadata": {},
   "outputs": [
    {
     "name": "stdout",
     "output_type": "stream",
     "text": [
      "['action', 'adoption', 'adoptés', 'affaire', 'agents', 'analyses', 'année', 'art', 'articles', 'ateliers', 'autorisation', 'avenue', 'avis', 'belge', 'belges', 'boulevard', 'bourgmestre', 'bourgmestre.', 'brugmann', 'brunfaut', 'bruxelles', 'budget', \"c'est\", 'cabinet', 'caisse', 'carnaval', 'cas', 'chiffre', 'coelst', 'collège', 'commerces', 'commission', 'communal', 'communale', 'communales', 'compte', 'compteurs', 'conseil', 'conseiller', 'construction', 'contrôle', 'cours', 'crédit', 'crédits', \"d'assistance\", \"d'entretien\", \"d'un\", \"d'une\", \"d'école\", 'dat', 'demande', 'den', 'depenses', 'der', 'die', 'direction', 'district', 'division', 'divisions', 'don', 'décembre', 'décès', 'défendu', 'définitive', 'démission', 'dépenses', 'ecole', 'ecoles', 'enfants', 'entretien', 'envoi', 'faire', 'favorable', 'fonds', 'frais', 'francs', 'février', 'gaz', 'groupe', 'habitants', 'het', 'heures', 'hôpital', 'infirmières', 'installation', 'interdit', 'janvier', 'juillet', \"l'année\", \"l'article\", \"l'echevin\", \"l'ecole\", \"l'etat\", \"l'hygiène\", \"l'hôpital\", 'liste', 'listes', 'loi', 'mais', 'maladies', 'mars', 'membres', 'mesdames', 'messieurs', 'mesures', 'mise', 'mortalité', 'moteurs', 'médical', \"n'est\", 'naar', 'naissances', 'nombre', 'nominatifs', 'nomination', 'observations', 'octobre', 'pages', 'part', 'pays', 'pension', 'pensions', 'personnel', 'place', 'police', 'population', 'prestation', 'prix', 'procédé', 'produits', 'professeur', 'professeurs', 'proposition', 'publique', \"qu'il\", 'qualité', 'quartier', 'question', 'recettes', 'royale', 'rue', 'rues', 'règlement', 'répond', 'saint-pierre', 'salaires', 'scolaire', 'section', 'septembre', 'serment', 'service', 'services', 'situation', 'sièges', 'société', 'sommes', 'surveillance', 'tarif', 'taux', 'taxe', 'total', 'totaux', 'traitement', 'traitements', 'transports', 'travaux', 'tusschen', 'van', 'ville', 'voie', 'voir', 'vote', 'votes', 'vue', 'vœu', 'écoles', 'électoral', 'élèves', 'étrangers']\n"
     ]
    }
   ],
   "source": [
    "print(sorted(set(unigr)))"
   ]
  },
  {
   "cell_type": "markdown",
   "id": "7e01d138-a2d2-4851-a98a-46df992aba61",
   "metadata": {
    "tags": []
   },
   "source": [
    "### Nettoyage des fichiers pour une analyse supplémentaire"
   ]
  },
  {
   "cell_type": "markdown",
   "id": "25fd9e92-6e2d-4c3e-a3ee-99358742bafb",
   "metadata": {},
   "source": [
    "#### Création de la 'stopwrods' enrichie"
   ]
  },
  {
   "cell_type": "code",
   "execution_count": 17,
   "id": "ed65d8cc-4341-4be4-b676-48db40844f06",
   "metadata": {},
   "outputs": [],
   "source": [
    "sw = stopwords.words(\"french\")\n",
    "sw += [\"les\", \"plus\", \"cette\", \"fait\", \"faire\", \"être\", \"deux\", \"comme\", \"dont\", \"tout\", \n",
    "       \"ils\", \"bien\", \"sans\", \"peut\", \"tous\", \"après\", \"ainsi\", \"donc\", \"cet\", \"sous\",\n",
    "       \"celle\", \"entre\", \"encore\", \"toutes\", \"pendant\", \"moins\", \"dire\", \"cela\", \"non\",\n",
    "       \"faut\", \"trois\", \"aussi\", \"dit\", \"avoir\", \"doit\", \"contre\", \"depuis\", \"autres\",\n",
    "       \"van\", \"het\", \"autre\", \"jusqu\"]\n",
    "sw += ignored\n",
    "sw += unigr"
   ]
  },
  {
   "cell_type": "markdown",
   "id": "a94a0c17-b610-4f80-bb5b-4f16513aadcc",
   "metadata": {
    "tags": []
   },
   "source": [
    "#### Fonction de nettoyage du fichier de l'année considérée"
   ]
  },
  {
   "cell_type": "code",
   "execution_count": 18,
   "id": "5bbd07ad-bb2e-4fa7-b478-670134c88fa2",
   "metadata": {},
   "outputs": [],
   "source": [
    "def clean_text(selected_year):\n",
    "    input_path = f\"../data/{selected_year}.txt\"\n",
    "    output_path = f\"../data/{selected_year}_clean.txt\"\n",
    "    output = open(output_path, \"w\", encoding='utf-8')\n",
    "    with open(input_path, encoding='utf-8') as f:\n",
    "        text = f.read()\n",
    "        words = nltk.wordpunct_tokenize(text)\n",
    "        kept = [w.lower() for w in words if len(w) > 2 and w.isalpha() and w.lower() not in sw]\n",
    "        kept_string = \" \".join(kept)\n",
    "        output.write(kept_string)\n",
    "    return f'Output has been written in {output_path}!'"
   ]
  },
  {
   "cell_type": "code",
   "execution_count": 19,
   "id": "e850e229-a443-4fe5-961a-f458b1415688",
   "metadata": {},
   "outputs": [
    {
     "data": {
      "text/plain": [
       "'Output has been written in ../data/1939_clean.txt!'"
      ]
     },
     "execution_count": 19,
     "metadata": {},
     "output_type": "execute_result"
    }
   ],
   "source": [
    "clean_text(selected_year)"
   ]
  },
  {
   "cell_type": "markdown",
   "id": "556cda81-28af-4ff4-9831-245ed4ff951a",
   "metadata": {},
   "source": [
    "#### Récupérer les mots les plus fréquents"
   ]
  },
  {
   "cell_type": "code",
   "execution_count": 20,
   "id": "33b084a7-b22a-4410-bd82-93750f4c23c4",
   "metadata": {},
   "outputs": [
    {
     "name": "stdout",
     "output_type": "stream",
     "text": [
      "['allocation prévue article', 'appel nominal adoptées', 'appel nominal prennent', 'article figurant tableau', 'brunet derudder jardin', 'carton wiart piron', 'catteau swolfs verhaeghe', 'conclusions rapports mises', 'demuyter xavier carton', 'derudder jardin gérard', 'déduction faite somme', 'echevin nom rapports', 'echevin verheven nom', 'exercice extraordinaire supplémentaires', 'exercice ordinaire supplémentaires', 'faite somme versée', 'gérard relecom dispy', 'honneur proposer émettre', 'institutrice école primaire', 'jardin gérard relecom', 'lieu décider supplémentaire', 'marteaux vermeire moyson', 'meulebroeck catteau swolfs', 'mises voix appel', 'molenbeek saint jean', 'moyson thielemans remoortel', 'naeyer verheven waucquez', 'observation honneur proposer', 'produit vente terrains', 'propose supplémentaire couvert', 'proposer émettre approbation', 'proposer émettre assistance', 'proposer émettre eglise', 'prévue article figurant', 'rapports mises voix', 'saint gilles saint', 'saint jean saint', 'saint josse ten', 'speeckaert myttenaere deboeck', 'stuckens gelders brunet', 'supplémentaire allocation prévue', 'supplémentaire couvert moyen', 'swolfs verhaeghe naeyer', 'thielemans remoortel lalemand', 'universitaire saint pierre', 'verhaeghe naeyer verheven', 'vermeire moyson thielemans', 'voix appel nominal', 'wiart piron halteren', 'xavier carton wiart']\n"
     ]
    }
   ],
   "source": [
    "kw_extractor = yake.KeywordExtractor(lan=\"fr\", top=50)\n",
    "text_cleaned = open(os.path.join(f'../data/{selected_year}_clean.txt'), 'r').read()\n",
    "keywords = kw_extractor.extract_keywords(text_cleaned.lower())\n",
    "\n",
    "kw_results = []\n",
    "\n",
    "for kw, score in keywords:\n",
    "    words = kw.split()\n",
    "    if len(words) == 3 and kw.lower() not in ignored:\n",
    "        kw_results.append(kw.lower())\n",
    "\n",
    "print(sorted(set(kw_results)))"
   ]
  },
  {
   "cell_type": "markdown",
   "id": "1375d21c-12a2-4da8-86d3-9b4b1251a65b",
   "metadata": {},
   "source": [
    "#### Agrandissement de la liste ignorée"
   ]
  },
  {
   "cell_type": "code",
   "execution_count": 21,
   "id": "351ad5f2-b11f-4759-93c6-6b90253ee353",
   "metadata": {},
   "outputs": [],
   "source": [
    "ignored += kw_results"
   ]
  },
  {
   "cell_type": "markdown",
   "id": "b83707cc-5144-4bf2-9efd-f24cd163cbdd",
   "metadata": {},
   "source": [
    "#### Création d'un répertoire pour les fichiers nettoyés"
   ]
  },
  {
   "cell_type": "code",
   "execution_count": 22,
   "id": "c0cefd2c-a924-4736-b409-fcccd1c2a140",
   "metadata": {},
   "outputs": [],
   "source": [
    "path_cleaned = os.path.join('../data/cleaned/')\n",
    "if not os.path.exists(path_cleaned):\n",
    "    os.mkdir(path_cleaned)"
   ]
  },
  {
   "cell_type": "markdown",
   "id": "71a7ba5b-7d58-4508-9077-c2cf2318002e",
   "metadata": {},
   "source": [
    "#### Fonction de nettoyage pour les fichiers de l'année considérée"
   ]
  },
  {
   "cell_type": "code",
   "execution_count": 23,
   "id": "68b36d5e-669f-45ca-8bab-878b0e191730",
   "metadata": {},
   "outputs": [],
   "source": [
    "def clean_files(selected_year):\n",
    "    for f in bxl_selected_year:\n",
    "        input_path = f\"../data/{selected_year}/{f}\"\n",
    "        output_path = f\"../data/cleaned/{f}\"\n",
    "        output = open(output_path, \"w\", encoding='utf-8')\n",
    "        with open(input_path, encoding='utf-8') as f:\n",
    "            text = f.read()\n",
    "            words = nltk.wordpunct_tokenize(text)\n",
    "            kept = [w.lower() for w in words if len(w) > 2 and w.isalpha() and w.lower() not in sw]\n",
    "            kept_string = \" \".join(kept)\n",
    "            output.write(kept_string)\n",
    "    return f'Final output has been written in {output_path}!'"
   ]
  },
  {
   "cell_type": "code",
   "execution_count": 24,
   "id": "b61ba07d-6933-42ea-9adb-afe4cc14a66a",
   "metadata": {},
   "outputs": [
    {
     "data": {
      "text/plain": [
       "'Final output has been written in ../data/cleaned/Bxl_1939_Tome_I_Part_9.txt!'"
      ]
     },
     "execution_count": 24,
     "metadata": {},
     "output_type": "execute_result"
    }
   ],
   "source": [
    "clean_files(selected_year)"
   ]
  },
  {
   "cell_type": "markdown",
   "id": "31420eb1-2112-4af6-8d8f-67e1c0b56b30",
   "metadata": {},
   "source": [
    "#### Test de la méthode appliquée aux fichiers pris un à un"
   ]
  },
  {
   "cell_type": "code",
   "execution_count": 25,
   "id": "5b2b08ad-0352-4a03-87d7-31d26bb97125",
   "metadata": {},
   "outputs": [
    {
     "name": "stdout",
     "output_type": "stream",
     "text": [
      "['académie beaux arts', 'alloués demandés arrêtés', 'article adopté chapitre', 'assemblée générale fixe', 'autorisations délivrées nature', 'avertissement extrait rôle', 'aveugles refuge ursulines', 'base journée présence', 'blanchissage nettoyage chauffage', 'cambre saint philippe', 'charles buis primaires', 'civil période renouvelable', 'concession temporaire catégorie', 'coopérative intercommunale crémation', 'coopérative maison peuple', 'cooremans losange mattys', 'credits faites alloués', 'crèmes glacées glaces', 'côté numéros pairs', 'disponibilité motif santé', 'délivrées nature etablissements', 'een vergunning burgemeester', 'eglise dame finistère', 'eleves habitant faubourgs', 'faite concession temporaire', 'faites alloués demandés', 'fêtes port masque', 'gertrude hospice aveugles', 'gilles saint josse', 'groupes transformateurs transformateur', 'habitant faubourgs province', 'hectares ares centiares', 'honorable echevin finances', 'hospice aveugles refuge', 'illégitimes masculins féminins', 'inscrits présente fin', 'institut bordet clinique', 'instituteur école primaire', 'jean saint gilles', 'jonction nord midi', 'jonghe robin stuckens', 'journée présence base', 'kant even nummers', 'kant oneven nummers', 'langs kant even', 'lettres droit sciences', 'losange mattys heyninx', 'ministres schrijver man', 'mobilier blanchissage nettoyage', 'niet openbaren weg', 'openbaren weg openbare', 'paiement dommages intérêts', 'parcs jardins publics', 'pouponnière ans pouponnière', 'pouponnière pouponnière pouponnière', 'protection attaques aériennes', 'présence base journée', 'présente fin directrice', 'période renouvelable partir', 'relecom dispy bosson', 'remboursement malades indigents', 'renouvelable partir novembre', 'reporter libellé report', 'reprise déduction faite', 'rougeole scarlatine coqueluche', 'répondent oui répondent', 'résultat scrutin bulletins', 'rétablissement fêtes port', 'saint josse saint', 'saint pierre bâtiment', 'saint pierre universitaire', 'scarlatine coqueluche diphtérie', 'somme versée concession', 'squares jardins publics', 'squares parcs jardins', 'titre provisoire fonctions', 'transformateur groupes transformateurs', 'transformateurs transformateur station', 'tôt september tôt', 'verboden openbaren weg', 'versée concession temporaire', 'zullen rijtuigen zich']\n"
     ]
    }
   ],
   "source": [
    "kw_extractor = yake.KeywordExtractor(lan=\"fr\", top=5)\n",
    "\n",
    "kw_details = []\n",
    "\n",
    "for f in bxl_selected_year:\n",
    "    text = open(os.path.join(path_cleaned, f), 'r').read()\n",
    "    keywords = kw_extractor.extract_keywords(text.lower())\n",
    "    for kw, score in keywords:\n",
    "        words = kw.split()\n",
    "        if len(words) == 3 and kw.lower() not in ignored:\n",
    "            kw_details.append(kw)\n",
    "            \n",
    "print(sorted(set(kw_details)))"
   ]
  },
  {
   "cell_type": "markdown",
   "id": "9c77b3e8-1715-4981-87cb-631509251580",
   "metadata": {},
   "source": [
    "#### Tokenisation"
   ]
  },
  {
   "cell_type": "code",
   "execution_count": null,
   "id": "2c8a206b-f90b-4e80-8c06-5f90246a1277",
   "metadata": {},
   "outputs": [],
   "source": [
    "words = nltk.wordpunct_tokenize(text_selected)\n",
    "print(f\"{len(words)} words found\")\n",
    "\n",
    "print(words[:200])"
   ]
  },
  {
   "cell_type": "markdown",
   "id": "587976ec-65ce-4c3b-8907-e55993635697",
   "metadata": {},
   "source": [
    "#### Calculer la taille du vocabulaire"
   ]
  },
  {
   "cell_type": "code",
   "execution_count": null,
   "id": "71cfd268-c19d-484b-aa1f-18e396d51965",
   "metadata": {},
   "outputs": [],
   "source": [
    "words_cleaned = []\n",
    "\n",
    "for w in words:\n",
    "    if len(w) > 2 and w.isalpha() and w.lower() not in sw:\n",
    "        words_cleaned.append(w.lower())\n",
    "        \n",
    "voc = set(words_cleaned)\n",
    "\n",
    "print(f\"{len(words_cleaned)} words kept ({len(voc)} different word forms)\")\n",
    "print(words_cleaned[:200])"
   ]
  },
  {
   "cell_type": "markdown",
   "id": "c2c02a31-4c8c-4c6b-8177-84d88341f279",
   "metadata": {},
   "source": [
    "OU"
   ]
  },
  {
   "cell_type": "code",
   "execution_count": null,
   "id": "6160d670-85fd-4854-b8bd-31bdd8e7b1fc",
   "metadata": {},
   "outputs": [],
   "source": [
    "words_cleaned = [w.lower() for w in words if len(w) > 2 and w.isalpha() and w.lower() not in sw]\n",
    "voc = set(words_cleaned)\n",
    "print(f\"{len(words_cleaned)} words kept ({len(voc)} different word forms)\")"
   ]
  },
  {
   "cell_type": "code",
   "execution_count": null,
   "id": "f6e306dd-8704-44dd-ba63-2b449e7f4394",
   "metadata": {},
   "outputs": [],
   "source": [
    "fdist = nltk.FreqDist(words_cleaned)\n",
    "fdist.most_common(10)"
   ]
  },
  {
   "cell_type": "markdown",
   "id": "15771a4d-e574-416c-a1d8-c8380b05bab1",
   "metadata": {},
   "source": [
    "#### Ajout d'une liste de mots à ignorer"
   ]
  },
  {
   "cell_type": "code",
   "execution_count": null,
   "id": "024026ee-38b0-4b88-85d0-81c0cac43b94",
   "metadata": {},
   "outputs": [],
   "source": [
    "sw += [\"francs\", \"ville\", \"bruxelles\", \"conseil\", \"service\", \"conseil\"] \n",
    "\n",
    "print(sorted(sw))"
   ]
  },
  {
   "cell_type": "code",
   "execution_count": null,
   "id": "8ea8cf5b-9d83-407b-955a-1e26ab28b280",
   "metadata": {},
   "outputs": [],
   "source": [
    "sample_1 = [w.lower() for w in words if len(w) > 2 and w.isalpha() and w.lower() not in sw]\n",
    "voc = set(sample_1)\n",
    "print(f\"{len(sample_1)} words kept ({len(voc)} different word forms)\")"
   ]
  },
  {
   "cell_type": "code",
   "execution_count": null,
   "id": "084723ff-0cb7-4434-a803-675d0053fed1",
   "metadata": {},
   "outputs": [],
   "source": [
    "fdist = nltk.FreqDist(sample_1)\n",
    "fdist.most_common(10)"
   ]
  },
  {
   "cell_type": "code",
   "execution_count": null,
   "id": "7ae93b83-8a34-4606-a35a-dec5bede89d9",
   "metadata": {},
   "outputs": [],
   "source": [
    "sw += [\"collège\", \"communal\", \"bourgmestre\"] \n",
    "\n",
    "print(sorted(sw))"
   ]
  },
  {
   "cell_type": "code",
   "execution_count": null,
   "id": "1b702713-2e80-44af-a227-33d7dea2838d",
   "metadata": {},
   "outputs": [],
   "source": [
    "sample_2 = [w.lower() for w in words if len(w) > 2 and w.isalpha() and w.lower() not in sw]\n",
    "voc = set(sample_2)\n",
    "print(f\"{len(sample_2)} words kept ({len(voc)} different word forms)\")"
   ]
  },
  {
   "cell_type": "code",
   "execution_count": null,
   "id": "6b000e2d-47b5-4191-9c21-269fb5dd12f5",
   "metadata": {},
   "outputs": [],
   "source": [
    "fdist = nltk.FreqDist(sample_2)\n",
    "fdist.most_common(20)"
   ]
  },
  {
   "cell_type": "code",
   "execution_count": null,
   "id": "f92e733b-662f-43b5-9065-f426efeda730",
   "metadata": {},
   "outputs": [],
   "source": [
    "sw += [\"total\", \"echevin\", \"membres\", \"divers\", \"année\", \"article\", \"question\", \"diverses\", \"messieurs\", \"art\"] \n",
    "\n",
    "print(sorted(sw))"
   ]
  },
  {
   "cell_type": "markdown",
   "id": "f27520ef-47af-4732-bfaa-0f8b83a2f7ce",
   "metadata": {},
   "source": [
    "### Enrichissement de la liste des stopwords"
   ]
  },
  {
   "cell_type": "markdown",
   "id": "e83a7eb1-321c-4003-a9f2-e531554cb107",
   "metadata": {},
   "source": [
    "## 2. Named Entity Recognition"
   ]
  },
  {
   "cell_type": "code",
   "execution_count": null,
   "id": "75bf86a0-b617-4823-a1df-73c5c04754fe",
   "metadata": {},
   "outputs": [],
   "source": []
  }
 ],
 "metadata": {
  "kernelspec": {
   "display_name": "Python 3 (ipykernel)",
   "language": "python",
   "name": "python3"
  },
  "language_info": {
   "codemirror_mode": {
    "name": "ipython",
    "version": 3
   },
   "file_extension": ".py",
   "mimetype": "text/x-python",
   "name": "python",
   "nbconvert_exporter": "python",
   "pygments_lexer": "ipython3",
   "version": "3.9.7"
  }
 },
 "nbformat": 4,
 "nbformat_minor": 5
}
