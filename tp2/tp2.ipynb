{
 "cells": [
  {
   "cell_type": "markdown",
   "id": "61793493-3d93-4e4c-b254-96baec655d4b",
   "metadata": {},
   "source": [
    "# TP2 : Extraction d'informations"
   ]
  },
  {
   "cell_type": "markdown",
   "id": "97afba42-e1c4-482d-b6f5-bfaab8520ee2",
   "metadata": {},
   "source": [
    "Sur la base des éléments méthodologiques et des enseignements techniques présentés lors du cours théorique, il est demandé dans le cadre de ce TP :\n",
    "- de se familiariser avec les techniques d’enrichissement (extraction de mots-clés, reconnaissance d’entités nommées, analyse de sentiment...)\n",
    "- d’appliquer celles-ci au corpus de bulletins de la ville de Bruxelles préalablement convertis au format .txt\n",
    "\n",
    "Pour ce faire, vous utiliserez différentes librairies Python vues au cours."
   ]
  },
  {
   "cell_type": "markdown",
   "id": "ba771dfa-52a2-44f7-92e5-010ed498f318",
   "metadata": {},
   "source": [
    "## 1. Keywords"
   ]
  },
  {
   "cell_type": "markdown",
   "id": "7d4505ac-f7c4-453f-beac-672f41c58715",
   "metadata": {},
   "source": [
    "### Librairies utilisées dans le code"
   ]
  },
  {
   "cell_type": "code",
   "execution_count": 1,
   "id": "61718da2-0b36-4ee4-baa6-e84d664347a5",
   "metadata": {},
   "outputs": [],
   "source": [
    "import os\n",
    "from collections import defaultdict, Counter\n",
    "import textract\n",
    "import nltk\n",
    "from nltk.corpus import stopwords\n",
    "import yake\n",
    "from wordcloud import WordCloud\n",
    "from IPython.display import Image"
   ]
  },
  {
   "cell_type": "markdown",
   "id": "3beeca5f-03a5-4a52-be94-a9258e8916e5",
   "metadata": {},
   "source": [
    "### Sélection des fichiers à analyser"
   ]
  },
  {
   "cell_type": "markdown",
   "id": "66db830f-14c9-47eb-92fb-b7104915d62d",
   "metadata": {},
   "source": [
    "#### Stocker la liste des fichiers contenus dans le dossier 'txt'"
   ]
  },
  {
   "cell_type": "code",
   "execution_count": 2,
   "id": "5328a90b-86ee-456f-93da-8f23c09aa18e",
   "metadata": {},
   "outputs": [
    {
     "data": {
      "text/plain": [
       "2827"
      ]
     },
     "execution_count": 2,
     "metadata": {},
     "output_type": "execute_result"
    }
   ],
   "source": [
    "txt_path = \"../data/txt/\"\n",
    "files = sorted(os.listdir(txt_path)) # stocker dans 'files' la liste des fichiers contenus dans le dossier 'txt'\n",
    "len(files)"
   ]
  },
  {
   "cell_type": "markdown",
   "id": "04021383-4e4e-40fa-83f4-224828b7d051",
   "metadata": {},
   "source": [
    "#### Lister les fichiers pour Bruxelles et pour Laeken"
   ]
  },
  {
   "cell_type": "code",
   "execution_count": 3,
   "id": "0176468e-5005-4cf7-a3e4-a5b0878efcb7",
   "metadata": {},
   "outputs": [
    {
     "name": "stdout",
     "output_type": "stream",
     "text": [
      "31\n",
      "0\n"
     ]
    }
   ],
   "source": [
    "bxl_1930 = [f for f in files if f.startswith('Bxl_1930')]\n",
    "print(len(bxl_1930))\n",
    "\n",
    "lkn_1930 = [f for f in files if f.startswith('Lkn_1930')]\n",
    "print(len(lkn_1930))"
   ]
  },
  {
   "cell_type": "markdown",
   "id": "82477b97-b244-4da2-bd6c-1a70fd7e6ecd",
   "metadata": {},
   "source": [
    "#### Vérification du nombre de fichiers"
   ]
  },
  {
   "cell_type": "code",
   "execution_count": 4,
   "id": "cf92ac9f-b684-45de-be90-51d8c0543a17",
   "metadata": {},
   "outputs": [
    {
     "name": "stdout",
     "output_type": "stream",
     "text": [
      "31\n"
     ]
    }
   ],
   "source": [
    "count_years = defaultdict(int)\n",
    "\n",
    "for f in files: \n",
    "    if \"_\" in f and f.endswith(\"txt\"): \n",
    "        elems = f.split(\"_\") \n",
    "        year = elems[1] \n",
    "        count_years[year] += 1 \n",
    "        \n",
    "n_1930 = count_years['1930']\n",
    "print(n_1930)"
   ]
  },
  {
   "cell_type": "markdown",
   "id": "957180a5-9f50-4950-9d19-6e2b3f01648f",
   "metadata": {
    "tags": []
   },
   "source": [
    "### Récupérer le texte des fichiers"
   ]
  },
  {
   "cell_type": "markdown",
   "id": "f21ed6de-b02e-4ece-b5c6-cb121133e73c",
   "metadata": {},
   "source": [
    "#### Créer le dossier adéquat"
   ]
  },
  {
   "cell_type": "code",
   "execution_count": 5,
   "id": "f558f63e-8193-4732-894d-e3472cb3845a",
   "metadata": {},
   "outputs": [],
   "source": [
    "path_1930 = '../data/1930'\n",
    "if not os.path.exists(path_1930):\n",
    "    os.mkdir(path_1930)"
   ]
  },
  {
   "cell_type": "markdown",
   "id": "be0fa113-73e7-4f01-a2f6-1584ba474f00",
   "metadata": {},
   "source": [
    "#### Copier les fichiers désirés dans le dossier"
   ]
  },
  {
   "cell_type": "code",
   "execution_count": 6,
   "id": "862e034c-7406-4bd5-8c81-de97b114d783",
   "metadata": {},
   "outputs": [],
   "source": [
    "for txt in bxl_1930:\n",
    "    text = textract.process(os.path.join(txt_path, txt))\n",
    "    with open(os.path.join(path_1930, txt), 'wb') as f: \n",
    "        f.write(text) "
   ]
  },
  {
   "cell_type": "markdown",
   "id": "8e160a76-9b8f-4595-a14c-d62a3d01c303",
   "metadata": {},
   "source": [
    "#### Concaténer le texte des fichiers"
   ]
  },
  {
   "cell_type": "code",
   "execution_count": 7,
   "id": "28f10492-ad19-43d6-ae80-65368e4e89b6",
   "metadata": {},
   "outputs": [],
   "source": [
    "!cat ../data/1930/*.txt > ../data/1930.txt"
   ]
  },
  {
   "cell_type": "markdown",
   "id": "7e0057c0-946d-462d-b8e2-022acd5a163c",
   "metadata": {},
   "source": [
    "#### Compter le nombre de mots repris dans le fichier"
   ]
  },
  {
   "cell_type": "code",
   "execution_count": 8,
   "id": "33b8ee36-9df4-4085-ab6e-c20ed6a095bf",
   "metadata": {},
   "outputs": [
    {
     "name": "stdout",
     "output_type": "stream",
     "text": [
      "968678 ../data/1930.txt\n"
     ]
    }
   ],
   "source": [
    "!wc -w ../data/1930.txt"
   ]
  },
  {
   "cell_type": "code",
   "execution_count": 9,
   "id": "5bbd07ad-bb2e-4fa7-b478-670134c88fa2",
   "metadata": {},
   "outputs": [
    {
     "data": {
      "text/plain": [
       "'VILLE\\n\\nDE\\n\\nBRUXELLES\\n\\nBULLETIN COMMUNAL\\nA N N É E\\n\\n1930\\n\\nTOME\\n\\nII\\n\\nBRUXELLES\\nIMPRIMERIE\\n\\nE . G U Y O T , S. A.\\n\\n12. rue Pachéco, 12\\n1 930\\n\\n\\x0c\\x0cN\" l .\\n\\nCOMTTE RENDU DE LA SÉANCE DU 7 JUILLET IfWO.\\n\\nV I L L E\\n\\nD E\\n\\nBULLETIN\\nAnnée\\n\\nC O N S E I L\\nSéance\\n\\nB R U X E L L E S\\n\\nGO M M U N AI\\n1930.\\n\\nC O M M U N A L\\n\\ndu 7 Juillet\\n\\n1930.\\n\\nPrésidence de M . ADOLPHE M A X , Bourgmestre.\\n\\nSOMMAIRE :\\nPAGES.\\n\\n1.\\n2.\\n3.\\n\\nCommunications\\n. . .\\n5\\nDémission de M. l\\'Echevin Jacqmain\\n20\\nElection et prestation de serment d'"
      ]
     },
     "execution_count": 9,
     "metadata": {},
     "output_type": "execute_result"
    }
   ],
   "source": [
    "texts_1930 = open(os.path.join(f\"../data/\", \"1930.txt\"), 'r').read()\n",
    "texts_1930[:500]"
   ]
  },
  {
   "cell_type": "markdown",
   "id": "d0ee885c-17df-440e-a40f-5a404942afe2",
   "metadata": {},
   "source": [
    "### Extraction des mots clés"
   ]
  },
  {
   "cell_type": "markdown",
   "id": "e2a51a19-e89a-43af-8b66-65e611ff44ba",
   "metadata": {},
   "source": [
    "#### Instancier l'extracteur de mots clés"
   ]
  },
  {
   "cell_type": "code",
   "execution_count": 10,
   "id": "74d61b3d-1920-4811-8d14-ec873953a836",
   "metadata": {},
   "outputs": [
    {
     "data": {
      "text/plain": [
       "<yake.yake.KeywordExtractor at 0x7f8c3a127790>"
      ]
     },
     "execution_count": 10,
     "metadata": {},
     "output_type": "execute_result"
    }
   ],
   "source": [
    "kw_extractor = yake.KeywordExtractor(lan=\"fr\", top=50)\n",
    "kw_extractor"
   ]
  },
  {
   "cell_type": "code",
   "execution_count": 11,
   "id": "afb7a12a-018c-4dd7-ad42-90bd88fd2ca5",
   "metadata": {},
   "outputs": [
    {
     "data": {
      "text/plain": [
       "[('rue', 2.249628377502558e-05),\n",
       " (\"commission d'assistance publique\", 2.587782417837962e-05),\n",
       " ('francs', 2.855334223198418e-05),\n",
       " ('conseil communal', 3.79514469207672e-05),\n",
       " (\"vote d'un crédit\", 5.589934068841265e-05),\n",
       " ('service', 5.9490167802554696e-05),\n",
       " ('ville', 6.526590109041209e-05),\n",
       " ('francs francs francs', 7.282438793271651e-05),\n",
       " ('bruxelles', 7.602535110817505e-05),\n",
       " ('frais', 9.607753438571384e-05),\n",
       " ('avis favorable', 9.948702081089956e-05),\n",
       " (\"d'assistance publique\", 0.00010413718787898636),\n",
       " ('mesdames et messieurs', 0.0001092176767512546),\n",
       " ('recettes', 0.00011519499322407083),\n",
       " ('conseil', 0.0001213116577344998),\n",
       " (\"d'une\", 0.0001327705744370901),\n",
       " ('travaux', 0.00013898747581888842),\n",
       " ('cours', 0.0001408300904078015),\n",
       " ('publique', 0.00014338484881775332),\n",
       " ('écoles primaires', 0.00015342783245787857),\n",
       " ('collège', 0.0001543631605944976),\n",
       " ('maison rue', 0.00015581086890629174),\n",
       " ('bourgmestre', 0.00016293115515389296),\n",
       " ('communal', 0.00016753980144313058),\n",
       " (\"d'un\", 0.00017048483597085506),\n",
       " ('personnel', 0.00017289141168896872),\n",
       " ('budget', 0.00017472015919300687),\n",
       " (\"d'un service public\", 0.00017474675421487294),\n",
       " ('mais', 0.00017960854171255745),\n",
       " ('crédits supplémentaires', 0.0001831275473574684),\n",
       " ('ville de bruxelles', 0.00018369086648423928),\n",
       " ('total', 0.00018425034609518385),\n",
       " ('membres', 0.00018680666544352808),\n",
       " (\"commission d'assistance\", 0.00019334927232268417),\n",
       " ('crédit', 0.00020063373485690284),\n",
       " ('dépenses', 0.00020106428094168396),\n",
       " (\"d'un crédit\", 0.000212875633329067),\n",
       " ('services', 0.00021569435126126262),\n",
       " ('van', 0.00021729424336803044),\n",
       " ('rues', 0.0002205023676914145),\n",
       " ('écoles', 0.00022923369768282578),\n",
       " (\"c'est\", 0.00025386299943122093),\n",
       " (\"l'echevin\", 0.00025672827219042863),\n",
       " (\"l'echevin van\", 0.00026561036419763505),\n",
       " (\"frais d'entretien\", 0.0002672490891142667),\n",
       " ('faire', 0.0002881504858899296),\n",
       " ('pensions communales', 0.00029867635027871255),\n",
       " ('question', 0.0003004514330176071),\n",
       " ('titre définitif', 0.00030309888658911074),\n",
       " (\"d'un crédit supplémentaire\", 0.0003069957866154222)]"
      ]
     },
     "execution_count": 11,
     "metadata": {},
     "output_type": "execute_result"
    }
   ],
   "source": [
    "keywords = kw_extractor.extract_keywords(texts_1930.lower()) \n",
    "keywords"
   ]
  },
  {
   "cell_type": "code",
   "execution_count": 12,
   "id": "9655f75b-aa14-4471-92d6-43c80d410ea3",
   "metadata": {},
   "outputs": [
    {
     "data": {
      "text/plain": [
       "['conseil communal', 'conseil général', 'bruxelles']"
      ]
     },
     "execution_count": 12,
     "metadata": {},
     "output_type": "execute_result"
    }
   ],
   "source": [
    "ignored = [\"conseil communal\", \"conseil général\", \"bruxelles\"]\n",
    "ignored"
   ]
  },
  {
   "cell_type": "markdown",
   "id": "edc3dbfd-dc54-4ddc-b297-328400e35483",
   "metadata": {},
   "source": [
    "#### Ne garder que les bigrammes"
   ]
  },
  {
   "cell_type": "code",
   "execution_count": 13,
   "id": "716a78b9-ccc7-4d44-9ef3-0f372cab3aaf",
   "metadata": {},
   "outputs": [
    {
     "name": "stdout",
     "output_type": "stream",
     "text": [
      "['bourgmestre', 'bruxelles', 'budget', \"c'est\", 'collège', 'communal', 'conseil', 'conseil communal', 'conseil général', 'cours', 'crédit', \"d'un\", \"d'une\", 'dépenses', 'faire', 'frais', 'francs', \"l'echevin\", 'mais', 'membres', 'personnel', 'publique', 'question', 'recettes', 'rue', 'rues', 'service', 'services', 'total', 'travaux', 'van', 'ville', 'écoles']\n"
     ]
    }
   ],
   "source": [
    "sw1 = []\n",
    "for kw, score in keywords:\n",
    "    words = kw.split()\n",
    "    if len(words) == 1 and kw.lower() not in ignored:\n",
    "        sw1.append(kw)\n",
    "ignored2 = sw1 + ignored\n",
    "print(sorted(ignored2))"
   ]
  },
  {
   "cell_type": "markdown",
   "id": "5039e297-aca7-4ada-8463-72c141f462b1",
   "metadata": {},
   "source": [
    "#### Ajouter les mongrammes à la liste des stopwords"
   ]
  },
  {
   "cell_type": "markdown",
   "id": "20b4892c-d172-4d22-9b85-dcc5f52b4736",
   "metadata": {},
   "source": [
    "#### Analyse séquentielle en fonction des tomes"
   ]
  },
  {
   "cell_type": "code",
   "execution_count": 14,
   "id": "3c50445c-1679-41c2-9ff0-765b4cb76a30",
   "metadata": {},
   "outputs": [
    {
     "name": "stdout",
     "output_type": "stream",
     "text": [
      "Bxl_1930_Tome_II1_Part_1.txt mentions these keywords: crédits supplémentaires, avis favorable, d'un crédit, d'assistance publique, vote d'un, jeunes filles, crédits extraordinaires, commission d'assistance, francs francs, crédit communal...\n",
      "\n",
      "Bxl_1930_Tome_II1_Part_10.txt mentions these keywords: affaire pendante, affaire terminée, acte administratif, d'assistance publique, cour d'appel, commission d'assistance, service d'assistance, ville d'un, société anonyme...\n",
      "\n",
      "Bxl_1930_Tome_II1_Part_11.txt mentions these keywords: voir ecoles, voir art, voir affichage, affaire pendante, guerre afférents, voir enseignement, service médical, voir laboratoire, voir cours...\n",
      "\n",
      "Bxl_1930_Tome_II1_Part_2.txt mentions these keywords: pensions communales, frais d'administration, l'école professionnelle, depense dépenses, frais généraux, écoles primaires, ecole normale, personnel frais, recettes ordinaires, reçu recettes...\n",
      "\n",
      "Bxl_1930_Tome_II1_Part_3.txt mentions these keywords: idem idem, service extraordinaire, recettes extraordinaires, recettes nature, taxe communale, service ordinaire, l'echevin van, d'assistance publique...\n",
      "\n",
      "Bxl_1930_Tome_II1_Part_4.txt mentions these keywords: démission offerte, avis favorable, l'administration communale, service ordinaire, nombre total...\n",
      "\n",
      "Bxl_1930_Tome_II1_Part_5.txt mentions these keywords: laits falsifiés, nombre total, laboratoire intercommunal, nombre d'individus, service d'hygiène, nombre moyen, l'hygiène publique, d'un service, grand nombre...\n",
      "\n",
      "Bxl_1930_Tome_II1_Part_6.txt mentions these keywords: bronchite aiguë, aiguë bronchite, méningite aiguë, néphrite aiguë, aiguë néphrite, bronchite chronique, chronique bronchite, aiguë hémorragie, aiguë encéphalite, poids net, aiguë maladies, produits analysés, divisions territoriales, myocardite aiguë, septicémie tuberculose...\n",
      "\n",
      "Bxl_1930_Tome_II1_Part_7.txt mentions these keywords: jardin d'enfants, avenue louise, écoles primaires, rue blanche, caisse communale, groupes transformateurs, rue joseph, rue charles, l'année scolaire, rue paul...\n",
      "\n",
      "Bxl_1930_Tome_II1_Part_8.txt mentions these keywords: membres délégués, école moyenne, conseiller communal, parents d'élèves, rue van, rue membres, membre permanent, cours d'éducation, directrice honoraire, membre délégué, cours préparatoire, rue président, écoles moyennes, rue joseph, directeur honoraire, rue haute...\n",
      "\n",
      "Bxl_1930_Tome_II1_Part_9.txt mentions these keywords: l'année scolaire, nombre d'élèves, cours l'année, nombre bruxelles, années cours, cours professionnels, d'élèves habitant, province. totaux, population présente, cours public, population moyenne, cours cours...\n",
      "\n",
      "Bxl_1930_Tome_II2_Part_1.txt mentions these keywords: avis favorable, crédit supplémentaire, l'echevin wauwermans...\n",
      "\n",
      "Bxl_1930_Tome_II2_Part_10.txt mentions these keywords: titre définitif, mme veuve, écoles primaires, veuve veuve, comité scolaire...\n",
      "\n",
      "Bxl_1930_Tome_II2_Part_11.txt mentions these keywords: titre définitif, écoles primaires, fonctions gardienne, conseiller communal, arrêté définitif...\n",
      "\n",
      "Bxl_1930_Tome_II2_Part_2.txt mentions these keywords: l'echevin van, l'echevin jacqmain, den nest, l'echevin coelst, d'une rue, l'echevin wauwermans, van den, d'assistance publique, francs versée...\n",
      "\n",
      "Bxl_1930_Tome_II2_Part_3.txt mentions these keywords: furquim d'almeyda, écoles moyennes, écoles libres, écoles primaires, l'echevin coelst...\n",
      "\n",
      "Bxl_1930_Tome_II2_Part_4.txt mentions these keywords: centimes additionnels, service public, l'echevin van, taxe annuelle, taxe communale...\n",
      "\n",
      "Bxl_1930_Tome_II2_Part_5.txt mentions these keywords: l'echevin van, pouvoir autorisant, service public, l'echevin wauwermans...\n",
      "\n",
      "Bxl_1930_Tome_II2_Part_6.txt mentions these keywords: évaluations recettes, pensions communales, l'école professionnelle, recettes effectuées, recettes reports, frais d'administration, communales totaux, allocations dépenses, recettes modifiées, recettes ordinaires, recettes subsides, subsides subside, recettes extraordinaires...\n",
      "\n",
      "Bxl_1930_Tome_II2_Part_7.txt mentions these keywords: toitures rafraîchissement, peinture travaux, jardin d'enfants, l'ancienne commune, chauffage entretien, toitures travaux, plomberie travaux, badigeonnage travaux, entretien ordinaire, subside extraordinaire...\n",
      "\n",
      "Bxl_1930_Tome_II2_Part_8.txt mentions these keywords: recettes effectuées, recette effectuée, province produit, recettes extraordinaires, redevance annuelle, recettes subside, frais d'administration, total exercices, l'ancienne commune...\n",
      "\n",
      "Bxl_1930_Tome_II2_Part_9.txt mentions these keywords: maison rue, rue haute, rue d'accolay, ecole rue, terrain rue, terre rue, rue royale, rues haute, rue joseph...\n",
      "\n",
      "Bxl_1930_Tome_I_Part_1.txt mentions these keywords: van remoortel, avis favorable, l'echevin lemonnier, d'assistance publique, conseil d'administration, commission d'assistance, monument ferrer, d'un crédit, crédits supplémentaires, vote d'un...\n",
      "\n",
      "Bxl_1930_Tome_I_Part_2.txt mentions these keywords: d'assistance publique, avis favorable, commission d'assistance, vacances ouvrières, conseil d'administration...\n",
      "\n",
      "Bxl_1930_Tome_I_Part_3.txt mentions these keywords: crédit supplémentaire, d'un crédit, avis favorable, l'echevin wauwermans, vote d'un, l'echevin coelst, budget extraordinaire, tableau ci-dessous...\n",
      "\n",
      "Bxl_1930_Tome_I_Part_4.txt mentions these keywords: d'assistance publique, avis favorable, l'echevin lemonnier, commission d'assistance, règlement général, comité scolaire, l'echevin coelst, tramways bruxellois, crédit supplémentaire, foyer bruxellois, comités scolaires, d'un crédit, membres présents...\n",
      "\n",
      "Bxl_1930_Tome_I_Part_5.txt mentions these keywords: frais d'entretien, l'hôpital brugmann, malades étrangers, recettes dépenses, brugmann recettes, frais d'assistance, dépenses dépenses, l'hôpital saint-jean, dépenses extraordinaires, service ordinaire, subalterne frais, indigents étrangers...\n",
      "\n",
      "Bxl_1930_Tome_I_Part_6.txt mentions these keywords: frais d'entretien, service extraordinaire, travaux d'entretien, kilogramme fournitures, rue paehéco, magasin central, fonds belges, frais d'assistance...\n",
      "\n",
      "Bxl_1930_Tome_I_Part_7.txt mentions these keywords: d'assistance publique, commission d'assistance, avis favorable, francs versée, travaux d'entretien, direction total, magasin central, menus travaux, crédit supplémentaire, frais d'entretien...\n",
      "\n",
      "Bxl_1930_Tome_I_Part_8.txt mentions these keywords: titre définitif, avis favorable, écoles primaires, fonctions d'institutrice, mme veuve, crédits supplémentaires...\n",
      "\n",
      "Bxl_1930_Tome_I_Part_9.txt mentions these keywords: titre définitif, écoles primaires, fonctions d'institutrice, fonctions d'instituteur, conseiller communal, d'institutrice gardienne...\n",
      "\n"
     ]
    }
   ],
   "source": [
    "for f in sorted(bxl_1930):\n",
    "    text = open(os.path.join(path_1930, f), 'r').read()\n",
    "    keywords = kw_extractor.extract_keywords(text.lower()) # rajouter le lower \n",
    "    kept = []\n",
    "    for kw, score in keywords:\n",
    "        words = kw.split()\n",
    "        if len(words) == 2 and kw.lower() not in ignored:\n",
    "            kept.append(kw)\n",
    "    print(f\"{f} mentions these keywords: {', '.join(kept)}...\\n\")"
   ]
  },
  {
   "cell_type": "markdown",
   "id": "7e01d138-a2d2-4851-a98a-46df992aba61",
   "metadata": {},
   "source": [
    "### Nettoyer le fichier"
   ]
  },
  {
   "cell_type": "markdown",
   "id": "9c77b3e8-1715-4981-87cb-631509251580",
   "metadata": {},
   "source": [
    "#### Tokenisation"
   ]
  },
  {
   "cell_type": "code",
   "execution_count": null,
   "id": "2c8a206b-f90b-4e80-8c06-5f90246a1277",
   "metadata": {},
   "outputs": [],
   "source": [
    "words = nltk.wordpunct_tokenize(texts_1930)\n",
    "print(f\"{len(words)} words found\")\n",
    "\n",
    "print(words[:200])"
   ]
  },
  {
   "cell_type": "markdown",
   "id": "25fd9e92-6e2d-4c3e-a3ee-99358742bafb",
   "metadata": {},
   "source": [
    "#### Création de la 'stopwrods' de base enrichie"
   ]
  },
  {
   "cell_type": "code",
   "execution_count": null,
   "id": "ed65d8cc-4341-4be4-b676-48db40844f06",
   "metadata": {},
   "outputs": [],
   "source": [
    "sw = stopwords.words(\"french\")\n",
    "sw += [\"les\", \"plus\", \"cette\", \"fait\", \"faire\", \"être\", \"deux\", \"comme\", \"dont\", \"tout\", \n",
    "       \"ils\", \"bien\", \"sans\", \"peut\", \"tous\", \"après\", \"ainsi\", \"donc\", \"cet\", \"sous\",\n",
    "       \"celle\", \"entre\", \"encore\", \"toutes\", \"pendant\", \"moins\", \"dire\", \"cela\", \"non\",\n",
    "       \"faut\", \"trois\", \"aussi\", \"dit\", \"avoir\", \"doit\", \"contre\", \"depuis\", \"autres\",\n",
    "       \"van\", \"het\", \"autre\", \"jusqu\"]"
   ]
  },
  {
   "cell_type": "markdown",
   "id": "587976ec-65ce-4c3b-8907-e55993635697",
   "metadata": {},
   "source": [
    "#### Calculer la taille du vocabulaire"
   ]
  },
  {
   "cell_type": "code",
   "execution_count": null,
   "id": "71cfd268-c19d-484b-aa1f-18e396d51965",
   "metadata": {},
   "outputs": [],
   "source": [
    "kept = []\n",
    "\n",
    "for w in words:\n",
    "    if len(w) > 2 and w.isalpha() and w.lower() not in sw:\n",
    "        kept.append(w.lower())\n",
    "        \n",
    "voc = set(kept)\n",
    "\n",
    "print(f\"{len(kept)} words kept ({len(voc)} different word forms)\")\n",
    "print(kept[:200])"
   ]
  },
  {
   "cell_type": "markdown",
   "id": "c2c02a31-4c8c-4c6b-8177-84d88341f279",
   "metadata": {},
   "source": [
    "OU"
   ]
  },
  {
   "cell_type": "code",
   "execution_count": null,
   "id": "6160d670-85fd-4854-b8bd-31bdd8e7b1fc",
   "metadata": {},
   "outputs": [],
   "source": [
    "kept = [w.lower() for w in words if len(w) > 2 and w.isalpha() and w.lower() not in sw]\n",
    "voc = set(kept)\n",
    "print(f\"{len(kept)} words kept ({len(voc)} different word forms)\")"
   ]
  },
  {
   "cell_type": "markdown",
   "id": "556cda81-28af-4ff4-9831-245ed4ff951a",
   "metadata": {},
   "source": [
    "#### Récupérer les mots les plus fréquents"
   ]
  },
  {
   "cell_type": "code",
   "execution_count": null,
   "id": "f6e306dd-8704-44dd-ba63-2b449e7f4394",
   "metadata": {},
   "outputs": [],
   "source": [
    "fdist = nltk.FreqDist(kept)\n",
    "fdist.most_common(10)"
   ]
  },
  {
   "cell_type": "markdown",
   "id": "15771a4d-e574-416c-a1d8-c8380b05bab1",
   "metadata": {},
   "source": [
    "#### Ajout d'une liste de mots à ignorer"
   ]
  },
  {
   "cell_type": "code",
   "execution_count": null,
   "id": "024026ee-38b0-4b88-85d0-81c0cac43b94",
   "metadata": {},
   "outputs": [],
   "source": [
    "sw += [\"rue\", \"francs\", \"ville\", \"bruxelles\", \"conseil\"] \n",
    "\n",
    "print(sorted(sw))"
   ]
  },
  {
   "cell_type": "code",
   "execution_count": null,
   "id": "8ea8cf5b-9d83-407b-955a-1e26ab28b280",
   "metadata": {},
   "outputs": [],
   "source": [
    "kept = [w.lower() for w in words if len(w) > 2 and w.isalpha() and w.lower() not in sw]\n",
    "voc = set(kept)\n",
    "print(f\"{len(kept)} words kept ({len(voc)} different word forms)\")"
   ]
  },
  {
   "cell_type": "code",
   "execution_count": null,
   "id": "084723ff-0cb7-4434-a803-675d0053fed1",
   "metadata": {},
   "outputs": [],
   "source": [
    "fdist = nltk.FreqDist(kept)\n",
    "fdist.most_common(10)"
   ]
  },
  {
   "cell_type": "code",
   "execution_count": null,
   "id": "7ae93b83-8a34-4606-a35a-dec5bede89d9",
   "metadata": {},
   "outputs": [],
   "source": [
    "sw += [\"collège\", \"communal\", \"publique\", \"bourgmestre\"] \n",
    "\n",
    "print(sorted(sw))"
   ]
  },
  {
   "cell_type": "code",
   "execution_count": null,
   "id": "1b702713-2e80-44af-a227-33d7dea2838d",
   "metadata": {},
   "outputs": [],
   "source": [
    "kept = [w.lower() for w in words if len(w) > 2 and w.isalpha() and w.lower() not in sw]\n",
    "voc = set(kept)\n",
    "print(f\"{len(kept)} words kept ({len(voc)} different word forms)\")"
   ]
  },
  {
   "cell_type": "code",
   "execution_count": null,
   "id": "6b000e2d-47b5-4191-9c21-269fb5dd12f5",
   "metadata": {},
   "outputs": [],
   "source": [
    "fdist = nltk.FreqDist(kept)\n",
    "fdist.most_common(20)"
   ]
  },
  {
   "cell_type": "code",
   "execution_count": null,
   "id": "f92e733b-662f-43b5-9065-f426efeda730",
   "metadata": {},
   "outputs": [],
   "source": [
    "sw += [\"total\", \"echevin\", \"membres\", \"divers\", \"année\", \"administration\", \"article\", \"question\", \"diverses\", \"messieurs\", \"art\"] \n",
    "\n",
    "print(sorted(sw))"
   ]
  },
  {
   "cell_type": "markdown",
   "id": "f27520ef-47af-4732-bfaa-0f8b83a2f7ce",
   "metadata": {},
   "source": [
    "### Enrichissement de la liste des stopwords"
   ]
  },
  {
   "cell_type": "code",
   "execution_count": null,
   "id": "68b36d5e-669f-45ca-8bab-878b0e191730",
   "metadata": {},
   "outputs": [],
   "source": []
  },
  {
   "cell_type": "code",
   "execution_count": null,
   "id": "b61ba07d-6933-42ea-9adb-afe4cc14a66a",
   "metadata": {},
   "outputs": [],
   "source": []
  },
  {
   "cell_type": "code",
   "execution_count": null,
   "id": "9001855f-7616-4890-8b3b-1e374916f6a9",
   "metadata": {},
   "outputs": [],
   "source": [
    "print(keywords)"
   ]
  },
  {
   "cell_type": "markdown",
   "id": "e83a7eb1-321c-4003-a9f2-e531554cb107",
   "metadata": {},
   "source": [
    "## 2. Named Entity Recognition"
   ]
  },
  {
   "cell_type": "code",
   "execution_count": null,
   "id": "75bf86a0-b617-4823-a1df-73c5c04754fe",
   "metadata": {},
   "outputs": [],
   "source": []
  }
 ],
 "metadata": {
  "kernelspec": {
   "display_name": "Python 3 (ipykernel)",
   "language": "python",
   "name": "python3"
  },
  "language_info": {
   "codemirror_mode": {
    "name": "ipython",
    "version": 3
   },
   "file_extension": ".py",
   "mimetype": "text/x-python",
   "name": "python",
   "nbconvert_exporter": "python",
   "pygments_lexer": "ipython3",
   "version": "3.9.7"
  }
 },
 "nbformat": 4,
 "nbformat_minor": 5
}
