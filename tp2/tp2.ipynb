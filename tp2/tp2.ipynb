{
 "cells": [
  {
   "cell_type": "markdown",
   "id": "61793493-3d93-4e4c-b254-96baec655d4b",
   "metadata": {},
   "source": [
    "# TP2 : Exploration de l'annnée XXX"
   ]
  },
  {
   "cell_type": "markdown",
   "id": "ba771dfa-52a2-44f7-92e5-010ed498f318",
   "metadata": {},
   "source": [
    "## 1. Keywords"
   ]
  },
  {
   "cell_type": "code",
   "execution_count": null,
   "id": "61718da2-0b36-4ee4-baa6-e84d664347a5",
   "metadata": {},
   "outputs": [],
   "source": [
    "import os\n",
    "import yake"
   ]
  },
  {
   "cell_type": "code",
   "execution_count": null,
   "id": "74d61b3d-1920-4811-8d14-ec873953a836",
   "metadata": {},
   "outputs": [],
   "source": [
    "# Instantier l'extracteur de mots clés\n",
    "kw_extractor = yake.KeywordExtractor(lan=\"fr\", top=50)\n",
    "kw_extractor"
   ]
  },
  {
   "cell_type": "code",
   "execution_count": null,
   "id": "9001855f-7616-4890-8b3b-1e374916f6a9",
   "metadata": {},
   "outputs": [],
   "source": [
    "print(keywords)"
   ]
  },
  {
   "cell_type": "markdown",
   "id": "e83a7eb1-321c-4003-a9f2-e531554cb107",
   "metadata": {},
   "source": [
    "## 2. Named Entity Recognition"
   ]
  },
  {
   "cell_type": "code",
   "execution_count": null,
   "id": "75bf86a0-b617-4823-a1df-73c5c04754fe",
   "metadata": {},
   "outputs": [],
   "source": []
  }
 ],
 "metadata": {
  "kernelspec": {
   "display_name": "Python 3 (ipykernel)",
   "language": "python",
   "name": "python3"
  },
  "language_info": {
   "codemirror_mode": {
    "name": "ipython",
    "version": 3
   },
   "file_extension": ".py",
   "mimetype": "text/x-python",
   "name": "python",
   "nbconvert_exporter": "python",
   "pygments_lexer": "ipython3",
   "version": "3.9.7"
  }
 },
 "nbformat": 4,
 "nbformat_minor": 5
}
