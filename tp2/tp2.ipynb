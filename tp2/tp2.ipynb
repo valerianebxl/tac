{
 "cells": [
  {
   "cell_type": "markdown",
   "id": "61793493-3d93-4e4c-b254-96baec655d4b",
   "metadata": {},
   "source": [
    "# TP2 : Extraction d'informations"
   ]
  },
  {
   "cell_type": "markdown",
   "id": "97afba42-e1c4-482d-b6f5-bfaab8520ee2",
   "metadata": {},
   "source": [
    "Sur la base des éléments méthodologiques et des enseignements techniques présentés lors du cours théorique, il est demandé dans le cadre de ce TP :\n",
    "- de se familiariser avec les techniques d’enrichissement (extraction de mots-clés, reconnaissance d’entités nommées, analyse de sentiment...)\n",
    "- d’appliquer celles-ci au corpus de bulletins de la ville de Bruxelles préalablement convertis au format .txt\n",
    "\n",
    "Pour ce faire, vous utiliserez différentes librairies Python vues au cours."
   ]
  },
  {
   "cell_type": "markdown",
   "id": "ba771dfa-52a2-44f7-92e5-010ed498f318",
   "metadata": {},
   "source": [
    "## 1. Keywords"
   ]
  },
  {
   "cell_type": "markdown",
   "id": "7d4505ac-f7c4-453f-beac-672f41c58715",
   "metadata": {},
   "source": [
    "### Librairies utilisées dans le code"
   ]
  },
  {
   "cell_type": "markdown",
   "id": "40260ec3-4d87-41c2-9c43-7cf881f1befe",
   "metadata": {
    "tags": []
   },
   "source": [
    "#### Choix d'une année à analyser"
   ]
  },
  {
   "cell_type": "code",
   "execution_count": 1,
   "id": "61718da2-0b36-4ee4-baa6-e84d664347a5",
   "metadata": {},
   "outputs": [],
   "source": [
    "import os\n",
    "from collections import defaultdict, Counter\n",
    "import textract\n",
    "import nltk\n",
    "from nltk.corpus import stopwords\n",
    "import yake\n",
    "from wordcloud import WordCloud\n",
    "from IPython.display import Image"
   ]
  },
  {
   "cell_type": "markdown",
   "id": "3beeca5f-03a5-4a52-be94-a9258e8916e5",
   "metadata": {},
   "source": [
    "### Sélection des fichiers à analyser"
   ]
  },
  {
   "cell_type": "markdown",
   "id": "129bbbbd-a57e-4de9-a3e5-cabb17a69a85",
   "metadata": {},
   "source": [
    "#### Choix d'une année à analyser"
   ]
  },
  {
   "cell_type": "code",
   "execution_count": 2,
   "id": "07566073-2b23-49ae-a5c4-6eea6434caa9",
   "metadata": {},
   "outputs": [],
   "source": [
    "selected_year = 1930"
   ]
  },
  {
   "cell_type": "markdown",
   "id": "66db830f-14c9-47eb-92fb-b7104915d62d",
   "metadata": {},
   "source": [
    "#### Stocker la liste des fichiers contenus dans le dossier 'txt'"
   ]
  },
  {
   "cell_type": "code",
   "execution_count": 3,
   "id": "5328a90b-86ee-456f-93da-8f23c09aa18e",
   "metadata": {},
   "outputs": [
    {
     "data": {
      "text/plain": [
       "2827"
      ]
     },
     "execution_count": 3,
     "metadata": {},
     "output_type": "execute_result"
    }
   ],
   "source": [
    "txt_path = \"../data/txt/\"\n",
    "files = sorted(os.listdir(txt_path))\n",
    "len(files)"
   ]
  },
  {
   "cell_type": "markdown",
   "id": "04021383-4e4e-40fa-83f4-224828b7d051",
   "metadata": {},
   "source": [
    "#### Lister les fichiers pour Bruxelles et pour Laeken"
   ]
  },
  {
   "cell_type": "code",
   "execution_count": 4,
   "id": "0176468e-5005-4cf7-a3e4-a5b0878efcb7",
   "metadata": {},
   "outputs": [
    {
     "name": "stdout",
     "output_type": "stream",
     "text": [
      "31\n",
      "0\n"
     ]
    }
   ],
   "source": [
    "bxl_selected_year = [f for f in files if f.startswith('Bxl_') and str(selected_year) in f]\n",
    "print(len(bxl_selected_year))\n",
    "\n",
    "lkn_selected_year = [f for f in files if f.startswith('Lkn_') and str(selected_year) in f]\n",
    "print(len(lkn_selected_year))"
   ]
  },
  {
   "cell_type": "markdown",
   "id": "82477b97-b244-4da2-bd6c-1a70fd7e6ecd",
   "metadata": {},
   "source": [
    "#### Vérification du nombre de fichiers"
   ]
  },
  {
   "cell_type": "code",
   "execution_count": 5,
   "id": "cf92ac9f-b684-45de-be90-51d8c0543a17",
   "metadata": {},
   "outputs": [
    {
     "name": "stdout",
     "output_type": "stream",
     "text": [
      "35\n"
     ]
    }
   ],
   "source": [
    "count_years = defaultdict(int)\n",
    "\n",
    "for f in files: \n",
    "    if \"_\" in f and f.endswith(\"txt\"): \n",
    "        elems = f.split(\"_\") \n",
    "        year = elems[1] \n",
    "        count_years[year] += 1 \n",
    "        \n",
    "n_selected_year = count_years[year]\n",
    "print(n_selected_year)"
   ]
  },
  {
   "cell_type": "markdown",
   "id": "957180a5-9f50-4950-9d19-6e2b3f01648f",
   "metadata": {
    "tags": []
   },
   "source": [
    "### Récupérer le texte des fichiers"
   ]
  },
  {
   "cell_type": "markdown",
   "id": "f21ed6de-b02e-4ece-b5c6-cb121133e73c",
   "metadata": {},
   "source": [
    "#### Créer le dossier adéquat"
   ]
  },
  {
   "cell_type": "code",
   "execution_count": null,
   "id": "f558f63e-8193-4732-894d-e3472cb3845a",
   "metadata": {},
   "outputs": [],
   "source": [
    "path_1930 = '../data/1930'\n",
    "if not os.path.exists(path_1930):\n",
    "    os.mkdir(path_1930)"
   ]
  },
  {
   "cell_type": "markdown",
   "id": "be0fa113-73e7-4f01-a2f6-1584ba474f00",
   "metadata": {},
   "source": [
    "#### Copier les fichiers désirés dans le dossier"
   ]
  },
  {
   "cell_type": "code",
   "execution_count": null,
   "id": "862e034c-7406-4bd5-8c81-de97b114d783",
   "metadata": {},
   "outputs": [],
   "source": [
    "for txt in bxl_1930:\n",
    "    text = textract.process(os.path.join(txt_path, txt))\n",
    "    with open(os.path.join(path_1930, txt), 'wb') as f: \n",
    "        f.write(text) "
   ]
  },
  {
   "cell_type": "markdown",
   "id": "8e160a76-9b8f-4595-a14c-d62a3d01c303",
   "metadata": {},
   "source": [
    "#### Concaténer le texte des fichiers"
   ]
  },
  {
   "cell_type": "code",
   "execution_count": null,
   "id": "28f10492-ad19-43d6-ae80-65368e4e89b6",
   "metadata": {},
   "outputs": [],
   "source": [
    "!cat ../data/{year}/*.txt > ../data/{year}.txt"
   ]
  },
  {
   "cell_type": "markdown",
   "id": "7e0057c0-946d-462d-b8e2-022acd5a163c",
   "metadata": {},
   "source": [
    "#### Compter le nombre de mots repris dans le fichier"
   ]
  },
  {
   "cell_type": "code",
   "execution_count": null,
   "id": "33b8ee36-9df4-4085-ab6e-c20ed6a095bf",
   "metadata": {},
   "outputs": [],
   "source": [
    "!wc -m ../data/{year}.txt"
   ]
  },
  {
   "cell_type": "code",
   "execution_count": null,
   "id": "5bbd07ad-bb2e-4fa7-b478-670134c88fa2",
   "metadata": {},
   "outputs": [],
   "source": [
    "texts_1930 = open(os.path.join(f\"../data/\", \"1930.txt\"), 'r').read()\n",
    "texts_1930[:500]"
   ]
  },
  {
   "cell_type": "markdown",
   "id": "d0ee885c-17df-440e-a40f-5a404942afe2",
   "metadata": {
    "tags": []
   },
   "source": [
    "### Extraction des mots clés"
   ]
  },
  {
   "cell_type": "markdown",
   "id": "e2a51a19-e89a-43af-8b66-65e611ff44ba",
   "metadata": {},
   "source": [
    "#### Instancier l'extracteur de mots clés"
   ]
  },
  {
   "cell_type": "code",
   "execution_count": null,
   "id": "74d61b3d-1920-4811-8d14-ec873953a836",
   "metadata": {},
   "outputs": [],
   "source": [
    "kw_extractor = yake.KeywordExtractor(lan=\"fr\", top=50)\n",
    "kw_extractor"
   ]
  },
  {
   "cell_type": "markdown",
   "id": "47af4c26-26cd-4d7f-b308-5b2a8297e75f",
   "metadata": {},
   "source": [
    "#### Extraire les mots clés pour l'année entière"
   ]
  },
  {
   "cell_type": "code",
   "execution_count": null,
   "id": "afb7a12a-018c-4dd7-ad42-90bd88fd2ca5",
   "metadata": {},
   "outputs": [],
   "source": [
    "keywords = kw_extractor.extract_keywords(texts_1930.lower()) \n",
    "keywords"
   ]
  },
  {
   "cell_type": "markdown",
   "id": "61108e46-760a-4048-8746-15bf31f684f9",
   "metadata": {},
   "source": [
    "#### Ajout de mots à ignorer"
   ]
  },
  {
   "cell_type": "code",
   "execution_count": null,
   "id": "9655f75b-aa14-4471-92d6-43c80d410ea3",
   "metadata": {},
   "outputs": [],
   "source": [
    "ignored = [\"conseil communal\", \"conseil général\", \"bruxelles\"]\n",
    "ignored"
   ]
  },
  {
   "cell_type": "markdown",
   "id": "edc3dbfd-dc54-4ddc-b297-328400e35483",
   "metadata": {},
   "source": [
    "#### Ne garder que les bigrammes"
   ]
  },
  {
   "cell_type": "code",
   "execution_count": null,
   "id": "716a78b9-ccc7-4d44-9ef3-0f372cab3aaf",
   "metadata": {},
   "outputs": [],
   "source": [
    "bigram = []\n",
    "for kw, score in keywords:\n",
    "    words = kw.split()\n",
    "    if len(words) == 2 and kw.lower() not in ignored:\n",
    "        sw1.append(kw)\n",
    "\n",
    "print(sorted(bigram))"
   ]
  },
  {
   "cell_type": "markdown",
   "id": "5039e297-aca7-4ada-8463-72c141f462b1",
   "metadata": {},
   "source": [
    "#### Ajouter les mongrammes à la liste des stopwords"
   ]
  },
  {
   "cell_type": "markdown",
   "id": "20b4892c-d172-4d22-9b85-dcc5f52b4736",
   "metadata": {},
   "source": [
    "#### Analyse séquentielle en fonction des tomes"
   ]
  },
  {
   "cell_type": "code",
   "execution_count": null,
   "id": "3c50445c-1679-41c2-9ff0-765b4cb76a30",
   "metadata": {},
   "outputs": [],
   "source": [
    "for f in sorted(bxl_1930):\n",
    "    text = open(os.path.join(path_1930, f), 'r').read()\n",
    "    keywords = kw_extractor.extract_keywords(text.lower()) # rajouter le lower \n",
    "    kept = []\n",
    "    for kw, score in keywords:\n",
    "        words = kw.split()\n",
    "        if len(words) == 2 and kw.lower() not in ignored:\n",
    "            kept.append(kw)\n",
    "    print(f\"{f} mentions these keywords: {', '.join(kept)}...\\n\")"
   ]
  },
  {
   "cell_type": "markdown",
   "id": "7e01d138-a2d2-4851-a98a-46df992aba61",
   "metadata": {
    "tags": []
   },
   "source": [
    "### Nettoyer le fichier"
   ]
  },
  {
   "cell_type": "markdown",
   "id": "9c77b3e8-1715-4981-87cb-631509251580",
   "metadata": {},
   "source": [
    "#### Tokenisation"
   ]
  },
  {
   "cell_type": "code",
   "execution_count": null,
   "id": "2c8a206b-f90b-4e80-8c06-5f90246a1277",
   "metadata": {},
   "outputs": [],
   "source": [
    "words = nltk.wordpunct_tokenize(texts_1930)\n",
    "print(f\"{len(words)} words found\")\n",
    "\n",
    "print(words[:200])"
   ]
  },
  {
   "cell_type": "markdown",
   "id": "25fd9e92-6e2d-4c3e-a3ee-99358742bafb",
   "metadata": {},
   "source": [
    "#### Création de la 'stopwrods' de base enrichie"
   ]
  },
  {
   "cell_type": "code",
   "execution_count": null,
   "id": "ed65d8cc-4341-4be4-b676-48db40844f06",
   "metadata": {},
   "outputs": [],
   "source": [
    "sw = stopwords.words(\"french\")\n",
    "sw += [\"les\", \"plus\", \"cette\", \"fait\", \"faire\", \"être\", \"deux\", \"comme\", \"dont\", \"tout\", \n",
    "       \"ils\", \"bien\", \"sans\", \"peut\", \"tous\", \"après\", \"ainsi\", \"donc\", \"cet\", \"sous\",\n",
    "       \"celle\", \"entre\", \"encore\", \"toutes\", \"pendant\", \"moins\", \"dire\", \"cela\", \"non\",\n",
    "       \"faut\", \"trois\", \"aussi\", \"dit\", \"avoir\", \"doit\", \"contre\", \"depuis\", \"autres\",\n",
    "       \"van\", \"het\", \"autre\", \"jusqu\"]"
   ]
  },
  {
   "cell_type": "markdown",
   "id": "587976ec-65ce-4c3b-8907-e55993635697",
   "metadata": {},
   "source": [
    "#### Calculer la taille du vocabulaire"
   ]
  },
  {
   "cell_type": "code",
   "execution_count": null,
   "id": "71cfd268-c19d-484b-aa1f-18e396d51965",
   "metadata": {},
   "outputs": [],
   "source": [
    "words_cleaned = []\n",
    "\n",
    "for w in words:\n",
    "    if len(w) > 2 and w.isalpha() and w.lower() not in sw:\n",
    "        words_cleaned.append(w.lower())\n",
    "        \n",
    "voc = set(words_cleaned)\n",
    "\n",
    "print(f\"{len(words_cleaned)} words kept ({len(voc)} different word forms)\")\n",
    "print(words_cleaned[:200])"
   ]
  },
  {
   "cell_type": "markdown",
   "id": "c2c02a31-4c8c-4c6b-8177-84d88341f279",
   "metadata": {},
   "source": [
    "OU"
   ]
  },
  {
   "cell_type": "code",
   "execution_count": null,
   "id": "6160d670-85fd-4854-b8bd-31bdd8e7b1fc",
   "metadata": {},
   "outputs": [],
   "source": [
    "words_cleaned = [w.lower() for w in words if len(w) > 2 and w.isalpha() and w.lower() not in sw]\n",
    "voc = set(words_cleaned)\n",
    "print(f\"{len(words_cleaned)} words kept ({len(voc)} different word forms)\")"
   ]
  },
  {
   "cell_type": "markdown",
   "id": "556cda81-28af-4ff4-9831-245ed4ff951a",
   "metadata": {},
   "source": [
    "#### Récupérer les mots les plus fréquents"
   ]
  },
  {
   "cell_type": "code",
   "execution_count": null,
   "id": "f6e306dd-8704-44dd-ba63-2b449e7f4394",
   "metadata": {},
   "outputs": [],
   "source": [
    "fdist = nltk.FreqDist(words_cleaned)\n",
    "fdist.most_common(10)"
   ]
  },
  {
   "cell_type": "markdown",
   "id": "15771a4d-e574-416c-a1d8-c8380b05bab1",
   "metadata": {},
   "source": [
    "#### Ajout d'une liste de mots à ignorer"
   ]
  },
  {
   "cell_type": "code",
   "execution_count": null,
   "id": "024026ee-38b0-4b88-85d0-81c0cac43b94",
   "metadata": {},
   "outputs": [],
   "source": [
    "sw += [\"francs\", \"ville\", \"bruxelles\", \"conseil\", \"service\", \"conseil\"] \n",
    "\n",
    "print(sorted(sw))"
   ]
  },
  {
   "cell_type": "code",
   "execution_count": null,
   "id": "8ea8cf5b-9d83-407b-955a-1e26ab28b280",
   "metadata": {},
   "outputs": [],
   "source": [
    "sample_1 = [w.lower() for w in words if len(w) > 2 and w.isalpha() and w.lower() not in sw]\n",
    "voc = set(sample_1)\n",
    "print(f\"{len(sample_1)} words kept ({len(voc)} different word forms)\")"
   ]
  },
  {
   "cell_type": "code",
   "execution_count": null,
   "id": "084723ff-0cb7-4434-a803-675d0053fed1",
   "metadata": {},
   "outputs": [],
   "source": [
    "fdist = nltk.FreqDist(sample_1)\n",
    "fdist.most_common(10)"
   ]
  },
  {
   "cell_type": "code",
   "execution_count": null,
   "id": "7ae93b83-8a34-4606-a35a-dec5bede89d9",
   "metadata": {},
   "outputs": [],
   "source": [
    "sw += [\"collège\", \"communal\", \"bourgmestre\"] \n",
    "\n",
    "print(sorted(sw))"
   ]
  },
  {
   "cell_type": "code",
   "execution_count": null,
   "id": "1b702713-2e80-44af-a227-33d7dea2838d",
   "metadata": {},
   "outputs": [],
   "source": [
    "sample_2 = [w.lower() for w in words if len(w) > 2 and w.isalpha() and w.lower() not in sw]\n",
    "voc = set(sample_2)\n",
    "print(f\"{len(sample_2)} words kept ({len(voc)} different word forms)\")"
   ]
  },
  {
   "cell_type": "code",
   "execution_count": null,
   "id": "6b000e2d-47b5-4191-9c21-269fb5dd12f5",
   "metadata": {},
   "outputs": [],
   "source": [
    "fdist = nltk.FreqDist(sample_2)\n",
    "fdist.most_common(20)"
   ]
  },
  {
   "cell_type": "code",
   "execution_count": null,
   "id": "f92e733b-662f-43b5-9065-f426efeda730",
   "metadata": {},
   "outputs": [],
   "source": [
    "sw += [\"total\", \"echevin\", \"membres\", \"divers\", \"année\", \"article\", \"question\", \"diverses\", \"messieurs\", \"art\"] \n",
    "\n",
    "print(sorted(sw))"
   ]
  },
  {
   "cell_type": "markdown",
   "id": "f27520ef-47af-4732-bfaa-0f8b83a2f7ce",
   "metadata": {},
   "source": [
    "### Enrichissement de la liste des stopwords"
   ]
  },
  {
   "cell_type": "code",
   "execution_count": null,
   "id": "68b36d5e-669f-45ca-8bab-878b0e191730",
   "metadata": {},
   "outputs": [],
   "source": []
  },
  {
   "cell_type": "code",
   "execution_count": null,
   "id": "b61ba07d-6933-42ea-9adb-afe4cc14a66a",
   "metadata": {},
   "outputs": [],
   "source": []
  },
  {
   "cell_type": "code",
   "execution_count": null,
   "id": "9001855f-7616-4890-8b3b-1e374916f6a9",
   "metadata": {},
   "outputs": [],
   "source": [
    "print(keywords)"
   ]
  },
  {
   "cell_type": "markdown",
   "id": "e83a7eb1-321c-4003-a9f2-e531554cb107",
   "metadata": {},
   "source": [
    "## 2. Named Entity Recognition"
   ]
  },
  {
   "cell_type": "code",
   "execution_count": null,
   "id": "75bf86a0-b617-4823-a1df-73c5c04754fe",
   "metadata": {},
   "outputs": [],
   "source": []
  }
 ],
 "metadata": {
  "kernelspec": {
   "display_name": "Python 3 (ipykernel)",
   "language": "python",
   "name": "python3"
  },
  "language_info": {
   "codemirror_mode": {
    "name": "ipython",
    "version": 3
   },
   "file_extension": ".py",
   "mimetype": "text/x-python",
   "name": "python",
   "nbconvert_exporter": "python",
   "pygments_lexer": "ipython3",
   "version": "3.9.7"
  }
 },
 "nbformat": 4,
 "nbformat_minor": 5
}
