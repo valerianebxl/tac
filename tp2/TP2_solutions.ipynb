{
 "cells": [
  {
   "cell_type": "markdown",
   "id": "61793493-3d93-4e4c-b254-96baec655d4b",
   "metadata": {},
   "source": [
    "# TP2 : Extraction d'informations"
   ]
  },
  {
   "cell_type": "markdown",
   "id": "97afba42-e1c4-482d-b6f5-bfaab8520ee2",
   "metadata": {},
   "source": [
    "Sur la base des éléments méthodologiques et des enseignements techniques présentés lors du cours théorique, il est demandé dans le cadre de ce TP :\n",
    "- de se familiariser avec les techniques d’enrichissement (extraction de mots-clés, reconnaissance d’entités nommées, analyse de sentiment...)\n",
    "- d’appliquer celles-ci au corpus de bulletins de la ville de Bruxelles préalablement convertis au format .txt\n",
    "\n",
    "Pour ce faire, vous utiliserez différentes librairies Python vues au cours."
   ]
  },
  {
   "cell_type": "markdown",
   "id": "ba771dfa-52a2-44f7-92e5-010ed498f318",
   "metadata": {},
   "source": [
    "## 1. Keywords"
   ]
  },
  {
   "cell_type": "markdown",
   "id": "7d4505ac-f7c4-453f-beac-672f41c58715",
   "metadata": {},
   "source": [
    "### Librairies utilisées dans le code"
   ]
  },
  {
   "cell_type": "code",
   "execution_count": 70,
   "id": "61718da2-0b36-4ee4-baa6-e84d664347a5",
   "metadata": {},
   "outputs": [],
   "source": [
    "import os\n",
    "import textract\n",
    "from collections import defaultdict\n",
    "from nltk.corpus import stopwords\n",
    "import yake"
   ]
  },
  {
   "cell_type": "markdown",
   "id": "15771a4d-e574-416c-a1d8-c8380b05bab1",
   "metadata": {},
   "source": [
    "### Création d'une liste de mots à ignorer"
   ]
  },
  {
   "cell_type": "code",
   "execution_count": 89,
   "id": "024026ee-38b0-4b88-85d0-81c0cac43b94",
   "metadata": {},
   "outputs": [
    {
     "name": "stdout",
     "output_type": "stream",
     "text": [
      "{'toi', 'étantes', 'eussiez', 'notre', 'des', 'doit', 'tu', 'moi', 'étée', 'vos', 'dont', 'ces', 'van', 'eussions', 'ta', 'fait', 'soient', 'étais', 'ayante', 'n', 'est', 'aies', 'non', 'serais', 'het', 'l', 'fussiez', 'peut', 'avez', 'contre', 'mes', 'j', 'pas', 'sans', 'auriez', 'lui', 'entre', 'fussent', 'd', 'tout', 'ainsi', 'ait', 'fûtes', 'pendant', 'seront', 'étions', 'par', 'seraient', 'un', 'eus', 'avec', 'de', 'avoir', 'sur', 'es', 'fussions', 'aurions', 'seriez', 'en', 'serons', 'as', 'soyons', 'tous', 'ai', 'trois', 'mon', 'faut', 'suis', 'aurait', 'êtes', 'serai', 'autres', 'sont', 'étant', 'serez', 'eues', 'ayants', 'étiez', 'faire', 'qu', 'jusqu', 'sommes', 'dans', 'ma', 'eux', 'ayantes', 'une', 'vous', 'que', 'aurai', 'bien', 'nos', 'ayez', 'sous', 'eûtes', 'au', 'seras', 'cette', 'ou', 'avait', 'je', 'ne', 'ils', 'votre', 'ses', 'deux', 'eussent', 'les', 'et', 'leur', 'serait', 'aurons', 'aura', 'auraient', 'toutes', 'serions', 'ce', 'sera', 'son', 'elle', 'y', 'encore', 'fus', 'tes', 'nous', 'donc', 'furent', 'se', 'ont', 'aurez', 'avons', 'étaient', 'eut', 'avaient', 'depuis', 'ayons', 'te', 'fut', 'eûmes', 'fusse', 'étants', 'eurent', 'le', 'aurais', 'on', 'ayant', 'auront', 'étées', 'fût', 'fusses', 'avions', 't', 'eût', 'cet', 'dit', 'me', 'mais', 'ton', 'qui', 'auras', 'eu', 'la', 'pour', 'du', 'sois', 'plus', 'aussi', 'étés', 'il', 'être', 'comme', 's', 'soyez', 'aie', 'aux', 'été', 'soit', 'c', 'eusse', 'après', 'cela', 'aient', 'm', 'autre', 'même', 'moins', 'avais', 'dire', 'eusses', 'étante', 'était', 'celle', 'fûmes', 'sa', 'aviez', 'à', 'eue'}\n",
      "{'conseil général', 'conseil communal', 'bruxelles'}\n"
     ]
    }
   ],
   "source": [
    "sw = stopwords.words(\"french\")\n",
    "sw += [\"les\", \"plus\", \"cette\", \"fait\", \"faire\", \"être\", \"deux\", \"comme\", \"dont\", \"tout\", \n",
    "       \"ils\", \"bien\", \"sans\", \"peut\", \"tous\", \"après\", \"ainsi\", \"donc\", \"cet\", \"sous\",\n",
    "       \"celle\", \"entre\", \"encore\", \"toutes\", \"pendant\", \"moins\", \"dire\", \"cela\", \"non\",\n",
    "       \"faut\", \"trois\", \"aussi\", \"dit\", \"avoir\", \"doit\", \"contre\", \"depuis\", \"autres\",\n",
    "       \"van\", \"het\", \"autre\", \"jusqu\"]\n",
    "\n",
    "sw = set(sw) # set() permet de n'avoir qu'une seule occurrence par mot\n",
    "\n",
    "print(sw)\n",
    "\n",
    "ignored = set([\"conseil communal\", \"conseil général\", \"bruxelles\"]) # set = liste avec une occurrence\n",
    "print(ignored)"
   ]
  },
  {
   "cell_type": "markdown",
   "id": "3beeca5f-03a5-4a52-be94-a9258e8916e5",
   "metadata": {},
   "source": [
    "### Sélection des fichiers à analyser"
   ]
  },
  {
   "cell_type": "markdown",
   "id": "66db830f-14c9-47eb-92fb-b7104915d62d",
   "metadata": {},
   "source": [
    "#### Stocker la liste des fichiers contenus dans le dossier 'txt'"
   ]
  },
  {
   "cell_type": "code",
   "execution_count": 76,
   "id": "5328a90b-86ee-456f-93da-8f23c09aa18e",
   "metadata": {},
   "outputs": [
    {
     "data": {
      "text/plain": [
       "2827"
      ]
     },
     "execution_count": 76,
     "metadata": {},
     "output_type": "execute_result"
    }
   ],
   "source": [
    "txt_path = \"../data/txt/\"\n",
    "files = sorted(os.listdir(txt_path)) # stocker dans 'files' la liste des fichiers contenus dans le dossier 'txt'\n",
    "len(files)"
   ]
  },
  {
   "cell_type": "markdown",
   "id": "04021383-4e4e-40fa-83f4-224828b7d051",
   "metadata": {},
   "source": [
    "#### Lister les fichiers pour Bruxelles et pour Laeken"
   ]
  },
  {
   "cell_type": "code",
   "execution_count": 77,
   "id": "0176468e-5005-4cf7-a3e4-a5b0878efcb7",
   "metadata": {},
   "outputs": [
    {
     "name": "stdout",
     "output_type": "stream",
     "text": [
      "31\n",
      "0\n"
     ]
    }
   ],
   "source": [
    "bxl_1930 = [f for f in files if f.startswith('Bxl_1930')]\n",
    "print(len(bxl_1930))\n",
    "\n",
    "lkn_1930 = [f for f in files if f.startswith('Lkn_1930')]\n",
    "print(len(lkn_30))"
   ]
  },
  {
   "cell_type": "markdown",
   "id": "82477b97-b244-4da2-bd6c-1a70fd7e6ecd",
   "metadata": {},
   "source": [
    "#### Vérification du nombre de fichiers"
   ]
  },
  {
   "cell_type": "code",
   "execution_count": 78,
   "id": "cf92ac9f-b684-45de-be90-51d8c0543a17",
   "metadata": {},
   "outputs": [
    {
     "name": "stdout",
     "output_type": "stream",
     "text": [
      "31\n"
     ]
    }
   ],
   "source": [
    "count_years = defaultdict(int)\n",
    "\n",
    "for f in files: \n",
    "    if \"_\" in f and f.endswith(\"txt\"): \n",
    "        elems = f.split(\"_\") \n",
    "        year = elems[1] \n",
    "        count_years[year] += 1 \n",
    "        \n",
    "n_1930 = count_years['1930']\n",
    "print(n_1930)"
   ]
  },
  {
   "cell_type": "markdown",
   "id": "957180a5-9f50-4950-9d19-6e2b3f01648f",
   "metadata": {
    "tags": []
   },
   "source": [
    "### Récupérer le texte des fichiers"
   ]
  },
  {
   "cell_type": "markdown",
   "id": "f21ed6de-b02e-4ece-b5c6-cb121133e73c",
   "metadata": {},
   "source": [
    "#### Créer le dossier adéquat"
   ]
  },
  {
   "cell_type": "code",
   "execution_count": 80,
   "id": "f558f63e-8193-4732-894d-e3472cb3845a",
   "metadata": {},
   "outputs": [],
   "source": [
    "path_1930 = '../data/1930'\n",
    "if not os.path.exists(path_1930):\n",
    "    os.mkdir(path_1930)"
   ]
  },
  {
   "cell_type": "markdown",
   "id": "be0fa113-73e7-4f01-a2f6-1584ba474f00",
   "metadata": {},
   "source": [
    "#### Copier les fichiers désirés dans le dossier"
   ]
  },
  {
   "cell_type": "code",
   "execution_count": 82,
   "id": "862e034c-7406-4bd5-8c81-de97b114d783",
   "metadata": {},
   "outputs": [],
   "source": [
    "for txt in bxl_1930:\n",
    "    text = textract.process(os.path.join(txt_path, txt))\n",
    "    with open(os.path.join(path_1930, txt), 'wb') as f: \n",
    "        f.write(text) "
   ]
  },
  {
   "cell_type": "markdown",
   "id": "8e160a76-9b8f-4595-a14c-d62a3d01c303",
   "metadata": {},
   "source": [
    "#### Concaténer le texte des fichiers"
   ]
  },
  {
   "cell_type": "code",
   "execution_count": 84,
   "id": "28f10492-ad19-43d6-ae80-65368e4e89b6",
   "metadata": {},
   "outputs": [],
   "source": [
    "!cat ../data/1930/*.txt > ../data/1930.txt"
   ]
  },
  {
   "cell_type": "markdown",
   "id": "7e0057c0-946d-462d-b8e2-022acd5a163c",
   "metadata": {},
   "source": [
    "#### Compter le nombre de mots repris dans le fichier"
   ]
  },
  {
   "cell_type": "code",
   "execution_count": 93,
   "id": "33b8ee36-9df4-4085-ab6e-c20ed6a095bf",
   "metadata": {},
   "outputs": [
    {
     "name": "stdout",
     "output_type": "stream",
     "text": [
      "968678 ../data/1930.txt\n"
     ]
    }
   ],
   "source": [
    "!wc -w ../data/1930.txt"
   ]
  },
  {
   "cell_type": "code",
   "execution_count": 87,
   "id": "5bbd07ad-bb2e-4fa7-b478-670134c88fa2",
   "metadata": {},
   "outputs": [
    {
     "data": {
      "text/plain": [
       "'VILLE\\n\\nDE\\n\\nBRUXELLES\\n\\nBULLETIN COMMUNAL\\nA N N É E\\n\\n1930\\n\\nTOME\\n\\nII\\n\\nBRUXELLES\\nIMPRIMERIE\\n\\nE . G U Y O T , S. A.\\n\\n12. rue Pachéco, 12\\n1 930\\n\\n\\x0c\\x0cN\" l .\\n\\nCOMTTE RENDU DE LA SÉANCE DU 7 JUILLET IfWO.\\n\\nV I L L E\\n\\nD E\\n\\nBULLETIN\\nAnnée\\n\\nC O N S E I L\\nSéance\\n\\nB R U X E L L E S\\n\\nGO M M U N AI\\n1930.\\n\\nC O M M U N A L\\n\\ndu 7 Juillet\\n\\n1930.\\n\\nPrésidence de M . ADOLPHE M A X , Bourgmestre.\\n\\nSOMMAIRE :\\nPAGES.\\n\\n1.\\n2.\\n3.\\n\\nCommunications\\n. . .\\n5\\nDémission de M. l\\'Echevin Jacqmain\\n20\\nElection et prestation de serment d'"
      ]
     },
     "execution_count": 87,
     "metadata": {},
     "output_type": "execute_result"
    }
   ],
   "source": [
    "texts_1930 = open(os.path.join(f\"../data/\", \"1930.txt\"), 'r').read()\n",
    "texts_1930[:500]"
   ]
  },
  {
   "cell_type": "markdown",
   "id": "7e01d138-a2d2-4851-a98a-46df992aba61",
   "metadata": {},
   "source": [
    "### Nettoyer le fichier"
   ]
  },
  {
   "cell_type": "markdown",
   "id": "9c77b3e8-1715-4981-87cb-631509251580",
   "metadata": {},
   "source": [
    "#### Tokenisation"
   ]
  },
  {
   "cell_type": "code",
   "execution_count": 90,
   "id": "2c8a206b-f90b-4e80-8c06-5f90246a1277",
   "metadata": {},
   "outputs": [
    {
     "name": "stdout",
     "output_type": "stream",
     "text": [
      "1204041 words found\n"
     ]
    }
   ],
   "source": [
    "words = nltk.wordpunct_tokenize(texts_1930)\n",
    "print(f\"{len(words)} words found\")"
   ]
  },
  {
   "cell_type": "code",
   "execution_count": 92,
   "id": "53f8c9b1-787d-4b60-9045-370e82c655e0",
   "metadata": {},
   "outputs": [
    {
     "ename": "SyntaxError",
     "evalue": "invalid syntax (4223200352.py, line 1)",
     "output_type": "error",
     "traceback": [
      "\u001b[0;36m  File \u001b[0;32m\"/tmp/ipykernel_47/4223200352.py\"\u001b[0;36m, line \u001b[0;32m1\u001b[0m\n\u001b[0;31m    help(!wc)\u001b[0m\n\u001b[0m         ^\u001b[0m\n\u001b[0;31mSyntaxError\u001b[0m\u001b[0;31m:\u001b[0m invalid syntax\n"
     ]
    }
   ],
   "source": []
  },
  {
   "cell_type": "code",
   "execution_count": null,
   "id": "71cfd268-c19d-484b-aa1f-18e396d51965",
   "metadata": {},
   "outputs": [],
   "source": []
  },
  {
   "cell_type": "markdown",
   "id": "d0ee885c-17df-440e-a40f-5a404942afe2",
   "metadata": {},
   "source": [
    "### Extraction des mots clés"
   ]
  },
  {
   "cell_type": "markdown",
   "id": "e2a51a19-e89a-43af-8b66-65e611ff44ba",
   "metadata": {},
   "source": [
    "#### Instancier l'extracteur de mots clés"
   ]
  },
  {
   "cell_type": "code",
   "execution_count": null,
   "id": "74d61b3d-1920-4811-8d14-ec873953a836",
   "metadata": {},
   "outputs": [
    {
     "data": {
      "text/plain": [
       "<yake.yake.KeywordExtractor at 0x7fd677e6cdc0>"
      ]
     },
     "execution_count": 73,
     "metadata": {},
     "output_type": "execute_result"
    }
   ],
   "source": [
    "kw_extractor = yake.KeywordExtractor(lan=\"fr\", top=50)\n",
    "kw_extractor"
   ]
  },
  {
   "cell_type": "code",
   "execution_count": null,
   "id": "afb7a12a-018c-4dd7-ad42-90bd88fd2ca5",
   "metadata": {},
   "outputs": [],
   "source": [
    "keywords = kw_extractor.extract_keywords(text) # rajouter lower pour enlever la casse \n",
    "keywords"
   ]
  },
  {
   "cell_type": "markdown",
   "id": "edc3dbfd-dc54-4ddc-b297-328400e35483",
   "metadata": {},
   "source": [
    "#### Ne garder que les bigrammes"
   ]
  },
  {
   "cell_type": "code",
   "execution_count": null,
   "id": "716a78b9-ccc7-4d44-9ef3-0f372cab3aaf",
   "metadata": {},
   "outputs": [],
   "source": [
    "kept = []\n",
    "for kw, score in keywords:\n",
    "    words = kw.split()\n",
    "    if len(words) == 2 and kw.lower() not in ignored:\n",
    "        kept.append(kw)\n",
    "kept"
   ]
  },
  {
   "cell_type": "markdown",
   "id": "20b4892c-d172-4d22-9b85-dcc5f52b4736",
   "metadata": {},
   "source": [
    "#### Analyse séquentielle en fonction des tomes"
   ]
  },
  {
   "cell_type": "code",
   "execution_count": 79,
   "id": "b9c263fd-71ab-43d2-97ca-541a0917c2fa",
   "metadata": {},
   "outputs": [
    {
     "ename": "NameError",
     "evalue": "name 'bxl_files' is not defined",
     "output_type": "error",
     "traceback": [
      "\u001b[0;31m---------------------------------------------------------------------------\u001b[0m",
      "\u001b[0;31mNameError\u001b[0m                                 Traceback (most recent call last)",
      "\u001b[0;32m/tmp/ipykernel_47/2762989134.py\u001b[0m in \u001b[0;36m<module>\u001b[0;34m\u001b[0m\n\u001b[0;32m----> 1\u001b[0;31m \u001b[0mthis_file\u001b[0m \u001b[0;34m=\u001b[0m \u001b[0mbxl_files\u001b[0m\u001b[0;34m[\u001b[0m\u001b[0;36m0\u001b[0m\u001b[0;34m]\u001b[0m\u001b[0;34m\u001b[0m\u001b[0;34m\u001b[0m\u001b[0m\n\u001b[0m\u001b[1;32m      2\u001b[0m \u001b[0mthis_file\u001b[0m\u001b[0;34m\u001b[0m\u001b[0;34m\u001b[0m\u001b[0m\n",
      "\u001b[0;31mNameError\u001b[0m: name 'bxl_files' is not defined"
     ]
    }
   ],
   "source": [
    "this_file = bxl_files[0]\n",
    "this_file"
   ]
  },
  {
   "cell_type": "code",
   "execution_count": null,
   "id": "3c50445c-1679-41c2-9ff0-765b4cb76a30",
   "metadata": {},
   "outputs": [],
   "source": [
    "for f in sorted(bxl_files)[:10]:\n",
    "    text = open(os.path.join(data_path, f), 'r').read()\n",
    "    keywords = kw_extractor.extract_keywords(text.lower()) # rajouter le lower \n",
    "    kept = []\n",
    "    for kw, score in keywords:\n",
    "        words = kw.split()\n",
    "        if len(words) == 2 and kw.lower() not in ignored:\n",
    "            kept.append(kw)\n",
    "    print(f\"{f} mentions these keywords: {', '.join(kept)}...\")"
   ]
  },
  {
   "cell_type": "markdown",
   "id": "f27520ef-47af-4732-bfaa-0f8b83a2f7ce",
   "metadata": {},
   "source": [
    "### Enrichissement de la liste des stopwords"
   ]
  },
  {
   "cell_type": "code",
   "execution_count": null,
   "id": "68b36d5e-669f-45ca-8bab-878b0e191730",
   "metadata": {},
   "outputs": [],
   "source": []
  },
  {
   "cell_type": "code",
   "execution_count": null,
   "id": "b61ba07d-6933-42ea-9adb-afe4cc14a66a",
   "metadata": {},
   "outputs": [],
   "source": []
  },
  {
   "cell_type": "code",
   "execution_count": null,
   "id": "9001855f-7616-4890-8b3b-1e374916f6a9",
   "metadata": {},
   "outputs": [],
   "source": [
    "print(keywords)"
   ]
  },
  {
   "cell_type": "markdown",
   "id": "e83a7eb1-321c-4003-a9f2-e531554cb107",
   "metadata": {},
   "source": [
    "## 2. Named Entity Recognition"
   ]
  },
  {
   "cell_type": "code",
   "execution_count": null,
   "id": "75bf86a0-b617-4823-a1df-73c5c04754fe",
   "metadata": {},
   "outputs": [],
   "source": []
  }
 ],
 "metadata": {
  "kernelspec": {
   "display_name": "Python 3 (ipykernel)",
   "language": "python",
   "name": "python3"
  },
  "language_info": {
   "codemirror_mode": {
    "name": "ipython",
    "version": 3
   },
   "file_extension": ".py",
   "mimetype": "text/x-python",
   "name": "python",
   "nbconvert_exporter": "python",
   "pygments_lexer": "ipython3",
   "version": "3.9.7"
  }
 },
 "nbformat": 4,
 "nbformat_minor": 5
}
