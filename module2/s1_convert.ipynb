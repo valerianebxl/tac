{
 "cells": [
  {
   "cell_type": "markdown",
   "metadata": {},
   "source": [
    "# Conversion de fichiers PDF en fichiers TXT"
   ]
  },
  {
   "cell_type": "markdown",
   "metadata": {},
   "source": [
    "## Imports"
   ]
  },
  {
   "cell_type": "code",
   "execution_count": 2,
   "metadata": {},
   "outputs": [],
   "source": [
    "import os\n",
    "import textract\n",
    "\n",
    "# fichier numérisé et OCRisé (détection du texte et conversion)"
   ]
  },
  {
   "cell_type": "markdown",
   "metadata": {
    "tags": []
   },
   "source": [
    "## Lister les fichiers dans `data/pdf`"
   ]
  },
  {
   "cell_type": "code",
   "execution_count": 3,
   "metadata": {},
   "outputs": [
    {
     "data": {
      "text/plain": [
       "['Bxl_1847_Tome_I1_Part_1.pdf',\n",
       " 'Bxl_1847_Tome_I1_Part_2.pdf',\n",
       " 'Bxl_1847_Tome_I1_Part_3.pdf',\n",
       " 'Bxl_1847_Tome_I1_Part_4.pdf',\n",
       " 'Bxl_1847_Tome_I1_Part_5.pdf',\n",
       " 'Bxl_1848_Tome_I1_Part_1.pdf',\n",
       " 'Bxl_1848_Tome_I1_Part_2.pdf',\n",
       " 'Bxl_1848_Tome_I1_Part_3.pdf',\n",
       " 'Bxl_1849_Tome_I1_Part_1.pdf',\n",
       " 'Bxl_1849_Tome_I1_Part_2.pdf']"
      ]
     },
     "execution_count": 3,
     "metadata": {},
     "output_type": "execute_result"
    }
   ],
   "source": [
    "pdf_path = '../data/pdf'\n",
    "\n",
    "pdfs = [] ##################################################### quelle différence en pdfs = [] ou pdfs = 0 ?? pdfs = [] pour ajouter des objets et pdfs = 0 pour compter?\n",
    "\n",
    "for f in os.listdir(pdf_path): ############################### listdir = cd en bash?\n",
    "    if os.path.isfile(os.path.join(pdf_path, f)): # parcourir l'ensemble des fichiers et si le fichier existe, le lister dans 'f' grâce au 'append'\n",
    "        pdfs.append(f)\n",
    "pdfs[:10]"
   ]
  },
  {
   "cell_type": "markdown",
   "metadata": {},
   "source": [
    "## Créer un répertoire TXT s'il n'existe pas encore"
   ]
  },
  {
   "cell_type": "code",
   "execution_count": 5,
   "metadata": {},
   "outputs": [],
   "source": [
    "txt_path = '../data/txt'\n",
    "if not os.path.exists(txt_path):\n",
    "    os.mkdir(txt_path)"
   ]
  },
  {
   "cell_type": "markdown",
   "metadata": {},
   "source": [
    "## Lister les fichiers dans `data/txt`"
   ]
  },
  {
   "cell_type": "code",
   "execution_count": 6,
   "metadata": {},
   "outputs": [
    {
     "data": {
      "text/plain": [
       "['Bxl_1847_Tome_I1_Part_1.txt',\n",
       " 'Bxl_1847_Tome_I1_Part_2.txt',\n",
       " 'Bxl_1847_Tome_I1_Part_3.txt',\n",
       " 'Bxl_1847_Tome_I1_Part_4.txt',\n",
       " 'Bxl_1847_Tome_I1_Part_5.txt',\n",
       " 'Bxl_1848_Tome_I1_Part_1.txt',\n",
       " 'Bxl_1848_Tome_I1_Part_2.txt',\n",
       " 'Bxl_1848_Tome_I1_Part_3.txt',\n",
       " 'Bxl_1849_Tome_I1_Part_1.txt',\n",
       " 'Bxl_1849_Tome_I1_Part_2.txt']"
      ]
     },
     "execution_count": 6,
     "metadata": {},
     "output_type": "execute_result"
    }
   ],
   "source": [
    "txts = []\n",
    "for f in os.listdir(txt_path):\n",
    "    if os.path.isfile(os.path.join(txt_path, f)):\n",
    "        txts.append(f)\n",
    "txts[:10]"
   ]
  },
  {
   "cell_type": "code",
   "execution_count": 7,
   "metadata": {},
   "outputs": [
    {
     "name": "stdout",
     "output_type": "stream",
     "text": [
      "6\n",
      "['Bxl_1947_Tome_II_Part_1.pdf', 'Bxl_1959_Tome_RptAn_Part_2.pdf', 'Bxl_1959_Tome_RptAn_Part_4.pdf', 'Bxl_1961_Tome_RptAn_Part_2.pdf', 'Bxl_1961_Tome_RptAn_Part_3.pdf', 'Bxl_1961_Tome_RptAn_Part_5.pdf']\n"
     ]
    }
   ],
   "source": [
    "#  Lister les fichiers pdf déja téléchargés mais pas encore converti\n",
    "not_converted_pdfs = []\n",
    "for pdf in pdfs:\n",
    "    file_name = os.path.splitext(pdf)[0] # ne prendre que le nom du fichier sans l'extension pdf\n",
    "    if file_name + \".txt\" not in txts: # si ce nom de fichier ne comprend pas l'extension 'txt'\n",
    "        not_converted_pdfs.append(pdf) # alors l'ajouter dans la liste des fichier à convertir\n",
    "print(len(not_converted_pdfs))\n",
    "print(not_converted_pdfs[:10])"
   ]
  },
  {
   "cell_type": "markdown",
   "metadata": {},
   "source": [
    "## Convertir les fichiers PDFs en TXT"
   ]
  },
  {
   "cell_type": "code",
   "execution_count": 8,
   "metadata": {
    "tags": []
   },
   "outputs": [
    {
     "name": "stdout",
     "output_type": "stream",
     "text": [
      "Bxl_1947_Tome_II_Part_1.pdf\n",
      "Error with following file: Bxl_1947_Tome_II_Part_1.pdf\n",
      "Bxl_1959_Tome_RptAn_Part_2.pdf\n",
      "Error with following file: Bxl_1959_Tome_RptAn_Part_2.pdf\n",
      "Bxl_1959_Tome_RptAn_Part_4.pdf\n",
      "Error with following file: Bxl_1959_Tome_RptAn_Part_4.pdf\n",
      "Bxl_1961_Tome_RptAn_Part_2.pdf\n",
      "Error with following file: Bxl_1961_Tome_RptAn_Part_2.pdf\n",
      "Bxl_1961_Tome_RptAn_Part_3.pdf\n",
      "Error with following file: Bxl_1961_Tome_RptAn_Part_3.pdf\n",
      "Bxl_1961_Tome_RptAn_Part_5.pdf\n",
      "Error with following file: Bxl_1961_Tome_RptAn_Part_5.pdf\n"
     ]
    }
   ],
   "source": [
    "for pdf in not_converted_pdfs:\n",
    "    print(pdf) # imprimer le fichier à traiter \n",
    "    try:\n",
    "        text = textract.process(os.path.join(pdf_path, pdf)) # extraire le texte dans une variable\n",
    "        with open(os.path.join(txt_path, f'{os.path.splitext(pdf)[0]}.txt'), 'wb') as output_file: # ouvrir l'emplacement et écrire le nom du fichier en ajoutant l'extension 'txt'\n",
    "            output_file.write(text) ####################################################################### pourquoi 'open(os.path.join(), 'wb')' puis 'write' ??\n",
    "    except:\n",
    "        print(\"Error with following file:\", pdf)"
   ]
  },
  {
   "cell_type": "markdown",
   "metadata": {},
   "source": [
    "## Créer un grand fichier 'corpus': commande bash\n",
    "\n",
    "- `cat` permet d'imprimer le contenu de fichiers textes\n",
    "- Un pattern (ici `../*.txt`) permet d'appliquer la commande sur tous les fichiers qui matchent\n",
    "- `>` permet de rediriger le résultat de la commande précédente dans un fichier\n",
    "\n",
    "Pour en savoir plus sur les flux de redirections :\n",
    "https://openclassrooms.com/fr/courses/43538-reprenez-le-controle-a-laide-de-linux/40444-les-flux-de-redirection"
   ]
  },
  {
   "cell_type": "code",
   "execution_count": 9,
   "metadata": {
    "tags": []
   },
   "outputs": [],
   "source": [
    "!cat ../data/txt/*.txt > ../data/all.txt # en dehors du dossier txt ! pour ne pas mélanger"
   ]
  },
  {
   "cell_type": "markdown",
   "metadata": {},
   "source": [
    "## Compter le nombre de mots dans l'ensemble du corpus"
   ]
  },
  {
   "cell_type": "code",
   "execution_count": 10,
   "metadata": {
    "tags": []
   },
   "outputs": [
    {
     "name": "stdout",
     "output_type": "stream",
     "text": [
      " 20125553  93137806 460746924 ../data/all.txt\n"
     ]
    }
   ],
   "source": [
    "!wc ../data/all.txt"
   ]
  },
  {
   "cell_type": "markdown",
   "metadata": {},
   "source": [
    "On obtient ici, dans l'ordre, le nombre de lignes, de mots, d'octets.\n",
    "\n",
    "Pour en savoir plus sur la commande wc: https://fr.wikipedia.org/wiki/Wc_(Unix)"
   ]
  }
 ],
 "metadata": {
  "kernelspec": {
   "display_name": "Python 3 (ipykernel)",
   "language": "python",
   "name": "python3"
  },
  "language_info": {
   "codemirror_mode": {
    "name": "ipython",
    "version": 3
   },
   "file_extension": ".py",
   "mimetype": "text/x-python",
   "name": "python",
   "nbconvert_exporter": "python",
   "pygments_lexer": "ipython3",
   "version": "3.9.7"
  }
 },
 "nbformat": 4,
 "nbformat_minor": 4
}
