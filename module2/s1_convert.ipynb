{
 "cells": [
  {
   "cell_type": "markdown",
   "metadata": {},
   "source": [
    "# Conversion de fichiers PDF en fichiers TXT"
   ]
  },
  {
   "cell_type": "markdown",
   "metadata": {},
   "source": [
    "## Imports"
   ]
  },
  {
   "cell_type": "code",
   "execution_count": 1,
   "metadata": {},
   "outputs": [],
   "source": [
    "import os\n",
    "import textract\n",
    "\n",
    "# fichier numérisé et OCRisé (détection du texte et le convertir)"
   ]
  },
  {
   "cell_type": "markdown",
   "metadata": {
    "tags": []
   },
   "source": [
    "## Lister les fichiers dans `data/pdf`"
   ]
  },
  {
   "cell_type": "code",
   "execution_count": 2,
   "metadata": {},
   "outputs": [
    {
     "data": {
      "text/plain": [
       "['Bxl_1847_Tome_I1_Part_1.pdf',\n",
       " 'Bxl_1847_Tome_I1_Part_2.pdf',\n",
       " 'Bxl_1847_Tome_I1_Part_3.pdf',\n",
       " 'Bxl_1847_Tome_I1_Part_4.pdf',\n",
       " 'Bxl_1847_Tome_I1_Part_5.pdf',\n",
       " 'Bxl_1848_Tome_I1_Part_1.pdf',\n",
       " 'Bxl_1848_Tome_I1_Part_2.pdf',\n",
       " 'Bxl_1848_Tome_I1_Part_3.pdf',\n",
       " 'Bxl_1849_Tome_I1_Part_1.pdf',\n",
       " 'Bxl_1849_Tome_I1_Part_2.pdf']"
      ]
     },
     "execution_count": 2,
     "metadata": {},
     "output_type": "execute_result"
    }
   ],
   "source": [
    "pdf_path = '../data/pdf'\n",
    "\n",
    "#pdfs = [f for f in os.listdir(pdf_path) if os.path.isfile(os.path.join(pdf_path, f))]\n",
    "pdfs = []\n",
    "for f in os.listdir(pdf_path):\n",
    "    if os.path.isfile(os.path.join(pdf_path, f)):\n",
    "        pdfs.append(f)\n",
    "pdfs[:10]"
   ]
  },
  {
   "cell_type": "markdown",
   "metadata": {},
   "source": [
    "## Créer un répertoire TXT s'il n'existe pas encore"
   ]
  },
  {
   "cell_type": "code",
   "execution_count": 3,
   "metadata": {},
   "outputs": [],
   "source": [
    "txt_path = '../data/txt'\n",
    "if not os.path.exists(txt_path):\n",
    "    os.mkdir(txt_path)"
   ]
  },
  {
   "cell_type": "markdown",
   "metadata": {},
   "source": [
    "## Lister les fichiers dans `data/txt`"
   ]
  },
  {
   "cell_type": "code",
   "execution_count": 4,
   "metadata": {},
   "outputs": [
    {
     "data": {
      "text/plain": [
       "[]"
      ]
     },
     "execution_count": 4,
     "metadata": {},
     "output_type": "execute_result"
    }
   ],
   "source": [
    "txts = []\n",
    "for f in os.listdir(txt_path):\n",
    "    if os.path.isfile(os.path.join(txt_path, f)):\n",
    "        txts.append(f)\n",
    "txts[:10]"
   ]
  },
  {
   "cell_type": "code",
   "execution_count": 5,
   "metadata": {},
   "outputs": [
    {
     "name": "stdout",
     "output_type": "stream",
     "text": [
      "['Bxl_1847_Tome_I1_Part_1.pdf', 'Bxl_1847_Tome_I1_Part_2.pdf', 'Bxl_1847_Tome_I1_Part_3.pdf', 'Bxl_1847_Tome_I1_Part_4.pdf', 'Bxl_1847_Tome_I1_Part_5.pdf', 'Bxl_1848_Tome_I1_Part_1.pdf', 'Bxl_1848_Tome_I1_Part_2.pdf', 'Bxl_1848_Tome_I1_Part_3.pdf', 'Bxl_1849_Tome_I1_Part_1.pdf', 'Bxl_1849_Tome_I1_Part_2.pdf', 'Bxl_1849_Tome_I1_Part_3.pdf', 'Bxl_1849_Tome_I1_Part_4.pdf', 'Bxl_1849_Tome_I1_Part_5.pdf', 'Bxl_1849_Tome_II1_Part_1.pdf', 'Bxl_1849_Tome_II1_Part_2.pdf', 'Bxl_1849_Tome_II1_Part_3.pdf', 'Bxl_1849_Tome_II1_Part_4.pdf', 'Bxl_1849_Tome_II1_Part_5.pdf', 'Bxl_1849_Tome_II1_Part_6.pdf', 'Bxl_1849_Tome_II1_Part_7.pdf', 'Bxl_1850_Tome_I1_Part_1.pdf', 'Bxl_1850_Tome_I1_Part_2.pdf', 'Bxl_1850_Tome_I1_Part_3.pdf', 'Bxl_1850_Tome_I1_Part_4.pdf', 'Bxl_1850_Tome_II1_Part_1.pdf', 'Bxl_1850_Tome_II1_Part_2.pdf', 'Bxl_1850_Tome_II1_Part_3.pdf', 'Bxl_1850_Tome_II1_Part_4.pdf', 'Bxl_1850_Tome_II1_Part_5.pdf', 'Bxl_1850_Tome_II1_Part_6.pdf', 'Bxl_1850_Tome_II1_Part_7.pdf', 'Bxl_1851_Tome_I1_Part_1.pdf', 'Bxl_1851_Tome_I1_Part_2.pdf', 'Bxl_1851_Tome_I1_Part_3.pdf', 'Bxl_1851_Tome_I1_Part_4.pdf', 'Bxl_1851_Tome_I1_Part_5.pdf', 'Bxl_1851_Tome_II1_Part_1.pdf', 'Bxl_1851_Tome_II1_Part_2.pdf', 'Bxl_1851_Tome_II1_Part_3.pdf', 'Bxl_1851_Tome_II1_Part_4.pdf', 'Bxl_1851_Tome_II1_Part_5.pdf', 'Bxl_1851_Tome_II1_Part_6.pdf', 'Bxl_1851_Tome_II1_Part_7.pdf', 'Bxl_1852_Tome_I1_Part_1.pdf', 'Bxl_1852_Tome_I1_Part_2.pdf', 'Bxl_1852_Tome_I1_Part_3.pdf', 'Bxl_1852_Tome_I1_Part_4.pdf', 'Bxl_1852_Tome_I1_Part_5.pdf', 'Bxl_1852_Tome_II1_Part_1.pdf', 'Bxl_1852_Tome_II1_Part_2.pdf', 'Bxl_1852_Tome_II1_Part_3.pdf', 'Bxl_1852_Tome_II1_Part_4.pdf', 'Bxl_1852_Tome_II1_Part_5.pdf', 'Bxl_1854_Tome_I1_Part_1.pdf', 'Bxl_1854_Tome_I1_Part_2.pdf', 'Bxl_1854_Tome_I1_Part_3.pdf', 'Bxl_1854_Tome_II1_Part_1.pdf', 'Bxl_1854_Tome_II1_Part_2.pdf', 'Bxl_1854_Tome_II1_Part_3.pdf', 'Bxl_1854_Tome_II1_Part_4.pdf', 'Bxl_1854_Tome_II1_Part_5.pdf', 'Bxl_1854_Tome_II1_Part_6.pdf', 'Bxl_1855_Tome_I1_Part_1.pdf', 'Bxl_1855_Tome_I1_Part_2.pdf', 'Bxl_1855_Tome_I1_Part_3.pdf', 'Bxl_1855_Tome_I1_Part_4.pdf', 'Bxl_1855_Tome_I1_Part_5.pdf', 'Bxl_1855_Tome_I1_Part_6.pdf', 'Bxl_1855_Tome_II1_Part_1.pdf', 'Bxl_1855_Tome_II1_Part_2.pdf', 'Bxl_1855_Tome_II1_Part_3.pdf', 'Bxl_1855_Tome_II1_Part_4.pdf', 'Bxl_1855_Tome_II1_Part_5.pdf', 'Bxl_1855_Tome_II1_Part_6.pdf', 'Bxl_1855_Tome_II1_Part_7.pdf', 'Bxl_1856_Tome_I1_Part_1.pdf', 'Bxl_1856_Tome_I1_Part_2.pdf', 'Bxl_1856_Tome_I1_Part_3.pdf', 'Bxl_1856_Tome_I1_Part_4.pdf', 'Bxl_1856_Tome_I1_Part_5.pdf', 'Bxl_1856_Tome_II1_Part_1.pdf', 'Bxl_1856_Tome_II1_Part_2.pdf', 'Bxl_1856_Tome_II1_Part_3.pdf', 'Bxl_1856_Tome_II1_Part_4.pdf', 'Bxl_1856_Tome_II1_Part_5.pdf', 'Bxl_1856_Tome_II1_Part_6.pdf', 'Bxl_1856_Tome_II1_Part_7.pdf', 'Bxl_1856_Tome_II1_Part_8.pdf', 'Bxl_1857_Tome_I1_Part_1.pdf', 'Bxl_1857_Tome_I1_Part_2.pdf', 'Bxl_1857_Tome_I1_Part_3.pdf', 'Bxl_1857_Tome_I1_Part_4.pdf', 'Bxl_1857_Tome_I1_Part_5.pdf', 'Bxl_1857_Tome_II1_Part_1.pdf', 'Bxl_1857_Tome_II1_Part_2.pdf', 'Bxl_1857_Tome_II1_Part_3.pdf', 'Bxl_1857_Tome_II1_Part_4.pdf', 'Bxl_1857_Tome_II1_Part_5.pdf', 'Bxl_1857_Tome_II1_Part_6.pdf', 'Bxl_1858_Tome_I1_Part_1.pdf', 'Bxl_1858_Tome_I1_Part_2.pdf', 'Bxl_1858_Tome_I1_Part_3.pdf', 'Bxl_1858_Tome_I1_Part_4.pdf', 'Bxl_1858_Tome_II1_Part_1.pdf', 'Bxl_1858_Tome_II1_Part_2.pdf', 'Bxl_1858_Tome_II1_Part_3.pdf', 'Bxl_1858_Tome_II1_Part_4.pdf', 'Bxl_1858_Tome_II1_Part_5.pdf', 'Bxl_1859_Tome_I1_Part_1.pdf', 'Bxl_1859_Tome_I1_Part_2.pdf', 'Bxl_1859_Tome_I1_Part_3.pdf', 'Bxl_1859_Tome_I1_Part_4.pdf', 'Bxl_1859_Tome_II1_Part_1.pdf', 'Bxl_1859_Tome_II1_Part_2.pdf', 'Bxl_1859_Tome_II1_Part_3.pdf', 'Bxl_1859_Tome_II1_Part_4.pdf', 'Bxl_1859_Tome_II1_Part_5.pdf', 'Bxl_1860_Tome_I1_Part_1.pdf', 'Bxl_1860_Tome_I1_Part_2.pdf', 'Bxl_1860_Tome_I1_Part_3.pdf', 'Bxl_1860_Tome_I1_Part_4.pdf', 'Bxl_1860_Tome_II1_Part_1.pdf', 'Bxl_1860_Tome_II1_Part_2.pdf', 'Bxl_1860_Tome_II1_Part_3.pdf', 'Bxl_1860_Tome_II1_Part_4.pdf', 'Bxl_1860_Tome_II1_Part_5.pdf', 'Bxl_1860_Tome_II1_Part_6.pdf', 'Bxl_1861_Tome_II1_Part_1.pdf', 'Bxl_1861_Tome_II1_Part_2.pdf', 'Bxl_1861_Tome_II1_Part_3.pdf', 'Bxl_1861_Tome_II1_Part_4.pdf', 'Bxl_1861_Tome_II1_Part_5.pdf', 'Bxl_1862_Tome_I1_Part_1.pdf', 'Bxl_1862_Tome_I1_Part_2.pdf', 'Bxl_1862_Tome_I1_Part_3.pdf', 'Bxl_1862_Tome_I1_Part_4.pdf', 'Bxl_1862_Tome_I1_Part_5.pdf', 'Bxl_1862_Tome_II1_Part_1.pdf', 'Bxl_1862_Tome_II1_Part_2.pdf', 'Bxl_1862_Tome_II1_Part_3.pdf', 'Bxl_1862_Tome_II1_Part_4.pdf', 'Bxl_1862_Tome_II1_Part_5.pdf', 'Bxl_1863_Tome_I1_Part_1.pdf', 'Bxl_1863_Tome_I1_Part_2.pdf', 'Bxl_1863_Tome_I1_Part_3.pdf', 'Bxl_1863_Tome_II1_Part_1.pdf', 'Bxl_1863_Tome_II1_Part_2.pdf', 'Bxl_1863_Tome_II1_Part_3.pdf', 'Bxl_1863_Tome_II1_Part_4.pdf', 'Bxl_1863_Tome_II1_Part_5.pdf', 'Bxl_1864_Tome_I1_Part_1.pdf', 'Bxl_1864_Tome_I1_Part_2.pdf', 'Bxl_1864_Tome_I1_Part_3.pdf', 'Bxl_1864_Tome_I1_Part_4.pdf', 'Bxl_1864_Tome_I1_Part_5.pdf', 'Bxl_1865_Tome_I1_Part_1.pdf', 'Bxl_1865_Tome_I1_Part_2.pdf', 'Bxl_1865_Tome_I1_Part_3.pdf', 'Bxl_1865_Tome_I1_Part_4.pdf', 'Bxl_1865_Tome_II1_Part_1.pdf', 'Bxl_1865_Tome_II1_Part_2.pdf', 'Bxl_1865_Tome_II1_Part_3.pdf', 'Bxl_1865_Tome_II1_Part_4.pdf', 'Bxl_1865_Tome_II1_Part_5.pdf', 'Bxl_1865_Tome_II1_Part_6.pdf', 'Bxl_1865_Tome_II1_Part_7.pdf', 'Bxl_1866_Tome_I1_Part_1.pdf', 'Bxl_1866_Tome_I1_Part_2.pdf', 'Bxl_1866_Tome_I1_Part_3.pdf', 'Bxl_1866_Tome_I1_Part_4.pdf', 'Bxl_1866_Tome_I1_Part_5.pdf', 'Bxl_1866_Tome_I1_Part_6.pdf', 'Bxl_1866_Tome_II1_Part_1.pdf', 'Bxl_1866_Tome_II1_Part_2.pdf', 'Bxl_1866_Tome_II1_Part_3.pdf', 'Bxl_1866_Tome_II1_Part_4.pdf', 'Bxl_1866_Tome_II1_Part_5.pdf', 'Bxl_1866_Tome_II1_Part_6.pdf', 'Bxl_1866_Tome_II1_Part_7.pdf', 'Bxl_1867_Tome_I1_Part_1.pdf', 'Bxl_1867_Tome_I1_Part_2.pdf', 'Bxl_1867_Tome_I1_Part_3.pdf', 'Bxl_1867_Tome_I1_Part_4.pdf', 'Bxl_1867_Tome_II1_Part_1.pdf', 'Bxl_1867_Tome_II1_Part_2.pdf', 'Bxl_1867_Tome_II1_Part_3.pdf', 'Bxl_1867_Tome_II1_Part_4.pdf', 'Bxl_1867_Tome_II1_Part_5.pdf', 'Bxl_1867_Tome_II1_Part_6.pdf', 'Bxl_1868_Tome_I1_Part_1.pdf', 'Bxl_1868_Tome_I1_Part_2.pdf', 'Bxl_1868_Tome_I1_Part_3.pdf', 'Bxl_1868_Tome_II1_Part_1.pdf', 'Bxl_1868_Tome_II1_Part_2.pdf', 'Bxl_1868_Tome_II1_Part_3.pdf', 'Bxl_1868_Tome_II1_Part_4.pdf', 'Bxl_1868_Tome_II1_Part_5.pdf', 'Bxl_1868_Tome_II1_Part_6.pdf', 'Bxl_1869_Tome_I1_Part_1.pdf', 'Bxl_1869_Tome_I1_Part_2.pdf', 'Bxl_1869_Tome_I1_Part_3.pdf', 'Bxl_1869_Tome_I1_Part_4.pdf', 'Bxl_1869_Tome_I2_Part_1.pdf', 'Bxl_1869_Tome_I2_Part_2.pdf', 'Bxl_1869_Tome_I2_Part_3.pdf', 'Bxl_1869_Tome_I2_Part_4.pdf', 'Bxl_1869_Tome_II1_Part_1.pdf', 'Bxl_1869_Tome_II1_Part_2.pdf', 'Bxl_1869_Tome_II1_Part_3.pdf', 'Bxl_1869_Tome_II1_Part_4.pdf', 'Bxl_1869_Tome_II1_Part_5.pdf', 'Bxl_1870_Tome_I1_Part_1.pdf', 'Bxl_1870_Tome_I1_Part_2.pdf', 'Bxl_1870_Tome_I1_Part_3.pdf', 'Bxl_1870_Tome_I1_Part_4.pdf', 'Bxl_1870_Tome_I1_Part_5.pdf', 'Bxl_1870_Tome_I1_Part_6.pdf', 'Bxl_1870_Tome_II1_Part_1.pdf', 'Bxl_1870_Tome_II1_Part_2.pdf', 'Bxl_1870_Tome_II1_Part_3.pdf', 'Bxl_1870_Tome_II1_Part_4.pdf', 'Bxl_1870_Tome_II1_Part_5.pdf', 'Bxl_1870_Tome_II1_Part_6.pdf', 'Bxl_1870_Tome_II1_Part_7.pdf', 'Bxl_1871_Tome_I1_Part_1.pdf', 'Bxl_1871_Tome_I1_Part_2.pdf', 'Bxl_1871_Tome_I1_Part_3.pdf', 'Bxl_1871_Tome_I1_Part_4.pdf', 'Bxl_1871_Tome_I1_Part_5.pdf', 'Bxl_1871_Tome_II1_Part_1.pdf', 'Bxl_1871_Tome_II1_Part_2.pdf', 'Bxl_1871_Tome_II1_Part_3.pdf', 'Bxl_1871_Tome_II1_Part_4.pdf', 'Bxl_1871_Tome_II1_Part_5.pdf', 'Bxl_1871_Tome_II1_Part_6.pdf', 'Bxl_1871_Tome_II1_Part_7.pdf', 'Bxl_1871_Tome_II1_Part_8.pdf', 'Bxl_1872_Tome_I1_Part_1.pdf', 'Bxl_1872_Tome_I1_Part_2.pdf', 'Bxl_1872_Tome_I1_Part_3.pdf', 'Bxl_1872_Tome_I1_Part_4.pdf', 'Bxl_1872_Tome_II1_Part_1.pdf', 'Bxl_1872_Tome_II1_Part_2.pdf', 'Bxl_1872_Tome_II1_Part_3.pdf', 'Bxl_1872_Tome_II1_Part_4.pdf', 'Bxl_1872_Tome_II1_Part_5.pdf', 'Bxl_1872_Tome_II1_Part_6.pdf', 'Bxl_1873_Tome_I1_Part_1.pdf', 'Bxl_1873_Tome_I1_Part_2.pdf', 'Bxl_1873_Tome_I1_Part_3.pdf', 'Bxl_1873_Tome_I1_Part_4.pdf', 'Bxl_1874_Tome_I1_Part_1.pdf', 'Bxl_1874_Tome_I1_Part_2.pdf', 'Bxl_1874_Tome_I1_Part_3.pdf', 'Bxl_1874_Tome_I1_Part_4.pdf', 'Bxl_1874_Tome_I1_Part_5.pdf', 'Bxl_1876_Tome_I1_Part_1.pdf', 'Bxl_1876_Tome_I1_Part_2.pdf', 'Bxl_1876_Tome_I1_Part_3.pdf', 'Bxl_1876_Tome_I1_Part_4.pdf', 'Bxl_1876_Tome_II1_Part_1.pdf', 'Bxl_1876_Tome_II1_Part_2.pdf', 'Bxl_1876_Tome_II1_Part_3.pdf', 'Bxl_1876_Tome_II1_Part_4.pdf', 'Bxl_1876_Tome_II1_Part_5.pdf', 'Bxl_1876_Tome_II1_Part_6.pdf', 'Bxl_1877_Tome_I1_Part_1.pdf', 'Bxl_1877_Tome_I1_Part_2.pdf', 'Bxl_1877_Tome_I1_Part_3.pdf', 'Bxl_1877_Tome_I1_Part_4.pdf', 'Bxl_1877_Tome_I1_Part_5.pdf', 'Bxl_1877_Tome_II1_Part_1.pdf', 'Bxl_1877_Tome_II1_Part_2.pdf', 'Bxl_1877_Tome_II1_Part_3.pdf', 'Bxl_1877_Tome_II1_Part_4.pdf', 'Bxl_1877_Tome_II1_Part_5.pdf', 'Bxl_1877_Tome_II1_Part_6.pdf', 'Bxl_1877_Tome_II1_Part_7.pdf', 'Bxl_1877_Tome_II1_Part_8.pdf', 'Bxl_1878_Tome_I1_Part_1.pdf', 'Bxl_1878_Tome_I1_Part_2.pdf', 'Bxl_1878_Tome_I1_Part_3.pdf', 'Bxl_1878_Tome_I1_Part_4.pdf', 'Bxl_1878_Tome_I1_Part_5.pdf', 'Bxl_1878_Tome_II1_Part_1.pdf', 'Bxl_1878_Tome_II1_Part_2.pdf', 'Bxl_1878_Tome_II1_Part_3.pdf', 'Bxl_1878_Tome_II1_Part_4.pdf', 'Bxl_1878_Tome_II1_Part_5.pdf', 'Bxl_1878_Tome_II1_Part_6.pdf', 'Bxl_1879_Tome_I1_Part_1.pdf', 'Bxl_1879_Tome_I1_Part_2.pdf', 'Bxl_1879_Tome_I1_Part_3.pdf', 'Bxl_1879_Tome_I1_Part_4.pdf', 'Bxl_1879_Tome_I1_Part_5.pdf', 'Bxl_1879_Tome_II1_Part_1.pdf', 'Bxl_1879_Tome_II1_Part_10.pdf', 'Bxl_1879_Tome_II1_Part_11.pdf', 'Bxl_1879_Tome_II1_Part_2.pdf', 'Bxl_1879_Tome_II1_Part_3.pdf', 'Bxl_1879_Tome_II1_Part_4.pdf', 'Bxl_1879_Tome_II1_Part_5.pdf', 'Bxl_1879_Tome_II1_Part_6.pdf', 'Bxl_1879_Tome_II1_Part_7.pdf', 'Bxl_1879_Tome_II1_Part_8.pdf', 'Bxl_1879_Tome_II1_Part_9.pdf', 'Bxl_1880_Tome_I1_Part_1.pdf', 'Bxl_1880_Tome_I1_Part_10.pdf', 'Bxl_1880_Tome_I1_Part_2.pdf', 'Bxl_1880_Tome_I1_Part_3.pdf', 'Bxl_1880_Tome_I1_Part_4.pdf', 'Bxl_1880_Tome_I1_Part_5.pdf', 'Bxl_1880_Tome_I1_Part_6.pdf', 'Bxl_1880_Tome_I1_Part_7.pdf', 'Bxl_1880_Tome_I1_Part_8.pdf', 'Bxl_1880_Tome_I1_Part_9.pdf', 'Bxl_1881_Tome_I1_Part_1.pdf', 'Bxl_1881_Tome_I1_Part_10.pdf', 'Bxl_1881_Tome_I1_Part_2.pdf', 'Bxl_1881_Tome_I1_Part_3.pdf', 'Bxl_1881_Tome_I1_Part_4.pdf', 'Bxl_1881_Tome_I1_Part_5.pdf', 'Bxl_1881_Tome_I1_Part_6.pdf', 'Bxl_1881_Tome_I1_Part_7.pdf', 'Bxl_1881_Tome_I1_Part_8.pdf', 'Bxl_1881_Tome_I1_Part_9.pdf', 'Bxl_1881_Tome_I2_Part_1.pdf', 'Bxl_1881_Tome_I2_Part_10.pdf', 'Bxl_1881_Tome_I2_Part_11.pdf', 'Bxl_1881_Tome_I2_Part_12.pdf', 'Bxl_1881_Tome_I2_Part_2.pdf', 'Bxl_1881_Tome_I2_Part_3.pdf', 'Bxl_1881_Tome_I2_Part_4.pdf', 'Bxl_1881_Tome_I2_Part_5.pdf', 'Bxl_1881_Tome_I2_Part_6.pdf', 'Bxl_1881_Tome_I2_Part_7.pdf', 'Bxl_1881_Tome_I2_Part_8.pdf', 'Bxl_1881_Tome_I2_Part_9.pdf', 'Bxl_1882_Tome_I1_Part_1.pdf', 'Bxl_1882_Tome_I1_Part_2.pdf', 'Bxl_1882_Tome_I1_Part_3.pdf', 'Bxl_1882_Tome_I1_Part_4.pdf', 'Bxl_1882_Tome_I1_Part_5.pdf', 'Bxl_1882_Tome_I1_Part_6.pdf', 'Bxl_1882_Tome_I1_Part_7.pdf', 'Bxl_1882_Tome_I2_Part_1.pdf', 'Bxl_1882_Tome_I2_Part_10.pdf', 'Bxl_1882_Tome_I2_Part_11.pdf', 'Bxl_1882_Tome_I2_Part_12.pdf', 'Bxl_1882_Tome_I2_Part_13.pdf', 'Bxl_1882_Tome_I2_Part_2.pdf', 'Bxl_1882_Tome_I2_Part_3.pdf', 'Bxl_1882_Tome_I2_Part_4.pdf', 'Bxl_1882_Tome_I2_Part_5.pdf', 'Bxl_1882_Tome_I2_Part_6.pdf', 'Bxl_1882_Tome_I2_Part_7.pdf', 'Bxl_1882_Tome_I2_Part_8.pdf', 'Bxl_1882_Tome_I2_Part_9.pdf', 'Bxl_1883_Tome_I1_Part_1.pdf', 'Bxl_1883_Tome_I1_Part_2.pdf', 'Bxl_1883_Tome_I1_Part_3.pdf', 'Lkn_1874_Tome_RptAn_Part_1.pdf', 'Lkn_1874_Tome_RptAn_Part_10.pdf', 'Lkn_1874_Tome_RptAn_Part_2.pdf', 'Lkn_1874_Tome_RptAn_Part_3.pdf', 'Lkn_1874_Tome_RptAn_Part_4.pdf', 'Lkn_1874_Tome_RptAn_Part_5.pdf', 'Lkn_1874_Tome_RptAn_Part_6.pdf', 'Lkn_1874_Tome_RptAn_Part_7.pdf', 'Lkn_1874_Tome_RptAn_Part_8.pdf', 'Lkn_1874_Tome_RptAn_Part_9.pdf', 'Lkn_1879_Tome_I_Part_1.pdf', 'Lkn_1879_Tome_I_Part_2.pdf', 'Lkn_1879_Tome_I_Part_3.pdf', 'Lkn_1879_Tome_I_Part_4.pdf', 'Lkn_1879_Tome_I_Part_5.pdf', 'Lkn_1879_Tome_I_Part_6.pdf', 'Lkn_1880_Tome_I_Part_1.pdf', 'Lkn_1880_Tome_I_Part_2.pdf', 'Lkn_1880_Tome_I_Part_3.pdf', 'Lkn_1880_Tome_I_Part_4.pdf', 'Lkn_1880_Tome_RptAn_Part_1.pdf', 'Lkn_1880_Tome_RptAn_Part_2.pdf', 'Lkn_1880_Tome_RptAn_Part_3.pdf', 'Lkn_1880_Tome_RptAn_Part_4.pdf', 'Lkn_1880_Tome_RptAn_Part_5.pdf', 'Lkn_1880_Tome_RptAn_Part_6.pdf', 'Lkn_1880_Tome_RptAn_Part_7.pdf', 'Lkn_1880_Tome_RptAn_Part_8.pdf', 'Lkn_1881_Tome_I_Part_1.pdf', 'Lkn_1881_Tome_I_Part_2.pdf', 'Lkn_1881_Tome_I_Part_3.pdf', 'Lkn_1881_Tome_I_Part_4.pdf', 'Lkn_1882_Tome_I_Part_1.pdf', 'Lkn_1882_Tome_I_Part_2.pdf', 'Lkn_1882_Tome_I_Part_3.pdf', 'Lkn_1882_Tome_I_Part_4.pdf', 'Lkn_1882_Tome_I_Part_5.pdf', 'Lkn_1882_Tome_RptAn_Part_1.pdf', 'Lkn_1882_Tome_RptAn_Part_2.pdf', 'Lkn_1882_Tome_RptAn_Part_3.pdf', 'Lkn_1882_Tome_RptAn_Part_4.pdf', 'Lkn_1882_Tome_RptAn_Part_5.pdf', 'Lkn_1882_Tome_RptAn_Part_6.pdf', 'Lkn_1882_Tome_RptAn_Part_7.pdf', 'Lkn_1882_Tome_RptAn_Part_8.pdf']\n"
     ]
    }
   ],
   "source": [
    "#  Lister les fichiers pdf qui n'ont pas encore été convertis en txt\n",
    "not_converted_pdfs = []\n",
    "for pdf in pdfs:\n",
    "    file_name = os.path.splitext(pdf)[0]\n",
    "    if file_name + \".txt\" not in txts:\n",
    "        not_converted_pdfs.append(pdf)\n",
    "len(not_converted_pdfs)\n",
    "print(not_converted_pdfs)"
   ]
  },
  {
   "cell_type": "markdown",
   "metadata": {},
   "source": [
    "## Convertir les fichiers PDFs en TXT"
   ]
  },
  {
   "cell_type": "code",
   "execution_count": null,
   "metadata": {
    "tags": []
   },
   "outputs": [],
   "source": [
    "for pdf in not_converted_pdfs:\n",
    "    print(pdf)\n",
    "    try:\n",
    "        text = textract.process(os.path.join(pdf_path, pdf))\n",
    "        with open(os.path.join(txt_path, f'{os.path.splitext(pdf)[0]}.txt'), 'wb') as output_file:\n",
    "            output_file.write(text)\n",
    "    except:\n",
    "        print(\"Error with following file:\", pdf)"
   ]
  },
  {
   "cell_type": "markdown",
   "metadata": {},
   "source": [
    "## Créer un grand fichier 'corpus': commande bash\n",
    "\n",
    "- `cat` permet d'imprimer le contenu de fichiers textes\n",
    "- Un pattern (ici `../*.txt`) permet d'appliquer la commande sur tous les fichiers qui matchent\n",
    "- `>` permet de rediriger le résultat de la commande précédente dans un fichier\n",
    "\n",
    "Pour en savoir plus sur les flux de redirections :\n",
    "https://openclassrooms.com/fr/courses/43538-reprenez-le-controle-a-laide-de-linux/40444-les-flux-de-redirection"
   ]
  },
  {
   "cell_type": "code",
   "execution_count": null,
   "metadata": {
    "tags": []
   },
   "outputs": [],
   "source": [
    "!cat ../data/txt/*.txt > ../data/all.txt"
   ]
  },
  {
   "cell_type": "markdown",
   "metadata": {},
   "source": [
    "## Compter le nombre de mots dans l'ensemble du corpus"
   ]
  },
  {
   "cell_type": "code",
   "execution_count": null,
   "metadata": {
    "tags": []
   },
   "outputs": [],
   "source": [
    "!wc ../data/all.txt"
   ]
  },
  {
   "cell_type": "markdown",
   "metadata": {},
   "source": [
    "On obtient ici, dans l'ordre, le nombre de lignes, de mots, d'octets.\n",
    "\n",
    "Pour en savoir plus sur la commande wc: https://fr.wikipedia.org/wiki/Wc_(Unix)"
   ]
  }
 ],
 "metadata": {
  "kernelspec": {
   "display_name": "Python 3 (ipykernel)",
   "language": "python",
   "name": "python3"
  },
  "language_info": {
   "codemirror_mode": {
    "name": "ipython",
    "version": 3
   },
   "file_extension": ".py",
   "mimetype": "text/x-python",
   "name": "python",
   "nbconvert_exporter": "python",
   "pygments_lexer": "ipython3",
   "version": "3.9.7"
  }
 },
 "nbformat": 4,
 "nbformat_minor": 4
}
