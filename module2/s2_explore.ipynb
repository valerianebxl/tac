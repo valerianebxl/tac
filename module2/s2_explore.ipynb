{
 "cells": [
  {
   "cell_type": "markdown",
   "metadata": {},
   "source": [
    "# Explorer un corpus"
   ]
  },
  {
   "cell_type": "markdown",
   "metadata": {},
   "source": [
    "## Imports"
   ]
  },
  {
   "cell_type": "code",
   "execution_count": 1,
   "metadata": {},
   "outputs": [],
   "source": [
    "from collections import defaultdict\n",
    "import os\n",
    "\n",
    "import matplotlib.pyplot as plt\n",
    "import numpy as np"
   ]
  },
  {
   "cell_type": "markdown",
   "metadata": {},
   "source": [
    "## Compter le nombre de documents dans le corpus"
   ]
  },
  {
   "cell_type": "code",
   "execution_count": 2,
   "metadata": {},
   "outputs": [],
   "source": [
    "path = \"../data/txt/\"\n",
    "files = sorted(os.listdir(path)) # stocker dans 'files' la liste des fichiers contenus dans le dossier 'txt'"
   ]
  },
  {
   "cell_type": "code",
   "execution_count": 3,
   "metadata": {},
   "outputs": [
    {
     "data": {
      "text/plain": [
       "2828"
      ]
     },
     "execution_count": 3,
     "metadata": {},
     "output_type": "execute_result"
    }
   ],
   "source": [
    "len(files)"
   ]
  },
  {
   "cell_type": "markdown",
   "metadata": {},
   "source": [
    "## Explorer les noms de fichier"
   ]
  },
  {
   "cell_type": "markdown",
   "metadata": {},
   "source": [
    "Nous allons manipuler ici les chaines de caractères.\n",
    "\n",
    "Il s'agit de la classe `str` en Python.\n",
    "\n",
    "Pour en savoir plus : https://openclassrooms.com/fr/courses/235344-apprenez-a-programmer-en-python/231888-creez-votre-premier-objet-les-chaines-de-caracteres"
   ]
  },
  {
   "cell_type": "code",
   "execution_count": 4,
   "metadata": {},
   "outputs": [],
   "source": [
    "chaine = 'Bxl_1849_Tome_II1_Part_5.txt'"
   ]
  },
  {
   "cell_type": "code",
   "execution_count": 5,
   "metadata": {},
   "outputs": [
    {
     "data": {
      "text/plain": [
       "str"
      ]
     },
     "execution_count": 5,
     "metadata": {},
     "output_type": "execute_result"
    }
   ],
   "source": [
    "type(chaine)"
   ]
  },
  {
   "cell_type": "code",
   "execution_count": 6,
   "metadata": {},
   "outputs": [
    {
     "data": {
      "text/plain": [
       "['Bxl', '1849', 'Tome', 'II1', 'Part', '5.txt']"
      ]
     },
     "execution_count": 6,
     "metadata": {},
     "output_type": "execute_result"
    }
   ],
   "source": [
    "# la méthode split\n",
    "chaine_split = chaine.split('_')\n",
    "chaine_split"
   ]
  },
  {
   "cell_type": "code",
   "execution_count": 7,
   "metadata": {},
   "outputs": [
    {
     "data": {
      "text/plain": [
       "'1849'"
      ]
     },
     "execution_count": 7,
     "metadata": {},
     "output_type": "execute_result"
    }
   ],
   "source": [
    "# Accéder à l'année\n",
    "year = chaine_split[1]\n",
    "year"
   ]
  },
  {
   "cell_type": "code",
   "execution_count": 8,
   "metadata": {},
   "outputs": [
    {
     "data": {
      "text/plain": [
       "'184'"
      ]
     },
     "execution_count": 8,
     "metadata": {},
     "output_type": "execute_result"
    }
   ],
   "source": [
    "# Manipuler les str pour convertir une année en décennie\n",
    "year[:3]"
   ]
  },
  {
   "cell_type": "code",
   "execution_count": 9,
   "metadata": {},
   "outputs": [
    {
     "data": {
      "text/plain": [
       "'9'"
      ]
     },
     "execution_count": 9,
     "metadata": {},
     "output_type": "execute_result"
    }
   ],
   "source": [
    "year[-1]"
   ]
  },
  {
   "cell_type": "code",
   "execution_count": 10,
   "metadata": {},
   "outputs": [
    {
     "data": {
      "text/plain": [
       "'1840s'"
      ]
     },
     "execution_count": 10,
     "metadata": {},
     "output_type": "execute_result"
    }
   ],
   "source": [
    "year[:3] + '0s'"
   ]
  },
  {
   "cell_type": "markdown",
   "metadata": {},
   "source": [
    "## Quelques statistiques"
   ]
  },
  {
   "cell_type": "code",
   "execution_count": 11,
   "metadata": {},
   "outputs": [
    {
     "name": "stdout",
     "output_type": "stream",
     "text": [
      "['1847', '1848', '1849', '1850', '1851', '1852', '1853', '1854', '1855', '1856', '1857', '1858', '1859', '1860', '1861', '1862', '1863', '1864', '1865', '1866', '1867', '1868', '1869', '1870', '1871', '1872', '1873', '1874', '1875', '1876', '1877', '1878', '1879', '1880', '1881', '1882', '1883', '1884', '1885', '1886', '1887', '1888', '1889', '1890', '1891', '1892', '1893', '1894', '1895', '1896', '1897', '1898', '1899', '1900', '1901', '1902', '1903', '1904', '1905', '1906', '1907', '1908', '1909', '1910', '1911', '1912', '1913', '1914', '1915', '1916', '1917', '1918', '1919', '1920', '1921', '1922', '1923', '1924', '1925', '1926', '1927', '1928', '1929', '1930', '1931', '1932', '1933', '1934', '1935', '1936', '1937', '1938', '1939', '1940', '1941', '1942', '1943', '1944', '1945', '1946', '1947', '1948', '1949', '1950', '1951', '1952', '1953', '1954', '1955', '1956', '1957', '1958', '1959', '1960', '1961', '1962', '1963', '1964', '1965', '1966', '1967', '1968', '1969', '1970', '1971', '1972', '1973', '1974', '1975', '1976', '1977', '1978']\n",
      "\n",
      "Il y a a priori 132 années à traiter dans notre corpus\n"
     ]
    }
   ],
   "source": [
    "all_years = [str(year) for year in range(1847, 1979)]\n",
    "print(all_years)\n",
    "print(f\"\\nIl y a a priori {len(all_years)} années à traiter dans notre corpus\")"
   ]
  },
  {
   "cell_type": "code",
   "execution_count": 12,
   "metadata": {
    "tags": []
   },
   "outputs": [],
   "source": [
    "count_decade = defaultdict(int) # initialiser le dico des décennies\n",
    "count_years = defaultdict(int)\n",
    "count_cities = defaultdict(int) # initialiser le dico des villes\n",
    "count_tomes = defaultdict(int) # initialiser le dico pour les tomes\n",
    "covered_years = set() # initialiser un set de données pour les années couvertes (liste univoque)\n",
    "\n",
    "for f in files: # pour tous les fichiers contenus dans 'files'\n",
    "    if \"_\" in f and f.endswith(\"txt\"): # si le nom du fichier contient '_' et que le fichier termine par l'extension 'txt' alors\n",
    "        elems = f.split(\"_\") # splitter les noms et les stocker dans le tableau 'elems'\n",
    "        city = elems[0] # le 1er élément de chaque tableau contient la ville à stocker dans le dico approprié\n",
    "        year = elems[1] # le 2e élément contient l'année à stocker\n",
    "        tome = elems[3] # le 4e élément contient le numéro du tome\n",
    "        covered_years.add(year) # ajouter au set les années couvertes par le corpus\n",
    "        decade = year[:3] + \"0s\" # transformer les années en décades\n",
    "        count_decade[decade] += 1 # compter le nombre de décennies\n",
    "        count_cities[city] += 1 # le nombre de villes\n",
    "        count_tomes[tome] += 1 # et le nom des tomes\n",
    "        count_years[year] += 1\n",
    "    else:\n",
    "        print(f\"Anomalous file: {f}\") # sinon afficher le nom du fichier corrompus"
   ]
  },
  {
   "cell_type": "code",
   "execution_count": 13,
   "metadata": {},
   "outputs": [
    {
     "name": "stdout",
     "output_type": "stream",
     "text": [
      "Il y a 2677 bulletins de Bruxelles and 151 de Laeken\n"
     ]
    }
   ],
   "source": [
    "print(f\"Il y a {count_cities['Bxl']} bulletins de Bruxelles and {count_cities['Lkn']} de Laeken\")"
   ]
  },
  {
   "cell_type": "code",
   "execution_count": 14,
   "metadata": {},
   "outputs": [
    {
     "name": "stdout",
     "output_type": "stream",
     "text": [
      "2646 documents sont des bulletins et 182 documents sont des rapports annuels\n",
      "123\n",
      "defaultdict(<class 'int'>, {'1847': 5, '1848': 3, '1849': 12, '1850': 11, '1851': 12, '1852': 10, '1854': 9, '1855': 13, '1856': 13, '1857': 11, '1858': 9, '1859': 9, '1860': 10, '1861': 5, '1862': 10, '1863': 8, '1864': 5, '1865': 11, '1866': 13, '1867': 10, '1868': 9, '1869': 13, '1870': 13, '1871': 13, '1872': 10, '1873': 4, '1874': 15, '1876': 10, '1877': 13, '1878': 11, '1879': 22, '1880': 22, '1881': 26, '1882': 33, '1883': 25, '1884': 25, '1885': 33, '1886': 29, '1887': 25, '1888': 31, '1889': 21, '1890': 33, '1891': 28, '1892': 26, '1893': 25, '1894': 19, '1895': 8, '1896': 30, '1897': 25, '1898': 21, '1899': 30, '1900': 24, '1901': 35, '1902': 18, '1903': 33, '1904': 20, '1905': 29, '1906': 16, '1907': 19, '1908': 16, '1909': 23, '1910': 36, '1911': 38, '1912': 38, '1913': 36, '1914': 2, '1915': 5, '1918': 1, '1919': 14, '1920': 19, '1921': 9, '1922': 4, '1923': 22, '1924': 7, '1925': 15, '1926': 41, '1927': 13, '1928': 24, '1929': 24, '1930': 31, '1931': 18, '1932': 25, '1933': 10, '1934': 10, '1935': 18, '1936': 27, '1937': 24, '1938': 19, '1939': 24, '1945': 18, '1946': 21, '1947': 22, '1948': 20, '1949': 21, '1950': 25, '1951': 25, '1952': 25, '1953': 31, '1954': 29, '1955': 31, '1956': 37, '1957': 35, '1958': 36, '1959': 38, '1960': 39, '1961': 33, '1962': 39, '1963': 42, '1964': 42, '1965': 44, '1966': 52, '1967': 42, '1968': 40, '1969': 47, '1970': 55, '1971': 33, '1972': 53, '1973': 46, '1974': 44, '1975': 40, '1976': 38, '1977': 29, '1978': 32})\n",
      "\n",
      "Il manque par conséquent, 9 années dans notre corpus\n"
     ]
    }
   ],
   "source": [
    "nb_rap = count_tomes['RptAn'] # stocker les rapports dans une variable\n",
    "print(f\"{len(files) - nb_rap} documents sont des bulletins et {nb_rap} documents sont des rapports annuels\") # effectuer la soustraction pour distinguer les bulletins des rapports\n",
    "\n",
    "print(len(covered_years))\n",
    "\n",
    "print(count_years)\n",
    "\n",
    "print(f\"\\nIl manque par conséquent, {len(all_years)-len(covered_years)} années dans notre corpus\")"
   ]
  },
  {
   "cell_type": "code",
   "execution_count": 15,
   "metadata": {},
   "outputs": [
    {
     "name": "stdout",
     "output_type": "stream",
     "text": [
      "Années manquantes: 1853, 1875, 1916, 1917, 1940, 1941, 1942, 1943, 1944\n"
     ]
    }
   ],
   "source": [
    "missing_years = [y for y in all_years if y not in covered_years]\n",
    "print(f\"Années manquantes: {', '.join(missing_years)}\")"
   ]
  },
  {
   "cell_type": "markdown",
   "metadata": {},
   "source": [
    "## Visualisation du nombre de bulletins par décennies\n",
    "\n",
    "Ces visualisations sont obtenus avec la librairie Matplotlib.\n",
    "\n",
    "Pour en savoir plus : https://openclassrooms.com/fr/courses/4452741-decouvrez-les-librairies-python-pour-la-data-science/4740942-maitrisez-les-possibilites-offertes-par-matplotlib."
   ]
  },
  {
   "cell_type": "code",
   "execution_count": 16,
   "metadata": {},
   "outputs": [
    {
     "data": {
      "image/png": "[encoded data removed]",
      "text/plain": [
       "<Figure size 432x288 with 1 Axes>"
      ]
     },
     "metadata": {
      "needs_background": "light"
     },
     "output_type": "display_data"
    }
   ],
   "source": [
    "index = np.arange(len(count_decade))\n",
    "plt.bar(index, count_decade.values())\n",
    "plt.xlabel('Décennie')\n",
    "plt.ylabel('# bulletins')\n",
    "plt.xticks(index, count_decade.keys(), fontsize=8, rotation=30)\n",
    "plt.title('Évolution du nombre de bulletins')\n",
    "plt.show()"
   ]
  },
  {
   "cell_type": "code",
   "execution_count": null,
   "metadata": {},
   "outputs": [],
   "source": []
  }
 ],
 "metadata": {
  "kernelspec": {
   "display_name": "Python 3 (ipykernel)",
   "language": "python",
   "name": "python3"
  },
  "language_info": {
   "codemirror_mode": {
    "name": "ipython",
    "version": 3
   },
   "file_extension": ".py",
   "mimetype": "text/x-python",
   "name": "python",
   "nbconvert_exporter": "python",
   "pygments_lexer": "ipython3",
   "version": "3.9.7"
  }
 },
 "nbformat": 4,
 "nbformat_minor": 4
}
