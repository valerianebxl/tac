{
 "cells": [
  {
   "attachments": {},
   "cell_type": "markdown",
   "metadata": {},
   "source": [
    "# Base de données: interroger une base de données MySQL"
   ]
  },
  {
   "attachments": {},
   "cell_type": "markdown",
   "metadata": {},
   "source": [
    "## Imports"
   ]
  },
  {
   "cell_type": "code",
   "execution_count": 1,
   "metadata": {},
   "outputs": [],
   "source": [
    "import os # exécuter du bash dans l'os?\n",
    "import sqlite3 # exécuter du sql avec python grâce à sqlite3\n",
    "import zipfile # pour dézipper\n",
    "from pathlib import Path # se promener dans l'arborescence des fichiers\n",
    "import requests # pour adresser sur le web\n",
    "\n",
    "# Créer un dossier data avec 'mkdir' si le chemin n'existe pas encore\n",
    "\n",
    "if not os.path.exists(\"../data\"):\n",
    "    os.mkdir(\"../data\")\n",
    "\n",
    "    "
   ]
  },
  {
   "attachments": {},
   "cell_type": "markdown",
   "metadata": {},
   "source": [
    "## Créer une base de données SQLite"
   ]
  },
  {
   "cell_type": "code",
   "execution_count": 2,
   "metadata": {},
   "outputs": [],
   "source": [
    "# Créer un répertoire DB s'il n'existe pas encore\n",
    "\n",
    "db_path = '../data/db'\n",
    "nom_variable = '../data/essai'\n",
    "\n",
    "if not os.path.exists(nom_variable):\n",
    "    os.mkdir(nom_variable)"
   ]
  },
  {
   "cell_type": "code",
   "execution_count": 5,
   "metadata": {},
   "outputs": [
    {
     "name": "stdout",
     "output_type": "stream",
     "text": [
      "chinook.zip\n",
      "03\n"
     ]
    }
   ],
   "source": [
    "# Récupérer le fichier ZIP qui contient la DB de test\n",
    "\n",
    "url = \"https://www.sqlitetutorial.net/wp-content/uploads/2018/03/chinook.zip\"\n",
    "\n",
    "filename = url.split(\"/\")[-1] # préparer le nom du fichier à partir de l'url en parcourant à l'envers et en prenant le dernier élément après avoir spliter l'url à l'aide du \"/\"\n",
    "filename2 = url.split(\"/\")[-2]\n",
    "\n",
    "print(filename)\n",
    "print(filename2)\n",
    "\n",
    "# Récupérer le fichier zip dans la RAM\n",
    "\n",
    "response = requests.get(url) # adressage avec 'get'"
   ]
  },
  {
   "cell_type": "code",
   "execution_count": 6,
   "metadata": {},
   "outputs": [],
   "source": [
    "# Ecrire le fichier sur le disque avec la méthode 'open' qui joint le nom du fichier à l'endroit d'écriture\n",
    "\n",
    "with open(os.path.join(db_path, filename), 'wb') as f: # fonction définie comme 'f' pour écrire le contenu de 'response' qui chope le contenu à l'endroit de l'url\n",
    "    f.write(response.content)"
   ]
  },
  {
   "cell_type": "code",
   "execution_count": 7,
   "metadata": {},
   "outputs": [],
   "source": [
    "# help(open) # 'w' pour écrire le contenu, 'b' en mode binaire"
   ]
  },
  {
   "cell_type": "code",
   "execution_count": 8,
   "metadata": {},
   "outputs": [],
   "source": [
    "# Extraire le zip pour obtenir la db\n",
    "\n",
    "with zipfile.ZipFile(os.path.join(db_path, filename), 'r') as zip_ref: # lire le contenu du fichier zip et extraire le contenu dans le dossier 'db' et lui donner le nom du fichier voulu\n",
    "    zip_ref.extractall(db_path)"
   ]
  },
  {
   "attachments": {},
   "cell_type": "markdown",
   "metadata": {},
   "source": [
    "## Schéma de la base de données\n",
    "\n",
    "<img src=\"https://cdn.sqlitetutorial.net/wp-content/uploads/2015/11/sqlite-sample-database-color.jpg\" />"
   ]
  },
  {
   "attachments": {},
   "cell_type": "markdown",
   "metadata": {},
   "source": [
    "## Se connecter à la base de données"
   ]
  },
  {
   "cell_type": "code",
   "execution_count": 9,
   "metadata": {},
   "outputs": [],
   "source": [
    "conn = sqlite3.connect(os.path.join(db_path, \"chinook.db\")) # stocker la requête de connexion dans une variable\n",
    "c = conn.cursor() # nommer le curseur pour exécuter les requêtes sur la db"
   ]
  },
  {
   "attachments": {},
   "cell_type": "markdown",
   "metadata": {},
   "source": [
    "## Trouver l'identifiant de Miles Davis"
   ]
  },
  {
   "cell_type": "code",
   "execution_count": 21,
   "metadata": {
    "tags": []
   },
   "outputs": [
    {
     "name": "stdout",
     "output_type": "stream",
     "text": [
      "<sqlite3.Cursor object at 0x7f480434f650>\n",
      "68\n"
     ]
    }
   ],
   "source": [
    "artist = 'Miles Davis'\n",
    "\n",
    "query1 = f\"\"\"\n",
    "    SELECT\n",
    "        artistId\n",
    "    FROM\n",
    "        artists\n",
    "    WHERE\n",
    "        name = '{artist}';\n",
    "\"\"\"\n",
    "# écrire la requête dans un f-string \n",
    "\n",
    "ad = c.execute(query1)\n",
    "artist_id = c.fetchone()[0]\n",
    "\n",
    "print(ad)\n",
    "print(artist_id)"
   ]
  },
  {
   "cell_type": "code",
   "execution_count": 22,
   "metadata": {},
   "outputs": [
    {
     "name": "stdout",
     "output_type": "stream",
     "text": [
      "Help on NoneType object:\n",
      "\n",
      "class NoneType(object)\n",
      " |  Methods defined here:\n",
      " |  \n",
      " |  __bool__(self, /)\n",
      " |      self != 0\n",
      " |  \n",
      " |  __repr__(self, /)\n",
      " |      Return repr(self).\n",
      " |  \n",
      " |  ----------------------------------------------------------------------\n",
      " |  Static methods defined here:\n",
      " |  \n",
      " |  __new__(*args, **kwargs) from builtins.type\n",
      " |      Create and return a new object.  See help(type) for accurate signature.\n",
      "\n"
     ]
    }
   ],
   "source": [
    "help(c.fetchone())"
   ]
  },
  {
   "attachments": {},
   "cell_type": "markdown",
   "metadata": {},
   "source": [
    "## Trouver le nom du premier artiste de la DB"
   ]
  },
  {
   "cell_type": "code",
   "execution_count": 38,
   "metadata": {},
   "outputs": [
    {
     "name": "stdout",
     "output_type": "stream",
     "text": [
      "AC/DC\n"
     ]
    }
   ],
   "source": [
    "query1b = f\"\"\"\n",
    "    SELECT\n",
    "        name\n",
    "    FROM\n",
    "        artists\n",
    "    WHERE\n",
    "        artistId = 1;\n",
    "\"\"\"\n",
    "c.execute(query1b)\n",
    "name = c.fetchone()[0]\n",
    "\n",
    "print(name)"
   ]
  },
  {
   "cell_type": "code",
   "execution_count": 59,
   "metadata": {},
   "outputs": [
    {
     "name": "stdout",
     "output_type": "stream",
     "text": [
      "275\n",
      "{'Pearl Jam', 'Habib Koité and Bamada', 'Audioslave', 'UB40', 'João Gilberto', \"Christopher O'Riley\", 'C. Monteverdi, Nigel Rogers - Chiaroscuro; London Baroque; London Cornett & Sackbu', 'Accept', 'Led Zeppelin', 'Jota Quest', 'Battlestar Galactica', 'Santana Feat. Rob Thomas', 'Julian Bream', 'Chico Buarque', 'Gerald Moore', 'Stereo Maracana', 'Adrian Leaper & Doreen de Feis', 'Elis Regina', 'Eugene Ormandy', 'Anne-Sophie Mutter, Herbert Von Karajan & Wiener Philharmoniker', 'The 12 Cellists of The Berlin Philharmonic', 'Apocalyptica', 'Motörhead', 'Toquinho & Vinícius', 'Chicago Symphony Orchestra & Fritz Reiner', 'Antal Doráti & London Symphony Orchestra', 'Vinícius E Qurteto Em Cy', 'Soundgarden', 'Academy of St. Martin in the Fields & Sir Neville Marriner', 'Velvet Revolver', 'Felix Schmidt, London Symphony Orchestra & Rafael Frühbeck de Burgos', 'James Brown', 'Raimundos', 'Deep Purple', 'Temple of the Dog', 'Fernanda Porto', 'Marvin Gaye', 'Legião Urbana', 'Alberto Turco & Nova Schola Gregoriana', 'The Black Crowes', 'The Doors', 'Hilary Hahn, Jeffrey Kahane, Los Angeles Chamber Orchestra & Margaret Batjer', 'Alanis Morissette', 'A Cor Do Som', 'Santana Feat. Maná', 'Otto Klemperer & Philharmonia Orchestra', 'Santana Feat. Eagle-Eye Cherry', 'Simply Red', 'R.E.M. Feat. Kate Pearson', 'Caetano Veloso', 'Jackson Browne', 'Santana', 'Charlie Brown Jr.', 'London Symphony Orchestra & Sir Charles Mackerras', 'Royal Philharmonic Orchestra & Sir Thomas Beecham', 'Spyro Gyra', 'Ton Koopman', 'Leonard Bernstein & New York Philharmonic', 'Lulu Santos', 'Vinícius De Moraes', 'The Tea Party', 'Mela Tenenbaum, Pro Musica Prague & Richard Kapp', 'Jorge Vercilo', 'BackBeat', 'Nicolaus Esterhazy Sinfonia', 'Frank Sinatra', 'Lost', 'Battlestar Galactica (Classic)', 'Kid Abelha', 'Terry Bozzio, Tony Levin & Steve Stevens', 'Black Label Society', 'Aaron Goldberg', 'Xis', 'Sir Georg Solti & Wiener Philharmoniker', 'Calexico', 'Emerson String Quartet', 'Iron Maiden', 'The Cult', 'Faith No More', 'Cidade Negra', 'Various Artists', 'David Coverdale', 'Rodox', 'Alice In Chains', 'Sandra De Sá', 'Dread Zeppelin', 'Bebel Gilberto', 'Gustav Mahler', 'Nega Gizza', 'Ed Motta', 'Dhani Harrison & Jakob Dylan', 'Pedro Luís E A Parede', 'Zeca Pagodinho', 'Rush', 'Miles Davis', 'Skank', \"Youssou N'Dour\", 'Aerosmith', 'Santana Feat. Eric Clapton', 'Jaguares', 'Buddy Guy', 'Hermeto Pascoal', 'Raul Seixas', 'Black Eyed Peas', 'Yehudi Menuhin', 'AC/DC', 'Marillion', \"Jack's Mannequin & Mick Fleetwood\", 'Def Leppard', 'Otto', 'O Rappa', 'Barão Vermelho', 'Nação Zumbi', 'Whitesnake', 'R.E.M.', 'Snow Patrol', 'Regina Spektor', 'Cake', 'Matisyahu', 'Os Paralamas Do Sucesso', 'Mötley Crüe', 'Vinicius, Toquinho & Quarteto Em Cy', 'Wilhelm Kempff', 'Corinne Bailey Rae', 'Luciana Souza/Romero Lubambo', 'Orchestra of The Age of Enlightenment', 'Milton Nascimento & Bebeto', 'Planet Hemp', \"Aerosmith & Sierra Leone's Refugee Allstars\", 'Chico Science & Nação Zumbi', 'Sergei Prokofiev & Yuri Temirkanov', 'The Rolling Stones', 'Chor der Wiener Staatsoper, Herbert Von Karajan & Wiener Philharmoniker', 'Roger Norrington, London Classical Players', 'Gene Krupa', 'Nando Reis', 'Antônio Carlos Jobim', 'Foo Fighters', 'Martin Roscoe', 'Milton Nascimento', 'The Police', 'DJ Dolores & Orchestra Santa Massa', 'Los Lonely Boys', 'Orchestre Révolutionnaire et Romantique & John Eliot Gardiner', 'Baby Consuelo', 'Gonzaguinha', 'Pink Floyd', 'Stevie Ray Vaughan & Double Trouble', 'Choir Of Westminster Abbey & Simon Preston', 'Joe Satriani', 'Edson, DJ Marky & DJ Patife Featuring Fernanda Porto', 'Philip Glass Ensemble', 'Banda Black Rio', 'Red Hot Chili Peppers', 'Berliner Philharmoniker & Herbert Von Karajan', 'Gustavo & Andres Veiga & Salazar', 'JET', 'Los Hermanos', 'Sir Georg Solti, Sumi Jo & Wiener Philharmoniker', 'Tim Maia', 'Jack Johnson', 'Emanuel Ax, Eugene Ormandy & Philadelphia Orchestra', 'Academy of St. Martin in the Fields, Sir Neville Marriner & Thurston Dart', 'Philharmonia Orchestra & Sir Neville Marriner', 'Black Sabbath', 'Instituto', 'The Clash', 'Chris Cornell', 'Billy Cobham', 'Jorge Ben', \"Charles Dutoit & L'Orchestre Symphonique de Montréal\", 'Gilberto Gil', \"Kent Nagano and Orchestre de l'Opéra de Lyon\", 'Barry Wordsworth & BBC Concert Orchestra', 'Kiss', 'Judas Priest', 'Body Count', 'Peter Tosh', 'Jimi Hendrix', 'U2', 'Berliner Philharmoniker & Hans Rosbaud', 'The Postal Service', 'Herbert Von Karajan, Mirella Freni & Wiener Philharmoniker', 'Dennis Chambers', 'Godsmack', 'Richard Marlow & The Choir of Trinity College, Cambridge', 'The Who', 'Van Halen', 'Metallica', 'Santana Feat. Dave Matthews', 'Michael Tilson Thomas & San Francisco Symphony', 'Os Mutantes', 'Itzhak Perlman', 'Falamansa', 'Aquaman', 'Yo-Yo Ma', 'Cláudio Zoli', 'Boston Symphony Orchestra & Seiji Ozawa', 'Amy Winehouse', 'Queen', 'Equale Brass Ensemble, John Eliot Gardiner & Munich Monteverdi Orchestra and Choir', 'Djavan', 'Santana Feat. The Project G&B', 'Funk Como Le Gusta', 'Stone Temple Pilots', 'Ozzy Osbourne', 'Karsh Kale', 'Fretwork', 'Heroes', 'Santana Feat. Lauryn Hill & Cee-Lo', 'Michele Campanella', 'Green Day', 'Men At Work', 'Bruce Dickinson', 'James Levine', 'R.E.M. Feat. KRS-One', 'The Office', 'The Posies', 'Creedence Clearwater Revival', 'Christina Aguilera featuring BigElf', 'Aisha Duo', 'House Of Pain', 'Frank Zappa & Captain Beefheart', 'Motörhead & Girlschool', 'Olodum', 'English Concert & Trevor Pinnock', 'Academy of St. Martin in the Fields, John Birch, Sir Neville Marriner & Sylvia McNair', 'Göteborgs Symfoniker & Neeme Järvi', 'Chicago Symphony Chorus, Chicago Symphony Orchestra & Sir Georg Solti', 'Ben Harper', 'Academy of St. Martin in the Fields, Sir Neville Marriner & William Bennett', 'Mundo Livre S/A', 'O Terço', 'Avril Lavigne', 'Passengers', 'Big & Rich', 'Cássia Eller', 'Smashing Pumpkins', 'Nash Ensemble', 'Incognito', 'Britten Sinfonia, Ivor Bolton & Lesley Garrett', 'Eric Clapton', 'Sabotage E Instituto', 'Berliner Philharmoniker, Claudio Abbado & Sabine Meyer', \"Paul D'Ianno\", 'Ney Matogrosso', 'Scholars Baroque Ensemble', 'Les Arts Florissants & William Christie', 'Page & Plant', 'Os Cariocas', 'Marisa Monte', \"Guns N' Roses\", 'Luiz Melodia', 'Vinícius De Moraes & Baden Powell', 'João Suplicy', 'Nirvana', 'Mônica Marianno', 'Titãs', 'The Flaming Lips', 'Pedro Luís & A Parede', 'Academy of St. Martin in the Fields Chamber Ensemble & Sir Neville Marriner', 'Vinícius E Odette Lara', 'Seu Jorge', 'Scorpions', 'Santana Feat. Everlast', 'Luciano Pavarotti', 'Lenny Kravitz', 'Azymuth', 'System Of A Down', 'Maurizio Pollini', 'Marcos Valle', 'Edo de Waart & San Francisco Symphony', 'Jamiroquai', \"The King's Singers\", 'Aaron Copland & London Symphony Orchestra'}\n"
     ]
    }
   ],
   "source": [
    "query1c = f\"\"\"\n",
    "    SELECT\n",
    "        name\n",
    "    FROM\n",
    "        artists;\n",
    "\"\"\"\n",
    "name_artists = set()\n",
    "\n",
    "for row in c.execute(query1c):\n",
    "    name_artists.add(row[0])\n",
    "\n",
    "print(len(name_artists))\n",
    "print(name_artists)"
   ]
  },
  {
   "cell_type": "code",
   "execution_count": 75,
   "metadata": {},
   "outputs": [
    {
     "name": "stdout",
     "output_type": "stream",
     "text": [
      "275\n",
      "{'263', '107', '156', '15', '242', '123', '201', '79', '38', '192', '147', '105', '189', '208', '120', '257', '179', '53', '91', '127', '237', '268', '164', '104', '218', '231', '83', '185', '176', '74', '219', '170', '5', '187', '230', '117', '6', '70', '94', '89', '14', '63', '161', '77', '182', '65', '146', '221', '28', '52', '275', '131', '149', '78', '246', '239', '23', '87', '145', '260', '165', '226', '11', '143', '175', '169', '140', '110', '160', '92', '114', '236', '122', '266', '224', '125', '10', '150', '212', '233', '210', '56', '171', '228', '61', '42', '43', '72', '136', '157', '85', '139', '158', '255', '50', '199', '188', '130', '58', '247', '44', '223', '46', '21', '234', '113', '244', '57', '135', '41', '88', '121', '207', '250', '106', '29', '132', '90', '206', '99', '193', '64', '39', '51', '126', '220', '248', '36', '138', '166', '184', '240', '108', '33', '245', '17', '97', '134', '103', '34', '35', '95', '45', '30', '191', '37', '102', '151', '200', '225', '249', '12', '183', '213', '195', '256', '80', '177', '180', '258', '174', '48', '68', '129', '27', '96', '98', '186', '214', '216', '271', '86', '241', '202', '118', '251', '181', '62', '261', '270', '73', '115', '159', '100', '148', '172', '269', '7', '163', '152', '81', '19', '272', '3', '59', '252', '144', '235', '198', '109', '190', '253', '13', '111', '133', '60', '197', '55', '204', '9', '1', '82', '124', '173', '47', '262', '25', '75', '40', '84', '227', '254', '264', '16', '274', '66', '168', '222', '229', '243', '273', '20', '128', '76', '196', '32', '69', '8', '205', '259', '162', '217', '267', '142', '4', '49', '211', '24', '112', '194', '232', '153', '2', '178', '71', '167', '101', '141', '203', '31', '67', '26', '18', '93', '119', '215', '22', '116', '54', '155', '238', '209', '137', '265', '154'}\n"
     ]
    }
   ],
   "source": [
    "query1d = f\"\"\"\n",
    "    SELECT\n",
    "        artistId\n",
    "    FROM\n",
    "        artists;\n",
    "\"\"\"\n",
    "id_artists = set()\n",
    "\n",
    "for row in c.execute(query1d):\n",
    "    id_artists.add(str(row[0]))\n",
    "\n",
    "print(len(id_artists))\n",
    "print(id_artists)"
   ]
  },
  {
   "cell_type": "code",
   "execution_count": 48,
   "metadata": {},
   "outputs": [
    {
     "name": "stdout",
     "output_type": "stream",
     "text": [
      "Help on Cursor object:\n",
      "\n",
      "class Cursor(builtins.object)\n",
      " |  SQLite database cursor class.\n",
      " |  \n",
      " |  Methods defined here:\n",
      " |  \n",
      " |  __init__(self, /, *args, **kwargs)\n",
      " |      Initialize self.  See help(type(self)) for accurate signature.\n",
      " |  \n",
      " |  __iter__(self, /)\n",
      " |      Implement iter(self).\n",
      " |  \n",
      " |  __next__(self, /)\n",
      " |      Implement next(self).\n",
      " |  \n",
      " |  close(...)\n",
      " |      Closes the cursor.\n",
      " |  \n",
      " |  execute(...)\n",
      " |      Executes a SQL statement.\n",
      " |  \n",
      " |  executemany(...)\n",
      " |      Repeatedly executes a SQL statement.\n",
      " |  \n",
      " |  executescript(...)\n",
      " |      Executes a multiple SQL statements at once. Non-standard.\n",
      " |  \n",
      " |  fetchall(...)\n",
      " |      Fetches all rows from the resultset.\n",
      " |  \n",
      " |  fetchmany(...)\n",
      " |      Fetches several rows from the resultset.\n",
      " |  \n",
      " |  fetchone(...)\n",
      " |      Fetches one row from the resultset.\n",
      " |  \n",
      " |  setinputsizes(...)\n",
      " |      Required by DB-API. Does nothing in pysqlite.\n",
      " |  \n",
      " |  setoutputsize(...)\n",
      " |      Required by DB-API. Does nothing in pysqlite.\n",
      " |  \n",
      " |  ----------------------------------------------------------------------\n",
      " |  Static methods defined here:\n",
      " |  \n",
      " |  __new__(*args, **kwargs) from builtins.type\n",
      " |      Create and return a new object.  See help(type) for accurate signature.\n",
      " |  \n",
      " |  ----------------------------------------------------------------------\n",
      " |  Data descriptors defined here:\n",
      " |  \n",
      " |  arraysize\n",
      " |  \n",
      " |  connection\n",
      " |  \n",
      " |  description\n",
      " |  \n",
      " |  lastrowid\n",
      " |  \n",
      " |  row_factory\n",
      " |  \n",
      " |  rowcount\n",
      "\n"
     ]
    }
   ],
   "source": [
    "help(conn.cursor())"
   ]
  },
  {
   "attachments": {},
   "cell_type": "markdown",
   "metadata": {},
   "source": [
    "## Trouver les identifiants et les titres d'albums de Miles Davis"
   ]
  },
  {
   "cell_type": "code",
   "execution_count": 39,
   "metadata": {
    "tags": []
   },
   "outputs": [
    {
     "name": "stdout",
     "output_type": "stream",
     "text": [
      "['48', '49', '157']\n",
      "['The Essential Miles Davis [Disc 1]', 'The Essential Miles Davis [Disc 2]', 'Miles Ahead']\n"
     ]
    }
   ],
   "source": [
    "query2 = f\"\"\"\n",
    "    SELECT\n",
    "        albumId, title\n",
    "    FROM \n",
    "        albums \n",
    "    WHERE \n",
    "        artistId = '{artist_id}';\n",
    "\"\"\"\n",
    "albums_ids = []\n",
    "title = []\n",
    "\n",
    "for row in c.execute(query2):\n",
    "    albums_ids.append(str(row[0]))\n",
    "    title.append(row[1]) # sélectionner la 2e donnée de la matrice générée par la requête\n",
    "\n",
    "print(albums_ids)\n",
    "print(title)"
   ]
  },
  {
   "attachments": {},
   "cell_type": "markdown",
   "metadata": {},
   "source": [
    "## Trouver les morceaux des albums de Miles Davis"
   ]
  },
  {
   "cell_type": "code",
   "execution_count": 40,
   "metadata": {
    "tags": []
   },
   "outputs": [
    {
     "name": "stdout",
     "output_type": "stream",
     "text": [
      "\n",
      "36 distinct songs found:\n",
      "\n",
      "'Round Midnight\n",
      "Black Satin\n",
      "Blues For Pablo\n",
      "Blues For Pablo (Alternate Take)\n",
      "Bye Bye Blackbird\n",
      "Compulsion\n",
      "E.S.P.\n",
      "Generique\n",
      "I Don't Wanna Be Kissed (By Anyone But You)\n",
      "I Don't Wanna Be Kissed (By Anyone But You) (Alternate Take)\n",
      "Jean Pierre (Live)\n",
      "Jeru\n",
      "Lament\n",
      "Little Church (Live)\n",
      "Miles Ahead\n",
      "Miles Runs The Voodoo Down\n",
      "My Funny Valentine (Live)\n",
      "My Ship\n",
      "Nefertiti\n",
      "New Rhumba\n",
      "Now's The Time\n",
      "Petits Machins (Little Stuff)\n",
      "Portia\n",
      "So What\n",
      "Someday My Prince Will Come\n",
      "Springsville\n",
      "Springsville (Alternate Take)\n",
      "Summertime\n",
      "Tempus Fugit\n",
      "The Duke\n",
      "The Maids Of Cadiz\n",
      "The Meaning Of The Blues\n",
      "The Meaning Of The Blues/Lament (Alternate Take)\n",
      "The Pan Piper\n",
      "Time After Time\n",
      "Walkin'\n"
     ]
    }
   ],
   "source": [
    "query3 = f\"\"\"\n",
    "    SELECT\n",
    "        name,\n",
    "        albumId\n",
    "    FROM\n",
    "        tracks\n",
    "    WHERE \n",
    "        albumId IN ({\",\".join(albums_ids)});\n",
    "\"\"\"\n",
    "\n",
    "songs = set()\n",
    "for row in c.execute(query3):\n",
    "    songs.add(row[0])\n",
    "\n",
    "print(f\"\\n{len(songs)} distinct songs found:\\n\")\n",
    "for song in sorted(songs):\n",
    "    print(song)"
   ]
  },
  {
   "cell_type": "code",
   "execution_count": 79,
   "metadata": {},
   "outputs": [
    {
     "name": "stdout",
     "output_type": "stream",
     "text": [
      "\n",
      "347 distinct albums found:\n",
      "\n",
      "...And Justice For All\n",
      "20th Century Masters - The Millennium Collection: The Best of Scorpions\n",
      "A Copland Celebration, Vol. I\n",
      "A Matter of Life and Death\n",
      "A Real Dead One\n",
      "A Real Live One\n",
      "A Soprano Inspired\n",
      "A TempestadeTempestade Ou O Livro Dos Dias\n",
      "A-Sides\n",
      "Ace Of Spades\n",
      "Achtung Baby\n",
      "Acústico\n",
      "Acústico MTV\n",
      "Acústico MTV [Live]\n",
      "Adams, John: The Chairman Dances\n",
      "Adorate Deum: Gregorian Chant from the Proper of the Mass\n",
      "Afrociberdelia\n",
      "Album Of The Year\n",
      "Alcohol Fueled Brewtality Live! [Disc 1]\n",
      "Alcohol Fueled Brewtality Live! [Disc 2]\n",
      "All That You Can't Leave Behind\n",
      "Allegri: Miserere\n",
      "American Idiot\n",
      "Angel Dust\n",
      "Ao Vivo [IMPORT]\n",
      "Appetite for Destruction\n",
      "Aquaman\n",
      "Are You Experienced?\n",
      "Armada: Music from the Courts of England and Spain\n",
      "Arquivo II\n",
      "Arquivo Os Paralamas Do Sucesso\n",
      "As Canções de Eu Tu Eles\n",
      "Audioslave\n",
      "Axé Bahia 2001\n",
      "B-Sides 1980-1990\n",
      "BBC Sessions [Disc 1] [Live]\n",
      "BBC Sessions [Disc 2] [Live]\n",
      "Bach: Goldberg Variations\n",
      "Bach: Orchestral Suites Nos. 1 - 4\n",
      "Bach: The Brandenburg Concertos\n",
      "Bach: The Cello Suites\n",
      "Bach: Toccata & Fugue in D Minor\n",
      "Bach: Violin Concertos\n",
      "Back to Black\n",
      "BackBeat Soundtrack\n",
      "Balls to the Wall\n",
      "Bark at the Moon (Remastered)\n",
      "Bartok: Violin & Viola Concertos\n",
      "Barulhinho Bom\n",
      "Battlestar Galactica (Classic), Season 1\n",
      "Battlestar Galactica, Season 3\n",
      "Battlestar Galactica: The Story So Far\n",
      "Beethoven Piano Sonatas: Moonlight & Pastorale\n",
      "Beethoven: Symhonies Nos. 5 & 6\n",
      "Beethoven: Symphony No. 6 'Pastoral' Etc.\n",
      "Berlioz: Symphonie Fantastique\n",
      "Beyond Good And Evil\n",
      "Big Ones\n",
      "Bizet: Carmen Highlights\n",
      "Black Album\n",
      "Black Sabbath\n",
      "Black Sabbath Vol. 4 (Remaster)\n",
      "Blizzard of Ozz\n",
      "Blood Sugar Sex Magik\n",
      "Blue Moods\n",
      "Body Count\n",
      "Bongo Fury\n",
      "Brave New World\n",
      "By The Way\n",
      "Cafezinho\n",
      "Cake: B-Sides and Rarities\n",
      "Californication\n",
      "Carmina Burana\n",
      "Carnaval 2001\n",
      "Carried to Dust (Bonus Track Version)\n",
      "Carry On\n",
      "Cesta Básica\n",
      "Charpentier: Divertissements, Airs & Concerts\n",
      "Chemical Wedding\n",
      "Chill: Brazil (Disc 1)\n",
      "Chill: Brazil (Disc 2)\n",
      "Chopin: Piano Concertos Nos. 1 & 2\n",
      "Chronicle, Vol. 1\n",
      "Chronicle, Vol. 2\n",
      "Cidade Negra - Hits\n",
      "Coda\n",
      "Come Taste The Band\n",
      "Compositores\n",
      "Contraband\n",
      "Core\n",
      "Cássia Eller - Coleção Sem Limite [Disc 2]\n",
      "Cássia Eller - Sem Limite [Disc 1]\n",
      "Da Lama Ao Caos\n",
      "Dance Of Death\n",
      "Dark Side Of The Moon\n",
      "Deep Purple In Rock\n",
      "Deixa Entrar\n",
      "Demorou...\n",
      "Diary of a Madman (Remastered)\n",
      "Diver Down\n",
      "Djavan Ao Vivo - Vol. 02\n",
      "Djavan Ao Vivo - Vol. 1\n",
      "Duos II\n",
      "Elgar: Cello Concerto & Vaughan Williams: Fantasias\n",
      "Elis Regina-Minha História\n",
      "Emergency On Planet Earth\n",
      "English Renaissance\n",
      "Every Kind of Light\n",
      "Faceless\n",
      "Facelift\n",
      "Fauré: Requiem, Ravel: Pavane & Others\n",
      "Fear Of The Dark\n",
      "Fireball\n",
      "For Those About To Rock We Salute You\n",
      "Frank\n",
      "From The Muddy Banks Of The Wishkah [Live]\n",
      "Garage Inc. (Disc 1)\n",
      "Garage Inc. (Disc 2)\n",
      "Get Born\n",
      "Great Opera Choruses\n",
      "Great Performances - Barber's Adagio and Other Romantic Favorites for Strings\n",
      "Great Recordings of the Century - Mahler: Das Lied von der Erde\n",
      "Great Recordings of the Century - Shubert: Schwanengesang, 4 Lieder\n",
      "Great Recordings of the Century: Paganini's 24 Caprices\n",
      "Greatest Hits\n",
      "Greatest Hits I\n",
      "Greatest Hits II\n",
      "Greatest Kiss\n",
      "Green\n",
      "Grieg: Peer Gynt Suites & Sibelius: Pelléas et Mélisande\n",
      "Górecki: Symphony No. 3\n",
      "Handel: Music for the Royal Fireworks (Original Version 1749)\n",
      "Handel: The Messiah (Highlights)\n",
      "Haydn: Symphonies 99 - 104\n",
      "Heart of the Night\n",
      "Heroes, Season 1\n",
      "Holst: The Planets, Op. 32 & Vaughan Williams: Fantasies\n",
      "Hot Rocks, 1964-1971 (Disc 1)\n",
      "House of Pain\n",
      "Houses Of The Holy\n",
      "How To Dismantle An Atomic Bomb\n",
      "IV\n",
      "In Step\n",
      "In Through The Out Door\n",
      "In Your Honor [Disc 1]\n",
      "In Your Honor [Disc 2]\n",
      "Instant Karma: The Amnesty International Campaign to Save Darfur\n",
      "International Superhits\n",
      "Into The Light\n",
      "Iron Maiden\n",
      "J.S. Bach: Chaconne, Suite in E Minor, Partita in E Major & Prelude, Fugue and Allegro\n",
      "Jagged Little Pill\n",
      "Jorge Ben Jor 25 Anos\n",
      "Jota Quest-1995\n",
      "Judas 0: B-Sides and Rarities\n",
      "Kill 'Em All\n",
      "Killers\n",
      "King For A Day Fool For A Lifetime\n",
      "Knocking at Your Back Door: The Best Of Deep Purple in the 80's\n",
      "Koyaanisqatsi (Soundtrack from the Motion Picture)\n",
      "LOST, Season 4\n",
      "Led Zeppelin I\n",
      "Led Zeppelin II\n",
      "Led Zeppelin III\n",
      "Let There Be Rock\n",
      "Liszt - 12 Études D'Execution Transcendante\n",
      "Live After Death\n",
      "Live At Donington 1992 (Disc 1)\n",
      "Live At Donington 1992 (Disc 2)\n",
      "Live On Two Legs [Live]\n",
      "Live [Disc 1]\n",
      "Live [Disc 2]\n",
      "Living After Midnight\n",
      "Load\n",
      "Locatelli: Concertos for Violin, Strings and Continuo, Vol. 3\n",
      "Lost, Season 1\n",
      "Lost, Season 2\n",
      "Lost, Season 3\n",
      "Lulu Santos - RCA 100 Anos De Música - Álbum 01\n",
      "Lulu Santos - RCA 100 Anos De Música - Álbum 02\n",
      "MK III The Final Concerts [Disc 1]\n",
      "Machine Head\n",
      "Mais Do Mesmo\n",
      "Maquinarama\n",
      "Mascagni: Cavalleria Rusticana\n",
      "Master Of Puppets\n",
      "Mendelssohn: A Midsummer Night's Dream\n",
      "Meus Momentos\n",
      "Mezmerize\n",
      "Miles Ahead\n",
      "Milton Nascimento Ao Vivo\n",
      "Minas\n",
      "Minha Historia\n",
      "Minha História\n",
      "Misplaced Childhood\n",
      "Monteverdi: L'Orfeo\n",
      "Morning Dance\n",
      "Motley Crue Greatest Hits\n",
      "Mozart Gala: Famous Arias\n",
      "Mozart: Chamber Music\n",
      "Mozart: Symphonies Nos. 40 & 41\n",
      "Mozart: Wind Concertos\n",
      "Muso Ko\n",
      "My Generation - The Very Best Of The Who\n",
      "My Way: The Best Of Frank Sinatra [Disc 1]\n",
      "Na Pista\n",
      "Nevermind\n",
      "New Adventures In Hi-Fi\n",
      "News Of The World\n",
      "Nielsen: The Six Symphonies\n",
      "No More Tears (Remastered)\n",
      "No Prayer For The Dying\n",
      "No Security\n",
      "O Samba Poconé\n",
      "Olodum\n",
      "One By One\n",
      "Original Soundtracks 1\n",
      "Os Cães Ladram Mas A Caravana Não Pára\n",
      "Out Of Exile\n",
      "Out Of Time\n",
      "Outbreak\n",
      "Pachelbel: Canon & Gigue\n",
      "Palestrina: Missa Papae Marcelli & Allegri: Miserere\n",
      "Pavarotti's Opera Made Easy\n",
      "Pearl Jam\n",
      "Physical Graffiti [Disc 1]\n",
      "Physical Graffiti [Disc 2]\n",
      "Piece Of Mind\n",
      "Plays Metallica By Four Cellos\n",
      "Pop\n",
      "Powerslave\n",
      "Prenda Minha\n",
      "Presence\n",
      "Prokofiev: Romeo & Juliet\n",
      "Prokofiev: Symphony No.1\n",
      "Prokofiev: Symphony No.5 & Stravinksy: Le Sacre Du Printemps\n",
      "Puccini: Madama Butterfly - Highlights\n",
      "Purcell: Music for the Queen Mary\n",
      "Purcell: The Fairy Queen\n",
      "Pure Cult: The Best Of The Cult (For Rockers, Ravers, Lovers & Sinners) [UK]\n",
      "Purpendicular\n",
      "Quanta Gente Veio Ver (Live)\n",
      "Quanta Gente Veio ver--Bônus De Carnaval\n",
      "Quiet Songs\n",
      "Radio Brasil (O Som da Jovem Vanguarda) - Seleccao de Henrique Amaro\n",
      "Rattle And Hum\n",
      "Raul Seixas\n",
      "ReLoad\n",
      "Realize\n",
      "Respighi:Pines of Rome\n",
      "Restless and Wild\n",
      "Retrospective I (1974-1980)\n",
      "Revelations\n",
      "Ride The Lightning\n",
      "Riot Act\n",
      "Rock In Rio [CD1]\n",
      "Rock In Rio [CD2]\n",
      "Roda De Funk\n",
      "Rotten Apples: Greatest Hits\n",
      "SCRIABIN: Vers la flamme\n",
      "Sambas De Enredo 2001\n",
      "Santana - As Years Go By\n",
      "Santana Live\n",
      "Scheherazade\n",
      "Schubert: The Late String Quartets & String Quintet (3 CD's)\n",
      "Seek And Shall Find: More Of The Best (1963-1981)\n",
      "Serie Sem Limite (Disc 1)\n",
      "Serie Sem Limite (Disc 2)\n",
      "Seventh Son of a Seventh Son\n",
      "Sex Machine\n",
      "Sibelius: Finlandia\n",
      "Sir Neville Marriner: A Celebration\n",
      "Slaves And Masters\n",
      "Somewhere in Time\n",
      "South American Getaway\n",
      "Sozinho Remix Ao Vivo\n",
      "Speak of the Devil\n",
      "St. Anger\n",
      "Stormbringer\n",
      "Strauss: Waltzes\n",
      "Supernatural\n",
      "Surfing with the Alien (Remastered)\n",
      "Synkronized\n",
      "Szymanowski: Piano Works, Vol. 1\n",
      "Tangents\n",
      "Tchaikovsky: 1812 Festival Overture, Op.49, Capriccio Italien & Beethoven: Wellington's Victory\n",
      "Tchaikovsky: The Nutcracker\n",
      "Temple of the Dog\n",
      "Ten\n",
      "The Battle Rages On\n",
      "The Beast Live\n",
      "The Best Of 1980-1990\n",
      "The Best Of Billy Cobham\n",
      "The Best Of Buddy Guy - The Millenium Collection\n",
      "The Best Of Men At Work\n",
      "The Best Of R.E.M.: The IRS Years\n",
      "The Best Of Van Halen, Vol. I\n",
      "The Best of Beethoven\n",
      "The Best of Ed Motta\n",
      "The Colour And The Shape\n",
      "The Cream Of Clapton\n",
      "The Doors\n",
      "The Essential Miles Davis [Disc 1]\n",
      "The Essential Miles Davis [Disc 2]\n",
      "The Final Concerts (Disc 2)\n",
      "The Last Night of the Proms\n",
      "The Number of The Beast\n",
      "The Office, Season 1\n",
      "The Office, Season 2\n",
      "The Office, Season 3\n",
      "The Police Greatest Hits\n",
      "The Real Thing\n",
      "The Return Of The Space Cowboy\n",
      "The Singles\n",
      "The Song Remains The Same (Disc 1)\n",
      "The Song Remains The Same (Disc 2)\n",
      "The Ultimate Relexation Album\n",
      "The World of Classical Favourites\n",
      "The X Factor\n",
      "Transmission\n",
      "Tribute\n",
      "UB40 The Best Of - Volume Two [UK]\n",
      "Un-Led-Ed\n",
      "Unplugged\n",
      "Unplugged [Live]\n",
      "Up An' Atom\n",
      "Use Your Illusion I\n",
      "Use Your Illusion II\n",
      "Van Halen\n",
      "Van Halen III\n",
      "Vault: Def Leppard's Greatest Hits\n",
      "Vinicius De Moraes\n",
      "Vinícius De Moraes - Sem Limite\n",
      "Virtual XI\n",
      "Vivaldi: The Four Seasons\n",
      "Volume Dois\n",
      "Voodoo Lounge\n",
      "Vozes do MPB\n",
      "Vs.\n",
      "Wagner: Favourite Overtures\n",
      "Walking Into Clarksdale\n",
      "War\n",
      "Warner 25 Anos\n",
      "Weill: The Seven Deadly Sins\n",
      "Worlds\n",
      "Zooropa\n",
      "[1997] Black Light Syndrome\n"
     ]
    }
   ],
   "source": [
    "query3d = f\"\"\"\n",
    "    SELECT\n",
    "        title\n",
    "    FROM\n",
    "        albums\n",
    "    WHERE \n",
    "        artistId IN ({\",\".join(id_artists)});\n",
    "\"\"\"\n",
    "\n",
    "albums = set()\n",
    "for row in c.execute(query3d):\n",
    "    albums.add(row[0])\n",
    "\n",
    "print(f\"\\n{len(albums)} distinct albums found:\\n\")\n",
    "for album in sorted(albums):\n",
    "    print(album)"
   ]
  },
  {
   "attachments": {},
   "cell_type": "markdown",
   "metadata": {},
   "source": [
    "## En une seule requête..."
   ]
  },
  {
   "cell_type": "code",
   "execution_count": 10,
   "metadata": {},
   "outputs": [
    {
     "name": "stdout",
     "output_type": "stream",
     "text": [
      "\n",
      "36 distinct songs found:\n",
      "\n",
      "'Round Midnight\n",
      "Black Satin\n",
      "Blues For Pablo\n",
      "Blues For Pablo (Alternate Take)\n",
      "Bye Bye Blackbird\n",
      "Compulsion\n",
      "E.S.P.\n",
      "Generique\n",
      "I Don't Wanna Be Kissed (By Anyone But You)\n",
      "I Don't Wanna Be Kissed (By Anyone But You) (Alternate Take)\n",
      "Jean Pierre (Live)\n",
      "Jeru\n",
      "Lament\n",
      "Little Church (Live)\n",
      "Miles Ahead\n",
      "Miles Runs The Voodoo Down\n",
      "My Funny Valentine (Live)\n",
      "My Ship\n",
      "Nefertiti\n",
      "New Rhumba\n",
      "Now's The Time\n",
      "Petits Machins (Little Stuff)\n",
      "Portia\n",
      "So What\n",
      "Someday My Prince Will Come\n",
      "Springsville\n",
      "Springsville (Alternate Take)\n",
      "Summertime\n",
      "Tempus Fugit\n",
      "The Duke\n",
      "The Maids Of Cadiz\n",
      "The Meaning Of The Blues\n",
      "The Meaning Of The Blues/Lament (Alternate Take)\n",
      "The Pan Piper\n",
      "Time After Time\n",
      "Walkin'\n"
     ]
    }
   ],
   "source": [
    "query4 = f\"\"\"\n",
    "    SELECT\n",
    "        tracks.name,\n",
    "        tracks.albumId\n",
    "    FROM\n",
    "        artists\n",
    "        JOIN albums ON artists.artistId = albums.artistId\n",
    "        JOIN tracks ON albums.albumId = tracks.albumId\n",
    "    WHERE \n",
    "        artists.name = '{artist}';\n",
    "\"\"\"\n",
    "\n",
    "songs = set()\n",
    "for row in c.execute(query4):\n",
    "    songs.add(row[0])\n",
    "\n",
    "print(f\"\\n{len(songs)} distinct songs found:\\n\")\n",
    "for song in sorted(songs):\n",
    "    print(song)"
   ]
  },
  {
   "attachments": {},
   "cell_type": "markdown",
   "metadata": {},
   "source": [
    "## Quels sont les genres associés aux morceaux de Queen"
   ]
  },
  {
   "cell_type": "code",
   "execution_count": 90,
   "metadata": {},
   "outputs": [
    {
     "name": "stdout",
     "output_type": "stream",
     "text": [
      "\n",
      "1 distinct genres found:\n",
      "\n",
      "Rock\n"
     ]
    }
   ],
   "source": [
    "query5 = f\"\"\"\n",
    "    SELECT\n",
    "        genres.name\n",
    "    FROM\n",
    "        genres\n",
    "        JOIN tracks ON genres.genreId = tracks.genreId\n",
    "        JOIN albums ON albums.albumId = tracks.albumId\n",
    "        JOIN artists ON artists.artistId = albums.artistId\n",
    "    WHERE \n",
    "        artists.name = '{'Queen'}';\n",
    "\"\"\"\n",
    "\n",
    "genres = set()\n",
    "for row in c.execute(query5):\n",
    "    genres.add(row[0])\n",
    "\n",
    "print(f\"\\n{len(genres)} distinct genres found:\\n\")\n",
    "for genre in sorted(genres):\n",
    "    print(genre)"
   ]
  },
  {
   "attachments": {},
   "cell_type": "markdown",
   "metadata": {},
   "source": [
    "## Pour en savoir plus"
   ]
  },
  {
   "attachments": {},
   "cell_type": "markdown",
   "metadata": {},
   "source": [
    "- Tutoriel SQLite : https://www.sqlitetutorial.net/"
   ]
  }
 ],
 "metadata": {
  "interpreter": {
   "hash": "ecadf678c2a99549a40a62f8c8c34fa2ffbed5edfe397d36df0dc24c8d085e92"
  },
  "kernelspec": {
   "display_name": "Python 3",
   "language": "python",
   "name": "python3"
  },
  "language_info": {
   "codemirror_mode": {
    "name": "ipython",
    "version": 3
   },
   "file_extension": ".py",
   "mimetype": "text/x-python",
   "name": "python",
   "nbconvert_exporter": "python",
   "pygments_lexer": "ipython3",
   "version": "3.10.9"
  }
 },
 "nbformat": 4,
 "nbformat_minor": 4
}
