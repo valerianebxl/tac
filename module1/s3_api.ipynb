{
 "cells": [
  {
   "cell_type": "markdown",
   "metadata": {},
   "source": [
    "# APIs: requêtes HTTP"
   ]
  },
  {
   "cell_type": "markdown",
   "metadata": {},
   "source": [
    "## Imports"
   ]
  },
  {
   "cell_type": "code",
   "execution_count": 7,
   "metadata": {},
   "outputs": [],
   "source": [
    "import json\n",
    "import requests"
   ]
  },
  {
   "cell_type": "markdown",
   "metadata": {},
   "source": [
    "## Utiliser Nominatim pour connaître les coordonnées géographiques d'une adresse"
   ]
  },
  {
   "cell_type": "markdown",
   "metadata": {},
   "source": [
    "https://nominatim.org/"
   ]
  },
  {
   "cell_type": "code",
   "execution_count": 3,
   "metadata": {},
   "outputs": [
    {
     "name": "stdout",
     "output_type": "stream",
     "text": [
      "Bibliothèque de droit et de criminologie (50.8126596 - 4.3798235)\n",
      "OPERA - Wireless Communications Group (50.811783 - 4.3830304)\n",
      "CReA-Patrimoine (50.811503 - 4.3821658)\n"
     ]
    }
   ],
   "source": [
    "address = \"Avenue Franklin Roosevelt 50, 1050 Bruxelles\"\n",
    "\n",
    "\"\"\"Retrieve coordinates from Open Street Map\"\"\"\n",
    "url = \"https://nominatim.openstreetmap.org/search\"\n",
    "data = {'q': address, 'format': 'json'}\n",
    "resp = requests.get(url, data)\n",
    "json_list = json.loads(resp.text)\n",
    "# print(json_list)\n",
    "\n",
    "for item in json_list:\n",
    "    display_name = item['display_name']\n",
    "    short_name = display_name.split(\", \")[0]\n",
    "    lat = item['lat']\n",
    "    lon = item['lon']\n",
    "    print(f\"{short_name} ({lat} - {lon})\")\n"
   ]
  },
  {
   "cell_type": "code",
   "execution_count": 4,
   "metadata": {},
   "outputs": [
    {
     "name": "stdout",
     "output_type": "stream",
     "text": [
      "4\n",
      "{'nhits': 3, 'parameters': {'dataset': 'bruxelles_rues_par_secteur_pour_les_cartes_de_riverain', 'timezone': 'UTC', 'q': 'royale', 'rows': 10, 'start': 0, 'format': 'json', 'facet': ['secteur']}, 'records': [{'datasetid': 'bruxelles_rues_par_secteur_pour_les_cartes_de_riverain', 'recordid': '07f98425d041ecb8932410e6b86022abd9b32699', 'fields': {'secteur': 'Pentagone', 'rue': 'Royale Place'}, 'record_timestamp': '2017-02-14T11:23:17+00:00'}, {'datasetid': 'bruxelles_rues_par_secteur_pour_les_cartes_de_riverain', 'recordid': 'ed5c643cf284de21a78a987ae013d98c915a0a64', 'fields': {'secteur': 'Pentagone', 'rue': 'Royale  Rue (numéros impairs de 7 à 145 et numéros pairs de 76 à 234)'}, 'record_timestamp': '2017-02-14T11:23:17+00:00'}, {'datasetid': 'bruxelles_rues_par_secteur_pour_les_cartes_de_riverain', 'recordid': 'b20bef9235e554f2d9badf9b082fb50b8ef64f36', 'fields': {'secteur': 'Pentagone', 'rue': 'Royale  Rue (numéros impairs de 7 à 145 et numéros pairs de 2 à 234)'}, 'record_timestamp': '2017-02-14T11:23:17+00:00'}], 'facet_groups': [{'facets': [{'count': 3, 'path': 'Pentagone', 'state': 'displayed', 'name': 'Pentagone'}], 'name': 'secteur'}]}\n",
      "{'secteur': 'Pentagone', 'rue': 'Royale Place'}\n",
      "3\n",
      "[{'datasetid': 'bruxelles_rues_par_secteur_pour_les_cartes_de_riverain', 'recordid': '07f98425d041ecb8932410e6b86022abd9b32699', 'fields': {'secteur': 'Pentagone', 'rue': 'Royale Place'}, 'record_timestamp': '2017-02-14T11:23:17+00:00'}, {'datasetid': 'bruxelles_rues_par_secteur_pour_les_cartes_de_riverain', 'recordid': 'ed5c643cf284de21a78a987ae013d98c915a0a64', 'fields': {'secteur': 'Pentagone', 'rue': 'Royale  Rue (numéros impairs de 7 à 145 et numéros pairs de 76 à 234)'}, 'record_timestamp': '2017-02-14T11:23:17+00:00'}, {'datasetid': 'bruxelles_rues_par_secteur_pour_les_cartes_de_riverain', 'recordid': 'b20bef9235e554f2d9badf9b082fb50b8ef64f36', 'fields': {'secteur': 'Pentagone', 'rue': 'Royale  Rue (numéros impairs de 7 à 145 et numéros pairs de 2 à 234)'}, 'record_timestamp': '2017-02-14T11:23:17+00:00'}]\n",
      "Secteur, lieu : Pentagone, Royale Place\n",
      "Secteur, lieu : Pentagone, Royale  Rue (numéros impairs de 7 à 145 et numéros pairs de 76 à 234)\n",
      "Secteur, lieu : Pentagone, Royale  Rue (numéros impairs de 7 à 145 et numéros pairs de 2 à 234)\n"
     ]
    }
   ],
   "source": [
    "rue = \"royale\"\n",
    "      #https://opendata.brussels.be/api/records/1.0/search/?dataset=bruxelles_rues_par_secteur_pour_les_cartes_de_riverain&q=&facet=secteur\n",
    "url = \"https://opendata.brussels.be/api/records/1.0/search/\"\n",
    "\n",
    "dataset_ = \"bruxelles_rues_par_secteur_pour_les_cartes_de_riverain\"\n",
    "facet_ = \"secteur\"\n",
    "data = {'dataset' : dataset_ , 'q' : rue, 'facet' : facet_ }\n",
    "\n",
    "r = requests.get(url, data)\n",
    "\n",
    "json_list = json.loads(r.text)\n",
    "\n",
    "sub = json_list['records']\n",
    "\n",
    "print(len(json_list))\n",
    "print(json_list)\n",
    "print(json_list['records'][0]['fields'])\n",
    "\n",
    "print(len(sub))\n",
    "print(sub)\n",
    "\n",
    "record = []\n",
    "\n",
    "for item in sub:\n",
    "    record = item['fields']\n",
    "    print(f\"Secteur, lieu : {', '.join(record.values())}\")\n",
    "\n"
   ]
  },
  {
   "cell_type": "code",
   "execution_count": 5,
   "metadata": {},
   "outputs": [
    {
     "name": "stdout",
     "output_type": "stream",
     "text": [
      "application/json; charset=utf-8\n",
      "Le dataset a détecté 1 enregistrement(s) pour ce lieu :\n",
      "\n",
      "Lieu : Marché aux Porcs  Rue du (Pentagone)\n"
     ]
    }
   ],
   "source": [
    "# source : https://opendata.brussels.be/api/records/1.0/search/?dataset=bruxelles_rues_par_secteur_pour_les_cartes_de_riverain&q=&facet=secteur\n",
    "\n",
    "terme = \"porc\"\n",
    "\n",
    "url = \"https://opendata.brussels.be/api/records/1.0/search/\"\n",
    "dataset_ = \"bruxelles_rues_par_secteur_pour_les_cartes_de_riverain\"\n",
    "facet_ = \"secteur\"\n",
    "data = {'dataset' : dataset_ , 'q' : terme, 'facet' : facet_ }\n",
    "\n",
    "resp = requests.get(url, data)\n",
    "print(resp.headers['content-type'])\n",
    "json_list = json.loads(resp.text)\n",
    "subset = json_list['records']\n",
    "\n",
    "print(f\"Le dataset a détecté {len(subset)} enregistrement(s) pour ce lieu :\\n\")\n",
    "\n",
    "for item in subset:\n",
    "    secteurs = item['fields']['secteur']\n",
    "    rues = item['fields']['rue']\n",
    "    print(f\"Lieu : {rues} ({secteurs})\")"
   ]
  },
  {
   "cell_type": "code",
   "execution_count": 89,
   "metadata": {},
   "outputs": [
    {
     "name": "stdout",
     "output_type": "stream",
     "text": [
      "Bruxelles recense 10 fontaines d'eau potable :\n",
      "\n",
      "Au 38, Boulevard Anspach -> Au carrefour avec la rue Grétry.\n",
      "Au 67, Quai au Foin -> Derrière le théatre KVS, sur le terrain de basket.\n",
      "Au 2, Quai du Batelage -> Rue de l’héliport dans la cour de la «ferme» du parc Maximilien.\n",
      "Au 106, Rue Neuve -> En face de l’entrée du City 2, au coin de la rue de Malines.\n",
      "Au 1, Rue de la Loi -> En face à la rue Montagne du Parc, près de l’aire de jeux.\n",
      "Au 32, Rue aux Laines -> Entrée Rue aux laines, passage M. Yourcenar.\n",
      "Au 2, Rue de Rollebeek -> Au croisement avec le Boulevard de l’Empereur.\n",
      "Au 6, Rue des Ursulines -> A gauche de l’entrée de l’Eglise de la Chapelle, au skate parc.\n",
      "Au 42C, Avenue de l'Héliport -> Entre Bd Simon Bolivar et av de l’héliport, au parc, près de la plaine de jeux.\n",
      "Au 59, Square Prince Léopold -> En face du n° 49, près Rue Strauwen, au bord de l’allée autour du parc.\n"
     ]
    }
   ],
   "source": [
    "# source : https://opendata.brussels.be/api/records/1.0/search/?dataset=bxl_fontaines&q=\n",
    "\n",
    "url = \"https://opendata.brussels.be/api/records/1.0/search/\"\n",
    "dataset_ = \"bxl_fontaines\"\n",
    "data = {'dataset' : dataset_}\n",
    "\n",
    "resp = requests.get(url, data)\n",
    "json_list = json.loads(resp.text)\n",
    "subset = json_list['records']\n",
    "\n",
    "print(f\"Bruxelles recense {len(subset)} fontaines d'eau potable :\\n\")\n",
    "\n",
    "for item in subset:\n",
    "    adresses = item['fields']['adrvoisfr']\n",
    "    specifs = item['fields']['speclocfr']\n",
    "    print(f\"Au {adresses} --> {specifs}\")"
   ]
  },
  {
   "cell_type": "code",
   "execution_count": 88,
   "metadata": {},
   "outputs": [
    {
     "name": "stdout",
     "output_type": "stream",
     "text": [
      "Bruxelles recense 10 théâtres :\n",
      "\n",
      "Kaaitheater (Square Sainctelette 20)\n",
      "Centre culturel des Riches-Claires (Rue des Riches Claires 24)\n",
      "Théâtre de Poche (Chemin du Gymnase 1A)\n",
      "(La) Monnaie (Place de la Monnaie)\n",
      "(Le) Jardin de ma Soeur (Rue du Grand Hospice)\n",
      "Théâtre des Galeries (Galerie du Roi 32)\n",
      "Théâtre La Samaritaine (Rue de la Samaritaine 16)\n",
      "Théâtre royal du Parc (Rue de la Loi 3)\n",
      "Bronks (Rue du Marché aux Porcs 15-17)\n",
      "Koninklijke Vlaamse Schouwburg (KVS) (Quai aux Pierres de Taille 7)\n"
     ]
    }
   ],
   "source": [
    "# source : https://opendata.brussels.be/api/records/1.0/search/?dataset=bruxelles_theatres&q=\n",
    "\n",
    "url = \"https://opendata.brussels.be/api/records/1.0/search/\"\n",
    "dataset_ = \"bruxelles_theatres\"\n",
    "data = {'dataset' : dataset_}\n",
    "\n",
    "resp = requests.get(url, data)\n",
    "json_list = json.loads(resp.text)\n",
    "subset = json_list['records']\n",
    "\n",
    "print(f\"Bruxelles recense {len(subset)} théâtres :\\n\")\n",
    "\n",
    "for item in subset:\n",
    "    noms = item['fields']['nom']\n",
    "    rues = item['fields']['rue']\n",
    "    print(f\"{noms} ({rues})\")"
   ]
  },
  {
   "cell_type": "code",
   "execution_count": null,
   "metadata": {},
   "outputs": [],
   "source": [
    "dataset = bruxelles_arbres_remarquables"
   ]
  },
  {
   "cell_type": "code",
   "execution_count": 87,
   "metadata": {},
   "outputs": [
    {
     "name": "stdout",
     "output_type": "stream",
     "text": [
      "Bruxelles recense 8 cinémas :\n",
      "\n",
      "Cinematek (Rue Baron Horta 9 - 1000 Bruxelles)\n",
      "Kinepolis (Boulevard du Centenaire 2 - 1020 Bruxelles (Laeken))\n",
      "Galeries (Galerie de la Reine 26 - 1000 Bruxelles)\n",
      "Cinèma Nova (Rue d'Arenberg 3 - 1000 Bruxelles)\n",
      "Actor's Studio (Rue de la Fourche 17-19 - 1000 Bruxelles)\n",
      "Aventure (Rue des Fripiers 15 - 1000 Bruxelles)\n",
      "Cinema Palace (Boulevard Anspach 85 - 1000 Bruxelles)\n",
      "UGC De Brouckère (Place De Brouckère 38 - 1000 Bruxelles)\n"
     ]
    }
   ],
   "source": [
    "# source : https://opendata.brussels.be/api/records/1.0/search/?dataset=bruxelles_theatres&q=\n",
    "\n",
    "url = \"https://opendata.brussels.be/api/records/1.0/search/\"\n",
    "dataset_ = \"bruxelles_cinemas\"\n",
    "data = {'dataset' : dataset_}\n",
    "\n",
    "resp = requests.get(url, data)\n",
    "json_list = json.loads(resp.text)\n",
    "subset = json_list['records']\n",
    "\n",
    "print(f\"Bruxelles recense {len(subset)} cinémas :\\n\")\n",
    "\n",
    "for item in subset:\n",
    "    noms = item['fields']['cinema']\n",
    "    rues = item['fields']['adresse']\n",
    "    print(f\"{noms} ({rues})\")"
   ]
  },
  {
   "cell_type": "code",
   "execution_count": 94,
   "metadata": {},
   "outputs": [
    {
     "name": "stdout",
     "output_type": "stream",
     "text": [
      "Liste des 10 dates concernant l'arrêté royal de nomination des bourgmestres de Bruxelles :\n",
      "\n",
      "Michel Demaret\n",
      "Yvan Mayeur\n",
      "Adolphe Max\n",
      "Marion Lemesre\n",
      "Charles Lemonnier\n",
      "Baron Joseph \n",
      "Van de Meulebroeck\n",
      "Lucien Cooremans\n",
      "Nicolas Rouppe\n",
      "Nicolas Verhulst - Van Hoegaarden\n",
      "André Fontainas\n"
     ]
    }
   ],
   "source": [
    "# source : https://opendata.brussels.be/api/records/1.0/search/?dataset=bruxelles_theatres&q=\n",
    "\n",
    "url = \"https://opendata.brussels.be/api/records/1.0/search/\"\n",
    "dataset_ = \"bxl_bourgmestres\"\n",
    "data = {'dataset' : dataset_}\n",
    "\n",
    "resp = requests.get(url, data)\n",
    "json_list = json.loads(resp.text)\n",
    "subset = json_list['records']\n",
    "\n",
    "print(f\"Liste des {len(subset)} dates concernant l'arrêté royal de nomination des bourgmestres de Bruxelles :\\n\")\n",
    "\n",
    "for item in subset:\n",
    "    bourgmestres = item['fields']['bourgmestres']\n",
    "    #arretes = item['fields']['arrete_royal_de_nomination']\n",
    "    print(f\"{bourgmestres}\")"
   ]
  },
  {
   "cell_type": "markdown",
   "metadata": {},
   "source": [
    "## Utiliser REST Countries pour récupérer des informations sur un pays"
   ]
  },
  {
   "cell_type": "markdown",
   "metadata": {},
   "source": [
    "https://restcountries.com/"
   ]
  },
  {
   "cell_type": "code",
   "execution_count": 6,
   "metadata": {},
   "outputs": [
    {
     "name": "stdout",
     "output_type": "stream",
     "text": [
      "application/json\n",
      "Languages: German, French, Dutch\n",
      "Borders: France, Germany, Luxembourg, Netherlands\n"
     ]
    }
   ],
   "source": [
    "country_name = \"Belgium\"\n",
    "\n",
    "base_url = \"http://restcountries.com/v3.1/\"\n",
    "name_url = base_url + \"name/\"\n",
    "code_url = base_url + \"alpha/\"\n",
    "resp = requests.get(name_url + country_name)\n",
    "print(resp.headers['content-type'])\n",
    "country = resp.json()[0]\n",
    "# print(country)\n",
    "\n",
    "try:\n",
    "    languages = country['languages']\n",
    "    print(f\"Languages: {', '.join(languages.values())}\")\n",
    "    border_codes = country['borders']\n",
    "    border_names = []\n",
    "    for code in border_codes:\n",
    "        resp = requests.get(code_url + code)\n",
    "        border_country = resp.json()[0] # conversion du résulat de la requête (json) en dictionnaire\n",
    "        border_name = border_country[\"name\"][\"common\"]\n",
    "        border_names.append(border_name)\n",
    "    print(f\"Borders: {', '.join(border_names)}\")\n",
    "except KeyError:\n",
    "    print(\"Unknown country, please use English or native name\")"
   ]
  },
  {
   "cell_type": "markdown",
   "metadata": {},
   "source": [
    "## Pour en savoir plus"
   ]
  },
  {
   "cell_type": "markdown",
   "metadata": {},
   "source": [
    "- Les API Rest: https://towardsdatascience.com/introduction-to-rest-apis-90b5d9676004\n",
    "- La librairie `requests`: https://docs.python-requests.org/en/latest/\n",
    "- Développer une API en Python : https://openclassrooms.com/en/courses/4525361-realisez-un-dashboard-avec-tableau/5774811-creez-une-api-avec-flask"
   ]
  }
 ],
 "metadata": {
  "kernelspec": {
   "display_name": "Python 3 (ipykernel)",
   "language": "python",
   "name": "python3"
  },
  "language_info": {
   "codemirror_mode": {
    "name": "ipython",
    "version": 3
   },
   "file_extension": ".py",
   "mimetype": "text/x-python",
   "name": "python",
   "nbconvert_exporter": "python",
   "pygments_lexer": "ipython3",
   "version": "3.9.7"
  }
 },
 "nbformat": 4,
 "nbformat_minor": 4
}
