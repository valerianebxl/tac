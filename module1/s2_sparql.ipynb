{
 "cells": [
  {
   "cell_type": "markdown",
   "metadata": {},
   "source": [
    "# Bases de connaissance : interroger Wikidata à l'aide de requêtes SPARQL"
   ]
  },
  {
   "cell_type": "markdown",
   "metadata": {},
   "source": [
    "## Imports"
   ]
  },
  {
   "cell_type": "code",
   "execution_count": 4,
   "metadata": {},
   "outputs": [],
   "source": [
    "from datetime import datetime as dt # importer la librairie qui permet de comparer les requêtes à la date du jour\n",
    "from SPARQLWrapper import SPARQLWrapper, JSON # importer la librairie sparql"
   ]
  },
  {
   "cell_type": "markdown",
   "metadata": {},
   "source": [
    "## Obtenir la liste des politiciens belges"
   ]
  },
  {
   "cell_type": "code",
   "execution_count": 5,
   "metadata": {},
   "outputs": [
    {
     "name": "stdout",
     "output_type": "stream",
     "text": [
      "\n",
      "7657 Belgian politicians found\n",
      "\n",
      "[{'person': {'type': 'uri', 'value': 'http://www.wikidata.org/entity/Q17350686'}, 'personLabel': {'xml:lang': 'en', 'type': 'literal', 'value': 'Abdallah Kanfaoui'}, 'dateBirth': {'datatype': 'http://www.w3.org/2001/XMLSchema#dateTime', 'type': 'literal', 'value': '1968-05-21T00:00:00Z'}}, {'person': {'type': 'uri', 'value': 'http://www.wikidata.org/entity/Q13461801'}, 'personLabel': {'xml:lang': 'en', 'type': 'literal', 'value': 'Abdelaziz Charkaoui Hajri'}, 'dateBirth': {'datatype': 'http://www.w3.org/2001/XMLSchema#dateTime', 'type': 'literal', 'value': '1951-01-01T00:00:00Z'}}, {'person': {'type': 'uri', 'value': 'http://www.wikidata.org/entity/Q27903935'}, 'personLabel': {'xml:lang': 'en', 'type': 'literal', 'value': 'Abderrahim Lahlali'}, 'dateBirth': {'datatype': 'http://www.w3.org/2001/XMLSchema#dateTime', 'type': 'literal', 'value': '1978-01-01T00:00:00Z'}}, {'person': {'type': 'uri', 'value': 'http://www.wikidata.org/entity/Q3294738'}, 'personLabel': {'xml:lang': 'en', 'type': 'literal', 'value': 'Abdon Comyn'}, 'dateBirth': {'datatype': 'http://www.w3.org/2001/XMLSchema#dateTime', 'type': 'literal', 'value': '1914-09-02T00:00:00Z'}, 'dateDeath': {'datatype': 'http://www.w3.org/2001/XMLSchema#dateTime', 'type': 'literal', 'value': '1965-07-25T00:00:00Z'}}, {'person': {'type': 'uri', 'value': 'http://www.wikidata.org/entity/Q2504207'}, 'personLabel': {'xml:lang': 'en', 'type': 'literal', 'value': 'Abdon Demarneffe'}, 'dateBirth': {'datatype': 'http://www.w3.org/2001/XMLSchema#dateTime', 'type': 'literal', 'value': '1906-11-17T00:00:00Z'}, 'dateDeath': {'datatype': 'http://www.w3.org/2001/XMLSchema#dateTime', 'type': 'literal', 'value': '1992-02-20T00:00:00Z'}}, {'person': {'type': 'uri', 'value': 'http://www.wikidata.org/entity/Q14848887'}, 'personLabel': {'xml:lang': 'en', 'type': 'literal', 'value': 'Abel Braconnier'}, 'dateBirth': {'datatype': 'http://www.w3.org/2001/XMLSchema#dateTime', 'type': 'literal', 'value': '1870-02-18T00:00:00Z'}, 'dateDeath': {'datatype': 'http://www.w3.org/2001/XMLSchema#dateTime', 'type': 'literal', 'value': '1936-02-29T00:00:00Z'}}, {'person': {'type': 'uri', 'value': 'http://www.wikidata.org/entity/Q14848888'}, 'personLabel': {'xml:lang': 'en', 'type': 'literal', 'value': 'Abel Charloteaux'}, 'dateBirth': {'datatype': 'http://www.w3.org/2001/XMLSchema#dateTime', 'type': 'literal', 'value': '1897-03-02T00:00:00Z'}, 'dateDeath': {'datatype': 'http://www.w3.org/2001/XMLSchema#dateTime', 'type': 'literal', 'value': '1982-05-24T00:00:00Z'}}, {'person': {'type': 'uri', 'value': 'http://www.wikidata.org/entity/Q2230999'}, 'personLabel': {'xml:lang': 'en', 'type': 'literal', 'value': 'Abel Dubois'}, 'dateBirth': {'datatype': 'http://www.w3.org/2001/XMLSchema#dateTime', 'type': 'literal', 'value': '1921-01-05T00:00:00Z'}, 'dateDeath': {'datatype': 'http://www.w3.org/2001/XMLSchema#dateTime', 'type': 'literal', 'value': '1989-10-18T00:00:00Z'}}, {'person': {'type': 'uri', 'value': 'http://www.wikidata.org/entity/Q2444148'}, 'personLabel': {'xml:lang': 'en', 'type': 'literal', 'value': \"Abel de Kerchove d'Exaerde\"}, 'dateBirth': {'datatype': 'http://www.w3.org/2001/XMLSchema#dateTime', 'type': 'literal', 'value': '1839-01-30T00:00:00Z'}, 'dateDeath': {'datatype': 'http://www.w3.org/2001/XMLSchema#dateTime', 'type': 'literal', 'value': '1914-04-21T00:00:00Z'}}, {'person': {'type': 'uri', 'value': 'http://www.wikidata.org/entity/Q330267'}, 'personLabel': {'xml:lang': 'en', 'type': 'literal', 'value': 'Abraham Leon'}, 'dateBirth': {'datatype': 'http://www.w3.org/2001/XMLSchema#dateTime', 'type': 'literal', 'value': '1918-01-01T00:00:00Z'}, 'dateDeath': {'datatype': 'http://www.w3.org/2001/XMLSchema#dateTime', 'type': 'literal', 'value': '1944-10-07T00:00:00Z'}}]\n"
     ]
    }
   ],
   "source": [
    "# Retrieve results from SPARQL\n",
    "endpoint = \"https://query.wikidata.org/bigdata/namespace/wdq/sparql\" # wikidata au format RDF\n",
    "sparql = SPARQLWrapper(endpoint) # stockage de l'adressage dans une variable\n",
    "\n",
    "# P27 = country of citizenship \n",
    "# Q31 = Belgium\n",
    "# P106 = Opccupation\n",
    "# Q82955 = Politician\n",
    "# P569 = date of birth\n",
    "# P570 = date of death\n",
    "\n",
    "# stocker la requête dans une variable\n",
    "# quels sont les uri's des politiciens belges, leur label/nom, leurs dates de naissance et de mort (s'ils sont morts) ?\n",
    "\n",
    "statement = \"\"\"\n",
    "SELECT DISTINCT ?person ?personLabel ?dateBirth ?dateDeath WHERE {\n",
    "    ?person wdt:P27 wd:Q31 .\n",
    "    ?person wdt:P106 wd:Q82955 .\n",
    "    ?person wdt:P569 ?dateBirth .\n",
    "    OPTIONAL {?person wdt:P570 ?dateDeath .}\n",
    "    SERVICE wikibase:label { bd:serviceParam wikibase:language \"en\" . }\n",
    "}\n",
    "ORDER BY ?personLabel\n",
    "\"\"\"\n",
    "\n",
    "sparql.setQuery(statement) # adresse la requête à wikidata\n",
    "sparql.setReturnFormat(JSON) # retourner le résultat au format json\n",
    "results = sparql.query().convert() # stocker les résultats convertis dans une variable\n",
    "\n",
    "rows = results['results']['bindings'] # créer une liste de résultats avec le lien associé à chaque label\n",
    "print(f\"\\n{len(rows)} Belgian politicians found\\n\") # imprimer le nombre de politiciens recensés par la requête\n",
    "print(rows[:10]) # imprimer les 10 premiers résultats"
   ]
  },
  {
   "cell_type": "markdown",
   "metadata": {},
   "source": [
    "## Filtrer pour n'afficher que les noms contenant \"Bouchez\""
   ]
  },
  {
   "cell_type": "code",
   "execution_count": 31,
   "metadata": {},
   "outputs": [
    {
     "name": "stdout",
     "output_type": "stream",
     "text": [
      "Displaying the first 10:\n",
      "\n",
      "Georges-Louis Bouchez (1986-03-23 00:00:00-)\n"
     ]
    }
   ],
   "source": [
    "name_filter = 'Bouchez' # créer une variable pour le filtre\n",
    "max_results = 10 # limiter le résultat à 10 occurences\n",
    "\n",
    "date_format = \"%Y-%m-%dT%H:%M:%SZ\" # définir le format à appliquer aux dates\n",
    "filtered_rows = [row for row in rows if name_filter in row['personLabel']['value']] # appliquer le filtre et s'il existe, prendre la valeur\n",
    "\n",
    "print(f\"Displaying the first {max_results}:\\n\") # imprimer la phrase d'introduction des résultats (limités à 10 ici)\n",
    "\n",
    "for row in filtered_rows[:max_results]: # pour que chaque ligne des 10 premiers résultats\n",
    "    try:\n",
    "        birth_date = dt.strptime(row['dateBirth']['value'], date_format) # stocker la valeur de la date de naissance au format date (string au départ)\n",
    "        birth_year = birth_date.year # ne garder que l'année de la date de naissance\n",
    "    except ValueError:\n",
    "        birth_year = \"????\" # ignorer les valeurs inconnues\n",
    "    try:\n",
    "        death_date = dt.strptime(row['dateDeath']['value'], date_format) # idem pour la date de mort\n",
    "        death_year = death_date.year\n",
    "    except ValueError: # unknown death date\n",
    "        death_date = \"????\"\n",
    "    except KeyError: # still alive\n",
    "        death_date = \"\" # ignorer l'erreur si l'année de mort n'est pas encore connue\n",
    "    print(f\"{row['personLabel']['value']} ({birth_date}-{death_date})\") # afficher la date complète en choississant la bonne variable"
   ]
  },
  {
   "cell_type": "code",
   "execution_count": 26,
   "metadata": {},
   "outputs": [
    {
     "name": "stdout",
     "output_type": "stream",
     "text": [
      "Help on built-in function strptime:\n",
      "\n",
      "strptime(...) method of builtins.type instance\n",
      "    string, format -> new datetime parsed from a string (like time.strptime()).\n",
      "\n"
     ]
    }
   ],
   "source": [
    "help(dt.strptime)"
   ]
  },
  {
   "cell_type": "markdown",
   "metadata": {},
   "source": [
    "## Nouvelle requête pour les bulletins de la Ville de Bruxelles"
   ]
  },
  {
   "cell_type": "code",
   "execution_count": 45,
   "metadata": {},
   "outputs": [
    {
     "name": "stdout",
     "output_type": "stream",
     "text": [
      "\n",
      "46 Bourgmestres de la Ville de Bruxelles trouvés\n",
      "\n",
      "[{'person': {'type': 'uri', 'value': 'http://www.wikidata.org/entity/Q2535128'}, 'personLabel': {'xml:lang': 'en', 'type': 'literal', 'value': 'Adolphe Max'}}, {'person': {'type': 'uri', 'value': 'http://www.wikidata.org/entity/Q106764198'}, 'personLabel': {'xml:lang': 'en', 'type': 'literal', 'value': \"Adrien de Grimberghe, seigneur d'Assche\"}}, {'person': {'type': 'uri', 'value': 'http://www.wikidata.org/entity/Q2744763'}, 'personLabel': {'xml:lang': 'en', 'type': 'literal', 'value': 'André-Napoléon Fontainas'}}, {'person': {'type': 'uri', 'value': 'http://www.wikidata.org/entity/Q106764214'}, 'personLabel': {'xml:lang': 'en', 'type': 'literal', 'value': 'Antoine de Grimbergen van Assche'}}, {'person': {'type': 'uri', 'value': 'http://www.wikidata.org/entity/Q716382'}, 'personLabel': {'xml:lang': 'en', 'type': 'literal', 'value': 'Charles Buls'}}, {'person': {'type': 'uri', 'value': 'http://www.wikidata.org/entity/Q1066539'}, 'personLabel': {'xml:lang': 'en', 'type': 'literal', 'value': 'Charles de Brouckère'}}, {'person': {'type': 'uri', 'value': 'http://www.wikidata.org/entity/Q74747'}, 'personLabel': {'xml:lang': 'en', 'type': 'literal', 'value': \"Charles-Joseph, 4th Duke d'Ursel\"}}, {'person': {'type': 'uri', 'value': 'http://www.wikidata.org/entity/Q2960653'}, 'personLabel': {'xml:lang': 'en', 'type': 'literal', 'value': \"Comte Guillaume de Merode, 5th Prince de Rubempré et d'Everberghe\"}}, {'person': {'type': 'uri', 'value': 'http://www.wikidata.org/entity/Q88257389'}, 'personLabel': {'xml:lang': 'en', 'type': 'literal', 'value': 'Engelbert Taie'}}, {'person': {'type': 'uri', 'value': 'http://www.wikidata.org/entity/Q3092630'}, 'personLabel': {'xml:lang': 'en', 'type': 'literal', 'value': 'Felix Vanderstraeten'}}]\n"
     ]
    }
   ],
   "source": [
    "endpoint = \"https://query.wikidata.org/bigdata/namespace/wdq/sparql\" # wikidata au format RDF\n",
    "sparql = SPARQLWrapper(endpoint) # stockage de l'adressage dans une variable\n",
    "\n",
    "# P39 = fonction occupée par une personne\n",
    "# Q33126365 = bourgmestre de Bruxelles\n",
    "# P580 = date de début\n",
    "# P582 = date de fin\n",
    "\n",
    "# stocker la requête dans une variable\n",
    "# quels sont les uri's des politiciens belges, leur label/nom, leurs dates de naissance et de mort (s'ils sont morts) ?\n",
    "\n",
    "statement = \"\"\"\n",
    "SELECT DISTINCT ?person ?personLabel ?timeStart ?endDate WHERE {\n",
    "    ?person wdt:P39 wd:Q33126365 .\n",
    "    OPTIONAL {?person wdt:P580 ?timeStart .}\n",
    "    OPTIONAL {?person wdt:P582 ?endDate .}\n",
    "    SERVICE wikibase:label { bd:serviceParam wikibase:language \"en\" . }\n",
    "}\n",
    "ORDER BY ?personLabel\n",
    "\"\"\"\n",
    "\n",
    "sparql.setQuery(statement) # adresse la requête à wikidata\n",
    "sparql.setReturnFormat(JSON) # retourner le résultat au format json\n",
    "results = sparql.query().convert() # stocker les résultats convertis dans une variable\n",
    "\n",
    "rows = results['results']['bindings'] # créer une liste de résultats avec le lien associé à chaque label\n",
    "print(f\"\\n{len(rows)} Bourgmestres de la Ville de Bruxelles trouvés\\n\") # imprimer le nombre de politiciens recensés par la requête\n",
    "print(rows[:10]) # imprimer les 10 premiers résultats"
   ]
  },
  {
   "cell_type": "markdown",
   "metadata": {},
   "source": [
    "## Pour en savoir plus"
   ]
  },
  {
   "cell_type": "markdown",
   "metadata": {},
   "source": [
    "- Le projet Wikidata : https://www.wikidata.org/wiki/Wikidata:Main_Page\n",
    "- Aide à la construction de requêtes : https://query.wikidata.org/"
   ]
  }
 ],
 "metadata": {
  "interpreter": {
   "hash": "ecadf678c2a99549a40a62f8c8c34fa2ffbed5edfe397d36df0dc24c8d085e92"
  },
  "kernelspec": {
   "display_name": "Python 3 (ipykernel)",
   "language": "python",
   "name": "python3"
  },
  "language_info": {
   "codemirror_mode": {
    "name": "ipython",
    "version": 3
   },
   "file_extension": ".py",
   "mimetype": "text/x-python",
   "name": "python",
   "nbconvert_exporter": "python",
   "pygments_lexer": "ipython3",
   "version": "3.9.7"
  }
 },
 "nbformat": 4,
 "nbformat_minor": 4
}
