{
 "cells": [
  {
   "attachments": {},
   "cell_type": "markdown",
   "metadata": {},
   "source": [
    "# Sentiment analysis \n",
    "\n",
    "## 1. Textblob-FR\n",
    "\n",
    "Documentation: https://textblob.readthedocs.io/en/dev/\n",
    "\n",
    "### Imports"
   ]
  },
  {
   "cell_type": "code",
   "execution_count": null,
   "metadata": {},
   "outputs": [],
   "source": [
    "import sys\n",
    "from textblob import Blobber\n",
    "from textblob_fr import PatternTagger, PatternAnalyzer"
   ]
  },
  {
   "attachments": {},
   "cell_type": "markdown",
   "metadata": {},
   "source": [
    "### Création d'une fonction `get_sentiment`"
   ]
  },
  {
   "cell_type": "code",
   "execution_count": null,
   "metadata": {},
   "outputs": [],
   "source": [
    "tb = Blobber(pos_tagger=PatternTagger(), analyzer=PatternAnalyzer())\n",
    "\n",
    "def get_sentiment(input_text):\n",
    "    blob = tb(input_text)\n",
    "    polarity, subjectivity = blob.sentiment\n",
    "    polarity_perc = f\"{100*abs(polarity):.0f}\"\n",
    "    subjectivity_perc = f\"{100*subjectivity:.0f}\"\n",
    "    if polarity > 0:\n",
    "        polarity_str = f\"{polarity_perc}% positive\"\n",
    "    elif polarity < 0:\n",
    "        polarity_str = f\"{polarity_perc}% negative\"\n",
    "    else:\n",
    "        polarity_str = \"neutral\"\n",
    "    if subjectivity > 0:\n",
    "        subjectivity_str = f\"{subjectivity_perc}% subjective\"\n",
    "    else:\n",
    "        subjectivity_str = \"perfectly objective\"\n",
    "    print(f\"This text is {polarity_str} and {subjectivity_str}.\")"
   ]
  },
  {
   "attachments": {},
   "cell_type": "markdown",
   "metadata": {},
   "source": [
    "### Analyser le sentiment d'une phrase"
   ]
  },
  {
   "cell_type": "code",
   "execution_count": null,
   "metadata": {
    "tags": []
   },
   "outputs": [],
   "source": [
    "get_sentiment(\"Ce journal est vraiment super intéressant.\")"
   ]
  },
  {
   "cell_type": "code",
   "execution_count": null,
   "metadata": {
    "tags": []
   },
   "outputs": [],
   "source": [
    "get_sentiment(\"Cette phrase est négative et je ne suis pas content !\")"
   ]
  },
  {
   "attachments": {},
   "cell_type": "markdown",
   "metadata": {},
   "source": [
    "## 2. Utilisation de transformers\n",
    "\n",
    "Documentation: https://github.com/TheophileBlard/french-sentiment-analysis-with-bert\n",
    "\n",
    "**!!** Si le code ne tourne pas sur votre machine, vous pouvez le tester directement sur Google Colab en utilisant [ce lien](https://colab.research.google.com/github/TheophileBlard/french-sentiment-analysis-with-bert/blob/master/colab/french_sentiment_analysis_with_bert.ipynb) **!!**\n",
    "\n",
    "Le modèle peut également être testé en ligne sur [HuggingFace](https://huggingface.co/tblard/tf-allocine)\n",
    "\n",
    "### Installation des librairies et imports"
   ]
  },
  {
   "cell_type": "code",
   "execution_count": 2,
   "metadata": {},
   "outputs": [
    {
     "name": "stdout",
     "output_type": "stream",
     "text": [
      "Requirement already satisfied: gensim in c:\\users\\val.consult_\\anaconda3\\lib\\site-packages (4.3.0)\n",
      "Collecting gensim\n",
      "  Downloading gensim-4.3.1-cp310-cp310-win_amd64.whl (24.0 MB)\n",
      "                                              0.0/24.0 MB ? eta -:--:--\n",
      "                                             0.0/24.0 MB 991.0 kB/s eta 0:00:25\n",
      "                                              0.1/24.0 MB 1.7 MB/s eta 0:00:14\n",
      "                                              0.2/24.0 MB 2.0 MB/s eta 0:00:13\n",
      "                                              0.3/24.0 MB 1.7 MB/s eta 0:00:14\n",
      "                                              0.4/24.0 MB 1.9 MB/s eta 0:00:13\n",
      "                                              0.6/24.0 MB 2.1 MB/s eta 0:00:12\n",
      "     -                                        0.7/24.0 MB 2.3 MB/s eta 0:00:10\n",
      "     -                                        0.9/24.0 MB 2.5 MB/s eta 0:00:10\n",
      "     -                                        1.1/24.0 MB 2.7 MB/s eta 0:00:09\n",
      "     --                                       1.3/24.0 MB 2.8 MB/s eta 0:00:08\n",
      "     --                                       1.6/24.0 MB 3.1 MB/s eta 0:00:08\n",
      "     ---                                      1.9/24.0 MB 3.3 MB/s eta 0:00:07\n",
      "     ---                                      2.1/24.0 MB 3.4 MB/s eta 0:00:07\n",
      "     ---                                      2.3/24.0 MB 3.4 MB/s eta 0:00:07\n",
      "     ----                                     2.5/24.0 MB 3.6 MB/s eta 0:00:06\n",
      "     ----                                     2.8/24.0 MB 3.6 MB/s eta 0:00:06\n",
      "     -----                                    3.0/24.0 MB 3.7 MB/s eta 0:00:06\n",
      "     -----                                    3.3/24.0 MB 3.8 MB/s eta 0:00:06\n",
      "     -----                                    3.5/24.0 MB 3.9 MB/s eta 0:00:06\n",
      "     -----                                    3.5/24.0 MB 3.8 MB/s eta 0:00:06\n",
      "     ------                                   4.0/24.0 MB 3.9 MB/s eta 0:00:06\n",
      "     -------                                  4.4/24.0 MB 4.0 MB/s eta 0:00:05\n",
      "     -------                                  4.6/24.0 MB 4.0 MB/s eta 0:00:05\n",
      "     -------                                  4.8/24.0 MB 4.1 MB/s eta 0:00:05\n",
      "     --------                                 5.0/24.0 MB 4.0 MB/s eta 0:00:05\n",
      "     --------                                 5.3/24.0 MB 4.1 MB/s eta 0:00:05\n",
      "     ---------                                5.4/24.0 MB 4.0 MB/s eta 0:00:05\n",
      "     ---------                                5.6/24.0 MB 4.0 MB/s eta 0:00:05\n",
      "     ---------                                5.9/24.0 MB 4.0 MB/s eta 0:00:05\n",
      "     ----------                               6.1/24.0 MB 4.0 MB/s eta 0:00:05\n",
      "     ----------                               6.3/24.0 MB 4.1 MB/s eta 0:00:05\n",
      "     ----------                               6.6/24.0 MB 4.1 MB/s eta 0:00:05\n",
      "     -----------                              6.9/24.0 MB 4.1 MB/s eta 0:00:05\n",
      "     -----------                              7.2/24.0 MB 4.2 MB/s eta 0:00:05\n",
      "     ------------                             7.5/24.0 MB 4.2 MB/s eta 0:00:04\n",
      "     -------------                            7.8/24.0 MB 4.3 MB/s eta 0:00:04\n",
      "     -------------                            8.1/24.0 MB 4.3 MB/s eta 0:00:04\n",
      "     -------------                            8.3/24.0 MB 4.3 MB/s eta 0:00:04\n",
      "     --------------                           8.5/24.0 MB 4.3 MB/s eta 0:00:04\n",
      "     --------------                           8.7/24.0 MB 4.2 MB/s eta 0:00:04\n",
      "     --------------                           8.9/24.0 MB 4.3 MB/s eta 0:00:04\n",
      "     ---------------                          9.2/24.0 MB 4.3 MB/s eta 0:00:04\n",
      "     ---------------                          9.4/24.0 MB 4.3 MB/s eta 0:00:04\n",
      "     ----------------                         9.6/24.0 MB 4.3 MB/s eta 0:00:04\n",
      "     ----------------                         9.9/24.0 MB 4.3 MB/s eta 0:00:04\n",
      "     ----------------                         10.1/24.0 MB 4.3 MB/s eta 0:00:04\n",
      "     -----------------                        10.4/24.0 MB 4.5 MB/s eta 0:00:04\n",
      "     -----------------                        10.6/24.0 MB 4.6 MB/s eta 0:00:03\n",
      "     -----------------                        10.8/24.0 MB 4.6 MB/s eta 0:00:03\n",
      "     ------------------                       11.0/24.0 MB 4.7 MB/s eta 0:00:03\n",
      "     ------------------                       11.2/24.0 MB 4.7 MB/s eta 0:00:03\n",
      "     -------------------                      11.5/24.0 MB 4.7 MB/s eta 0:00:03\n",
      "     -------------------                      11.6/24.0 MB 4.7 MB/s eta 0:00:03\n",
      "     -------------------                      11.8/24.0 MB 4.7 MB/s eta 0:00:03\n",
      "     --------------------                     12.1/24.0 MB 4.7 MB/s eta 0:00:03\n",
      "     --------------------                     12.3/24.0 MB 4.6 MB/s eta 0:00:03\n",
      "     --------------------                     12.5/24.0 MB 4.6 MB/s eta 0:00:03\n",
      "     ---------------------                    12.8/24.0 MB 4.6 MB/s eta 0:00:03\n",
      "     ---------------------                    12.8/24.0 MB 4.6 MB/s eta 0:00:03\n",
      "     ---------------------                    12.8/24.0 MB 4.6 MB/s eta 0:00:03\n",
      "     ----------------------                   13.4/24.0 MB 4.6 MB/s eta 0:00:03\n",
      "     ----------------------                   13.7/24.0 MB 4.6 MB/s eta 0:00:03\n",
      "     -----------------------                  13.9/24.0 MB 4.7 MB/s eta 0:00:03\n",
      "     -----------------------                  14.0/24.0 MB 4.7 MB/s eta 0:00:03\n",
      "     -----------------------                  14.1/24.0 MB 4.5 MB/s eta 0:00:03\n",
      "     -----------------------                  14.3/24.0 MB 4.5 MB/s eta 0:00:03\n",
      "     ------------------------                 14.5/24.0 MB 4.5 MB/s eta 0:00:03\n",
      "     ------------------------                 14.7/24.0 MB 4.4 MB/s eta 0:00:03\n",
      "     ------------------------                 14.7/24.0 MB 4.4 MB/s eta 0:00:03\n",
      "     ------------------------                 15.0/24.0 MB 4.3 MB/s eta 0:00:03\n",
      "     -------------------------                15.3/24.0 MB 4.4 MB/s eta 0:00:02\n",
      "     -------------------------                15.5/24.0 MB 4.4 MB/s eta 0:00:02\n",
      "     --------------------------               15.8/24.0 MB 4.5 MB/s eta 0:00:02\n",
      "     ---------------------------              16.3/24.0 MB 4.5 MB/s eta 0:00:02\n",
      "     ---------------------------              16.5/24.0 MB 4.5 MB/s eta 0:00:02\n",
      "     ----------------------------             16.9/24.0 MB 4.5 MB/s eta 0:00:02\n",
      "     ----------------------------             17.2/24.0 MB 4.5 MB/s eta 0:00:02\n",
      "     ----------------------------             17.3/24.0 MB 4.5 MB/s eta 0:00:02\n",
      "     -----------------------------            17.7/24.0 MB 4.4 MB/s eta 0:00:02\n",
      "     -----------------------------            17.9/24.0 MB 4.4 MB/s eta 0:00:02\n",
      "     ------------------------------           18.0/24.0 MB 4.3 MB/s eta 0:00:02\n",
      "     ------------------------------           18.0/24.0 MB 4.3 MB/s eta 0:00:02\n",
      "     ------------------------------           18.0/24.0 MB 4.3 MB/s eta 0:00:02\n",
      "     ------------------------------           18.0/24.0 MB 4.3 MB/s eta 0:00:02\n",
      "     ------------------------------           18.0/24.0 MB 4.3 MB/s eta 0:00:02\n",
      "     ------------------------------           18.0/24.0 MB 4.3 MB/s eta 0:00:02\n",
      "     ------------------------------           18.1/24.0 MB 3.7 MB/s eta 0:00:02\n",
      "     ------------------------------           18.1/24.0 MB 3.7 MB/s eta 0:00:02\n",
      "     ------------------------------           18.2/24.0 MB 3.6 MB/s eta 0:00:02\n",
      "     ------------------------------           18.2/24.0 MB 3.6 MB/s eta 0:00:02\n",
      "     ------------------------------           18.2/24.0 MB 3.5 MB/s eta 0:00:02\n",
      "     ------------------------------           18.3/24.0 MB 3.4 MB/s eta 0:00:02\n",
      "     ------------------------------           18.3/24.0 MB 3.3 MB/s eta 0:00:02\n",
      "     ------------------------------           18.4/24.0 MB 3.2 MB/s eta 0:00:02\n",
      "     ------------------------------           18.4/24.0 MB 3.2 MB/s eta 0:00:02\n",
      "     ------------------------------           18.4/24.0 MB 3.2 MB/s eta 0:00:02\n",
      "     ------------------------------           18.4/24.0 MB 3.1 MB/s eta 0:00:02\n",
      "     ------------------------------           18.5/24.0 MB 3.1 MB/s eta 0:00:02\n",
      "     -------------------------------          18.7/24.0 MB 3.0 MB/s eta 0:00:02\n",
      "     -------------------------------          18.8/24.0 MB 3.0 MB/s eta 0:00:02\n",
      "     -------------------------------          18.8/24.0 MB 3.0 MB/s eta 0:00:02\n",
      "     -------------------------------          18.9/24.0 MB 2.9 MB/s eta 0:00:02\n",
      "     -------------------------------          18.9/24.0 MB 2.9 MB/s eta 0:00:02\n",
      "     -------------------------------          19.0/24.0 MB 2.8 MB/s eta 0:00:02\n",
      "     -------------------------------          19.0/24.0 MB 2.8 MB/s eta 0:00:02\n",
      "     -------------------------------          19.0/24.0 MB 2.8 MB/s eta 0:00:02\n",
      "     -------------------------------          19.0/24.0 MB 2.7 MB/s eta 0:00:02\n",
      "     -------------------------------          19.2/24.0 MB 2.7 MB/s eta 0:00:02\n",
      "     --------------------------------         19.3/24.0 MB 2.7 MB/s eta 0:00:02\n",
      "     --------------------------------         19.4/24.0 MB 2.7 MB/s eta 0:00:02\n",
      "     --------------------------------         19.5/24.0 MB 2.6 MB/s eta 0:00:02\n",
      "     --------------------------------         19.7/24.0 MB 2.6 MB/s eta 0:00:02\n",
      "     ---------------------------------        19.8/24.0 MB 2.6 MB/s eta 0:00:02\n",
      "     ---------------------------------        19.8/24.0 MB 2.5 MB/s eta 0:00:02\n",
      "     ---------------------------------        19.9/24.0 MB 2.5 MB/s eta 0:00:02\n",
      "     ---------------------------------        20.2/24.0 MB 2.5 MB/s eta 0:00:02\n",
      "     ---------------------------------        20.2/24.0 MB 2.5 MB/s eta 0:00:02\n",
      "     ---------------------------------        20.2/24.0 MB 2.5 MB/s eta 0:00:02\n",
      "     ---------------------------------        20.3/24.0 MB 2.4 MB/s eta 0:00:02\n",
      "     ----------------------------------       20.4/24.0 MB 2.4 MB/s eta 0:00:02\n",
      "     ----------------------------------       20.4/24.0 MB 2.4 MB/s eta 0:00:02\n",
      "     ----------------------------------       20.5/24.0 MB 2.4 MB/s eta 0:00:02\n",
      "     ----------------------------------       20.6/24.0 MB 2.4 MB/s eta 0:00:02\n",
      "     ----------------------------------       20.6/24.0 MB 2.4 MB/s eta 0:00:02\n",
      "     ----------------------------------       20.7/24.0 MB 2.4 MB/s eta 0:00:02\n",
      "     ----------------------------------       20.8/24.0 MB 2.3 MB/s eta 0:00:02\n",
      "     ----------------------------------       20.9/24.0 MB 2.3 MB/s eta 0:00:02\n",
      "     -----------------------------------      21.0/24.0 MB 2.3 MB/s eta 0:00:02\n",
      "     -----------------------------------      21.1/24.0 MB 2.3 MB/s eta 0:00:02\n",
      "     -----------------------------------      21.2/24.0 MB 2.3 MB/s eta 0:00:02\n",
      "     -----------------------------------      21.3/24.0 MB 2.3 MB/s eta 0:00:02\n",
      "     -----------------------------------      21.3/24.0 MB 2.3 MB/s eta 0:00:02\n",
      "     -----------------------------------      21.4/24.0 MB 2.2 MB/s eta 0:00:02\n",
      "     -----------------------------------      21.5/24.0 MB 2.2 MB/s eta 0:00:02\n",
      "     -----------------------------------      21.5/24.0 MB 2.2 MB/s eta 0:00:02\n",
      "     -----------------------------------      21.5/24.0 MB 2.2 MB/s eta 0:00:02\n",
      "     ------------------------------------     21.6/24.0 MB 2.1 MB/s eta 0:00:02\n",
      "     ------------------------------------     21.9/24.0 MB 2.1 MB/s eta 0:00:01\n",
      "     -------------------------------------    22.2/24.0 MB 2.1 MB/s eta 0:00:01\n",
      "     -------------------------------------    22.4/24.0 MB 2.1 MB/s eta 0:00:01\n",
      "     -------------------------------------    22.7/24.0 MB 2.2 MB/s eta 0:00:01\n",
      "     --------------------------------------   22.8/24.0 MB 2.1 MB/s eta 0:00:01\n",
      "     --------------------------------------   22.9/24.0 MB 2.1 MB/s eta 0:00:01\n",
      "     --------------------------------------   23.0/24.0 MB 2.1 MB/s eta 0:00:01\n",
      "     --------------------------------------   23.1/24.0 MB 2.1 MB/s eta 0:00:01\n",
      "     --------------------------------------   23.3/24.0 MB 2.1 MB/s eta 0:00:01\n",
      "     ---------------------------------------  23.4/24.0 MB 2.1 MB/s eta 0:00:01\n",
      "     ---------------------------------------  23.7/24.0 MB 2.1 MB/s eta 0:00:01\n",
      "     ---------------------------------------  23.9/24.0 MB 2.1 MB/s eta 0:00:01\n",
      "     ---------------------------------------  24.0/24.0 MB 2.1 MB/s eta 0:00:01\n",
      "     ---------------------------------------  24.0/24.0 MB 2.1 MB/s eta 0:00:01\n",
      "     ---------------------------------------- 24.0/24.0 MB 2.0 MB/s eta 0:00:00\n",
      "Requirement already satisfied: numpy>=1.18.5 in c:\\users\\val.consult_\\anaconda3\\lib\\site-packages (from gensim) (1.23.5)\n",
      "Requirement already satisfied: scipy>=1.7.0 in c:\\users\\val.consult_\\anaconda3\\lib\\site-packages (from gensim) (1.10.0)\n",
      "Requirement already satisfied: smart-open>=1.8.1 in c:\\users\\val.consult_\\anaconda3\\lib\\site-packages (from gensim) (5.2.1)\n",
      "Installing collected packages: gensim\n",
      "  Attempting uninstall: gensim\n",
      "    Found existing installation: gensim 4.3.0\n",
      "    Uninstalling gensim-4.3.0:\n",
      "      Successfully uninstalled gensim-4.3.0\n",
      "Successfully installed gensim-4.3.1\n"
     ]
    }
   ],
   "source": [
    "!pip install --upgrade gensim"
   ]
  },
  {
   "cell_type": "code",
   "execution_count": 3,
   "metadata": {},
   "outputs": [
    {
     "name": "stdout",
     "output_type": "stream",
     "text": [
      "Collecting FuzzyTM\n",
      "  Downloading FuzzyTM-2.0.5-py3-none-any.whl (29 kB)\n",
      "Requirement already satisfied: numpy in c:\\users\\val.consult_\\anaconda3\\lib\\site-packages (from FuzzyTM) (1.23.5)\n",
      "Requirement already satisfied: pandas in c:\\users\\val.consult_\\anaconda3\\lib\\site-packages (from FuzzyTM) (1.5.3)\n",
      "Requirement already satisfied: scipy in c:\\users\\val.consult_\\anaconda3\\lib\\site-packages (from FuzzyTM) (1.10.0)\n",
      "Collecting pyfume (from FuzzyTM)\n",
      "  Downloading pyFUME-0.2.25-py3-none-any.whl (67 kB)\n",
      "                                              0.0/67.1 kB ? eta -:--:--\n",
      "     ---------------------------------------- 67.1/67.1 kB 3.6 MB/s eta 0:00:00\n",
      "Requirement already satisfied: python-dateutil>=2.8.1 in c:\\users\\val.consult_\\anaconda3\\lib\\site-packages (from pandas->FuzzyTM) (2.8.2)\n",
      "Requirement already satisfied: pytz>=2020.1 in c:\\users\\val.consult_\\anaconda3\\lib\\site-packages (from pandas->FuzzyTM) (2022.7)\n",
      "Collecting simpful (from pyfume->FuzzyTM)\n",
      "  Downloading simpful-2.11.0-py3-none-any.whl (32 kB)\n",
      "Collecting fst-pso (from pyfume->FuzzyTM)\n",
      "  Downloading fst-pso-1.8.1.tar.gz (18 kB)\n",
      "  Preparing metadata (setup.py): started\n",
      "  Preparing metadata (setup.py): finished with status 'done'\n",
      "Requirement already satisfied: six>=1.5 in c:\\users\\val.consult_\\anaconda3\\lib\\site-packages (from python-dateutil>=2.8.1->pandas->FuzzyTM) (1.16.0)\n",
      "Collecting miniful (from fst-pso->pyfume->FuzzyTM)\n",
      "  Downloading miniful-0.0.6.tar.gz (2.8 kB)\n",
      "  Preparing metadata (setup.py): started\n",
      "  Preparing metadata (setup.py): finished with status 'done'\n",
      "Building wheels for collected packages: fst-pso, miniful\n",
      "  Building wheel for fst-pso (setup.py): started\n",
      "  Building wheel for fst-pso (setup.py): finished with status 'done'\n",
      "  Created wheel for fst-pso: filename=fst_pso-1.8.1-py3-none-any.whl size=20448 sha256=ad7dd7fa517223e46ff18f957a000fab277a6f5b6c925ba7679f20c57935d003\n",
      "  Stored in directory: c:\\users\\val.consult_\\appdata\\local\\pip\\cache\\wheels\\2d\\1b\\42\\88a19f6b3896c2230d5053832f208976cddf70625885201d06\n",
      "  Building wheel for miniful (setup.py): started\n",
      "  Building wheel for miniful (setup.py): finished with status 'done'\n",
      "  Created wheel for miniful: filename=miniful-0.0.6-py3-none-any.whl size=3522 sha256=6d363d794b717a93d6f3c57b6332470a30d274018a3e357b8fc9c552c7ed9b2e\n",
      "  Stored in directory: c:\\users\\val.consult_\\appdata\\local\\pip\\cache\\wheels\\5b\\86\\8f\\7bb7f6472e2c84de7addfc1a5cd7fd647f00d8fb640da9ea9a\n",
      "Successfully built fst-pso miniful\n",
      "Installing collected packages: simpful, miniful, fst-pso, pyfume, FuzzyTM\n",
      "Successfully installed FuzzyTM-2.0.5 fst-pso-1.8.1 miniful-0.0.6 pyfume-0.2.25 simpful-2.11.0\n"
     ]
    }
   ],
   "source": [
    "!pip install FuzzyTM"
   ]
  },
  {
   "cell_type": "code",
   "execution_count": 4,
   "metadata": {},
   "outputs": [
    {
     "name": "stdout",
     "output_type": "stream",
     "text": [
      "Requirement already satisfied: tensorflow in c:\\users\\val.consult_\\anaconda3\\lib\\site-packages (2.12.0)\n",
      "Requirement already satisfied: tensorflow-intel==2.12.0 in c:\\users\\val.consult_\\anaconda3\\lib\\site-packages (from tensorflow) (2.12.0)\n",
      "Requirement already satisfied: absl-py>=1.0.0 in c:\\users\\val.consult_\\anaconda3\\lib\\site-packages (from tensorflow-intel==2.12.0->tensorflow) (1.4.0)\n",
      "Requirement already satisfied: astunparse>=1.6.0 in c:\\users\\val.consult_\\anaconda3\\lib\\site-packages (from tensorflow-intel==2.12.0->tensorflow) (1.6.3)\n",
      "Requirement already satisfied: flatbuffers>=2.0 in c:\\users\\val.consult_\\anaconda3\\lib\\site-packages (from tensorflow-intel==2.12.0->tensorflow) (23.5.26)\n",
      "Requirement already satisfied: gast<=0.4.0,>=0.2.1 in c:\\users\\val.consult_\\anaconda3\\lib\\site-packages (from tensorflow-intel==2.12.0->tensorflow) (0.4.0)\n",
      "Requirement already satisfied: google-pasta>=0.1.1 in c:\\users\\val.consult_\\anaconda3\\lib\\site-packages (from tensorflow-intel==2.12.0->tensorflow) (0.2.0)\n",
      "Requirement already satisfied: h5py>=2.9.0 in c:\\users\\val.consult_\\anaconda3\\lib\\site-packages (from tensorflow-intel==2.12.0->tensorflow) (3.7.0)\n",
      "Requirement already satisfied: jax>=0.3.15 in c:\\users\\val.consult_\\anaconda3\\lib\\site-packages (from tensorflow-intel==2.12.0->tensorflow) (0.4.10)\n",
      "Requirement already satisfied: libclang>=13.0.0 in c:\\users\\val.consult_\\anaconda3\\lib\\site-packages (from tensorflow-intel==2.12.0->tensorflow) (16.0.0)\n",
      "Requirement already satisfied: numpy<1.24,>=1.22 in c:\\users\\val.consult_\\anaconda3\\lib\\site-packages (from tensorflow-intel==2.12.0->tensorflow) (1.23.5)\n",
      "Requirement already satisfied: opt-einsum>=2.3.2 in c:\\users\\val.consult_\\anaconda3\\lib\\site-packages (from tensorflow-intel==2.12.0->tensorflow) (3.3.0)\n",
      "Requirement already satisfied: packaging in c:\\users\\val.consult_\\anaconda3\\lib\\site-packages (from tensorflow-intel==2.12.0->tensorflow) (22.0)\n",
      "Requirement already satisfied: protobuf!=4.21.0,!=4.21.1,!=4.21.2,!=4.21.3,!=4.21.4,!=4.21.5,<5.0.0dev,>=3.20.3 in c:\\users\\val.consult_\\anaconda3\\lib\\site-packages (from tensorflow-intel==2.12.0->tensorflow) (4.23.2)\n",
      "Requirement already satisfied: setuptools in c:\\users\\val.consult_\\anaconda3\\lib\\site-packages (from tensorflow-intel==2.12.0->tensorflow) (65.6.3)\n",
      "Requirement already satisfied: six>=1.12.0 in c:\\users\\val.consult_\\anaconda3\\lib\\site-packages (from tensorflow-intel==2.12.0->tensorflow) (1.16.0)\n",
      "Requirement already satisfied: termcolor>=1.1.0 in c:\\users\\val.consult_\\anaconda3\\lib\\site-packages (from tensorflow-intel==2.12.0->tensorflow) (2.3.0)\n",
      "Requirement already satisfied: typing-extensions>=3.6.6 in c:\\users\\val.consult_\\anaconda3\\lib\\site-packages (from tensorflow-intel==2.12.0->tensorflow) (4.4.0)\n",
      "Requirement already satisfied: wrapt<1.15,>=1.11.0 in c:\\users\\val.consult_\\anaconda3\\lib\\site-packages (from tensorflow-intel==2.12.0->tensorflow) (1.14.1)\n",
      "Requirement already satisfied: grpcio<2.0,>=1.24.3 in c:\\users\\val.consult_\\anaconda3\\lib\\site-packages (from tensorflow-intel==2.12.0->tensorflow) (1.54.2)\n",
      "Requirement already satisfied: tensorboard<2.13,>=2.12 in c:\\users\\val.consult_\\anaconda3\\lib\\site-packages (from tensorflow-intel==2.12.0->tensorflow) (2.12.3)\n",
      "Requirement already satisfied: tensorflow-estimator<2.13,>=2.12.0 in c:\\users\\val.consult_\\anaconda3\\lib\\site-packages (from tensorflow-intel==2.12.0->tensorflow) (2.12.0)\n",
      "Requirement already satisfied: keras<2.13,>=2.12.0 in c:\\users\\val.consult_\\anaconda3\\lib\\site-packages (from tensorflow-intel==2.12.0->tensorflow) (2.12.0)\n",
      "Requirement already satisfied: tensorflow-io-gcs-filesystem>=0.23.1 in c:\\users\\val.consult_\\anaconda3\\lib\\site-packages (from tensorflow-intel==2.12.0->tensorflow) (0.31.0)\n",
      "Requirement already satisfied: wheel<1.0,>=0.23.0 in c:\\users\\val.consult_\\anaconda3\\lib\\site-packages (from astunparse>=1.6.0->tensorflow-intel==2.12.0->tensorflow) (0.38.4)\n",
      "Requirement already satisfied: ml-dtypes>=0.1.0 in c:\\users\\val.consult_\\anaconda3\\lib\\site-packages (from jax>=0.3.15->tensorflow-intel==2.12.0->tensorflow) (0.1.0)\n",
      "Requirement already satisfied: scipy>=1.7 in c:\\users\\val.consult_\\anaconda3\\lib\\site-packages (from jax>=0.3.15->tensorflow-intel==2.12.0->tensorflow) (1.10.0)\n",
      "Requirement already satisfied: google-auth<3,>=1.6.3 in c:\\users\\val.consult_\\anaconda3\\lib\\site-packages (from tensorboard<2.13,>=2.12->tensorflow-intel==2.12.0->tensorflow) (2.19.0)\n",
      "Requirement already satisfied: google-auth-oauthlib<1.1,>=0.5 in c:\\users\\val.consult_\\anaconda3\\lib\\site-packages (from tensorboard<2.13,>=2.12->tensorflow-intel==2.12.0->tensorflow) (1.0.0)\n",
      "Requirement already satisfied: markdown>=2.6.8 in c:\\users\\val.consult_\\anaconda3\\lib\\site-packages (from tensorboard<2.13,>=2.12->tensorflow-intel==2.12.0->tensorflow) (3.4.1)\n",
      "Requirement already satisfied: requests<3,>=2.21.0 in c:\\users\\val.consult_\\anaconda3\\lib\\site-packages (from tensorboard<2.13,>=2.12->tensorflow-intel==2.12.0->tensorflow) (2.28.1)\n",
      "Requirement already satisfied: tensorboard-data-server<0.8.0,>=0.7.0 in c:\\users\\val.consult_\\anaconda3\\lib\\site-packages (from tensorboard<2.13,>=2.12->tensorflow-intel==2.12.0->tensorflow) (0.7.0)\n",
      "Requirement already satisfied: werkzeug>=1.0.1 in c:\\users\\val.consult_\\anaconda3\\lib\\site-packages (from tensorboard<2.13,>=2.12->tensorflow-intel==2.12.0->tensorflow) (2.2.2)\n",
      "Requirement already satisfied: cachetools<6.0,>=2.0.0 in c:\\users\\val.consult_\\anaconda3\\lib\\site-packages (from google-auth<3,>=1.6.3->tensorboard<2.13,>=2.12->tensorflow-intel==2.12.0->tensorflow) (5.3.1)\n",
      "Requirement already satisfied: pyasn1-modules>=0.2.1 in c:\\users\\val.consult_\\anaconda3\\lib\\site-packages (from google-auth<3,>=1.6.3->tensorboard<2.13,>=2.12->tensorflow-intel==2.12.0->tensorflow) (0.2.8)\n",
      "Requirement already satisfied: rsa<5,>=3.1.4 in c:\\users\\val.consult_\\anaconda3\\lib\\site-packages (from google-auth<3,>=1.6.3->tensorboard<2.13,>=2.12->tensorflow-intel==2.12.0->tensorflow) (4.9)\n",
      "Requirement already satisfied: urllib3<2.0 in c:\\users\\val.consult_\\anaconda3\\lib\\site-packages (from google-auth<3,>=1.6.3->tensorboard<2.13,>=2.12->tensorflow-intel==2.12.0->tensorflow) (1.26.14)\n",
      "Requirement already satisfied: requests-oauthlib>=0.7.0 in c:\\users\\val.consult_\\anaconda3\\lib\\site-packages (from google-auth-oauthlib<1.1,>=0.5->tensorboard<2.13,>=2.12->tensorflow-intel==2.12.0->tensorflow) (1.3.1)\n",
      "Requirement already satisfied: charset-normalizer<3,>=2 in c:\\users\\val.consult_\\anaconda3\\lib\\site-packages (from requests<3,>=2.21.0->tensorboard<2.13,>=2.12->tensorflow-intel==2.12.0->tensorflow) (2.0.4)\n",
      "Requirement already satisfied: idna<4,>=2.5 in c:\\users\\val.consult_\\anaconda3\\lib\\site-packages (from requests<3,>=2.21.0->tensorboard<2.13,>=2.12->tensorflow-intel==2.12.0->tensorflow) (3.4)\n",
      "Requirement already satisfied: certifi>=2017.4.17 in c:\\users\\val.consult_\\anaconda3\\lib\\site-packages (from requests<3,>=2.21.0->tensorboard<2.13,>=2.12->tensorflow-intel==2.12.0->tensorflow) (2022.12.7)\n",
      "Requirement already satisfied: MarkupSafe>=2.1.1 in c:\\users\\val.consult_\\anaconda3\\lib\\site-packages (from werkzeug>=1.0.1->tensorboard<2.13,>=2.12->tensorflow-intel==2.12.0->tensorflow) (2.1.1)\n",
      "Requirement already satisfied: pyasn1<0.5.0,>=0.4.6 in c:\\users\\val.consult_\\anaconda3\\lib\\site-packages (from pyasn1-modules>=0.2.1->google-auth<3,>=1.6.3->tensorboard<2.13,>=2.12->tensorflow-intel==2.12.0->tensorflow) (0.4.8)\n",
      "Requirement already satisfied: oauthlib>=3.0.0 in c:\\users\\val.consult_\\anaconda3\\lib\\site-packages (from requests-oauthlib>=0.7.0->google-auth-oauthlib<1.1,>=0.5->tensorboard<2.13,>=2.12->tensorflow-intel==2.12.0->tensorflow) (3.2.2)\n",
      "Requirement already satisfied: sentencepiece in c:\\users\\val.consult_\\anaconda3\\lib\\site-packages (0.1.99)\n",
      "Requirement already satisfied: transformers in c:\\users\\val.consult_\\anaconda3\\lib\\site-packages (4.29.2)\n",
      "Requirement already satisfied: filelock in c:\\users\\val.consult_\\appdata\\roaming\\python\\python310\\site-packages (from transformers) (3.12.0)\n",
      "Requirement already satisfied: huggingface-hub<1.0,>=0.14.1 in c:\\users\\val.consult_\\anaconda3\\lib\\site-packages (from transformers) (0.14.1)\n",
      "Requirement already satisfied: numpy>=1.17 in c:\\users\\val.consult_\\anaconda3\\lib\\site-packages (from transformers) (1.23.5)\n",
      "Requirement already satisfied: packaging>=20.0 in c:\\users\\val.consult_\\anaconda3\\lib\\site-packages (from transformers) (22.0)\n",
      "Requirement already satisfied: pyyaml>=5.1 in c:\\users\\val.consult_\\anaconda3\\lib\\site-packages (from transformers) (6.0)\n",
      "Requirement already satisfied: regex!=2019.12.17 in c:\\users\\val.consult_\\anaconda3\\lib\\site-packages (from transformers) (2022.7.9)\n",
      "Requirement already satisfied: requests in c:\\users\\val.consult_\\anaconda3\\lib\\site-packages (from transformers) (2.28.1)\n",
      "Requirement already satisfied: tokenizers!=0.11.3,<0.14,>=0.11.1 in c:\\users\\val.consult_\\anaconda3\\lib\\site-packages (from transformers) (0.11.4)\n",
      "Requirement already satisfied: tqdm>=4.27 in c:\\users\\val.consult_\\anaconda3\\lib\\site-packages (from transformers) (4.64.1)\n",
      "Requirement already satisfied: fsspec in c:\\users\\val.consult_\\anaconda3\\lib\\site-packages (from huggingface-hub<1.0,>=0.14.1->transformers) (2022.11.0)\n",
      "Requirement already satisfied: typing-extensions>=3.7.4.3 in c:\\users\\val.consult_\\anaconda3\\lib\\site-packages (from huggingface-hub<1.0,>=0.14.1->transformers) (4.4.0)\n",
      "Requirement already satisfied: colorama in c:\\users\\val.consult_\\anaconda3\\lib\\site-packages (from tqdm>=4.27->transformers) (0.4.6)\n",
      "Requirement already satisfied: charset-normalizer<3,>=2 in c:\\users\\val.consult_\\anaconda3\\lib\\site-packages (from requests->transformers) (2.0.4)\n",
      "Requirement already satisfied: idna<4,>=2.5 in c:\\users\\val.consult_\\anaconda3\\lib\\site-packages (from requests->transformers) (3.4)\n",
      "Requirement already satisfied: urllib3<1.27,>=1.21.1 in c:\\users\\val.consult_\\anaconda3\\lib\\site-packages (from requests->transformers) (1.26.14)\n",
      "Requirement already satisfied: certifi>=2017.4.17 in c:\\users\\val.consult_\\anaconda3\\lib\\site-packages (from requests->transformers) (2022.12.7)\n"
     ]
    }
   ],
   "source": [
    "!pip install tensorflow\n",
    "!pip install sentencepiece\n",
    "!pip install transformers"
   ]
  },
  {
   "cell_type": "code",
   "execution_count": 5,
   "metadata": {},
   "outputs": [
    {
     "ename": "ModuleNotFoundError",
     "evalue": "No module named 'transformers'",
     "output_type": "error",
     "traceback": [
      "\u001b[1;31m---------------------------------------------------------------------------\u001b[0m",
      "\u001b[1;31mModuleNotFoundError\u001b[0m                       Traceback (most recent call last)",
      "Cell \u001b[1;32mIn[5], line 1\u001b[0m\n\u001b[1;32m----> 1\u001b[0m \u001b[39mfrom\u001b[39;00m \u001b[39mtransformers\u001b[39;00m \u001b[39mimport\u001b[39;00m AutoTokenizer, TFAutoModelForSequenceClassification\n\u001b[0;32m      2\u001b[0m \u001b[39mfrom\u001b[39;00m \u001b[39mtransformers\u001b[39;00m \u001b[39mimport\u001b[39;00m pipeline\n",
      "\u001b[1;31mModuleNotFoundError\u001b[0m: No module named 'transformers'"
     ]
    }
   ],
   "source": [
    "from transformers import AutoTokenizer, TFAutoModelForSequenceClassification\n",
    "from transformers import pipeline"
   ]
  },
  {
   "attachments": {},
   "cell_type": "markdown",
   "metadata": {},
   "source": [
    "### Chargement du modèle"
   ]
  },
  {
   "cell_type": "code",
   "execution_count": null,
   "metadata": {},
   "outputs": [],
   "source": [
    "tokenizer = AutoTokenizer.from_pretrained(\"tblard/tf-allocine\", use_pt=True)\n",
    "model = TFAutoModelForSequenceClassification.from_pretrained(\"tblard/tf-allocine\")\n",
    "\n",
    "sentiment_analyser = pipeline('sentiment-analysis', model=model, tokenizer=tokenizer)"
   ]
  },
  {
   "attachments": {},
   "cell_type": "markdown",
   "metadata": {},
   "source": [
    "### Analyser le sentiment d'une phrase"
   ]
  },
  {
   "cell_type": "code",
   "execution_count": 39,
   "metadata": {},
   "outputs": [],
   "source": [
    "sentiment_analyser(\"Ce journal est vraiment super intéressant.\")"
   ]
  },
  {
   "cell_type": "code",
   "execution_count": null,
   "metadata": {},
   "outputs": [],
   "source": [
    "sentiment_analyser(\"Cette phrase est négative et je ne suis pas content !\")"
   ]
  }
 ],
 "metadata": {
  "kernelspec": {
   "display_name": "Python 3.10.5 ('tac_venv': venv)",
   "language": "python",
   "name": "python3"
  },
  "language_info": {
   "codemirror_mode": {
    "name": "ipython",
    "version": 3
   },
   "file_extension": ".py",
   "mimetype": "text/x-python",
   "name": "python",
   "nbconvert_exporter": "python",
   "pygments_lexer": "ipython3",
   "version": "3.10.9"
  },
  "vscode": {
   "interpreter": {
    "hash": "b1932ab1d169b4769d1550e799423b6477588e745f266d79d9004c136c81607e"
   }
  }
 },
 "nbformat": 4,
 "nbformat_minor": 4
}
