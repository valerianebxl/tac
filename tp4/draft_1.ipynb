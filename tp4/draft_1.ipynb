{
 "cells": [
  {
   "cell_type": "markdown",
   "id": "5470f524-1497-44a6-9fc1-b1541f376791",
   "metadata": {},
   "source": [
    "# Clustering et word2vec"
   ]
  },
  {
   "cell_type": "markdown",
   "id": "4aab9df9-3737-4fb0-9c57-ae33615ac09c",
   "metadata": {},
   "source": [
    "Sur la base des éléments méthodologiques et des enseignements techniques présentés lors du cours théorique, il est demandé dans le cadre de ce TP :\n",
    "- d’effectuer un clustering des bulletins pour une décennie au choix et d’interpréter les résultats\n",
    "- d’entraîner un modèle word2vec sur l’ensemble des bulletins et d’explorer les relations entre vecteurs\n",
    "\n",
    "Pour ce faire, vous utiliserez différentes librairies Python vues au cours comme scikit-learn et gensim."
   ]
  },
  {
   "cell_type": "markdown",
   "id": "57efd957-74d6-41a4-9abe-ca82e914a281",
   "metadata": {},
   "source": [
    "## 1. Clustering"
   ]
  },
  {
   "cell_type": "markdown",
   "id": "82706675-c1cc-44fe-a1d7-4e02d87cb974",
   "metadata": {},
   "source": [
    "## 2. Word2Vec"
   ]
  },
  {
   "cell_type": "markdown",
   "id": "2e2b4e5d-3872-4866-ae6c-3634788a4bab",
   "metadata": {},
   "source": [
    "#### Librairies nécessaires"
   ]
  },
  {
   "cell_type": "code",
   "execution_count": 1,
   "id": "9f6fcd20-ae63-448b-96bf-9f0d8c9ddfe9",
   "metadata": {},
   "outputs": [
    {
     "name": "stderr",
     "output_type": "stream",
     "text": [
      "[nltk_data] Downloading package stopwords to /root/nltk_data...\n",
      "[nltk_data]   Package stopwords is already up-to-date!\n"
     ]
    },
    {
     "data": {
      "text/plain": [
       "True"
      ]
     },
     "execution_count": 1,
     "metadata": {},
     "output_type": "execute_result"
    }
   ],
   "source": [
    "import sys\n",
    "\n",
    "from gensim.models.phrases import Phrases, Phraser\n",
    "from gensim.models import Word2Vec\n",
    "\n",
    "import nltk\n",
    "from nltk.tokenize import wordpunct_tokenize\n",
    "from unidecode import unidecode\n",
    "\n",
    "# stopwords\n",
    "from nltk.corpus import stopwords\n",
    "nltk.download('stopwords')"
   ]
  },
  {
   "cell_type": "markdown",
   "id": "c80cd2e3-4e7d-4755-a90d-2c7886a5f6ae",
   "metadata": {},
   "source": [
    "#### Fichier à nettoyer"
   ]
  },
  {
   "cell_type": "code",
   "execution_count": 2,
   "id": "590a72f4-6aa6-4e4c-9551-f2bb88a7650a",
   "metadata": {},
   "outputs": [],
   "source": [
    "infile = f\"../data/sents_2.txt\""
   ]
  },
  {
   "cell_type": "markdown",
   "id": "30e996fd-bedf-48f2-ab98-82791eba854e",
   "metadata": {
    "jp-MarkdownHeadingCollapsed": true,
    "tags": []
   },
   "source": [
    "#### Nettoyage du fichier"
   ]
  },
  {
   "cell_type": "code",
   "execution_count": 3,
   "id": "42b0dd65-c5e7-49da-80b1-986f2272731d",
   "metadata": {},
   "outputs": [],
   "source": [
    "sw = stopwords.words(\"french\")\n",
    "sw += [\"les\", \"plus\", \"cette\", \"fait\", \"faire\", \"être\", \"deux\", \"comme\", \"dont\", \"tout\", \n",
    "       \"ils\", \"bien\", \"sans\", \"peut\", \"tous\", \"après\", \"ainsi\", \"donc\", \"cet\", \"sous\",\n",
    "       \"celle\", \"entre\", \"encore\", \"toutes\", \"pendant\", \"moins\", \"dire\", \"cela\", \"non\",\n",
    "       \"faut\", \"trois\", \"aussi\", \"dit\", \"avoir\", \"doit\", \"contre\", \"depuis\", \"autres\",\n",
    "       \"van\", \"het\", \"autre\", \"jusqu\"]"
   ]
  },
  {
   "cell_type": "code",
   "execution_count": 4,
   "id": "3bb49831-c881-411f-b73e-f43527a784d1",
   "metadata": {},
   "outputs": [],
   "source": [
    "def clean_text(my_file):\n",
    "    output_path = f\"../data/sents_2_clean.txt\"\n",
    "    output = open(output_path, \"w\", encoding='utf-8')\n",
    "    with open(my_file, encoding='utf-8') as f:\n",
    "        text = f.read()\n",
    "        kword = nltk.wordpunct_tokenize(text)\n",
    "        kept = [w.lower() for w in kword if len(w) > 2 and w.lower() not in sw]\n",
    "        kept_string = \" \".join(kept)\n",
    "        output.write(kept_string)\n",
    "    return f'Output has been written in {output_path}!'"
   ]
  },
  {
   "cell_type": "code",
   "execution_count": 5,
   "id": "b836b699-f741-4f82-a4bb-9950fb3a542b",
   "metadata": {},
   "outputs": [
    {
     "data": {
      "text/plain": [
       "'Output has been written in ../data/sents_2_clean.txt!'"
      ]
     },
     "execution_count": 5,
     "metadata": {},
     "output_type": "execute_result"
    }
   ],
   "source": [
    "clean_text(infile)"
   ]
  },
  {
   "cell_type": "code",
   "execution_count": 6,
   "id": "a4dd2f49-000f-4fc4-a4e5-d2aa0e1afa42",
   "metadata": {},
   "outputs": [],
   "source": [
    "cleaned_infile = f\"../data/sents_2_clean.txt\""
   ]
  },
  {
   "cell_type": "markdown",
   "id": "db5cf288-0c22-490f-b93d-ede6d71fb3e3",
   "metadata": {},
   "source": [
    "#### Chargement des phrases"
   ]
  },
  {
   "cell_type": "code",
   "execution_count": 7,
   "id": "c45027d3-067a-4306-9d66-232171f50c7c",
   "metadata": {},
   "outputs": [],
   "source": [
    "class MySentences(object):\n",
    "    \"\"\"Tokenize and Lemmatize sentences\"\"\"\n",
    "    def __init__(self, filename):\n",
    "        self.filename = filename\n",
    "\n",
    "    def __iter__(self):\n",
    "        for line in open(self.filename, encoding='utf-8', errors=\"backslashreplace\"):\n",
    "            yield [unidecode(w.lower()) for w in wordpunct_tokenize(line)]"
   ]
  },
  {
   "cell_type": "code",
   "execution_count": 8,
   "id": "74ce6a48-d5ed-4448-8388-9dc85d21e10c",
   "metadata": {},
   "outputs": [],
   "source": [
    "sentences = MySentences(cleaned_infile)"
   ]
  },
  {
   "cell_type": "markdown",
   "id": "e0f31cb3-5038-4f4d-bbab-c02ffc61c8e2",
   "metadata": {},
   "source": [
    "#### Création des bigrammes"
   ]
  },
  {
   "cell_type": "code",
   "execution_count": 9,
   "id": "f866c305-7835-49f4-9ddd-3083f1ed1c92",
   "metadata": {},
   "outputs": [],
   "source": [
    "bigram_phrases = Phrases(sentences)"
   ]
  },
  {
   "cell_type": "code",
   "execution_count": 10,
   "id": "21d3d6e4-3ad3-4034-90e5-076077cff7a3",
   "metadata": {},
   "outputs": [
    {
     "data": {
      "text/plain": [
       "10949523"
      ]
     },
     "execution_count": 10,
     "metadata": {},
     "output_type": "execute_result"
    }
   ],
   "source": [
    "len(bigram_phrases.vocab.keys())"
   ]
  },
  {
   "cell_type": "code",
   "execution_count": 11,
   "id": "e853e65e-afd4-4763-a237-b3a2fff6ede7",
   "metadata": {},
   "outputs": [
    {
     "name": "stdout",
     "output_type": "stream",
     "text": [
      "presidence_chevalier\n"
     ]
    }
   ],
   "source": [
    "# exploration des bigrammes\n",
    "\n",
    "key_ = list(bigram_phrases.vocab.keys())[145]\n",
    "print(key_)"
   ]
  },
  {
   "cell_type": "code",
   "execution_count": 12,
   "id": "87c73010-0803-4155-9c02-98a534affa0b",
   "metadata": {},
   "outputs": [
    {
     "data": {
      "text/plain": [
       "27"
      ]
     },
     "execution_count": 12,
     "metadata": {},
     "output_type": "execute_result"
    }
   ],
   "source": [
    "# score de la clé\n",
    "\n",
    "bigram_phrases.vocab[key_]"
   ]
  },
  {
   "cell_type": "code",
   "execution_count": 13,
   "id": "c3c744cd-66f1-4f81-b1ad-1135a0af8358",
   "metadata": {},
   "outputs": [
    {
     "name": "stdout",
     "output_type": "stream",
     "text": [
      "['bruxelles', 'bulletin', 'bruxelles_bulletin', 'ires', 'bulletin_ires', '8eanas', 'ires_8eanas', 'conseil', '8eanas_conseil', 'communal', 'conseil_communal', 'annee', 'communal_annee', '1847', 'annee_1847', 'ville', '1847_ville', 'ville_bulletin', 'bulletin_conseil', 'aes', 'conseil_aes', 'seances', 'aes_seances', 'seances_communal', '1847_bruxelles', 'imprimerie', 'bruxelles_imprimerie', 'rite', 'imprimerie_rite', 'faubourg', 'rite_faubourg', 'consei', 'faubourg_consei', 'dibi', 'consei_dibi', 'communication', 'dibi_communication', 'conclusions', 'communication_conclusions', 'section', 'conclusions_section', 'nouvel', 'section_nouvel', 'hospice', 'nouvel_hospice', 'enraisonde', 'hospice_enraisonde', 'absence', 'enraisonde_absence', 'maladie', 'absence_maladie', 'maladie_conseil', 'ajourne', 'conseil_ajourne', 'leurs', 'ajourne_leurs', 'pierre', 'leurs_pierre', 'marchai', 'pierre_marchai', 'cles', 'marchai_cles', 'taxes', 'cles_taxes', 'communale', 'taxes_communale', 'bieniaance', 'communale_bieniaance', 'eldeseianv', 'bieniaance_eldeseianv', 'donne', 'eldeseianv_donne', 'communie', 'donne_communie', 'mandant', 'communie_mandant', 'gnant', 'mandant_gnant', 'envoi', 'gnant_envoi', 'etat', 'envoi_etat', 'obligatoire', 'etat_obligatoire', 'secretariat', 'obligatoire_secretariat', 'dtput', 'secretariat_dtput', 'proposition', 'dtput_proposition', 'dan', 'proposition_dan', 'dan_donne', 'lecture', 'donne_lecture', 'glissement', 'lecture_glissement', 'marc', 'glissement_marc', 'royales']\n"
     ]
    }
   ],
   "source": [
    "print(list(bigram_phrases.vocab.keys())[:100])"
   ]
  },
  {
   "cell_type": "code",
   "execution_count": 14,
   "id": "e3063b88-768f-4ef1-bd6d-227673f7cf9b",
   "metadata": {},
   "outputs": [
    {
     "name": "stdout",
     "output_type": "stream",
     "text": [
      "CPU times: user 1min 36s, sys: 2.13 s, total: 1min 38s\n",
      "Wall time: 1min 43s\n"
     ]
    },
    {
     "data": {
      "text/plain": [
       "<gensim.interfaces.TransformedCorpus at 0x7fab4d361220>"
      ]
     },
     "execution_count": 14,
     "metadata": {},
     "output_type": "execute_result"
    }
   ],
   "source": [
    "%time bigram_phrases[sentences]"
   ]
  },
  {
   "cell_type": "code",
   "execution_count": 15,
   "id": "8efe9f0a-4b05-4492-8299-0b0f316f8060",
   "metadata": {},
   "outputs": [],
   "source": [
    "bigram_phraser = Phraser(phrases_model=bigram_phrases)"
   ]
  },
  {
   "cell_type": "code",
   "execution_count": 16,
   "id": "aef108da-dc60-4639-981e-839e16c024b5",
   "metadata": {},
   "outputs": [
    {
     "name": "stdout",
     "output_type": "stream",
     "text": [
      "CPU times: user 1min 26s, sys: 1.5 s, total: 1min 28s\n",
      "Wall time: 1min 32s\n"
     ]
    },
    {
     "data": {
      "text/plain": [
       "<gensim.interfaces.TransformedCorpus at 0x7fab4d310bb0>"
      ]
     },
     "execution_count": 16,
     "metadata": {},
     "output_type": "execute_result"
    }
   ],
   "source": [
    "%time bigram_phraser[sentences]"
   ]
  },
  {
   "cell_type": "code",
   "execution_count": 17,
   "id": "0ebf5848-c99b-41c1-9b23-d32b81bae084",
   "metadata": {},
   "outputs": [],
   "source": [
    "trigram_phrases = Phrases(bigram_phraser[sentences])"
   ]
  },
  {
   "cell_type": "code",
   "execution_count": 18,
   "id": "9d70c0b6-ea30-47a7-923b-3cc8c5348628",
   "metadata": {},
   "outputs": [],
   "source": [
    "trigram_phraser = Phraser(phrases_model=trigram_phrases)"
   ]
  },
  {
   "cell_type": "code",
   "execution_count": 19,
   "id": "eafc40c7-8fa4-4063-92eb-56cb024ced02",
   "metadata": {},
   "outputs": [],
   "source": [
    "corpus = list(trigram_phraser[bigram_phraser[sentences]])"
   ]
  },
  {
   "cell_type": "code",
   "execution_count": 20,
   "id": "19bf7e5d-f24a-4203-b062-c627f306da10",
   "metadata": {},
   "outputs": [],
   "source": [
    "# print(corpus[:10])"
   ]
  },
  {
   "cell_type": "code",
   "execution_count": 21,
   "id": "1bc5750c-8d42-4ef3-804b-3b6b5d77b3dd",
   "metadata": {},
   "outputs": [
    {
     "name": "stdout",
     "output_type": "stream",
     "text": [
      "CPU times: user 35.9 s, sys: 115 ms, total: 36 s\n",
      "Wall time: 36.1 s\n"
     ]
    }
   ],
   "source": [
    "%%time\n",
    "model = Word2Vec(\n",
    "    corpus, # On passe le corpus de ngrams que nous venons de créer\n",
    "    vector_size=32, # Le nombre de dimensions dans lesquelles le contexte des mots devra être réduit, aka. vector_size\n",
    "    window=5, # La taille du \"contexte\", ici 5 mots avant et après le mot observé\n",
    "    min_count=1, # On ignore les mots qui n'apparaissent pas au moins 5 fois dans le corpus\n",
    "    workers=4, # Permet de paralléliser l'entraînement du modèle en 4 threads\n",
    "    epochs=10 # Nombre d'itérations du réseau de neurones sur le jeu de données pour ajuster les paramètres avec la descende de gradient, aka. epochs.\n",
    ")"
   ]
  },
  {
   "cell_type": "code",
   "execution_count": 22,
   "id": "9cffac88-dcb0-4956-b5ed-39456543df9c",
   "metadata": {},
   "outputs": [],
   "source": [
    "outfile = f\"../data/bulletins_tp3_1.model\"\n",
    "model.save(outfile)"
   ]
  },
  {
   "cell_type": "code",
   "execution_count": 23,
   "id": "ce22be44-26e1-4664-a480-a29dd535f982",
   "metadata": {},
   "outputs": [],
   "source": [
    "model = Word2Vec.load(\"../data/bulletins_tp3_1.model\")"
   ]
  },
  {
   "cell_type": "code",
   "execution_count": 24,
   "id": "62dd6d67-d697-4052-af79-da231746e55d",
   "metadata": {},
   "outputs": [
    {
     "data": {
      "text/plain": [
       "array([-0.02685983, -0.02613496,  0.00242372,  0.02246045, -0.03219561,\n",
       "        0.0117404 ,  0.01863977,  0.02072185,  0.02343076, -0.02209696,\n",
       "        0.00329831,  0.02190949, -0.00977082, -0.01946867, -0.00266382,\n",
       "       -0.02664573, -0.01793599,  0.02410629,  0.00915539,  0.02684479,\n",
       "        0.02541147,  0.02583335, -0.00961438, -0.0023722 ,  0.0096348 ,\n",
       "       -0.01583729,  0.02813287, -0.03157771,  0.02130563,  0.00867117,\n",
       "       -0.01764636,  0.01351591], dtype=float32)"
      ]
     },
     "execution_count": 24,
     "metadata": {},
     "output_type": "execute_result"
    }
   ],
   "source": [
    "model.wv[\"bruxelles\"]"
   ]
  },
  {
   "cell_type": "code",
   "execution_count": 25,
   "id": "6d5626b3-f368-4c78-9789-da7121104826",
   "metadata": {},
   "outputs": [
    {
     "data": {
      "text/plain": [
       "array([ 0.02845549, -0.01146269, -0.00705318, -0.02275989,  0.02346707,\n",
       "        0.00807211, -0.00527942,  0.01458482, -0.00746811, -0.00689599,\n",
       "        0.02411399,  0.02759365, -0.02514727,  0.00704173,  0.00899752,\n",
       "       -0.02838369,  0.02851159, -0.02181134,  0.02791412, -0.02825055,\n",
       "        0.0025609 ,  0.0299324 ,  0.02091913, -0.01311754, -0.01199547,\n",
       "        0.02737022,  0.02494899, -0.02746011, -0.01281452,  0.01520414,\n",
       "       -0.01632109, -0.01131507], dtype=float32)"
      ]
     },
     "execution_count": 25,
     "metadata": {},
     "output_type": "execute_result"
    }
   ],
   "source": [
    "model.wv[\"boucher\"]"
   ]
  },
  {
   "cell_type": "code",
   "execution_count": 26,
   "id": "6c8dda50-c978-4e2a-a745-c7224a4d6a34",
   "metadata": {},
   "outputs": [
    {
     "data": {
      "text/plain": [
       "0.16438036"
      ]
     },
     "execution_count": 26,
     "metadata": {},
     "output_type": "execute_result"
    }
   ],
   "source": [
    "model.wv.similarity(\"boucher\", \"boulanger\")"
   ]
  },
  {
   "cell_type": "code",
   "execution_count": 27,
   "id": "f7527e20-dd33-477d-b3a5-aa662120123d",
   "metadata": {},
   "outputs": [
    {
     "data": {
      "text/plain": [
       "[('songe_nullement', 0.7396537661552429),\n",
       " ('supplementaire_chemin_fer', 0.7291504144668579),\n",
       " ('136_438', 0.7219255566596985),\n",
       " ('402', 0.719338595867157),\n",
       " ('733quater', 0.702070415019989),\n",
       " ('blb', 0.7007202506065369),\n",
       " ('495_001', 0.6926709413528442),\n",
       " ('perpetuei', 0.6871772408485413),\n",
       " ('jansmolenbeek', 0.6864557862281799),\n",
       " ('cojnmen', 0.6861243844032288)]"
      ]
     },
     "execution_count": 27,
     "metadata": {},
     "output_type": "execute_result"
    }
   ],
   "source": [
    "model.wv.most_similar(\"bruxelles\", topn=10)"
   ]
  },
  {
   "cell_type": "code",
   "execution_count": 28,
   "id": "38f943d7-bd89-41c5-a18f-f4f5af1da77b",
   "metadata": {},
   "outputs": [
    {
     "name": "stdout",
     "output_type": "stream",
     "text": [
      "[('beslissim', 0.7252672910690308), ('rachetat', 0.7238172888755798), ('tabellion', 0.7132728695869446), ('tnai', 0.7096638083457947), ('15615', 0.7095273733139038), ('marionnettentheater', 0.6992092132568359), ('takijke', 0.693440854549408), ('avertisseurs_colonnesaffiches', 0.6797021627426147), ('treffen_tegen_eventuele_bederving', 0.6770004034042358), ('\\\\-[', 0.6718602180480957)]\n"
     ]
    }
   ],
   "source": [
    "print(model.wv.most_similar(positive=['bruxelles', 'france'], negative=['belgique']))"
   ]
  },
  {
   "cell_type": "code",
   "execution_count": 29,
   "id": "959b7768-296f-496e-a949-0238773bd8df",
   "metadata": {},
   "outputs": [
    {
     "name": "stdout",
     "output_type": "stream",
     "text": [
      "[('rooilij', 0.7063876390457153), ('september_1949', 0.70578932762146), ('bodenbroeck_boduognat', 0.7005714178085327), ('depoltcr', 0.6809656023979187), ('arcbilectonique', 0.668643593788147), ('henri_joseph_danco', 0.6676032543182373), ('maasdam', 0.6639767289161682), ('point_important', 0.6615000367164612), ('rlabites', 0.6591097712516785), ('tenain', 0.6546366214752197)]\n"
     ]
    }
   ],
   "source": [
    "print(model.wv.most_similar(positive=['homme', 'roi'], negative=['femme']))"
   ]
  },
  {
   "cell_type": "code",
   "execution_count": 30,
   "id": "876aef6c-40a9-4e8e-8e3f-3495d374401d",
   "metadata": {},
   "outputs": [
    {
     "name": "stdout",
     "output_type": "stream",
     "text": [
      "[('liste_candidats_presentee', 0.7077802419662476), ('marques_generales_assentiment', 0.7053357362747192), ('primaire_charles_buis', 0.6754471063613892), ('desirsdes', 0.6651195287704468), ('paasche', 0.6649349331855774), ('communaoi', 0.6634657979011536), ('aan_weerskanten_gezaagde', 0.6630767583847046), ('calligraphe', 0.6605660915374756), ('34755', 0.6604280471801758), ('films_televisieuitzendingen', 0.6579362154006958)]\n"
     ]
    }
   ],
   "source": [
    "print(model.wv.most_similar(positive=['homme', 'bourgmestre'], negative=['femme']))"
   ]
  },
  {
   "cell_type": "code",
   "execution_count": 31,
   "id": "61326958-c056-4a3c-bc9d-c5ec68187b58",
   "metadata": {},
   "outputs": [
    {
     "name": "stdout",
     "output_type": "stream",
     "text": [
      "[('premier_etablissement_elevaient', 0.7212549448013306), ('placemient', 0.6985436677932739), ('marieanne', 0.6888855695724487), ('pourra_introduite', 0.6842411160469055), ('certaines_oeuvres', 0.6720647215843201), ('plaintes_produites', 0.6712937355041504), ('lie_phil', 0.6712707877159119), ('120137', 0.670115053653717), ('ecole_moyenne_rue_louvain', 0.6694977283477783), ('fiacres_automobiles_reglement', 0.6671410202980042)]\n"
     ]
    }
   ],
   "source": [
    "print(model.wv.most_similar(positive=['bourgmestre', 'bruxelles'], negative=['echevin']))"
   ]
  },
  {
   "cell_type": "code",
   "execution_count": 32,
   "id": "cafe7c23-0cc2-4206-a105-4c39a6539cec",
   "metadata": {},
   "outputs": [
    {
     "name": "stdout",
     "output_type": "stream",
     "text": [
      "[('440s', 0.7245204448699951), ('bespoedigd_worden', 0.6799979209899902), ('82159', 0.6735992431640625), ('bekomen_resultaten_bij_ontvangsten', 0.6733414530754089), ('preferant', 0.6703314185142517), ('percues_locations', 0.6633291840553284), ('auraifpas', 0.6547234058380127), ('schaerbetk', 0.6533769369125366), ('parfaire_formation', 0.6508330702781677), ('250145', 0.6505926251411438)]\n"
     ]
    }
   ],
   "source": [
    "print(model.wv.most_similar(positive=['bruxelles', 'paris'], negative=['belgique']))"
   ]
  },
  {
   "cell_type": "code",
   "execution_count": 33,
   "id": "28533246-4f38-4e02-8cba-03a70ef5b561",
   "metadata": {},
   "outputs": [
    {
     "name": "stdout",
     "output_type": "stream",
     "text": [
      "[('contrarie', 0.72808837890625), ('fcirtaiitornatiqt', 0.7042990326881409), ('mic1iel', 0.6951599717140198), ('72r', 0.6911953687667847), ('volumes_eau_consommes', 0.686896026134491), ('tochuit', 0.6828369498252869), ('aoite', 0.6800817251205444), ('mauchard', 0.6769009232521057), ('46982774', 0.667982280254364), ('blanche_institutrice', 0.6672805547714233)]\n"
     ]
    }
   ],
   "source": [
    "print(model.wv.most_similar(positive=['homme', 'fidelite'], negative=['femme']))"
   ]
  },
  {
   "cell_type": "code",
   "execution_count": 34,
   "id": "7d389cfc-2575-44c4-af45-f7d76ffff104",
   "metadata": {},
   "outputs": [
    {
     "name": "stdout",
     "output_type": "stream",
     "text": [
      "[('plaatser', 0.7989534139633179), ('een_maandelijks', 0.7004958391189575), ('trouve_regrettable', 0.6930721998214722), ('^),', 0.6926151514053345), ('66565', 0.6836583614349365), ('seaaauanaa', 0.6823300719261169), ('rejctc', 0.6819170117378235), ('aedificandi_cas', 0.6812053322792053), ('rechtsomkeer', 0.6806226968765259), ('visqueux', 0.68030846118927)]\n"
     ]
    }
   ],
   "source": [
    "print(model.wv.most_similar(positive=['femme', 'fidelite'], negative=['homme']))"
   ]
  },
  {
   "cell_type": "code",
   "execution_count": 35,
   "id": "0ff3abf0-7d66-4b2a-aafd-108aae018d77",
   "metadata": {},
   "outputs": [
    {
     "name": "stdout",
     "output_type": "stream",
     "text": [
      "[('savait_quelles', 0.7003591060638428), ('comportait', 0.6985844373703003), ('cal51', 0.6946401596069336), ('plantes_graines', 0.6838655471801758), ('243370', 0.6784873008728027), ('297921_297991', 0.6783518195152283), ('reseau_reseau', 0.6728825569152832), ('universitatis', 0.6690184473991394), ('existerait_embarras', 0.6676788330078125), ('besluit_heer', 0.6674354672431946)]\n"
     ]
    }
   ],
   "source": [
    "print(model.wv.most_similar(positive=['femme', 'homme'], negative=['fidelite']))"
   ]
  },
  {
   "cell_type": "code",
   "execution_count": null,
   "id": "f32347df-9522-4bc4-bfc0-e83c86caa2c6",
   "metadata": {},
   "outputs": [],
   "source": []
  }
 ],
 "metadata": {
  "kernelspec": {
   "display_name": "Python 3 (ipykernel)",
   "language": "python",
   "name": "python3"
  },
  "language_info": {
   "codemirror_mode": {
    "name": "ipython",
    "version": 3
   },
   "file_extension": ".py",
   "mimetype": "text/x-python",
   "name": "python",
   "nbconvert_exporter": "python",
   "pygments_lexer": "ipython3",
   "version": "3.9.7"
  }
 },
 "nbformat": 4,
 "nbformat_minor": 5
}
