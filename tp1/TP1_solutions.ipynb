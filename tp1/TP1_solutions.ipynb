{
 "cells": [
  {
   "cell_type": "markdown",
   "id": "34419fc4-f20a-49a5-bb2e-12c97bef65f3",
   "metadata": {},
   "source": [
    "# TP1 : Web scraping et APIs"
   ]
  },
  {
   "cell_type": "markdown",
   "id": "9949c9fd-09bd-4d55-8adf-dee925f9eccd",
   "metadata": {},
   "source": [
    "Sur la base des éléments méthodologiques et des enseignements techniques présentés lors du cours théorique, il est demandé dans le cadre de ce TP :\n",
    "- de récupérer les PDFs de tous les bulletins communaux de la Ville de Bruxelles pour la période allant de 1847 à 1978 \n",
    "- d’expérimenter avec une API ainsi qu’avec le SPARQL endpoint deWikidata et d’écrire des scripts pour en automatiser l’usage \n",
    "\n",
    "À cette fin, vous serez amenés à vous familiariser avec le logiciel de gestion de versions Git et le langage Python."
   ]
  },
  {
   "cell_type": "markdown",
   "id": "f7e3e197-bcb5-4358-b04c-2e21429a9f4b",
   "metadata": {},
   "source": [
    "### Requête SPARQL utile pour les archives de la Ville de Bruxelles"
   ]
  },
  {
   "cell_type": "code",
   "execution_count": 15,
   "id": "106a8496-b6b4-483c-bc0a-8b9de331eeca",
   "metadata": {},
   "outputs": [],
   "source": [
    "from datetime import datetime as dt\n",
    "from SPARQLWrapper import SPARQLWrapper, JSON"
   ]
  },
  {
   "cell_type": "markdown",
   "id": "74fb8d6b-cade-42cc-a935-dbc8ce7e1836",
   "metadata": {},
   "source": [
    "#### Une première requête simple pour récupérer les bourgmestres de Bruxelles"
   ]
  },
  {
   "cell_type": "markdown",
   "id": "12470ef6-2b60-4ccd-952b-1f59e1739da7",
   "metadata": {},
   "source": [
    "Inconvénient :\n",
    "- affichage par ordre alphabétique non pertinent, surtout si le prénom commence par une voyelle accentuée"
   ]
  },
  {
   "cell_type": "code",
   "execution_count": 16,
   "id": "2d034ca0-a728-4616-99f1-fb1f9b107480",
   "metadata": {},
   "outputs": [
    {
     "name": "stdout",
     "output_type": "stream",
     "text": [
      "\n",
      "47 Bourgmestres de la Ville de Bruxelles trouvés :\n",
      "\n",
      "Adolphe Max\n",
      "Adrien de Grimberghe, seigneur d'Assche\n",
      "André-Napoléon Fontainas\n",
      "Antoine de Grimbergen van Assche\n",
      "Charles Buls\n",
      "Charles de Brouckère\n",
      "Charles-Joseph, 4th Duke d'Ursel\n",
      "Comte Guillaume de Merode, 5th Prince de Rubempré et d'Everberghe\n",
      "Engelbert Taie\n",
      "Felix Vanderstraeten\n",
      "François-Jean Wyns de Raucourt\n",
      "François-Xavier de Donnea\n",
      "Freddy Thielemans\n",
      "Frederick de Marselaer\n",
      "Gabriel van Bemmel\n",
      "Guillaume Van Volxem\n",
      "Hendrik de Bloyere\n",
      "Henri Joseph Van Langhenhoven\n",
      "Henri Taye\n",
      "Hervé Brouhon\n",
      "Hyacinthe van der Fosse\n",
      "Jacques Taye\n",
      "Jan Grauls\n",
      "Jan-Baptist Verlooy\n",
      "Jean de Locquenghien\n",
      "John II of Cottereau, Baron of Jauche\n",
      "Joseph Van De Meulebroeck\n",
      "Joseph van der Linden d'Hooghvorst\n",
      "Jules Anspach\n",
      "Jules Coelst\n",
      "Lancelot I Schetz\n",
      "Lancelot Schetz\n",
      "Louis Devos\n",
      "Louis de Wellens van ten Meulenberg\n",
      "Lucien Cooremans\n",
      "Marion Lemesre\n",
      "Michel Demaret\n",
      "Nicolas-Jean Rouppe\n",
      "Norbert François Charles van Assche\n",
      "Paul Arconati-Visconti\n",
      "Philippe Close\n",
      "Pierre Van Halteren\n",
      "Roger-Wauthier van der Noot, 1st Baron of Carloo\n",
      "Wenceslas t'Serclaes\n",
      "Wilhelmus Bloemart\n",
      "Yvan Mayeur\n",
      "Émile de Mot\n"
     ]
    }
   ],
   "source": [
    "endpoint = \"https://query.wikidata.org/bigdata/namespace/wdq/sparql\" \n",
    "sparql = SPARQLWrapper(endpoint)\n",
    "\n",
    "# P39 = fonction occupée par une personne\n",
    "# Q33126365 = bourgmestre de Bruxelles\n",
    "\n",
    "statement = \"\"\"\n",
    "SELECT DISTINCT ?person ?personLabel ?start ?end WHERE {\n",
    "    ?person wdt:P39/wdt:P279* wd:Q33126365 .\n",
    "    SERVICE wikibase:label { bd:serviceParam wikibase:language \"[AUTO_LANGUAGE], en\" . }\n",
    "}\n",
    "ORDER BY ?personLabel\n",
    "\"\"\"\n",
    "\n",
    "sparql.setQuery(statement) \n",
    "sparql.setReturnFormat(JSON)\n",
    "results = sparql.query().convert()\n",
    "\n",
    "rows = results['results']['bindings'] \n",
    "print(f\"\\n{len(rows)} Bourgmestres de la Ville de Bruxelles trouvés :\\n\") \n",
    "\n",
    "for row in rows:\n",
    "    print(row['personLabel']['value']) "
   ]
  },
  {
   "cell_type": "markdown",
   "id": "050b310d-9127-40a1-8567-a7c19f62d488",
   "metadata": {},
   "source": [
    "#### Une deuxième requête parvient à récupérer les \"qualifiers\" de la propriété P39: \"fonction politique\""
   ]
  },
  {
   "cell_type": "markdown",
   "id": "c3b9d13f-dec4-4279-bf61-6941b50a75e2",
   "metadata": {},
   "source": [
    "Inconvénient :\n",
    "- la requête saisit tous les qualifiers de toutes les fonctions politiques occupées & renseignées en créant des doublons\n",
    "- tous les bourgmestres n'ont pas de dates de début et de fin associées à la fonction"
   ]
  },
  {
   "cell_type": "code",
   "execution_count": 17,
   "id": "8cb16a03-cd00-4b76-b66f-47db1f486ded",
   "metadata": {},
   "outputs": [
    {
     "name": "stdout",
     "output_type": "stream",
     "text": [
      "\n",
      "88 Bourgmestres de la Ville de Bruxelles trouvés\n",
      "\n",
      "Jan-Baptist Verlooy (-)\n",
      "Paul Arconati-Visconti (-)\n",
      "Roger-Wauthier van der Noot, 1st Baron of Carloo (-)\n",
      "Antoine de Grimbergen van Assche (-)\n",
      "Adolphe Max (-)\n",
      "Marion Lemesre (-)\n",
      "Émile de Mot (-)\n",
      "Émile de Mot (-)\n",
      "Charles Buls (-)\n",
      "Frederick de Marselaer (-)\n",
      "Hendrik de Bloyere (-)\n",
      "François-Xavier de Donnea (-)\n",
      "François-Xavier de Donnea (-)\n",
      "Charles de Brouckère (-)\n",
      "Charles de Brouckère (-)\n",
      "André-Napoléon Fontainas (-)\n",
      "Wilhelmus Bloemart (-)\n",
      "Wenceslas t'Serclaes (-)\n",
      "Lucien Cooremans (-)\n",
      "Michel Demaret (-)\n",
      "Jules Coelst (-)\n",
      "Gabriel van Bemmel (-)\n",
      "Jules Anspach (-)\n",
      "François-Jean Wyns de Raucourt (-)\n",
      "Hyacinthe van der Fosse (-)\n",
      "Hyacinthe van der Fosse (-)\n",
      "Hyacinthe van der Fosse (-)\n",
      "Yvan Mayeur (-)\n",
      "Yvan Mayeur (-)\n",
      "Joseph Van De Meulebroeck (-)\n",
      "Jean de Locquenghien (-)\n",
      "Lancelot Schetz (-)\n",
      "Henri Joseph Van Langhenhoven (-)\n",
      "Nicolas-Jean Rouppe (-)\n",
      "Hervé Brouhon (-)\n",
      "Henri Taye (1437-1438)\n",
      "Adrien de Grimberghe, seigneur d'Assche (1488-1489)\n",
      "John II of Cottereau, Baron of Jauche (1534-)\n",
      "Jacques Taye (1574-1576)\n",
      "Jacques Taye (1579-1580)\n",
      "Jacques Taye (1585-1586)\n",
      "Lancelot I Schetz (1586-1587)\n",
      "Engelbert Taie (1620-1624)\n",
      "Norbert François Charles van Assche (1731-1733)\n",
      "Nicolas-Jean Rouppe (1800-1802)\n",
      "Louis Devos (1805-1805)\n",
      "Comte Guillaume de Merode, 5th Prince de Rubempré et d'Everberghe (1805-1809)\n",
      "Comte Guillaume de Merode, 5th Prince de Rubempré et d'Everberghe (1809-)\n",
      "Charles-Joseph, 4th Duke d'Ursel (1810-1814)\n",
      "Charles-Joseph, 4th Duke d'Ursel (1814-1815)\n",
      "Joseph van der Linden d'Hooghvorst (1814-1815)\n",
      "Louis de Wellens van ten Meulenberg (1815-1817)\n",
      "Charles-Joseph, 4th Duke d'Ursel (1815-1819)\n",
      "Joseph van der Linden d'Hooghvorst (1816-1830)\n",
      "Hyacinthe van der Fosse (1817-1820)\n",
      "Louis de Wellens van ten Meulenberg (1820-1830)\n",
      "Charles de Brouckère (1826-1830)\n",
      "Charles-Joseph, 4th Duke d'Ursel (1829-1830)\n",
      "Joseph van der Linden d'Hooghvorst (1830-1831)\n",
      "Nicolas-Jean Rouppe (1830-1838)\n",
      "Joseph van der Linden d'Hooghvorst (1831-1846)\n",
      "Charles de Brouckère (1831-1832)\n",
      "Guillaume Van Volxem (1837-1845)\n",
      "Guillaume Van Volxem (1838-1841)\n",
      "Charles-Joseph, 4th Duke d'Ursel (1839-1859)\n",
      "Guillaume Van Volxem (1841-1841)\n",
      "François-Jean Wyns de Raucourt (1841-1848)\n",
      "Charles de Brouckère (1848-1856)\n",
      "Charles de Brouckère (1848-1860)\n",
      "André-Napoléon Fontainas (1860-1863)\n",
      "Jules Anspach (1863-1879)\n",
      "Felix Vanderstraeten (1879-1881)\n",
      "Charles Buls (1881-1899)\n",
      "Émile de Mot (1899-1909)\n",
      "Adolphe Max (1909-1939)\n",
      "Joseph Van De Meulebroeck (1939-1956)\n",
      "Jan Grauls (1940-1942)\n",
      "Jules Coelst (1941-1942)\n",
      "Jan Grauls (1942-1944)\n",
      "Lucien Cooremans (1956-1975)\n",
      "Pierre Van Halteren (1975-1983)\n",
      "Hervé Brouhon (1983-1993)\n",
      "François-Xavier de Donnea (1989-1991)\n",
      "Freddy Thielemans (1993-1994)\n",
      "François-Xavier de Donnea (1995-2000)\n",
      "Freddy Thielemans (1999-2001)\n",
      "Freddy Thielemans (2001-2013)\n",
      "Philippe Close (2017-)\n"
     ]
    }
   ],
   "source": [
    "endpoint = \"https://query.wikidata.org/bigdata/namespace/wdq/sparql\" \n",
    "sparql = SPARQLWrapper(endpoint)\n",
    "\n",
    "# P39 = fonction occupée par une personne\n",
    "# Q33126365 = bourgmestre de Bruxelles\n",
    "# P580 = date de début\n",
    "# P582 = date de fin\n",
    "\n",
    "statement = \"\"\"\n",
    "SELECT DISTINCT ?person ?personLabel ?fonctionLabel ?starttime ?endtime WHERE {\n",
    "    ?person wdt:P39 wd:Q33126365 .\n",
    "    ?person p:P39 ?statement .\n",
    "    OPTIONAL { ?statement ps:P39 ?fonction .}\n",
    "    OPTIONAL { ?statement pq:P580 ?starttime .}\n",
    "    OPTIONAL { ?statement pq:P582 ?endtime .}\n",
    "    SERVICE wikibase:label { bd:serviceParam wikibase:language \"[AUTO_LANGUAGE],en\" . }\n",
    "}\n",
    "ORDER BY ?starttime\n",
    "\"\"\"\n",
    "\n",
    "sparql.setQuery(statement) \n",
    "sparql.setReturnFormat(JSON)\n",
    "results = sparql.query().convert() \n",
    "\n",
    "rows = results['results']['bindings'] \n",
    "print(f\"\\n{len(rows)} Bourgmestres de la Ville de Bruxelles trouvés\\n\") \n",
    "date_format = \"%Y-%m-%dT%H:%M:%SZ\"\n",
    "\n",
    "for row in rows:\n",
    "    try:\n",
    "        starttime = dt.strptime(row['starttime']['value'], date_format) \n",
    "        starttime_year = starttime.year\n",
    "    except ValueError: \n",
    "        starttime_year = \"????\"\n",
    "    except KeyError:\n",
    "        starttime_year = \"\" \n",
    "    try:\n",
    "        endtime = dt.strptime(row['endtime']['value'], date_format) \n",
    "        endtime_year = endtime.year\n",
    "    except ValueError:\n",
    "        endtime_year = \"????\"\n",
    "    except KeyError:\n",
    "        endtime_year = \"\"\n",
    "    print(f\"{row['personLabel']['value']} ({starttime_year}-{endtime_year})\")"
   ]
  },
  {
   "cell_type": "markdown",
   "id": "43e60abd-a03d-4ebe-86c3-c11b02a4eb30",
   "metadata": {},
   "source": [
    "#### Une troisième requête précise que les qualifiers sont rattachés à la fonction politique recherchée"
   ]
  },
  {
   "cell_type": "markdown",
   "id": "86871a43-8300-4bb4-a56d-f4eda96d5dcc",
   "metadata": {},
   "source": [
    "Inconvénient :\n",
    "- Il en manque qq'uns des bougmestres mais la requête semble correcte ; cela doit provenir de la qualité des données à la source (date manquante). \n",
    "- Je n'ai pas trouvé le moyen d'introduire des options dans la requête entre crochets (à creuser)\n",
    "\n",
    "Après vérification, la liste est satisfaisante pour les dates à considérer pour les bulletins (manque qq \"suppléants\" seulement)."
   ]
  },
  {
   "cell_type": "code",
   "execution_count": 18,
   "id": "8faec10f-aa8e-4650-b134-599b179e6b58",
   "metadata": {},
   "outputs": [
    {
     "name": "stdout",
     "output_type": "stream",
     "text": [
      "\n",
      "35 Bourgmestres de la Ville de Bruxelles trouvés\n",
      "\n",
      "Henri Taye (1437-1438)\n",
      "Adrien de Grimberghe, seigneur d'Assche (1488-1489)\n",
      "Jacques Taye (1574-1576)\n",
      "Jacques Taye (1579-1580)\n",
      "Jacques Taye (1585-1586)\n",
      "Lancelot I Schetz (1586-1587)\n",
      "Engelbert Taie (1620-1624)\n",
      "Norbert François Charles van Assche (1731-1733)\n",
      "Nicolas-Jean Rouppe (1800-1802)\n",
      "Louis Devos (1805-1805)\n",
      "Comte Guillaume de Merode, 5th Prince de Rubempré et d'Everberghe (1805-1809)\n",
      "Charles-Joseph, 4th Duke d'Ursel (1810-1814)\n",
      "Joseph van der Linden d'Hooghvorst (1814-1815)\n",
      "Louis de Wellens van ten Meulenberg (1815-1817)\n",
      "Hyacinthe van der Fosse (1817-1820)\n",
      "Louis de Wellens van ten Meulenberg (1820-1830)\n",
      "Nicolas-Jean Rouppe (1830-1838)\n",
      "Guillaume Van Volxem (1838-1841)\n",
      "François-Jean Wyns de Raucourt (1841-1848)\n",
      "Charles de Brouckère (1848-1860)\n",
      "André-Napoléon Fontainas (1860-1863)\n",
      "Jules Anspach (1863-1879)\n",
      "Felix Vanderstraeten (1879-1881)\n",
      "Charles Buls (1881-1899)\n",
      "Émile de Mot (1899-1909)\n",
      "Adolphe Max (1909-1939)\n",
      "Joseph Van De Meulebroeck (1939-1956)\n",
      "Jules Coelst (1941-1942)\n",
      "Jan Grauls (1942-1944)\n",
      "Lucien Cooremans (1956-1975)\n",
      "Pierre Van Halteren (1975-1983)\n",
      "Hervé Brouhon (1983-1993)\n",
      "Freddy Thielemans (1993-1994)\n",
      "François-Xavier de Donnea (1995-2000)\n",
      "Freddy Thielemans (2001-2013)\n"
     ]
    }
   ],
   "source": [
    "endpoint = \"https://query.wikidata.org/bigdata/namespace/wdq/sparql\" \n",
    "sparql = SPARQLWrapper(endpoint) \n",
    "\n",
    "# P39 = fonction occupée par une personne\n",
    "# Q33126365 = bourgmestre de Bruxelles\n",
    "# P580 = date de début\n",
    "# P582 = date de fin\n",
    "\n",
    "statement = \"\"\"\n",
    "SELECT DISTINCT ?person ?personLabel ?starttime ?endtime WHERE {\n",
    "    ?person wdt:P39 wd:Q33126365 .\n",
    "    ?person p:P39 [ps:P39 wd:Q33126365;\n",
    "                   pq:P580 ?starttime;\n",
    "                   pq:P582 ?endtime].\n",
    "    SERVICE wikibase:label { bd:serviceParam wikibase:language \"[AUTO_LANGUAGE],en\" . }\n",
    "}\n",
    "ORDER BY ?starttime\n",
    "\"\"\"\n",
    "\n",
    "sparql.setQuery(statement) \n",
    "sparql.setReturnFormat(JSON) \n",
    "results = sparql.query().convert() \n",
    "\n",
    "rows = results['results']['bindings']\n",
    "print(f\"\\n{len(rows)} Bourgmestres de la Ville de Bruxelles trouvés\\n\")\n",
    "date_format = \"%Y-%m-%dT%H:%M:%SZ\"\n",
    "\n",
    "for row in rows:\n",
    "    try:\n",
    "        starttime = dt.strptime(row['starttime']['value'], date_format) \n",
    "        starttime_year = starttime.year\n",
    "    except ValueError: \n",
    "        starttime_year = \"????\"\n",
    "    except KeyError:\n",
    "        starttime_year = \"\" \n",
    "    try:\n",
    "        endtime = dt.strptime(row['endtime']['value'], date_format) \n",
    "        endtime_year = endtime.year\n",
    "    except ValueError:\n",
    "        endtime_year = \"????\"\n",
    "    except KeyError:\n",
    "        endtime_year = \"\"\n",
    "    print(f\"{row['personLabel']['value']} ({starttime_year}-{endtime_year})\") "
   ]
  },
  {
   "cell_type": "markdown",
   "id": "74f5c5d6-783e-405a-bc89-d9a8a90489db",
   "metadata": {},
   "source": [
    "### Script d'interrogation d'une API"
   ]
  },
  {
   "cell_type": "markdown",
   "id": "108cf402-fe98-45b6-87a4-c9b28b91b81f",
   "metadata": {},
   "source": [
    "Pour réaliser l'exercice, j'ai préféré partir d'une source intéressante pour l'étude des bulletins.\n",
    "\n",
    "Je me suis donc inspirée des API disponibles sur le site de la Ville de Bruxelles qui donne accès à certaines de leurs données : https://opendata.brussels.be"
   ]
  },
  {
   "cell_type": "code",
   "execution_count": 19,
   "id": "a5a0f876-2ef7-494d-8bbf-2e1536d708a3",
   "metadata": {},
   "outputs": [],
   "source": [
    "import json\n",
    "import requests"
   ]
  },
  {
   "cell_type": "markdown",
   "id": "fe2f14ec-77a9-4a6b-bac0-c384f08e6daf",
   "metadata": {},
   "source": [
    "#### Un premier script qui teste si des caractères font partie d'une nom de rue, d'un square ou d'une place dans un des secteurs de la Ville de Bruxelles"
   ]
  },
  {
   "cell_type": "markdown",
   "id": "7ea7c157-49af-4ce5-b66d-e153de955fa3",
   "metadata": {},
   "source": [
    "Pour affiner le script, j'imprime le set de données par essais/erreurs"
   ]
  },
  {
   "cell_type": "code",
   "execution_count": 20,
   "id": "0358342f-0918-40f4-9510-d3ed68ab9a79",
   "metadata": {},
   "outputs": [
    {
     "name": "stdout",
     "output_type": "stream",
     "text": [
      "4\n",
      "{'nhits': 3, 'parameters': {'dataset': 'bruxelles_rues_par_secteur_pour_les_cartes_de_riverain', 'timezone': 'UTC', 'q': 'royale', 'rows': 10, 'start': 0, 'format': 'json', 'facet': ['secteur']}, 'records': [{'datasetid': 'bruxelles_rues_par_secteur_pour_les_cartes_de_riverain', 'recordid': '07f98425d041ecb8932410e6b86022abd9b32699', 'fields': {'secteur': 'Pentagone', 'rue': 'Royale Place'}, 'record_timestamp': '2017-02-14T11:23:17+00:00'}, {'datasetid': 'bruxelles_rues_par_secteur_pour_les_cartes_de_riverain', 'recordid': 'ed5c643cf284de21a78a987ae013d98c915a0a64', 'fields': {'secteur': 'Pentagone', 'rue': 'Royale  Rue (numéros impairs de 7 à 145 et numéros pairs de 76 à 234)'}, 'record_timestamp': '2017-02-14T11:23:17+00:00'}, {'datasetid': 'bruxelles_rues_par_secteur_pour_les_cartes_de_riverain', 'recordid': 'b20bef9235e554f2d9badf9b082fb50b8ef64f36', 'fields': {'secteur': 'Pentagone', 'rue': 'Royale  Rue (numéros impairs de 7 à 145 et numéros pairs de 2 à 234)'}, 'record_timestamp': '2017-02-14T11:23:17+00:00'}], 'facet_groups': [{'facets': [{'count': 3, 'path': 'Pentagone', 'state': 'displayed', 'name': 'Pentagone'}], 'name': 'secteur'}]}\n",
      "{'secteur': 'Pentagone', 'rue': 'Royale Place'}\n",
      "3\n",
      "[{'datasetid': 'bruxelles_rues_par_secteur_pour_les_cartes_de_riverain', 'recordid': '07f98425d041ecb8932410e6b86022abd9b32699', 'fields': {'secteur': 'Pentagone', 'rue': 'Royale Place'}, 'record_timestamp': '2017-02-14T11:23:17+00:00'}, {'datasetid': 'bruxelles_rues_par_secteur_pour_les_cartes_de_riverain', 'recordid': 'ed5c643cf284de21a78a987ae013d98c915a0a64', 'fields': {'secteur': 'Pentagone', 'rue': 'Royale  Rue (numéros impairs de 7 à 145 et numéros pairs de 76 à 234)'}, 'record_timestamp': '2017-02-14T11:23:17+00:00'}, {'datasetid': 'bruxelles_rues_par_secteur_pour_les_cartes_de_riverain', 'recordid': 'b20bef9235e554f2d9badf9b082fb50b8ef64f36', 'fields': {'secteur': 'Pentagone', 'rue': 'Royale  Rue (numéros impairs de 7 à 145 et numéros pairs de 2 à 234)'}, 'record_timestamp': '2017-02-14T11:23:17+00:00'}]\n",
      "Secteur, lieu : Pentagone, Royale Place\n",
      "Secteur, lieu : Pentagone, Royale  Rue (numéros impairs de 7 à 145 et numéros pairs de 76 à 234)\n",
      "Secteur, lieu : Pentagone, Royale  Rue (numéros impairs de 7 à 145 et numéros pairs de 2 à 234)\n"
     ]
    }
   ],
   "source": [
    "rue = \"royale\"\n",
    "\n",
    "url = \"https://opendata.brussels.be/api/records/1.0/search/\"\n",
    "dataset_ = \"bruxelles_rues_par_secteur_pour_les_cartes_de_riverain\"\n",
    "facet_ = \"secteur\"\n",
    "data = {'dataset' : dataset_ , 'q' : rue, 'facet' : facet_ }\n",
    "\n",
    "resp = requests.get(url, data)\n",
    "json_list = json.loads(resp.text)\n",
    "\n",
    "sub = json_list['records']\n",
    "\n",
    "print(len(json_list))\n",
    "print(json_list)\n",
    "print(json_list['records'][0]['fields'])\n",
    "\n",
    "print(len(sub))\n",
    "print(sub)\n",
    "\n",
    "record = []\n",
    "\n",
    "for item in sub:\n",
    "    record = item['fields']\n",
    "    print(f\"Secteur, lieu : {', '.join(record.values())}\")"
   ]
  },
  {
   "cell_type": "markdown",
   "id": "e1fc29ec-17b0-483c-9c34-b2a3c80abde5",
   "metadata": {},
   "source": [
    "Après moultes erreurs, je parviens à extraire ce qu'il faut\n",
    "\n",
    "Je remarque donc qu'il existe des doublons et que plusieurs secteurs en dehors de Bruxelles font partie du dataset (ex: Laeken)"
   ]
  },
  {
   "cell_type": "code",
   "execution_count": 21,
   "id": "40b6349c-b220-456b-8dcb-be47245b0f0a",
   "metadata": {},
   "outputs": [
    {
     "name": "stdout",
     "output_type": "stream",
     "text": [
      "Le dataset a détecté 3 enregistrement(s) pour ce lieu :\n",
      "\n",
      "Lieu : Royale Place (Pentagone)\n",
      "Lieu : Royale  Rue (numéros impairs de 7 à 145 et numéros pairs de 76 à 234) (Pentagone)\n",
      "Lieu : Royale  Rue (numéros impairs de 7 à 145 et numéros pairs de 2 à 234) (Pentagone)\n"
     ]
    }
   ],
   "source": [
    "# source : https://opendata.brussels.be/api/records/1.0/search/?dataset=bruxelles_rues_par_secteur_pour_les_cartes_de_riverain&q=&facet=secteur\n",
    "\n",
    "terme = \"royale\"\n",
    "\n",
    "url = \"https://opendata.brussels.be/api/records/1.0/search/\"\n",
    "dataset_ = \"bruxelles_rues_par_secteur_pour_les_cartes_de_riverain\"\n",
    "facet_ = \"secteur\"\n",
    "data = {'dataset' : dataset_ , 'q' : terme, 'facet' : facet_ }\n",
    "\n",
    "resp = requests.get(url, data)\n",
    "json_list = json.loads(resp.text)\n",
    "subset = json_list['records']\n",
    "\n",
    "print(f\"Le dataset a détecté {len(subset)} enregistrement(s) pour ce lieu :\\n\")\n",
    "\n",
    "for item in subset:\n",
    "    secteurs = item['fields']['secteur']\n",
    "    rues = item['fields']['rue']\n",
    "    print(f\"Lieu : {rues} ({secteurs})\")"
   ]
  },
  {
   "cell_type": "markdown",
   "id": "b5311025-7c58-4c24-8260-cb13aa5d3827",
   "metadata": {},
   "source": [
    "#### Un deuxième script qui reprend les adresses des fontaines d'eau potable à Bruxelles (sujet abordé dans les bulletins)"
   ]
  },
  {
   "cell_type": "code",
   "execution_count": 22,
   "id": "ccf8b453-59c6-4931-ad82-8b17d7300229",
   "metadata": {},
   "outputs": [
    {
     "name": "stdout",
     "output_type": "stream",
     "text": [
      "Bruxelles recense 10 fontaines d'eau potable :\n",
      "\n",
      "Au 38, Boulevard Anspach --> Au carrefour avec la rue Grétry.\n",
      "Au 67, Quai au Foin --> Derrière le théatre KVS, sur le terrain de basket.\n",
      "Au 2, Quai du Batelage --> Rue de l’héliport dans la cour de la «ferme» du parc Maximilien.\n",
      "Au 106, Rue Neuve --> En face de l’entrée du City 2, au coin de la rue de Malines.\n",
      "Au 1, Rue de la Loi --> En face à la rue Montagne du Parc, près de l’aire de jeux.\n",
      "Au 32, Rue aux Laines --> Entrée Rue aux laines, passage M. Yourcenar.\n",
      "Au 2, Rue de Rollebeek --> Au croisement avec le Boulevard de l’Empereur.\n",
      "Au 6, Rue des Ursulines --> A gauche de l’entrée de l’Eglise de la Chapelle, au skate parc.\n",
      "Au 42C, Avenue de l'Héliport --> Entre Bd Simon Bolivar et av de l’héliport, au parc, près de la plaine de jeux.\n",
      "Au 59, Square Prince Léopold --> En face du n° 49, près Rue Strauwen, au bord de l’allée autour du parc.\n"
     ]
    }
   ],
   "source": [
    "url = \"https://opendata.brussels.be/api/records/1.0/search/\"\n",
    "dataset_ = \"bxl_fontaines\"\n",
    "data = {'dataset' : dataset_}\n",
    "\n",
    "resp = requests.get(url, data)\n",
    "json_list = json.loads(resp.text)\n",
    "subset = json_list['records']\n",
    "\n",
    "print(f\"Bruxelles recense {len(subset)} fontaines d'eau potable :\\n\")\n",
    "\n",
    "for item in subset:\n",
    "    adresses = item['fields']['adrvoisfr']\n",
    "    specifs = item['fields']['speclocfr']\n",
    "    print(f\"Au {adresses} --> {specifs}\")"
   ]
  },
  {
   "cell_type": "markdown",
   "id": "2d1e69fa-10a3-435c-bbd5-350a57d7f25f",
   "metadata": {},
   "source": [
    "#### Un troisième script pour les adresses des théâtres"
   ]
  },
  {
   "cell_type": "code",
   "execution_count": 23,
   "id": "559d54b3-9034-4c7f-9c1a-03731138071c",
   "metadata": {},
   "outputs": [
    {
     "name": "stdout",
     "output_type": "stream",
     "text": [
      "Bruxelles recense 10 théâtres :\n",
      "\n",
      "Kaaitheater (Square Sainctelette 20)\n",
      "Centre culturel des Riches-Claires (Rue des Riches Claires 24)\n",
      "Théâtre de Poche (Chemin du Gymnase 1A)\n",
      "(La) Monnaie (Place de la Monnaie)\n",
      "(Le) Jardin de ma Soeur (Rue du Grand Hospice)\n",
      "Théâtre des Galeries (Galerie du Roi 32)\n",
      "Théâtre La Samaritaine (Rue de la Samaritaine 16)\n",
      "Théâtre royal du Parc (Rue de la Loi 3)\n",
      "Bronks (Rue du Marché aux Porcs 15-17)\n",
      "Koninklijke Vlaamse Schouwburg (KVS) (Quai aux Pierres de Taille 7)\n"
     ]
    }
   ],
   "source": [
    "url = \"https://opendata.brussels.be/api/records/1.0/search/\"\n",
    "dataset_ = \"bruxelles_theatres\"\n",
    "data = {'dataset' : dataset_}\n",
    "\n",
    "resp = requests.get(url, data)\n",
    "json_list = json.loads(resp.text)\n",
    "subset = json_list['records']\n",
    "\n",
    "print(f\"Bruxelles recense {len(subset)} théâtres :\\n\")\n",
    "\n",
    "for item in subset:\n",
    "    noms = item['fields']['nom']\n",
    "    rues = item['fields']['rue']\n",
    "    print(f\"{noms} ({rues})\")"
   ]
  },
  {
   "cell_type": "markdown",
   "id": "c5083780-2441-4393-8f66-8a1099ee8466",
   "metadata": {},
   "source": [
    "#### Un quatrième script pour les cinémas"
   ]
  },
  {
   "cell_type": "code",
   "execution_count": 24,
   "id": "0f31120e-3657-496e-b85f-95603a4f90c8",
   "metadata": {},
   "outputs": [
    {
     "name": "stdout",
     "output_type": "stream",
     "text": [
      "Bruxelles recense 8 cinémas :\n",
      "\n",
      "Cinematek (Rue Baron Horta 9 - 1000 Bruxelles)\n",
      "Kinepolis (Boulevard du Centenaire 2 - 1020 Bruxelles (Laeken))\n",
      "Galeries (Galerie de la Reine 26 - 1000 Bruxelles)\n",
      "Cinèma Nova (Rue d'Arenberg 3 - 1000 Bruxelles)\n",
      "Actor's Studio (Rue de la Fourche 17-19 - 1000 Bruxelles)\n",
      "Aventure (Rue des Fripiers 15 - 1000 Bruxelles)\n",
      "Cinema Palace (Boulevard Anspach 85 - 1000 Bruxelles)\n",
      "UGC De Brouckère (Place De Brouckère 38 - 1000 Bruxelles)\n"
     ]
    }
   ],
   "source": [
    "url = \"https://opendata.brussels.be/api/records/1.0/search/\"\n",
    "dataset_ = \"bruxelles_cinemas\"\n",
    "data = {'dataset' : dataset_}\n",
    "\n",
    "resp = requests.get(url, data)\n",
    "json_list = json.loads(resp.text)\n",
    "subset = json_list['records']\n",
    "\n",
    "print(f\"Bruxelles recense {len(subset)} cinémas :\\n\")\n",
    "\n",
    "for item in subset:\n",
    "    cinemas = item['fields']['cinema']\n",
    "    adresses = item['fields']['adresse']\n",
    "    print(f\"{cinemas} ({adresses})\")"
   ]
  },
  {
   "cell_type": "markdown",
   "id": "4b6ab08b-bd56-475a-ac1f-6b6e46d17acd",
   "metadata": {},
   "source": [
    "#### Un dernier script qui teste le dataset des bourgmestres"
   ]
  },
  {
   "cell_type": "markdown",
   "id": "fe8b2489-c651-4057-9d3e-78abe3e11689",
   "metadata": {},
   "source": [
    "Ce dataset est incomplet, tous les champs ne sont pas toujours renseignés et le résultat est très incomplet"
   ]
  },
  {
   "cell_type": "code",
   "execution_count": 25,
   "id": "4b4e23cb-4968-4a30-b9a6-5252a95395bf",
   "metadata": {},
   "outputs": [
    {
     "name": "stdout",
     "output_type": "stream",
     "text": [
      "Liste des 10 dates concernant l'arrêté royal de nomination des bourgmestres de Bruxelles :\n",
      "\n",
      "Michel Demaret\n",
      "Yvan Mayeur\n",
      "Adolphe Max\n",
      "Marion Lemesre\n",
      "Charles Lemonnier\n",
      "Baron Joseph \n",
      "Van de Meulebroeck\n",
      "Lucien Cooremans\n",
      "Nicolas Rouppe\n",
      "Nicolas Verhulst - Van Hoegaarden\n",
      "André Fontainas\n"
     ]
    }
   ],
   "source": [
    "url = \"https://opendata.brussels.be/api/records/1.0/search/\"\n",
    "dataset_ = \"bxl_bourgmestres\"\n",
    "data = {'dataset' : dataset_}\n",
    "\n",
    "resp = requests.get(url, data)\n",
    "json_list = json.loads(resp.text)\n",
    "subset = json_list['records']\n",
    "\n",
    "print(f\"Liste des {len(subset)} dates concernant l'arrêté royal de nomination des bourgmestres de Bruxelles :\\n\")\n",
    "\n",
    "for item in subset:\n",
    "    bourgmestres = item['fields']['bourgmestres']\n",
    "    print(f\"{bourgmestres}\")"
   ]
  }
 ],
 "metadata": {
  "kernelspec": {
   "display_name": "Python 3 (ipykernel)",
   "language": "python",
   "name": "python3"
  },
  "language_info": {
   "codemirror_mode": {
    "name": "ipython",
    "version": 3
   },
   "file_extension": ".py",
   "mimetype": "text/x-python",
   "name": "python",
   "nbconvert_exporter": "python",
   "pygments_lexer": "ipython3",
   "version": "3.9.7"
  }
 },
 "nbformat": 4,
 "nbformat_minor": 5
}
