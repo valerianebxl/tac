{
 "cells": [
  {
   "cell_type": "markdown",
   "id": "5470f524-1497-44a6-9fc1-b1541f376791",
   "metadata": {},
   "source": [
    "# Clustering et word2vec"
   ]
  },
  {
   "cell_type": "markdown",
   "id": "4aab9df9-3737-4fb0-9c57-ae33615ac09c",
   "metadata": {},
   "source": [
    "Sur la base des éléments méthodologiques et des enseignements techniques présentés lors du cours théorique, il est demandé dans le cadre de ce TP :\n",
    "- d’effectuer un clustering des bulletins pour une décennie au choix et d’interpréter les résultats\n",
    "- d’entraîner un modèle word2vec sur l’ensemble des bulletins et d’explorer les relations entre vecteurs\n",
    "\n",
    "Pour ce faire, vous utiliserez différentes librairies Python vues au cours comme scikit-learn et gensim."
   ]
  },
  {
   "cell_type": "markdown",
   "id": "2e2b4e5d-3872-4866-ae6c-3634788a4bab",
   "metadata": {},
   "source": [
    "#### Librairies nécessaires"
   ]
  },
  {
   "cell_type": "code",
   "execution_count": 8,
   "id": "f6482446-d572-4b0d-a966-864ba343f08c",
   "metadata": {},
   "outputs": [
    {
     "name": "stderr",
     "output_type": "stream",
     "text": [
      "[nltk_data] Downloading package punkt to /root/nltk_data...\n",
      "[nltk_data]   Unzipping tokenizers/punkt.zip.\n"
     ]
    }
   ],
   "source": [
    "import collections\n",
    "import os\n",
    "import string\n",
    "import sys\n",
    "\n",
    "import pandas as pd\n",
    "\n",
    "import nltk\n",
    "nltk.download('punkt')\n",
    "from nltk import word_tokenize\n",
    "from nltk.corpus import stopwords\n",
    "from nltk.tokenize import wordpunct_tokenize\n",
    "from unidecode import unidecode\n",
    "\n",
    "from pprint import pprint\n",
    "\n",
    "from sklearn.cluster import KMeans\n",
    "from sklearn.feature_extraction.text import TfidfVectorizer\n",
    "from sklearn.decomposition import PCA\n",
    "\n",
    "import numpy as np\n",
    "import matplotlib.pyplot as plt\n",
    "from scipy.spatial.distance import cosine\n",
    "\n",
    "from gensim.models.phrases import Phrases, Phraser\n",
    "from gensim.models import Word2Vec"
   ]
  },
  {
   "cell_type": "markdown",
   "id": "57efd957-74d6-41a4-9abe-ca82e914a281",
   "metadata": {
    "tags": []
   },
   "source": [
    "## 1. Clustering"
   ]
  },
  {
   "cell_type": "markdown",
   "id": "6947063d-fec4-4d80-bac9-c47532d17c7e",
   "metadata": {},
   "source": [
    "#### Choisir une décénie et charger les fichiers"
   ]
  },
  {
   "cell_type": "code",
   "execution_count": 103,
   "id": "4e08f473-9591-49d4-8a42-1a7605a926e2",
   "metadata": {},
   "outputs": [],
   "source": [
    "data_path = \"../data/txt/\""
   ]
  },
  {
   "cell_type": "code",
   "execution_count": 104,
   "id": "cb0db02c-aa8e-45cf-afa1-cefe53befabb",
   "metadata": {},
   "outputs": [],
   "source": [
    "DECADE = '1880'"
   ]
  },
  {
   "cell_type": "code",
   "execution_count": 105,
   "id": "73bedfb4-0767-4f78-950c-1a87921a00c9",
   "metadata": {},
   "outputs": [],
   "source": [
    "files = [f for f in sorted(os.listdir(data_path)) if f\"_{DECADE[:-1]}\" in f]"
   ]
  },
  {
   "cell_type": "code",
   "execution_count": 106,
   "id": "27a15880-7313-4b62-8e38-e532a7e34c48",
   "metadata": {},
   "outputs": [
    {
     "data": {
      "text/plain": [
       "['Bxl_1880_Tome_I1_Part_1.txt',\n",
       " 'Bxl_1880_Tome_I1_Part_10.txt',\n",
       " 'Bxl_1880_Tome_I1_Part_2.txt',\n",
       " 'Bxl_1880_Tome_I1_Part_3.txt',\n",
       " 'Bxl_1880_Tome_I1_Part_4.txt']"
      ]
     },
     "execution_count": 106,
     "metadata": {},
     "output_type": "execute_result"
    }
   ],
   "source": [
    "# vérifier les fichiers\n",
    "files[:5]"
   ]
  },
  {
   "cell_type": "code",
   "execution_count": 107,
   "id": "2923094a-1658-43a7-bf81-8004eb85db85",
   "metadata": {},
   "outputs": [],
   "source": [
    "texts = [open(data_path + f).read() for f in files]"
   ]
  },
  {
   "cell_type": "code",
   "execution_count": 108,
   "id": "1e685ea9-881f-4a9c-9338-9c919c713006",
   "metadata": {},
   "outputs": [
    {
     "data": {
      "text/plain": [
       "'VILLE\\n\\nD E\\n\\nBULLETIN\\n\\nBRUXELLES.\\n\\nCOMMUNAL\\n\\nA N N É E\\n\\n1880.\\n\\nPREMIÈRE PARTIE.\\n\\nCOMPTE\\n\\nRENDU\\n\\nDES\\n\\nSÉANCES.\\n\\nBBUXELLES,\\n\\nIMPRIMERIE DE V JULIEN BAERTSOEN,\\nGrand\\'Place, 5.\\ne\\n\\n\\x0c]\\n\\nI\\n\\n£\\n\\ni\\n\\n!\\n\\n\\x0cN \" 1.\\n\\nCOMPTE RENDU DE LA SÉANCE DÛ 1 2 JANVIER 1 8 8 0 .\\n\\nVILLE\\n\\nDE\\n\\nBRUXELLES.\\n\\nBULLETIN\\n\\nC O M M U N A L\\n\\nANNÉE\\n\\nC O N S E I L\\n\\n1880.\\n\\nC O M M U N A L .\\n\\nSéance du 42 Janvier 1880.\\nPrésidence de M . F . V'"
      ]
     },
     "execution_count": 108,
     "metadata": {},
     "output_type": "execute_result"
    }
   ],
   "source": [
    "# explorer un texte\n",
    "texts[0][:400]"
   ]
  },
  {
   "cell_type": "markdown",
   "id": "3b02e3e9-1e3a-4b52-b983-80932617467a",
   "metadata": {},
   "source": [
    "#### Vectoriser les fichiers"
   ]
  },
  {
   "cell_type": "code",
   "execution_count": 109,
   "id": "5285df39-20d1-4fa0-b0f1-f3ffed3c778d",
   "metadata": {},
   "outputs": [],
   "source": [
    "# Création d'une fonction de pré-traitement\n",
    "def preprocessing(text, stem=True):\n",
    "    \"\"\" Tokenize text and remove punctuation \"\"\"\n",
    "    text = text.translate(string.punctuation)\n",
    "    tokens = word_tokenize(text)\n",
    "    return tokens"
   ]
  },
  {
   "cell_type": "code",
   "execution_count": 110,
   "id": "429d2540-fc96-4108-ad3e-ceda1c0cdd31",
   "metadata": {},
   "outputs": [],
   "source": [
    "# instancier le modèle\n",
    "vectorizer = TfidfVectorizer(\n",
    "    tokenizer=preprocessing,\n",
    "    stop_words=stopwords.words('french'),\n",
    "    max_df=0.5,\n",
    "    min_df=0.1,\n",
    "    lowercase=True)"
   ]
  },
  {
   "cell_type": "code",
   "execution_count": 111,
   "id": "26ebdc26-de40-44e9-8bb9-7426b51c1e89",
   "metadata": {},
   "outputs": [
    {
     "name": "stdout",
     "output_type": "stream",
     "text": [
      "CPU times: user 2min 29s, sys: 48.9 ms, total: 2min 29s\n",
      "Wall time: 2min 29s\n"
     ]
    }
   ],
   "source": [
    "# construire la matrice\n",
    "%time tfidf_vectors = vectorizer.fit_transform(texts)"
   ]
  },
  {
   "cell_type": "code",
   "execution_count": 113,
   "id": "880a698a-620f-4bc9-b3a9-8c90e72d7064",
   "metadata": {},
   "outputs": [
    {
     "data": {
      "text/plain": [
       "delecosse        0.338644\n",
       "délégation       0.206433\n",
       "trappeniers      0.199561\n",
       "veldekens        0.179754\n",
       "monte-charges    0.172713\n",
       "                   ...   \n",
       "dépense.+m       0.000000\n",
       "dépense+de       0.000000\n",
       "dépens           0.000000\n",
       "dépendances      0.000000\n",
       "••               0.000000\n",
       "Length: 7997, dtype: float64"
      ]
     },
     "execution_count": 113,
     "metadata": {},
     "output_type": "execute_result"
    }
   ],
   "source": [
    "# vecteur du premier document\n",
    "pd.Series(\n",
    "    tfidf_vectors[0].toarray()[0],\n",
    "    index=vectorizer.get_feature_names_out()\n",
    "    ).sort_values(ascending=False)"
   ]
  },
  {
   "cell_type": "code",
   "execution_count": 114,
   "id": "c65c348d-1000-4636-800a-105cf9ca8f74",
   "metadata": {},
   "outputs": [],
   "source": [
    "# transfert vers un tableau pour effectuer des tests\n",
    "tfidf_array = tfidf_vectors.toarray()"
   ]
  },
  {
   "cell_type": "code",
   "execution_count": 115,
   "id": "47854071-6c9e-4cf4-b90c-28bef5b4f98a",
   "metadata": {},
   "outputs": [
    {
     "data": {
      "text/plain": [
       "0.9012494794236015"
      ]
     },
     "execution_count": 115,
     "metadata": {},
     "output_type": "execute_result"
    }
   ],
   "source": [
    "cosine(tfidf_array[0], tfidf_array[1])"
   ]
  },
  {
   "cell_type": "markdown",
   "id": "bffee5cb-5b7a-4a67-92a0-3afc8880b358",
   "metadata": {},
   "source": [
    "#### Appliquer un algorithme de clustering sur les vecteurs TF-IDF des documents"
   ]
  },
  {
   "cell_type": "code",
   "execution_count": 116,
   "id": "b54864e0-39ca-495b-9ce0-8642baef7246",
   "metadata": {},
   "outputs": [],
   "source": [
    "N_CLUSTERS = 6"
   ]
  },
  {
   "cell_type": "markdown",
   "id": "904a9a47-ac41-4bfc-b0ce-57db830332db",
   "metadata": {},
   "source": [
    "#### Instancier le modèle K-Means et ses arguments"
   ]
  },
  {
   "cell_type": "code",
   "execution_count": 117,
   "id": "8335269b-f5d0-447c-9d67-54ddb91c6fdb",
   "metadata": {},
   "outputs": [],
   "source": [
    "km_model = KMeans(n_clusters=N_CLUSTERS, random_state = 42)"
   ]
  },
  {
   "cell_type": "markdown",
   "id": "9a0ed58d-bd5f-4dd3-acda-73b4580d6800",
   "metadata": {},
   "source": [
    "#### Appliquer le clustering à l'aide de la fonction `fit_predict`"
   ]
  },
  {
   "cell_type": "code",
   "execution_count": 118,
   "id": "4d3b79af-b282-4788-93e7-abc448d681ef",
   "metadata": {},
   "outputs": [],
   "source": [
    "clusters = km_model.fit_predict(tfidf_vectors)"
   ]
  },
  {
   "cell_type": "code",
   "execution_count": 119,
   "id": "7f95626e-7c34-4150-a982-62d22bbdc1b9",
   "metadata": {},
   "outputs": [],
   "source": [
    "clustering = collections.defaultdict(list)\n",
    "\n",
    "for idx, label in enumerate(clusters):\n",
    "    clustering[label].append(files[idx])"
   ]
  },
  {
   "cell_type": "markdown",
   "id": "9222632d-bb7a-4341-8e03-2188ea658713",
   "metadata": {},
   "source": [
    "#### Réduire les vecteurs à 2 dimensions à l'aide de l'algorithme PCA"
   ]
  },
  {
   "cell_type": "code",
   "execution_count": 121,
   "id": "6c8c7bae-06de-4bf3-a727-b3d028a8a4a4",
   "metadata": {},
   "outputs": [],
   "source": [
    "pca = PCA(n_components=2)\n",
    "reduced_vectors = pca.fit_transform(tfidf_vectors.toarray())"
   ]
  },
  {
   "cell_type": "markdown",
   "id": "4329eb08-2517-44c5-9e7f-61cc5fc8d5b2",
   "metadata": {},
   "source": [
    "### Générer le plot"
   ]
  },
  {
   "cell_type": "code",
   "execution_count": 123,
   "id": "7962650b-43c0-42ef-86f4-097225442012",
   "metadata": {},
   "outputs": [
    {
     "data": {
      "text/plain": [
       "<matplotlib.legend.Legend at 0x7f05caa3f5b0>"
      ]
     },
     "execution_count": 123,
     "metadata": {},
     "output_type": "execute_result"
    },
    {
     "data": {
      "image/png": "[encoded data removed]",
      "text/plain": [
       "<Figure size 720x720 with 1 Axes>"
      ]
     },
     "metadata": {
      "needs_background": "light"
     },
     "output_type": "display_data"
    }
   ],
   "source": [
    "x_axis = reduced_vectors[:, 0]\n",
    "y_axis = reduced_vectors[:, 1]\n",
    "\n",
    "plt.figure(figsize=(10,10))\n",
    "scatter = plt.scatter(x_axis, y_axis, s=100, c=clusters)\n",
    "\n",
    "# Ajouter les centroïdes\n",
    "centroids = pca.transform(km_model.cluster_centers_)\n",
    "plt.scatter(centroids[:, 0], centroids[:, 1],  marker = \"x\", s=100, linewidths = 2, color='black')\n",
    "\n",
    "# Ajouter la légende\n",
    "plt.legend(handles=scatter.legend_elements()[0], labels=set(clusters), title=\"Clusters\")"
   ]
  },
  {
   "cell_type": "markdown",
   "id": "d1ddccf5-9cc4-4ced-90dd-55a9997cd111",
   "metadata": {},
   "source": []
  },
  {
   "cell_type": "markdown",
   "id": "c57940a1-b491-4344-bf01-dfbee596f4d9",
   "metadata": {},
   "source": [
    "#### Sélection des fichiers de Bruxelles, uniquement"
   ]
  },
  {
   "cell_type": "code",
   "execution_count": 124,
   "id": "53a9349d-f5eb-4db3-9b5d-8c166ca67971",
   "metadata": {},
   "outputs": [],
   "source": [
    "files = [f for f in sorted(os.listdir(data_path)) if f\"Bxl_{DECADE[:-1]}\" in f]"
   ]
  },
  {
   "cell_type": "code",
   "execution_count": 125,
   "id": "659d8b5a-ca63-4526-a38e-ccf79b40ea7b",
   "metadata": {},
   "outputs": [],
   "source": [
    "texts = [open(data_path + f).read() for f in files]"
   ]
  },
  {
   "cell_type": "code",
   "execution_count": 126,
   "id": "4ecdd52d-931f-4c8b-a60f-d717b039d4c5",
   "metadata": {},
   "outputs": [],
   "source": [
    "vectorizer = TfidfVectorizer(\n",
    "    tokenizer=preprocessing,\n",
    "    stop_words=stopwords.words('french'),\n",
    "    max_df=0.5,\n",
    "    min_df=0.1,\n",
    "    lowercase=True)"
   ]
  },
  {
   "cell_type": "code",
   "execution_count": 127,
   "id": "4d6a4126-6437-4ea4-a32b-f6a07be6ad45",
   "metadata": {},
   "outputs": [
    {
     "name": "stdout",
     "output_type": "stream",
     "text": [
      "CPU times: user 1min 46s, sys: 2.55 ms, total: 1min 46s\n",
      "Wall time: 1min 46s\n"
     ]
    }
   ],
   "source": [
    "%time tfidf_vectors = vectorizer.fit_transform(texts)"
   ]
  },
  {
   "cell_type": "markdown",
   "id": "1a95b502-123f-4dee-8d08-07567ef457be",
   "metadata": {},
   "source": [
    "#### Générer le plot sur base du clustering"
   ]
  },
  {
   "cell_type": "code",
   "execution_count": 134,
   "id": "c1705ed6-a5b9-4ea7-9900-bef1338407ad",
   "metadata": {},
   "outputs": [
    {
     "data": {
      "text/plain": [
       "<matplotlib.legend.Legend at 0x7f05c964f940>"
      ]
     },
     "execution_count": 134,
     "metadata": {},
     "output_type": "execute_result"
    },
    {
     "data": {
      "image/png": "[encoded data removed]",
      "text/plain": [
       "<Figure size 720x720 with 1 Axes>"
      ]
     },
     "metadata": {
      "needs_background": "light"
     },
     "output_type": "display_data"
    }
   ],
   "source": [
    "N_CLUSTERS = 10\n",
    "\n",
    "#instancier le modèle KMeans\n",
    "km_model = KMeans(n_clusters=N_CLUSTERS, random_state = 42)\n",
    "\n",
    "# appliquer le clustering\n",
    "clusters = km_model.fit_predict(tfidf_vectors)\n",
    "\n",
    "clustering = collections.defaultdict(list)\n",
    "\n",
    "for idx, label in enumerate(clusters):\n",
    "    clustering[label].append(files[idx])\n",
    "\n",
    "# réduire les dimensions\n",
    "pca = PCA(n_components=2)\n",
    "reduced_vectors = pca.fit_transform(tfidf_vectors.toarray())\n",
    "\n",
    "# générer le plot\n",
    "x_axis = reduced_vectors[:, 0]\n",
    "y_axis = reduced_vectors[:, 1]\n",
    "\n",
    "plt.figure(figsize=(10,10))\n",
    "scatter = plt.scatter(x_axis, y_axis, s=100, c=clusters)\n",
    "\n",
    "# Ajouter les centroïdes\n",
    "centroids = pca.transform(km_model.cluster_centers_)\n",
    "plt.scatter(centroids[:, 0], centroids[:, 1],  marker = \"x\", s=100, linewidths = 2, color='black')\n",
    "\n",
    "# Ajouter la légende\n",
    "plt.legend(handles=scatter.legend_elements()[0], labels=set(clusters), title=\"Clusters\")"
   ]
  },
  {
   "cell_type": "code",
   "execution_count": 135,
   "id": "1b69858f-a4a7-4ced-b519-c9077eabf7a7",
   "metadata": {},
   "outputs": [
    {
     "name": "stdout",
     "output_type": "stream",
     "text": [
      "{0: ['Bxl_1882_Tome_I2_Part_2.txt',\n",
      "     'Bxl_1882_Tome_I2_Part_4.txt',\n",
      "     'Bxl_1882_Tome_I2_Part_8.txt',\n",
      "     'Bxl_1883_Tome_I1_Part_1.txt',\n",
      "     'Bxl_1883_Tome_I2_Part_3.txt',\n",
      "     'Bxl_1883_Tome_I2_Part_7.txt',\n",
      "     'Bxl_1884_Tome_I2_Part_1.txt',\n",
      "     'Bxl_1884_Tome_I2_Part_6.txt',\n",
      "     'Bxl_1885_Tome_I1_Part_2.txt',\n",
      "     'Bxl_1885_Tome_I2_Part_8.txt',\n",
      "     'Bxl_1886_Tome_I1_Part_3.txt',\n",
      "     'Bxl_1886_Tome_I2_Part_1.txt',\n",
      "     'Bxl_1887_Tome_I1_Part_1.txt',\n",
      "     'Bxl_1887_Tome_I1_Part_2.txt',\n",
      "     'Bxl_1887_Tome_I2_Part_2.txt'],\n",
      " 1: ['Bxl_1881_Tome_I2_Part_5.txt',\n",
      "     'Bxl_1881_Tome_I2_Part_6.txt',\n",
      "     'Bxl_1882_Tome_I2_Part_5.txt',\n",
      "     'Bxl_1882_Tome_I2_Part_6.txt',\n",
      "     'Bxl_1883_Tome_I2_Part_10.txt',\n",
      "     'Bxl_1883_Tome_I2_Part_4.txt',\n",
      "     'Bxl_1883_Tome_I2_Part_5.txt',\n",
      "     'Bxl_1883_Tome_I2_Part_6.txt',\n",
      "     'Bxl_1884_Tome_I1_Part_3.txt',\n",
      "     'Bxl_1884_Tome_I2_Part_3.txt',\n",
      "     'Bxl_1884_Tome_I2_Part_4.txt',\n",
      "     'Bxl_1884_Tome_I2_Part_5.txt',\n",
      "     'Bxl_1885_Tome_I2_Part_4.txt',\n",
      "     'Bxl_1885_Tome_I2_Part_5.txt',\n",
      "     'Bxl_1886_Tome_I1_Part_6.txt',\n",
      "     'Bxl_1886_Tome_I1_Part_8.txt',\n",
      "     'Bxl_1886_Tome_I2_Part_3.txt',\n",
      "     'Bxl_1886_Tome_I2_Part_4.txt',\n",
      "     'Bxl_1887_Tome_I2_Part_4.txt',\n",
      "     'Bxl_1887_Tome_I2_Part_5.txt',\n",
      "     'Bxl_1888_Tome_I2_Part_4.txt',\n",
      "     'Bxl_1889_Tome_I2_Part_5.txt'],\n",
      " 2: ['Bxl_1889_Tome_I1_Part_2.txt',\n",
      "     'Bxl_1889_Tome_I1_Part_3.txt',\n",
      "     'Bxl_1889_Tome_I1_Part_4.txt',\n",
      "     'Bxl_1889_Tome_I1_Part_5.txt',\n",
      "     'Bxl_1889_Tome_I1_Part_6.txt',\n",
      "     'Bxl_1889_Tome_I1_Part_7.txt',\n",
      "     'Bxl_1889_Tome_I1_Part_8.txt',\n",
      "     'Bxl_1889_Tome_I2_Part_1.txt',\n",
      "     'Bxl_1889_Tome_I2_Part_10.txt',\n",
      "     'Bxl_1889_Tome_I2_Part_12.txt',\n",
      "     'Bxl_1889_Tome_I2_Part_13.txt',\n",
      "     'Bxl_1889_Tome_I2_Part_2.txt',\n",
      "     'Bxl_1889_Tome_I2_Part_6.txt',\n",
      "     'Bxl_1889_Tome_I2_Part_7.txt',\n",
      "     'Bxl_1889_Tome_I2_Part_8.txt',\n",
      "     'Bxl_1889_Tome_I2_Part_9.txt'],\n",
      " 3: ['Bxl_1882_Tome_I1_Part_1.txt',\n",
      "     'Bxl_1882_Tome_I2_Part_10.txt',\n",
      "     'Bxl_1882_Tome_I2_Part_9.txt',\n",
      "     'Bxl_1885_Tome_I1_Part_1.txt',\n",
      "     'Bxl_1885_Tome_I1_Part_3.txt',\n",
      "     'Bxl_1885_Tome_I1_Part_4.txt',\n",
      "     'Bxl_1885_Tome_I1_Part_5.txt',\n",
      "     'Bxl_1885_Tome_I1_Part_6.txt',\n",
      "     'Bxl_1885_Tome_I2_Part_1.txt',\n",
      "     'Bxl_1885_Tome_I2_Part_10.txt',\n",
      "     'Bxl_1885_Tome_I2_Part_11.txt',\n",
      "     'Bxl_1885_Tome_I2_Part_2.txt',\n",
      "     'Bxl_1885_Tome_I2_Part_3.txt',\n",
      "     'Bxl_1885_Tome_I2_Part_6.txt',\n",
      "     'Bxl_1885_Tome_I2_Part_7.txt',\n",
      "     'Bxl_1885_Tome_I2_Part_9.txt',\n",
      "     'Bxl_1886_Tome_I1_Part_1.txt',\n",
      "     'Bxl_1886_Tome_I1_Part_2.txt',\n",
      "     'Bxl_1886_Tome_I1_Part_4.txt',\n",
      "     'Bxl_1886_Tome_I1_Part_5.txt',\n",
      "     'Bxl_1886_Tome_I1_Part_7.txt',\n",
      "     'Bxl_1886_Tome_I1_Part_9.txt',\n",
      "     'Bxl_1886_Tome_I2_Part_5.txt',\n",
      "     'Bxl_1886_Tome_I2_Part_6.txt',\n",
      "     'Bxl_1886_Tome_I2_Part_7.txt',\n",
      "     'Bxl_1886_Tome_I2_Part_8.txt',\n",
      "     'Bxl_1887_Tome_I1_Part_4.txt',\n",
      "     'Bxl_1887_Tome_I1_Part_5.txt'],\n",
      " 4: ['Bxl_1888_Tome_I1_Part_3.txt',\n",
      "     'Bxl_1888_Tome_I1_Part_4.txt',\n",
      "     'Bxl_1888_Tome_I1_Part_5.txt',\n",
      "     'Bxl_1888_Tome_I2_Part_13.txt',\n",
      "     'Bxl_1888_Tome_I2_Part_14.txt',\n",
      "     'Bxl_1888_Tome_I2_Part_3.txt',\n",
      "     'Bxl_1889_Tome_I2_Part_11.txt',\n",
      "     'Bxl_1889_Tome_I2_Part_3.txt',\n",
      "     'Bxl_1889_Tome_I2_Part_4.txt'],\n",
      " 5: ['Bxl_1886_Tome_I2_Part_10.txt',\n",
      "     'Bxl_1886_Tome_I2_Part_9.txt',\n",
      "     'Bxl_1887_Tome_I2_Part_8.txt',\n",
      "     'Bxl_1888_Tome_I1_Part_1.txt',\n",
      "     'Bxl_1888_Tome_I2_Part_1.txt',\n",
      "     'Bxl_1888_Tome_I2_Part_10.txt',\n",
      "     'Bxl_1888_Tome_I2_Part_11.txt',\n",
      "     'Bxl_1888_Tome_I2_Part_2.txt',\n",
      "     'Bxl_1888_Tome_I2_Part_6.txt',\n",
      "     'Bxl_1888_Tome_I2_Part_7.txt',\n",
      "     'Bxl_1888_Tome_I2_Part_8.txt',\n",
      "     'Bxl_1888_Tome_I2_Part_9.txt'],\n",
      " 6: ['Bxl_1880_Tome_I1_Part_1.txt',\n",
      "     'Bxl_1880_Tome_I1_Part_2.txt',\n",
      "     'Bxl_1880_Tome_I1_Part_3.txt',\n",
      "     'Bxl_1880_Tome_I1_Part_4.txt',\n",
      "     'Bxl_1880_Tome_I1_Part_5.txt',\n",
      "     'Bxl_1880_Tome_I1_Part_6.txt',\n",
      "     'Bxl_1880_Tome_I1_Part_7.txt',\n",
      "     'Bxl_1880_Tome_I1_Part_8.txt',\n",
      "     'Bxl_1880_Tome_I1_Part_9.txt',\n",
      "     'Bxl_1881_Tome_I1_Part_1.txt',\n",
      "     'Bxl_1881_Tome_I1_Part_10.txt',\n",
      "     'Bxl_1881_Tome_I1_Part_2.txt',\n",
      "     'Bxl_1881_Tome_I1_Part_3.txt',\n",
      "     'Bxl_1881_Tome_I1_Part_4.txt',\n",
      "     'Bxl_1881_Tome_I1_Part_5.txt',\n",
      "     'Bxl_1881_Tome_I1_Part_6.txt',\n",
      "     'Bxl_1881_Tome_I1_Part_7.txt',\n",
      "     'Bxl_1881_Tome_I1_Part_8.txt',\n",
      "     'Bxl_1881_Tome_I1_Part_9.txt',\n",
      "     'Bxl_1881_Tome_I2_Part_1.txt',\n",
      "     'Bxl_1881_Tome_I2_Part_11.txt',\n",
      "     'Bxl_1881_Tome_I2_Part_2.txt',\n",
      "     'Bxl_1881_Tome_I2_Part_3.txt',\n",
      "     'Bxl_1881_Tome_I2_Part_4.txt',\n",
      "     'Bxl_1881_Tome_I2_Part_7.txt',\n",
      "     'Bxl_1881_Tome_I2_Part_8.txt',\n",
      "     'Bxl_1881_Tome_I2_Part_9.txt',\n",
      "     'Bxl_1882_Tome_I1_Part_2.txt',\n",
      "     'Bxl_1882_Tome_I1_Part_3.txt',\n",
      "     'Bxl_1882_Tome_I1_Part_4.txt',\n",
      "     'Bxl_1882_Tome_I1_Part_5.txt',\n",
      "     'Bxl_1882_Tome_I1_Part_6.txt',\n",
      "     'Bxl_1882_Tome_I2_Part_1.txt',\n",
      "     'Bxl_1882_Tome_I2_Part_7.txt',\n",
      "     'Bxl_1883_Tome_I1_Part_2.txt',\n",
      "     'Bxl_1883_Tome_I1_Part_3.txt',\n",
      "     'Bxl_1883_Tome_I1_Part_4.txt',\n",
      "     'Bxl_1883_Tome_I1_Part_5.txt',\n",
      "     'Bxl_1883_Tome_I1_Part_6.txt',\n",
      "     'Bxl_1883_Tome_I2_Part_1.txt',\n",
      "     'Bxl_1884_Tome_I1_Part_1.txt',\n",
      "     'Bxl_1884_Tome_I1_Part_2.txt',\n",
      "     'Bxl_1884_Tome_I1_Part_4.txt',\n",
      "     'Bxl_1884_Tome_I1_Part_5.txt',\n",
      "     'Bxl_1884_Tome_I1_Part_6.txt',\n",
      "     'Bxl_1884_Tome_I2_Part_2.txt',\n",
      "     'Bxl_1889_Tome_I1_Part_1.txt'],\n",
      " 7: ['Bxl_1880_Tome_I1_Part_10.txt',\n",
      "     'Bxl_1881_Tome_I2_Part_12.txt',\n",
      "     'Bxl_1882_Tome_I1_Part_7.txt',\n",
      "     'Bxl_1882_Tome_I2_Part_13.txt',\n",
      "     'Bxl_1883_Tome_I1_Part_7.txt',\n",
      "     'Bxl_1883_Tome_I2_Part_11.txt',\n",
      "     'Bxl_1883_Tome_I2_Part_12.txt',\n",
      "     'Bxl_1884_Tome_I1_Part_7.txt',\n",
      "     'Bxl_1884_Tome_I2_Part_10.txt',\n",
      "     'Bxl_1884_Tome_I2_Part_9.txt',\n",
      "     'Bxl_1885_Tome_I2_Part_14.txt',\n",
      "     'Bxl_1886_Tome_I2_Part_12.txt',\n",
      "     'Bxl_1886_Tome_I2_Part_13.txt'],\n",
      " 8: ['Bxl_1881_Tome_I2_Part_10.txt',\n",
      "     'Bxl_1882_Tome_I2_Part_11.txt',\n",
      "     'Bxl_1882_Tome_I2_Part_12.txt',\n",
      "     'Bxl_1882_Tome_I2_Part_3.txt',\n",
      "     'Bxl_1883_Tome_I2_Part_2.txt',\n",
      "     'Bxl_1883_Tome_I2_Part_8.txt',\n",
      "     'Bxl_1883_Tome_I2_Part_9.txt',\n",
      "     'Bxl_1884_Tome_I2_Part_7.txt',\n",
      "     'Bxl_1884_Tome_I2_Part_8.txt',\n",
      "     'Bxl_1885_Tome_I2_Part_12.txt',\n",
      "     'Bxl_1885_Tome_I2_Part_13.txt',\n",
      "     'Bxl_1886_Tome_I2_Part_11.txt',\n",
      "     'Bxl_1886_Tome_I2_Part_2.txt',\n",
      "     'Bxl_1887_Tome_I2_Part_10.txt',\n",
      "     'Bxl_1888_Tome_I2_Part_12.txt'],\n",
      " 9: ['Bxl_1887_Tome_I1_Part_3.txt',\n",
      "     'Bxl_1887_Tome_I1_Part_6.txt',\n",
      "     'Bxl_1887_Tome_I1_Part_7.txt',\n",
      "     'Bxl_1887_Tome_I1_Part_8.txt',\n",
      "     'Bxl_1887_Tome_I2_Part_1.txt',\n",
      "     'Bxl_1887_Tome_I2_Part_11.txt',\n",
      "     'Bxl_1887_Tome_I2_Part_12.txt',\n",
      "     'Bxl_1887_Tome_I2_Part_3.txt',\n",
      "     'Bxl_1887_Tome_I2_Part_6.txt',\n",
      "     'Bxl_1887_Tome_I2_Part_7.txt',\n",
      "     'Bxl_1887_Tome_I2_Part_9.txt',\n",
      "     'Bxl_1888_Tome_I1_Part_2.txt',\n",
      "     'Bxl_1888_Tome_I2_Part_5.txt']}\n"
     ]
    }
   ],
   "source": [
    "pprint(dict(clustering))"
   ]
  },
  {
   "cell_type": "markdown",
   "id": "7fddf1b9-207d-46f9-967d-28f4bbc9e6e6",
   "metadata": {},
   "source": [
    "Il est difficile de juger de la pertinence des clusters sur un si grand nombre de fichiers. Dans le cas de cette décennie (1880), la dipsersion est telle qu'un certain nombre de fichiers sont ramassés sur la gauche, tandis que le reste se distribue plus largement. Un nettoyage des fichiers plus poussé permettrait sans doute de \"rééquilibrer\" la distribution afin d'obtenir des clusters plus marqués.\n",
    "\n",
    "Cependant, cette technique de clustering représente un intérêt pour classer les fichiers entre eux afin d'explorer des \"thématiques\" communes sur base de la fréquence des mots de l'ensemble étudié. En rassemblant les fichiers et les traitant à l'aide de fonctions de nettoyage plus poussées, il sera sans doute plus facile d'éliminer des mots fréquents de l'ensemble des \"paquets\" afin d'explorer plus finement le contenu. Des listes de stopwords peuvent être consitutées en fonction des clusters et ainsi permettre de faire ressortir du contenu plus informationnel.\n",
    "\n",
    "Pour vérifier la méthode, il faudrait pouvoir explorer les contenus de manière plus aisée, en procédant par exemple à des wordclouds ou en extrayant les keywords pour chacun des clusters."
   ]
  },
  {
   "cell_type": "markdown",
   "id": "82706675-c1cc-44fe-a1d7-4e02d87cb974",
   "metadata": {},
   "source": [
    "## 2. Word2Vec"
   ]
  },
  {
   "cell_type": "markdown",
   "id": "31d8e556-1150-435f-8849-eafea338d984",
   "metadata": {},
   "source": [
    "Avant de procéder à l'amélioration du modèle en appliquant successivement les fonctions bigrammes/trigrammes/quadrigrammes/pentagrammes, j'ai d'abord porcédé à l'exploration de différents caractéristiques déterminant la qualité des modèles. Le tableau ci-dessous reprend les résultats obtenus pour les mêmes requêtes. Celles-ci sont calquées sur celles présentées au cours.\n",
    "\n",
    "Le modèle 1 est celui fourni à la base et appliqué à une partie du corpus (fichier 'sents' créé à l'aide du notebook du cours). Tous les autres modèles se basent sur le fichier de Max De Wilde, renommé en 'sents_2'. J'ai ensuite fait varier la taille du vecteur (32, 100 ou 300), la taille de la fenêtre (5, 7, 10, 13, 20, 40), la fréquence minimale des mots, le nombre de 'workers' et les 'epochs'. Ceci m'a permis d'approcher les différences en fonction de requêtes similaires appliquées à l'ensemble des modèles. \n",
    "\n",
    "Mes principales constations sont que le nombre d''epochs' semble améliorer les performances des modèles quelque soit la taille du vecteur. Le nombre de 'workers' semble diminuer la précision des modèles. La taille du vecteur et de la fenêtre augmentent la sensibilité des modèles ; ils semblent devenir plus \"sensibles\", plus \"subtiles\" mais peut-être moins \"précis\". Ainsi, avec une vecteur de 100 et une fenêtre de 7, le modèle parvient à comprendre que le charcutier est au plus proche du boucher, que les autres métiers généralement renseignés. Remarquons qu'avec un vecteur de 300, il faut élargir la taille du vecteur à 13 pour parvenir à un tel résultat.\n",
    "\n",
    "J'opte donc a priori pour des modèles dont la taille de la fenêtre augmente en fonction de la taille du vecteur. Cependant, il faudra voir si l'application plus poussée des fonctions du Phraser ne viendra pas perturber ces résultats."
   ]
  },
  {
   "attachments": {
    "dc613224-d3cc-480a-bbff-318e4b29c43c.png": {
     "image/png": "[encoded data removed]"
    }
   },
   "cell_type": "markdown",
   "id": "435d93a2-feb9-4a4d-bc13-f496083ff4da",
   "metadata": {},
   "source": [
    "![image.png](attachment:dc613224-d3cc-480a-bbff-318e4b29c43c.png)"
   ]
  },
  {
   "cell_type": "markdown",
   "id": "b26ea7e7-6ff4-4741-9012-ce37239afadb",
   "metadata": {},
   "source": [
    "Tous les résultats sont disponibles dans le repo du module 4, dans les deux forks du notebook pour le word embeddings."
   ]
  },
  {
   "cell_type": "markdown",
   "id": "db5cf288-0c22-490f-b93d-ede6d71fb3e3",
   "metadata": {},
   "source": [
    "#### Chargement des phrases"
   ]
  },
  {
   "cell_type": "code",
   "execution_count": 136,
   "id": "c45027d3-067a-4306-9d66-232171f50c7c",
   "metadata": {},
   "outputs": [],
   "source": [
    "class MySentences(object):\n",
    "    \"\"\"Tokenize and Lemmatize sentences\"\"\"\n",
    "    def __init__(self, filename):\n",
    "        self.filename = filename\n",
    "\n",
    "    def __iter__(self):\n",
    "        for line in open(self.filename, encoding='utf-8', errors=\"backslashreplace\"):\n",
    "            yield [unidecode(w.lower()) for w in wordpunct_tokenize(line)]"
   ]
  },
  {
   "cell_type": "code",
   "execution_count": 137,
   "id": "590a72f4-6aa6-4e4c-9551-f2bb88a7650a",
   "metadata": {},
   "outputs": [],
   "source": [
    "infile = f\"../data/sents_2.txt\""
   ]
  },
  {
   "cell_type": "code",
   "execution_count": 138,
   "id": "74ce6a48-d5ed-4448-8388-9dc85d21e10c",
   "metadata": {},
   "outputs": [],
   "source": [
    "sentences = MySentences(infile)"
   ]
  },
  {
   "cell_type": "markdown",
   "id": "e0f31cb3-5038-4f4d-bbab-c02ffc61c8e2",
   "metadata": {},
   "source": [
    "#### Création des bigrammes"
   ]
  },
  {
   "cell_type": "code",
   "execution_count": 139,
   "id": "f866c305-7835-49f4-9ddd-3083f1ed1c92",
   "metadata": {},
   "outputs": [],
   "source": [
    "bigram_phrases = Phrases(sentences)"
   ]
  },
  {
   "cell_type": "code",
   "execution_count": 140,
   "id": "21d3d6e4-3ad3-4034-90e5-076077cff7a3",
   "metadata": {},
   "outputs": [
    {
     "data": {
      "text/plain": [
       "5978799"
      ]
     },
     "execution_count": 140,
     "metadata": {},
     "output_type": "execute_result"
    }
   ],
   "source": [
    "len(bigram_phrases.vocab.keys())"
   ]
  },
  {
   "cell_type": "code",
   "execution_count": 144,
   "id": "e3063b88-768f-4ef1-bd6d-227673f7cf9b",
   "metadata": {},
   "outputs": [
    {
     "name": "stdout",
     "output_type": "stream",
     "text": [
      "CPU times: user 3 ms, sys: 43 µs, total: 3.04 ms\n",
      "Wall time: 5.91 ms\n"
     ]
    },
    {
     "data": {
      "text/plain": [
       "<gensim.interfaces.TransformedCorpus at 0x7f05e5544a60>"
      ]
     },
     "execution_count": 144,
     "metadata": {},
     "output_type": "execute_result"
    }
   ],
   "source": [
    "%time bigram_phrases[sentences]"
   ]
  },
  {
   "cell_type": "code",
   "execution_count": 145,
   "id": "8efe9f0a-4b05-4492-8299-0b0f316f8060",
   "metadata": {},
   "outputs": [],
   "source": [
    "bigram_phraser = Phraser(phrases_model=bigram_phrases)"
   ]
  },
  {
   "cell_type": "code",
   "execution_count": 146,
   "id": "aef108da-dc60-4639-981e-839e16c024b5",
   "metadata": {},
   "outputs": [
    {
     "name": "stdout",
     "output_type": "stream",
     "text": [
      "CPU times: user 3.45 ms, sys: 49 µs, total: 3.5 ms\n",
      "Wall time: 2.88 ms\n"
     ]
    },
    {
     "data": {
      "text/plain": [
       "<gensim.interfaces.TransformedCorpus at 0x7f05c9fa1730>"
      ]
     },
     "execution_count": 146,
     "metadata": {},
     "output_type": "execute_result"
    }
   ],
   "source": [
    "%time bigram_phraser[sentences]"
   ]
  },
  {
   "cell_type": "code",
   "execution_count": 147,
   "id": "0ebf5848-c99b-41c1-9b23-d32b81bae084",
   "metadata": {},
   "outputs": [],
   "source": [
    "trigram_phrases = Phrases(bigram_phraser[sentences])"
   ]
  },
  {
   "cell_type": "code",
   "execution_count": 148,
   "id": "9d70c0b6-ea30-47a7-923b-3cc8c5348628",
   "metadata": {},
   "outputs": [],
   "source": [
    "trigram_phraser = Phraser(phrases_model=trigram_phrases)"
   ]
  },
  {
   "cell_type": "code",
   "execution_count": 149,
   "id": "5e2478f2-aefd-440b-be3a-066aeedd128e",
   "metadata": {},
   "outputs": [],
   "source": [
    "quadrigram_phrases = Phrases(trigram_phraser[sentences])"
   ]
  },
  {
   "cell_type": "code",
   "execution_count": 150,
   "id": "d0c703e3-838b-4c38-892e-d94111ec070a",
   "metadata": {},
   "outputs": [],
   "source": [
    "quadrigram_phraser = Phraser(phrases_model=quadrigram_phrases)"
   ]
  },
  {
   "cell_type": "code",
   "execution_count": 151,
   "id": "33f38b0a-077e-4428-811b-cf6788331f3e",
   "metadata": {},
   "outputs": [],
   "source": [
    "pentagram_phrases = Phrases(quadrigram_phraser[sentences])"
   ]
  },
  {
   "cell_type": "code",
   "execution_count": 152,
   "id": "e3a070f0-61f7-475c-8f63-2eca3ff73ad6",
   "metadata": {},
   "outputs": [],
   "source": [
    "pentagram_phraser = Phraser(phrases_model=pentagram_phrases)"
   ]
  },
  {
   "cell_type": "code",
   "execution_count": 153,
   "id": "eafc40c7-8fa4-4063-92eb-56cb024ced02",
   "metadata": {},
   "outputs": [],
   "source": [
    "corpus = list(pentagram_phraser[quadrigram_phraser[trigram_phraser[bigram_phraser[sentences]]]])"
   ]
  },
  {
   "cell_type": "code",
   "execution_count": 16,
   "id": "19bf7e5d-f24a-4203-b062-c627f306da10",
   "metadata": {},
   "outputs": [
    {
     "name": "stdout",
     "output_type": "stream",
     "text": [
      "[['v', 'i', 'l', 'l', 'e', 'de', 'bruxelles', 'bulletin', 'ires', '8eanas', 'dl', '!'], ['conseil_communal', 'annee', '1847', '.'], ['au', 'ville', 'de', 'b', 'r', 'u', 'x', 'e', 'l', 'l', 'e', 's', '.'], ['bulletin', 'conseil', 'aes', 'seances', 'communal', '.'], ['annee', '1847', '.'], ['bruxelles', ',', 'imprimerie', 'd', 'e', 'j', '.'], ['h', '.', 'b', 'r', 'i', 'a', 'r', 'd', ',', 'rite', 'n', 'e', 'u', 'v', 'e', ',', '3', '1', ',', 'faubourg', 'de', 'n', 'a', 'm', 'u', 'r', ',', '1', '84', '8', 'de', '!'], ['du', 'consei', 'dibi', 'e', '.', '-', 'communication', 'conclusions', 'de', 'la', 'section', 'des', 'du', 'nouvel_hospice', 'pour', 'les', 'av', 'enraisonde', 'l', \"'\", 'absence', '&', 'maladie', '.', 'le', 'conseil', 'ajourne', 'leurs', 'de', 'pierre', 'el', 'marchai', 'cles', 'des', 'taxes', 'communale', \"'\", 'bieniaance', 'eldeseianv', 'il', 'est', 'donne', 'communie', ';', 'mandant', 'le', 'o', 'p', 'fa', 'gnant', 'l', \"'\", 'envoi', 'de', 'leur', 'bn', 'par', 'l', \"'\", 'etat', 'obligatoire', 'p', 'secretariat', 'et', 'dtput', 'uf', 'proposition', 'dan', '*', 'le', 'meme', 'u', 'est', 'donne_lecture', 'd', \"'\", 't', 'glissement', 'd', \"'\", 'un', 'marc', '!'], [\"'*\", 'royales', ',', 'rue', 'de', 'la', 'i', 'd', 'e', 'k', ':', ';', 'i', 'fai', 'phonnenr', 'de', 'to', '>>', '<<', '<<', 'terrains', 'reumsderb', '.\"'], ['^', 'par', 'une', 'combinaison', 'f', 'sans', 'devoir', 'fe', 'soit', 'dow', 'ans', ',', 'un', 'marcs', '1', 's', 'u', 'r', 'l', 'iraocs', '.']]\n"
     ]
    }
   ],
   "source": [
    "print(corpus[:10])"
   ]
  },
  {
   "cell_type": "markdown",
   "id": "4f9d8255-4500-414c-b53a-2d70b24a94b9",
   "metadata": {},
   "source": [
    "#### Modèle 1 du tp3 (300-10)"
   ]
  },
  {
   "cell_type": "code",
   "execution_count": 23,
   "id": "1bc5750c-8d42-4ef3-804b-3b6b5d77b3dd",
   "metadata": {},
   "outputs": [
    {
     "name": "stdout",
     "output_type": "stream",
     "text": [
      "CPU times: user 2h 20min 49s, sys: 9min 36s, total: 2h 30min 25s\n",
      "Wall time: 44min 14s\n"
     ]
    }
   ],
   "source": [
    "%%time\n",
    "model = Word2Vec(\n",
    "    corpus, # On passe le corpus de ngrams que nous venons de créer\n",
    "    vector_size=300, # Le nombre de dimensions dans lesquelles le contexte des mots devra être réduit, aka. vector_size\n",
    "    window=10, # La taille du \"contexte\", ici 5 mots avant et après le mot observé\n",
    "    min_count=2, # On ignore les mots qui n'apparaissent pas au moins 5 fois dans le corpus\n",
    "    workers=4, # Permet de paralléliser l'entraînement du modèle en 4 threads\n",
    "    epochs=10 # Nombre d'itérations du réseau de neurones sur le jeu de données pour ajuster les paramètres avec la descende de gradient, aka. epochs.\n",
    ")"
   ]
  },
  {
   "cell_type": "code",
   "execution_count": 24,
   "id": "9cffac88-dcb0-4956-b5ed-39456543df9c",
   "metadata": {},
   "outputs": [],
   "source": [
    "# outfile = f\"../data/bulletins_tp3_1.model\"\n",
    "# model.save(outfile)"
   ]
  },
  {
   "cell_type": "code",
   "execution_count": 34,
   "id": "ce22be44-26e1-4664-a480-a29dd535f982",
   "metadata": {},
   "outputs": [],
   "source": [
    "model = Word2Vec.load(\"../data/bulletins_tp3_1.model\")"
   ]
  },
  {
   "cell_type": "markdown",
   "id": "78aac94d-1028-4e0c-aa97-49732e78dd04",
   "metadata": {
    "tags": []
   },
   "source": [
    "#### Exploration du modèle"
   ]
  },
  {
   "cell_type": "code",
   "execution_count": 5,
   "id": "6c8dda50-c978-4e2a-a745-c7224a4d6a34",
   "metadata": {},
   "outputs": [
    {
     "data": {
      "text/plain": [
       "0.57089794"
      ]
     },
     "execution_count": 5,
     "metadata": {},
     "output_type": "execute_result"
    }
   ],
   "source": [
    "model.wv.similarity(\"boucher\", \"boulanger\")"
   ]
  },
  {
   "cell_type": "code",
   "execution_count": 30,
   "id": "13d21d8d-2515-4bd0-aae9-0e3a21e17985",
   "metadata": {},
   "outputs": [
    {
     "data": {
      "text/plain": [
       "0.42860717"
      ]
     },
     "execution_count": 30,
     "metadata": {},
     "output_type": "execute_result"
    }
   ],
   "source": [
    "model.wv.similarity(\"homme\", \"femme\")"
   ]
  },
  {
   "cell_type": "code",
   "execution_count": 22,
   "id": "9d60298c-2a58-4cf6-b175-14226d05f9cb",
   "metadata": {},
   "outputs": [
    {
     "data": {
      "text/plain": [
       "0.28735888"
      ]
     },
     "execution_count": 22,
     "metadata": {},
     "output_type": "execute_result"
    }
   ],
   "source": [
    "model.wv.similarity(\"voiture\", \"carrosse\")"
   ]
  },
  {
   "cell_type": "code",
   "execution_count": 25,
   "id": "1325f839-4910-42d9-8618-edb8bc909ab5",
   "metadata": {},
   "outputs": [
    {
     "data": {
      "text/plain": [
       "0.42339402"
      ]
     },
     "execution_count": 25,
     "metadata": {},
     "output_type": "execute_result"
    }
   ],
   "source": [
    "model.wv.similarity(\"voiture\", \"chien\")"
   ]
  },
  {
   "cell_type": "code",
   "execution_count": 6,
   "id": "f7527e20-dd33-477d-b3a5-aa662120123d",
   "metadata": {},
   "outputs": [
    {
     "data": {
      "text/plain": [
       "[('rruxelles', 0.5818007588386536),\n",
       " ('nivelles', 0.5182838439941406),\n",
       " ('liege', 0.5148740410804749),\n",
       " ('bruxeles', 0.4937210977077484),\n",
       " ('bruxelle', 0.4917224645614624),\n",
       " ('jrvice', 0.471939355134964),\n",
       " ('xelles', 0.4709879159927368),\n",
       " ('huy', 0.47084033489227295),\n",
       " ('prague', 0.46914100646972656),\n",
       " ('binche', 0.46828752756118774)]"
      ]
     },
     "execution_count": 6,
     "metadata": {},
     "output_type": "execute_result"
    }
   ],
   "source": [
    "model.wv.most_similar(\"bruxelles\", topn=10)"
   ]
  },
  {
   "cell_type": "code",
   "execution_count": 35,
   "id": "3eab5b27-15a0-4b8c-a2be-161f9e1245e4",
   "metadata": {},
   "outputs": [
    {
     "data": {
      "text/plain": [
       "[('charcutier', 0.5995927453041077),\n",
       " ('boulanger', 0.5708979368209839),\n",
       " ('tailleur', 0.5652803778648376),\n",
       " ('cabaretier', 0.5632399320602417),\n",
       " ('cordonnier', 0.5628831386566162),\n",
       " ('abatteur', 0.5618293285369873),\n",
       " ('coiffeur', 0.5468771457672119),\n",
       " ('marchand', 0.5446248650550842),\n",
       " ('serrurier', 0.5419819951057434),\n",
       " ('fabricant', 0.5392330884933472)]"
      ]
     },
     "execution_count": 35,
     "metadata": {},
     "output_type": "execute_result"
    }
   ],
   "source": [
    "model.wv.most_similar(\"boucher\", topn=10)"
   ]
  },
  {
   "cell_type": "code",
   "execution_count": 27,
   "id": "fb06844c-6c8b-47f2-86db-726966662028",
   "metadata": {},
   "outputs": [
    {
     "data": {
      "text/plain": [
       "[('aristotelisme', 0.8893957734107971),\n",
       " ('symbolis', 0.8818884491920471),\n",
       " ('centum', 0.8812199831008911),\n",
       " ('christiano', 0.879470705986023),\n",
       " ('147437', 0.8793374300003052),\n",
       " ('66637', 0.8787049055099487),\n",
       " ('153125', 0.8774873614311218),\n",
       " ('gewidmet', 0.8770879507064819),\n",
       " ('43451', 0.8768373727798462),\n",
       " ('122571', 0.8763118982315063)]"
      ]
     },
     "execution_count": 27,
     "metadata": {},
     "output_type": "execute_result"
    }
   ],
   "source": [
    "model.wv.most_similar(\"platonisme\", topn=10)"
   ]
  },
  {
   "cell_type": "code",
   "execution_count": 7,
   "id": "38f943d7-bd89-41c5-a18f-f4f5af1da77b",
   "metadata": {},
   "outputs": [
    {
     "name": "stdout",
     "output_type": "stream",
     "text": [
      "[('liege', 0.5035298466682434), ('londres', 0.494385689496994), ('milan', 0.48436862230300903), ('tournai', 0.47917115688323975), ('huy', 0.4791364371776581), ('verviers', 0.470472127199173), ('prague', 0.4691561460494995), ('ostende', 0.46747785806655884), ('hambourg', 0.4582105278968811), ('paris', 0.4556889533996582)]\n"
     ]
    }
   ],
   "source": [
    "print(model.wv.most_similar(positive=['bruxelles', 'france'], negative=['belgique']))"
   ]
  },
  {
   "cell_type": "code",
   "execution_count": null,
   "id": "6ff79b5a-19cb-409c-990c-0a3e2087f0ce",
   "metadata": {},
   "outputs": [],
   "source": [
    "print(model.wv.most_similar(positive=['bruxelles', 'espagne'], negative=['belgique']))"
   ]
  },
  {
   "cell_type": "code",
   "execution_count": null,
   "id": "7002b9f2-0b33-487b-bce0-8ff02d53faed",
   "metadata": {},
   "outputs": [],
   "source": [
    "print(model.wv.most_similar(positive=['bruxelles', 'allemagne'], negative=['belgique']))"
   ]
  },
  {
   "cell_type": "code",
   "execution_count": null,
   "id": "78c1041a-d093-4272-a991-9f414f693820",
   "metadata": {},
   "outputs": [],
   "source": [
    "print(model.wv.most_similar(positive=['bruxelles', 'italie'], negative=['belgique']))"
   ]
  },
  {
   "cell_type": "code",
   "execution_count": null,
   "id": "5d7d584d-1dcc-4893-9c5d-da6b087af7d8",
   "metadata": {},
   "outputs": [],
   "source": [
    "print(model.wv.most_similar(positive=['bruxelles', 'russie'], negative=['belgique']))"
   ]
  },
  {
   "cell_type": "code",
   "execution_count": 18,
   "id": "959b7768-296f-496e-a949-0238773bd8df",
   "metadata": {},
   "outputs": [
    {
     "name": "stdout",
     "output_type": "stream",
     "text": [
      "[('mere', 0.4184131324291229), ('eoi', 0.4026956558227539), ('boi', 0.39582201838493347), ('fille', 0.3846323490142822), ('famille_royale', 0.3765176236629486), ('eclale', 0.37051498889923096), ('zeepaard', 0.3684881925582886), ('sieur_van_eesbeeck', 0.36782413721084595), ('mgr', 0.3621143698692322), ('princesse_marie', 0.35621941089630127)]\n"
     ]
    }
   ],
   "source": [
    "print(model.wv.most_similar(positive=['roi', 'femme'], negative=['homme']))"
   ]
  },
  {
   "cell_type": "code",
   "execution_count": 15,
   "id": "f32347df-9522-4bc4-bfc0-e83c86caa2c6",
   "metadata": {},
   "outputs": [
    {
     "name": "stdout",
     "output_type": "stream",
     "text": [
      "[('obeissance', 0.538389265537262), ('<<_je_jure', 0.5057224631309509), ('je_jure_fidelite', 0.4389154016971588), ('inalterableattachement', 0.4325920641422272), ('hommage_particulier', 0.4223836660385132), ('peuple_belge', 0.42071980237960815), ('desinteressement', 0.4178043603897095), ('serment_suivant', 0.41470056772232056), ('serment', 0.4126855134963989), ('juste_hommage', 0.4065362513065338)]\n"
     ]
    }
   ],
   "source": [
    "print(model.wv.most_similar(positive=['fidelite', 'homme'], negative=['femme']))"
   ]
  },
  {
   "cell_type": "code",
   "execution_count": 31,
   "id": "aad7944a-aa70-4bd2-8f5f-220cd1aa10f7",
   "metadata": {},
   "outputs": [
    {
     "name": "stdout",
     "output_type": "stream",
     "text": [
      "[('<<_je_jure', 0.5098984241485596), ('obeissance', 0.5080048441886902), ('je_jure_fidelite', 0.46494928002357483), ('serment_suivant', 0.409962922334671), ('jure_fidelite', 0.4073270559310913), ('famille_royale', 0.406828373670578), ('serment_constitutionnel', 0.4066757559776306), ('respectueuse_expression', 0.4052557945251465), ('victoire', 0.3968193829059601), ('liberte_absolue', 0.3927416503429413)]\n"
     ]
    }
   ],
   "source": [
    "print(model.wv.most_similar(positive=['fidelite', 'femme'], negative=['homme']))"
   ]
  },
  {
   "cell_type": "code",
   "execution_count": null,
   "id": "b1b493a1-a788-4e32-ade9-1da484d0ee11",
   "metadata": {},
   "outputs": [
    {
     "name": "stdout",
     "output_type": "stream",
     "text": [
      "[('fenetre', 0.5346331000328064), ('mansarde', 0.5246878862380981), ('cloison', 0.520297110080719), ('terrasse', 0.5074345469474792), ('loge', 0.5059982538223267), ('douche', 0.49894893169403076), ('cave', 0.49847882986068726), ('chaudiere', 0.49798569083213806), ('pouponniere', 0.4923699200153351), ('laverie', 0.4922226071357727)]\n"
     ]
    }
   ],
   "source": [
    "print(model.wv.most_similar(positive=['urinoir', 'femme'], negative=['homme']))"
   ]
  },
  {
   "cell_type": "code",
   "execution_count": null,
   "id": "ae10546f-d68c-4143-a650-deecc7d2dacb",
   "metadata": {},
   "outputs": [
    {
     "name": "stdout",
     "output_type": "stream",
     "text": [
      "[('individu', 0.5726050138473511), ('artiste', 0.5208781361579895), ('honnete_homme', 0.5015160441398621), ('elan', 0.4846319854259491), ('jeune_homme', 0.48355039954185486), ('instrument', 0.4822431802749634), ('seul_homme', 0.47085273265838623), ('quelqu', 0.4698927104473114), ('homme_politique', 0.4673098027706146), ('ecrivain', 0.46418407559394836)]\n"
     ]
    }
   ],
   "source": [
    "print(model.wv.most_similar(positive=['enfant', 'homme'], negative=['femme']))"
   ]
  },
  {
   "cell_type": "code",
   "execution_count": null,
   "id": "40f58198-7397-4d17-8583-7fdf549f5264",
   "metadata": {},
   "outputs": [
    {
     "name": "stdout",
     "output_type": "stream",
     "text": [
      "[('mere', 0.5782514810562134), ('fille', 0.5571849346160889), ('jeune_fille', 0.522800624370575), ('maman', 0.5204247236251831), ('servante', 0.5070370435714722), ('fillette', 0.497027724981308), ('pensionnaire', 0.4956570565700531), ('orpheline', 0.4850376546382904), ('soeur', 0.48322024941444397), ('leurs_parents', 0.48130083084106445)]\n"
     ]
    }
   ],
   "source": [
    "print(model.wv.most_similar(positive=['enfant', 'femme'], negative=['homme']))"
   ]
  },
  {
   "cell_type": "markdown",
   "id": "b5f26112-ec68-4ecf-8192-e4751ee6d10f",
   "metadata": {},
   "source": [
    "#### Modèle 2 du tp3 (32-10)"
   ]
  },
  {
   "cell_type": "code",
   "execution_count": 22,
   "id": "1ad6433a-fd31-4a7d-a36a-c9a5635f17f4",
   "metadata": {},
   "outputs": [
    {
     "name": "stdout",
     "output_type": "stream",
     "text": [
      "CPU times: user 40min 4s, sys: 1min 51s, total: 41min 56s\n",
      "Wall time: 14min 27s\n"
     ]
    }
   ],
   "source": [
    "%%time\n",
    "model = Word2Vec(\n",
    "    corpus, # On passe le corpus de ngrams que nous venons de créer\n",
    "    vector_size=32, # Le nombre de dimensions dans lesquelles le contexte des mots devra être réduit, aka. vector_size\n",
    "    window=10, # La taille du \"contexte\", ici 5 mots avant et après le mot observé\n",
    "    min_count=2, # On ignore les mots qui n'apparaissent pas au moins 5 fois dans le corpus\n",
    "    workers=4, # Permet de paralléliser l'entraînement du modèle en 4 threads\n",
    "    epochs=10 # Nombre d'itérations du réseau de neurones sur le jeu de données pour ajuster les paramètres avec la descende de gradient, aka. epochs.\n",
    ")"
   ]
  },
  {
   "cell_type": "code",
   "execution_count": 23,
   "id": "a48983fb-6f8c-4ebc-b0db-990a63acd301",
   "metadata": {},
   "outputs": [],
   "source": [
    "# outfile = f\"../data/bulletins_tp3_2.model\"\n",
    "# model.save(outfile)"
   ]
  },
  {
   "cell_type": "code",
   "execution_count": 24,
   "id": "b9309320-3c74-45d2-89b1-0aad629be9fd",
   "metadata": {},
   "outputs": [],
   "source": [
    "model = Word2Vec.load(\"../data/bulletins_tp3_2.model\")"
   ]
  },
  {
   "cell_type": "code",
   "execution_count": 25,
   "id": "5eabe922-3fe4-4f8d-af6c-8f60db98f39d",
   "metadata": {},
   "outputs": [
    {
     "data": {
      "text/plain": [
       "0.8609588"
      ]
     },
     "execution_count": 25,
     "metadata": {},
     "output_type": "execute_result"
    }
   ],
   "source": [
    "model.wv.similarity(\"boucher\", \"boulanger\")"
   ]
  },
  {
   "cell_type": "code",
   "execution_count": 26,
   "id": "400352f1-d052-48d9-a9a7-5e202ccee799",
   "metadata": {},
   "outputs": [
    {
     "data": {
      "text/plain": [
       "0.62290215"
      ]
     },
     "execution_count": 26,
     "metadata": {},
     "output_type": "execute_result"
    }
   ],
   "source": [
    "model.wv.similarity(\"homme\", \"femme\")"
   ]
  },
  {
   "cell_type": "code",
   "execution_count": 27,
   "id": "d958af8a-d27e-4107-a014-99d840062869",
   "metadata": {},
   "outputs": [
    {
     "data": {
      "text/plain": [
       "0.41236758"
      ]
     },
     "execution_count": 27,
     "metadata": {},
     "output_type": "execute_result"
    }
   ],
   "source": [
    "model.wv.similarity(\"voiture\", \"carrosse\")"
   ]
  },
  {
   "cell_type": "code",
   "execution_count": 28,
   "id": "b65c0ab4-2ed7-4a07-9d2f-8ccbc4162bda",
   "metadata": {},
   "outputs": [
    {
     "data": {
      "text/plain": [
       "0.5687413"
      ]
     },
     "execution_count": 28,
     "metadata": {},
     "output_type": "execute_result"
    }
   ],
   "source": [
    "model.wv.similarity(\"voiture\", \"chien\")"
   ]
  },
  {
   "cell_type": "code",
   "execution_count": 29,
   "id": "a9a602ab-4ffd-43c8-8797-9dee7525525a",
   "metadata": {},
   "outputs": [
    {
     "data": {
      "text/plain": [
       "[('laeken', 0.8323514461517334),\n",
       " ('liege', 0.7878617644309998),\n",
       " ('nivelles', 0.7507333755493164),\n",
       " ('cantonnale', 0.7505260705947876),\n",
       " ('gand', 0.7435848116874695),\n",
       " ('mons', 0.7311862111091614),\n",
       " ('paris', 0.7162811756134033),\n",
       " ('rruxelles', 0.714896559715271),\n",
       " ('flandres', 0.7096958160400391),\n",
       " ('aux_confins', 0.7072545886039734)]"
      ]
     },
     "execution_count": 29,
     "metadata": {},
     "output_type": "execute_result"
    }
   ],
   "source": [
    "model.wv.most_similar(\"bruxelles\", topn=10)"
   ]
  },
  {
   "cell_type": "code",
   "execution_count": 30,
   "id": "06a162b1-dc02-4648-a250-4bc06638cce7",
   "metadata": {},
   "outputs": [
    {
     "data": {
      "text/plain": [
       "[('batelier', 0.8890909552574158),\n",
       " ('charcutier', 0.8885161876678467),\n",
       " ('macon', 0.8633956909179688),\n",
       " ('boulanger', 0.8609588742256165),\n",
       " ('menuisier', 0.8580062389373779),\n",
       " ('marchand', 0.8434250950813293),\n",
       " ('terrassier', 0.8390104174613953),\n",
       " ('cabaretier', 0.8362985253334045),\n",
       " ('tailleur', 0.8337821960449219),\n",
       " ('poissonnier', 0.8302710652351379)]"
      ]
     },
     "execution_count": 30,
     "metadata": {},
     "output_type": "execute_result"
    }
   ],
   "source": [
    "model.wv.most_similar(\"boucher\", topn=10)"
   ]
  },
  {
   "cell_type": "code",
   "execution_count": 31,
   "id": "22788850-ed3f-4fb6-a016-ce3326625983",
   "metadata": {},
   "outputs": [
    {
     "data": {
      "text/plain": [
       "[('beveiligen', 0.9539734721183777),\n",
       " ('kundig', 0.9495147466659546),\n",
       " ('lnventaris', 0.949018120765686),\n",
       " ('onze_maatschappij', 0.9476034045219421),\n",
       " ('haare', 0.9474144577980042),\n",
       " ('jser', 0.9442475438117981),\n",
       " ('haupt', 0.9437791109085083),\n",
       " ('ontduiking', 0.941407322883606),\n",
       " ('***>', 0.9412257075309753),\n",
       " ('efdael', 0.9409153461456299)]"
      ]
     },
     "execution_count": 31,
     "metadata": {},
     "output_type": "execute_result"
    }
   ],
   "source": [
    "model.wv.most_similar(\"platonisme\", topn=10)"
   ]
  },
  {
   "cell_type": "code",
   "execution_count": 32,
   "id": "3f5b586c-93b3-4c18-9601-c846bc67387c",
   "metadata": {},
   "outputs": [
    {
     "name": "stdout",
     "output_type": "stream",
     "text": [
      "[('huy', 0.8370460271835327), ('ostende', 0.8271083235740662), ('verviers', 0.8080962300300598), ('gand', 0.8075035810470581), ('liege', 0.8056627511978149), ('lille', 0.7857369184494019), ('paris', 0.7746098637580872), ('louvain', 0.7729559540748596), ('flandres', 0.7717507481575012), ('alost', 0.7653114199638367)]\n"
     ]
    }
   ],
   "source": [
    "print(model.wv.most_similar(positive=['bruxelles', 'france'], negative=['belgique']))"
   ]
  },
  {
   "cell_type": "code",
   "execution_count": 33,
   "id": "05c88a6e-f0e9-4515-8f08-f903ae480d67",
   "metadata": {},
   "outputs": [
    {
     "name": "stdout",
     "output_type": "stream",
     "text": [
      "[('sieur_van_eesbeeck', 0.6661351323127747), ('messe_quotidienne', 0.6570274829864502), ('annep', 0.6544880867004395), ('brabant', 0.6392697095870972), ('dansante_sera', 0.6349672675132751), ('letttre', 0.6327504515647888), ('messe_solennelle', 0.6322498321533203), ('septembre_1949', 0.6276273131370544), ('congregation', 0.6272263526916504), ('unifamiliale', 0.6266288161277771)]\n"
     ]
    }
   ],
   "source": [
    "print(model.wv.most_similar(positive=['roi', 'femme'], negative=['homme']))"
   ]
  },
  {
   "cell_type": "code",
   "execution_count": 34,
   "id": "8f96fdef-f7af-402f-b8d6-b7a1b0cb9a0e",
   "metadata": {},
   "outputs": [
    {
     "name": "stdout",
     "output_type": "stream",
     "text": [
      "[('<<_je_jure', 0.8076946139335632), ('serment_suivant', 0.7857425808906555), ('cartel', 0.7674791812896729), ('verbe', 0.754385232925415), ('respect', 0.7543176412582397), ('mepris', 0.7468379139900208), ('je_jure_fidelite', 0.7452432513237), ('obeissance', 0.7366427183151245), ('peuple_belge', 0.7356619238853455), ('communisme', 0.7327820658683777)]\n"
     ]
    }
   ],
   "source": [
    "print(model.wv.most_similar(positive=['fidelite', 'homme'], negative=['femme']))"
   ]
  },
  {
   "cell_type": "code",
   "execution_count": 35,
   "id": "55676b4b-17a1-43d2-9fca-45294ff5c933",
   "metadata": {},
   "outputs": [
    {
     "name": "stdout",
     "output_type": "stream",
     "text": [
      "[('famille_royale', 0.739972710609436), ('suspension_entraine', 0.7090593576431274), ('commission_paritaire', 0.701867401599884), ('liberte_individuelle', 0.6872615814208984), ('reponse_donnee', 0.6771332025527954), ('liste_portait', 0.6767422556877136), ('elle_commettrait', 0.6667153835296631), ('prefecture', 0.6665677428245544), ('circonscription_militaire', 0.6577958464622498), ('libre_concurrence', 0.6552494168281555)]\n"
     ]
    }
   ],
   "source": [
    "print(model.wv.most_similar(positive=['fidelite', 'femme'], negative=['homme']))"
   ]
  },
  {
   "cell_type": "code",
   "execution_count": null,
   "id": "a8f9b1e5-e012-486a-a547-54725ea0469b",
   "metadata": {},
   "outputs": [
    {
     "name": "stdout",
     "output_type": "stream",
     "text": [
      "[('mansarde', 0.8571958541870117), ('cave', 0.8542822003364563), ('terrasse', 0.8352386355400085), ('glaciere', 0.8255090117454529), ('baignoire', 0.8180697560310364), ('chaudiere', 0.8113610148429871), ('cloison', 0.8081401586532593), ('cloison_vitree', 0.8068118095397949), ('tremie', 0.8022738695144653), ('dalle', 0.7997750639915466)]\n"
     ]
    }
   ],
   "source": [
    "print(model.wv.most_similar(positive=['urinoir', 'femme'], negative=['homme']))"
   ]
  },
  {
   "cell_type": "code",
   "execution_count": null,
   "id": "e3d12b1d-ade4-471e-ac18-7351bde24b51",
   "metadata": {},
   "outputs": [
    {
     "name": "stdout",
     "output_type": "stream",
     "text": [
      "[('outil', 0.8101339340209961), ('instrument', 0.7956112027168274), ('ecrivain', 0.7922137975692749), ('condisciple', 0.7866582870483398), ('interet_particulier', 0.7811781764030457), ('tremplin', 0.7791550159454346), ('elan', 0.7758635878562927), ('compagnon', 0.7740587592124939), ('desinteressement', 0.7727602124214172), ('honnete_homme', 0.767368495464325)]\n"
     ]
    }
   ],
   "source": [
    "print(model.wv.most_similar(positive=['enfant', 'homme'], negative=['femme']))"
   ]
  },
  {
   "cell_type": "code",
   "execution_count": null,
   "id": "c2b9d4d1-b5ac-422d-8b94-0f098e344db2",
   "metadata": {},
   "outputs": [
    {
     "name": "stdout",
     "output_type": "stream",
     "text": [
      "[('fillette', 0.7821374535560608), ('leur_mere', 0.776722252368927), ('fille', 0.7731388807296753), ('classe_flamande', 0.7696354985237122), ('maman', 0.768470823764801), ('carte_medicale', 0.7680832743644714), ('vaccine', 0.7643815279006958), ('incapacite', 0.7630890607833862), ('jeune_fille', 0.7610793113708496), ('servante', 0.7577486038208008)]\n"
     ]
    }
   ],
   "source": [
    "print(model.wv.most_similar(positive=['enfant', 'femme'], negative=['homme']))"
   ]
  },
  {
   "cell_type": "markdown",
   "id": "10191771-5d40-4a43-bfa9-b8b4c42d8841",
   "metadata": {},
   "source": [
    "#### Modèle 3 du tp3 (100-10)"
   ]
  },
  {
   "cell_type": "code",
   "execution_count": 17,
   "id": "310e2c25-4055-4f31-b193-8ae39482fe15",
   "metadata": {},
   "outputs": [
    {
     "name": "stdout",
     "output_type": "stream",
     "text": [
      "CPU times: user 58min 2s, sys: 2min 48s, total: 1h 50s\n",
      "Wall time: 20min 13s\n"
     ]
    }
   ],
   "source": [
    "%%time\n",
    "model = Word2Vec(\n",
    "    corpus, # On passe le corpus de ngrams que nous venons de créer\n",
    "    vector_size=100, # Le nombre de dimensions dans lesquelles le contexte des mots devra être réduit, aka. vector_size\n",
    "    window=10, # La taille du \"contexte\", ici 5 mots avant et après le mot observé\n",
    "    min_count=2, # On ignore les mots qui n'apparaissent pas au moins 5 fois dans le corpus\n",
    "    workers=4, # Permet de paralléliser l'entraînement du modèle en 4 threads\n",
    "    epochs=10 # Nombre d'itérations du réseau de neurones sur le jeu de données pour ajuster les paramètres avec la descende de gradient, aka. epochs.\n",
    ")"
   ]
  },
  {
   "cell_type": "code",
   "execution_count": 18,
   "id": "3515b819-adf6-4862-a6ff-b096a443e3db",
   "metadata": {},
   "outputs": [],
   "source": [
    "# outfile = f\"../data/bulletins_tp3_3.model\"\n",
    "# model.save(outfile)"
   ]
  },
  {
   "cell_type": "code",
   "execution_count": 56,
   "id": "96a2259a-6aed-411d-a252-69cf3b90d970",
   "metadata": {},
   "outputs": [],
   "source": [
    "model = Word2Vec.load(\"../data/bulletins_tp3_3.model\")"
   ]
  },
  {
   "cell_type": "code",
   "execution_count": 20,
   "id": "92a8da35-2f54-4e5a-a090-cce2a279a50b",
   "metadata": {},
   "outputs": [
    {
     "data": {
      "text/plain": [
       "0.698616"
      ]
     },
     "execution_count": 20,
     "metadata": {},
     "output_type": "execute_result"
    }
   ],
   "source": [
    "model.wv.similarity(\"boucher\", \"boulanger\")"
   ]
  },
  {
   "cell_type": "code",
   "execution_count": 21,
   "id": "66cdc5dc-aa92-4e44-8e3e-895913333801",
   "metadata": {},
   "outputs": [
    {
     "data": {
      "text/plain": [
       "0.495938"
      ]
     },
     "execution_count": 21,
     "metadata": {},
     "output_type": "execute_result"
    }
   ],
   "source": [
    "model.wv.similarity(\"homme\", \"femme\")"
   ]
  },
  {
   "cell_type": "code",
   "execution_count": 57,
   "id": "a67372e0-30fc-47ec-851c-88fca1fbdab4",
   "metadata": {},
   "outputs": [
    {
     "data": {
      "text/plain": [
       "0.7249576"
      ]
     },
     "execution_count": 57,
     "metadata": {},
     "output_type": "execute_result"
    }
   ],
   "source": [
    "model.wv.similarity(\"homme\", \"individu\")"
   ]
  },
  {
   "cell_type": "code",
   "execution_count": 59,
   "id": "7f91a83b-f02a-403d-b4b8-08ce640fbc24",
   "metadata": {},
   "outputs": [
    {
     "data": {
      "text/plain": [
       "0.31609356"
      ]
     },
     "execution_count": 59,
     "metadata": {},
     "output_type": "execute_result"
    }
   ],
   "source": [
    "model.wv.similarity(\"bon\", \"mechant\")"
   ]
  },
  {
   "cell_type": "code",
   "execution_count": 60,
   "id": "b487e14d-de0b-4975-9019-adfdea8a254b",
   "metadata": {},
   "outputs": [
    {
     "data": {
      "text/plain": [
       "0.3810237"
      ]
     },
     "execution_count": 60,
     "metadata": {},
     "output_type": "execute_result"
    }
   ],
   "source": [
    "model.wv.similarity(\"beau\", \"vilain\")"
   ]
  },
  {
   "cell_type": "code",
   "execution_count": 63,
   "id": "f729d8f5-f425-4a63-8ff5-fbee8612c643",
   "metadata": {},
   "outputs": [
    {
     "data": {
      "text/plain": [
       "0.84282684"
      ]
     },
     "execution_count": 63,
     "metadata": {},
     "output_type": "execute_result"
    }
   ],
   "source": [
    "model.wv.similarity(\"noir\", \"blanc\")"
   ]
  },
  {
   "cell_type": "code",
   "execution_count": 22,
   "id": "e71be3c9-ab9e-4851-9e47-e4a8b41ba38c",
   "metadata": {},
   "outputs": [
    {
     "data": {
      "text/plain": [
       "0.40252274"
      ]
     },
     "execution_count": 22,
     "metadata": {},
     "output_type": "execute_result"
    }
   ],
   "source": [
    "model.wv.similarity(\"voiture\", \"carrosse\")"
   ]
  },
  {
   "cell_type": "code",
   "execution_count": 23,
   "id": "1698806d-2879-40fe-9d3a-8c8dbed3ff5a",
   "metadata": {},
   "outputs": [
    {
     "data": {
      "text/plain": [
       "0.50289965"
      ]
     },
     "execution_count": 23,
     "metadata": {},
     "output_type": "execute_result"
    }
   ],
   "source": [
    "model.wv.similarity(\"voiture\", \"chien\")"
   ]
  },
  {
   "cell_type": "code",
   "execution_count": 24,
   "id": "18f56729-0781-44f9-8c40-bbaf91f089d1",
   "metadata": {},
   "outputs": [
    {
     "data": {
      "text/plain": [
       "[('bruxelle', 0.6584612131118774),\n",
       " ('rruxelles', 0.6331698298454285),\n",
       " ('nivelles', 0.6230177879333496),\n",
       " ('liege', 0.6171610355377197),\n",
       " ('manufacturiere', 0.6123355031013489),\n",
       " ('xelles', 0.606942355632782),\n",
       " ('franconat', 0.5970131158828735),\n",
       " ('jumeaux_naissances', 0.5757424235343933),\n",
       " ('paris', 0.5751731395721436),\n",
       " ('lille_1860', 0.5711173415184021)]"
      ]
     },
     "execution_count": 24,
     "metadata": {},
     "output_type": "execute_result"
    }
   ],
   "source": [
    "model.wv.most_similar(\"bruxelles\", topn=10)"
   ]
  },
  {
   "cell_type": "code",
   "execution_count": 25,
   "id": "c2bc3833-5986-40e9-abd1-2ead1181e9fb",
   "metadata": {},
   "outputs": [
    {
     "data": {
      "text/plain": [
       "[('cabaretier', 0.7270393967628479),\n",
       " ('charcutier', 0.7228695750236511),\n",
       " ('cordonnier', 0.7149555683135986),\n",
       " ('batelier', 0.7027667760848999),\n",
       " ('abatteur', 0.6987067461013794),\n",
       " ('boulanger', 0.6986159682273865),\n",
       " ('tailleur', 0.6906746625900269),\n",
       " ('coiffeur', 0.6878450512886047),\n",
       " ('serrurier', 0.6874961853027344),\n",
       " ('menuisier', 0.6871436834335327)]"
      ]
     },
     "execution_count": 25,
     "metadata": {},
     "output_type": "execute_result"
    }
   ],
   "source": [
    "model.wv.most_similar(\"boucher\", topn=10)"
   ]
  },
  {
   "cell_type": "code",
   "execution_count": 26,
   "id": "49737627-81ee-4749-93a5-0412ac3db36a",
   "metadata": {},
   "outputs": [
    {
     "data": {
      "text/plain": [
       "[('nnick', 0.9197626113891602),\n",
       " ('maison_hoguet', 0.9195288419723511),\n",
       " ('schakel', 0.9170469045639038),\n",
       " ('orfeo', 0.9167062044143677),\n",
       " ('osmometre', 0.9142835140228271),\n",
       " ('enseignement_moyencomm', 0.912686824798584),\n",
       " ('georges_jamin', 0.9122795462608337),\n",
       " ('schra', 0.911679208278656),\n",
       " ('lepevre', 0.9116352200508118),\n",
       " ('shoren', 0.9113874435424805)]"
      ]
     },
     "execution_count": 26,
     "metadata": {},
     "output_type": "execute_result"
    }
   ],
   "source": [
    "model.wv.most_similar(\"platonisme\", topn=10)"
   ]
  },
  {
   "cell_type": "code",
   "execution_count": 27,
   "id": "260fbbf2-50c9-42cb-99c7-1a6c7c228a3b",
   "metadata": {},
   "outputs": [
    {
     "name": "stdout",
     "output_type": "stream",
     "text": [
      "[('paris', 0.6425924897193909), ('huy', 0.6266448497772217), ('manchester', 0.6221696138381958), ('ostende', 0.6110416054725647), ('liege', 0.6089193820953369), ('verviers', 0.5998810529708862), ('londres', 0.5992816686630249), ('gand', 0.5894689559936523), ('lille', 0.5882652401924133), ('zurich', 0.5808327794075012)]\n"
     ]
    }
   ],
   "source": [
    "print(model.wv.most_similar(positive=['bruxelles', 'france'], negative=['belgique']))"
   ]
  },
  {
   "cell_type": "code",
   "execution_count": 28,
   "id": "fa556517-7138-4bf1-a779-7e3c2e2d6f37",
   "metadata": {},
   "outputs": [
    {
     "name": "stdout",
     "output_type": "stream",
     "text": [
      "[('imperatif', 0.5768752098083496), ('obeissance', 0.5692022442817688), ('desinteressement', 0.5410512089729309), ('<<_je_jure', 0.5405463576316833), ('bon_sens', 0.5386651754379272), ('instinct', 0.5363173484802246), ('sol_natal', 0.5329979062080383), ('respect', 0.5226815342903137), ('attachement', 0.5210670232772827), ('temoignage', 0.5141324400901794)]\n"
     ]
    }
   ],
   "source": [
    "print(model.wv.most_similar(positive=['fidelite', 'homme'], negative=['femme']))"
   ]
  },
  {
   "cell_type": "code",
   "execution_count": 29,
   "id": "76876962-af87-43e9-9181-70d35614fbbc",
   "metadata": {},
   "outputs": [
    {
     "name": "stdout",
     "output_type": "stream",
     "text": [
      "[('obeissance', 0.6050248742103577), ('je_jure_fidelite', 0.5885072946548462), ('<<_je_jure', 0.5569135546684265), ('sauce', 0.5498840808868408), ('famille_royale', 0.5354452729225159), ('clause_restrictive', 0.5033617615699768), ('compagne', 0.49902668595314026), ('cantine', 0.49783438444137573), ('constance', 0.49760422110557556), ('jure_fidelite', 0.49248960614204407)]\n"
     ]
    }
   ],
   "source": [
    "print(model.wv.most_similar(positive=['fidelite', 'femme'], negative=['homme']))"
   ]
  },
  {
   "cell_type": "code",
   "execution_count": null,
   "id": "09ed27c4-8c0d-4ee9-83a9-6b84cb826050",
   "metadata": {},
   "outputs": [
    {
     "name": "stdout",
     "output_type": "stream",
     "text": [
      "[('terrasse', 0.6622209548950195), ('citerne', 0.6605691313743591), ('fenetre', 0.6499979496002197), ('douche', 0.643439531326294), ('chaudiere', 0.629623293876648), ('cave', 0.6253324151039124), ('loge', 0.6245743036270142), ('mansarde', 0.6132846474647522), ('tremie', 0.6107831001281738), ('chaque_etage', 0.6096570491790771)]\n"
     ]
    }
   ],
   "source": [
    "print(model.wv.most_similar(positive=['urinoir', 'femme'], negative=['homme']))"
   ]
  },
  {
   "cell_type": "code",
   "execution_count": null,
   "id": "11c0dd23-7788-4491-8433-609e22eb13ba",
   "metadata": {},
   "outputs": [
    {
     "name": "stdout",
     "output_type": "stream",
     "text": [
      "[('instrument', 0.6663024425506592), ('individu', 0.6549792289733887), ('homme_politique', 0.6462594866752625), ('interet_particulier', 0.6420151591300964), ('outil', 0.6375282406806946), ('optimisme', 0.634356677532196), ('artiste', 0.6333709955215454), ('ecrivain', 0.6259229183197021), ('jurisconsulte', 0.6217120289802551), ('element', 0.6199154257774353)]\n"
     ]
    }
   ],
   "source": [
    "print(model.wv.most_similar(positive=['enfant', 'homme'], negative=['femme']))"
   ]
  },
  {
   "cell_type": "code",
   "execution_count": null,
   "id": "1801b1bb-7634-4ce6-838b-01e77ce9682e",
   "metadata": {},
   "outputs": [
    {
     "name": "stdout",
     "output_type": "stream",
     "text": [
      "[('mere', 0.6947546005249023), ('maman', 0.673855721950531), ('servante', 0.6663793325424194), ('fille', 0.6594533324241638), ('fillette', 0.6279776096343994), ('pensionnaire', 0.616085410118103), ('colonie', 0.6102551221847534), ('maladie', 0.6072104573249817), ('orpheline', 0.601021409034729), ('famille', 0.5950475335121155)]\n"
     ]
    }
   ],
   "source": [
    "print(model.wv.most_similar(positive=['enfant', 'femme'], negative=['homme']))"
   ]
  },
  {
   "cell_type": "markdown",
   "id": "653f5420-419c-4d87-8bb7-05a48a1e760a",
   "metadata": {},
   "source": [
    "#### Modèle 4 du tp3 (100-13)"
   ]
  },
  {
   "cell_type": "code",
   "execution_count": 20,
   "id": "59eb19ff-7e5a-4709-96f5-cc6040f15963",
   "metadata": {},
   "outputs": [
    {
     "name": "stdout",
     "output_type": "stream",
     "text": [
      "CPU times: user 58min 15s, sys: 3min 9s, total: 1h 1min 24s\n",
      "Wall time: 19min 14s\n"
     ]
    }
   ],
   "source": [
    "%%time\n",
    "model = Word2Vec(\n",
    "    corpus, # On passe le corpus de ngrams que nous venons de créer\n",
    "    vector_size=100, # Le nombre de dimensions dans lesquelles le contexte des mots devra être réduit, aka. vector_size\n",
    "    window=13, # La taille du \"contexte\", ici 5 mots avant et après le mot observé\n",
    "    min_count=2, # On ignore les mots qui n'apparaissent pas au moins 5 fois dans le corpus\n",
    "    workers=4, # Permet de paralléliser l'entraînement du modèle en 4 threads\n",
    "    epochs=10 # Nombre d'itérations du réseau de neurones sur le jeu de données pour ajuster les paramètres avec la descende de gradient, aka. epochs.\n",
    ")"
   ]
  },
  {
   "cell_type": "code",
   "execution_count": 21,
   "id": "4e4ee43b-a6db-4e72-a995-6a9b53d80277",
   "metadata": {},
   "outputs": [],
   "source": [
    "# outfile = f\"../data/bulletins_tp3_4.model\"\n",
    "# model.save(outfile)"
   ]
  },
  {
   "cell_type": "code",
   "execution_count": 22,
   "id": "bf7074a3-d6e9-472f-a3f7-edffc09e6b1e",
   "metadata": {},
   "outputs": [],
   "source": [
    "model = Word2Vec.load(\"../data/bulletins_tp3_4.model\")"
   ]
  },
  {
   "cell_type": "code",
   "execution_count": 23,
   "id": "3d7334db-6410-4dad-823c-b9360899597b",
   "metadata": {},
   "outputs": [
    {
     "data": {
      "text/plain": [
       "0.6894763"
      ]
     },
     "execution_count": 23,
     "metadata": {},
     "output_type": "execute_result"
    }
   ],
   "source": [
    "model.wv.similarity(\"boucher\", \"boulanger\")"
   ]
  },
  {
   "cell_type": "code",
   "execution_count": 24,
   "id": "aa5fb73d-6c38-4149-ab87-0c503f134848",
   "metadata": {},
   "outputs": [
    {
     "data": {
      "text/plain": [
       "0.5139492"
      ]
     },
     "execution_count": 24,
     "metadata": {},
     "output_type": "execute_result"
    }
   ],
   "source": [
    "model.wv.similarity(\"homme\", \"femme\")"
   ]
  },
  {
   "cell_type": "code",
   "execution_count": 25,
   "id": "7e3ffc5a-894e-4831-ad55-9fdd13807d72",
   "metadata": {},
   "outputs": [
    {
     "data": {
      "text/plain": [
       "0.36424264"
      ]
     },
     "execution_count": 25,
     "metadata": {},
     "output_type": "execute_result"
    }
   ],
   "source": [
    "model.wv.similarity(\"voiture\", \"carrosse\")"
   ]
  },
  {
   "cell_type": "code",
   "execution_count": 26,
   "id": "c0f9f76e-7d3b-409d-bb59-ec6bb8b4500c",
   "metadata": {},
   "outputs": [
    {
     "data": {
      "text/plain": [
       "0.48760676"
      ]
     },
     "execution_count": 26,
     "metadata": {},
     "output_type": "execute_result"
    }
   ],
   "source": [
    "model.wv.similarity(\"voiture\", \"chien\")"
   ]
  },
  {
   "cell_type": "code",
   "execution_count": 27,
   "id": "941deaaa-d412-481b-8e74-a6c9f85a92af",
   "metadata": {},
   "outputs": [
    {
     "data": {
      "text/plain": [
       "[('bruxelle', 0.6245981454849243),\n",
       " ('nivelles', 0.6151034832000732),\n",
       " ('rruxelles', 0.6131613850593567),\n",
       " ('liege', 0.6117175221443176),\n",
       " ('manufacturiere', 0.611532986164093),\n",
       " ('bruxe', 0.6067845821380615),\n",
       " ('dette_active', 0.5983333587646484),\n",
       " ('xelles', 0.5959808230400085),\n",
       " ('laeken', 0.5916270017623901),\n",
       " ('bruxeles', 0.5790594816207886)]"
      ]
     },
     "execution_count": 27,
     "metadata": {},
     "output_type": "execute_result"
    }
   ],
   "source": [
    "model.wv.most_similar(\"bruxelles\", topn=10)"
   ]
  },
  {
   "cell_type": "code",
   "execution_count": 28,
   "id": "667dc1be-b754-4e63-a7bc-3552edf9afb7",
   "metadata": {},
   "outputs": [
    {
     "data": {
      "text/plain": [
       "[('charcutier', 0.7176762223243713),\n",
       " ('serrurier', 0.7069606781005859),\n",
       " ('cabaretier', 0.6978020071983337),\n",
       " ('boulanger', 0.6894762516021729),\n",
       " ('menuisier', 0.6731460690498352),\n",
       " ('tailleur', 0.670230507850647),\n",
       " ('coiffeur', 0.6694632172584534),\n",
       " ('abatteur', 0.6684247851371765),\n",
       " ('cordonnier', 0.6652677059173584),\n",
       " ('batelier', 0.6597355008125305)]"
      ]
     },
     "execution_count": 28,
     "metadata": {},
     "output_type": "execute_result"
    }
   ],
   "source": [
    "model.wv.most_similar(\"boucher\", topn=10)"
   ]
  },
  {
   "cell_type": "code",
   "execution_count": 29,
   "id": "58c73400-d3e5-4db6-be6f-d4cba06cce80",
   "metadata": {},
   "outputs": [
    {
     "data": {
      "text/plain": [
       "[('memoriam', 0.9293033480644226),\n",
       " ('indigena', 0.9271607398986816),\n",
       " ('sartori', 0.926234245300293),\n",
       " ('kretzschmar', 0.9246671199798584),\n",
       " ('lnventaris', 0.922118067741394),\n",
       " ('konigl', 0.9211611151695251),\n",
       " ('erchem', 0.9204046130180359),\n",
       " ('nemingen', 0.9197832942008972),\n",
       " ('torenkruis', 0.9192084670066833),\n",
       " ('macker', 0.9191706776618958)]"
      ]
     },
     "execution_count": 29,
     "metadata": {},
     "output_type": "execute_result"
    }
   ],
   "source": [
    "model.wv.most_similar(\"platonisme\", topn=10)"
   ]
  },
  {
   "cell_type": "code",
   "execution_count": 30,
   "id": "3cca4c90-dfb5-4671-8724-565d1ba53b4a",
   "metadata": {},
   "outputs": [
    {
     "name": "stdout",
     "output_type": "stream",
     "text": [
      "[('londres', 0.6029162406921387), ('manchester', 0.6002193093299866), ('liege', 0.5949788093566895), ('paris', 0.5923264026641846), ('hambourg', 0.5783761739730835), ('ostende', 0.5692737698554993), ('huy', 0.5623244643211365), ('lille', 0.5608959197998047), ('prague', 0.5584180951118469), ('tournai', 0.5457510948181152)]\n"
     ]
    }
   ],
   "source": [
    "print(model.wv.most_similar(positive=['bruxelles', 'france'], negative=['belgique']))"
   ]
  },
  {
   "cell_type": "code",
   "execution_count": 31,
   "id": "cf8f7cef-df55-44f9-b7ad-e2035d31f2c4",
   "metadata": {},
   "outputs": [
    {
     "name": "stdout",
     "output_type": "stream",
     "text": [
      "[('obeissance', 0.605998158454895), ('<<_je_jure', 0.5841607451438904), ('peuple_belge', 0.5590676665306091), ('sol_natal', 0.5548775792121887), ('juste_hommage', 0.5513530969619751), ('prestige', 0.5393761396408081), ('desinteressement', 0.5329120755195618), ('instinct', 0.5297734141349792), ('bon_sens', 0.5261308550834656), ('citoyen', 0.5243722200393677)]\n"
     ]
    }
   ],
   "source": [
    "print(model.wv.most_similar(positive=['fidelite', 'homme'], negative=['femme']))"
   ]
  },
  {
   "cell_type": "code",
   "execution_count": 32,
   "id": "8c736bcc-41ba-4dc0-be27-86f67c3d9781",
   "metadata": {},
   "outputs": [
    {
     "name": "stdout",
     "output_type": "stream",
     "text": [
      "[('obeissance', 0.6290702223777771), ('je_jure_fidelite', 0.5885182023048401), ('<<_je_jure', 0.5691977739334106), ('sauce', 0.5435115694999695), ('serment_suivant', 0.5107361078262329), ('documentation_relative', 0.5010335445404053), ('jure_fidelite', 0.49495068192481995), ('constance', 0.48649510741233826), ('cousine', 0.48115071654319763), ('peuple_belge', 0.47819238901138306)]\n"
     ]
    }
   ],
   "source": [
    "print(model.wv.most_similar(positive=['fidelite', 'femme'], negative=['homme']))"
   ]
  },
  {
   "cell_type": "code",
   "execution_count": 33,
   "id": "2f60251b-125d-48c3-9103-f492c151d3ab",
   "metadata": {},
   "outputs": [
    {
     "name": "stdout",
     "output_type": "stream",
     "text": [
      "[('cave', 0.6766044497489929), ('terrasse', 0.6721158623695374), ('citerne', 0.6573778390884399), ('laverie', 0.6532216668128967), ('loge', 0.6492891311645508), ('fenetre', 0.6460978984832764), ('chaudiere', 0.6155376434326172), ('mansarde', 0.6098559498786926), ('cloison', 0.6096054911613464), ('grande_cour', 0.601954996585846)]\n"
     ]
    }
   ],
   "source": [
    "print(model.wv.most_similar(positive=['urinoir', 'femme'], negative=['homme']))"
   ]
  },
  {
   "cell_type": "code",
   "execution_count": 34,
   "id": "cf6bb94d-3267-43e6-8f4d-7d8b53d60002",
   "metadata": {},
   "outputs": [
    {
     "name": "stdout",
     "output_type": "stream",
     "text": [
      "[('instrument', 0.6630492210388184), ('element', 0.6583802103996277), ('individu', 0.6516796946525574), ('elan', 0.6513887047767639), ('jurisconsulte', 0.6288636326789856), ('homme_politique', 0.6216161251068115), ('homme_illustre', 0.6213032007217407), ('outil', 0.6207229495048523), ('artiste', 0.6187145113945007), ('orgueil', 0.6057250499725342)]\n"
     ]
    }
   ],
   "source": [
    "print(model.wv.most_similar(positive=['enfant', 'homme'], negative=['femme']))"
   ]
  },
  {
   "cell_type": "code",
   "execution_count": 35,
   "id": "dc94e94c-5ef7-413c-84f2-3ef363d27eb2",
   "metadata": {},
   "outputs": [
    {
     "name": "stdout",
     "output_type": "stream",
     "text": [
      "[('mere', 0.6739556789398193), ('maman', 0.6626560688018799), ('fillette', 0.6312063932418823), ('fille', 0.6264563202857971), ('maladie', 0.6260286569595337), ('pensionnaire', 0.6186718344688416), ('servante', 0.6135286688804626), ('leurs_parents', 0.6006483435630798), ('colonie', 0.5975514650344849), ('orpheline', 0.5905892848968506)]\n"
     ]
    }
   ],
   "source": [
    "print(model.wv.most_similar(positive=['enfant', 'femme'], negative=['homme']))"
   ]
  },
  {
   "cell_type": "markdown",
   "id": "8b1aca70-009e-4f94-a643-c11c82b6123a",
   "metadata": {},
   "source": [
    "#### Modèle 5 du tp3 (100-7)"
   ]
  },
  {
   "cell_type": "code",
   "execution_count": 37,
   "id": "3fb24450-8341-4d78-90f2-6d32156f5552",
   "metadata": {},
   "outputs": [
    {
     "name": "stdout",
     "output_type": "stream",
     "text": [
      "CPU times: user 1h 5min 4s, sys: 4min 7s, total: 1h 9min 11s\n",
      "Wall time: 24min 47s\n"
     ]
    }
   ],
   "source": [
    "%%time\n",
    "model = Word2Vec(\n",
    "    corpus, # On passe le corpus de ngrams que nous venons de créer\n",
    "    vector_size=100, # Le nombre de dimensions dans lesquelles le contexte des mots devra être réduit, aka. vector_size\n",
    "    window=7, # La taille du \"contexte\", ici 5 mots avant et après le mot observé\n",
    "    min_count=2, # On ignore les mots qui n'apparaissent pas au moins 5 fois dans le corpus\n",
    "    workers=4, # Permet de paralléliser l'entraînement du modèle en 4 threads\n",
    "    epochs=10 # Nombre d'itérations du réseau de neurones sur le jeu de données pour ajuster les paramètres avec la descende de gradient, aka. epochs.\n",
    ")"
   ]
  },
  {
   "cell_type": "code",
   "execution_count": 38,
   "id": "2446069b-d1c2-4dfc-ba97-759048649973",
   "metadata": {},
   "outputs": [],
   "source": [
    "# outfile = f\"../data/bulletins_tp3_5.model\"\n",
    "# model.save(outfile)"
   ]
  },
  {
   "cell_type": "code",
   "execution_count": 39,
   "id": "81e46792-9134-42d6-9310-1d2f4dfafed2",
   "metadata": {},
   "outputs": [],
   "source": [
    "model = Word2Vec.load(\"../data/bulletins_tp3_5.model\")"
   ]
  },
  {
   "cell_type": "code",
   "execution_count": 40,
   "id": "3465745f-51da-4a2b-828d-69236925d1be",
   "metadata": {},
   "outputs": [
    {
     "data": {
      "text/plain": [
       "0.73597544"
      ]
     },
     "execution_count": 40,
     "metadata": {},
     "output_type": "execute_result"
    }
   ],
   "source": [
    "model.wv.similarity(\"boucher\", \"boulanger\")"
   ]
  },
  {
   "cell_type": "code",
   "execution_count": 41,
   "id": "d2443d2e-38af-4e13-ab07-e07b49b4b967",
   "metadata": {},
   "outputs": [
    {
     "data": {
      "text/plain": [
       "0.4968657"
      ]
     },
     "execution_count": 41,
     "metadata": {},
     "output_type": "execute_result"
    }
   ],
   "source": [
    "model.wv.similarity(\"homme\", \"femme\")"
   ]
  },
  {
   "cell_type": "code",
   "execution_count": 42,
   "id": "c4b92841-38c7-434d-89be-883d7113ff28",
   "metadata": {},
   "outputs": [
    {
     "data": {
      "text/plain": [
       "0.32512385"
      ]
     },
     "execution_count": 42,
     "metadata": {},
     "output_type": "execute_result"
    }
   ],
   "source": [
    "model.wv.similarity(\"voiture\", \"carrosse\")"
   ]
  },
  {
   "cell_type": "code",
   "execution_count": 43,
   "id": "09a64b30-6794-46cf-8dcd-72249f329f01",
   "metadata": {},
   "outputs": [
    {
     "data": {
      "text/plain": [
       "0.49683255"
      ]
     },
     "execution_count": 43,
     "metadata": {},
     "output_type": "execute_result"
    }
   ],
   "source": [
    "model.wv.similarity(\"voiture\", \"chien\")"
   ]
  },
  {
   "cell_type": "code",
   "execution_count": 44,
   "id": "965e470f-ec09-4f5b-b193-3b55bcb77de8",
   "metadata": {},
   "outputs": [
    {
     "data": {
      "text/plain": [
       "[('rruxelles', 0.6734998822212219),\n",
       " ('bruxelle', 0.6661106944084167),\n",
       " ('nivelles', 0.6410489082336426),\n",
       " ('rilotel', 0.6126345992088318),\n",
       " ('liege', 0.6124768257141113),\n",
       " ('laeken', 0.6062876582145691),\n",
       " ('prague', 0.5905728340148926),\n",
       " ('paris', 0.5812634229660034),\n",
       " ('bruxe', 0.5775205492973328),\n",
       " ('thotel', 0.5755437016487122)]"
      ]
     },
     "execution_count": 44,
     "metadata": {},
     "output_type": "execute_result"
    }
   ],
   "source": [
    "model.wv.most_similar(\"bruxelles\", topn=10)"
   ]
  },
  {
   "cell_type": "code",
   "execution_count": 45,
   "id": "c0e4fa7c-dd2d-429b-8b6e-928e956a1399",
   "metadata": {},
   "outputs": [
    {
     "data": {
      "text/plain": [
       "[('cabaretier', 0.7500571012496948),\n",
       " ('charcutier', 0.7466012835502625),\n",
       " ('batelier', 0.7365172505378723),\n",
       " ('boulanger', 0.7359753847122192),\n",
       " ('cordonnier', 0.7342681288719177),\n",
       " ('tailleur', 0.7201100587844849),\n",
       " ('menuisier', 0.7160308957099915),\n",
       " ('serrurier', 0.7102100849151611),\n",
       " ('marchand', 0.7081350684165955),\n",
       " ('tapissier', 0.7031669020652771)]"
      ]
     },
     "execution_count": 45,
     "metadata": {},
     "output_type": "execute_result"
    }
   ],
   "source": [
    "model.wv.most_similar(\"boucher\", topn=10)"
   ]
  },
  {
   "cell_type": "code",
   "execution_count": 46,
   "id": "11df9d34-c192-4e4c-bf90-64e58cf2e432",
   "metadata": {},
   "outputs": [
    {
     "data": {
      "text/plain": [
       "[('openbare_tekoopstelling', 0.9188531637191772),\n",
       " ('45707', 0.9182823300361633),\n",
       " ('andrade', 0.9179937243461609),\n",
       " ('maison_hoguet', 0.9170889854431152),\n",
       " ('chapeliers_cinematographes', 0.9166592359542847),\n",
       " ('joh', 0.9159383177757263),\n",
       " ('zwanen', 0.9153969883918762),\n",
       " ('guiseppe', 0.9151684641838074),\n",
       " ('alder', 0.9139969348907471),\n",
       " ('chafitre', 0.9138032793998718)]"
      ]
     },
     "execution_count": 46,
     "metadata": {},
     "output_type": "execute_result"
    }
   ],
   "source": [
    "model.wv.most_similar(\"platonisme\", topn=10)"
   ]
  },
  {
   "cell_type": "code",
   "execution_count": 47,
   "id": "e56818a3-3efa-489f-87c6-52f991e534c3",
   "metadata": {},
   "outputs": [
    {
     "name": "stdout",
     "output_type": "stream",
     "text": [
      "[('londres', 0.6196915507316589), ('huy', 0.6139494180679321), ('paris', 0.612241268157959), ('prague', 0.6118791103363037), ('strasbourg', 0.6046821475028992), ('liege', 0.6004124879837036), ('ostende', 0.5979876518249512), ('tournai', 0.5954980850219727), ('verviers', 0.5954693555831909), ('lille', 0.5920859575271606)]\n"
     ]
    }
   ],
   "source": [
    "print(model.wv.most_similar(positive=['bruxelles', 'france'], negative=['belgique']))"
   ]
  },
  {
   "cell_type": "code",
   "execution_count": 48,
   "id": "63887348-9b93-4ea3-a028-7132e6cddea4",
   "metadata": {},
   "outputs": [
    {
     "name": "stdout",
     "output_type": "stream",
     "text": [
      "[('obeissance', 0.5728465914726257), ('<<_je_jure', 0.5694021582603455), ('imperatif', 0.5405074954032898), ('desinteressement', 0.5380254983901978), ('peuple_flamand', 0.5256156921386719), ('episode', 0.5096283555030823), ('constitutionnel', 0.5089327096939087), ('je_jure_fidelite', 0.503819465637207), ('instinct', 0.499616801738739), ('ensemble_architectural', 0.49446341395378113)]\n"
     ]
    }
   ],
   "source": [
    "print(model.wv.most_similar(positive=['fidelite', 'homme'], negative=['femme']))"
   ]
  },
  {
   "cell_type": "code",
   "execution_count": 49,
   "id": "ed6ab4bb-9bfb-4374-b23f-9c57aee34e00",
   "metadata": {},
   "outputs": [
    {
     "name": "stdout",
     "output_type": "stream",
     "text": [
      "[('obeissance', 0.5828089118003845), ('famille_royale', 0.554032564163208), ('sauce', 0.5483404994010925), ('monarchie', 0.5462076663970947), ('je_jure_fidelite', 0.5453361868858337), ('<<_je_jure', 0.5133175253868103), ('cantine', 0.5123889446258545), ('compagne', 0.5098216533660889), ('tarte', 0.5086079835891724), ('victoire', 0.5077992677688599)]\n"
     ]
    }
   ],
   "source": [
    "print(model.wv.most_similar(positive=['fidelite', 'femme'], negative=['homme']))"
   ]
  },
  {
   "cell_type": "code",
   "execution_count": 50,
   "id": "db47d04f-81d6-4f1d-9033-ea21bc583987",
   "metadata": {},
   "outputs": [
    {
     "name": "stdout",
     "output_type": "stream",
     "text": [
      "[('cellule', 0.6800757646560669), ('loge', 0.670630693435669), ('terrasse', 0.6701534390449524), ('douche', 0.6575928926467896), ('cave', 0.651539146900177), ('fenetre', 0.6492428779602051), ('mansarde', 0.6422395706176758), ('garderie', 0.6345840096473694), ('citerne', 0.623020350933075), ('laverie', 0.6198109984397888)]\n"
     ]
    }
   ],
   "source": [
    "print(model.wv.most_similar(positive=['urinoir', 'femme'], negative=['homme']))"
   ]
  },
  {
   "cell_type": "code",
   "execution_count": 51,
   "id": "7e8587ad-d595-47e9-8a62-60df0fbebc33",
   "metadata": {},
   "outputs": [
    {
     "name": "stdout",
     "output_type": "stream",
     "text": [
      "[('individu', 0.669407069683075), ('etre_humain', 0.6576298475265503), ('optimisme', 0.6521869897842407), ('instrument', 0.6490356922149658), ('element', 0.6462197303771973), ('homme_politique', 0.644122838973999), ('interet_particulier', 0.6403871178627014), ('outil', 0.6402451992034912), ('jurisconsulte', 0.6166369915008545), ('instinct', 0.6153025031089783)]\n"
     ]
    }
   ],
   "source": [
    "print(model.wv.most_similar(positive=['enfant', 'homme'], negative=['femme']))"
   ]
  },
  {
   "cell_type": "code",
   "execution_count": 52,
   "id": "abe5a01f-a8d1-4434-8a49-9b0fd56a12e5",
   "metadata": {},
   "outputs": [
    {
     "name": "stdout",
     "output_type": "stream",
     "text": [
      "[('mere', 0.6830453872680664), ('maman', 0.6731988787651062), ('fille', 0.6685454845428467), ('fillette', 0.6308883428573608), ('servante', 0.6275987029075623), ('maladie', 0.6263610124588013), ('jeune_fille', 0.6254672408103943), ('pensionnaire', 0.6240344643592834), ('colonie', 0.6148338913917542), ('premiere_communion', 0.5985870957374573)]\n"
     ]
    }
   ],
   "source": [
    "print(model.wv.most_similar(positive=['enfant', 'femme'], negative=['homme']))"
   ]
  },
  {
   "cell_type": "code",
   "execution_count": 54,
   "id": "d7429ee5-f4e6-4578-a5ae-f3bb7f169a8c",
   "metadata": {},
   "outputs": [
    {
     "name": "stdout",
     "output_type": "stream",
     "text": [
      "[('eoi', 0.550216019153595), ('mere', 0.5251489877700806), ('iication', 0.49920013546943665), ('sentence', 0.48368674516677856), ('fille', 0.4814489483833313), ('legion_nationale', 0.48094841837882996), ('general_belliard', 0.48025375604629517), ('louve', 0.47936856746673584), ('defunt', 0.4689710736274719), ('famille_royale', 0.4682580232620239)]\n"
     ]
    }
   ],
   "source": [
    "print(model.wv.most_similar(positive=['roi', 'femme'], negative=['homme']))"
   ]
  },
  {
   "cell_type": "code",
   "execution_count": 55,
   "id": "3ea4cb42-fd66-4edf-b52c-8f4cce771194",
   "metadata": {},
   "outputs": [
    {
     "data": {
      "text/plain": [
       "[('beine', 0.7733144760131836),\n",
       " ('renaissance', 0.765352725982666),\n",
       " ('brabanconne', 0.7470369935035706),\n",
       " ('heine', 0.7218537926673889),\n",
       " ('reine_elisabeth', 0.7036610245704651),\n",
       " ('chevalerie', 0.6953015923500061),\n",
       " ('sarriette', 0.6943184733390808),\n",
       " ('clairiere', 0.6917508244514465),\n",
       " ('madrid', 0.6880948543548584),\n",
       " ('colombie', 0.6780986189842224)]"
      ]
     },
     "execution_count": 55,
     "metadata": {},
     "output_type": "execute_result"
    }
   ],
   "source": [
    "model.wv.most_similar(\"reine\", topn=10)"
   ]
  },
  {
   "cell_type": "markdown",
   "id": "d87bf862-3212-400d-93ec-851a8c889552",
   "metadata": {},
   "source": [
    "#### Modèle 6 du tp3 (32-7)"
   ]
  },
  {
   "cell_type": "code",
   "execution_count": 163,
   "id": "2c30b2de-ed46-43e8-917e-274a7cdc437f",
   "metadata": {},
   "outputs": [
    {
     "ename": "KeyboardInterrupt",
     "evalue": "",
     "output_type": "error",
     "traceback": [
      "\u001b[0;31m---------------------------------------------------------------------------\u001b[0m",
      "\u001b[0;31mKeyboardInterrupt\u001b[0m                         Traceback (most recent call last)",
      "\u001b[0;32m<timed exec>\u001b[0m in \u001b[0;36m<module>\u001b[0;34m\u001b[0m\n",
      "\u001b[0;32m/usr/local/lib/python3.9/site-packages/gensim/models/word2vec.py\u001b[0m in \u001b[0;36m__init__\u001b[0;34m(self, sentences, corpus_file, vector_size, alpha, window, min_count, max_vocab_size, sample, seed, workers, min_alpha, sg, hs, negative, ns_exponent, cbow_mean, hashfxn, epochs, null_word, trim_rule, sorted_vocab, batch_words, compute_loss, callbacks, comment, max_final_vocab, shrink_windows)\u001b[0m\n\u001b[1;32m    423\u001b[0m         \u001b[0;32mif\u001b[0m \u001b[0mcorpus_iterable\u001b[0m \u001b[0;32mis\u001b[0m \u001b[0;32mnot\u001b[0m \u001b[0;32mNone\u001b[0m \u001b[0;32mor\u001b[0m \u001b[0mcorpus_file\u001b[0m \u001b[0;32mis\u001b[0m \u001b[0;32mnot\u001b[0m \u001b[0;32mNone\u001b[0m\u001b[0;34m:\u001b[0m\u001b[0;34m\u001b[0m\u001b[0;34m\u001b[0m\u001b[0m\n\u001b[1;32m    424\u001b[0m             \u001b[0mself\u001b[0m\u001b[0;34m.\u001b[0m\u001b[0m_check_corpus_sanity\u001b[0m\u001b[0;34m(\u001b[0m\u001b[0mcorpus_iterable\u001b[0m\u001b[0;34m=\u001b[0m\u001b[0mcorpus_iterable\u001b[0m\u001b[0;34m,\u001b[0m \u001b[0mcorpus_file\u001b[0m\u001b[0;34m=\u001b[0m\u001b[0mcorpus_file\u001b[0m\u001b[0;34m,\u001b[0m \u001b[0mpasses\u001b[0m\u001b[0;34m=\u001b[0m\u001b[0;34m(\u001b[0m\u001b[0mepochs\u001b[0m \u001b[0;34m+\u001b[0m \u001b[0;36m1\u001b[0m\u001b[0;34m)\u001b[0m\u001b[0;34m)\u001b[0m\u001b[0;34m\u001b[0m\u001b[0;34m\u001b[0m\u001b[0m\n\u001b[0;32m--> 425\u001b[0;31m             \u001b[0mself\u001b[0m\u001b[0;34m.\u001b[0m\u001b[0mbuild_vocab\u001b[0m\u001b[0;34m(\u001b[0m\u001b[0mcorpus_iterable\u001b[0m\u001b[0;34m=\u001b[0m\u001b[0mcorpus_iterable\u001b[0m\u001b[0;34m,\u001b[0m \u001b[0mcorpus_file\u001b[0m\u001b[0;34m=\u001b[0m\u001b[0mcorpus_file\u001b[0m\u001b[0;34m,\u001b[0m \u001b[0mtrim_rule\u001b[0m\u001b[0;34m=\u001b[0m\u001b[0mtrim_rule\u001b[0m\u001b[0;34m)\u001b[0m\u001b[0;34m\u001b[0m\u001b[0;34m\u001b[0m\u001b[0m\n\u001b[0m\u001b[1;32m    426\u001b[0m             self.train(\n\u001b[1;32m    427\u001b[0m                 \u001b[0mcorpus_iterable\u001b[0m\u001b[0;34m=\u001b[0m\u001b[0mcorpus_iterable\u001b[0m\u001b[0;34m,\u001b[0m \u001b[0mcorpus_file\u001b[0m\u001b[0;34m=\u001b[0m\u001b[0mcorpus_file\u001b[0m\u001b[0;34m,\u001b[0m \u001b[0mtotal_examples\u001b[0m\u001b[0;34m=\u001b[0m\u001b[0mself\u001b[0m\u001b[0;34m.\u001b[0m\u001b[0mcorpus_count\u001b[0m\u001b[0;34m,\u001b[0m\u001b[0;34m\u001b[0m\u001b[0;34m\u001b[0m\u001b[0m\n",
      "\u001b[0;32m/usr/local/lib/python3.9/site-packages/gensim/models/word2vec.py\u001b[0m in \u001b[0;36mbuild_vocab\u001b[0;34m(self, corpus_iterable, corpus_file, update, progress_per, keep_raw_vocab, trim_rule, **kwargs)\u001b[0m\n\u001b[1;32m    489\u001b[0m         \u001b[0mself\u001b[0m\u001b[0;34m.\u001b[0m\u001b[0mcorpus_count\u001b[0m \u001b[0;34m=\u001b[0m \u001b[0mcorpus_count\u001b[0m\u001b[0;34m\u001b[0m\u001b[0;34m\u001b[0m\u001b[0m\n\u001b[1;32m    490\u001b[0m         \u001b[0mself\u001b[0m\u001b[0;34m.\u001b[0m\u001b[0mcorpus_total_words\u001b[0m \u001b[0;34m=\u001b[0m \u001b[0mtotal_words\u001b[0m\u001b[0;34m\u001b[0m\u001b[0;34m\u001b[0m\u001b[0m\n\u001b[0;32m--> 491\u001b[0;31m         \u001b[0mreport_values\u001b[0m \u001b[0;34m=\u001b[0m \u001b[0mself\u001b[0m\u001b[0;34m.\u001b[0m\u001b[0mprepare_vocab\u001b[0m\u001b[0;34m(\u001b[0m\u001b[0mupdate\u001b[0m\u001b[0;34m=\u001b[0m\u001b[0mupdate\u001b[0m\u001b[0;34m,\u001b[0m \u001b[0mkeep_raw_vocab\u001b[0m\u001b[0;34m=\u001b[0m\u001b[0mkeep_raw_vocab\u001b[0m\u001b[0;34m,\u001b[0m \u001b[0mtrim_rule\u001b[0m\u001b[0;34m=\u001b[0m\u001b[0mtrim_rule\u001b[0m\u001b[0;34m,\u001b[0m \u001b[0;34m**\u001b[0m\u001b[0mkwargs\u001b[0m\u001b[0;34m)\u001b[0m\u001b[0;34m\u001b[0m\u001b[0;34m\u001b[0m\u001b[0m\n\u001b[0m\u001b[1;32m    492\u001b[0m         \u001b[0mreport_values\u001b[0m\u001b[0;34m[\u001b[0m\u001b[0;34m'memory'\u001b[0m\u001b[0;34m]\u001b[0m \u001b[0;34m=\u001b[0m \u001b[0mself\u001b[0m\u001b[0;34m.\u001b[0m\u001b[0mestimate_memory\u001b[0m\u001b[0;34m(\u001b[0m\u001b[0mvocab_size\u001b[0m\u001b[0;34m=\u001b[0m\u001b[0mreport_values\u001b[0m\u001b[0;34m[\u001b[0m\u001b[0;34m'num_retained_words'\u001b[0m\u001b[0;34m]\u001b[0m\u001b[0;34m)\u001b[0m\u001b[0;34m\u001b[0m\u001b[0;34m\u001b[0m\u001b[0m\n\u001b[1;32m    493\u001b[0m         \u001b[0mself\u001b[0m\u001b[0;34m.\u001b[0m\u001b[0mprepare_weights\u001b[0m\u001b[0;34m(\u001b[0m\u001b[0mupdate\u001b[0m\u001b[0;34m=\u001b[0m\u001b[0mupdate\u001b[0m\u001b[0;34m)\u001b[0m\u001b[0;34m\u001b[0m\u001b[0;34m\u001b[0m\u001b[0m\n",
      "\u001b[0;32m/usr/local/lib/python3.9/site-packages/gensim/models/word2vec.py\u001b[0m in \u001b[0;36mprepare_vocab\u001b[0;34m(self, update, keep_raw_vocab, trim_rule, min_count, sample, dry_run)\u001b[0m\n\u001b[1;32m    770\u001b[0m         \u001b[0;32mif\u001b[0m \u001b[0mself\u001b[0m\u001b[0;34m.\u001b[0m\u001b[0mnegative\u001b[0m\u001b[0;34m:\u001b[0m\u001b[0;34m\u001b[0m\u001b[0;34m\u001b[0m\u001b[0m\n\u001b[1;32m    771\u001b[0m             \u001b[0;31m# build the table for drawing random words (for negative sampling)\u001b[0m\u001b[0;34m\u001b[0m\u001b[0;34m\u001b[0m\u001b[0m\n\u001b[0;32m--> 772\u001b[0;31m             \u001b[0mself\u001b[0m\u001b[0;34m.\u001b[0m\u001b[0mmake_cum_table\u001b[0m\u001b[0;34m(\u001b[0m\u001b[0;34m)\u001b[0m\u001b[0;34m\u001b[0m\u001b[0;34m\u001b[0m\u001b[0m\n\u001b[0m\u001b[1;32m    773\u001b[0m \u001b[0;34m\u001b[0m\u001b[0m\n\u001b[1;32m    774\u001b[0m         \u001b[0;32mreturn\u001b[0m \u001b[0mreport_values\u001b[0m\u001b[0;34m\u001b[0m\u001b[0;34m\u001b[0m\u001b[0m\n",
      "\u001b[0;32m/usr/local/lib/python3.9/site-packages/gensim/models/word2vec.py\u001b[0m in \u001b[0;36mmake_cum_table\u001b[0;34m(self, domain)\u001b[0m\n\u001b[1;32m    838\u001b[0m         \u001b[0;32mfor\u001b[0m \u001b[0mword_index\u001b[0m \u001b[0;32min\u001b[0m \u001b[0mrange\u001b[0m\u001b[0;34m(\u001b[0m\u001b[0mvocab_size\u001b[0m\u001b[0;34m)\u001b[0m\u001b[0;34m:\u001b[0m\u001b[0;34m\u001b[0m\u001b[0;34m\u001b[0m\u001b[0m\n\u001b[1;32m    839\u001b[0m             \u001b[0mcount\u001b[0m \u001b[0;34m=\u001b[0m \u001b[0mself\u001b[0m\u001b[0;34m.\u001b[0m\u001b[0mwv\u001b[0m\u001b[0;34m.\u001b[0m\u001b[0mget_vecattr\u001b[0m\u001b[0;34m(\u001b[0m\u001b[0mword_index\u001b[0m\u001b[0;34m,\u001b[0m \u001b[0;34m'count'\u001b[0m\u001b[0;34m)\u001b[0m\u001b[0;34m\u001b[0m\u001b[0;34m\u001b[0m\u001b[0m\n\u001b[0;32m--> 840\u001b[0;31m             \u001b[0mcumulative\u001b[0m \u001b[0;34m+=\u001b[0m \u001b[0mcount\u001b[0m\u001b[0;34m**\u001b[0m\u001b[0mself\u001b[0m\u001b[0;34m.\u001b[0m\u001b[0mns_exponent\u001b[0m\u001b[0;34m\u001b[0m\u001b[0;34m\u001b[0m\u001b[0m\n\u001b[0m\u001b[1;32m    841\u001b[0m             \u001b[0mself\u001b[0m\u001b[0;34m.\u001b[0m\u001b[0mcum_table\u001b[0m\u001b[0;34m[\u001b[0m\u001b[0mword_index\u001b[0m\u001b[0;34m]\u001b[0m \u001b[0;34m=\u001b[0m \u001b[0mround\u001b[0m\u001b[0;34m(\u001b[0m\u001b[0mcumulative\u001b[0m \u001b[0;34m/\u001b[0m \u001b[0mtrain_words_pow\u001b[0m \u001b[0;34m*\u001b[0m \u001b[0mdomain\u001b[0m\u001b[0;34m)\u001b[0m\u001b[0;34m\u001b[0m\u001b[0;34m\u001b[0m\u001b[0m\n\u001b[1;32m    842\u001b[0m         \u001b[0;32mif\u001b[0m \u001b[0mlen\u001b[0m\u001b[0;34m(\u001b[0m\u001b[0mself\u001b[0m\u001b[0;34m.\u001b[0m\u001b[0mcum_table\u001b[0m\u001b[0;34m)\u001b[0m \u001b[0;34m>\u001b[0m \u001b[0;36m0\u001b[0m\u001b[0;34m:\u001b[0m\u001b[0;34m\u001b[0m\u001b[0;34m\u001b[0m\u001b[0m\n",
      "\u001b[0;31mKeyboardInterrupt\u001b[0m: "
     ]
    }
   ],
   "source": [
    "%%time\n",
    "model = Word2Vec(\n",
    "    corpus, # On passe le corpus de ngrams que nous venons de créer\n",
    "    vector_size=32, # Le nombre de dimensions dans lesquelles le contexte des mots devra être réduit, aka. vector_size\n",
    "    window=7, # La taille du \"contexte\", ici 5 mots avant et après le mot observé\n",
    "    min_count=2, # On ignore les mots qui n'apparaissent pas au moins 5 fois dans le corpus\n",
    "    workers=4, # Permet de paralléliser l'entraînement du modèle en 4 threads\n",
    "    epochs=10 # Nombre d'itérations du réseau de neurones sur le jeu de données pour ajuster les paramètres avec la descende de gradient, aka. epochs.\n",
    ")"
   ]
  },
  {
   "cell_type": "code",
   "execution_count": 164,
   "id": "1f343a13-0ff8-4911-afb2-fd08c734e678",
   "metadata": {},
   "outputs": [],
   "source": [
    "outfile = f\"../data/bulletins_tp3_6.model\"\n",
    "model.save(outfile)"
   ]
  },
  {
   "cell_type": "code",
   "execution_count": null,
   "id": "c23519e3-ba66-43af-8d54-3884717f9014",
   "metadata": {},
   "outputs": [],
   "source": [
    "model = Word2Vec.load(\"../data/bulletins_tp3_6.model\")"
   ]
  },
  {
   "cell_type": "code",
   "execution_count": null,
   "id": "a12ee480-22cb-4e5e-ad53-686b225cd6af",
   "metadata": {},
   "outputs": [],
   "source": [
    "model.wv.similarity(\"boucher\", \"boulanger\")"
   ]
  },
  {
   "cell_type": "code",
   "execution_count": null,
   "id": "3efe272c-faec-4170-96b4-991ed992f4e0",
   "metadata": {},
   "outputs": [],
   "source": [
    "model.wv.similarity(\"homme\", \"femme\")"
   ]
  },
  {
   "cell_type": "code",
   "execution_count": null,
   "id": "bb1f6b5d-d3bf-41f0-b832-5aca0379a8b0",
   "metadata": {},
   "outputs": [],
   "source": [
    "model.wv.similarity(\"voiture\", \"carrosse\")"
   ]
  },
  {
   "cell_type": "code",
   "execution_count": null,
   "id": "2856e7ee-c5ee-44b2-a756-509069fdd614",
   "metadata": {},
   "outputs": [],
   "source": [
    "model.wv.most_similar(\"bruxelles\", topn=10)"
   ]
  },
  {
   "cell_type": "code",
   "execution_count": null,
   "id": "1d00258a-6aa7-4a02-aed3-23285eecb605",
   "metadata": {},
   "outputs": [],
   "source": [
    "model.wv.most_similar(\"boucher\", topn=10)"
   ]
  },
  {
   "cell_type": "code",
   "execution_count": null,
   "id": "d049cd38-f4e8-4662-9e92-ef05a758261f",
   "metadata": {},
   "outputs": [],
   "source": [
    "model.wv.most_similar(\"platonisme\", topn=10)"
   ]
  },
  {
   "cell_type": "code",
   "execution_count": null,
   "id": "61d16257-c221-4d7d-ada3-fead99a5d2a7",
   "metadata": {},
   "outputs": [],
   "source": [
    "model.wv.most_similar(\"urinoire\", topn=10)"
   ]
  },
  {
   "cell_type": "code",
   "execution_count": null,
   "id": "a589f8b3-d943-4b9f-bf02-26a5b1b324d0",
   "metadata": {},
   "outputs": [],
   "source": [
    "print(model.wv.most_similar(positive=['bruxelles', 'france'], negative=['belgique']))"
   ]
  },
  {
   "cell_type": "code",
   "execution_count": null,
   "id": "e435e9eb-20cb-4f9f-99ee-2089f9908a8b",
   "metadata": {},
   "outputs": [],
   "source": [
    "print(model.wv.most_similar(positive=['fidelite', 'homme'], negative=['femme']))"
   ]
  },
  {
   "cell_type": "code",
   "execution_count": null,
   "id": "5593e9c2-ea45-42d2-917f-e1e718c1a886",
   "metadata": {},
   "outputs": [],
   "source": [
    "print(model.wv.most_similar(positive=['fidelite', 'femme'], negative=['homme']))"
   ]
  },
  {
   "cell_type": "code",
   "execution_count": null,
   "id": "64c4b2de-f5eb-4500-8a50-fb30a01e2fbe",
   "metadata": {},
   "outputs": [],
   "source": [
    "print(model.wv.most_similar(positive=['urinoir', 'femme'], negative=['homme']))"
   ]
  },
  {
   "cell_type": "code",
   "execution_count": null,
   "id": "7f0e00c8-eff5-420a-9893-e1ee1a80fc86",
   "metadata": {},
   "outputs": [],
   "source": [
    "print(model.wv.most_similar(positive=['enfant', 'homme'], negative=['femme']))"
   ]
  },
  {
   "cell_type": "code",
   "execution_count": null,
   "id": "d3d63f3c-c688-46b6-84e5-4d62ecd21c47",
   "metadata": {},
   "outputs": [],
   "source": [
    "print(model.wv.most_similar(positive=['enfant', 'femme'], negative=['homme']))"
   ]
  },
  {
   "cell_type": "code",
   "execution_count": null,
   "id": "996bbe19-b65b-4b32-b257-cd216aa8123d",
   "metadata": {},
   "outputs": [],
   "source": [
    "print(model.wv.most_similar(positive=['roi', 'femme'], negative=['homme']))"
   ]
  },
  {
   "cell_type": "markdown",
   "id": "7cf60b56-de3a-44e9-824d-324208abc44a",
   "metadata": {},
   "source": [
    "#### Modèle 7 du tp3 (32-13)"
   ]
  },
  {
   "cell_type": "code",
   "execution_count": null,
   "id": "d135c2d2-1071-47c4-beea-19dfa2621569",
   "metadata": {},
   "outputs": [],
   "source": [
    "%%time\n",
    "model = Word2Vec(\n",
    "    corpus, # On passe le corpus de ngrams que nous venons de créer\n",
    "    vector_size=32, # Le nombre de dimensions dans lesquelles le contexte des mots devra être réduit, aka. vector_size\n",
    "    window=13, # La taille du \"contexte\", ici 5 mots avant et après le mot observé\n",
    "    min_count=2, # On ignore les mots qui n'apparaissent pas au moins 5 fois dans le corpus\n",
    "    workers=4, # Permet de paralléliser l'entraînement du modèle en 4 threads\n",
    "    epochs=10 # Nombre d'itérations du réseau de neurones sur le jeu de données pour ajuster les paramètres avec la descende de gradient, aka. epochs.\n",
    ")"
   ]
  },
  {
   "cell_type": "code",
   "execution_count": null,
   "id": "31f155a6-8a6a-4e04-9c3a-c2eacb1c0e81",
   "metadata": {},
   "outputs": [],
   "source": [
    "outfile = f\"../data/bulletins_tp3_7.model\"\n",
    "model.save(outfile)"
   ]
  },
  {
   "cell_type": "code",
   "execution_count": null,
   "id": "8665f41a-1acc-44a6-b27d-b2ee03ee885c",
   "metadata": {},
   "outputs": [],
   "source": [
    "model = Word2Vec.load(\"../data/bulletins_tp3_7.model\")"
   ]
  },
  {
   "cell_type": "code",
   "execution_count": null,
   "id": "ebbbe61e-1049-4248-959c-ecdf138f625d",
   "metadata": {},
   "outputs": [],
   "source": [
    "model.wv.similarity(\"boucher\", \"boulanger\")"
   ]
  },
  {
   "cell_type": "code",
   "execution_count": null,
   "id": "0bcd18ff-379c-44c5-bc58-005acebccc1f",
   "metadata": {},
   "outputs": [],
   "source": [
    "model.wv.similarity(\"homme\", \"femme\")"
   ]
  },
  {
   "cell_type": "code",
   "execution_count": null,
   "id": "0d55031c-76b7-4f04-a4ab-0bc03cc07ae4",
   "metadata": {},
   "outputs": [],
   "source": [
    "model.wv.similarity(\"voiture\", \"carrosse\")"
   ]
  },
  {
   "cell_type": "code",
   "execution_count": null,
   "id": "e0b839c6-6a10-4e55-b086-a928d7d23752",
   "metadata": {},
   "outputs": [],
   "source": [
    "model.wv.most_similar(\"bruxelles\", topn=10)"
   ]
  },
  {
   "cell_type": "code",
   "execution_count": null,
   "id": "c455a6e9-3c89-488d-b2a5-f6663efd71b1",
   "metadata": {},
   "outputs": [],
   "source": [
    "model.wv.most_similar(\"boucher\", topn=10)"
   ]
  },
  {
   "cell_type": "code",
   "execution_count": null,
   "id": "42f563f7-a720-43fe-83e8-a272e6b32802",
   "metadata": {},
   "outputs": [],
   "source": [
    "model.wv.most_similar(\"platonisme\", topn=10)"
   ]
  },
  {
   "cell_type": "code",
   "execution_count": null,
   "id": "a4170867-603d-43b7-9389-9bc63c3b9ee2",
   "metadata": {},
   "outputs": [],
   "source": [
    "model.wv.most_similar(\"urinoire\", topn=10)"
   ]
  },
  {
   "cell_type": "code",
   "execution_count": null,
   "id": "949f54b2-4c41-49b7-a42a-0964e94dbec0",
   "metadata": {},
   "outputs": [],
   "source": [
    "print(model.wv.most_similar(positive=['bruxelles', 'france'], negative=['belgique']))"
   ]
  },
  {
   "cell_type": "code",
   "execution_count": null,
   "id": "ca1e176b-b6b4-4336-92b0-f59f01247893",
   "metadata": {},
   "outputs": [],
   "source": [
    "print(model.wv.most_similar(positive=['fidelite', 'homme'], negative=['femme']))"
   ]
  },
  {
   "cell_type": "code",
   "execution_count": null,
   "id": "a5680aea-6a13-4c60-bf96-36b31f18cf84",
   "metadata": {},
   "outputs": [],
   "source": [
    "print(model.wv.most_similar(positive=['fidelite', 'femme'], negative=['homme']))"
   ]
  },
  {
   "cell_type": "code",
   "execution_count": null,
   "id": "6540551c-b9a6-4311-82af-8d4acc1fdc7c",
   "metadata": {},
   "outputs": [],
   "source": [
    "print(model.wv.most_similar(positive=['urinoir', 'femme'], negative=['homme']))"
   ]
  },
  {
   "cell_type": "code",
   "execution_count": null,
   "id": "d4e1f9ea-d7ac-4b79-b6e8-4e297673f21f",
   "metadata": {},
   "outputs": [],
   "source": [
    "print(model.wv.most_similar(positive=['enfant', 'homme'], negative=['femme']))"
   ]
  },
  {
   "cell_type": "code",
   "execution_count": null,
   "id": "3eaa5442-c6fc-490a-b95a-7b61e18f2f5e",
   "metadata": {},
   "outputs": [],
   "source": [
    "print(model.wv.most_similar(positive=['enfant', 'femme'], negative=['homme']))"
   ]
  },
  {
   "cell_type": "code",
   "execution_count": null,
   "id": "9b396299-15a1-4d76-afc2-da7f8d2b1f67",
   "metadata": {},
   "outputs": [],
   "source": [
    "print(model.wv.most_similar(positive=['roi', 'femme'], negative=['homme']))"
   ]
  },
  {
   "cell_type": "code",
   "execution_count": null,
   "id": "35b6a060-3787-4e1d-a4b5-5076b8e1815b",
   "metadata": {},
   "outputs": [],
   "source": [
    "print(model.wv.most_similar(positive=['reine', 'homme'], negative=['femme']))"
   ]
  },
  {
   "cell_type": "code",
   "execution_count": null,
   "id": "5ea899f0-0c60-4f28-928f-95cf60eafafe",
   "metadata": {},
   "outputs": [],
   "source": [
    "print(model.wv.most_similar(positive=['fidelite', 'joie'], negative=['obeissance']))"
   ]
  }
 ],
 "metadata": {
  "kernelspec": {
   "display_name": "Python 3 (ipykernel)",
   "language": "python",
   "name": "python3"
  },
  "language_info": {
   "codemirror_mode": {
    "name": "ipython",
    "version": 3
   },
   "file_extension": ".py",
   "mimetype": "text/x-python",
   "name": "python",
   "nbconvert_exporter": "python",
   "pygments_lexer": "ipython3",
   "version": "3.9.7"
  }
 },
 "nbformat": 4,
 "nbformat_minor": 5
}
