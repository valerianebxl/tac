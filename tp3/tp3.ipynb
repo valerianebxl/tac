{
 "cells": [
  {
   "cell_type": "markdown",
   "id": "5470f524-1497-44a6-9fc1-b1541f376791",
   "metadata": {},
   "source": [
    "# Clustering et word2vec"
   ]
  },
  {
   "cell_type": "markdown",
   "id": "4aab9df9-3737-4fb0-9c57-ae33615ac09c",
   "metadata": {},
   "source": [
    "Sur la base des éléments méthodologiques et des enseignements techniques présentés lors du cours théorique, il est demandé dans le cadre de ce TP :\n",
    "- d’effectuer un clustering des bulletins pour une décennie au choix et d’interpréter les résultats\n",
    "- d’entraîner un modèle word2vec sur l’ensemble des bulletins et d’explorer les relations entre vecteurs\n",
    "\n",
    "Pour ce faire, vous utiliserez différentes librairies Python vues au cours comme scikit-learn et gensim."
   ]
  },
  {
   "cell_type": "markdown",
   "id": "57efd957-74d6-41a4-9abe-ca82e914a281",
   "metadata": {},
   "source": [
    "## 1. Clustering"
   ]
  },
  {
   "cell_type": "markdown",
   "id": "82706675-c1cc-44fe-a1d7-4e02d87cb974",
   "metadata": {},
   "source": [
    "## 2. Word2Vec"
   ]
  },
  {
   "cell_type": "markdown",
   "id": "2e2b4e5d-3872-4866-ae6c-3634788a4bab",
   "metadata": {},
   "source": [
    "#### Librairies nécessaires"
   ]
  },
  {
   "cell_type": "code",
   "execution_count": 1,
   "id": "9f6fcd20-ae63-448b-96bf-9f0d8c9ddfe9",
   "metadata": {},
   "outputs": [
    {
     "name": "stderr",
     "output_type": "stream",
     "text": [
      "[nltk_data] Downloading package stopwords to /root/nltk_data...\n",
      "[nltk_data]   Package stopwords is already up-to-date!\n"
     ]
    },
    {
     "data": {
      "text/plain": [
       "True"
      ]
     },
     "execution_count": 1,
     "metadata": {},
     "output_type": "execute_result"
    }
   ],
   "source": [
    "import sys\n",
    "\n",
    "from gensim.models.phrases import Phrases, Phraser\n",
    "from gensim.models import Word2Vec\n",
    "\n",
    "import nltk\n",
    "from nltk.tokenize import wordpunct_tokenize\n",
    "from unidecode import unidecode\n",
    "\n",
    "# stopwords\n",
    "from nltk.corpus import stopwords\n",
    "nltk.download('stopwords')"
   ]
  },
  {
   "cell_type": "markdown",
   "id": "c80cd2e3-4e7d-4755-a90d-2c7886a5f6ae",
   "metadata": {},
   "source": [
    "#### Fichier à nettoyer"
   ]
  },
  {
   "cell_type": "code",
   "execution_count": 2,
   "id": "590a72f4-6aa6-4e4c-9551-f2bb88a7650a",
   "metadata": {},
   "outputs": [],
   "source": [
    "infile = f\"../data/sents_2.txt\""
   ]
  },
  {
   "cell_type": "markdown",
   "id": "30e996fd-bedf-48f2-ab98-82791eba854e",
   "metadata": {},
   "source": [
    "#### Nettoyage du fichier"
   ]
  },
  {
   "cell_type": "code",
   "execution_count": 3,
   "id": "42b0dd65-c5e7-49da-80b1-986f2272731d",
   "metadata": {},
   "outputs": [],
   "source": [
    "sw = stopwords.words(\"french\")\n",
    "sw += [\"les\", \"plus\", \"cette\", \"fait\", \"faire\", \"être\", \"deux\", \"comme\", \"dont\", \"tout\", \n",
    "       \"ils\", \"bien\", \"sans\", \"peut\", \"tous\", \"après\", \"ainsi\", \"donc\", \"cet\", \"sous\",\n",
    "       \"celle\", \"entre\", \"encore\", \"toutes\", \"pendant\", \"moins\", \"dire\", \"cela\", \"non\",\n",
    "       \"faut\", \"trois\", \"aussi\", \"dit\", \"avoir\", \"doit\", \"contre\", \"depuis\", \"autres\",\n",
    "       \"van\", \"het\", \"autre\", \"jusqu\"]"
   ]
  },
  {
   "cell_type": "code",
   "execution_count": 4,
   "id": "3bb49831-c881-411f-b73e-f43527a784d1",
   "metadata": {},
   "outputs": [],
   "source": [
    "def clean_text(my_file):\n",
    "    output_path = f\"../data/sents_2_clean.txt\"\n",
    "    output = open(output_path, \"w\", encoding='utf-8')\n",
    "    with open(my_file, encoding='utf-8') as f:\n",
    "        text = f.read()\n",
    "        kword = nltk.wordpunct_tokenize(text)\n",
    "        kept = [w.lower() for w in kword if len(w) > 2 and w.isalpha() and w.lower() not in sw]\n",
    "        kept_string = \" \".join(kept)\n",
    "        output.write(kept_string)\n",
    "    return f'Output has been written in {output_path}!'"
   ]
  },
  {
   "cell_type": "code",
   "execution_count": 5,
   "id": "b836b699-f741-4f82-a4bb-9950fb3a542b",
   "metadata": {},
   "outputs": [
    {
     "data": {
      "text/plain": [
       "'Output has been written in ../data/sents_2_clean.txt!'"
      ]
     },
     "execution_count": 5,
     "metadata": {},
     "output_type": "execute_result"
    }
   ],
   "source": [
    "clean_text(infile)"
   ]
  },
  {
   "cell_type": "code",
   "execution_count": 6,
   "id": "a4dd2f49-000f-4fc4-a4e5-d2aa0e1afa42",
   "metadata": {},
   "outputs": [],
   "source": [
    "cleaned_infile = f\"../data/sents_2_clean.txt\""
   ]
  },
  {
   "cell_type": "markdown",
   "id": "db5cf288-0c22-490f-b93d-ede6d71fb3e3",
   "metadata": {},
   "source": [
    "#### Chargement des phrases"
   ]
  },
  {
   "cell_type": "code",
   "execution_count": 7,
   "id": "c45027d3-067a-4306-9d66-232171f50c7c",
   "metadata": {},
   "outputs": [],
   "source": [
    "class MySentences(object):\n",
    "    \"\"\"Tokenize and Lemmatize sentences\"\"\"\n",
    "    def __init__(self, filename):\n",
    "        self.filename = filename\n",
    "\n",
    "    def __iter__(self):\n",
    "        for line in open(self.filename, encoding='utf-8', errors=\"backslashreplace\"):\n",
    "            yield [unidecode(w.lower()) for w in wordpunct_tokenize(line)]"
   ]
  },
  {
   "cell_type": "code",
   "execution_count": 8,
   "id": "74ce6a48-d5ed-4448-8388-9dc85d21e10c",
   "metadata": {},
   "outputs": [],
   "source": [
    "sentences = MySentences(cleaned_infile)"
   ]
  },
  {
   "cell_type": "markdown",
   "id": "e0f31cb3-5038-4f4d-bbab-c02ffc61c8e2",
   "metadata": {},
   "source": [
    "#### Création des bigrammes"
   ]
  },
  {
   "cell_type": "code",
   "execution_count": 9,
   "id": "f866c305-7835-49f4-9ddd-3083f1ed1c92",
   "metadata": {},
   "outputs": [],
   "source": [
    "bigram_phrases = Phrases(sentences)"
   ]
  },
  {
   "cell_type": "code",
   "execution_count": 10,
   "id": "21d3d6e4-3ad3-4034-90e5-076077cff7a3",
   "metadata": {},
   "outputs": [
    {
     "data": {
      "text/plain": [
       "8906117"
      ]
     },
     "execution_count": 10,
     "metadata": {},
     "output_type": "execute_result"
    }
   ],
   "source": [
    "len(bigram_phrases.vocab.keys())"
   ]
  },
  {
   "cell_type": "code",
   "execution_count": 14,
   "id": "e853e65e-afd4-4763-a237-b3a2fff6ede7",
   "metadata": {},
   "outputs": [
    {
     "name": "stdout",
     "output_type": "stream",
     "text": [
      "bourgmestre_sommaire\n"
     ]
    }
   ],
   "source": [
    "# exploration des bigrammes\n",
    "\n",
    "key_ = list(bigram_phrases.vocab.keys())[145]\n",
    "print(key_)"
   ]
  },
  {
   "cell_type": "code",
   "execution_count": 15,
   "id": "87c73010-0803-4155-9c02-98a534affa0b",
   "metadata": {},
   "outputs": [
    {
     "data": {
      "text/plain": [
       "1577"
      ]
     },
     "execution_count": 15,
     "metadata": {},
     "output_type": "execute_result"
    }
   ],
   "source": [
    "# score de la clé\n",
    "\n",
    "bigram_phrases.vocab[key_]"
   ]
  },
  {
   "cell_type": "code",
   "execution_count": 16,
   "id": "c3c744cd-66f1-4f81-b1ad-1135a0af8358",
   "metadata": {},
   "outputs": [
    {
     "name": "stdout",
     "output_type": "stream",
     "text": [
      "['bruxelles', 'bulletin', 'bruxelles_bulletin', 'ires', 'bulletin_ires', 'conseil', 'ires_conseil', 'communal', 'conseil_communal', 'annee', 'communal_annee', 'ville', 'annee_ville', 'ville_bulletin', 'bulletin_conseil', 'aes', 'conseil_aes', 'seances', 'aes_seances', 'seances_communal', 'annee_bruxelles', 'imprimerie', 'bruxelles_imprimerie', 'rite', 'imprimerie_rite', 'faubourg', 'rite_faubourg', 'consei', 'faubourg_consei', 'dibi', 'consei_dibi', 'communication', 'dibi_communication', 'conclusions', 'communication_conclusions', 'section', 'conclusions_section', 'nouvel', 'section_nouvel', 'hospice', 'nouvel_hospice', 'enraisonde', 'hospice_enraisonde', 'absence', 'enraisonde_absence', 'maladie', 'absence_maladie', 'maladie_conseil', 'ajourne', 'conseil_ajourne', 'leurs', 'ajourne_leurs', 'pierre', 'leurs_pierre', 'marchai', 'pierre_marchai', 'cles', 'marchai_cles', 'taxes', 'cles_taxes', 'communale', 'taxes_communale', 'bieniaance', 'communale_bieniaance', 'eldeseianv', 'bieniaance_eldeseianv', 'donne', 'eldeseianv_donne', 'communie', 'donne_communie', 'mandant', 'communie_mandant', 'gnant', 'mandant_gnant', 'envoi', 'gnant_envoi', 'etat', 'envoi_etat', 'obligatoire', 'etat_obligatoire', 'secretariat', 'obligatoire_secretariat', 'dtput', 'secretariat_dtput', 'proposition', 'dtput_proposition', 'dan', 'proposition_dan', 'dan_donne', 'lecture', 'donne_lecture', 'glissement', 'lecture_glissement', 'marc', 'glissement_marc', 'royales', 'marc_royales', 'rue', 'royales_rue', 'fai']\n"
     ]
    }
   ],
   "source": [
    "print(list(bigram_phrases.vocab.keys())[:100])"
   ]
  },
  {
   "cell_type": "code",
   "execution_count": 17,
   "id": "e3063b88-768f-4ef1-bd6d-227673f7cf9b",
   "metadata": {},
   "outputs": [
    {
     "name": "stdout",
     "output_type": "stream",
     "text": [
      "CPU times: user 1min 21s, sys: 1.74 s, total: 1min 23s\n",
      "Wall time: 1min 27s\n"
     ]
    },
    {
     "data": {
      "text/plain": [
       "<gensim.interfaces.TransformedCorpus at 0x7feb805cb130>"
      ]
     },
     "execution_count": 17,
     "metadata": {},
     "output_type": "execute_result"
    }
   ],
   "source": [
    "%time bigram_phrases[sentences]"
   ]
  },
  {
   "cell_type": "code",
   "execution_count": 18,
   "id": "8efe9f0a-4b05-4492-8299-0b0f316f8060",
   "metadata": {},
   "outputs": [],
   "source": [
    "bigram_phraser = Phraser(phrases_model=bigram_phrases)"
   ]
  },
  {
   "cell_type": "code",
   "execution_count": 19,
   "id": "aef108da-dc60-4639-981e-839e16c024b5",
   "metadata": {},
   "outputs": [
    {
     "name": "stdout",
     "output_type": "stream",
     "text": [
      "CPU times: user 1min 29s, sys: 2.18 s, total: 1min 31s\n",
      "Wall time: 1min 35s\n"
     ]
    },
    {
     "data": {
      "text/plain": [
       "<gensim.interfaces.TransformedCorpus at 0x7feb80596e20>"
      ]
     },
     "execution_count": 19,
     "metadata": {},
     "output_type": "execute_result"
    }
   ],
   "source": [
    "%time bigram_phraser[sentences]"
   ]
  },
  {
   "cell_type": "code",
   "execution_count": 20,
   "id": "0ebf5848-c99b-41c1-9b23-d32b81bae084",
   "metadata": {},
   "outputs": [],
   "source": [
    "trigram_phrases = Phrases(bigram_phraser[sentences])"
   ]
  },
  {
   "cell_type": "code",
   "execution_count": 21,
   "id": "9d70c0b6-ea30-47a7-923b-3cc8c5348628",
   "metadata": {},
   "outputs": [],
   "source": [
    "trigram_phraser = Phraser(phrases_model=trigram_phrases)"
   ]
  },
  {
   "cell_type": "code",
   "execution_count": 22,
   "id": "eafc40c7-8fa4-4063-92eb-56cb024ced02",
   "metadata": {},
   "outputs": [],
   "source": [
    "corpus = list(trigram_phraser[bigram_phraser[sentences]])"
   ]
  },
  {
   "cell_type": "code",
   "execution_count": 24,
   "id": "19bf7e5d-f24a-4203-b062-c627f306da10",
   "metadata": {},
   "outputs": [
    {
     "name": "stderr",
     "output_type": "stream",
     "text": [
      "IOPub data rate exceeded.\n",
      "The Jupyter server will temporarily stop sending output\n",
      "to the client in order to avoid crashing it.\n",
      "To change this limit, set the config variable\n",
      "`--ServerApp.iopub_data_rate_limit`.\n",
      "\n",
      "Current values:\n",
      "ServerApp.iopub_data_rate_limit=1000000.0 (bytes/sec)\n",
      "ServerApp.rate_limit_window=3.0 (secs)\n",
      "\n"
     ]
    }
   ],
   "source": [
    "# print(corpus[:10])"
   ]
  },
  {
   "cell_type": "code",
   "execution_count": 25,
   "id": "1bc5750c-8d42-4ef3-804b-3b6b5d77b3dd",
   "metadata": {},
   "outputs": [
    {
     "name": "stdout",
     "output_type": "stream",
     "text": [
      "CPU times: user 27.8 s, sys: 127 ms, total: 28 s\n",
      "Wall time: 28 s\n"
     ]
    }
   ],
   "source": [
    "%%time\n",
    "model = Word2Vec(\n",
    "    corpus, # On passe le corpus de ngrams que nous venons de créer\n",
    "    vector_size=32, # Le nombre de dimensions dans lesquelles le contexte des mots devra être réduit, aka. vector_size\n",
    "    window=5, # La taille du \"contexte\", ici 5 mots avant et après le mot observé\n",
    "    min_count=1, # On ignore les mots qui n'apparaissent pas au moins 5 fois dans le corpus\n",
    "    workers=4, # Permet de paralléliser l'entraînement du modèle en 4 threads\n",
    "    epochs=10 # Nombre d'itérations du réseau de neurones sur le jeu de données pour ajuster les paramètres avec la descende de gradient, aka. epochs.\n",
    ")"
   ]
  },
  {
   "cell_type": "code",
   "execution_count": 26,
   "id": "9cffac88-dcb0-4956-b5ed-39456543df9c",
   "metadata": {},
   "outputs": [],
   "source": [
    "outfile = f\"../data/bulletins_tp3_1.model\"\n",
    "model.save(outfile)"
   ]
  },
  {
   "cell_type": "code",
   "execution_count": 27,
   "id": "ce22be44-26e1-4664-a480-a29dd535f982",
   "metadata": {},
   "outputs": [],
   "source": [
    "model = Word2Vec.load(\"../data/bulletins_tp3_1.model\")"
   ]
  },
  {
   "cell_type": "code",
   "execution_count": 28,
   "id": "62dd6d67-d697-4052-af79-da231746e55d",
   "metadata": {},
   "outputs": [
    {
     "data": {
      "text/plain": [
       "array([-0.02856385, -0.02491177,  0.00148107,  0.02353539, -0.02817992,\n",
       "        0.00980195,  0.01736984,  0.01888244,  0.02273956, -0.01897097,\n",
       "        0.00256455,  0.02112452, -0.00662612, -0.01973851, -0.0045003 ,\n",
       "       -0.02654227, -0.01687697,  0.02658183,  0.00769452,  0.02725005,\n",
       "        0.0275328 ,  0.02975384, -0.00952221, -0.00146625,  0.00780555,\n",
       "       -0.014429  ,  0.02500482, -0.0340938 ,  0.02078272,  0.00892002,\n",
       "       -0.01924244,  0.01486543], dtype=float32)"
      ]
     },
     "execution_count": 28,
     "metadata": {},
     "output_type": "execute_result"
    }
   ],
   "source": [
    "model.wv[\"bruxelles\"]"
   ]
  },
  {
   "cell_type": "code",
   "execution_count": 29,
   "id": "6d5626b3-f368-4c78-9789-da7121104826",
   "metadata": {},
   "outputs": [
    {
     "data": {
      "text/plain": [
       "array([ 0.00814233, -0.0172377 ,  0.02529807,  0.00614849,  0.02423477,\n",
       "       -0.02679351, -0.01373259, -0.00162214,  0.02771173,  0.01275488,\n",
       "       -0.02829717,  0.02214047,  0.00972006,  0.01646418,  0.02256383,\n",
       "       -0.00120972, -0.00703827,  0.00895417,  0.01078752, -0.00861427,\n",
       "        0.00106915, -0.00067653,  0.01223742, -0.02747203,  0.01652838,\n",
       "       -0.02672914,  0.00670581,  0.02702001,  0.00011779, -0.03072757,\n",
       "        0.02718076, -0.00172947], dtype=float32)"
      ]
     },
     "execution_count": 29,
     "metadata": {},
     "output_type": "execute_result"
    }
   ],
   "source": [
    "model.wv[\"boucher\"]"
   ]
  },
  {
   "cell_type": "code",
   "execution_count": 30,
   "id": "6c8dda50-c978-4e2a-a745-c7224a4d6a34",
   "metadata": {},
   "outputs": [
    {
     "data": {
      "text/plain": [
       "0.0900372"
      ]
     },
     "execution_count": 30,
     "metadata": {},
     "output_type": "execute_result"
    }
   ],
   "source": [
    "model.wv.similarity(\"boucher\", \"boulanger\")"
   ]
  },
  {
   "cell_type": "code",
   "execution_count": 31,
   "id": "f7527e20-dd33-477d-b3a5-aa662120123d",
   "metadata": {},
   "outputs": [
    {
     "data": {
      "text/plain": [
       "[('middelgrote_woningen', 0.7307690978050232),\n",
       " ('actes_accomplis', 0.7276468276977539),\n",
       " ('nist', 0.7273675203323364),\n",
       " ('riece', 0.7057778835296631),\n",
       " ('directrice', 0.6950398683547974),\n",
       " ('avrz', 0.6900056600570679),\n",
       " ('pusance', 0.688913881778717),\n",
       " ('mwellingen', 0.6862605214118958),\n",
       " ('noitedo', 0.6828559637069702),\n",
       " ('nivelles_vilvorde', 0.6795886754989624)]"
      ]
     },
     "execution_count": 31,
     "metadata": {},
     "output_type": "execute_result"
    }
   ],
   "source": [
    "model.wv.most_similar(\"bruxelles\", topn=10)"
   ]
  },
  {
   "cell_type": "code",
   "execution_count": 32,
   "id": "38f943d7-bd89-41c5-a18f-f4f5af1da77b",
   "metadata": {},
   "outputs": [
    {
     "name": "stdout",
     "output_type": "stream",
     "text": [
      "[('dessiccation', 0.7397866249084473), ('vts', 0.7307472229003906), ('insererez', 0.7049958109855652), ('immondices', 0.7017472386360168), ('warenhuis', 0.6798452138900757), ('note_plaisir', 0.6751720905303955), ('chaussee_anvers_rue_masui', 0.6659534573554993), ('admis_frequenter', 0.6645496487617493), ('comprend_pose_tuyaux_acier', 0.6629272699356079), ('effecluer', 0.6626400351524353)]\n"
     ]
    }
   ],
   "source": [
    "print(model.wv.most_similar(positive=['bruxelles', 'france'], negative=['belgique']))"
   ]
  },
  {
   "cell_type": "code",
   "execution_count": 33,
   "id": "959b7768-296f-496e-a949-0238773bd8df",
   "metadata": {},
   "outputs": [
    {
     "name": "stdout",
     "output_type": "stream",
     "text": [
      "[('fixer_suit', 0.6808350682258606), ('viiii', 0.6788467764854431), ('mesjieurs', 0.672312319278717), ('waarvan_sommige', 0.6688390970230103), ('jardins_enfants_ecoles_primaires', 0.6676877737045288), ('deduiraient', 0.6673752665519714), ('bibliotheque_artistique', 0.6673320531845093), ('laqken', 0.6583156585693359), ('auvents_location', 0.6574030518531799), ('fagrement', 0.6531345248222351)]\n"
     ]
    }
   ],
   "source": [
    "print(model.wv.most_similar(positive=['homme', 'roi'], negative=['femme']))"
   ]
  },
  {
   "cell_type": "code",
   "execution_count": 34,
   "id": "876aef6c-40a9-4e8e-8e3f-3495d374401d",
   "metadata": {},
   "outputs": [
    {
     "name": "stdout",
     "output_type": "stream",
     "text": [
      "[('manneken_pis_remises_costumes', 0.6827032566070557), ('chaux_tournay', 0.679751992225647), ('respiration', 0.6733065843582153), ('prool', 0.6648819446563721), ('fagard', 0.6567695736885071), ('while', 0.6546394228935242), ('femme_femme', 0.651695966720581), ('pimit', 0.6457104086875916), ('monteus', 0.6407697796821594), ('regentenregiem', 0.638964056968689)]\n"
     ]
    }
   ],
   "source": [
    "print(model.wv.most_similar(positive=['homme', 'bourgmestre'], negative=['femme']))"
   ]
  },
  {
   "cell_type": "code",
   "execution_count": 35,
   "id": "61326958-c056-4a3c-bc9d-c5ec68187b58",
   "metadata": {},
   "outputs": [
    {
     "name": "stdout",
     "output_type": "stream",
     "text": [
      "[('conseiller_heyvaert', 0.7409437298774719), ('loyers_proprietes', 0.7105417847633362), ('nivelles_vilvorde', 0.704888105392456), ('eclateront', 0.7030313611030579), ('societe_royale_philharmonie', 0.6978018879890442), ('aqaud', 0.6951518058776855), ('vivantes_enregistrees_bruxelles', 0.6911153197288513), ('etant_donne', 0.6867313385009766), ('ethode', 0.6825902462005615), ('rouanne', 0.6825338006019592)]\n"
     ]
    }
   ],
   "source": [
    "print(model.wv.most_similar(positive=['bourgmestre', 'bruxelles'], negative=['echevin']))"
   ]
  },
  {
   "cell_type": "code",
   "execution_count": 36,
   "id": "cafe7c23-0cc2-4206-a105-4c39a6539cec",
   "metadata": {},
   "outputs": [
    {
     "name": "stdout",
     "output_type": "stream",
     "text": [
      "[('arrelcs', 0.7184481024742126), ('pense_vaudrait', 0.7023138403892517), ('groscmcins', 0.6951763033866882), ('nisaties', 0.6934218406677246), ('ultramodernes', 0.6933059692382812), ('commissariats_divisions', 0.6890398263931274), ('sument', 0.6868327856063843), ('reponse_rassurante', 0.6861447691917419), ('prestations_accomplies', 0.6799437999725342), ('uobert', 0.6745166778564453)]\n"
     ]
    }
   ],
   "source": [
    "print(model.wv.most_similar(positive=['bruxelles', 'paris'], negative=['belgique']))"
   ]
  },
  {
   "cell_type": "code",
   "execution_count": 37,
   "id": "28533246-4f38-4e02-8cba-03a70ef5b561",
   "metadata": {},
   "outputs": [
    {
     "name": "stdout",
     "output_type": "stream",
     "text": [
      "[('omimnud', 0.7624201774597168), ('eoses', 0.7208698987960815), ('leurs_griefs', 0.7176406979560852), ('definitivement_acquises', 0.6963922381401062), ('doorfebovenstevakk', 0.6764378547668457), ('faible_redevance', 0.673572301864624), ('acidulee', 0.6691086888313293), ('dentistes_depots', 0.6676341891288757), ('georges_nelis', 0.6628955602645874), ('tabacs_bois', 0.6586688756942749)]\n"
     ]
    }
   ],
   "source": [
    "print(model.wv.most_similar(positive=['homme', 'fidelite'], negative=['femme']))"
   ]
  },
  {
   "cell_type": "code",
   "execution_count": 38,
   "id": "7d389cfc-2575-44c4-af45-f7d76ffff104",
   "metadata": {},
   "outputs": [
    {
     "name": "stdout",
     "output_type": "stream",
     "text": [
      "[('popu', 0.7023522257804871), ('eludes', 0.6969157457351685), ('chargee_cours_enseignement_professionnel', 0.6902368664741516), ('quinquennale_courbe', 0.6897304058074951), ('onvermijdbaar', 0.6756871938705444), ('ciaires', 0.6674429178237915), ('acfiuns', 0.6673502326011658), ('bouwfonds', 0.6636354923248291), ('ltntercommunale', 0.6633958220481873), ('zal_toelaten', 0.6590200662612915)]\n"
     ]
    }
   ],
   "source": [
    "print(model.wv.most_similar(positive=['femme', 'fidelite'], negative=['homme']))"
   ]
  },
  {
   "cell_type": "code",
   "execution_count": 39,
   "id": "0ff3abf0-7d66-4b2a-aafd-108aae018d77",
   "metadata": {},
   "outputs": [
    {
     "name": "stdout",
     "output_type": "stream",
     "text": [
      "[('gestemd_vote_servaes_heren', 0.7346726655960083), ('fusain_angle', 0.7324280142784119), ('bruxf', 0.7012267708778381), ('terugtrekt', 0.7010139226913452), ('krautli', 0.6997595429420471), ('inotfavt', 0.6851938366889954), ('baasrode', 0.6749435067176819), ('bouhez', 0.670317530632019), ('toute_reconnaissance', 0.6675642132759094), ('eail', 0.6591938138008118)]\n"
     ]
    }
   ],
   "source": [
    "print(model.wv.most_similar(positive=['femme', 'homme'], negative=['fidelite']))"
   ]
  },
  {
   "cell_type": "code",
   "execution_count": null,
   "id": "f32347df-9522-4bc4-bfc0-e83c86caa2c6",
   "metadata": {},
   "outputs": [],
   "source": []
  }
 ],
 "metadata": {
  "kernelspec": {
   "display_name": "Python 3 (ipykernel)",
   "language": "python",
   "name": "python3"
  },
  "language_info": {
   "codemirror_mode": {
    "name": "ipython",
    "version": 3
   },
   "file_extension": ".py",
   "mimetype": "text/x-python",
   "name": "python",
   "nbconvert_exporter": "python",
   "pygments_lexer": "ipython3",
   "version": "3.9.7"
  }
 },
 "nbformat": 4,
 "nbformat_minor": 5
}
