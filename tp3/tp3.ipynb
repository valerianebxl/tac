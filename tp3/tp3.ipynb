{
 "cells": [
  {
   "cell_type": "markdown",
   "id": "5470f524-1497-44a6-9fc1-b1541f376791",
   "metadata": {},
   "source": [
    "# Clustering et word2vec"
   ]
  },
  {
   "cell_type": "markdown",
   "id": "4aab9df9-3737-4fb0-9c57-ae33615ac09c",
   "metadata": {},
   "source": [
    "Sur la base des éléments méthodologiques et des enseignements techniques présentés lors du cours théorique, il est demandé dans le cadre de ce TP :\n",
    "- d’effectuer un clustering des bulletins pour une décennie au choix et d’interpréter les résultats\n",
    "- d’entraîner un modèle word2vec sur l’ensemble des bulletins et d’explorer les relations entre vecteurs\n",
    "\n",
    "Pour ce faire, vous utiliserez différentes librairies Python vues au cours comme scikit-learn et gensim."
   ]
  },
  {
   "cell_type": "markdown",
   "id": "2e2b4e5d-3872-4866-ae6c-3634788a4bab",
   "metadata": {},
   "source": [
    "#### Librairies nécessaires"
   ]
  },
  {
   "cell_type": "code",
   "execution_count": 247,
   "id": "f6482446-d572-4b0d-a966-864ba343f08c",
   "metadata": {},
   "outputs": [
    {
     "name": "stderr",
     "output_type": "stream",
     "text": [
      "[nltk_data] Downloading package punkt to /root/nltk_data...\n",
      "[nltk_data]   Package punkt is already up-to-date!\n"
     ]
    }
   ],
   "source": [
    "import collections\n",
    "import os\n",
    "import string\n",
    "import sys\n",
    "\n",
    "import pandas as pd\n",
    "\n",
    "import nltk\n",
    "nltk.download('punkt')\n",
    "from nltk import word_tokenize\n",
    "from nltk.corpus import stopwords\n",
    "from nltk.tokenize import wordpunct_tokenize\n",
    "from unidecode import unidecode\n",
    "\n",
    "from pprint import pprint\n",
    "\n",
    "from sklearn.cluster import KMeans\n",
    "from sklearn.feature_extraction.text import TfidfVectorizer\n",
    "from sklearn.decomposition import PCA\n",
    "\n",
    "import numpy as np\n",
    "import matplotlib.pyplot as plt\n",
    "from scipy.spatial.distance import cosine\n",
    "\n",
    "from gensim.models.phrases import Phrases, Phraser\n",
    "from gensim.models import Word2Vec"
   ]
  },
  {
   "cell_type": "markdown",
   "id": "57efd957-74d6-41a4-9abe-ca82e914a281",
   "metadata": {
    "tags": []
   },
   "source": [
    "## 1. Clustering"
   ]
  },
  {
   "cell_type": "markdown",
   "id": "6947063d-fec4-4d80-bac9-c47532d17c7e",
   "metadata": {},
   "source": [
    "#### Choisir une décénie et charger les fichiers"
   ]
  },
  {
   "cell_type": "code",
   "execution_count": 248,
   "id": "4e08f473-9591-49d4-8a42-1a7605a926e2",
   "metadata": {},
   "outputs": [],
   "source": [
    "data_path = \"../data/txt/\""
   ]
  },
  {
   "cell_type": "code",
   "execution_count": 249,
   "id": "cb0db02c-aa8e-45cf-afa1-cefe53befabb",
   "metadata": {},
   "outputs": [],
   "source": [
    "DECADE = '1960'"
   ]
  },
  {
   "cell_type": "code",
   "execution_count": 250,
   "id": "73bedfb4-0767-4f78-950c-1a87921a00c9",
   "metadata": {},
   "outputs": [],
   "source": [
    "files = [f for f in sorted(os.listdir(data_path)) if f\"_{DECADE[:-1]}\" in f]"
   ]
  },
  {
   "cell_type": "code",
   "execution_count": 251,
   "id": "27a15880-7313-4b62-8e38-e532a7e34c48",
   "metadata": {},
   "outputs": [
    {
     "data": {
      "text/plain": [
       "['Bxl_1960_Tome_II1_Part_1.txt',\n",
       " 'Bxl_1960_Tome_II1_Part_2.txt',\n",
       " 'Bxl_1960_Tome_II1_Part_3.txt',\n",
       " 'Bxl_1960_Tome_II1_Part_4.txt',\n",
       " 'Bxl_1960_Tome_II1_Part_5.txt']"
      ]
     },
     "execution_count": 251,
     "metadata": {},
     "output_type": "execute_result"
    }
   ],
   "source": [
    "# vérifier les fichiers\n",
    "files[:5]"
   ]
  },
  {
   "cell_type": "code",
   "execution_count": 252,
   "id": "2923094a-1658-43a7-bf81-8004eb85db85",
   "metadata": {},
   "outputs": [],
   "source": [
    "texts = [open(data_path + f).read() for f in files]"
   ]
  },
  {
   "cell_type": "code",
   "execution_count": 253,
   "id": "1e685ea9-881f-4a9c-9338-9c919c713006",
   "metadata": {},
   "outputs": [
    {
     "data": {
      "text/plain": [
       "'PUBLICATION\\n\\nPERIODIQUE\\n\\nVILLE DE BRUXELLES\\n\\nAnnée 1960\\n\\nBULLETIN\\nCOMMUNAL\\nTOME II \"\\n_u\\n\\nImpr. H . 6 M . S C H A U M A N S\\nSociété\\n\\nAnonyme\\n\\nParvis Saint-Gilles, 41\\nBruxelles\\n1960\\n\\n\\x0c\\x0cN\" 14\\n\\nCOMPTE\\n\\nR E N D U D E L A S E A N C E D U 1\"\\' A O U T\\n\\nVILLE\\n\\nDE\\n\\n1960\\n\\nBRUXELLES\\n\\nBULLETIN\\n\\nCOMMUNAL\\n\\n(Publication\\n\\npériodique)\\n\\nA n n é e 1960\\n\\nCONSEIL\\n\\nS é a n c e du\\n\\nPRESIDENCE\\n\\nCOMMUNAL\\n\\n1\\n\\ner\\n\\naoût\\n\\nDE M'"
      ]
     },
     "execution_count": 253,
     "metadata": {},
     "output_type": "execute_result"
    }
   ],
   "source": [
    "# explorer un texte\n",
    "texts[0][:400]"
   ]
  },
  {
   "cell_type": "markdown",
   "id": "3b02e3e9-1e3a-4b52-b983-80932617467a",
   "metadata": {},
   "source": [
    "#### Vectoriser les fichiers"
   ]
  },
  {
   "cell_type": "code",
   "execution_count": 254,
   "id": "5285df39-20d1-4fa0-b0f1-f3ffed3c778d",
   "metadata": {},
   "outputs": [],
   "source": [
    "# Création d'une fonction de pré-traitement\n",
    "def preprocessing(text, stem=True):\n",
    "    \"\"\" Tokenize text and remove punctuation \"\"\"\n",
    "    text = text.translate(string.punctuation)\n",
    "    tokens = word_tokenize(text)\n",
    "    return tokens"
   ]
  },
  {
   "cell_type": "code",
   "execution_count": 255,
   "id": "429d2540-fc96-4108-ad3e-ceda1c0cdd31",
   "metadata": {},
   "outputs": [],
   "source": [
    "# instancier le modèle\n",
    "vectorizer = TfidfVectorizer(\n",
    "    tokenizer=preprocessing,\n",
    "    stop_words=stopwords.words('french'),\n",
    "    max_df=0.5,\n",
    "    min_df=0.1,\n",
    "    lowercase=True)"
   ]
  },
  {
   "cell_type": "code",
   "execution_count": 256,
   "id": "26ebdc26-de40-44e9-8bb9-7426b51c1e89",
   "metadata": {},
   "outputs": [
    {
     "name": "stdout",
     "output_type": "stream",
     "text": [
      "CPU times: user 3min 12s, sys: 0 ns, total: 3min 12s\n",
      "Wall time: 3min 12s\n"
     ]
    }
   ],
   "source": [
    "# construire la matrice\n",
    "%time tfidf_vectors = vectorizer.fit_transform(texts)"
   ]
  },
  {
   "cell_type": "code",
   "execution_count": 257,
   "id": "880a698a-620f-4bc9-b3a9-8c90e72d7064",
   "metadata": {},
   "outputs": [
    {
     "data": {
      "text/plain": [
       "+considérant    0.300647\n",
       "fer             0.228639\n",
       "curage          0.207466\n",
       "dma             0.153796\n",
       "art             0.147675\n",
       "                  ...   \n",
       "engagé          0.000000\n",
       "engager         0.000000\n",
       "engagements     0.000000\n",
       "engage          0.000000\n",
       "™               0.000000\n",
       "Length: 6466, dtype: float64"
      ]
     },
     "execution_count": 257,
     "metadata": {},
     "output_type": "execute_result"
    }
   ],
   "source": [
    "# vecteur du premier document\n",
    "pd.Series(\n",
    "    tfidf_vectors[0].toarray()[0],\n",
    "    index=vectorizer.get_feature_names_out()\n",
    "    ).sort_values(ascending=False)"
   ]
  },
  {
   "cell_type": "code",
   "execution_count": 258,
   "id": "c65c348d-1000-4636-800a-105cf9ca8f74",
   "metadata": {},
   "outputs": [],
   "source": [
    "# transfert vers un tableau pour effectuer des tests\n",
    "tfidf_array = tfidf_vectors.toarray()"
   ]
  },
  {
   "cell_type": "markdown",
   "id": "bffee5cb-5b7a-4a67-92a0-3afc8880b358",
   "metadata": {},
   "source": [
    "#### Appliquer un algorithme de clustering sur les vecteurs TF-IDF des documents"
   ]
  },
  {
   "cell_type": "code",
   "execution_count": 265,
   "id": "b54864e0-39ca-495b-9ce0-8642baef7246",
   "metadata": {},
   "outputs": [],
   "source": [
    "N_CLUSTERS = 6"
   ]
  },
  {
   "cell_type": "markdown",
   "id": "904a9a47-ac41-4bfc-b0ce-57db830332db",
   "metadata": {},
   "source": [
    "#### Instancier le modèle K-Means et ses arguments"
   ]
  },
  {
   "cell_type": "code",
   "execution_count": 266,
   "id": "8335269b-f5d0-447c-9d67-54ddb91c6fdb",
   "metadata": {},
   "outputs": [],
   "source": [
    "km_model = KMeans(n_clusters=N_CLUSTERS, random_state = 42)"
   ]
  },
  {
   "cell_type": "markdown",
   "id": "9a0ed58d-bd5f-4dd3-acda-73b4580d6800",
   "metadata": {},
   "source": [
    "#### Appliquer le clustering à l'aide de la fonction `fit_predict`"
   ]
  },
  {
   "cell_type": "code",
   "execution_count": 267,
   "id": "4d3b79af-b282-4788-93e7-abc448d681ef",
   "metadata": {},
   "outputs": [],
   "source": [
    "clusters = km_model.fit_predict(tfidf_vectors)"
   ]
  },
  {
   "cell_type": "code",
   "execution_count": 268,
   "id": "7f95626e-7c34-4150-a982-62d22bbdc1b9",
   "metadata": {},
   "outputs": [],
   "source": [
    "clustering = collections.defaultdict(list)\n",
    "\n",
    "for idx, label in enumerate(clusters):\n",
    "    clustering[label].append(files[idx])"
   ]
  },
  {
   "cell_type": "markdown",
   "id": "9222632d-bb7a-4341-8e03-2188ea658713",
   "metadata": {},
   "source": [
    "#### Réduire les vecteurs à 2 dimensions à l'aide de l'algorithme PCA"
   ]
  },
  {
   "cell_type": "code",
   "execution_count": 269,
   "id": "6c8c7bae-06de-4bf3-a727-b3d028a8a4a4",
   "metadata": {},
   "outputs": [],
   "source": [
    "pca = PCA(n_components=2)\n",
    "reduced_vectors = pca.fit_transform(tfidf_vectors.toarray())"
   ]
  },
  {
   "cell_type": "markdown",
   "id": "4329eb08-2517-44c5-9e7f-61cc5fc8d5b2",
   "metadata": {},
   "source": [
    "### Générer le plot"
   ]
  },
  {
   "cell_type": "code",
   "execution_count": 270,
   "id": "7962650b-43c0-42ef-86f4-097225442012",
   "metadata": {},
   "outputs": [
    {
     "data": {
      "text/plain": [
       "<matplotlib.legend.Legend at 0x7f01fa151940>"
      ]
     },
     "execution_count": 270,
     "metadata": {},
     "output_type": "execute_result"
    },
    {
     "data": {
      "image/png": "[encoded data removed]",
      "text/plain": [
       "<Figure size 720x720 with 1 Axes>"
      ]
     },
     "metadata": {
      "needs_background": "light"
     },
     "output_type": "display_data"
    }
   ],
   "source": [
    "x_axis = reduced_vectors[:, 0]\n",
    "y_axis = reduced_vectors[:, 1]\n",
    "\n",
    "plt.figure(figsize=(10,10))\n",
    "scatter = plt.scatter(x_axis, y_axis, s=100, c=clusters)\n",
    "\n",
    "# Ajouter les centroïdes\n",
    "centroids = pca.transform(km_model.cluster_centers_)\n",
    "plt.scatter(centroids[:, 0], centroids[:, 1],  marker = \"x\", s=100, linewidths = 2, color='black')\n",
    "\n",
    "# Ajouter la légende\n",
    "plt.legend(handles=scatter.legend_elements()[0], labels=set(clusters), title=\"Clusters\")"
   ]
  },
  {
   "cell_type": "code",
   "execution_count": 271,
   "id": "32d20070-4162-4bba-b073-fd54d48505ea",
   "metadata": {},
   "outputs": [
    {
     "name": "stdout",
     "output_type": "stream",
     "text": [
      "{0: ['Bxl_1962_Tome_II1_Part_3.txt',\n",
      "     'Bxl_1963_Tome_II1_Part_6.txt',\n",
      "     'Bxl_1963_Tome_II2_Part_8.txt',\n",
      "     'Bxl_1964_Tome_II1_Part_4.txt',\n",
      "     'Bxl_1964_Tome_II1_Part_6.txt',\n",
      "     'Bxl_1965_Tome_II1_Part_1.txt',\n",
      "     'Bxl_1965_Tome_II1_Part_7.txt',\n",
      "     'Bxl_1965_Tome_II1_Part_9.txt',\n",
      "     'Bxl_1965_Tome_II2_Part_10.txt',\n",
      "     'Bxl_1965_Tome_II2_Part_11.txt',\n",
      "     'Bxl_1965_Tome_II2_Part_12.txt',\n",
      "     'Bxl_1965_Tome_II2_Part_9.txt',\n",
      "     'Bxl_1965_Tome_I_Part_1.txt',\n",
      "     'Bxl_1965_Tome_I_Part_12.txt',\n",
      "     'Bxl_1965_Tome_I_Part_2.txt',\n",
      "     'Bxl_1965_Tome_I_Part_3.txt',\n",
      "     'Bxl_1965_Tome_I_Part_4.txt',\n",
      "     'Bxl_1965_Tome_I_Part_6.txt',\n",
      "     'Bxl_1966_Tome_I1_Part_1.txt',\n",
      "     'Bxl_1966_Tome_I1_Part_10.txt',\n",
      "     'Bxl_1966_Tome_I1_Part_4.txt',\n",
      "     'Bxl_1966_Tome_I1_Part_5.txt',\n",
      "     'Bxl_1966_Tome_I1_Part_6.txt',\n",
      "     'Bxl_1966_Tome_I1_Part_7.txt',\n",
      "     'Bxl_1966_Tome_I1_Part_9.txt',\n",
      "     'Bxl_1966_Tome_I2_Part_4.txt',\n",
      "     'Bxl_1966_Tome_I2_Part_6.txt',\n",
      "     'Bxl_1966_Tome_I2_Part_7.txt',\n",
      "     'Bxl_1966_Tome_I2_Part_8.txt',\n",
      "     'Bxl_1966_Tome_I2_Part_9.txt',\n",
      "     'Bxl_1966_Tome_II1_Part_10.txt',\n",
      "     'Bxl_1966_Tome_II1_Part_11.txt',\n",
      "     'Bxl_1966_Tome_II1_Part_3.txt',\n",
      "     'Bxl_1966_Tome_II1_Part_4.txt',\n",
      "     'Bxl_1966_Tome_II1_Part_5.txt',\n",
      "     'Bxl_1966_Tome_II1_Part_6.txt',\n",
      "     'Bxl_1966_Tome_II1_Part_7.txt',\n",
      "     'Bxl_1966_Tome_II2_Part_11.txt',\n",
      "     'Bxl_1966_Tome_II2_Part_12.txt',\n",
      "     'Bxl_1966_Tome_II2_Part_2.txt',\n",
      "     'Bxl_1966_Tome_II2_Part_3.txt',\n",
      "     'Bxl_1966_Tome_II2_Part_4.txt',\n",
      "     'Bxl_1966_Tome_II2_Part_6.txt',\n",
      "     'Bxl_1966_Tome_II2_Part_7.txt',\n",
      "     'Bxl_1966_Tome_II2_Part_8.txt',\n",
      "     'Bxl_1967_Tome_I1_Part_1.txt',\n",
      "     'Bxl_1967_Tome_I1_Part_10.txt',\n",
      "     'Bxl_1967_Tome_I1_Part_3.txt',\n",
      "     'Bxl_1967_Tome_I1_Part_4.txt',\n",
      "     'Bxl_1967_Tome_I1_Part_5.txt',\n",
      "     'Bxl_1967_Tome_I1_Part_6.txt',\n",
      "     'Bxl_1967_Tome_I1_Part_8.txt',\n",
      "     'Bxl_1967_Tome_I1_Part_9.txt',\n",
      "     'Bxl_1967_Tome_I2_Part_1.txt',\n",
      "     'Bxl_1967_Tome_I2_Part_2.txt',\n",
      "     'Bxl_1967_Tome_I2_Part_3.txt',\n",
      "     'Bxl_1967_Tome_I2_Part_4.txt',\n",
      "     'Bxl_1967_Tome_I2_Part_5.txt',\n",
      "     'Bxl_1967_Tome_I2_Part_6.txt',\n",
      "     'Bxl_1967_Tome_I2_Part_7.txt',\n",
      "     'Bxl_1967_Tome_I2_Part_8.txt',\n",
      "     'Bxl_1967_Tome_I2_Part_9.txt',\n",
      "     'Bxl_1967_Tome_II1_Part_1.txt',\n",
      "     'Bxl_1967_Tome_II1_Part_10.txt',\n",
      "     'Bxl_1967_Tome_II1_Part_2.txt',\n",
      "     'Bxl_1967_Tome_II1_Part_5.txt',\n",
      "     'Bxl_1967_Tome_II1_Part_6.txt',\n",
      "     'Bxl_1967_Tome_II1_Part_8.txt',\n",
      "     'Bxl_1967_Tome_II1_Part_9.txt',\n",
      "     'Bxl_1967_Tome_II2_Part_10.txt',\n",
      "     'Bxl_1967_Tome_II2_Part_3.txt',\n",
      "     'Bxl_1967_Tome_II2_Part_4.txt',\n",
      "     'Bxl_1967_Tome_II2_Part_7.txt',\n",
      "     'Bxl_1967_Tome_II2_Part_8.txt',\n",
      "     'Bxl_1967_Tome_II2_Part_9.txt',\n",
      "     'Bxl_1968_Tome_I1_Part_1.txt',\n",
      "     'Bxl_1968_Tome_I1_Part_2.txt',\n",
      "     'Bxl_1968_Tome_I1_Part_3.txt',\n",
      "     'Bxl_1968_Tome_I1_Part_8.txt',\n",
      "     'Bxl_1968_Tome_I1_Part_9.txt',\n",
      "     'Bxl_1968_Tome_I2_Part_1.txt',\n",
      "     'Bxl_1968_Tome_I2_Part_2.txt',\n",
      "     'Bxl_1968_Tome_I2_Part_3.txt',\n",
      "     'Bxl_1968_Tome_I2_Part_4.txt',\n",
      "     'Bxl_1968_Tome_I2_Part_5.txt',\n",
      "     'Bxl_1968_Tome_I2_Part_6.txt',\n",
      "     'Bxl_1968_Tome_I2_Part_7.txt',\n",
      "     'Bxl_1968_Tome_II1_Part_5.txt',\n",
      "     'Bxl_1968_Tome_II1_Part_6.txt',\n",
      "     'Bxl_1968_Tome_II1_Part_7.txt',\n",
      "     'Bxl_1968_Tome_II2_Part_10.txt',\n",
      "     'Bxl_1968_Tome_II2_Part_13.txt',\n",
      "     'Bxl_1968_Tome_II2_Part_2.txt',\n",
      "     'Bxl_1968_Tome_II2_Part_3.txt',\n",
      "     'Bxl_1968_Tome_II2_Part_4.txt',\n",
      "     'Bxl_1968_Tome_II2_Part_5.txt',\n",
      "     'Bxl_1968_Tome_II2_Part_7.txt'],\n",
      " 1: ['Bxl_1960_Tome_II2_Part_7.txt',\n",
      "     'Bxl_1960_Tome_II2_Part_8.txt',\n",
      "     'Bxl_1960_Tome_II2_Part_9.txt',\n",
      "     'Bxl_1960_Tome_I_Part_12.txt',\n",
      "     'Bxl_1960_Tome_I_Part_13.txt',\n",
      "     'Bxl_1961_Tome_II2_Part_7.txt',\n",
      "     'Bxl_1961_Tome_II2_Part_8.txt',\n",
      "     'Bxl_1961_Tome_I_Part_11.txt',\n",
      "     'Bxl_1961_Tome_I_Part_12.txt',\n",
      "     'Bxl_1962_Tome_II2_Part_8.txt',\n",
      "     'Bxl_1962_Tome_II2_Part_9.txt',\n",
      "     'Bxl_1962_Tome_I_Part_12.txt',\n",
      "     'Bxl_1962_Tome_I_Part_13.txt',\n",
      "     'Bxl_1963_Tome_II2_Part_11.txt',\n",
      "     'Bxl_1963_Tome_II2_Part_12.txt',\n",
      "     'Bxl_1963_Tome_I_Part_12.txt',\n",
      "     'Bxl_1963_Tome_I_Part_13.txt',\n",
      "     'Bxl_1964_Tome_II2_Part_10.txt',\n",
      "     'Bxl_1964_Tome_II2_Part_11.txt',\n",
      "     'Bxl_1964_Tome_I_Part_14.txt',\n",
      "     'Bxl_1965_Tome_II2_Part_13.txt',\n",
      "     'Bxl_1965_Tome_II2_Part_14.txt',\n",
      "     'Bxl_1965_Tome_I_Part_13.txt',\n",
      "     'Bxl_1965_Tome_I_Part_14.txt',\n",
      "     'Bxl_1966_Tome_I2_Part_10.txt',\n",
      "     'Bxl_1966_Tome_I2_Part_11.txt',\n",
      "     'Bxl_1966_Tome_II2_Part_13.txt',\n",
      "     'Bxl_1966_Tome_II2_Part_14.txt',\n",
      "     'Bxl_1967_Tome_I2_Part_10.txt',\n",
      "     'Bxl_1968_Tome_I2_Part_8.txt',\n",
      "     'Bxl_1968_Tome_I2_Part_9.txt',\n",
      "     'Bxl_1968_Tome_II1_Part_8.txt',\n",
      "     'Bxl_1968_Tome_II1_Part_9.txt',\n",
      "     'Bxl_1969_Tome_I2_Part_10.txt',\n",
      "     'Bxl_1969_Tome_II2_Part_12.txt',\n",
      "     'Bxl_1969_Tome_II2_Part_13.txt'],\n",
      " 2: ['Bxl_1960_Tome_II1_Part_1.txt',\n",
      "     'Bxl_1960_Tome_II1_Part_2.txt',\n",
      "     'Bxl_1960_Tome_II1_Part_4.txt',\n",
      "     'Bxl_1960_Tome_II1_Part_7.txt',\n",
      "     'Bxl_1960_Tome_II1_Part_8.txt',\n",
      "     'Bxl_1960_Tome_II2_Part_5.txt',\n",
      "     'Bxl_1960_Tome_I_Part_1.txt',\n",
      "     'Bxl_1960_Tome_I_Part_10.txt',\n",
      "     'Bxl_1960_Tome_I_Part_2.txt',\n",
      "     'Bxl_1960_Tome_I_Part_9.txt',\n",
      "     'Bxl_1961_Tome_II1_Part_1.txt',\n",
      "     'Bxl_1961_Tome_II1_Part_2.txt',\n",
      "     'Bxl_1961_Tome_II1_Part_3.txt',\n",
      "     'Bxl_1961_Tome_II1_Part_4.txt',\n",
      "     'Bxl_1961_Tome_II1_Part_5.txt',\n",
      "     'Bxl_1961_Tome_II1_Part_7.txt',\n",
      "     'Bxl_1961_Tome_II2_Part_6.txt',\n",
      "     'Bxl_1961_Tome_I_Part_1.txt',\n",
      "     'Bxl_1961_Tome_I_Part_10.txt',\n",
      "     'Bxl_1961_Tome_I_Part_2.txt',\n",
      "     'Bxl_1961_Tome_I_Part_7.txt',\n",
      "     'Bxl_1961_Tome_I_Part_9.txt',\n",
      "     'Bxl_1962_Tome_II1_Part_1.txt',\n",
      "     'Bxl_1962_Tome_II1_Part_2.txt',\n",
      "     'Bxl_1962_Tome_II1_Part_5.txt',\n",
      "     'Bxl_1962_Tome_II1_Part_6.txt',\n",
      "     'Bxl_1962_Tome_II1_Part_7.txt',\n",
      "     'Bxl_1962_Tome_II1_Part_8.txt',\n",
      "     'Bxl_1962_Tome_II2_Part_1.txt',\n",
      "     'Bxl_1962_Tome_II2_Part_7.txt',\n",
      "     'Bxl_1962_Tome_I_Part_1.txt',\n",
      "     'Bxl_1962_Tome_I_Part_11.txt',\n",
      "     'Bxl_1962_Tome_I_Part_2.txt',\n",
      "     'Bxl_1962_Tome_I_Part_6.txt',\n",
      "     'Bxl_1962_Tome_I_Part_7.txt',\n",
      "     'Bxl_1963_Tome_II1_Part_2.txt',\n",
      "     'Bxl_1963_Tome_II1_Part_3.txt',\n",
      "     'Bxl_1963_Tome_II1_Part_4.txt',\n",
      "     'Bxl_1963_Tome_II1_Part_5.txt',\n",
      "     'Bxl_1963_Tome_II1_Part_7.txt',\n",
      "     'Bxl_1963_Tome_I_Part_10.txt',\n",
      "     'Bxl_1963_Tome_I_Part_2.txt',\n",
      "     'Bxl_1963_Tome_I_Part_3.txt',\n",
      "     'Bxl_1963_Tome_I_Part_4.txt',\n",
      "     'Bxl_1963_Tome_I_Part_8.txt',\n",
      "     'Bxl_1964_Tome_II1_Part_1.txt',\n",
      "     'Bxl_1964_Tome_II1_Part_10.txt',\n",
      "     'Bxl_1964_Tome_II1_Part_2.txt',\n",
      "     'Bxl_1964_Tome_II1_Part_3.txt',\n",
      "     'Bxl_1964_Tome_II1_Part_5.txt',\n",
      "     'Bxl_1964_Tome_I_Part_1.txt',\n",
      "     'Bxl_1964_Tome_I_Part_13.txt',\n",
      "     'Bxl_1964_Tome_I_Part_3.txt',\n",
      "     'Bxl_1964_Tome_I_Part_5.txt',\n",
      "     'Bxl_1964_Tome_I_Part_7.txt',\n",
      "     'Bxl_1964_Tome_I_Part_8.txt',\n",
      "     'Bxl_1965_Tome_II1_Part_3.txt',\n",
      "     'Bxl_1965_Tome_II1_Part_4.txt',\n",
      "     'Bxl_1965_Tome_II1_Part_6.txt',\n",
      "     'Bxl_1965_Tome_II1_Part_8.txt',\n",
      "     'Bxl_1965_Tome_II2_Part_4.txt',\n",
      "     'Bxl_1965_Tome_I_Part_5.txt'],\n",
      " 3: ['Bxl_1968_Tome_II1_Part_2.txt',\n",
      "     'Bxl_1968_Tome_II1_Part_3.txt',\n",
      "     'Bxl_1968_Tome_II1_Part_4.txt',\n",
      "     'Bxl_1969_Tome_I1_Part_1.txt',\n",
      "     'Bxl_1969_Tome_I1_Part_2.txt',\n",
      "     'Bxl_1969_Tome_I1_Part_3.txt',\n",
      "     'Bxl_1969_Tome_I1_Part_4.txt',\n",
      "     'Bxl_1969_Tome_I1_Part_5.txt',\n",
      "     'Bxl_1969_Tome_I1_Part_6.txt',\n",
      "     'Bxl_1969_Tome_I1_Part_7.txt',\n",
      "     'Bxl_1969_Tome_I1_Part_8.txt',\n",
      "     'Bxl_1969_Tome_I2_Part_1.txt',\n",
      "     'Bxl_1969_Tome_I2_Part_2.txt',\n",
      "     'Bxl_1969_Tome_I2_Part_4.txt',\n",
      "     'Bxl_1969_Tome_I2_Part_5.txt',\n",
      "     'Bxl_1969_Tome_I2_Part_6.txt',\n",
      "     'Bxl_1969_Tome_I2_Part_7.txt',\n",
      "     'Bxl_1969_Tome_I2_Part_8.txt',\n",
      "     'Bxl_1969_Tome_I2_Part_9.txt',\n",
      "     'Bxl_1969_Tome_II1_Part_1.txt',\n",
      "     'Bxl_1969_Tome_II1_Part_2.txt',\n",
      "     'Bxl_1969_Tome_II1_Part_3.txt',\n",
      "     'Bxl_1969_Tome_II1_Part_4.txt',\n",
      "     'Bxl_1969_Tome_II1_Part_5.txt',\n",
      "     'Bxl_1969_Tome_II1_Part_6.txt',\n",
      "     'Bxl_1969_Tome_II1_Part_7.txt',\n",
      "     'Bxl_1969_Tome_II1_Part_8.txt',\n",
      "     'Bxl_1969_Tome_II2_Part_1.txt',\n",
      "     'Bxl_1969_Tome_II2_Part_10.txt',\n",
      "     'Bxl_1969_Tome_II2_Part_11.txt',\n",
      "     'Bxl_1969_Tome_II2_Part_2.txt',\n",
      "     'Bxl_1969_Tome_II2_Part_3.txt',\n",
      "     'Bxl_1969_Tome_II2_Part_4.txt',\n",
      "     'Bxl_1969_Tome_II2_Part_5.txt',\n",
      "     'Bxl_1969_Tome_II2_Part_6.txt',\n",
      "     'Bxl_1969_Tome_II2_Part_7.txt',\n",
      "     'Bxl_1969_Tome_II2_Part_8.txt',\n",
      "     'Bxl_1969_Tome_II2_Part_9.txt'],\n",
      " 4: ['Bxl_1963_Tome_II1_Part_8.txt',\n",
      "     'Bxl_1963_Tome_II1_Part_9.txt',\n",
      "     'Bxl_1963_Tome_II2_Part_2.txt',\n",
      "     'Bxl_1963_Tome_II2_Part_3.txt',\n",
      "     'Bxl_1963_Tome_II2_Part_4.txt',\n",
      "     'Bxl_1963_Tome_II2_Part_5.txt',\n",
      "     'Bxl_1964_Tome_II1_Part_8.txt',\n",
      "     'Bxl_1964_Tome_II1_Part_9.txt',\n",
      "     'Bxl_1964_Tome_II2_Part_1.txt',\n",
      "     'Bxl_1964_Tome_II2_Part_2.txt',\n",
      "     'Bxl_1964_Tome_II2_Part_3.txt',\n",
      "     'Bxl_1964_Tome_II2_Part_7.txt',\n",
      "     'Bxl_1964_Tome_II2_Part_9.txt',\n",
      "     'Bxl_1964_Tome_I_Part_9.txt',\n",
      "     'Bxl_1965_Tome_II1_Part_2.txt',\n",
      "     'Bxl_1965_Tome_II1_Part_5.txt',\n",
      "     'Bxl_1965_Tome_II2_Part_1.txt',\n",
      "     'Bxl_1965_Tome_II2_Part_2.txt',\n",
      "     'Bxl_1965_Tome_II2_Part_3.txt',\n",
      "     'Bxl_1965_Tome_II2_Part_5.txt',\n",
      "     'Bxl_1965_Tome_II2_Part_7.txt',\n",
      "     'Bxl_1965_Tome_II2_Part_8.txt',\n",
      "     'Bxl_1965_Tome_I_Part_10.txt',\n",
      "     'Bxl_1965_Tome_I_Part_11.txt',\n",
      "     'Bxl_1965_Tome_I_Part_7.txt',\n",
      "     'Bxl_1965_Tome_I_Part_8.txt',\n",
      "     'Bxl_1965_Tome_I_Part_9.txt',\n",
      "     'Bxl_1965_Tome_RptAn_Part_4.txt',\n",
      "     'Bxl_1965_Tome_RptAn_Part_5.txt',\n",
      "     'Bxl_1965_Tome_RptAn_Part_6.txt',\n",
      "     'Bxl_1965_Tome_RptAn_Part_7.txt',\n",
      "     'Bxl_1966_Tome_I1_Part_2.txt',\n",
      "     'Bxl_1966_Tome_I1_Part_3.txt',\n",
      "     'Bxl_1966_Tome_I1_Part_8.txt',\n",
      "     'Bxl_1966_Tome_I2_Part_1.txt',\n",
      "     'Bxl_1966_Tome_I2_Part_2.txt',\n",
      "     'Bxl_1966_Tome_I2_Part_3.txt',\n",
      "     'Bxl_1966_Tome_I2_Part_5.txt',\n",
      "     'Bxl_1966_Tome_II1_Part_1.txt',\n",
      "     'Bxl_1966_Tome_II1_Part_2.txt',\n",
      "     'Bxl_1966_Tome_II1_Part_8.txt',\n",
      "     'Bxl_1966_Tome_II1_Part_9.txt',\n",
      "     'Bxl_1966_Tome_II2_Part_1.txt',\n",
      "     'Bxl_1966_Tome_II2_Part_5.txt',\n",
      "     'Bxl_1966_Tome_II2_Part_9.txt',\n",
      "     'Bxl_1966_Tome_RptAn_Part_4.txt',\n",
      "     'Bxl_1966_Tome_RptAn_Part_5.txt',\n",
      "     'Bxl_1966_Tome_RptAn_Part_6.txt',\n",
      "     'Bxl_1967_Tome_I1_Part_2.txt',\n",
      "     'Bxl_1967_Tome_I1_Part_7.txt',\n",
      "     'Bxl_1967_Tome_II1_Part_3.txt',\n",
      "     'Bxl_1967_Tome_II1_Part_7.txt',\n",
      "     'Bxl_1967_Tome_II2_Part_1.txt',\n",
      "     'Bxl_1967_Tome_II2_Part_2.txt',\n",
      "     'Bxl_1967_Tome_II2_Part_5.txt',\n",
      "     'Bxl_1967_Tome_II2_Part_6.txt',\n",
      "     'Bxl_1968_Tome_I1_Part_4.txt',\n",
      "     'Bxl_1968_Tome_I1_Part_5.txt',\n",
      "     'Bxl_1968_Tome_I1_Part_6.txt',\n",
      "     'Bxl_1968_Tome_I1_Part_7.txt',\n",
      "     'Bxl_1968_Tome_II1_Part_1.txt',\n",
      "     'Bxl_1968_Tome_II2_Part_11.txt',\n",
      "     'Bxl_1968_Tome_II2_Part_12.txt',\n",
      "     'Bxl_1968_Tome_II2_Part_8.txt',\n",
      "     'Bxl_1968_Tome_II2_Part_9.txt',\n",
      "     'Bxl_1969_Tome_RptAn_Part_4.txt',\n",
      "     'Bxl_1969_Tome_RptAn_Part_5.txt',\n",
      "     'Bxl_1969_Tome_RptAn_Part_6.txt',\n",
      "     'Bxl_1969_Tome_RptAn_Part_7.txt'],\n",
      " 5: ['Bxl_1960_Tome_II1_Part_3.txt',\n",
      "     'Bxl_1960_Tome_II1_Part_5.txt',\n",
      "     'Bxl_1960_Tome_II1_Part_6.txt',\n",
      "     'Bxl_1960_Tome_II2_Part_1.txt',\n",
      "     'Bxl_1960_Tome_II2_Part_2.txt',\n",
      "     'Bxl_1960_Tome_II2_Part_3.txt',\n",
      "     'Bxl_1960_Tome_II2_Part_4.txt',\n",
      "     'Bxl_1960_Tome_II2_Part_6.txt',\n",
      "     'Bxl_1960_Tome_I_Part_11.txt',\n",
      "     'Bxl_1960_Tome_I_Part_3.txt',\n",
      "     'Bxl_1960_Tome_I_Part_4.txt',\n",
      "     'Bxl_1960_Tome_I_Part_5.txt',\n",
      "     'Bxl_1960_Tome_I_Part_6.txt',\n",
      "     'Bxl_1960_Tome_I_Part_7.txt',\n",
      "     'Bxl_1960_Tome_I_Part_8.txt',\n",
      "     'Bxl_1960_Tome_RptAn_Part_1.txt',\n",
      "     'Bxl_1960_Tome_RptAn_Part_2.txt',\n",
      "     'Bxl_1960_Tome_RptAn_Part_3.txt',\n",
      "     'Bxl_1960_Tome_RptAn_Part_4.txt',\n",
      "     'Bxl_1960_Tome_RptAn_Part_5.txt',\n",
      "     'Bxl_1960_Tome_RptAn_Part_6.txt',\n",
      "     'Bxl_1960_Tome_RptAn_Part_7.txt',\n",
      "     'Bxl_1960_Tome_RptAn_Part_8.txt',\n",
      "     'Bxl_1960_Tome_RptAn_Part_9.txt',\n",
      "     'Bxl_1961_Tome_II1_Part_6.txt',\n",
      "     'Bxl_1961_Tome_II1_Part_8.txt',\n",
      "     'Bxl_1961_Tome_II2_Part_1.txt',\n",
      "     'Bxl_1961_Tome_II2_Part_2.txt',\n",
      "     'Bxl_1961_Tome_II2_Part_3.txt',\n",
      "     'Bxl_1961_Tome_II2_Part_4.txt',\n",
      "     'Bxl_1961_Tome_II2_Part_5.txt',\n",
      "     'Bxl_1961_Tome_I_Part_3.txt',\n",
      "     'Bxl_1961_Tome_I_Part_4.txt',\n",
      "     'Bxl_1961_Tome_I_Part_5.txt',\n",
      "     'Bxl_1961_Tome_I_Part_6.txt',\n",
      "     'Bxl_1961_Tome_I_Part_8.txt',\n",
      "     'Bxl_1961_Tome_RptAn_Part_1.txt',\n",
      "     'Bxl_1961_Tome_RptAn_Part_4.txt',\n",
      "     'Bxl_1961_Tome_RptAn_Part_6.txt',\n",
      "     'Bxl_1961_Tome_RptAn_Part_7.txt',\n",
      "     'Bxl_1961_Tome_RptAn_Part_8.txt',\n",
      "     'Bxl_1962_Tome_II1_Part_4.txt',\n",
      "     'Bxl_1962_Tome_II1_Part_9.txt',\n",
      "     'Bxl_1962_Tome_II2_Part_2.txt',\n",
      "     'Bxl_1962_Tome_II2_Part_3.txt',\n",
      "     'Bxl_1962_Tome_II2_Part_4.txt',\n",
      "     'Bxl_1962_Tome_II2_Part_5.txt',\n",
      "     'Bxl_1962_Tome_II2_Part_6.txt',\n",
      "     'Bxl_1962_Tome_I_Part_10.txt',\n",
      "     'Bxl_1962_Tome_I_Part_3.txt',\n",
      "     'Bxl_1962_Tome_I_Part_4.txt',\n",
      "     'Bxl_1962_Tome_I_Part_5.txt',\n",
      "     'Bxl_1962_Tome_I_Part_8.txt',\n",
      "     'Bxl_1962_Tome_I_Part_9.txt',\n",
      "     'Bxl_1962_Tome_RptAn_Part_1.txt',\n",
      "     'Bxl_1962_Tome_RptAn_Part_2.txt',\n",
      "     'Bxl_1962_Tome_RptAn_Part_3.txt',\n",
      "     'Bxl_1962_Tome_RptAn_Part_4.txt',\n",
      "     'Bxl_1962_Tome_RptAn_Part_5.txt',\n",
      "     'Bxl_1962_Tome_RptAn_Part_6.txt',\n",
      "     'Bxl_1962_Tome_RptAn_Part_7.txt',\n",
      "     'Bxl_1962_Tome_RptAn_Part_8.txt',\n",
      "     'Bxl_1963_Tome_II1_Part_1.txt',\n",
      "     'Bxl_1963_Tome_II2_Part_1.txt',\n",
      "     'Bxl_1963_Tome_II2_Part_10.txt',\n",
      "     'Bxl_1963_Tome_II2_Part_6.txt',\n",
      "     'Bxl_1963_Tome_II2_Part_7.txt',\n",
      "     'Bxl_1963_Tome_II2_Part_9.txt',\n",
      "     'Bxl_1963_Tome_I_Part_1.txt',\n",
      "     'Bxl_1963_Tome_I_Part_11.txt',\n",
      "     'Bxl_1963_Tome_I_Part_5.txt',\n",
      "     'Bxl_1963_Tome_I_Part_6.txt',\n",
      "     'Bxl_1963_Tome_I_Part_7.txt',\n",
      "     'Bxl_1963_Tome_I_Part_9.txt',\n",
      "     'Bxl_1963_Tome_RptAn_Part_1.txt',\n",
      "     'Bxl_1963_Tome_RptAn_Part_2.txt',\n",
      "     'Bxl_1963_Tome_RptAn_Part_3.txt',\n",
      "     'Bxl_1963_Tome_RptAn_Part_4.txt',\n",
      "     'Bxl_1963_Tome_RptAn_Part_5.txt',\n",
      "     'Bxl_1963_Tome_RptAn_Part_6.txt',\n",
      "     'Bxl_1963_Tome_RptAn_Part_7.txt',\n",
      "     'Bxl_1963_Tome_RptAn_Part_8.txt',\n",
      "     'Bxl_1964_Tome_II1_Part_11.txt',\n",
      "     'Bxl_1964_Tome_II1_Part_7.txt',\n",
      "     'Bxl_1964_Tome_II2_Part_4.txt',\n",
      "     'Bxl_1964_Tome_II2_Part_5.txt',\n",
      "     'Bxl_1964_Tome_II2_Part_6.txt',\n",
      "     'Bxl_1964_Tome_II2_Part_8.txt',\n",
      "     'Bxl_1964_Tome_I_Part_10.txt',\n",
      "     'Bxl_1964_Tome_I_Part_11.txt',\n",
      "     'Bxl_1964_Tome_I_Part_12.txt',\n",
      "     'Bxl_1964_Tome_I_Part_2.txt',\n",
      "     'Bxl_1964_Tome_I_Part_4.txt',\n",
      "     'Bxl_1964_Tome_I_Part_6.txt',\n",
      "     'Bxl_1964_Tome_RptAn_Part_1.txt',\n",
      "     'Bxl_1964_Tome_RptAn_Part_2.txt',\n",
      "     'Bxl_1964_Tome_RptAn_Part_3.txt',\n",
      "     'Bxl_1964_Tome_RptAn_Part_4.txt',\n",
      "     'Bxl_1964_Tome_RptAn_Part_5.txt',\n",
      "     'Bxl_1964_Tome_RptAn_Part_6.txt',\n",
      "     'Bxl_1965_Tome_II2_Part_6.txt',\n",
      "     'Bxl_1965_Tome_RptAn_Part_1.txt',\n",
      "     'Bxl_1965_Tome_RptAn_Part_2.txt',\n",
      "     'Bxl_1965_Tome_RptAn_Part_3.txt',\n",
      "     'Bxl_1966_Tome_II2_Part_10.txt',\n",
      "     'Bxl_1966_Tome_RptAn_Part_1.txt',\n",
      "     'Bxl_1966_Tome_RptAn_Part_2.txt',\n",
      "     'Bxl_1966_Tome_RptAn_Part_3.txt',\n",
      "     'Bxl_1967_Tome_I1_Part_11.txt',\n",
      "     'Bxl_1967_Tome_II1_Part_4.txt',\n",
      "     'Bxl_1967_Tome_II2_Part_11.txt',\n",
      "     'Bxl_1968_Tome_II2_Part_1.txt',\n",
      "     'Bxl_1968_Tome_II2_Part_6.txt',\n",
      "     'Bxl_1969_Tome_I2_Part_3.txt',\n",
      "     'Bxl_1969_Tome_II2_Part_14.txt',\n",
      "     'Bxl_1969_Tome_RptAn_Part_1.txt',\n",
      "     'Bxl_1969_Tome_RptAn_Part_2.txt',\n",
      "     'Bxl_1969_Tome_RptAn_Part_3.txt']}\n"
     ]
    }
   ],
   "source": [
    "pprint(dict(clustering))"
   ]
  },
  {
   "cell_type": "markdown",
   "id": "7929c9e2-e092-4664-8f8a-7e4f8f3da749",
   "metadata": {},
   "source": [
    "Avec six clusters, plutôt que quatre, nous divisons plusieurs amas de manière plus claire. Il semble que le cluster [3] soit assez cohérent, étant donné qu'il apparaît déjà tel quel avec quatre clusters. En regardant le détail, nous pouvons remarquer que les années reprises concernent exclusivement les années 1968 et 1969. Peut-être que le thème de la révolution de 68 en est la cause?! Afin d'explorer plus finement ce cluster, je propose de sélectionner les fichiers de ce cluster et de procéder à la même opération pour identifier d'éventuels sous clusters à l'intérieur de celui-ci."
   ]
  },
  {
   "cell_type": "markdown",
   "id": "f639f1aa-af76-46fe-9489-7b4507c83465",
   "metadata": {},
   "source": [
    "### Clustering d'un cluster"
   ]
  },
  {
   "cell_type": "markdown",
   "id": "6d6b1e75-b2a3-4d1d-b4de-37b5c9c505ac",
   "metadata": {},
   "source": [
    "#### Exploration cluster [3]"
   ]
  },
  {
   "cell_type": "code",
   "execution_count": 152,
   "id": "211a90bb-bce8-4c51-8d64-678b2f722a10",
   "metadata": {},
   "outputs": [
    {
     "data": {
      "text/plain": [
       "\".\\n(2) Zie blz. 195 de namen van de leden die aan de stemming hebben\\ndeelgenomen.\\n\\n\\x0c— 201 —\\n\\n(3 februari 1969)\\n\\nCommission d'Assistance publique.\\nActes divers d'administration.\\nM . l'Echevin Van Halteren fait, au nom du Collège, les\\nrapports suivants :\\nDe heer Schepen Van Halteren brengt, namens het Collège de volgende verslagen uit :\\nHôpital Saint-Pierre. — Service d'obstétrique-gynécologie.\\n(N* HP. 51/68/3 — 70/68 — 0.1. n° 45.)\\nPrincipe d'une dépense de 276.000 francs pour l'installation\\nd'une signalisation lumineuse et d'une interphonie.\\nPar délibération en date du 5 novembre 1968, la Commission d'Assistance publique sollicite du Pouvoir compétent l'autorisation de faire la dépense mentionnée sous rubrique.\\nJustification de la proposition :\\nAfin de mettre fin aux inconvénients provoqués par l'usure\\nde l'installation de signalisation par sonneries d'appel dans\\ncertaines salles du service d'obstétrique-gynécologie de l'Hôpital Saint-Pierre, il y a lieu de remplacer le système actuel\\npar une installation de signalisation lumineuse combinée à\\nune interphonie.\\nL a dépense, estimée à 276.000 francs, sera imputée sur\\nl'article 111.420 du budget extraordinaire de 1968 : « Hôpital\\nSaint-Pierre — Bâtiments ».\\nUn crédit supplémentaire de 200.000 francs a été sollicité\\npar voie de modification budgétaire.\\nV u l'article 53 de la loi du 10 mars 1925,\\nLe Collège a l'honneur de vous proposer, Mesdames et\\nMessieurs, d'autoriser la susdite dépense, sous réserve de\\n\\n\\x0c(S lévrier 1969)\\n\\n— 202 —\\n\\nl'approbation, par les Autorités supérieures, de la modification\\nbudgétaire relative à cette affa\""
      ]
     },
     "execution_count": 152,
     "metadata": {},
     "output_type": "execute_result"
    }
   ],
   "source": [
    "files_3 = [f for f in sorted(os.listdir(data_path)) if f in clustering[3]]\n",
    "\n",
    "for f in clustering[3]:\n",
    "    texts_3 = [open(data_path + f).read() for f in files_3]\n",
    "    \n",
    "texts_3[5][3400:5000]"
   ]
  },
  {
   "cell_type": "code",
   "execution_count": 153,
   "id": "3df5d719-58fd-4aaa-bc59-b9467f149586",
   "metadata": {},
   "outputs": [
    {
     "data": {
      "text/plain": [
       "transferts     0.190398\n",
       "facturation    0.163975\n",
       "saldo          0.147166\n",
       "definitief     0.124706\n",
       "plannen        0.124682\n",
       "                 ...   \n",
       "e++v           0.000000\n",
       "e++u           0.000000\n",
       "e++se          0.000000\n",
       "e++r           0.000000\n",
       "•'+présents    0.000000\n",
       "Length: 9637, dtype: float64"
      ]
     },
     "execution_count": 153,
     "metadata": {},
     "output_type": "execute_result"
    }
   ],
   "source": [
    "def preprocessing(text, stem=True):\n",
    "    \"\"\" Tokenize text and remove punctuation \"\"\"\n",
    "    text = text.translate(string.punctuation)\n",
    "    tokens = word_tokenize(text)\n",
    "    return tokens\n",
    "\n",
    "vectorizer_3 = TfidfVectorizer(\n",
    "    tokenizer=preprocessing,\n",
    "    stop_words=stopwords.words('french'),\n",
    "    max_df=0.5,\n",
    "    min_df=0.1,\n",
    "    lowercase=True)\n",
    "\n",
    "tfidf_vectors_3 = vectorizer_3.fit_transform(texts_3)\n",
    "\n",
    "pd.Series(\n",
    "    tfidf_vectors_3[0].toarray()[0],\n",
    "    index=vectorizer_3.get_feature_names_out()\n",
    "    ).sort_values(ascending=False)"
   ]
  },
  {
   "cell_type": "code",
   "execution_count": 161,
   "id": "f55ed853-59bf-46b4-b1de-87119430be4a",
   "metadata": {},
   "outputs": [
    {
     "data": {
      "text/plain": [
       "<matplotlib.legend.Legend at 0x7f01f8859e20>"
      ]
     },
     "execution_count": 161,
     "metadata": {},
     "output_type": "execute_result"
    },
    {
     "data": {
      "image/png": "[encoded data removed]",
      "text/plain": [
       "<Figure size 720x720 with 1 Axes>"
      ]
     },
     "metadata": {
      "needs_background": "light"
     },
     "output_type": "display_data"
    }
   ],
   "source": [
    "N_CLUSTERS = 3\n",
    "\n",
    "#instancier le modèle KMeans\n",
    "km_model = KMeans(n_clusters=N_CLUSTERS, random_state = 42)\n",
    "\n",
    "# appliquer le clustering\n",
    "clusters_3 = km_model.fit_predict(tfidf_vectors_3)\n",
    "\n",
    "clustering_3 = collections.defaultdict(list)\n",
    "\n",
    "for idx, label in enumerate(clusters_3):\n",
    "    clustering_3[label].append(files_3[idx])\n",
    "\n",
    "# réduire les dimensions\n",
    "pca = PCA(n_components=2)\n",
    "reduced_vectors_3 = pca.fit_transform(tfidf_vectors_3.toarray())\n",
    "\n",
    "# générer le plot\n",
    "x_axis = reduced_vectors_3[:, 0]\n",
    "y_axis = reduced_vectors_3[:, 1]\n",
    "\n",
    "plt.figure(figsize=(10,10))\n",
    "scatter = plt.scatter(x_axis, y_axis, s=100, c=clusters_3)\n",
    "\n",
    "# Ajouter les centroïdes\n",
    "centroids = pca.transform(km_model.cluster_centers_)\n",
    "plt.scatter(centroids[:, 0], centroids[:, 1],  marker = \"x\", s=100, linewidths = 2, color='black')\n",
    "\n",
    "# Ajouter la légende\n",
    "plt.legend(handles=scatter.legend_elements()[0], labels=set(clusters_3), title=\"Clusters\")"
   ]
  },
  {
   "cell_type": "code",
   "execution_count": 162,
   "id": "ab7517cd-9e2b-4a8e-8737-be9f7433bf98",
   "metadata": {},
   "outputs": [
    {
     "name": "stdout",
     "output_type": "stream",
     "text": [
      "{0: ['Bxl_1968_Tome_II1_Part_2.txt',\n",
      "     'Bxl_1968_Tome_II1_Part_3.txt',\n",
      "     'Bxl_1968_Tome_II1_Part_4.txt',\n",
      "     'Bxl_1969_Tome_I1_Part_5.txt',\n",
      "     'Bxl_1969_Tome_II1_Part_6.txt',\n",
      "     'Bxl_1969_Tome_II1_Part_7.txt',\n",
      "     'Bxl_1969_Tome_II1_Part_8.txt',\n",
      "     'Bxl_1969_Tome_II2_Part_1.txt',\n",
      "     'Bxl_1969_Tome_II2_Part_10.txt',\n",
      "     'Bxl_1969_Tome_II2_Part_2.txt',\n",
      "     'Bxl_1969_Tome_II2_Part_3.txt',\n",
      "     'Bxl_1969_Tome_II2_Part_4.txt',\n",
      "     'Bxl_1969_Tome_II2_Part_5.txt',\n",
      "     'Bxl_1969_Tome_II2_Part_6.txt',\n",
      "     'Bxl_1969_Tome_II2_Part_7.txt',\n",
      "     'Bxl_1969_Tome_II2_Part_9.txt'],\n",
      " 1: ['Bxl_1969_Tome_I1_Part_1.txt',\n",
      "     'Bxl_1969_Tome_I1_Part_2.txt',\n",
      "     'Bxl_1969_Tome_I1_Part_3.txt',\n",
      "     'Bxl_1969_Tome_I1_Part_6.txt',\n",
      "     'Bxl_1969_Tome_I1_Part_7.txt',\n",
      "     'Bxl_1969_Tome_I1_Part_8.txt',\n",
      "     'Bxl_1969_Tome_I2_Part_1.txt',\n",
      "     'Bxl_1969_Tome_I2_Part_2.txt',\n",
      "     'Bxl_1969_Tome_I2_Part_4.txt',\n",
      "     'Bxl_1969_Tome_I2_Part_5.txt',\n",
      "     'Bxl_1969_Tome_I2_Part_6.txt',\n",
      "     'Bxl_1969_Tome_I2_Part_7.txt',\n",
      "     'Bxl_1969_Tome_I2_Part_8.txt',\n",
      "     'Bxl_1969_Tome_I2_Part_9.txt',\n",
      "     'Bxl_1969_Tome_II2_Part_11.txt',\n",
      "     'Bxl_1969_Tome_II2_Part_8.txt'],\n",
      " 2: ['Bxl_1969_Tome_I1_Part_4.txt',\n",
      "     'Bxl_1969_Tome_II1_Part_1.txt',\n",
      "     'Bxl_1969_Tome_II1_Part_2.txt',\n",
      "     'Bxl_1969_Tome_II1_Part_3.txt',\n",
      "     'Bxl_1969_Tome_II1_Part_4.txt',\n",
      "     'Bxl_1969_Tome_II1_Part_5.txt']}\n"
     ]
    }
   ],
   "source": [
    "pprint(dict(clustering_3))"
   ]
  },
  {
   "cell_type": "markdown",
   "id": "af77955d-a4e3-4e7b-8c74-bd8b8579cadd",
   "metadata": {},
   "source": [
    "#### Exploration cluster [0] du cluster [3]"
   ]
  },
  {
   "cell_type": "code",
   "execution_count": 219,
   "id": "3274ebac-f8f1-40dc-94d1-c85a91d5ec0f",
   "metadata": {},
   "outputs": [
    {
     "data": {
      "text/plain": [
       "\"Universiteit te Brussel op 3, 4\\nen 5 december 1968.\\n— M . le Bourgemestre ouvre la séance et fait une déclaration\\nrelative aux incidents qui se sont produits à l'Université\\nlibre de Bruxelles les 3, 4 et 5 d é c e m b r e 1968.\\n\\nM . V a n Geyt. Je tiens d'abord à vous remercier pour l'information que vous avez bien voulu donner par courtoisie. E n\\ndeuxième lieu, je tiens à vous donner acte du fait que d'après\\ntous les renseignements que vous avez c o m m u n i q u é s , les\\ndiverses interventions policières ont eu lieu à l'initiative des\\nautorités de l'Université et que, par conséquent, le p r o b l è m e\\nde la justification ou non de l'appel à ces interventions est du\\nressort de l'Université et des divers milieux qui la composent.\\nJe me permettrai toutefois de faire une seule remarque à\\npropos de ces incidents extrêmement regrettables ; en effet.\\n\\n\\x0c— 1517 —\\n\\n(9 décembre\\n\\n1968)\\n\\ndans les rapports dont vous avez d o n n é lecture, les autorités\\nauxquelles vous vous êtes référé ont estimé devoir reprendre\\nà leur compte la version des A u t o r i t é a c a d é m i q u e s , en ce qui\\nconcerne l'origine des incidents. J'admets que, dans leur chef,\\nce n'est pas anormal.\\nMais je crois nécessaire en m ê m e temps de faire remarquer\\nque de nombreux milieux de l'Université, qui sont très loin,\\nsoit d'avoir participé en quelque m a n i è r e aux outrances et aux\\nexcès regrettables qui se sont déroulés, soit de les avoir approuvés, n'en ont pas moins e x p r i m é , sur l a nécessité de faire\\nintervenir les forces de police, un avis tout autre que celui\\ndes Autorités a c a d é m i q u e s .\\nEncore une fois, i l s'agit là d'un d é b a t\\ninterne à l'Université.\\n\\nessentiellement\\n\\nMais, comme dans les documents dont vous avez d o n n é\\nlecture n'est m e n t i o n n é e que la seule version des A u t o r i t é s\\nacadémiques, i l me p a r a î t normal de préciser que, entre autres,\\nles organisations syndicales, l'interfacultaire et d'autres groupements ont d o n n é une appréciation\""
      ]
     },
     "execution_count": 219,
     "metadata": {},
     "output_type": "execute_result"
    }
   ],
   "source": [
    "files_3_0 = [f for f in sorted(os.listdir(data_path)) if f in clustering_3[0]]\n",
    "\n",
    "for f in clustering_3[0]:\n",
    "    texts_3_0 = [open(data_path + f).read() for f in files_3_0]\n",
    "    \n",
    "texts_3_0[2][5000:7000]"
   ]
  },
  {
   "cell_type": "code",
   "execution_count": 220,
   "id": "69ed23fc-10b5-484f-b2f2-6f69cbedfee1",
   "metadata": {},
   "outputs": [
    {
     "data": {
      "text/plain": [
       "décembre++1968      0.431605\n",
       ".+majoration        0.188233\n",
       "enseignement        0.161879\n",
       "december++1968      0.157904\n",
       "facturation         0.131739\n",
       "                      ...   \n",
       "démission           0.000000\n",
       "démocratie          0.000000\n",
       "démocratique        0.000000\n",
       "démocratiquement    0.000000\n",
       "•                   0.000000\n",
       "Length: 11053, dtype: float64"
      ]
     },
     "execution_count": 220,
     "metadata": {},
     "output_type": "execute_result"
    }
   ],
   "source": [
    "def preprocessing(text, stem=True):\n",
    "    \"\"\" Tokenize text and remove punctuation \"\"\"\n",
    "    text = text.translate(string.punctuation)\n",
    "    tokens = word_tokenize(text)\n",
    "    return tokens\n",
    "\n",
    "vectorizer_3_0 = TfidfVectorizer(\n",
    "    tokenizer=preprocessing,\n",
    "    stop_words=stopwords.words('french'),\n",
    "    max_df=0.5,\n",
    "    min_df=0.1,\n",
    "    lowercase=True)\n",
    "\n",
    "tfidf_vectors_3_0 = vectorizer_3_0.fit_transform(texts_3_0)\n",
    "\n",
    "pd.Series(\n",
    "    tfidf_vectors_3_0[0].toarray()[0],\n",
    "    index=vectorizer_3_0.get_feature_names_out()\n",
    "    ).sort_values(ascending=False)"
   ]
  },
  {
   "cell_type": "code",
   "execution_count": 233,
   "id": "9cc288a8-02f4-4989-a63d-5fa6c734ff3b",
   "metadata": {},
   "outputs": [
    {
     "data": {
      "text/plain": [
       "<matplotlib.legend.Legend at 0x7f01f3229fd0>"
      ]
     },
     "execution_count": 233,
     "metadata": {},
     "output_type": "execute_result"
    },
    {
     "data": {
      "image/png": "[encoded data removed]",
      "text/plain": [
       "<Figure size 720x720 with 1 Axes>"
      ]
     },
     "metadata": {
      "needs_background": "light"
     },
     "output_type": "display_data"
    }
   ],
   "source": [
    "N_CLUSTERS = 4\n",
    "\n",
    "#instancier le modèle KMeans\n",
    "km_model = KMeans(n_clusters=N_CLUSTERS, random_state = 42)\n",
    "\n",
    "# appliquer le clustering\n",
    "clusters_3_0 = km_model.fit_predict(tfidf_vectors_3_0)\n",
    "\n",
    "clustering_3_0 = collections.defaultdict(list)\n",
    "\n",
    "for idx, label in enumerate(clusters_3_0):\n",
    "    clustering_3_0[label].append(files_3_0[idx])\n",
    "\n",
    "# réduire les dimensions\n",
    "pca = PCA(n_components=2)\n",
    "reduced_vectors_3_0 = pca.fit_transform(tfidf_vectors_3_0.toarray())\n",
    "\n",
    "# générer le plot\n",
    "x_axis = reduced_vectors_3_0[:, 0]\n",
    "y_axis = reduced_vectors_3_0[:, 1]\n",
    "\n",
    "plt.figure(figsize=(10,10))\n",
    "scatter = plt.scatter(x_axis, y_axis, s=100, c=clusters_3_0)\n",
    "\n",
    "# Ajouter les centroïdes\n",
    "centroids = pca.transform(km_model.cluster_centers_)\n",
    "plt.scatter(centroids[:, 0], centroids[:, 1],  marker = \"x\", s=100, linewidths = 2, color='black')\n",
    "\n",
    "# Ajouter la légende\n",
    "plt.legend(handles=scatter.legend_elements()[0], labels=set(clusters_3_0), title=\"Clusters\")"
   ]
  },
  {
   "cell_type": "code",
   "execution_count": 234,
   "id": "a6718850-900a-461c-bcaa-9fdeae313413",
   "metadata": {},
   "outputs": [
    {
     "name": "stdout",
     "output_type": "stream",
     "text": [
      "{0: ['Bxl_1968_Tome_II1_Part_2.txt',\n",
      "     'Bxl_1968_Tome_II1_Part_3.txt',\n",
      "     'Bxl_1968_Tome_II1_Part_4.txt',\n",
      "     'Bxl_1969_Tome_II2_Part_1.txt'],\n",
      " 1: ['Bxl_1969_Tome_II2_Part_2.txt', 'Bxl_1969_Tome_II2_Part_3.txt'],\n",
      " 2: ['Bxl_1969_Tome_I1_Part_5.txt',\n",
      "     'Bxl_1969_Tome_II1_Part_6.txt',\n",
      "     'Bxl_1969_Tome_II1_Part_7.txt',\n",
      "     'Bxl_1969_Tome_II1_Part_8.txt',\n",
      "     'Bxl_1969_Tome_II2_Part_6.txt',\n",
      "     'Bxl_1969_Tome_II2_Part_7.txt',\n",
      "     'Bxl_1969_Tome_II2_Part_9.txt'],\n",
      " 3: ['Bxl_1969_Tome_II2_Part_10.txt',\n",
      "     'Bxl_1969_Tome_II2_Part_4.txt',\n",
      "     'Bxl_1969_Tome_II2_Part_5.txt']}\n"
     ]
    }
   ],
   "source": [
    "pprint(dict(clustering_3_0))"
   ]
  },
  {
   "cell_type": "markdown",
   "id": "7fddf1b9-207d-46f9-967d-28f4bbc9e6e6",
   "metadata": {},
   "source": [
    "Il est difficile de juger de la pertinence des clusters sur un si grand nombre de fichiers, si ce n'est en se fiant au score 'cosine'. \n",
    "\n",
    "Cependant, cette technique de clustering représente un intérêt pour classer les fichiers entre eux afin d'explorer des \"thématiques\" communes sur base de la fréquence des mots de l'ensemble étudié. En rassemblant les fichiers et les traitant à l'aide de fonctions de nettoyage plus poussées, il sera sans doute plus facile d'éliminer des mots fréquents de l'ensemble des \"paquets\" afin d'explorer plus finement le contenu. Des listes de stopwords peuvent être consitutées en fonction des clusters et ainsi permettre de faire ressortir du contenu plus informationnel.\n",
    "\n",
    "Pour vérifier la méthode, il faudrait pouvoir explorer les contenus de manière plus aisée, en procédant par exemple à des wordclouds ou en extrayant les keywords pour chacun des clusters. Je n'ai malheureusement pas eu le temps d'approfondir la question."
   ]
  },
  {
   "cell_type": "markdown",
   "id": "82706675-c1cc-44fe-a1d7-4e02d87cb974",
   "metadata": {},
   "source": [
    "## 2. Word2Vec"
   ]
  },
  {
   "cell_type": "markdown",
   "id": "31d8e556-1150-435f-8849-eafea338d984",
   "metadata": {},
   "source": [
    "Avant de procéder à l'amélioration du modèle en appliquant successivement les fonctions bigrammes/trigrammes/quadrigrammes/pentagrammes, j'ai d'abord porcédé à l'exploration de différents caractéristiques déterminant la qualité des modèles. Le tableau ci-dessous reprend les résultats obtenus pour les mêmes requêtes. Celles-ci sont calquées sur celles présentées au cours.\n",
    "\n",
    "Le modèle 1 est celui fourni à la base et appliqué à une partie du corpus (fichier 'sents' créé à l'aide du notebook du cours). Tous les autres modèles se basent sur le fichier de Max De Wilde, renommé en 'sents_2'. J'ai ensuite fait varier la taille du vecteur (32, 100 ou 300), la taille de la fenêtre (5, 7, 10, 13, 20, 40), la fréquence minimale des mots, le nombre de 'workers' et les 'epochs'. Ceci m'a permis d'approcher les différences en fonction de requêtes similaires appliquées à l'ensemble des modèles. \n",
    "\n",
    "Mes principales constations sont que le nombre d''epochs' semble améliorer les performances des modèles quelque soit la taille du vecteur. Le nombre de 'workers' semble diminuer la précision des modèles. La taille du vecteur et de la fenêtre augmentent la sensibilité des modèles ; ils semblent devenir plus \"sensibles\", plus \"subtiles\" mais peut-être moins \"précis\". Ainsi, avec une vecteur de 100 et une fenêtre de 7, le modèle parvient à comprendre que le charcutier est au plus proche du boucher, que les autres métiers généralement renseignés. Remarquons qu'avec un vecteur de 300, il faut élargir la taille du vecteur à 13 pour parvenir à un tel résultat.\n",
    "\n",
    "J'opte donc a priori pour des modèles dont la taille de la fenêtre augmente en fonction de la taille du vecteur. Cependant, il faudra voir si l'application plus poussée des fonctions du Phraser ne viendra pas perturber ces résultats. Quant à la fréquence des mots, je décide de l'abaisser à deux, jugeant qu'il est nécessaire pour Word2vec d'avoir un maximum d'information pour l'analyse ; les mots présents une seule fois, autrement dit les hapax."
   ]
  },
  {
   "attachments": {
    "dc613224-d3cc-480a-bbff-318e4b29c43c.png": {
     "image/png": "[encoded data removed]"
    }
   },
   "cell_type": "markdown",
   "id": "435d93a2-feb9-4a4d-bc13-f496083ff4da",
   "metadata": {},
   "source": [
    "![image.png](attachment:dc613224-d3cc-480a-bbff-318e4b29c43c.png)"
   ]
  },
  {
   "cell_type": "markdown",
   "id": "b26ea7e7-6ff4-4741-9012-ce37239afadb",
   "metadata": {},
   "source": [
    "Tous les résultats sont disponibles dans le repo du module 4, dans les deux forks du notebook pour le word embeddings."
   ]
  },
  {
   "cell_type": "markdown",
   "id": "db5cf288-0c22-490f-b93d-ede6d71fb3e3",
   "metadata": {},
   "source": [
    "#### Chargement des phrases"
   ]
  },
  {
   "cell_type": "code",
   "execution_count": 2,
   "id": "c45027d3-067a-4306-9d66-232171f50c7c",
   "metadata": {},
   "outputs": [],
   "source": [
    "class MySentences(object):\n",
    "    \"\"\"Tokenize and Lemmatize sentences\"\"\"\n",
    "    def __init__(self, filename):\n",
    "        self.filename = filename\n",
    "\n",
    "    def __iter__(self):\n",
    "        for line in open(self.filename, encoding='utf-8', errors=\"backslashreplace\"):\n",
    "            yield [unidecode(w.lower()) for w in wordpunct_tokenize(line)]"
   ]
  },
  {
   "cell_type": "code",
   "execution_count": 3,
   "id": "590a72f4-6aa6-4e4c-9551-f2bb88a7650a",
   "metadata": {},
   "outputs": [],
   "source": [
    "infile = f\"../data/sents_2.txt\""
   ]
  },
  {
   "cell_type": "code",
   "execution_count": 4,
   "id": "74ce6a48-d5ed-4448-8388-9dc85d21e10c",
   "metadata": {},
   "outputs": [],
   "source": [
    "sentences = MySentences(infile)"
   ]
  },
  {
   "cell_type": "markdown",
   "id": "e0f31cb3-5038-4f4d-bbab-c02ffc61c8e2",
   "metadata": {},
   "source": [
    "#### Création des bigrammes"
   ]
  },
  {
   "cell_type": "code",
   "execution_count": 5,
   "id": "f866c305-7835-49f4-9ddd-3083f1ed1c92",
   "metadata": {},
   "outputs": [],
   "source": [
    "bigram_phrases = Phrases(sentences)"
   ]
  },
  {
   "cell_type": "code",
   "execution_count": 6,
   "id": "21d3d6e4-3ad3-4034-90e5-076077cff7a3",
   "metadata": {},
   "outputs": [
    {
     "data": {
      "text/plain": [
       "5978799"
      ]
     },
     "execution_count": 6,
     "metadata": {},
     "output_type": "execute_result"
    }
   ],
   "source": [
    "len(bigram_phrases.vocab.keys())"
   ]
  },
  {
   "cell_type": "code",
   "execution_count": 7,
   "id": "e3063b88-768f-4ef1-bd6d-227673f7cf9b",
   "metadata": {},
   "outputs": [
    {
     "name": "stdout",
     "output_type": "stream",
     "text": [
      "CPU times: user 1.98 ms, sys: 12 µs, total: 2 ms\n",
      "Wall time: 7.77 ms\n"
     ]
    },
    {
     "data": {
      "text/plain": [
       "<gensim.interfaces.TransformedCorpus at 0x7fa6ac74b5e0>"
      ]
     },
     "execution_count": 7,
     "metadata": {},
     "output_type": "execute_result"
    }
   ],
   "source": [
    "%time bigram_phrases[sentences]"
   ]
  },
  {
   "cell_type": "code",
   "execution_count": 8,
   "id": "8efe9f0a-4b05-4492-8299-0b0f316f8060",
   "metadata": {},
   "outputs": [],
   "source": [
    "bigram_phraser = Phraser(phrases_model=bigram_phrases)"
   ]
  },
  {
   "cell_type": "code",
   "execution_count": 9,
   "id": "aef108da-dc60-4639-981e-839e16c024b5",
   "metadata": {},
   "outputs": [
    {
     "name": "stdout",
     "output_type": "stream",
     "text": [
      "CPU times: user 2.5 ms, sys: 0 ns, total: 2.5 ms\n",
      "Wall time: 3.65 ms\n"
     ]
    },
    {
     "data": {
      "text/plain": [
       "<gensim.interfaces.TransformedCorpus at 0x7fa65c75de80>"
      ]
     },
     "execution_count": 9,
     "metadata": {},
     "output_type": "execute_result"
    }
   ],
   "source": [
    "%time bigram_phraser[sentences]"
   ]
  },
  {
   "cell_type": "code",
   "execution_count": 10,
   "id": "0ebf5848-c99b-41c1-9b23-d32b81bae084",
   "metadata": {},
   "outputs": [],
   "source": [
    "trigram_phrases = Phrases(bigram_phraser[sentences])"
   ]
  },
  {
   "cell_type": "code",
   "execution_count": 11,
   "id": "9d70c0b6-ea30-47a7-923b-3cc8c5348628",
   "metadata": {},
   "outputs": [],
   "source": [
    "trigram_phraser = Phraser(phrases_model=trigram_phrases)"
   ]
  },
  {
   "cell_type": "code",
   "execution_count": 12,
   "id": "5e2478f2-aefd-440b-be3a-066aeedd128e",
   "metadata": {},
   "outputs": [],
   "source": [
    "quadrigram_phrases = Phrases(trigram_phraser[sentences])"
   ]
  },
  {
   "cell_type": "code",
   "execution_count": 13,
   "id": "d0c703e3-838b-4c38-892e-d94111ec070a",
   "metadata": {},
   "outputs": [],
   "source": [
    "quadrigram_phraser = Phraser(phrases_model=quadrigram_phrases)"
   ]
  },
  {
   "cell_type": "code",
   "execution_count": 14,
   "id": "33f38b0a-077e-4428-811b-cf6788331f3e",
   "metadata": {},
   "outputs": [],
   "source": [
    "pentagram_phrases = Phrases(quadrigram_phraser[sentences])"
   ]
  },
  {
   "cell_type": "code",
   "execution_count": 15,
   "id": "e3a070f0-61f7-475c-8f63-2eca3ff73ad6",
   "metadata": {},
   "outputs": [],
   "source": [
    "pentagram_phraser = Phraser(phrases_model=pentagram_phrases)"
   ]
  },
  {
   "cell_type": "code",
   "execution_count": 16,
   "id": "eafc40c7-8fa4-4063-92eb-56cb024ced02",
   "metadata": {},
   "outputs": [],
   "source": [
    "corpus = list(pentagram_phraser[quadrigram_phraser[trigram_phraser[bigram_phraser[sentences]]]])"
   ]
  },
  {
   "cell_type": "code",
   "execution_count": 16,
   "id": "19bf7e5d-f24a-4203-b062-c627f306da10",
   "metadata": {},
   "outputs": [
    {
     "name": "stdout",
     "output_type": "stream",
     "text": [
      "[['v', 'i', 'l', 'l', 'e', 'de', 'bruxelles', 'bulletin', 'ires', '8eanas', 'dl', '!'], ['conseil_communal', 'annee', '1847', '.'], ['au', 'ville', 'de', 'b', 'r', 'u', 'x', 'e', 'l', 'l', 'e', 's', '.'], ['bulletin', 'conseil', 'aes', 'seances', 'communal', '.'], ['annee', '1847', '.'], ['bruxelles', ',', 'imprimerie', 'd', 'e', 'j', '.'], ['h', '.', 'b', 'r', 'i', 'a', 'r', 'd', ',', 'rite', 'n', 'e', 'u', 'v', 'e', ',', '3', '1', ',', 'faubourg', 'de', 'n', 'a', 'm', 'u', 'r', ',', '1', '84', '8', 'de', '!'], ['du', 'consei', 'dibi', 'e', '.', '-', 'communication', 'conclusions', 'de', 'la', 'section', 'des', 'du', 'nouvel_hospice', 'pour', 'les', 'av', 'enraisonde', 'l', \"'\", 'absence', '&', 'maladie', '.', 'le', 'conseil', 'ajourne', 'leurs', 'de', 'pierre', 'el', 'marchai', 'cles', 'des', 'taxes', 'communale', \"'\", 'bieniaance', 'eldeseianv', 'il', 'est', 'donne', 'communie', ';', 'mandant', 'le', 'o', 'p', 'fa', 'gnant', 'l', \"'\", 'envoi', 'de', 'leur', 'bn', 'par', 'l', \"'\", 'etat', 'obligatoire', 'p', 'secretariat', 'et', 'dtput', 'uf', 'proposition', 'dan', '*', 'le', 'meme', 'u', 'est', 'donne_lecture', 'd', \"'\", 't', 'glissement', 'd', \"'\", 'un', 'marc', '!'], [\"'*\", 'royales', ',', 'rue', 'de', 'la', 'i', 'd', 'e', 'k', ':', ';', 'i', 'fai', 'phonnenr', 'de', 'to', '>>', '<<', '<<', 'terrains', 'reumsderb', '.\"'], ['^', 'par', 'une', 'combinaison', 'f', 'sans', 'devoir', 'fe', 'soit', 'dow', 'ans', ',', 'un', 'marcs', '1', 's', 'u', 'r', 'l', 'iraocs', '.']]\n"
     ]
    }
   ],
   "source": [
    "print(corpus[:10])"
   ]
  },
  {
   "cell_type": "markdown",
   "id": "4f9d8255-4500-414c-b53a-2d70b24a94b9",
   "metadata": {},
   "source": [
    "#### Modèle 1 du tp3 (300-10)"
   ]
  },
  {
   "cell_type": "code",
   "execution_count": 23,
   "id": "1bc5750c-8d42-4ef3-804b-3b6b5d77b3dd",
   "metadata": {},
   "outputs": [
    {
     "name": "stdout",
     "output_type": "stream",
     "text": [
      "CPU times: user 2h 20min 49s, sys: 9min 36s, total: 2h 30min 25s\n",
      "Wall time: 44min 14s\n"
     ]
    }
   ],
   "source": [
    "%%time\n",
    "model = Word2Vec(\n",
    "    corpus, # On passe le corpus de ngrams que nous venons de créer\n",
    "    vector_size=300, # Le nombre de dimensions dans lesquelles le contexte des mots devra être réduit, aka. vector_size\n",
    "    window=10, # La taille du \"contexte\", ici 5 mots avant et après le mot observé\n",
    "    min_count=2, # On ignore les mots qui n'apparaissent pas au moins 5 fois dans le corpus\n",
    "    workers=4, # Permet de paralléliser l'entraînement du modèle en 4 threads\n",
    "    epochs=10 # Nombre d'itérations du réseau de neurones sur le jeu de données pour ajuster les paramètres avec la descende de gradient, aka. epochs.\n",
    ")"
   ]
  },
  {
   "cell_type": "code",
   "execution_count": 24,
   "id": "9cffac88-dcb0-4956-b5ed-39456543df9c",
   "metadata": {},
   "outputs": [],
   "source": [
    "# outfile = f\"../data/bulletins_tp3_1.model\"\n",
    "# model.save(outfile)"
   ]
  },
  {
   "cell_type": "code",
   "execution_count": 113,
   "id": "ce22be44-26e1-4664-a480-a29dd535f982",
   "metadata": {},
   "outputs": [],
   "source": [
    "model = Word2Vec.load(\"../data/bulletins_tp3_1.model\")"
   ]
  },
  {
   "cell_type": "markdown",
   "id": "78aac94d-1028-4e0c-aa97-49732e78dd04",
   "metadata": {
    "tags": []
   },
   "source": [
    "#### Exploration du modèle"
   ]
  },
  {
   "cell_type": "code",
   "execution_count": 5,
   "id": "6c8dda50-c978-4e2a-a745-c7224a4d6a34",
   "metadata": {},
   "outputs": [
    {
     "data": {
      "text/plain": [
       "0.57089794"
      ]
     },
     "execution_count": 5,
     "metadata": {},
     "output_type": "execute_result"
    }
   ],
   "source": [
    "model.wv.similarity(\"boucher\", \"boulanger\")"
   ]
  },
  {
   "cell_type": "code",
   "execution_count": 30,
   "id": "13d21d8d-2515-4bd0-aae9-0e3a21e17985",
   "metadata": {},
   "outputs": [
    {
     "data": {
      "text/plain": [
       "0.42860717"
      ]
     },
     "execution_count": 30,
     "metadata": {},
     "output_type": "execute_result"
    }
   ],
   "source": [
    "model.wv.similarity(\"homme\", \"femme\")"
   ]
  },
  {
   "cell_type": "code",
   "execution_count": 22,
   "id": "9d60298c-2a58-4cf6-b175-14226d05f9cb",
   "metadata": {},
   "outputs": [
    {
     "data": {
      "text/plain": [
       "0.28735888"
      ]
     },
     "execution_count": 22,
     "metadata": {},
     "output_type": "execute_result"
    }
   ],
   "source": [
    "model.wv.similarity(\"voiture\", \"carrosse\")"
   ]
  },
  {
   "cell_type": "code",
   "execution_count": 25,
   "id": "1325f839-4910-42d9-8618-edb8bc909ab5",
   "metadata": {},
   "outputs": [
    {
     "data": {
      "text/plain": [
       "0.42339402"
      ]
     },
     "execution_count": 25,
     "metadata": {},
     "output_type": "execute_result"
    }
   ],
   "source": [
    "model.wv.similarity(\"voiture\", \"chien\")"
   ]
  },
  {
   "cell_type": "code",
   "execution_count": 6,
   "id": "f7527e20-dd33-477d-b3a5-aa662120123d",
   "metadata": {},
   "outputs": [
    {
     "data": {
      "text/plain": [
       "[('rruxelles', 0.5818007588386536),\n",
       " ('nivelles', 0.5182838439941406),\n",
       " ('liege', 0.5148740410804749),\n",
       " ('bruxeles', 0.4937210977077484),\n",
       " ('bruxelle', 0.4917224645614624),\n",
       " ('jrvice', 0.471939355134964),\n",
       " ('xelles', 0.4709879159927368),\n",
       " ('huy', 0.47084033489227295),\n",
       " ('prague', 0.46914100646972656),\n",
       " ('binche', 0.46828752756118774)]"
      ]
     },
     "execution_count": 6,
     "metadata": {},
     "output_type": "execute_result"
    }
   ],
   "source": [
    "model.wv.most_similar(\"bruxelles\", topn=10)"
   ]
  },
  {
   "cell_type": "code",
   "execution_count": 35,
   "id": "3eab5b27-15a0-4b8c-a2be-161f9e1245e4",
   "metadata": {},
   "outputs": [
    {
     "data": {
      "text/plain": [
       "[('charcutier', 0.5995927453041077),\n",
       " ('boulanger', 0.5708979368209839),\n",
       " ('tailleur', 0.5652803778648376),\n",
       " ('cabaretier', 0.5632399320602417),\n",
       " ('cordonnier', 0.5628831386566162),\n",
       " ('abatteur', 0.5618293285369873),\n",
       " ('coiffeur', 0.5468771457672119),\n",
       " ('marchand', 0.5446248650550842),\n",
       " ('serrurier', 0.5419819951057434),\n",
       " ('fabricant', 0.5392330884933472)]"
      ]
     },
     "execution_count": 35,
     "metadata": {},
     "output_type": "execute_result"
    }
   ],
   "source": [
    "model.wv.most_similar(\"boucher\", topn=10)"
   ]
  },
  {
   "cell_type": "code",
   "execution_count": 27,
   "id": "fb06844c-6c8b-47f2-86db-726966662028",
   "metadata": {},
   "outputs": [
    {
     "data": {
      "text/plain": [
       "[('aristotelisme', 0.8893957734107971),\n",
       " ('symbolis', 0.8818884491920471),\n",
       " ('centum', 0.8812199831008911),\n",
       " ('christiano', 0.879470705986023),\n",
       " ('147437', 0.8793374300003052),\n",
       " ('66637', 0.8787049055099487),\n",
       " ('153125', 0.8774873614311218),\n",
       " ('gewidmet', 0.8770879507064819),\n",
       " ('43451', 0.8768373727798462),\n",
       " ('122571', 0.8763118982315063)]"
      ]
     },
     "execution_count": 27,
     "metadata": {},
     "output_type": "execute_result"
    }
   ],
   "source": [
    "model.wv.most_similar(\"platonisme\", topn=10)"
   ]
  },
  {
   "cell_type": "code",
   "execution_count": 114,
   "id": "9096636a-4373-435c-a926-822115c2556d",
   "metadata": {},
   "outputs": [
    {
     "data": {
      "text/plain": [
       "[('auvent', 0.7027914524078369),\n",
       " ('pissoir', 0.6696574091911316),\n",
       " ('evier', 0.6447969079017639),\n",
       " ('grillage', 0.6330245137214661),\n",
       " ('ascenseur', 0.6301243305206299),\n",
       " ('hangar', 0.6283779740333557),\n",
       " ('lavabo', 0.6215679049491882),\n",
       " ('corridor', 0.6112678647041321),\n",
       " ('echafaudage', 0.6108914017677307),\n",
       " ('baraquement', 0.5946465730667114)]"
      ]
     },
     "execution_count": 114,
     "metadata": {},
     "output_type": "execute_result"
    }
   ],
   "source": [
    "model.wv.most_similar(\"urinoir\", topn=10)"
   ]
  },
  {
   "cell_type": "code",
   "execution_count": 7,
   "id": "38f943d7-bd89-41c5-a18f-f4f5af1da77b",
   "metadata": {},
   "outputs": [
    {
     "name": "stdout",
     "output_type": "stream",
     "text": [
      "[('liege', 0.5035298466682434), ('londres', 0.494385689496994), ('milan', 0.48436862230300903), ('tournai', 0.47917115688323975), ('huy', 0.4791364371776581), ('verviers', 0.470472127199173), ('prague', 0.4691561460494995), ('ostende', 0.46747785806655884), ('hambourg', 0.4582105278968811), ('paris', 0.4556889533996582)]\n"
     ]
    }
   ],
   "source": [
    "print(model.wv.most_similar(positive=['bruxelles', 'france'], negative=['belgique']))"
   ]
  },
  {
   "cell_type": "code",
   "execution_count": 56,
   "id": "6ff79b5a-19cb-409c-990c-0a3e2087f0ce",
   "metadata": {},
   "outputs": [
    {
     "name": "stdout",
     "output_type": "stream",
     "text": [
      "[('tournai', 0.45664116740226746), ('ostende', 0.45346832275390625), ('alost', 0.42457568645477295), ('verviers', 0.4176098108291626), ('liege', 0.41081807017326355), ('utrecht', 0.40741461515426636), ('amsterdam', 0.4052148461341858), ('prague', 0.40407243371009827), ('huy', 0.39854443073272705), ('aerschot', 0.39763012528419495)]\n"
     ]
    }
   ],
   "source": [
    "print(model.wv.most_similar(positive=['bruxelles', 'espagne'], negative=['belgique']))"
   ]
  },
  {
   "cell_type": "code",
   "execution_count": 57,
   "id": "7002b9f2-0b33-487b-bce0-8ff02d53faed",
   "metadata": {},
   "outputs": [
    {
     "name": "stdout",
     "output_type": "stream",
     "text": [
      "[('ostende', 0.47049739956855774), ('hambourg', 0.46142375469207764), ('liege', 0.4603066146373749), ('londres', 0.4260725677013397), ('gand', 0.4188200831413269), ('huy', 0.4173898994922638), ('amsterdam', 0.41226306557655334), ('prague', 0.40881073474884033), ('verviers', 0.40876370668411255), ('alost', 0.39744678139686584)]\n"
     ]
    }
   ],
   "source": [
    "print(model.wv.most_similar(positive=['bruxelles', 'allemagne'], negative=['belgique']))"
   ]
  },
  {
   "cell_type": "code",
   "execution_count": 58,
   "id": "78c1041a-d093-4272-a991-9f414f693820",
   "metadata": {},
   "outputs": [
    {
     "name": "stdout",
     "output_type": "stream",
     "text": [
      "[('ostende', 0.48103100061416626), ('tournai', 0.46375638246536255), ('huy', 0.4626140892505646), ('verviers', 0.4490947425365448), ('liege', 0.4485688805580139), ('utrecht', 0.4342169463634491), ('nivelles', 0.42930662631988525), ('strasbourg', 0.4278566837310791), ('lille', 0.4272634983062744), ('dantzig', 0.42465826869010925)]\n"
     ]
    }
   ],
   "source": [
    "print(model.wv.most_similar(positive=['bruxelles', 'italie'], negative=['belgique']))"
   ]
  },
  {
   "cell_type": "code",
   "execution_count": 59,
   "id": "5d7d584d-1dcc-4893-9c5d-da6b087af7d8",
   "metadata": {},
   "outputs": [
    {
     "name": "stdout",
     "output_type": "stream",
     "text": [
      "[('prague', 0.4715852439403534), ('ostende', 0.4532375931739807), ('tournai', 0.44409194588661194), ('verviers', 0.4252963364124298), ('alost', 0.415606290102005), ('huy', 0.41118675470352173), ('liege', 0.41066187620162964), ('naples', 0.4090690314769745), ('lille', 0.40723085403442383), ('milan', 0.4018479287624359)]\n"
     ]
    }
   ],
   "source": [
    "print(model.wv.most_similar(positive=['bruxelles', 'russie'], negative=['belgique']))"
   ]
  },
  {
   "cell_type": "code",
   "execution_count": 18,
   "id": "959b7768-296f-496e-a949-0238773bd8df",
   "metadata": {},
   "outputs": [
    {
     "name": "stdout",
     "output_type": "stream",
     "text": [
      "[('mere', 0.4184131324291229), ('eoi', 0.4026956558227539), ('boi', 0.39582201838493347), ('fille', 0.3846323490142822), ('famille_royale', 0.3765176236629486), ('eclale', 0.37051498889923096), ('zeepaard', 0.3684881925582886), ('sieur_van_eesbeeck', 0.36782413721084595), ('mgr', 0.3621143698692322), ('princesse_marie', 0.35621941089630127)]\n"
     ]
    }
   ],
   "source": [
    "print(model.wv.most_similar(positive=['roi', 'femme'], negative=['homme']))"
   ]
  },
  {
   "cell_type": "code",
   "execution_count": 15,
   "id": "f32347df-9522-4bc4-bfc0-e83c86caa2c6",
   "metadata": {},
   "outputs": [
    {
     "name": "stdout",
     "output_type": "stream",
     "text": [
      "[('obeissance', 0.538389265537262), ('<<_je_jure', 0.5057224631309509), ('je_jure_fidelite', 0.4389154016971588), ('inalterableattachement', 0.4325920641422272), ('hommage_particulier', 0.4223836660385132), ('peuple_belge', 0.42071980237960815), ('desinteressement', 0.4178043603897095), ('serment_suivant', 0.41470056772232056), ('serment', 0.4126855134963989), ('juste_hommage', 0.4065362513065338)]\n"
     ]
    }
   ],
   "source": [
    "print(model.wv.most_similar(positive=['fidelite', 'homme'], negative=['femme']))"
   ]
  },
  {
   "cell_type": "code",
   "execution_count": 31,
   "id": "aad7944a-aa70-4bd2-8f5f-220cd1aa10f7",
   "metadata": {},
   "outputs": [
    {
     "name": "stdout",
     "output_type": "stream",
     "text": [
      "[('<<_je_jure', 0.5098984241485596), ('obeissance', 0.5080048441886902), ('je_jure_fidelite', 0.46494928002357483), ('serment_suivant', 0.409962922334671), ('jure_fidelite', 0.4073270559310913), ('famille_royale', 0.406828373670578), ('serment_constitutionnel', 0.4066757559776306), ('respectueuse_expression', 0.4052557945251465), ('victoire', 0.3968193829059601), ('liberte_absolue', 0.3927416503429413)]\n"
     ]
    }
   ],
   "source": [
    "print(model.wv.most_similar(positive=['fidelite', 'femme'], negative=['homme']))"
   ]
  },
  {
   "cell_type": "code",
   "execution_count": null,
   "id": "b1b493a1-a788-4e32-ade9-1da484d0ee11",
   "metadata": {},
   "outputs": [
    {
     "name": "stdout",
     "output_type": "stream",
     "text": [
      "[('fenetre', 0.5346331000328064), ('mansarde', 0.5246878862380981), ('cloison', 0.520297110080719), ('terrasse', 0.5074345469474792), ('loge', 0.5059982538223267), ('douche', 0.49894893169403076), ('cave', 0.49847882986068726), ('chaudiere', 0.49798569083213806), ('pouponniere', 0.4923699200153351), ('laverie', 0.4922226071357727)]\n"
     ]
    }
   ],
   "source": [
    "print(model.wv.most_similar(positive=['urinoir', 'femme'], negative=['homme']))"
   ]
  },
  {
   "cell_type": "code",
   "execution_count": null,
   "id": "ae10546f-d68c-4143-a650-deecc7d2dacb",
   "metadata": {},
   "outputs": [
    {
     "name": "stdout",
     "output_type": "stream",
     "text": [
      "[('individu', 0.5726050138473511), ('artiste', 0.5208781361579895), ('honnete_homme', 0.5015160441398621), ('elan', 0.4846319854259491), ('jeune_homme', 0.48355039954185486), ('instrument', 0.4822431802749634), ('seul_homme', 0.47085273265838623), ('quelqu', 0.4698927104473114), ('homme_politique', 0.4673098027706146), ('ecrivain', 0.46418407559394836)]\n"
     ]
    }
   ],
   "source": [
    "print(model.wv.most_similar(positive=['enfant', 'homme'], negative=['femme']))"
   ]
  },
  {
   "cell_type": "code",
   "execution_count": null,
   "id": "40f58198-7397-4d17-8583-7fdf549f5264",
   "metadata": {},
   "outputs": [
    {
     "name": "stdout",
     "output_type": "stream",
     "text": [
      "[('mere', 0.5782514810562134), ('fille', 0.5571849346160889), ('jeune_fille', 0.522800624370575), ('maman', 0.5204247236251831), ('servante', 0.5070370435714722), ('fillette', 0.497027724981308), ('pensionnaire', 0.4956570565700531), ('orpheline', 0.4850376546382904), ('soeur', 0.48322024941444397), ('leurs_parents', 0.48130083084106445)]\n"
     ]
    }
   ],
   "source": [
    "print(model.wv.most_similar(positive=['enfant', 'femme'], negative=['homme']))"
   ]
  },
  {
   "cell_type": "markdown",
   "id": "b5f26112-ec68-4ecf-8192-e4751ee6d10f",
   "metadata": {},
   "source": [
    "#### Modèle 2 du tp3 (32-10)"
   ]
  },
  {
   "cell_type": "code",
   "execution_count": 22,
   "id": "1ad6433a-fd31-4a7d-a36a-c9a5635f17f4",
   "metadata": {},
   "outputs": [
    {
     "name": "stdout",
     "output_type": "stream",
     "text": [
      "CPU times: user 40min 4s, sys: 1min 51s, total: 41min 56s\n",
      "Wall time: 14min 27s\n"
     ]
    }
   ],
   "source": [
    "%%time\n",
    "model = Word2Vec(\n",
    "    corpus, # On passe le corpus de ngrams que nous venons de créer\n",
    "    vector_size=32, # Le nombre de dimensions dans lesquelles le contexte des mots devra être réduit, aka. vector_size\n",
    "    window=10, # La taille du \"contexte\", ici 5 mots avant et après le mot observé\n",
    "    min_count=2, # On ignore les mots qui n'apparaissent pas au moins 5 fois dans le corpus\n",
    "    workers=4, # Permet de paralléliser l'entraînement du modèle en 4 threads\n",
    "    epochs=10 # Nombre d'itérations du réseau de neurones sur le jeu de données pour ajuster les paramètres avec la descende de gradient, aka. epochs.\n",
    ")"
   ]
  },
  {
   "cell_type": "code",
   "execution_count": 23,
   "id": "a48983fb-6f8c-4ebc-b0db-990a63acd301",
   "metadata": {},
   "outputs": [],
   "source": [
    "# outfile = f\"../data/bulletins_tp3_2.model\"\n",
    "# model.save(outfile)"
   ]
  },
  {
   "cell_type": "code",
   "execution_count": 60,
   "id": "b9309320-3c74-45d2-89b1-0aad629be9fd",
   "metadata": {},
   "outputs": [],
   "source": [
    "model = Word2Vec.load(\"../data/bulletins_tp3_2.model\")"
   ]
  },
  {
   "cell_type": "code",
   "execution_count": 25,
   "id": "5eabe922-3fe4-4f8d-af6c-8f60db98f39d",
   "metadata": {},
   "outputs": [
    {
     "data": {
      "text/plain": [
       "0.8609588"
      ]
     },
     "execution_count": 25,
     "metadata": {},
     "output_type": "execute_result"
    }
   ],
   "source": [
    "model.wv.similarity(\"boucher\", \"boulanger\")"
   ]
  },
  {
   "cell_type": "code",
   "execution_count": 26,
   "id": "400352f1-d052-48d9-a9a7-5e202ccee799",
   "metadata": {},
   "outputs": [
    {
     "data": {
      "text/plain": [
       "0.62290215"
      ]
     },
     "execution_count": 26,
     "metadata": {},
     "output_type": "execute_result"
    }
   ],
   "source": [
    "model.wv.similarity(\"homme\", \"femme\")"
   ]
  },
  {
   "cell_type": "code",
   "execution_count": 27,
   "id": "d958af8a-d27e-4107-a014-99d840062869",
   "metadata": {},
   "outputs": [
    {
     "data": {
      "text/plain": [
       "0.41236758"
      ]
     },
     "execution_count": 27,
     "metadata": {},
     "output_type": "execute_result"
    }
   ],
   "source": [
    "model.wv.similarity(\"voiture\", \"carrosse\")"
   ]
  },
  {
   "cell_type": "code",
   "execution_count": 28,
   "id": "b65c0ab4-2ed7-4a07-9d2f-8ccbc4162bda",
   "metadata": {},
   "outputs": [
    {
     "data": {
      "text/plain": [
       "0.5687413"
      ]
     },
     "execution_count": 28,
     "metadata": {},
     "output_type": "execute_result"
    }
   ],
   "source": [
    "model.wv.similarity(\"voiture\", \"chien\")"
   ]
  },
  {
   "cell_type": "code",
   "execution_count": 29,
   "id": "a9a602ab-4ffd-43c8-8797-9dee7525525a",
   "metadata": {},
   "outputs": [
    {
     "data": {
      "text/plain": [
       "[('laeken', 0.8323514461517334),\n",
       " ('liege', 0.7878617644309998),\n",
       " ('nivelles', 0.7507333755493164),\n",
       " ('cantonnale', 0.7505260705947876),\n",
       " ('gand', 0.7435848116874695),\n",
       " ('mons', 0.7311862111091614),\n",
       " ('paris', 0.7162811756134033),\n",
       " ('rruxelles', 0.714896559715271),\n",
       " ('flandres', 0.7096958160400391),\n",
       " ('aux_confins', 0.7072545886039734)]"
      ]
     },
     "execution_count": 29,
     "metadata": {},
     "output_type": "execute_result"
    }
   ],
   "source": [
    "model.wv.most_similar(\"bruxelles\", topn=10)"
   ]
  },
  {
   "cell_type": "code",
   "execution_count": 30,
   "id": "06a162b1-dc02-4648-a250-4bc06638cce7",
   "metadata": {},
   "outputs": [
    {
     "data": {
      "text/plain": [
       "[('batelier', 0.8890909552574158),\n",
       " ('charcutier', 0.8885161876678467),\n",
       " ('macon', 0.8633956909179688),\n",
       " ('boulanger', 0.8609588742256165),\n",
       " ('menuisier', 0.8580062389373779),\n",
       " ('marchand', 0.8434250950813293),\n",
       " ('terrassier', 0.8390104174613953),\n",
       " ('cabaretier', 0.8362985253334045),\n",
       " ('tailleur', 0.8337821960449219),\n",
       " ('poissonnier', 0.8302710652351379)]"
      ]
     },
     "execution_count": 30,
     "metadata": {},
     "output_type": "execute_result"
    }
   ],
   "source": [
    "model.wv.most_similar(\"boucher\", topn=10)"
   ]
  },
  {
   "cell_type": "code",
   "execution_count": 31,
   "id": "22788850-ed3f-4fb6-a016-ce3326625983",
   "metadata": {},
   "outputs": [
    {
     "data": {
      "text/plain": [
       "[('beveiligen', 0.9539734721183777),\n",
       " ('kundig', 0.9495147466659546),\n",
       " ('lnventaris', 0.949018120765686),\n",
       " ('onze_maatschappij', 0.9476034045219421),\n",
       " ('haare', 0.9474144577980042),\n",
       " ('jser', 0.9442475438117981),\n",
       " ('haupt', 0.9437791109085083),\n",
       " ('ontduiking', 0.941407322883606),\n",
       " ('***>', 0.9412257075309753),\n",
       " ('efdael', 0.9409153461456299)]"
      ]
     },
     "execution_count": 31,
     "metadata": {},
     "output_type": "execute_result"
    }
   ],
   "source": [
    "model.wv.most_similar(\"platonisme\", topn=10)"
   ]
  },
  {
   "cell_type": "code",
   "execution_count": 32,
   "id": "3f5b586c-93b3-4c18-9601-c846bc67387c",
   "metadata": {},
   "outputs": [
    {
     "name": "stdout",
     "output_type": "stream",
     "text": [
      "[('huy', 0.8370460271835327), ('ostende', 0.8271083235740662), ('verviers', 0.8080962300300598), ('gand', 0.8075035810470581), ('liege', 0.8056627511978149), ('lille', 0.7857369184494019), ('paris', 0.7746098637580872), ('louvain', 0.7729559540748596), ('flandres', 0.7717507481575012), ('alost', 0.7653114199638367)]\n"
     ]
    }
   ],
   "source": [
    "print(model.wv.most_similar(positive=['bruxelles', 'france'], negative=['belgique']))"
   ]
  },
  {
   "cell_type": "code",
   "execution_count": 61,
   "id": "f338d21e-96d5-41f4-a492-81dd64f84386",
   "metadata": {},
   "outputs": [
    {
     "name": "stdout",
     "output_type": "stream",
     "text": [
      "[('huy', 0.7904998660087585), ('ostende', 0.7780255079269409), ('alost', 0.7758798599243164), ('anvers', 0.7468335032463074), ('binche', 0.7457169890403748), ('tervueren', 0.7373207807540894), ('verviers', 0.7345232367515564), ('tournai', 0.7318522334098816), ('louvain', 0.7309636473655701), ('diest', 0.7263793349266052)]\n"
     ]
    }
   ],
   "source": [
    "print(model.wv.most_similar(positive=['bruxelles', 'espagne'], negative=['belgique']))"
   ]
  },
  {
   "cell_type": "code",
   "execution_count": 62,
   "id": "0f8931bb-e017-4933-ada9-44c7c2c052e4",
   "metadata": {},
   "outputs": [
    {
     "name": "stdout",
     "output_type": "stream",
     "text": [
      "[('ostende', 0.8068431615829468), ('anvers', 0.7899765372276306), ('flandres', 0.7598356008529663), ('huy', 0.7520290613174438), ('liege', 0.739467442035675), ('gand', 0.7379448413848877), ('alost', 0.7348196506500244), ('aux_confins', 0.7319079637527466), ('tervueren', 0.7246596813201904), ('verviers', 0.723300039768219)]\n"
     ]
    }
   ],
   "source": [
    "print(model.wv.most_similar(positive=['bruxelles', 'allemagne'], negative=['belgique']))"
   ]
  },
  {
   "cell_type": "code",
   "execution_count": 63,
   "id": "8f2fb5c2-6538-41c1-af06-0ade312d2380",
   "metadata": {},
   "outputs": [
    {
     "name": "stdout",
     "output_type": "stream",
     "text": [
      "[('ostende', 0.8659056425094604), ('huy', 0.8336936831474304), ('alost', 0.8149629235267639), ('verviers', 0.8075150847434998), ('anvers', 0.8009089231491089), ('lille', 0.7917305827140808), ('amsterdam', 0.7838503122329712), ('tournai', 0.7779895663261414), ('binche', 0.7683148384094238), ('prague', 0.7661488056182861)]\n"
     ]
    }
   ],
   "source": [
    "print(model.wv.most_similar(positive=['bruxelles', 'italie'], negative=['belgique']))"
   ]
  },
  {
   "cell_type": "code",
   "execution_count": 64,
   "id": "ca798ed6-89cc-4418-b8c9-613f71eb0ead",
   "metadata": {},
   "outputs": [
    {
     "name": "stdout",
     "output_type": "stream",
     "text": [
      "[('ostende', 0.8164035677909851), ('koekelberg', 0.7838951945304871), ('carnieres', 0.7828735113143921), ('alost', 0.7827448844909668), ('huy', 0.7820681929588318), ('aux_confins', 0.7762884497642517), ('forest', 0.7740846276283264), ('tervueren', 0.7708583474159241), ('dtxelles', 0.7708445191383362), ('binche', 0.7688791155815125)]\n"
     ]
    }
   ],
   "source": [
    "print(model.wv.most_similar(positive=['bruxelles', 'russie'], negative=['belgique']))"
   ]
  },
  {
   "cell_type": "code",
   "execution_count": 33,
   "id": "05c88a6e-f0e9-4515-8f08-f903ae480d67",
   "metadata": {},
   "outputs": [
    {
     "name": "stdout",
     "output_type": "stream",
     "text": [
      "[('sieur_van_eesbeeck', 0.6661351323127747), ('messe_quotidienne', 0.6570274829864502), ('annep', 0.6544880867004395), ('brabant', 0.6392697095870972), ('dansante_sera', 0.6349672675132751), ('letttre', 0.6327504515647888), ('messe_solennelle', 0.6322498321533203), ('septembre_1949', 0.6276273131370544), ('congregation', 0.6272263526916504), ('unifamiliale', 0.6266288161277771)]\n"
     ]
    }
   ],
   "source": [
    "print(model.wv.most_similar(positive=['roi', 'femme'], negative=['homme']))"
   ]
  },
  {
   "cell_type": "code",
   "execution_count": 34,
   "id": "8f96fdef-f7af-402f-b8d6-b7a1b0cb9a0e",
   "metadata": {},
   "outputs": [
    {
     "name": "stdout",
     "output_type": "stream",
     "text": [
      "[('<<_je_jure', 0.8076946139335632), ('serment_suivant', 0.7857425808906555), ('cartel', 0.7674791812896729), ('verbe', 0.754385232925415), ('respect', 0.7543176412582397), ('mepris', 0.7468379139900208), ('je_jure_fidelite', 0.7452432513237), ('obeissance', 0.7366427183151245), ('peuple_belge', 0.7356619238853455), ('communisme', 0.7327820658683777)]\n"
     ]
    }
   ],
   "source": [
    "print(model.wv.most_similar(positive=['fidelite', 'homme'], negative=['femme']))"
   ]
  },
  {
   "cell_type": "code",
   "execution_count": 35,
   "id": "55676b4b-17a1-43d2-9fca-45294ff5c933",
   "metadata": {},
   "outputs": [
    {
     "name": "stdout",
     "output_type": "stream",
     "text": [
      "[('famille_royale', 0.739972710609436), ('suspension_entraine', 0.7090593576431274), ('commission_paritaire', 0.701867401599884), ('liberte_individuelle', 0.6872615814208984), ('reponse_donnee', 0.6771332025527954), ('liste_portait', 0.6767422556877136), ('elle_commettrait', 0.6667153835296631), ('prefecture', 0.6665677428245544), ('circonscription_militaire', 0.6577958464622498), ('libre_concurrence', 0.6552494168281555)]\n"
     ]
    }
   ],
   "source": [
    "print(model.wv.most_similar(positive=['fidelite', 'femme'], negative=['homme']))"
   ]
  },
  {
   "cell_type": "code",
   "execution_count": null,
   "id": "a8f9b1e5-e012-486a-a547-54725ea0469b",
   "metadata": {},
   "outputs": [
    {
     "name": "stdout",
     "output_type": "stream",
     "text": [
      "[('mansarde', 0.8571958541870117), ('cave', 0.8542822003364563), ('terrasse', 0.8352386355400085), ('glaciere', 0.8255090117454529), ('baignoire', 0.8180697560310364), ('chaudiere', 0.8113610148429871), ('cloison', 0.8081401586532593), ('cloison_vitree', 0.8068118095397949), ('tremie', 0.8022738695144653), ('dalle', 0.7997750639915466)]\n"
     ]
    }
   ],
   "source": [
    "print(model.wv.most_similar(positive=['urinoir', 'femme'], negative=['homme']))"
   ]
  },
  {
   "cell_type": "code",
   "execution_count": null,
   "id": "e3d12b1d-ade4-471e-ac18-7351bde24b51",
   "metadata": {},
   "outputs": [
    {
     "name": "stdout",
     "output_type": "stream",
     "text": [
      "[('outil', 0.8101339340209961), ('instrument', 0.7956112027168274), ('ecrivain', 0.7922137975692749), ('condisciple', 0.7866582870483398), ('interet_particulier', 0.7811781764030457), ('tremplin', 0.7791550159454346), ('elan', 0.7758635878562927), ('compagnon', 0.7740587592124939), ('desinteressement', 0.7727602124214172), ('honnete_homme', 0.767368495464325)]\n"
     ]
    }
   ],
   "source": [
    "print(model.wv.most_similar(positive=['enfant', 'homme'], negative=['femme']))"
   ]
  },
  {
   "cell_type": "code",
   "execution_count": null,
   "id": "c2b9d4d1-b5ac-422d-8b94-0f098e344db2",
   "metadata": {},
   "outputs": [
    {
     "name": "stdout",
     "output_type": "stream",
     "text": [
      "[('fillette', 0.7821374535560608), ('leur_mere', 0.776722252368927), ('fille', 0.7731388807296753), ('classe_flamande', 0.7696354985237122), ('maman', 0.768470823764801), ('carte_medicale', 0.7680832743644714), ('vaccine', 0.7643815279006958), ('incapacite', 0.7630890607833862), ('jeune_fille', 0.7610793113708496), ('servante', 0.7577486038208008)]\n"
     ]
    }
   ],
   "source": [
    "print(model.wv.most_similar(positive=['enfant', 'femme'], negative=['homme']))"
   ]
  },
  {
   "cell_type": "markdown",
   "id": "10191771-5d40-4a43-bfa9-b8b4c42d8841",
   "metadata": {},
   "source": [
    "#### Modèle 3 du tp3 (100-10)"
   ]
  },
  {
   "cell_type": "code",
   "execution_count": 17,
   "id": "310e2c25-4055-4f31-b193-8ae39482fe15",
   "metadata": {},
   "outputs": [
    {
     "name": "stdout",
     "output_type": "stream",
     "text": [
      "CPU times: user 58min 2s, sys: 2min 48s, total: 1h 50s\n",
      "Wall time: 20min 13s\n"
     ]
    }
   ],
   "source": [
    "%%time\n",
    "model = Word2Vec(\n",
    "    corpus, # On passe le corpus de ngrams que nous venons de créer\n",
    "    vector_size=100, # Le nombre de dimensions dans lesquelles le contexte des mots devra être réduit, aka. vector_size\n",
    "    window=10, # La taille du \"contexte\", ici 5 mots avant et après le mot observé\n",
    "    min_count=2, # On ignore les mots qui n'apparaissent pas au moins 5 fois dans le corpus\n",
    "    workers=4, # Permet de paralléliser l'entraînement du modèle en 4 threads\n",
    "    epochs=10 # Nombre d'itérations du réseau de neurones sur le jeu de données pour ajuster les paramètres avec la descende de gradient, aka. epochs.\n",
    ")"
   ]
  },
  {
   "cell_type": "code",
   "execution_count": 18,
   "id": "3515b819-adf6-4862-a6ff-b096a443e3db",
   "metadata": {},
   "outputs": [],
   "source": [
    "# outfile = f\"../data/bulletins_tp3_3.model\"\n",
    "# model.save(outfile)"
   ]
  },
  {
   "cell_type": "code",
   "execution_count": 65,
   "id": "96a2259a-6aed-411d-a252-69cf3b90d970",
   "metadata": {},
   "outputs": [],
   "source": [
    "model = Word2Vec.load(\"../data/bulletins_tp3_3.model\")"
   ]
  },
  {
   "cell_type": "code",
   "execution_count": 20,
   "id": "92a8da35-2f54-4e5a-a090-cce2a279a50b",
   "metadata": {},
   "outputs": [
    {
     "data": {
      "text/plain": [
       "0.698616"
      ]
     },
     "execution_count": 20,
     "metadata": {},
     "output_type": "execute_result"
    }
   ],
   "source": [
    "model.wv.similarity(\"boucher\", \"boulanger\")"
   ]
  },
  {
   "cell_type": "code",
   "execution_count": 21,
   "id": "66cdc5dc-aa92-4e44-8e3e-895913333801",
   "metadata": {},
   "outputs": [
    {
     "data": {
      "text/plain": [
       "0.495938"
      ]
     },
     "execution_count": 21,
     "metadata": {},
     "output_type": "execute_result"
    }
   ],
   "source": [
    "model.wv.similarity(\"homme\", \"femme\")"
   ]
  },
  {
   "cell_type": "code",
   "execution_count": 57,
   "id": "a67372e0-30fc-47ec-851c-88fca1fbdab4",
   "metadata": {},
   "outputs": [
    {
     "data": {
      "text/plain": [
       "0.7249576"
      ]
     },
     "execution_count": 57,
     "metadata": {},
     "output_type": "execute_result"
    }
   ],
   "source": [
    "model.wv.similarity(\"homme\", \"individu\")"
   ]
  },
  {
   "cell_type": "code",
   "execution_count": 59,
   "id": "7f91a83b-f02a-403d-b4b8-08ce640fbc24",
   "metadata": {},
   "outputs": [
    {
     "data": {
      "text/plain": [
       "0.31609356"
      ]
     },
     "execution_count": 59,
     "metadata": {},
     "output_type": "execute_result"
    }
   ],
   "source": [
    "model.wv.similarity(\"bon\", \"mechant\")"
   ]
  },
  {
   "cell_type": "code",
   "execution_count": 60,
   "id": "b487e14d-de0b-4975-9019-adfdea8a254b",
   "metadata": {},
   "outputs": [
    {
     "data": {
      "text/plain": [
       "0.3810237"
      ]
     },
     "execution_count": 60,
     "metadata": {},
     "output_type": "execute_result"
    }
   ],
   "source": [
    "model.wv.similarity(\"beau\", \"vilain\")"
   ]
  },
  {
   "cell_type": "code",
   "execution_count": 63,
   "id": "f729d8f5-f425-4a63-8ff5-fbee8612c643",
   "metadata": {},
   "outputs": [
    {
     "data": {
      "text/plain": [
       "0.84282684"
      ]
     },
     "execution_count": 63,
     "metadata": {},
     "output_type": "execute_result"
    }
   ],
   "source": [
    "model.wv.similarity(\"noir\", \"blanc\")"
   ]
  },
  {
   "cell_type": "code",
   "execution_count": 22,
   "id": "e71be3c9-ab9e-4851-9e47-e4a8b41ba38c",
   "metadata": {},
   "outputs": [
    {
     "data": {
      "text/plain": [
       "0.40252274"
      ]
     },
     "execution_count": 22,
     "metadata": {},
     "output_type": "execute_result"
    }
   ],
   "source": [
    "model.wv.similarity(\"voiture\", \"carrosse\")"
   ]
  },
  {
   "cell_type": "code",
   "execution_count": 23,
   "id": "1698806d-2879-40fe-9d3a-8c8dbed3ff5a",
   "metadata": {},
   "outputs": [
    {
     "data": {
      "text/plain": [
       "0.50289965"
      ]
     },
     "execution_count": 23,
     "metadata": {},
     "output_type": "execute_result"
    }
   ],
   "source": [
    "model.wv.similarity(\"voiture\", \"chien\")"
   ]
  },
  {
   "cell_type": "code",
   "execution_count": 24,
   "id": "18f56729-0781-44f9-8c40-bbaf91f089d1",
   "metadata": {},
   "outputs": [
    {
     "data": {
      "text/plain": [
       "[('bruxelle', 0.6584612131118774),\n",
       " ('rruxelles', 0.6331698298454285),\n",
       " ('nivelles', 0.6230177879333496),\n",
       " ('liege', 0.6171610355377197),\n",
       " ('manufacturiere', 0.6123355031013489),\n",
       " ('xelles', 0.606942355632782),\n",
       " ('franconat', 0.5970131158828735),\n",
       " ('jumeaux_naissances', 0.5757424235343933),\n",
       " ('paris', 0.5751731395721436),\n",
       " ('lille_1860', 0.5711173415184021)]"
      ]
     },
     "execution_count": 24,
     "metadata": {},
     "output_type": "execute_result"
    }
   ],
   "source": [
    "model.wv.most_similar(\"bruxelles\", topn=10)"
   ]
  },
  {
   "cell_type": "code",
   "execution_count": 25,
   "id": "c2bc3833-5986-40e9-abd1-2ead1181e9fb",
   "metadata": {},
   "outputs": [
    {
     "data": {
      "text/plain": [
       "[('cabaretier', 0.7270393967628479),\n",
       " ('charcutier', 0.7228695750236511),\n",
       " ('cordonnier', 0.7149555683135986),\n",
       " ('batelier', 0.7027667760848999),\n",
       " ('abatteur', 0.6987067461013794),\n",
       " ('boulanger', 0.6986159682273865),\n",
       " ('tailleur', 0.6906746625900269),\n",
       " ('coiffeur', 0.6878450512886047),\n",
       " ('serrurier', 0.6874961853027344),\n",
       " ('menuisier', 0.6871436834335327)]"
      ]
     },
     "execution_count": 25,
     "metadata": {},
     "output_type": "execute_result"
    }
   ],
   "source": [
    "model.wv.most_similar(\"boucher\", topn=10)"
   ]
  },
  {
   "cell_type": "code",
   "execution_count": 26,
   "id": "49737627-81ee-4749-93a5-0412ac3db36a",
   "metadata": {},
   "outputs": [
    {
     "data": {
      "text/plain": [
       "[('nnick', 0.9197626113891602),\n",
       " ('maison_hoguet', 0.9195288419723511),\n",
       " ('schakel', 0.9170469045639038),\n",
       " ('orfeo', 0.9167062044143677),\n",
       " ('osmometre', 0.9142835140228271),\n",
       " ('enseignement_moyencomm', 0.912686824798584),\n",
       " ('georges_jamin', 0.9122795462608337),\n",
       " ('schra', 0.911679208278656),\n",
       " ('lepevre', 0.9116352200508118),\n",
       " ('shoren', 0.9113874435424805)]"
      ]
     },
     "execution_count": 26,
     "metadata": {},
     "output_type": "execute_result"
    }
   ],
   "source": [
    "model.wv.most_similar(\"platonisme\", topn=10)"
   ]
  },
  {
   "cell_type": "code",
   "execution_count": 27,
   "id": "260fbbf2-50c9-42cb-99c7-1a6c7c228a3b",
   "metadata": {},
   "outputs": [
    {
     "name": "stdout",
     "output_type": "stream",
     "text": [
      "[('paris', 0.6425924897193909), ('huy', 0.6266448497772217), ('manchester', 0.6221696138381958), ('ostende', 0.6110416054725647), ('liege', 0.6089193820953369), ('verviers', 0.5998810529708862), ('londres', 0.5992816686630249), ('gand', 0.5894689559936523), ('lille', 0.5882652401924133), ('zurich', 0.5808327794075012)]\n"
     ]
    }
   ],
   "source": [
    "print(model.wv.most_similar(positive=['bruxelles', 'france'], negative=['belgique']))"
   ]
  },
  {
   "cell_type": "code",
   "execution_count": 66,
   "id": "8e3f6a2e-4a5e-4862-b74c-93990312f3e5",
   "metadata": {},
   "outputs": [
    {
     "name": "stdout",
     "output_type": "stream",
     "text": [
      "[('ostende', 0.5590019226074219), ('ypres', 0.518216073513031), ('prague', 0.5121057033538818), ('huy', 0.5106456875801086), ('orange', 0.5031889081001282), ('dasson', 0.5020808577537537), ('vorde', 0.5019362568855286), ('varsovie', 0.4903969466686249), ('villers', 0.48674774169921875), ('ilotel', 0.4831918478012085)]\n"
     ]
    }
   ],
   "source": [
    "print(model.wv.most_similar(positive=['bruxelles', 'espagne'], negative=['belgique']))"
   ]
  },
  {
   "cell_type": "code",
   "execution_count": 67,
   "id": "e32727a5-5056-4515-af2c-85c22ef07086",
   "metadata": {},
   "outputs": [
    {
     "name": "stdout",
     "output_type": "stream",
     "text": [
      "[('ostende', 0.6349422335624695), ('hambourg', 0.5833361148834229), ('manchester', 0.5562148094177246), ('cologne', 0.5551559925079346), ('liege', 0.5523889064788818), ('aux_confins', 0.5474224090576172), ('paris', 0.5422813296318054), ('londres', 0.5419241189956665), ('huy', 0.5411401391029358), ('lille', 0.5323721766471863)]\n"
     ]
    }
   ],
   "source": [
    "print(model.wv.most_similar(positive=['bruxelles', 'allemagne'], negative=['belgique']))"
   ]
  },
  {
   "cell_type": "code",
   "execution_count": 68,
   "id": "015202b7-d9bd-4aff-822b-1807abc8a646",
   "metadata": {},
   "outputs": [
    {
     "name": "stdout",
     "output_type": "stream",
     "text": [
      "[('ostende', 0.665611982345581), ('ypres', 0.5989011526107788), ('verviers', 0.5944092273712158), ('tournai', 0.5936087965965271), ('prague', 0.5870149731636047), ('huy', 0.5856355428695679), ('lille', 0.5809487104415894), ('strasbourg', 0.5697795152664185), ('binche', 0.5637325048446655), ('paris', 0.5566901564598083)]\n"
     ]
    }
   ],
   "source": [
    "print(model.wv.most_similar(positive=['bruxelles', 'italie'], negative=['belgique']))"
   ]
  },
  {
   "cell_type": "code",
   "execution_count": 69,
   "id": "581e170c-0964-4543-958d-f9099e36a9f8",
   "metadata": {},
   "outputs": [
    {
     "name": "stdout",
     "output_type": "stream",
     "text": [
      "[('ostende', 0.6307769417762756), ('aux_confins', 0.612930178642273), ('cologne', 0.5907677412033081), ('prague', 0.5803835391998291), ('vorde', 0.5777925252914429), ('manchester', 0.5705851316452026), ('luxembourg', 0.5497907400131226), ('schaerbeek', 0.5432138442993164), ('verviers', 0.5330445170402527), ('louvain', 0.5320402383804321)]\n"
     ]
    }
   ],
   "source": [
    "print(model.wv.most_similar(positive=['bruxelles', 'russie'], negative=['belgique']))"
   ]
  },
  {
   "cell_type": "code",
   "execution_count": 28,
   "id": "fa556517-7138-4bf1-a779-7e3c2e2d6f37",
   "metadata": {},
   "outputs": [
    {
     "name": "stdout",
     "output_type": "stream",
     "text": [
      "[('imperatif', 0.5768752098083496), ('obeissance', 0.5692022442817688), ('desinteressement', 0.5410512089729309), ('<<_je_jure', 0.5405463576316833), ('bon_sens', 0.5386651754379272), ('instinct', 0.5363173484802246), ('sol_natal', 0.5329979062080383), ('respect', 0.5226815342903137), ('attachement', 0.5210670232772827), ('temoignage', 0.5141324400901794)]\n"
     ]
    }
   ],
   "source": [
    "print(model.wv.most_similar(positive=['fidelite', 'homme'], negative=['femme']))"
   ]
  },
  {
   "cell_type": "code",
   "execution_count": 29,
   "id": "76876962-af87-43e9-9181-70d35614fbbc",
   "metadata": {},
   "outputs": [
    {
     "name": "stdout",
     "output_type": "stream",
     "text": [
      "[('obeissance', 0.6050248742103577), ('je_jure_fidelite', 0.5885072946548462), ('<<_je_jure', 0.5569135546684265), ('sauce', 0.5498840808868408), ('famille_royale', 0.5354452729225159), ('clause_restrictive', 0.5033617615699768), ('compagne', 0.49902668595314026), ('cantine', 0.49783438444137573), ('constance', 0.49760422110557556), ('jure_fidelite', 0.49248960614204407)]\n"
     ]
    }
   ],
   "source": [
    "print(model.wv.most_similar(positive=['fidelite', 'femme'], negative=['homme']))"
   ]
  },
  {
   "cell_type": "code",
   "execution_count": null,
   "id": "09ed27c4-8c0d-4ee9-83a9-6b84cb826050",
   "metadata": {},
   "outputs": [
    {
     "name": "stdout",
     "output_type": "stream",
     "text": [
      "[('terrasse', 0.6622209548950195), ('citerne', 0.6605691313743591), ('fenetre', 0.6499979496002197), ('douche', 0.643439531326294), ('chaudiere', 0.629623293876648), ('cave', 0.6253324151039124), ('loge', 0.6245743036270142), ('mansarde', 0.6132846474647522), ('tremie', 0.6107831001281738), ('chaque_etage', 0.6096570491790771)]\n"
     ]
    }
   ],
   "source": [
    "print(model.wv.most_similar(positive=['urinoir', 'femme'], negative=['homme']))"
   ]
  },
  {
   "cell_type": "code",
   "execution_count": null,
   "id": "11c0dd23-7788-4491-8433-609e22eb13ba",
   "metadata": {},
   "outputs": [
    {
     "name": "stdout",
     "output_type": "stream",
     "text": [
      "[('instrument', 0.6663024425506592), ('individu', 0.6549792289733887), ('homme_politique', 0.6462594866752625), ('interet_particulier', 0.6420151591300964), ('outil', 0.6375282406806946), ('optimisme', 0.634356677532196), ('artiste', 0.6333709955215454), ('ecrivain', 0.6259229183197021), ('jurisconsulte', 0.6217120289802551), ('element', 0.6199154257774353)]\n"
     ]
    }
   ],
   "source": [
    "print(model.wv.most_similar(positive=['enfant', 'homme'], negative=['femme']))"
   ]
  },
  {
   "cell_type": "code",
   "execution_count": null,
   "id": "1801b1bb-7634-4ce6-838b-01e77ce9682e",
   "metadata": {},
   "outputs": [
    {
     "name": "stdout",
     "output_type": "stream",
     "text": [
      "[('mere', 0.6947546005249023), ('maman', 0.673855721950531), ('servante', 0.6663793325424194), ('fille', 0.6594533324241638), ('fillette', 0.6279776096343994), ('pensionnaire', 0.616085410118103), ('colonie', 0.6102551221847534), ('maladie', 0.6072104573249817), ('orpheline', 0.601021409034729), ('famille', 0.5950475335121155)]\n"
     ]
    }
   ],
   "source": [
    "print(model.wv.most_similar(positive=['enfant', 'femme'], negative=['homme']))"
   ]
  },
  {
   "cell_type": "markdown",
   "id": "653f5420-419c-4d87-8bb7-05a48a1e760a",
   "metadata": {},
   "source": [
    "#### Modèle 4 du tp3 (100-13)"
   ]
  },
  {
   "cell_type": "code",
   "execution_count": 20,
   "id": "59eb19ff-7e5a-4709-96f5-cc6040f15963",
   "metadata": {},
   "outputs": [
    {
     "name": "stdout",
     "output_type": "stream",
     "text": [
      "CPU times: user 58min 15s, sys: 3min 9s, total: 1h 1min 24s\n",
      "Wall time: 19min 14s\n"
     ]
    }
   ],
   "source": [
    "%%time\n",
    "model = Word2Vec(\n",
    "    corpus, # On passe le corpus de ngrams que nous venons de créer\n",
    "    vector_size=100, # Le nombre de dimensions dans lesquelles le contexte des mots devra être réduit, aka. vector_size\n",
    "    window=13, # La taille du \"contexte\", ici 5 mots avant et après le mot observé\n",
    "    min_count=2, # On ignore les mots qui n'apparaissent pas au moins 5 fois dans le corpus\n",
    "    workers=4, # Permet de paralléliser l'entraînement du modèle en 4 threads\n",
    "    epochs=10 # Nombre d'itérations du réseau de neurones sur le jeu de données pour ajuster les paramètres avec la descende de gradient, aka. epochs.\n",
    ")"
   ]
  },
  {
   "cell_type": "code",
   "execution_count": 21,
   "id": "4e4ee43b-a6db-4e72-a995-6a9b53d80277",
   "metadata": {},
   "outputs": [],
   "source": [
    "# outfile = f\"../data/bulletins_tp3_4.model\"\n",
    "# model.save(outfile)"
   ]
  },
  {
   "cell_type": "code",
   "execution_count": 70,
   "id": "bf7074a3-d6e9-472f-a3f7-edffc09e6b1e",
   "metadata": {},
   "outputs": [],
   "source": [
    "model = Word2Vec.load(\"../data/bulletins_tp3_4.model\")"
   ]
  },
  {
   "cell_type": "code",
   "execution_count": 23,
   "id": "3d7334db-6410-4dad-823c-b9360899597b",
   "metadata": {},
   "outputs": [
    {
     "data": {
      "text/plain": [
       "0.6894763"
      ]
     },
     "execution_count": 23,
     "metadata": {},
     "output_type": "execute_result"
    }
   ],
   "source": [
    "model.wv.similarity(\"boucher\", \"boulanger\")"
   ]
  },
  {
   "cell_type": "code",
   "execution_count": 24,
   "id": "aa5fb73d-6c38-4149-ab87-0c503f134848",
   "metadata": {},
   "outputs": [
    {
     "data": {
      "text/plain": [
       "0.5139492"
      ]
     },
     "execution_count": 24,
     "metadata": {},
     "output_type": "execute_result"
    }
   ],
   "source": [
    "model.wv.similarity(\"homme\", \"femme\")"
   ]
  },
  {
   "cell_type": "code",
   "execution_count": 25,
   "id": "7e3ffc5a-894e-4831-ad55-9fdd13807d72",
   "metadata": {},
   "outputs": [
    {
     "data": {
      "text/plain": [
       "0.36424264"
      ]
     },
     "execution_count": 25,
     "metadata": {},
     "output_type": "execute_result"
    }
   ],
   "source": [
    "model.wv.similarity(\"voiture\", \"carrosse\")"
   ]
  },
  {
   "cell_type": "code",
   "execution_count": 26,
   "id": "c0f9f76e-7d3b-409d-bb59-ec6bb8b4500c",
   "metadata": {},
   "outputs": [
    {
     "data": {
      "text/plain": [
       "0.48760676"
      ]
     },
     "execution_count": 26,
     "metadata": {},
     "output_type": "execute_result"
    }
   ],
   "source": [
    "model.wv.similarity(\"voiture\", \"chien\")"
   ]
  },
  {
   "cell_type": "code",
   "execution_count": 27,
   "id": "941deaaa-d412-481b-8e74-a6c9f85a92af",
   "metadata": {},
   "outputs": [
    {
     "data": {
      "text/plain": [
       "[('bruxelle', 0.6245981454849243),\n",
       " ('nivelles', 0.6151034832000732),\n",
       " ('rruxelles', 0.6131613850593567),\n",
       " ('liege', 0.6117175221443176),\n",
       " ('manufacturiere', 0.611532986164093),\n",
       " ('bruxe', 0.6067845821380615),\n",
       " ('dette_active', 0.5983333587646484),\n",
       " ('xelles', 0.5959808230400085),\n",
       " ('laeken', 0.5916270017623901),\n",
       " ('bruxeles', 0.5790594816207886)]"
      ]
     },
     "execution_count": 27,
     "metadata": {},
     "output_type": "execute_result"
    }
   ],
   "source": [
    "model.wv.most_similar(\"bruxelles\", topn=10)"
   ]
  },
  {
   "cell_type": "code",
   "execution_count": 28,
   "id": "667dc1be-b754-4e63-a7bc-3552edf9afb7",
   "metadata": {},
   "outputs": [
    {
     "data": {
      "text/plain": [
       "[('charcutier', 0.7176762223243713),\n",
       " ('serrurier', 0.7069606781005859),\n",
       " ('cabaretier', 0.6978020071983337),\n",
       " ('boulanger', 0.6894762516021729),\n",
       " ('menuisier', 0.6731460690498352),\n",
       " ('tailleur', 0.670230507850647),\n",
       " ('coiffeur', 0.6694632172584534),\n",
       " ('abatteur', 0.6684247851371765),\n",
       " ('cordonnier', 0.6652677059173584),\n",
       " ('batelier', 0.6597355008125305)]"
      ]
     },
     "execution_count": 28,
     "metadata": {},
     "output_type": "execute_result"
    }
   ],
   "source": [
    "model.wv.most_similar(\"boucher\", topn=10)"
   ]
  },
  {
   "cell_type": "code",
   "execution_count": 29,
   "id": "58c73400-d3e5-4db6-be6f-d4cba06cce80",
   "metadata": {},
   "outputs": [
    {
     "data": {
      "text/plain": [
       "[('memoriam', 0.9293033480644226),\n",
       " ('indigena', 0.9271607398986816),\n",
       " ('sartori', 0.926234245300293),\n",
       " ('kretzschmar', 0.9246671199798584),\n",
       " ('lnventaris', 0.922118067741394),\n",
       " ('konigl', 0.9211611151695251),\n",
       " ('erchem', 0.9204046130180359),\n",
       " ('nemingen', 0.9197832942008972),\n",
       " ('torenkruis', 0.9192084670066833),\n",
       " ('macker', 0.9191706776618958)]"
      ]
     },
     "execution_count": 29,
     "metadata": {},
     "output_type": "execute_result"
    }
   ],
   "source": [
    "model.wv.most_similar(\"platonisme\", topn=10)"
   ]
  },
  {
   "cell_type": "code",
   "execution_count": 30,
   "id": "3cca4c90-dfb5-4671-8724-565d1ba53b4a",
   "metadata": {},
   "outputs": [
    {
     "name": "stdout",
     "output_type": "stream",
     "text": [
      "[('londres', 0.6029162406921387), ('manchester', 0.6002193093299866), ('liege', 0.5949788093566895), ('paris', 0.5923264026641846), ('hambourg', 0.5783761739730835), ('ostende', 0.5692737698554993), ('huy', 0.5623244643211365), ('lille', 0.5608959197998047), ('prague', 0.5584180951118469), ('tournai', 0.5457510948181152)]\n"
     ]
    }
   ],
   "source": [
    "print(model.wv.most_similar(positive=['bruxelles', 'france'], negative=['belgique']))"
   ]
  },
  {
   "cell_type": "code",
   "execution_count": 71,
   "id": "e8fb3d56-1a76-4458-a65a-62ea5bf94811",
   "metadata": {},
   "outputs": [
    {
     "name": "stdout",
     "output_type": "stream",
     "text": [
      "[('carabain', 0.5113374590873718), ('ypres', 0.5078569054603577), ('ostende', 0.49739864468574524), ('baudouin', 0.4965556561946869), ('tournai', 0.49541521072387695), ('dantzig', 0.49451330304145813), ('varsovie', 0.4906974732875824), ('aerschot', 0.4774479866027832), ('dampierre', 0.47439342737197876), ('audenaerde', 0.4721287786960602)]\n"
     ]
    }
   ],
   "source": [
    "print(model.wv.most_similar(positive=['bruxelles', 'espagne'], negative=['belgique']))"
   ]
  },
  {
   "cell_type": "code",
   "execution_count": 72,
   "id": "564b9f85-9fb4-43c8-bbcb-25bf0bdd833b",
   "metadata": {},
   "outputs": [
    {
     "name": "stdout",
     "output_type": "stream",
     "text": [
      "[('ostende', 0.5902448892593384), ('hambourg', 0.5635671019554138), ('manchester', 0.5483006238937378), ('londres', 0.5309250354766846), ('liege', 0.5296352505683899), ('amsterdam', 0.5255591869354248), ('aux_confins', 0.5165202021598816), ('huy', 0.5079426765441895), ('lille', 0.5069329142570496), ('paris', 0.4950019121170044)]\n"
     ]
    }
   ],
   "source": [
    "print(model.wv.most_similar(positive=['bruxelles', 'allemagne'], negative=['belgique']))"
   ]
  },
  {
   "cell_type": "code",
   "execution_count": 73,
   "id": "0a6b66a6-f168-40b7-9ade-9562bde39762",
   "metadata": {},
   "outputs": [
    {
     "name": "stdout",
     "output_type": "stream",
     "text": [
      "[('ostende', 0.6064270734786987), ('tournai', 0.5685453414916992), ('lille', 0.564100980758667), ('manchester', 0.5583289861679077), ('liege', 0.5498932600021362), ('manufacturiere', 0.5436027646064758), ('basse', 0.5346233248710632), ('huy', 0.5344225168228149), ('ypres', 0.530640184879303), ('amsterdam', 0.5283356308937073)]\n"
     ]
    }
   ],
   "source": [
    "print(model.wv.most_similar(positive=['bruxelles', 'italie'], negative=['belgique']))"
   ]
  },
  {
   "cell_type": "code",
   "execution_count": 74,
   "id": "c7157a34-f15a-4b29-b80c-d5a346db7efa",
   "metadata": {},
   "outputs": [
    {
     "name": "stdout",
     "output_type": "stream",
     "text": [
      "[('ostende', 0.5779991149902344), ('manchester', 0.5659915804862976), ('prague', 0.5576806664466858), ('schaerbeek', 0.5554612874984741), ('tournai', 0.5372169613838196), ('lille', 0.5324880480766296), ('haut', 0.5320874452590942), ('cologne', 0.5166338086128235), ('huy', 0.5127685070037842), ('liege', 0.5096699595451355)]\n"
     ]
    }
   ],
   "source": [
    "print(model.wv.most_similar(positive=['bruxelles', 'russie'], negative=['belgique']))"
   ]
  },
  {
   "cell_type": "code",
   "execution_count": 31,
   "id": "cf8f7cef-df55-44f9-b7ad-e2035d31f2c4",
   "metadata": {},
   "outputs": [
    {
     "name": "stdout",
     "output_type": "stream",
     "text": [
      "[('obeissance', 0.605998158454895), ('<<_je_jure', 0.5841607451438904), ('peuple_belge', 0.5590676665306091), ('sol_natal', 0.5548775792121887), ('juste_hommage', 0.5513530969619751), ('prestige', 0.5393761396408081), ('desinteressement', 0.5329120755195618), ('instinct', 0.5297734141349792), ('bon_sens', 0.5261308550834656), ('citoyen', 0.5243722200393677)]\n"
     ]
    }
   ],
   "source": [
    "print(model.wv.most_similar(positive=['fidelite', 'homme'], negative=['femme']))"
   ]
  },
  {
   "cell_type": "code",
   "execution_count": 32,
   "id": "8c736bcc-41ba-4dc0-be27-86f67c3d9781",
   "metadata": {},
   "outputs": [
    {
     "name": "stdout",
     "output_type": "stream",
     "text": [
      "[('obeissance', 0.6290702223777771), ('je_jure_fidelite', 0.5885182023048401), ('<<_je_jure', 0.5691977739334106), ('sauce', 0.5435115694999695), ('serment_suivant', 0.5107361078262329), ('documentation_relative', 0.5010335445404053), ('jure_fidelite', 0.49495068192481995), ('constance', 0.48649510741233826), ('cousine', 0.48115071654319763), ('peuple_belge', 0.47819238901138306)]\n"
     ]
    }
   ],
   "source": [
    "print(model.wv.most_similar(positive=['fidelite', 'femme'], negative=['homme']))"
   ]
  },
  {
   "cell_type": "code",
   "execution_count": 33,
   "id": "2f60251b-125d-48c3-9103-f492c151d3ab",
   "metadata": {},
   "outputs": [
    {
     "name": "stdout",
     "output_type": "stream",
     "text": [
      "[('cave', 0.6766044497489929), ('terrasse', 0.6721158623695374), ('citerne', 0.6573778390884399), ('laverie', 0.6532216668128967), ('loge', 0.6492891311645508), ('fenetre', 0.6460978984832764), ('chaudiere', 0.6155376434326172), ('mansarde', 0.6098559498786926), ('cloison', 0.6096054911613464), ('grande_cour', 0.601954996585846)]\n"
     ]
    }
   ],
   "source": [
    "print(model.wv.most_similar(positive=['urinoir', 'femme'], negative=['homme']))"
   ]
  },
  {
   "cell_type": "code",
   "execution_count": 34,
   "id": "cf6bb94d-3267-43e6-8f4d-7d8b53d60002",
   "metadata": {},
   "outputs": [
    {
     "name": "stdout",
     "output_type": "stream",
     "text": [
      "[('instrument', 0.6630492210388184), ('element', 0.6583802103996277), ('individu', 0.6516796946525574), ('elan', 0.6513887047767639), ('jurisconsulte', 0.6288636326789856), ('homme_politique', 0.6216161251068115), ('homme_illustre', 0.6213032007217407), ('outil', 0.6207229495048523), ('artiste', 0.6187145113945007), ('orgueil', 0.6057250499725342)]\n"
     ]
    }
   ],
   "source": [
    "print(model.wv.most_similar(positive=['enfant', 'homme'], negative=['femme']))"
   ]
  },
  {
   "cell_type": "code",
   "execution_count": 35,
   "id": "dc94e94c-5ef7-413c-84f2-3ef363d27eb2",
   "metadata": {},
   "outputs": [
    {
     "name": "stdout",
     "output_type": "stream",
     "text": [
      "[('mere', 0.6739556789398193), ('maman', 0.6626560688018799), ('fillette', 0.6312063932418823), ('fille', 0.6264563202857971), ('maladie', 0.6260286569595337), ('pensionnaire', 0.6186718344688416), ('servante', 0.6135286688804626), ('leurs_parents', 0.6006483435630798), ('colonie', 0.5975514650344849), ('orpheline', 0.5905892848968506)]\n"
     ]
    }
   ],
   "source": [
    "print(model.wv.most_similar(positive=['enfant', 'femme'], negative=['homme']))"
   ]
  },
  {
   "cell_type": "markdown",
   "id": "8b1aca70-009e-4f94-a643-c11c82b6123a",
   "metadata": {},
   "source": [
    "#### Modèle 5 du tp3 (100-7)"
   ]
  },
  {
   "cell_type": "code",
   "execution_count": 37,
   "id": "3fb24450-8341-4d78-90f2-6d32156f5552",
   "metadata": {},
   "outputs": [
    {
     "name": "stdout",
     "output_type": "stream",
     "text": [
      "CPU times: user 1h 5min 4s, sys: 4min 7s, total: 1h 9min 11s\n",
      "Wall time: 24min 47s\n"
     ]
    }
   ],
   "source": [
    "%%time\n",
    "model = Word2Vec(\n",
    "    corpus, # On passe le corpus de ngrams que nous venons de créer\n",
    "    vector_size=100, # Le nombre de dimensions dans lesquelles le contexte des mots devra être réduit, aka. vector_size\n",
    "    window=7, # La taille du \"contexte\", ici 5 mots avant et après le mot observé\n",
    "    min_count=2, # On ignore les mots qui n'apparaissent pas au moins 5 fois dans le corpus\n",
    "    workers=4, # Permet de paralléliser l'entraînement du modèle en 4 threads\n",
    "    epochs=10 # Nombre d'itérations du réseau de neurones sur le jeu de données pour ajuster les paramètres avec la descende de gradient, aka. epochs.\n",
    ")"
   ]
  },
  {
   "cell_type": "code",
   "execution_count": 38,
   "id": "2446069b-d1c2-4dfc-ba97-759048649973",
   "metadata": {},
   "outputs": [],
   "source": [
    "# outfile = f\"../data/bulletins_tp3_5.model\"\n",
    "# model.save(outfile)"
   ]
  },
  {
   "cell_type": "code",
   "execution_count": 75,
   "id": "81e46792-9134-42d6-9310-1d2f4dfafed2",
   "metadata": {},
   "outputs": [],
   "source": [
    "model = Word2Vec.load(\"../data/bulletins_tp3_5.model\")"
   ]
  },
  {
   "cell_type": "code",
   "execution_count": 40,
   "id": "3465745f-51da-4a2b-828d-69236925d1be",
   "metadata": {},
   "outputs": [
    {
     "data": {
      "text/plain": [
       "0.73597544"
      ]
     },
     "execution_count": 40,
     "metadata": {},
     "output_type": "execute_result"
    }
   ],
   "source": [
    "model.wv.similarity(\"boucher\", \"boulanger\")"
   ]
  },
  {
   "cell_type": "code",
   "execution_count": 41,
   "id": "d2443d2e-38af-4e13-ab07-e07b49b4b967",
   "metadata": {},
   "outputs": [
    {
     "data": {
      "text/plain": [
       "0.4968657"
      ]
     },
     "execution_count": 41,
     "metadata": {},
     "output_type": "execute_result"
    }
   ],
   "source": [
    "model.wv.similarity(\"homme\", \"femme\")"
   ]
  },
  {
   "cell_type": "code",
   "execution_count": 42,
   "id": "c4b92841-38c7-434d-89be-883d7113ff28",
   "metadata": {},
   "outputs": [
    {
     "data": {
      "text/plain": [
       "0.32512385"
      ]
     },
     "execution_count": 42,
     "metadata": {},
     "output_type": "execute_result"
    }
   ],
   "source": [
    "model.wv.similarity(\"voiture\", \"carrosse\")"
   ]
  },
  {
   "cell_type": "code",
   "execution_count": 43,
   "id": "09a64b30-6794-46cf-8dcd-72249f329f01",
   "metadata": {},
   "outputs": [
    {
     "data": {
      "text/plain": [
       "0.49683255"
      ]
     },
     "execution_count": 43,
     "metadata": {},
     "output_type": "execute_result"
    }
   ],
   "source": [
    "model.wv.similarity(\"voiture\", \"chien\")"
   ]
  },
  {
   "cell_type": "code",
   "execution_count": 44,
   "id": "965e470f-ec09-4f5b-b193-3b55bcb77de8",
   "metadata": {},
   "outputs": [
    {
     "data": {
      "text/plain": [
       "[('rruxelles', 0.6734998822212219),\n",
       " ('bruxelle', 0.6661106944084167),\n",
       " ('nivelles', 0.6410489082336426),\n",
       " ('rilotel', 0.6126345992088318),\n",
       " ('liege', 0.6124768257141113),\n",
       " ('laeken', 0.6062876582145691),\n",
       " ('prague', 0.5905728340148926),\n",
       " ('paris', 0.5812634229660034),\n",
       " ('bruxe', 0.5775205492973328),\n",
       " ('thotel', 0.5755437016487122)]"
      ]
     },
     "execution_count": 44,
     "metadata": {},
     "output_type": "execute_result"
    }
   ],
   "source": [
    "model.wv.most_similar(\"bruxelles\", topn=10)"
   ]
  },
  {
   "cell_type": "code",
   "execution_count": 45,
   "id": "c0e4fa7c-dd2d-429b-8b6e-928e956a1399",
   "metadata": {},
   "outputs": [
    {
     "data": {
      "text/plain": [
       "[('cabaretier', 0.7500571012496948),\n",
       " ('charcutier', 0.7466012835502625),\n",
       " ('batelier', 0.7365172505378723),\n",
       " ('boulanger', 0.7359753847122192),\n",
       " ('cordonnier', 0.7342681288719177),\n",
       " ('tailleur', 0.7201100587844849),\n",
       " ('menuisier', 0.7160308957099915),\n",
       " ('serrurier', 0.7102100849151611),\n",
       " ('marchand', 0.7081350684165955),\n",
       " ('tapissier', 0.7031669020652771)]"
      ]
     },
     "execution_count": 45,
     "metadata": {},
     "output_type": "execute_result"
    }
   ],
   "source": [
    "model.wv.most_similar(\"boucher\", topn=10)"
   ]
  },
  {
   "cell_type": "code",
   "execution_count": 46,
   "id": "11df9d34-c192-4e4c-bf90-64e58cf2e432",
   "metadata": {},
   "outputs": [
    {
     "data": {
      "text/plain": [
       "[('openbare_tekoopstelling', 0.9188531637191772),\n",
       " ('45707', 0.9182823300361633),\n",
       " ('andrade', 0.9179937243461609),\n",
       " ('maison_hoguet', 0.9170889854431152),\n",
       " ('chapeliers_cinematographes', 0.9166592359542847),\n",
       " ('joh', 0.9159383177757263),\n",
       " ('zwanen', 0.9153969883918762),\n",
       " ('guiseppe', 0.9151684641838074),\n",
       " ('alder', 0.9139969348907471),\n",
       " ('chafitre', 0.9138032793998718)]"
      ]
     },
     "execution_count": 46,
     "metadata": {},
     "output_type": "execute_result"
    }
   ],
   "source": [
    "model.wv.most_similar(\"platonisme\", topn=10)"
   ]
  },
  {
   "cell_type": "code",
   "execution_count": 47,
   "id": "e56818a3-3efa-489f-87c6-52f991e534c3",
   "metadata": {},
   "outputs": [
    {
     "name": "stdout",
     "output_type": "stream",
     "text": [
      "[('londres', 0.6196915507316589), ('huy', 0.6139494180679321), ('paris', 0.612241268157959), ('prague', 0.6118791103363037), ('strasbourg', 0.6046821475028992), ('liege', 0.6004124879837036), ('ostende', 0.5979876518249512), ('tournai', 0.5954980850219727), ('verviers', 0.5954693555831909), ('lille', 0.5920859575271606)]\n"
     ]
    }
   ],
   "source": [
    "print(model.wv.most_similar(positive=['bruxelles', 'france'], negative=['belgique']))"
   ]
  },
  {
   "cell_type": "code",
   "execution_count": 76,
   "id": "f29e496d-eecf-4cc1-9aeb-3b5f715cd591",
   "metadata": {},
   "outputs": [
    {
     "name": "stdout",
     "output_type": "stream",
     "text": [
      "[('prague', 0.5503891110420227), ('ostende', 0.5318549275398254), ('irlande', 0.5224217176437378), ('ypres', 0.5218260884284973), ('thotel', 0.5095411539077759), ('tournai', 0.5063199996948242), ('strasbourg', 0.49888157844543457), ('argenteuil', 0.49751147627830505), ('vesale', 0.48966410756111145), ('edimbourg', 0.4892043471336365)]\n"
     ]
    }
   ],
   "source": [
    "print(model.wv.most_similar(positive=['bruxelles', 'espagne'], negative=['belgique']))"
   ]
  },
  {
   "cell_type": "code",
   "execution_count": 77,
   "id": "2ffdd45c-50ac-4cd1-bd62-63383f024667",
   "metadata": {},
   "outputs": [
    {
     "name": "stdout",
     "output_type": "stream",
     "text": [
      "[('ostende', 0.6012612581253052), ('prague', 0.5643337965011597), ('londres', 0.5528656840324402), ('paris', 0.5347831845283508), ('lille', 0.5164390206336975), ('amsterdam', 0.5154851675033569), ('huy', 0.5146849155426025), ('liege', 0.5146468877792358), ('hambourg', 0.5100196599960327), ('3tiia', 0.5036190152168274)]\n"
     ]
    }
   ],
   "source": [
    "print(model.wv.most_similar(positive=['bruxelles', 'allemagne'], negative=['belgique']))"
   ]
  },
  {
   "cell_type": "code",
   "execution_count": 78,
   "id": "75b24ada-23b6-4160-b732-9984c98b3d7e",
   "metadata": {},
   "outputs": [
    {
     "name": "stdout",
     "output_type": "stream",
     "text": [
      "[('ostende', 0.630800724029541), ('strasbourg', 0.6188726425170898), ('tournai', 0.5842278003692627), ('prague', 0.5816137790679932), ('verviers', 0.575137734413147), ('huy', 0.5739449262619019), ('lille', 0.5552613735198975), ('paris', 0.5530115962028503), ('amsterdam', 0.5458919405937195), ('thotel', 0.5422924160957336)]\n"
     ]
    }
   ],
   "source": [
    "print(model.wv.most_similar(positive=['bruxelles', 'italie'], negative=['belgique']))"
   ]
  },
  {
   "cell_type": "code",
   "execution_count": 79,
   "id": "7d8450c4-d158-47c0-ac61-66d0c99cfbe4",
   "metadata": {},
   "outputs": [
    {
     "name": "stdout",
     "output_type": "stream",
     "text": [
      "[('prague', 0.6325637698173523), ('schaerbeek', 0.6094449162483215), ('ostende', 0.5848404169082642), ('luxembourg', 0.5727669596672058), ('laeken', 0.5571810007095337), ('forest', 0.5558596253395081), ('cologne', 0.5432012677192688), ('louvain', 0.542707622051239), ('vorde', 0.5427005887031555), ('verviers', 0.5415210723876953)]\n"
     ]
    }
   ],
   "source": [
    "print(model.wv.most_similar(positive=['bruxelles', 'russie'], negative=['belgique']))"
   ]
  },
  {
   "cell_type": "code",
   "execution_count": 48,
   "id": "63887348-9b93-4ea3-a028-7132e6cddea4",
   "metadata": {},
   "outputs": [
    {
     "name": "stdout",
     "output_type": "stream",
     "text": [
      "[('obeissance', 0.5728465914726257), ('<<_je_jure', 0.5694021582603455), ('imperatif', 0.5405074954032898), ('desinteressement', 0.5380254983901978), ('peuple_flamand', 0.5256156921386719), ('episode', 0.5096283555030823), ('constitutionnel', 0.5089327096939087), ('je_jure_fidelite', 0.503819465637207), ('instinct', 0.499616801738739), ('ensemble_architectural', 0.49446341395378113)]\n"
     ]
    }
   ],
   "source": [
    "print(model.wv.most_similar(positive=['fidelite', 'homme'], negative=['femme']))"
   ]
  },
  {
   "cell_type": "code",
   "execution_count": 49,
   "id": "ed6ab4bb-9bfb-4374-b23f-9c57aee34e00",
   "metadata": {},
   "outputs": [
    {
     "name": "stdout",
     "output_type": "stream",
     "text": [
      "[('obeissance', 0.5828089118003845), ('famille_royale', 0.554032564163208), ('sauce', 0.5483404994010925), ('monarchie', 0.5462076663970947), ('je_jure_fidelite', 0.5453361868858337), ('<<_je_jure', 0.5133175253868103), ('cantine', 0.5123889446258545), ('compagne', 0.5098216533660889), ('tarte', 0.5086079835891724), ('victoire', 0.5077992677688599)]\n"
     ]
    }
   ],
   "source": [
    "print(model.wv.most_similar(positive=['fidelite', 'femme'], negative=['homme']))"
   ]
  },
  {
   "cell_type": "code",
   "execution_count": 50,
   "id": "db47d04f-81d6-4f1d-9033-ea21bc583987",
   "metadata": {},
   "outputs": [
    {
     "name": "stdout",
     "output_type": "stream",
     "text": [
      "[('cellule', 0.6800757646560669), ('loge', 0.670630693435669), ('terrasse', 0.6701534390449524), ('douche', 0.6575928926467896), ('cave', 0.651539146900177), ('fenetre', 0.6492428779602051), ('mansarde', 0.6422395706176758), ('garderie', 0.6345840096473694), ('citerne', 0.623020350933075), ('laverie', 0.6198109984397888)]\n"
     ]
    }
   ],
   "source": [
    "print(model.wv.most_similar(positive=['urinoir', 'femme'], negative=['homme']))"
   ]
  },
  {
   "cell_type": "code",
   "execution_count": 51,
   "id": "7e8587ad-d595-47e9-8a62-60df0fbebc33",
   "metadata": {},
   "outputs": [
    {
     "name": "stdout",
     "output_type": "stream",
     "text": [
      "[('individu', 0.669407069683075), ('etre_humain', 0.6576298475265503), ('optimisme', 0.6521869897842407), ('instrument', 0.6490356922149658), ('element', 0.6462197303771973), ('homme_politique', 0.644122838973999), ('interet_particulier', 0.6403871178627014), ('outil', 0.6402451992034912), ('jurisconsulte', 0.6166369915008545), ('instinct', 0.6153025031089783)]\n"
     ]
    }
   ],
   "source": [
    "print(model.wv.most_similar(positive=['enfant', 'homme'], negative=['femme']))"
   ]
  },
  {
   "cell_type": "code",
   "execution_count": 52,
   "id": "abe5a01f-a8d1-4434-8a49-9b0fd56a12e5",
   "metadata": {},
   "outputs": [
    {
     "name": "stdout",
     "output_type": "stream",
     "text": [
      "[('mere', 0.6830453872680664), ('maman', 0.6731988787651062), ('fille', 0.6685454845428467), ('fillette', 0.6308883428573608), ('servante', 0.6275987029075623), ('maladie', 0.6263610124588013), ('jeune_fille', 0.6254672408103943), ('pensionnaire', 0.6240344643592834), ('colonie', 0.6148338913917542), ('premiere_communion', 0.5985870957374573)]\n"
     ]
    }
   ],
   "source": [
    "print(model.wv.most_similar(positive=['enfant', 'femme'], negative=['homme']))"
   ]
  },
  {
   "cell_type": "code",
   "execution_count": 54,
   "id": "d7429ee5-f4e6-4578-a5ae-f3bb7f169a8c",
   "metadata": {},
   "outputs": [
    {
     "name": "stdout",
     "output_type": "stream",
     "text": [
      "[('eoi', 0.550216019153595), ('mere', 0.5251489877700806), ('iication', 0.49920013546943665), ('sentence', 0.48368674516677856), ('fille', 0.4814489483833313), ('legion_nationale', 0.48094841837882996), ('general_belliard', 0.48025375604629517), ('louve', 0.47936856746673584), ('defunt', 0.4689710736274719), ('famille_royale', 0.4682580232620239)]\n"
     ]
    }
   ],
   "source": [
    "print(model.wv.most_similar(positive=['roi', 'femme'], negative=['homme']))"
   ]
  },
  {
   "cell_type": "code",
   "execution_count": 55,
   "id": "3ea4cb42-fd66-4edf-b52c-8f4cce771194",
   "metadata": {},
   "outputs": [
    {
     "data": {
      "text/plain": [
       "[('beine', 0.7733144760131836),\n",
       " ('renaissance', 0.765352725982666),\n",
       " ('brabanconne', 0.7470369935035706),\n",
       " ('heine', 0.7218537926673889),\n",
       " ('reine_elisabeth', 0.7036610245704651),\n",
       " ('chevalerie', 0.6953015923500061),\n",
       " ('sarriette', 0.6943184733390808),\n",
       " ('clairiere', 0.6917508244514465),\n",
       " ('madrid', 0.6880948543548584),\n",
       " ('colombie', 0.6780986189842224)]"
      ]
     },
     "execution_count": 55,
     "metadata": {},
     "output_type": "execute_result"
    }
   ],
   "source": [
    "model.wv.most_similar(\"reine\", topn=10)"
   ]
  },
  {
   "cell_type": "markdown",
   "id": "d87bf862-3212-400d-93ec-851a8c889552",
   "metadata": {},
   "source": [
    "#### Modèle 6 du tp3 (32-7)"
   ]
  },
  {
   "cell_type": "code",
   "execution_count": 17,
   "id": "2c30b2de-ed46-43e8-917e-274a7cdc437f",
   "metadata": {},
   "outputs": [
    {
     "name": "stdout",
     "output_type": "stream",
     "text": [
      "CPU times: user 35min 34s, sys: 1min 30s, total: 37min 4s\n",
      "Wall time: 12min 58s\n"
     ]
    }
   ],
   "source": [
    "%%time\n",
    "model = Word2Vec(\n",
    "    corpus, # On passe le corpus de ngrams que nous venons de créer\n",
    "    vector_size=32, # Le nombre de dimensions dans lesquelles le contexte des mots devra être réduit, aka. vector_size\n",
    "    window=7, # La taille du \"contexte\", ici 5 mots avant et après le mot observé\n",
    "    min_count=2, # On ignore les mots qui n'apparaissent pas au moins 5 fois dans le corpus\n",
    "    workers=4, # Permet de paralléliser l'entraînement du modèle en 4 threads\n",
    "    epochs=10 # Nombre d'itérations du réseau de neurones sur le jeu de données pour ajuster les paramètres avec la descende de gradient, aka. epochs.\n",
    ")"
   ]
  },
  {
   "cell_type": "code",
   "execution_count": 18,
   "id": "1f343a13-0ff8-4911-afb2-fd08c734e678",
   "metadata": {},
   "outputs": [],
   "source": [
    "outfile = f\"../data/bulletins_tp3_6.model\"\n",
    "model.save(outfile)"
   ]
  },
  {
   "cell_type": "code",
   "execution_count": 80,
   "id": "c23519e3-ba66-43af-8d54-3884717f9014",
   "metadata": {},
   "outputs": [],
   "source": [
    "model = Word2Vec.load(\"../data/bulletins_tp3_6.model\")"
   ]
  },
  {
   "cell_type": "code",
   "execution_count": 20,
   "id": "a12ee480-22cb-4e5e-ad53-686b225cd6af",
   "metadata": {},
   "outputs": [
    {
     "data": {
      "text/plain": [
       "0.89795554"
      ]
     },
     "execution_count": 20,
     "metadata": {},
     "output_type": "execute_result"
    }
   ],
   "source": [
    "model.wv.similarity(\"boucher\", \"boulanger\")"
   ]
  },
  {
   "cell_type": "code",
   "execution_count": 21,
   "id": "3efe272c-faec-4170-96b4-991ed992f4e0",
   "metadata": {},
   "outputs": [
    {
     "data": {
      "text/plain": [
       "0.61819994"
      ]
     },
     "execution_count": 21,
     "metadata": {},
     "output_type": "execute_result"
    }
   ],
   "source": [
    "model.wv.similarity(\"homme\", \"femme\")"
   ]
  },
  {
   "cell_type": "code",
   "execution_count": 22,
   "id": "bb1f6b5d-d3bf-41f0-b832-5aca0379a8b0",
   "metadata": {},
   "outputs": [
    {
     "data": {
      "text/plain": [
       "0.45652765"
      ]
     },
     "execution_count": 22,
     "metadata": {},
     "output_type": "execute_result"
    }
   ],
   "source": [
    "model.wv.similarity(\"voiture\", \"carrosse\")"
   ]
  },
  {
   "cell_type": "code",
   "execution_count": 23,
   "id": "2856e7ee-c5ee-44b2-a756-509069fdd614",
   "metadata": {},
   "outputs": [
    {
     "data": {
      "text/plain": [
       "[('laeken', 0.8272863030433655),\n",
       " ('liege', 0.7421290278434753),\n",
       " ('nivelles', 0.7203897833824158),\n",
       " ('considere_comme_officiel', 0.7201547622680664),\n",
       " ('paris', 0.7147777080535889),\n",
       " ('rruxelles', 0.7025668025016785),\n",
       " ('israeliens', 0.6887220740318298),\n",
       " ('gand', 0.6838312745094299),\n",
       " ('des_communes_limitrophes', 0.6833171248435974),\n",
       " ('charleroi', 0.6721785068511963)]"
      ]
     },
     "execution_count": 23,
     "metadata": {},
     "output_type": "execute_result"
    }
   ],
   "source": [
    "model.wv.most_similar(\"bruxelles\", topn=10)"
   ]
  },
  {
   "cell_type": "code",
   "execution_count": 24,
   "id": "1d00258a-6aa7-4a02-aed3-23285eecb605",
   "metadata": {},
   "outputs": [
    {
     "data": {
      "text/plain": [
       "[('batelier', 0.9065051674842834),\n",
       " ('boulanger', 0.8979554772377014),\n",
       " ('tailleur', 0.8750821352005005),\n",
       " ('menuisier', 0.8689311742782593),\n",
       " ('macon', 0.8651826977729797),\n",
       " ('poissonnier', 0.859420895576477),\n",
       " ('charcutier', 0.8574626445770264),\n",
       " ('marchand', 0.8517792820930481),\n",
       " ('terrassier', 0.8517159819602966),\n",
       " ('forgeron', 0.8467037081718445)]"
      ]
     },
     "execution_count": 24,
     "metadata": {},
     "output_type": "execute_result"
    }
   ],
   "source": [
    "model.wv.most_similar(\"boucher\", topn=10)"
   ]
  },
  {
   "cell_type": "code",
   "execution_count": 25,
   "id": "d049cd38-f4e8-4662-9e92-ef05a758261f",
   "metadata": {},
   "outputs": [
    {
     "data": {
      "text/plain": [
       "[('buitenzetten', 0.9655938744544983),\n",
       " ('speelgoed', 0.9611073732376099),\n",
       " ('ued', 0.9604259729385376),\n",
       " ('paleizenplaats', 0.9593244194984436),\n",
       " ('guilielmus', 0.9587242603302002),\n",
       " ('evolutie_zijnde', 0.9582727551460266),\n",
       " ('belgicoe', 0.9582096338272095),\n",
       " ('binnenkomen', 0.958014190196991),\n",
       " ('argentre', 0.9577236175537109),\n",
       " ('verwarm', 0.9567806720733643)]"
      ]
     },
     "execution_count": 25,
     "metadata": {},
     "output_type": "execute_result"
    }
   ],
   "source": [
    "model.wv.most_similar(\"platonisme\", topn=10)"
   ]
  },
  {
   "cell_type": "code",
   "execution_count": 27,
   "id": "61d16257-c221-4d7d-ada3-fead99a5d2a7",
   "metadata": {},
   "outputs": [
    {
     "data": {
      "text/plain": [
       "[('evier', 0.9170675277709961),\n",
       " ('auvent', 0.9157642722129822),\n",
       " ('ascenseur', 0.8936619162559509),\n",
       " ('espace_libre', 0.8721005916595459),\n",
       " ('arbre', 0.8624054789543152),\n",
       " ('hangar', 0.8540787100791931),\n",
       " ('echafaudage', 0.8516961336135864),\n",
       " ('enfoncement', 0.8513393998146057),\n",
       " ('preau_couvert', 0.8486384153366089),\n",
       " ('appartement', 0.8403266668319702)]"
      ]
     },
     "execution_count": 27,
     "metadata": {},
     "output_type": "execute_result"
    }
   ],
   "source": [
    "model.wv.most_similar(\"urinoir\", topn=10)"
   ]
  },
  {
   "cell_type": "code",
   "execution_count": 28,
   "id": "a589f8b3-d943-4b9f-bf02-26a5b1b324d0",
   "metadata": {},
   "outputs": [
    {
     "name": "stdout",
     "output_type": "stream",
     "text": [
      "[('huy', 0.8089704513549805), ('manchester', 0.7912181615829468), ('ostende', 0.7875585556030273), ('prague', 0.7845705151557922), ('liverpool', 0.7595359683036804), ('verviers', 0.7518717646598816), ('lille', 0.7506416440010071), ('aux_confins', 0.7472284436225891), ('mayence', 0.7469117641448975), ('seraing', 0.7336947917938232)]\n"
     ]
    }
   ],
   "source": [
    "print(model.wv.most_similar(positive=['bruxelles', 'france'], negative=['belgique']))"
   ]
  },
  {
   "cell_type": "code",
   "execution_count": 81,
   "id": "11ad312b-02a6-4cd0-a955-1bc3b1481316",
   "metadata": {},
   "outputs": [
    {
     "name": "stdout",
     "output_type": "stream",
     "text": [
      "[('ostende', 0.7686001658439636), ('alost', 0.7631637454032898), ('anvers', 0.7440226078033447), ('ypres', 0.7353346943855286), ('huy', 0.7110108733177185), ('amsterdam', 0.7062295079231262), ('arlon', 0.7023181915283203), ('avenues_franklin', 0.7015784978866577), ('tournai', 0.6952449083328247), ('prague', 0.6932228207588196)]\n"
     ]
    }
   ],
   "source": [
    "print(model.wv.most_similar(positive=['bruxelles', 'espagne'], negative=['belgique']))"
   ]
  },
  {
   "cell_type": "code",
   "execution_count": 82,
   "id": "c2854e3c-b6a4-4a12-9263-c113546b24e6",
   "metadata": {},
   "outputs": [
    {
     "name": "stdout",
     "output_type": "stream",
     "text": [
      "[('ostende', 0.7607871890068054), ('anvers', 0.7428261041641235), ('aux_confins', 0.7409296631813049), ('charleroi', 0.7292239665985107), ('manchester', 0.723929226398468), ('amsterdam', 0.7217715382575989), ('huy', 0.7145229578018188), ('hambourg', 0.7141580581665039), ('meirelbeke', 0.6958719491958618), ('ouest', 0.6941896080970764)]\n"
     ]
    }
   ],
   "source": [
    "print(model.wv.most_similar(positive=['bruxelles', 'allemagne'], negative=['belgique']))"
   ]
  },
  {
   "cell_type": "code",
   "execution_count": 83,
   "id": "ae93271e-2d54-47cb-bc54-5c7c25112aff",
   "metadata": {},
   "outputs": [
    {
     "name": "stdout",
     "output_type": "stream",
     "text": [
      "[('ostende', 0.8462244868278503), ('alost', 0.8031744956970215), ('anvers', 0.7997011542320251), ('amsterdam', 0.7799228429794312), ('huy', 0.7735434770584106), ('prague', 0.7611766457557678), ('verviers', 0.7560798525810242), ('ypres', 0.7532651424407959), ('manchester', 0.7468370795249939), ('tournai', 0.7415379881858826)]\n"
     ]
    }
   ],
   "source": [
    "print(model.wv.most_similar(positive=['bruxelles', 'italie'], negative=['belgique']))"
   ]
  },
  {
   "cell_type": "code",
   "execution_count": 84,
   "id": "70410532-4340-4ec3-94c3-daf1e67c4d6e",
   "metadata": {},
   "outputs": [
    {
     "name": "stdout",
     "output_type": "stream",
     "text": [
      "[('aux_confins', 0.8025550842285156), ('charleroi', 0.7869207859039307), ('ostende', 0.7768861651420593), ('luxembourg', 0.7727224230766296), ('mayence', 0.7650524377822876), ('alost', 0.7636563181877136), ('cureghem', 0.7591552734375), ('louvain', 0.7495631575584412), ('prague', 0.7449910044670105), ('binche', 0.7439122200012207)]\n"
     ]
    }
   ],
   "source": [
    "print(model.wv.most_similar(positive=['bruxelles', 'russie'], negative=['belgique']))"
   ]
  },
  {
   "cell_type": "code",
   "execution_count": 29,
   "id": "e435e9eb-20cb-4f9f-99ee-2089f9908a8b",
   "metadata": {},
   "outputs": [
    {
     "name": "stdout",
     "output_type": "stream",
     "text": [
      "[('<<_je_jure', 0.7679821848869324), ('plus_profond', 0.7537145614624023), ('mepris', 0.7494698166847229), ('verbe', 0.743941605091095), ('magnifique_elan', 0.7403584122657776), ('banc', 0.7284218072891235), ('serment_suivant', 0.7214251756668091), ('peuple_belge', 0.7196507453918457), ('transvaal', 0.7193516492843628), ('supplice', 0.715126633644104)]\n"
     ]
    }
   ],
   "source": [
    "print(model.wv.most_similar(positive=['fidelite', 'homme'], negative=['femme']))"
   ]
  },
  {
   "cell_type": "code",
   "execution_count": 30,
   "id": "5593e9c2-ea45-42d2-917f-e1e718c1a886",
   "metadata": {},
   "outputs": [
    {
     "name": "stdout",
     "output_type": "stream",
     "text": [
      "[('famille_royale', 0.7191616892814636), ('saintete', 0.7019950747489929), ('propriete_immobiliere', 0.6927812099456787), ('commandite_par_actions', 0.6819890737533569), ('liberte_individuelle', 0.6751049757003784), ('circonscription_militaire', 0.6728301048278809), ('commission_paritaire', 0.6697050929069519), ('corporation', 0.6657859086990356), ('naturalisation_ordinaire', 0.6646279096603394), ('case_placee', 0.6594612002372742)]\n"
     ]
    }
   ],
   "source": [
    "print(model.wv.most_similar(positive=['fidelite', 'femme'], negative=['homme']))"
   ]
  },
  {
   "cell_type": "code",
   "execution_count": 31,
   "id": "64c4b2de-f5eb-4500-8a50-fb30a01e2fbe",
   "metadata": {},
   "outputs": [
    {
     "name": "stdout",
     "output_type": "stream",
     "text": [
      "[('glaciere', 0.8750630021095276), ('terrasse', 0.862410843372345), ('mansarde', 0.8457068204879761), ('cloison_vitree', 0.8455638289451599), ('tremie', 0.8452608585357666), ('chaudiere', 0.8437645435333252), ('cave', 0.8344993591308594), ('douche', 0.83009272813797), ('galerie_couverte', 0.8284509181976318), ('garderie', 0.820063054561615)]\n"
     ]
    }
   ],
   "source": [
    "print(model.wv.most_similar(positive=['urinoir', 'femme'], negative=['homme']))"
   ]
  },
  {
   "cell_type": "code",
   "execution_count": 32,
   "id": "7f0e00c8-eff5-420a-9893-e1ee1a80fc86",
   "metadata": {},
   "outputs": [
    {
     "name": "stdout",
     "output_type": "stream",
     "text": [
      "[('interet_particulier', 0.7917542457580566), ('soin_jaloux', 0.7786352634429932), ('honnete_homme', 0.7778093218803406), ('ecrivain', 0.7737045884132385), ('individu', 0.7714208364486694), ('oubli', 0.7707334756851196), ('instinct', 0.7702805399894714), ('elan', 0.7680544853210449), ('etre_humain', 0.7662696242332458), ('instrument', 0.7644329071044922)]\n"
     ]
    }
   ],
   "source": [
    "print(model.wv.most_similar(positive=['enfant', 'homme'], negative=['femme']))"
   ]
  },
  {
   "cell_type": "code",
   "execution_count": 33,
   "id": "d3d63f3c-c688-46b6-84e5-4d62ecd21c47",
   "metadata": {},
   "outputs": [
    {
     "name": "stdout",
     "output_type": "stream",
     "text": [
      "[('fille', 0.8289195895195007), ('jeune_fille', 0.8238834142684937), ('classe_flamande', 0.8093726634979248), ('fillette', 0.7889494895935059), ('profession', 0.7886649370193481), ('nationalite_etrangere', 0.7829521894454956), ('maman', 0.7779103517532349), ('leur_mere', 0.7776534557342529), ('mere', 0.7765055298805237), ('orpheline', 0.7741913199424744)]\n"
     ]
    }
   ],
   "source": [
    "print(model.wv.most_similar(positive=['enfant', 'femme'], negative=['homme']))"
   ]
  },
  {
   "cell_type": "code",
   "execution_count": 34,
   "id": "996bbe19-b65b-4b32-b257-cd216aa8123d",
   "metadata": {},
   "outputs": [
    {
     "name": "stdout",
     "output_type": "stream",
     "text": [
      "[('famille_royale', 0.7027952075004578), ('donatrice', 0.6996607780456543), ('gourde', 0.6745128035545349), ('vdle', 0.6718039512634277), ('conference_monetaire', 0.671133279800415), ('grande_kermesse', 0.6604625582695007), ('circonscription_militaire', 0.6545321345329285), ('defunte', 0.6509469151496887), ('division_militaire', 0.6480212211608887), ('naturalisation', 0.6454724669456482)]\n"
     ]
    }
   ],
   "source": [
    "print(model.wv.most_similar(positive=['roi', 'femme'], negative=['homme']))"
   ]
  },
  {
   "cell_type": "markdown",
   "id": "7cf60b56-de3a-44e9-824d-324208abc44a",
   "metadata": {
    "tags": []
   },
   "source": [
    "#### Modèle 7 du tp3 (32-13)"
   ]
  },
  {
   "cell_type": "code",
   "execution_count": 35,
   "id": "d135c2d2-1071-47c4-beea-19dfa2621569",
   "metadata": {},
   "outputs": [
    {
     "name": "stdout",
     "output_type": "stream",
     "text": [
      "CPU times: user 55min 21s, sys: 3min 51s, total: 59min 12s\n",
      "Wall time: 20min 42s\n"
     ]
    }
   ],
   "source": [
    "%%time\n",
    "model = Word2Vec(\n",
    "    corpus, # On passe le corpus de ngrams que nous venons de créer\n",
    "    vector_size=32, # Le nombre de dimensions dans lesquelles le contexte des mots devra être réduit, aka. vector_size\n",
    "    window=13, # La taille du \"contexte\", ici 5 mots avant et après le mot observé\n",
    "    min_count=2, # On ignore les mots qui n'apparaissent pas au moins 5 fois dans le corpus\n",
    "    workers=4, # Permet de paralléliser l'entraînement du modèle en 4 threads\n",
    "    epochs=10 # Nombre d'itérations du réseau de neurones sur le jeu de données pour ajuster les paramètres avec la descende de gradient, aka. epochs.\n",
    ")"
   ]
  },
  {
   "cell_type": "code",
   "execution_count": 36,
   "id": "31f155a6-8a6a-4e04-9c3a-c2eacb1c0e81",
   "metadata": {},
   "outputs": [],
   "source": [
    "outfile = f\"../data/bulletins_tp3_7.model\"\n",
    "model.save(outfile)"
   ]
  },
  {
   "cell_type": "code",
   "execution_count": 85,
   "id": "8665f41a-1acc-44a6-b27d-b2ee03ee885c",
   "metadata": {},
   "outputs": [],
   "source": [
    "model = Word2Vec.load(\"../data/bulletins_tp3_7.model\")"
   ]
  },
  {
   "cell_type": "code",
   "execution_count": 38,
   "id": "ebbbe61e-1049-4248-959c-ecdf138f625d",
   "metadata": {},
   "outputs": [
    {
     "data": {
      "text/plain": [
       "0.8502226"
      ]
     },
     "execution_count": 38,
     "metadata": {},
     "output_type": "execute_result"
    }
   ],
   "source": [
    "model.wv.similarity(\"boucher\", \"boulanger\")"
   ]
  },
  {
   "cell_type": "code",
   "execution_count": 39,
   "id": "0bcd18ff-379c-44c5-bc58-005acebccc1f",
   "metadata": {},
   "outputs": [
    {
     "data": {
      "text/plain": [
       "0.6236469"
      ]
     },
     "execution_count": 39,
     "metadata": {},
     "output_type": "execute_result"
    }
   ],
   "source": [
    "model.wv.similarity(\"homme\", \"femme\")"
   ]
  },
  {
   "cell_type": "code",
   "execution_count": 40,
   "id": "0d55031c-76b7-4f04-a4ab-0bc03cc07ae4",
   "metadata": {},
   "outputs": [
    {
     "data": {
      "text/plain": [
       "0.42254362"
      ]
     },
     "execution_count": 40,
     "metadata": {},
     "output_type": "execute_result"
    }
   ],
   "source": [
    "model.wv.similarity(\"voiture\", \"carrosse\")"
   ]
  },
  {
   "cell_type": "code",
   "execution_count": 41,
   "id": "e0b839c6-6a10-4e55-b086-a928d7d23752",
   "metadata": {},
   "outputs": [
    {
     "data": {
      "text/plain": [
       "[('laeken', 0.8099821209907532),\n",
       " ('liege', 0.7758094668388367),\n",
       " ('nivelles', 0.7717729806900024),\n",
       " ('mons', 0.7525895833969116),\n",
       " ('gand', 0.7385832667350769),\n",
       " ('ostende', 0.7286675572395325),\n",
       " ('louvain', 0.7222659587860107),\n",
       " ('bruxelloise', 0.7156859040260315),\n",
       " ('son_siege', 0.7095896601676941),\n",
       " ('tirlemont', 0.7035690546035767)]"
      ]
     },
     "execution_count": 41,
     "metadata": {},
     "output_type": "execute_result"
    }
   ],
   "source": [
    "model.wv.most_similar(\"bruxelles\", topn=10)"
   ]
  },
  {
   "cell_type": "code",
   "execution_count": 42,
   "id": "c455a6e9-3c89-488d-b2a5-f6663efd71b1",
   "metadata": {},
   "outputs": [
    {
     "data": {
      "text/plain": [
       "[('tailleur', 0.8838116526603699),\n",
       " ('menuisier', 0.8788487911224365),\n",
       " ('batelier', 0.877282440662384),\n",
       " ('fabricant', 0.8770335912704468),\n",
       " ('charcutier', 0.8711507320404053),\n",
       " ('macon', 0.8694088459014893),\n",
       " ('marchand', 0.8613522052764893),\n",
       " ('boulanger', 0.850222647190094),\n",
       " ('cordonnier', 0.848287045955658),\n",
       " ('serrurier', 0.8454512357711792)]"
      ]
     },
     "execution_count": 42,
     "metadata": {},
     "output_type": "execute_result"
    }
   ],
   "source": [
    "model.wv.most_similar(\"boucher\", topn=10)"
   ]
  },
  {
   "cell_type": "code",
   "execution_count": 43,
   "id": "42f563f7-a720-43fe-83e8-a272e6b32802",
   "metadata": {},
   "outputs": [
    {
     "data": {
      "text/plain": [
       "[('werveke', 0.965522825717926),\n",
       " ('rudolph', 0.9625495672225952),\n",
       " ('fellows', 0.9603227972984314),\n",
       " ('place_eoyale', 0.9589579105377197),\n",
       " ('bijzondere_geschillen', 0.9580908417701721),\n",
       " ('arcadie', 0.9573949575424194),\n",
       " ('konigl', 0.95736163854599),\n",
       " ('stopzetting_van_handelsaktiviteit', 0.9567670822143555),\n",
       " ('montagu', 0.9567061066627502),\n",
       " ('dekin', 0.956697404384613)]"
      ]
     },
     "execution_count": 43,
     "metadata": {},
     "output_type": "execute_result"
    }
   ],
   "source": [
    "model.wv.most_similar(\"platonisme\", topn=10)"
   ]
  },
  {
   "cell_type": "code",
   "execution_count": 45,
   "id": "a4170867-603d-43b7-9389-9bc63c3b9ee2",
   "metadata": {},
   "outputs": [
    {
     "data": {
      "text/plain": [
       "[('ascenseur', 0.8841036558151245),\n",
       " ('auvent', 0.8802363276481628),\n",
       " ('evier', 0.8710079789161682),\n",
       " ('pissoir', 0.8626327514648438),\n",
       " ('escalier', 0.8528569340705872),\n",
       " ('corridor', 0.8493427038192749),\n",
       " ('couloir', 0.846498429775238),\n",
       " ('lavabo', 0.8454853296279907),\n",
       " ('hangar', 0.844763994216919),\n",
       " ('grillage', 0.8445080518722534)]"
      ]
     },
     "execution_count": 45,
     "metadata": {},
     "output_type": "execute_result"
    }
   ],
   "source": [
    "model.wv.most_similar(\"urinoir\", topn=10)"
   ]
  },
  {
   "cell_type": "code",
   "execution_count": 46,
   "id": "949f54b2-4c41-49b7-a42a-0964e94dbec0",
   "metadata": {},
   "outputs": [
    {
     "name": "stdout",
     "output_type": "stream",
     "text": [
      "[('ostende', 0.837738573551178), ('huy', 0.8267396688461304), ('gand', 0.8100168704986572), ('alost', 0.7983483076095581), ('liege', 0.7982513904571533), ('manchester', 0.792993426322937), ('eupen', 0.7898467779159546), ('tervueren', 0.7781599164009094), ('verviers', 0.7754904627799988), ('flandres', 0.7630794644355774)]\n"
     ]
    }
   ],
   "source": [
    "print(model.wv.most_similar(positive=['bruxelles', 'france'], negative=['belgique']))"
   ]
  },
  {
   "cell_type": "code",
   "execution_count": 86,
   "id": "9f82f076-9cc6-41b6-b769-179937a2da52",
   "metadata": {},
   "outputs": [
    {
     "name": "stdout",
     "output_type": "stream",
     "text": [
      "[('alost', 0.7983243465423584), ('ostende', 0.7734858989715576), ('huy', 0.7656322121620178), ('eupen', 0.7447236776351929), ('binche', 0.7324212193489075), ('tournai', 0.7304689288139343), ('tervueren', 0.7264571785926819), ('arlon', 0.7152998447418213), ('anvers', 0.7124070525169373), ('baudouin', 0.7093945145606995)]\n"
     ]
    }
   ],
   "source": [
    "print(model.wv.most_similar(positive=['bruxelles', 'espagne'], negative=['belgique']))"
   ]
  },
  {
   "cell_type": "code",
   "execution_count": 87,
   "id": "302b284a-80be-43f9-b207-ca709776345b",
   "metadata": {},
   "outputs": [
    {
     "name": "stdout",
     "output_type": "stream",
     "text": [
      "[('ostende', 0.8129523992538452), ('anvers', 0.7710670828819275), ('alost', 0.765917181968689), ('huy', 0.755611002445221), ('gand', 0.7509430646896362), ('aux_confins', 0.7475512027740479), ('tervueren', 0.7463960647583008), ('manchester', 0.7410745024681091), ('flandres', 0.7385588884353638), ('liege', 0.7351776957511902)]\n"
     ]
    }
   ],
   "source": [
    "print(model.wv.most_similar(positive=['bruxelles', 'allemagne'], negative=['belgique']))"
   ]
  },
  {
   "cell_type": "code",
   "execution_count": 88,
   "id": "32405e8f-d0fd-4b33-8194-acadc2114ee1",
   "metadata": {},
   "outputs": [
    {
     "name": "stdout",
     "output_type": "stream",
     "text": [
      "[('ostende', 0.8568642139434814), ('alost', 0.8339364528656006), ('huy', 0.8163793087005615), ('manchester', 0.7815848588943481), ('verviers', 0.7815176248550415), ('anvers', 0.780205249786377), ('amsterdam', 0.7756264209747314), ('tervueren', 0.773829460144043), ('tournai', 0.7621212005615234), ('binche', 0.7588929533958435)]\n"
     ]
    }
   ],
   "source": [
    "print(model.wv.most_similar(positive=['bruxelles', 'italie'], negative=['belgique']))"
   ]
  },
  {
   "cell_type": "code",
   "execution_count": 89,
   "id": "1603a029-137f-4e6e-886e-11913d1ded95",
   "metadata": {},
   "outputs": [
    {
     "name": "stdout",
     "output_type": "stream",
     "text": [
      "[('ostende', 0.8269484043121338), ('huy', 0.8024683594703674), ('alost', 0.7994868755340576), ('tervueren', 0.7978609800338745), ('manchester', 0.7870156764984131), ('aux_confins', 0.7866812348365784), ('koekelberg', 0.7857340574264526), ('forest', 0.7849729657173157), ('eupen', 0.7733600735664368), ('gand', 0.7599501609802246)]\n"
     ]
    }
   ],
   "source": [
    "print(model.wv.most_similar(positive=['bruxelles', 'russie'], negative=['belgique']))"
   ]
  },
  {
   "cell_type": "code",
   "execution_count": 47,
   "id": "ca1e176b-b6b4-4336-92b0-f59f01247893",
   "metadata": {},
   "outputs": [
    {
     "name": "stdout",
     "output_type": "stream",
     "text": [
      "[('obeissance', 0.782763659954071), ('peuple_belge', 0.7765308022499084), ('mot', 0.7754769921302795), ('<<_je_jure', 0.7686077356338501), ('liberalisme', 0.7673251032829285), ('serment_suivant', 0.764306366443634), ('traitent_constamment', 0.7615564465522766), ('communisme', 0.7602001428604126), ('mepris', 0.7465515732765198), ('je_jure_fidelite', 0.7424283027648926)]\n"
     ]
    }
   ],
   "source": [
    "print(model.wv.most_similar(positive=['fidelite', 'homme'], negative=['femme']))"
   ]
  },
  {
   "cell_type": "code",
   "execution_count": 48,
   "id": "a5680aea-6a13-4c60-bf96-36b31f18cf84",
   "metadata": {},
   "outputs": [
    {
     "name": "stdout",
     "output_type": "stream",
     "text": [
      "[('famille_royale', 0.7165464162826538), ('naturalisation_ordinaire', 0.6563760638237), ('circonscription_militaire', 0.654526948928833), ('prescription_reglementaire', 0.6513457298278809), ('liberte_individuelle', 0.640577495098114), ('division_judiciaire', 0.6325024962425232), ('pohlman', 0.6273826956748962), ('courtiers', 0.626354455947876), ('devront_se_disperser', 0.6232321858406067), ('seront_ensuite_vires', 0.6066663861274719)]\n"
     ]
    }
   ],
   "source": [
    "print(model.wv.most_similar(positive=['fidelite', 'femme'], negative=['homme']))"
   ]
  },
  {
   "cell_type": "code",
   "execution_count": 49,
   "id": "6540551c-b9a6-4311-82af-8d4acc1fdc7c",
   "metadata": {},
   "outputs": [
    {
     "name": "stdout",
     "output_type": "stream",
     "text": [
      "[('cave', 0.849334716796875), ('mansarde', 0.8300670981407166), ('terrasse', 0.8226112723350525), ('maison', 0.8106406927108765), ('toiture_vitree', 0.8030121922492981), ('cloison', 0.7976855635643005), ('maison_voisine', 0.7965577840805054), ('chaudiere', 0.7929766774177551), ('baignoire', 0.7919986248016357), ('tremie', 0.7915893197059631)]\n"
     ]
    }
   ],
   "source": [
    "print(model.wv.most_similar(positive=['urinoir', 'femme'], negative=['homme']))"
   ]
  },
  {
   "cell_type": "code",
   "execution_count": 50,
   "id": "d4e1f9ea-d7ac-4b79-b6e8-4e297673f21f",
   "metadata": {},
   "outputs": [
    {
     "name": "stdout",
     "output_type": "stream",
     "text": [
      "[('outil', 0.8143144845962524), ('ecrivain', 0.7914820313453674), ('instrument', 0.7895579934120178), ('renom', 0.7823542952537537), ('geste', 0.7799872159957886), ('elan', 0.7752275466918945), ('honnete_homme', 0.7731138467788696), ('but_educatif', 0.7679823637008667), ('element', 0.7674082517623901), ('bonheur', 0.7594817280769348)]\n"
     ]
    }
   ],
   "source": [
    "print(model.wv.most_similar(positive=['enfant', 'homme'], negative=['femme']))"
   ]
  },
  {
   "cell_type": "code",
   "execution_count": 51,
   "id": "3eaa5442-c6fc-490a-b95a-7b61e18f2f5e",
   "metadata": {},
   "outputs": [
    {
     "name": "stdout",
     "output_type": "stream",
     "text": [
      "[('orpheline', 0.781629204750061), ('leur_mere', 0.7696054577827454), ('maladie', 0.7659868001937866), ('pension_mensuelle', 0.7651069760322571), ('incapacite', 0.7630898952484131), ('legere_retribution', 0.7606083154678345), ('mere', 0.7490358352661133), ('fille', 0.7489858865737915), ('maman', 0.747954785823822), ('servante', 0.744658887386322)]\n"
     ]
    }
   ],
   "source": [
    "print(model.wv.most_similar(positive=['enfant', 'femme'], negative=['homme']))"
   ]
  },
  {
   "cell_type": "code",
   "execution_count": 52,
   "id": "9b396299-15a1-4d76-afc2-da7f8d2b1f67",
   "metadata": {},
   "outputs": [
    {
     "name": "stdout",
     "output_type": "stream",
     "text": [
      "[('demoiselle_pauline', 0.7312612533569336), ('brumaire_an_x', 0.7196619510650635), ('messe_solennelle', 0.6956167817115784), ('mai_1841', 0.6879915595054626), ('3iorris', 0.6595137119293213), ('famille_royale', 0.6356023550033569), ('decembre_1825', 0.6348997354507446), ('aout_1954', 0.633337140083313), ('demoiselle', 0.6314735412597656), ('ordonnance_rendue', 0.6287355422973633)]\n"
     ]
    }
   ],
   "source": [
    "print(model.wv.most_similar(positive=['roi', 'femme'], negative=['homme']))"
   ]
  },
  {
   "cell_type": "code",
   "execution_count": 53,
   "id": "35b6a060-3787-4e1d-a4b5-5076b8e1815b",
   "metadata": {},
   "outputs": [
    {
     "name": "stdout",
     "output_type": "stream",
     "text": [
      "[('madrid', 0.8002997040748596), ('roi_albert', 0.783388078212738), ('lorraine', 0.7800635099411011), ('petit_bonhomme', 0.761467695236206), ('prince_albert', 0.7577899098396301), ('ducal', 0.7558925151824951), ('nassau', 0.7556396722793579), ('rogier', 0.7499505281448364), ('prince_charles', 0.7421935796737671), ('civet', 0.7290101647377014)]\n"
     ]
    }
   ],
   "source": [
    "print(model.wv.most_similar(positive=['reine', 'homme'], negative=['femme']))"
   ]
  },
  {
   "cell_type": "code",
   "execution_count": 54,
   "id": "5ea899f0-0c60-4f28-928f-95cf60eafafe",
   "metadata": {},
   "outputs": [
    {
     "name": "stdout",
     "output_type": "stream",
     "text": [
      "[('curiosite', 0.8759246468544006), ('tenacite', 0.8670616745948792), ('merveilleuse', 0.8335537314414978), ('offensive', 0.8256468176841736), ('douleur', 0.8252801299095154), ('fierte', 0.8141542077064514), ('gloire', 0.8129704594612122), ('priere', 0.7978666424751282), ('tristesse', 0.7959681749343872), ('cordialite', 0.7945759892463684)]\n"
     ]
    }
   ],
   "source": [
    "print(model.wv.most_similar(positive=['fidelite', 'joie'], negative=['obeissance']))"
   ]
  },
  {
   "cell_type": "markdown",
   "id": "a9aff538-4d48-4535-92ae-c4035209a993",
   "metadata": {},
   "source": [
    "#### Modèle 8 du tp3 (300-13)"
   ]
  },
  {
   "cell_type": "code",
   "execution_count": 90,
   "id": "1a39d314-3f75-40b8-90f8-14e4e779ab0d",
   "metadata": {},
   "outputs": [
    {
     "name": "stdout",
     "output_type": "stream",
     "text": [
      "CPU times: user 1h 35min 56s, sys: 3min 15s, total: 1h 39min 11s\n",
      "Wall time: 28min 24s\n"
     ]
    }
   ],
   "source": [
    "%%time\n",
    "model = Word2Vec(\n",
    "    corpus, # On passe le corpus de ngrams que nous venons de créer\n",
    "    vector_size=300, # Le nombre de dimensions dans lesquelles le contexte des mots devra être réduit, aka. vector_size\n",
    "    window=13, # La taille du \"contexte\", ici 5 mots avant et après le mot observé\n",
    "    min_count=2, # On ignore les mots qui n'apparaissent pas au moins 5 fois dans le corpus\n",
    "    workers=4, # Permet de paralléliser l'entraînement du modèle en 4 threads\n",
    "    epochs=10 # Nombre d'itérations du réseau de neurones sur le jeu de données pour ajuster les paramètres avec la descende de gradient, aka. epochs.\n",
    ")"
   ]
  },
  {
   "cell_type": "code",
   "execution_count": 91,
   "id": "10434a77-dd77-4b9f-8170-f7be73d67c37",
   "metadata": {},
   "outputs": [],
   "source": [
    "outfile = f\"../data/bulletins_tp3_8.model\"\n",
    "model.save(outfile)"
   ]
  },
  {
   "cell_type": "code",
   "execution_count": 92,
   "id": "28a1ec5c-8ea6-459e-a984-4352c2bb6519",
   "metadata": {},
   "outputs": [],
   "source": [
    "model = Word2Vec.load(\"../data/bulletins_tp3_8.model\")"
   ]
  },
  {
   "cell_type": "code",
   "execution_count": 93,
   "id": "8559b68a-6795-4158-8462-a07352dc4111",
   "metadata": {},
   "outputs": [
    {
     "data": {
      "text/plain": [
       "0.5416301"
      ]
     },
     "execution_count": 93,
     "metadata": {},
     "output_type": "execute_result"
    }
   ],
   "source": [
    "model.wv.similarity(\"boucher\", \"boulanger\")"
   ]
  },
  {
   "cell_type": "code",
   "execution_count": 94,
   "id": "125fc986-2680-42d4-b7a6-564b17b4a52c",
   "metadata": {},
   "outputs": [
    {
     "data": {
      "text/plain": [
       "0.42050081"
      ]
     },
     "execution_count": 94,
     "metadata": {},
     "output_type": "execute_result"
    }
   ],
   "source": [
    "model.wv.similarity(\"homme\", \"femme\")"
   ]
  },
  {
   "cell_type": "code",
   "execution_count": 95,
   "id": "611da482-bd3f-4485-b6bc-96319e0bfbe1",
   "metadata": {},
   "outputs": [
    {
     "data": {
      "text/plain": [
       "0.2972208"
      ]
     },
     "execution_count": 95,
     "metadata": {},
     "output_type": "execute_result"
    }
   ],
   "source": [
    "model.wv.similarity(\"voiture\", \"carrosse\")"
   ]
  },
  {
   "cell_type": "code",
   "execution_count": 96,
   "id": "21ee5fef-e41c-4173-b872-32b5967dcf44",
   "metadata": {},
   "outputs": [
    {
     "data": {
      "text/plain": [
       "[('rruxelles', 0.5298047661781311),\n",
       " ('liege', 0.5063232779502869),\n",
       " ('manufacturiere', 0.4945032298564911),\n",
       " ('nivelles', 0.49449121952056885),\n",
       " ('xelles', 0.4781859219074249),\n",
       " ('huy', 0.47500231862068176),\n",
       " ('prague', 0.46621251106262207),\n",
       " ('tournai', 0.46375542879104614),\n",
       " ('aux_confins', 0.4620218873023987),\n",
       " ('verviers', 0.4589115381240845)]"
      ]
     },
     "execution_count": 96,
     "metadata": {},
     "output_type": "execute_result"
    }
   ],
   "source": [
    "model.wv.most_similar(\"bruxelles\", topn=10)"
   ]
  },
  {
   "cell_type": "code",
   "execution_count": 97,
   "id": "72b09a50-b15c-4411-b3de-14e2a77824c7",
   "metadata": {},
   "outputs": [
    {
     "data": {
      "text/plain": [
       "[('coiffeur', 0.5825369358062744),\n",
       " ('marchand', 0.5788270831108093),\n",
       " ('cordonnier', 0.5746620297431946),\n",
       " ('charcutier', 0.5682214498519897),\n",
       " ('tailleur', 0.5602602958679199),\n",
       " ('mecanicien', 0.5576831102371216),\n",
       " ('abatteur', 0.5565831065177917),\n",
       " ('cabaretier', 0.5542455315589905),\n",
       " ('serrurier', 0.5494807958602905),\n",
       " ('batelier', 0.5425667762756348)]"
      ]
     },
     "execution_count": 97,
     "metadata": {},
     "output_type": "execute_result"
    }
   ],
   "source": [
    "model.wv.most_similar(\"boucher\", topn=10)"
   ]
  },
  {
   "cell_type": "code",
   "execution_count": 98,
   "id": "bb156ab0-1417-46f5-8eb3-962710368899",
   "metadata": {},
   "outputs": [
    {
     "data": {
      "text/plain": [
       "[('stradae', 0.8677185773849487),\n",
       " ('huilen', 0.8668932914733887),\n",
       " ('dols', 0.8653469681739807),\n",
       " ('infirmiers_laiques', 0.8648837804794312),\n",
       " ('buffet_loue', 0.8647048473358154),\n",
       " ('calculs_biliaires_autres_affections', 0.8646893501281738),\n",
       " ('slov', 0.8646629452705383),\n",
       " ('georges_jamin', 0.8642736673355103),\n",
       " ('stevelinck', 0.8639476299285889),\n",
       " ('nnick', 0.8638356924057007)]"
      ]
     },
     "execution_count": 98,
     "metadata": {},
     "output_type": "execute_result"
    }
   ],
   "source": [
    "model.wv.most_similar(\"platonisme\", topn=10)"
   ]
  },
  {
   "cell_type": "code",
   "execution_count": 99,
   "id": "f92106bf-9347-4753-a104-62b0dde54bf5",
   "metadata": {},
   "outputs": [
    {
     "data": {
      "text/plain": [
       "[('auvent', 0.6973203420639038),\n",
       " ('pissoir', 0.64595627784729),\n",
       " ('ascenseur', 0.634244978427887),\n",
       " ('evier', 0.6341051459312439),\n",
       " ('grillage', 0.6311922669410706),\n",
       " ('echafaudage', 0.6191889643669128),\n",
       " ('lavabo', 0.6122613549232483),\n",
       " ('baraquement', 0.6086590886116028),\n",
       " ('hangar', 0.6033166646957397),\n",
       " ('ecran', 0.5991698503494263)]"
      ]
     },
     "execution_count": 99,
     "metadata": {},
     "output_type": "execute_result"
    }
   ],
   "source": [
    "model.wv.most_similar(\"urinoir\", topn=10)"
   ]
  },
  {
   "cell_type": "code",
   "execution_count": 100,
   "id": "0782bc26-e865-43b7-91c3-12b7a964d833",
   "metadata": {},
   "outputs": [
    {
     "name": "stdout",
     "output_type": "stream",
     "text": [
      "[('liege', 0.49227625131607056), ('huy', 0.48754826188087463), ('verviers', 0.4783484935760498), ('londres', 0.47774073481559753), ('lille', 0.4582214057445526), ('prague', 0.45384982228279114), ('hambourg', 0.44368886947631836), ('ostende', 0.44294893741607666), ('gand', 0.4418032169342041), ('tournai', 0.4411778450012207)]\n"
     ]
    }
   ],
   "source": [
    "print(model.wv.most_similar(positive=['bruxelles', 'france'], negative=['belgique']))"
   ]
  },
  {
   "cell_type": "code",
   "execution_count": 101,
   "id": "7d0949ef-fb93-410d-81b0-a4832cb50e21",
   "metadata": {},
   "outputs": [
    {
     "name": "stdout",
     "output_type": "stream",
     "text": [
      "[('tournai', 0.43133291602134705), ('aerschot', 0.4103463590145111), ('ostende', 0.4084432125091553), ('prague', 0.40805718302726746), ('amsterdam', 0.4013154208660126), ('malines', 0.3904341161251068), ('alost', 0.38874536752700806), ('huy', 0.3849520981311798), ('utrecht', 0.3774191737174988), ('verviers', 0.3767273724079132)]\n"
     ]
    }
   ],
   "source": [
    "print(model.wv.most_similar(positive=['bruxelles', 'espagne'], negative=['belgique']))"
   ]
  },
  {
   "cell_type": "code",
   "execution_count": 102,
   "id": "e8b5e417-bac7-45bf-a6ac-e41afa6b3e86",
   "metadata": {},
   "outputs": [
    {
     "name": "stdout",
     "output_type": "stream",
     "text": [
      "[('ostende', 0.4621756970882416), ('liege', 0.44640374183654785), ('hambourg', 0.4343544840812683), ('amsterdam', 0.4315454363822937), ('huy', 0.4298105835914612), ('aux_confins', 0.4243192970752716), ('lille', 0.41776010394096375), ('nivelles', 0.4019663333892822), ('gand', 0.40146708488464355), ('malines', 0.40143099427223206)]\n"
     ]
    }
   ],
   "source": [
    "print(model.wv.most_similar(positive=['bruxelles', 'allemagne'], negative=['belgique']))"
   ]
  },
  {
   "cell_type": "code",
   "execution_count": 103,
   "id": "92bcb6c6-7bff-4bc5-a5af-ac87c2beb69f",
   "metadata": {},
   "outputs": [
    {
     "name": "stdout",
     "output_type": "stream",
     "text": [
      "[('ostende', 0.49988478422164917), ('lille', 0.48353469371795654), ('amsterdam', 0.46759966015815735), ('liege', 0.4652335047721863), ('verviers', 0.46498000621795654), ('tournai', 0.46385297179222107), ('utrecht', 0.4567834138870239), ('huy', 0.45547249913215637), ('prague', 0.4456019699573517), ('hambourg', 0.43065595626831055)]\n"
     ]
    }
   ],
   "source": [
    "print(model.wv.most_similar(positive=['bruxelles', 'italie'], negative=['belgique']))"
   ]
  },
  {
   "cell_type": "code",
   "execution_count": 104,
   "id": "a617ddd2-7109-4135-9c07-1b5c306b98e0",
   "metadata": {},
   "outputs": [
    {
     "name": "stdout",
     "output_type": "stream",
     "text": [
      "[('prague', 0.4632329046726227), ('ostende', 0.4580478370189667), ('verviers', 0.44994157552719116), ('tournai', 0.4421530067920685), ('malines', 0.41916778683662415), ('liege', 0.41688865423202515), ('huy', 0.4156561493873596), ('diest', 0.414483904838562), ('aux_confins', 0.4133971333503723), ('nivelles', 0.40915754437446594)]\n"
     ]
    }
   ],
   "source": [
    "print(model.wv.most_similar(positive=['bruxelles', 'russie'], negative=['belgique']))"
   ]
  },
  {
   "cell_type": "code",
   "execution_count": 105,
   "id": "35277f4c-d5f2-4765-ac74-2b37439f4bc2",
   "metadata": {},
   "outputs": [
    {
     "name": "stdout",
     "output_type": "stream",
     "text": [
      "[('obeissance', 0.5383955240249634), ('<<_je_jure', 0.48328474164009094), ('peuple_belge', 0.48155802488327026), ('serment_suivant', 0.4357927739620209), ('respect', 0.420331209897995), ('je_jure_fidelite', 0.41517436504364014), ('sol_natal', 0.41515859961509705), ('inspiraient', 0.39937594532966614), ('desinteressement', 0.3958914577960968), ('citoyen', 0.3943515121936798)]\n"
     ]
    }
   ],
   "source": [
    "print(model.wv.most_similar(positive=['fidelite', 'homme'], negative=['femme']))"
   ]
  },
  {
   "cell_type": "code",
   "execution_count": 106,
   "id": "28c22d06-ce67-4a4e-9ed1-c2299691fb52",
   "metadata": {},
   "outputs": [
    {
     "name": "stdout",
     "output_type": "stream",
     "text": [
      "[('obeissance', 0.5479778051376343), ('<<_je_jure', 0.5106279253959656), ('je_jure_fidelite', 0.46132656931877136), ('serment_suivant', 0.41787591576576233), ('serment_constitutionnel', 0.4045794606208801), ('jure_fidelite', 0.39255285263061523), ('constance', 0.3915352523326874), ('famille_royale', 0.3830355405807495), ('victoire', 0.37493136525154114), ('sauce', 0.3717755079269409)]\n"
     ]
    }
   ],
   "source": [
    "print(model.wv.most_similar(positive=['fidelite', 'femme'], negative=['homme']))"
   ]
  },
  {
   "cell_type": "code",
   "execution_count": 107,
   "id": "53e859c0-8062-4f37-b538-8d40467aaba3",
   "metadata": {},
   "outputs": [
    {
     "name": "stdout",
     "output_type": "stream",
     "text": [
      "[('fenetre', 0.5451785326004028), ('terrasse', 0.5223769545555115), ('laverie', 0.4952446520328522), ('cloison', 0.4771905243396759), ('mansarde', 0.47389453649520874), ('evier', 0.47031959891319275), ('chaque_etage', 0.4690225124359131), ('cave', 0.4635080099105835), ('vitree', 0.46224045753479004), ('pouponniere', 0.46050044894218445)]\n"
     ]
    }
   ],
   "source": [
    "print(model.wv.most_similar(positive=['urinoir', 'femme'], negative=['homme']))"
   ]
  },
  {
   "cell_type": "code",
   "execution_count": 108,
   "id": "458fcbec-d630-4239-bcda-7bd3f98a50bc",
   "metadata": {},
   "outputs": [
    {
     "name": "stdout",
     "output_type": "stream",
     "text": [
      "[('individu', 0.5297693014144897), ('jeune_homme', 0.49008315801620483), ('artiste', 0.4817962348461151), ('instrument', 0.47971001267433167), ('optimisme', 0.47797784209251404), ('homme_politique', 0.46728238463401794), ('quelqu', 0.462742418050766), ('honnete_homme', 0.46216970682144165), ('elan', 0.4619937241077423), ('arbre', 0.4573567807674408)]\n"
     ]
    }
   ],
   "source": [
    "print(model.wv.most_similar(positive=['enfant', 'homme'], negative=['femme']))"
   ]
  },
  {
   "cell_type": "code",
   "execution_count": 109,
   "id": "1a102194-3e46-43be-9f3f-0f1a47ca9eb3",
   "metadata": {},
   "outputs": [
    {
     "name": "stdout",
     "output_type": "stream",
     "text": [
      "[('mere', 0.5488718152046204), ('fille', 0.5401672124862671), ('fillette', 0.5127921104431152), ('servante', 0.49984821677207947), ('maman', 0.49631649255752563), ('leurs_parents', 0.4925646185874939), ('malade', 0.4775630533695221), ('sa_femme', 0.47013533115386963), ('mariee', 0.46650150418281555), ('enfants', 0.4641094207763672)]\n"
     ]
    }
   ],
   "source": [
    "print(model.wv.most_similar(positive=['enfant', 'femme'], negative=['homme']))"
   ]
  },
  {
   "cell_type": "code",
   "execution_count": 110,
   "id": "be9d5d42-20e5-4747-9013-24359def68ad",
   "metadata": {},
   "outputs": [
    {
     "name": "stdout",
     "output_type": "stream",
     "text": [
      "[('mere', 0.43544864654541016), ('fille', 0.42279261350631714), ('eoi', 0.41830456256866455), ('mgr', 0.385509192943573), ('princesse_marie', 0.3703761696815491), ('gouvernement_italien', 0.3689500093460083), ('boi', 0.3687189519405365), ('famille_royale', 0.36710745096206665), ('sa_majeste', 0.358447790145874), ('salut', 0.3582429885864258)]\n"
     ]
    }
   ],
   "source": [
    "print(model.wv.most_similar(positive=['roi', 'femme'], negative=['homme']))"
   ]
  },
  {
   "cell_type": "code",
   "execution_count": 111,
   "id": "136dc721-da40-4b67-aa54-d97f72dd6470",
   "metadata": {},
   "outputs": [
    {
     "name": "stdout",
     "output_type": "stream",
     "text": [
      "[('roi_albert', 0.4634145498275757), ('heine', 0.4395245611667633), ('beine', 0.4345308840274811), ('renaissance', 0.41956615447998047), ('bejar', 0.41585782170295715), ('madrid', 0.40189653635025024), ('imperatrice_charlotte', 0.40186789631843567), ('lieine', 0.40085816383361816), ('homme_eminent', 0.38005363941192627), ('empereur', 0.37904271483421326)]\n"
     ]
    }
   ],
   "source": [
    "print(model.wv.most_similar(positive=['reine', 'homme'], negative=['femme']))"
   ]
  },
  {
   "cell_type": "code",
   "execution_count": 112,
   "id": "10f2bb8a-e12e-4510-ac56-8d33579660f2",
   "metadata": {},
   "outputs": [
    {
     "name": "stdout",
     "output_type": "stream",
     "text": [
      "[('fierte', 0.6107153296470642), ('tristesse', 0.6034759879112244), ('douleur', 0.6027112007141113), ('bonte', 0.5828537940979004), ('serenite', 0.5623412132263184), ('vitalite', 0.5620651245117188), ('cordialite', 0.5532791614532471), ('gloire', 0.5529769062995911), ('cordiale', 0.5324522852897644), ('pitie', 0.5314198732376099)]\n"
     ]
    }
   ],
   "source": [
    "print(model.wv.most_similar(positive=['fidelite', 'joie'], negative=['obeissance']))"
   ]
  },
  {
   "cell_type": "markdown",
   "id": "294ebf1f-517b-45a7-a194-4843063cbc94",
   "metadata": {},
   "source": [
    "#### Analyse des modèles sur base des pentagrammes"
   ]
  },
  {
   "attachments": {
    "5450b4fe-5ef0-453e-ad77-a3793e5de244.png": {
     "image/png": "[encoded data removed]"
    }
   },
   "cell_type": "markdown",
   "id": "d3cacdc4-2296-467c-afd8-8b811bdb48f7",
   "metadata": {},
   "source": [
    "![image.png](attachment:5450b4fe-5ef0-453e-ad77-a3793e5de244.png)"
   ]
  },
  {
   "cell_type": "markdown",
   "id": "05ceb857-eb10-45cd-a208-13f92debede1",
   "metadata": {},
   "source": [
    "On remarque que - dans le cas des modèles se basant sur les Phrasers itératifs à cinq niveaux - la subtilité des modèles semblent augmenter. Le mot 'charcutier' remonte plus vite dans les résultats. Et le modèle tp3_3 identifie même la capitale de France : Paris. Notons, que le modèle tp3_1 identifie 'aristotélisme' comme étant proche de 'platonisme', mais le modèle semble perdre en précision dans la requête complexe, testant la capitale.\n",
    "\n",
    "Je décide donc d'explorer plus en profondeur ces deux modèles à l'aide des fonctions 'similarity' et 'most_similar'."
   ]
  },
  {
   "cell_type": "markdown",
   "id": "ef3cdd95-6e3b-4060-b667-c83a750abb10",
   "metadata": {},
   "source": [
    "#### Chargement des deux modèles"
   ]
  },
  {
   "cell_type": "code",
   "execution_count": 2,
   "id": "b72dc1ee-06c8-4d48-b11c-4049204de0fe",
   "metadata": {},
   "outputs": [],
   "source": [
    "model_100 = Word2Vec.load(\"../data/bulletins_tp3_3.model\")"
   ]
  },
  {
   "cell_type": "code",
   "execution_count": 13,
   "id": "86dcee67-554a-434e-9786-1d1189f3a4a2",
   "metadata": {},
   "outputs": [],
   "source": [
    "model_300 = Word2Vec.load(\"../data/bulletins_tp3_1.model\")"
   ]
  },
  {
   "cell_type": "markdown",
   "id": "7ff37199-525d-4ff7-8272-11afe92a09c6",
   "metadata": {},
   "source": [
    "#### Exploration de la fonction 'similarity'"
   ]
  },
  {
   "cell_type": "code",
   "execution_count": 116,
   "id": "06559d86-cb37-4306-b31a-34b603feab91",
   "metadata": {},
   "outputs": [
    {
     "data": {
      "text/plain": [
       "0.61370265"
      ]
     },
     "execution_count": 116,
     "metadata": {},
     "output_type": "execute_result"
    }
   ],
   "source": [
    "model_100.wv.similarity(\"pompier\", \"officier\")"
   ]
  },
  {
   "cell_type": "code",
   "execution_count": 117,
   "id": "ccc571fb-5bf6-4aef-964a-ec8d8ce53cf6",
   "metadata": {},
   "outputs": [
    {
     "data": {
      "text/plain": [
       "0.5023073"
      ]
     },
     "execution_count": 117,
     "metadata": {},
     "output_type": "execute_result"
    }
   ],
   "source": [
    "model_300.wv.similarity(\"pompier\", \"officier\")"
   ]
  },
  {
   "cell_type": "code",
   "execution_count": 118,
   "id": "6b01a1fa-046f-431a-b364-f2e177971bfd",
   "metadata": {},
   "outputs": [
    {
     "data": {
      "text/plain": [
       "0.38469282"
      ]
     },
     "execution_count": 118,
     "metadata": {},
     "output_type": "execute_result"
    }
   ],
   "source": [
    "model_100.wv.similarity(\"maladie\", \"convalescence\")"
   ]
  },
  {
   "cell_type": "code",
   "execution_count": 119,
   "id": "c1bfd94e-1375-4916-a798-c7bd7546bf45",
   "metadata": {},
   "outputs": [
    {
     "data": {
      "text/plain": [
       "0.2292148"
      ]
     },
     "execution_count": 119,
     "metadata": {},
     "output_type": "execute_result"
    }
   ],
   "source": [
    "model_300.wv.similarity(\"maladie\", \"convalescence\")"
   ]
  },
  {
   "cell_type": "code",
   "execution_count": 3,
   "id": "730b58d4-d81a-4482-8f42-e3947338cc32",
   "metadata": {},
   "outputs": [
    {
     "data": {
      "text/plain": [
       "0.32820603"
      ]
     },
     "execution_count": 3,
     "metadata": {},
     "output_type": "execute_result"
    }
   ],
   "source": [
    "model_100.wv.similarity(\"maladie\", \"traitement\")"
   ]
  },
  {
   "cell_type": "code",
   "execution_count": 14,
   "id": "8da7124d-81cc-4204-b5b3-96ebda75e1d1",
   "metadata": {},
   "outputs": [
    {
     "data": {
      "text/plain": [
       "0.2652612"
      ]
     },
     "execution_count": 14,
     "metadata": {},
     "output_type": "execute_result"
    }
   ],
   "source": [
    "model_300.wv.similarity(\"maladie\", \"traitement\")"
   ]
  },
  {
   "cell_type": "code",
   "execution_count": 41,
   "id": "1a128385-09e6-4535-9fe6-af043b99a10f",
   "metadata": {},
   "outputs": [
    {
     "data": {
      "text/plain": [
       "0.26645315"
      ]
     },
     "execution_count": 41,
     "metadata": {},
     "output_type": "execute_result"
    }
   ],
   "source": [
    "model_100.wv.similarity(\"ville\", \"campagne\")"
   ]
  },
  {
   "cell_type": "code",
   "execution_count": 33,
   "id": "01ff92ac-391c-451c-8958-f9c93253df08",
   "metadata": {},
   "outputs": [
    {
     "data": {
      "text/plain": [
       "0.19255131"
      ]
     },
     "execution_count": 33,
     "metadata": {},
     "output_type": "execute_result"
    }
   ],
   "source": [
    "model_300.wv.similarity(\"ville\", \"campagne\")"
   ]
  },
  {
   "cell_type": "code",
   "execution_count": 47,
   "id": "bc58bdb2-c20e-449e-b922-047a236c5f01",
   "metadata": {},
   "outputs": [
    {
     "data": {
      "text/plain": [
       "0.84282684"
      ]
     },
     "execution_count": 47,
     "metadata": {},
     "output_type": "execute_result"
    }
   ],
   "source": [
    "model_100.wv.similarity(\"blanc\", \"noir\")"
   ]
  },
  {
   "cell_type": "code",
   "execution_count": 48,
   "id": "207cc577-d5f2-4be4-a84d-53c028e48a84",
   "metadata": {},
   "outputs": [
    {
     "data": {
      "text/plain": [
       "0.729584"
      ]
     },
     "execution_count": 48,
     "metadata": {},
     "output_type": "execute_result"
    }
   ],
   "source": [
    "model_300.wv.similarity(\"blanc\", \"noir\")"
   ]
  },
  {
   "cell_type": "markdown",
   "id": "924796e7-a205-4657-8c58-67d6312e2406",
   "metadata": {},
   "source": [
    "Nous remarquons que les scores de similarité sont ambigüs. Il peuvent indiquer des scores hauts ou bas pour des mots a priori opposés, bien que proche par nature (exemple: la couleur pour l'opposition entre noir et blanc). Ce score est donc plutôt à utiliser pour tester la compréhension du modèle pour des mots considérés comme proches en français. Selon moi, Pour tester les distances entre des mots éloignés, il vaut mieux utiliser les requêtes complexes."
   ]
  },
  {
   "cell_type": "markdown",
   "id": "3bd6be89-f7a8-4677-a730-63597adc2ed2",
   "metadata": {},
   "source": [
    "#### Exploration de la fonction 'most_similar'"
   ]
  },
  {
   "cell_type": "markdown",
   "id": "9aa8b10d-1343-43a2-a9c1-c551db3fa055",
   "metadata": {},
   "source": [
    "Je profite de cette fonction pour explorer des mots fréquents ressortis lors du tp2 afin d'explorer leur \"signification\" propre à notre corpus. "
   ]
  },
  {
   "cell_type": "code",
   "execution_count": 120,
   "id": "5a02b848-7763-4b6e-958f-48f1b7b505e7",
   "metadata": {},
   "outputs": [
    {
     "data": {
      "text/plain": [
       "[('badts', 0.9020717740058899),\n",
       " ('beguinagt', 0.9013281464576721),\n",
       " ('341bis', 0.8887001872062683),\n",
       " ('conducteuradjoint', 0.8853543996810913),\n",
       " ('sigmund', 0.885325014591217),\n",
       " ('35639', 0.884915292263031),\n",
       " ('chauffeursmecaniciens', 0.8843915462493896),\n",
       " (\"';'\", 0.8841107487678528),\n",
       " ('jor1s', 0.8836629986763),\n",
       " ('8008', 0.8827921748161316)]"
      ]
     },
     "execution_count": 120,
     "metadata": {},
     "output_type": "execute_result"
    }
   ],
   "source": [
    "model_100.wv.most_similar(\"assitance\", topn=10)"
   ]
  },
  {
   "cell_type": "code",
   "execution_count": 15,
   "id": "97d9b2ff-7612-4eda-8c5e-05edca8f0fdc",
   "metadata": {},
   "outputs": [
    {
     "data": {
      "text/plain": [
       "[('soliloque', 0.7464151978492737),\n",
       " ('cretift', 0.7448118925094604),\n",
       " ('1426i', 0.7249847054481506),\n",
       " ('lxxxvin', 0.7245268821716309),\n",
       " ('ograpliie', 0.724136233329773),\n",
       " ('serviintercommude', 0.7204516530036926),\n",
       " ('trv', 0.7201919555664062),\n",
       " ('drytaael', 0.7191236019134521),\n",
       " ('algeheelheid', 0.7166889905929565),\n",
       " ('l120', 0.7151702046394348)]"
      ]
     },
     "execution_count": 15,
     "metadata": {},
     "output_type": "execute_result"
    }
   ],
   "source": [
    "model_300.wv.most_similar(\"assitance\", topn=10)"
   ]
  },
  {
   "cell_type": "code",
   "execution_count": 4,
   "id": "70617ee2-8d4c-4acb-8001-670b6079bcb9",
   "metadata": {},
   "outputs": [
    {
     "data": {
      "text/plain": [
       "[('entrelien', 0.8054344058036804),\n",
       " ('tretien', 0.706597089767456),\n",
       " ('enlrelien', 0.6608014702796936),\n",
       " ('entret', 0.6553846001625061),\n",
       " ('enlretien', 0.6465127468109131),\n",
       " ('reparation', 0.6188675761222839),\n",
       " ('hospitalisation', 0.5950733423233032),\n",
       " ('ameublement', 0.5872195959091187),\n",
       " ('arrosement', 0.5764084458351135),\n",
       " ('nettoyage', 0.5697656273841858)]"
      ]
     },
     "execution_count": 4,
     "metadata": {},
     "output_type": "execute_result"
    }
   ],
   "source": [
    "model_100.wv.most_similar(\"entretien\", topn=10)"
   ]
  },
  {
   "cell_type": "code",
   "execution_count": 16,
   "id": "9cad0a5b-d9a0-41e7-9339-45490b77c68d",
   "metadata": {},
   "outputs": [
    {
     "data": {
      "text/plain": [
       "[('entrelien', 0.732262909412384),\n",
       " ('tretien', 0.6430491209030151),\n",
       " ('enlrelien', 0.581417441368103),\n",
       " ('entret', 0.5437759160995483),\n",
       " ('enlretien', 0.5422676801681519),\n",
       " ('refection', 0.4523935616016388),\n",
       " ('hospitalisation', 0.44925767183303833),\n",
       " ('eclairage', 0.44907066226005554),\n",
       " ('entretien_locatif', 0.44506317377090454),\n",
       " ('usage_exclusif', 0.4420177936553955)]"
      ]
     },
     "execution_count": 16,
     "metadata": {},
     "output_type": "execute_result"
    }
   ],
   "source": [
    "model_300.wv.most_similar(\"entretien\", topn=10)"
   ]
  },
  {
   "cell_type": "code",
   "execution_count": 43,
   "id": "90453e38-8ee2-4ccd-b547-e2f2fa87aab2",
   "metadata": {},
   "outputs": [
    {
     "data": {
      "text/plain": [
       "[('cours_pratiques', 0.6983484029769897),\n",
       " ('cours_preparatoire', 0.6638883948326111),\n",
       " ('cours_speciaux', 0.648533821105957),\n",
       " ('cours_techniques', 0.6434221267700195),\n",
       " ('debut', 0.6305829882621765),\n",
       " ('cours_theoriques', 0.6229720115661621),\n",
       " ('cours_menagers', 0.612105667591095),\n",
       " ('professeur', 0.603455126285553),\n",
       " ('heures_consacrees', 0.5978484749794006),\n",
       " ('cours_facultatifs', 0.5949850678443909)]"
      ]
     },
     "execution_count": 43,
     "metadata": {},
     "output_type": "execute_result"
    }
   ],
   "source": [
    "model_100.wv.most_similar(\"cours\", topn=10)"
   ]
  },
  {
   "cell_type": "code",
   "execution_count": 42,
   "id": "7878b440-8de0-4957-a039-a06018eeffd0",
   "metadata": {},
   "outputs": [
    {
     "data": {
      "text/plain": [
       "[('cours_pratiques', 0.5516554713249207),\n",
       " ('cours_speciaux', 0.5406738519668579),\n",
       " ('cours_theoriques', 0.5188175439834595),\n",
       " ('cours_generaux', 0.5150487422943115),\n",
       " ('cours_techniques', 0.5111157894134521),\n",
       " ('cours_preparatoire', 0.4871842563152313),\n",
       " ('debut', 0.4860787093639374),\n",
       " ('cours_superieurs', 0.4749787151813507),\n",
       " ('lecons', 0.4746241867542267),\n",
       " ('cours_menagers', 0.4736053943634033)]"
      ]
     },
     "execution_count": 42,
     "metadata": {},
     "output_type": "execute_result"
    }
   ],
   "source": [
    "model_300.wv.most_similar(\"cours\", topn=10)"
   ]
  },
  {
   "cell_type": "markdown",
   "id": "edd626a6-6cb9-433c-bc6d-df2de3a158a2",
   "metadata": {},
   "source": [
    "#### Requêtes complexes"
   ]
  },
  {
   "cell_type": "code",
   "execution_count": 7,
   "id": "77d9160c-e2a6-4d9b-ab53-ea96dcccb800",
   "metadata": {},
   "outputs": [
    {
     "name": "stdout",
     "output_type": "stream",
     "text": [
      "[('subside', 0.6500080823898315), ('subside_annuel', 0.6421376466751099), ('credit_special', 0.6364462375640869), ('subside_extraordinaire', 0.6334735155105591), ('credit_extraordinaire', 0.6185612082481384), ('credit_supplementaire', 0.5864571332931519), ('credil', 0.5759154558181763), ('credit_alloue', 0.5512147545814514), ('second_credit_supplementaire', 0.5469581484794617), ('batiment_prefabrique', 0.5455600023269653)]\n"
     ]
    }
   ],
   "source": [
    "print(model_100.wv.most_similar(positive=['convalescence', 'credit'], negative=['maladie']))"
   ]
  },
  {
   "cell_type": "code",
   "execution_count": 17,
   "id": "3f57a575-f830-4caf-a6fa-a74558f8493f",
   "metadata": {},
   "outputs": [
    {
     "name": "stdout",
     "output_type": "stream",
     "text": [
      "[('credit_special', 0.5154436230659485), ('credit_extraordinaire', 0.4911023676395416), ('credit_supplementaire', 0.47469472885131836), ('subside', 0.46857431530952454), ('credil', 0.4648384749889374), ('subside_annuel', 0.4412742555141449), ('subside_extraordinaire', 0.43020889163017273), ('nouvel_etablissement', 0.41310009360313416), ('credit_alloue', 0.41146448254585266), ('credit_budgetaire', 0.40508177876472473)]\n"
     ]
    }
   ],
   "source": [
    "print(model_300.wv.most_similar(positive=['convalescence', 'credit'], negative=['maladie']))"
   ]
  },
  {
   "cell_type": "code",
   "execution_count": 9,
   "id": "2e474468-03db-49c8-a2b6-dc8215bbcffd",
   "metadata": {},
   "outputs": [
    {
     "name": "stdout",
     "output_type": "stream",
     "text": [
      "[('age', 0.6486242413520813), ('adulte', 0.6073354482650757), ('individu', 0.5869765877723694), ('indigent', 0.5866605639457703), ('ouvrier', 0.5729239583015442), ('chaque_enfant', 0.5594813227653503), ('adolescent', 0.558224618434906), ('infirmite', 0.5505214929580688), ('malade', 0.5464586019515991), ('femme', 0.5383397340774536)]\n"
     ]
    }
   ],
   "source": [
    "print(model_100.wv.most_similar(positive=['chien', 'enfant'], negative=['chat']))"
   ]
  },
  {
   "cell_type": "code",
   "execution_count": 18,
   "id": "dc8c1a6c-6375-4ead-abb1-5a9c25d4e465",
   "metadata": {},
   "outputs": [
    {
     "name": "stdout",
     "output_type": "stream",
     "text": [
      "[('individu', 0.4828692078590393), ('mere', 0.4685194194316864), ('chaque_enfant', 0.46769121289253235), ('malade', 0.45745882391929626), ('enfants', 0.44908905029296875), ('femme', 0.44761595129966736), ('age', 0.44711846113204956), ('enfant_malade', 0.44067758321762085), ('affection', 0.4369041323661804), ('adolescent', 0.4353281259536743)]\n"
     ]
    }
   ],
   "source": [
    "print(model_300.wv.most_similar(positive=['chien', 'enfant'], negative=['chat']))"
   ]
  },
  {
   "cell_type": "code",
   "execution_count": 10,
   "id": "f90d8128-e907-4a2e-bf96-9ace09f0dd19",
   "metadata": {},
   "outputs": [
    {
     "name": "stdout",
     "output_type": "stream",
     "text": [
      "[('adulte', 0.6703963279724121), ('individu', 0.6588932275772095), ('air_pur', 0.6316918134689331), ('cet_enfant', 0.6236950159072876), ('vieillard', 0.6189359426498413), ('adolescent', 0.6099064946174622), ('homme', 0.5976155996322632), ('malade', 0.5892374515533447), ('indigent', 0.5787951350212097), ('ecolier', 0.5772916674613953)]\n"
     ]
    }
   ],
   "source": [
    "print(model_100.wv.most_similar(positive=['noir', 'enfant'], negative=['blanc']))"
   ]
  },
  {
   "cell_type": "code",
   "execution_count": 19,
   "id": "9ad40e1b-dddc-4c4d-97cc-711fd6ad150f",
   "metadata": {},
   "outputs": [
    {
     "name": "stdout",
     "output_type": "stream",
     "text": [
      "[('individu', 0.5463488101959229), ('adulte', 0.5150238275527954), ('cet_enfant', 0.47613683342933655), ('enfants', 0.4760330617427826), ('education_morale', 0.47393277287483215), ('malade', 0.47121208906173706), ('jeune_homme', 0.4658198654651642), ('homme', 0.4657776355743408), ('jeune_garcon', 0.46298423409461975), ('indigent', 0.45729970932006836)]\n"
     ]
    }
   ],
   "source": [
    "print(model_300.wv.most_similar(positive=['noir', 'enfant'], negative=['blanc']))"
   ]
  },
  {
   "cell_type": "code",
   "execution_count": 39,
   "id": "0ed6a056-27df-4bc4-b03a-820eb033a036",
   "metadata": {},
   "outputs": [
    {
     "name": "stdout",
     "output_type": "stream",
     "text": [
      "[('tranquillite', 0.6096832752227783), ('contamination', 0.5660967230796814), ('proprete', 0.5466688275337219), ('propagation', 0.539040207862854), ('detente', 0.5178829431533813), ('prevention', 0.5116077661514282), ('contagion', 0.5086106657981873), ('commodite', 0.5084385275840759), ('lumiere', 0.49884146451950073), ('aide_morale', 0.49366673827171326)]\n"
     ]
    }
   ],
   "source": [
    "print(model_100.wv.most_similar(positive=['securite', 'campagne'], negative=['ville']))"
   ]
  },
  {
   "cell_type": "code",
   "execution_count": 31,
   "id": "1fbe586b-1c00-4e55-a53e-4db308a24d91",
   "metadata": {},
   "outputs": [
    {
     "name": "stdout",
     "output_type": "stream",
     "text": [
      "[('tranquillite', 0.47990450263023376), ('proprete', 0.4194595515727997), ('propagation', 0.40808725357055664), ('preservation', 0.3912057876586914), ('commodite', 0.3775981664657593), ('moralite', 0.3695998787879944), ('croissance', 0.3650842010974884), ('prevention', 0.3596031963825226), ('respiration', 0.3508452773094177), ('salubrite', 0.34927278757095337)]\n"
     ]
    }
   ],
   "source": [
    "print(model_300.wv.most_similar(positive=['securite', 'campagne'], negative=['ville']))"
   ]
  },
  {
   "cell_type": "code",
   "execution_count": 40,
   "id": "ee293b7d-7e04-41af-8909-e5de3a881f1a",
   "metadata": {},
   "outputs": [
    {
     "name": "stdout",
     "output_type": "stream",
     "text": [
      "[('enfants_chetifs', 0.5950486660003662), ('maladie', 0.5759770274162292), ('colonie', 0.5480513572692871), ('debiles', 0.5114845633506775), ('surveillance_medicale', 0.5003782510757446), ('enfants_debiles', 0.4988692104816437), ('malingres', 0.49554550647735596), ('guerison', 0.4948507249355316), ('adenoides', 0.49482688307762146), ('sevres', 0.49455612897872925)]\n"
     ]
    }
   ],
   "source": [
    "print(model_100.wv.most_similar(positive=['sante', 'campagne'], negative=['ville']))"
   ]
  },
  {
   "cell_type": "code",
   "execution_count": 32,
   "id": "6852c130-41ad-4c4e-9053-169f3d4b770e",
   "metadata": {},
   "outputs": [
    {
     "name": "stdout",
     "output_type": "stream",
     "text": [
      "[('colonie', 0.42936834692955017), ('maladie', 0.4230324625968933), ('enfants_chetifs', 0.4129849970340729), ('mentaux', 0.38744693994522095), ('gheel', 0.386915385723114), ('affection', 0.38316917419433594), ('infirmes', 0.37833717465400696), ('service_chirurgical', 0.377943754196167), ('homes', 0.37639907002449036), ('sanle', 0.37078672647476196)]\n"
     ]
    }
   ],
   "source": [
    "print(model_300.wv.most_similar(positive=['sante', 'campagne'], negative=['ville']))"
   ]
  },
  {
   "cell_type": "code",
   "execution_count": 38,
   "id": "566f2495-ae8e-4546-aa43-36d423264137",
   "metadata": {},
   "outputs": [
    {
     "name": "stdout",
     "output_type": "stream",
     "text": [
      "[('fierte', 0.7036508321762085), ('tristesse', 0.7028921246528625), ('douleur', 0.7017102837562561), ('bonte', 0.6664937138557434), ('curiosite', 0.6661158204078674), ('perseverance', 0.6574430465698242), ('tenacite', 0.6569643020629883), ('excita', 0.6521251201629639), ('generosite', 0.6475568413734436), ('bonne_humeur', 0.6471173763275146)]\n"
     ]
    }
   ],
   "source": [
    "print(model_100.wv.most_similar(positive=['fidelite', 'joie'], negative=['obeissance']))"
   ]
  },
  {
   "cell_type": "code",
   "execution_count": 34,
   "id": "ad6fd898-07dc-4efe-b57a-4ccb5093adc0",
   "metadata": {},
   "outputs": [
    {
     "name": "stdout",
     "output_type": "stream",
     "text": [
      "[('bonte', 0.613366961479187), ('fierte', 0.6126000285148621), ('douleur', 0.6100911498069763), ('passion', 0.5612075328826904), ('tristesse', 0.5516183972358704), ('gloire', 0.5477015972137451), ('sagesse', 0.5442857146263123), ('vitalite', 0.5331372618675232), ('cordialite', 0.5287707448005676), ('tenacite', 0.5252164602279663)]\n"
     ]
    }
   ],
   "source": [
    "print(model_300.wv.most_similar(positive=['fidelite', 'joie'], negative=['obeissance']))"
   ]
  },
  {
   "cell_type": "code",
   "execution_count": 37,
   "id": "8a16569a-887e-444e-81c9-fccd52779938",
   "metadata": {},
   "outputs": [
    {
     "name": "stdout",
     "output_type": "stream",
     "text": [
      "[('bonte', 0.6609882116317749), ('bravoure', 0.6353232860565186), ('dignite', 0.6104191541671753), ('gaite', 0.6076962351799011), ('gratitude', 0.6073093414306641), ('droiture', 0.5978662371635437), ('des_dames_patronnesses', 0.5965664982795715), ('chose_publique', 0.5962206721305847), ('supreme', 0.5922481417655945), ('gloire', 0.5901403427124023)]\n"
     ]
    }
   ],
   "source": [
    "print(model_100.wv.most_similar(positive=['fidelite', 'joie'], negative=['infidelite']))"
   ]
  },
  {
   "cell_type": "code",
   "execution_count": 36,
   "id": "9814101e-f776-44c9-819a-a4bbad09e7ae",
   "metadata": {},
   "outputs": [
    {
     "name": "stdout",
     "output_type": "stream",
     "text": [
      "[('bonte', 0.5723008513450623), ('obeissance', 0.5228672027587891), ('douleur', 0.5131702423095703), ('chose_publique', 0.5035431385040283), ('gratitude', 0.4845524728298187), ('fierte', 0.48237642645835876), ('<<_je_jure', 0.48110663890838623), ('bonheur', 0.48084884881973267), ('courageux', 0.47602829337120056), ('victoire', 0.4699200689792633)]\n"
     ]
    }
   ],
   "source": [
    "print(model_300.wv.most_similar(positive=['fidelite', 'joie'], negative=['infidelite']))"
   ]
  },
  {
   "cell_type": "code",
   "execution_count": 46,
   "id": "f22e71ff-dfde-405e-91d5-c4585f738fe2",
   "metadata": {},
   "outputs": [
    {
     "name": "stdout",
     "output_type": "stream",
     "text": [
      "[('personne_chargee', 0.5822624564170837), ('infirmiere', 0.5777283310890198), ('assistante_sociale', 0.5485544800758362), ('maladie', 0.5378263592720032), ('division', 0.5286691188812256), ('division_centrale', 0.5274006128311157), ('agent', 0.5191535949707031), ('punition', 0.5111469030380249), ('gendarmerie', 0.5100896954536438), ('leur_comportement', 0.5063064694404602)]\n"
     ]
    }
   ],
   "source": [
    "print(model_100.wv.most_similar(positive=['officier', 'femme'], negative=['soldat']))"
   ]
  },
  {
   "cell_type": "code",
   "execution_count": 45,
   "id": "1f1d4a72-6afb-4a2e-9da9-c3da43d98c6a",
   "metadata": {},
   "outputs": [
    {
     "name": "stdout",
     "output_type": "stream",
     "text": [
      "[('infirmiere', 0.45625606179237366), ('agent', 0.4190536439418793), ('servante', 0.413343220949173), ('assistante_sociale', 0.4076686203479767), ('aumonier', 0.3952755928039551), ('maladie', 0.3937314748764038), ('econome', 0.38731375336647034), ('officier_inspecteur', 0.3774641752243042), ('lingere', 0.37577560544013977), ('personne_chargee', 0.3737441599369049)]\n"
     ]
    }
   ],
   "source": [
    "print(model_300.wv.most_similar(positive=['officier', 'femme'], negative=['soldat']))"
   ]
  },
  {
   "cell_type": "markdown",
   "id": "e2f64e79-25be-4a7c-880c-1d0722e8b921",
   "metadata": {},
   "source": [
    "\n",
    "On remarque que pour beaucoup de requêtes, le modèle_100 semble être plus précis et donner de meilleurs résultats (exemple: noir+enfant-blanc, convalescence+crédit-maladie). Les premières occurences sont souvent parlantes et nuancées (exemple: fidélité+joie-[obéissance ou infidélité]), tandis que le modèle_300 semble moins subtile. \n",
    "\n",
    "Rappelons-nous aussi que le modèle_100 avait bien identifié la capitale de la France, au contraire du modèle_300.\n",
    "\n",
    "J'opterais donc plutôt pour ce dernier modèle si je devais choisir de l'utiliser par la suite."
   ]
  },
  {
   "cell_type": "code",
   "execution_count": null,
   "id": "961ab10e-1f17-4508-82b1-aeac5ccb9714",
   "metadata": {},
   "outputs": [],
   "source": []
  }
 ],
 "metadata": {
  "kernelspec": {
   "display_name": "Python 3 (ipykernel)",
   "language": "python",
   "name": "python3"
  },
  "language_info": {
   "codemirror_mode": {
    "name": "ipython",
    "version": 3
   },
   "file_extension": ".py",
   "mimetype": "text/x-python",
   "name": "python",
   "nbconvert_exporter": "python",
   "pygments_lexer": "ipython3",
   "version": "3.9.7"
  }
 },
 "nbformat": 4,
 "nbformat_minor": 5
}
