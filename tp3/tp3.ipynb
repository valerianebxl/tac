{
 "cells": [
  {
   "cell_type": "markdown",
   "id": "5470f524-1497-44a6-9fc1-b1541f376791",
   "metadata": {},
   "source": [
    "# Clustering et word2vec"
   ]
  },
  {
   "cell_type": "markdown",
   "id": "4aab9df9-3737-4fb0-9c57-ae33615ac09c",
   "metadata": {},
   "source": [
    "Sur la base des éléments méthodologiques et des enseignements techniques présentés lors du cours théorique, il est demandé dans le cadre de ce TP :\n",
    "- d’effectuer un clustering des bulletins pour une décennie au choix et d’interpréter les résultats\n",
    "- d’entraîner un modèle word2vec sur l’ensemble des bulletins et d’explorer les relations entre vecteurs\n",
    "\n",
    "Pour ce faire, vous utiliserez différentes librairies Python vues au cours comme scikit-learn et gensim."
   ]
  },
  {
   "cell_type": "markdown",
   "id": "57efd957-74d6-41a4-9abe-ca82e914a281",
   "metadata": {},
   "source": [
    "## 1. Clustering"
   ]
  },
  {
   "cell_type": "markdown",
   "id": "82706675-c1cc-44fe-a1d7-4e02d87cb974",
   "metadata": {},
   "source": [
    "## 2. Word2Vec"
   ]
  },
  {
   "cell_type": "markdown",
   "id": "2e2b4e5d-3872-4866-ae6c-3634788a4bab",
   "metadata": {},
   "source": [
    "#### Librairies nécessaires"
   ]
  },
  {
   "cell_type": "code",
   "execution_count": 1,
   "id": "9f6fcd20-ae63-448b-96bf-9f0d8c9ddfe9",
   "metadata": {},
   "outputs": [],
   "source": [
    "import sys\n",
    "import os\n",
    "\n",
    "from gensim.models.phrases import Phrases, Phraser\n",
    "from gensim.models import Word2Vec\n",
    "\n",
    "import nltk\n",
    "from nltk.tokenize import wordpunct_tokenize\n",
    "from unidecode import unidecode"
   ]
  },
  {
   "cell_type": "code",
   "execution_count": 2,
   "id": "42b0dd65-c5e7-49da-80b1-986f2272731d",
   "metadata": {},
   "outputs": [],
   "source": [
    "sw = stopwords.words(\"french\")"
   ]
  },
  {
   "cell_type": "code",
   "execution_count": 3,
   "id": "1094a320-9646-44ed-8baf-fe9ff5600670",
   "metadata": {},
   "outputs": [
    {
     "ename": "NameError",
     "evalue": "name 'infile' is not defined",
     "output_type": "error",
     "traceback": [
      "\u001b[0;31m---------------------------------------------------------------------------\u001b[0m",
      "\u001b[0;31mNameError\u001b[0m                                 Traceback (most recent call last)",
      "\u001b[0;32m/tmp/ipykernel_813/1464807742.py\u001b[0m in \u001b[0;36m<module>\u001b[0;34m\u001b[0m\n\u001b[0;32m----> 1\u001b[0;31m \u001b[0;32mwith\u001b[0m \u001b[0mopen\u001b[0m\u001b[0;34m(\u001b[0m\u001b[0minfile\u001b[0m\u001b[0;34m,\u001b[0m \u001b[0mencoding\u001b[0m\u001b[0;34m=\u001b[0m\u001b[0;34m\"utf-8\"\u001b[0m\u001b[0;34m,\u001b[0m \u001b[0merrors\u001b[0m\u001b[0;34m=\u001b[0m\u001b[0;34m\"backslashreplace\"\u001b[0m\u001b[0;34m)\u001b[0m \u001b[0;32mas\u001b[0m \u001b[0mf\u001b[0m\u001b[0;34m:\u001b[0m\u001b[0;34m\u001b[0m\u001b[0;34m\u001b[0m\u001b[0m\n\u001b[0m\u001b[1;32m      2\u001b[0m     \u001b[0mprint\u001b[0m\u001b[0;34m(\u001b[0m\u001b[0mtype\u001b[0m\u001b[0;34m(\u001b[0m\u001b[0mf\u001b[0m\u001b[0;34m)\u001b[0m\u001b[0;34m)\u001b[0m\u001b[0;34m\u001b[0m\u001b[0;34m\u001b[0m\u001b[0m\n",
      "\u001b[0;31mNameError\u001b[0m: name 'infile' is not defined"
     ]
    }
   ],
   "source": [
    "with open(infile, encoding=\"utf-8\", errors=\"backslashreplace\") as f:\n",
    "    print(type(f))"
   ]
  },
  {
   "cell_type": "code",
   "execution_count": null,
   "id": "50a438b2-8494-41c2-9b60-d209a0e81798",
   "metadata": {},
   "outputs": [],
   "source": [
    "kept_lines = []\n",
    "\n",
    "with open(outfile, 'w', encoding=\"utf-8\") as output:\n",
    "    with open(infile, encoding=\"utf-8\", errors=\"backslashreplace\") as f:\n",
    "        type(f)\n",
    "        content = f.readlines()\n",
    "        n_lines = len(content)\n",
    "        for i, line in enumerate(content):\n",
    "            for w in line:\n",
    "                if len(w) > 2 and w.isalph() and w.lower() not in sw:\n",
    "                    kept_lines.append(\" \".join(w))\n",
    "        output.write(kept_lines + \"\\n\")\n",
    "print(\"Done\")"
   ]
  },
  {
   "cell_type": "code",
   "execution_count": null,
   "id": "3bb49831-c881-411f-b73e-f43527a784d1",
   "metadata": {},
   "outputs": [],
   "source": [
    "kept = []\n",
    "lines = []\n",
    "def clean_text(my_file):\n",
    "    output_path = f\"../data/sents_clean.txt\"\n",
    "    output = open(output_path, \"w\", encoding='utf-8')\n",
    "    with open(my_file, encoding='utf-8') as f:\n",
    "        for line in f.read():\n",
    "            for w in line:\n",
    "                if len(w) > 1 and w.isalpha() and w.lower() not in sw:\n",
    "                    kept.append(w)\n",
    "            kept_lines = \" \".join(kept)\n",
    "        lines.append(kept_lines)\n",
    "        output.write(lines)\n",
    "    return f'Output has been written in {output_path}!'"
   ]
  },
  {
   "cell_type": "code",
   "execution_count": null,
   "id": "ba9f309e-0614-4cbf-acb8-29d8a4fe6b01",
   "metadata": {},
   "outputs": [],
   "source": [
    "def clean_text(my_file):\n",
    "    output_path = f\"../data/sents_2_clean.txt\"\n",
    "    output = open(output_path, \"w\", encoding='utf-8')\n",
    "    with open(my_file, encoding='utf-8') as f:\n",
    "        text = f.read()\n",
    "        kword = nltk.wordpunct_tokenize(text)\n",
    "        kept = [w.lower() for w in kword if len(w) > 2 and w.isalpha() and w.lower() not in sw]\n",
    "        kept_string = \" \".join(kept)\n",
    "        output.write(kept_string + \"\\n\")\n",
    "    return f'Output has been written in {output_path}!'"
   ]
  },
  {
   "cell_type": "code",
   "execution_count": null,
   "id": "b836b699-f741-4f82-a4bb-9950fb3a542b",
   "metadata": {},
   "outputs": [],
   "source": [
    "clean_text(infile)"
   ]
  },
  {
   "cell_type": "code",
   "execution_count": null,
   "id": "a4dd2f49-000f-4fc4-a4e5-d2aa0e1afa42",
   "metadata": {},
   "outputs": [],
   "source": [
    "cleaned_infile = f\"../data/sents_2_clean.txt\""
   ]
  },
  {
   "cell_type": "code",
   "execution_count": null,
   "id": "31c90024-4b3e-4836-bce6-1299e7c74a93",
   "metadata": {},
   "outputs": [],
   "source": [
    "text_selected = open(os.path.join(f'../data/sents_2_clean.txt'), 'r').read()\n",
    "print(len(text_selected))\n",
    "print(text_selected[:100])"
   ]
  },
  {
   "cell_type": "markdown",
   "id": "db5cf288-0c22-490f-b93d-ede6d71fb3e3",
   "metadata": {},
   "source": [
    "#### Chargement des phrases"
   ]
  },
  {
   "cell_type": "code",
   "execution_count": 4,
   "id": "c45027d3-067a-4306-9d66-232171f50c7c",
   "metadata": {},
   "outputs": [],
   "source": [
    "class MySentences(object):\n",
    "    \"\"\"Tokenize and Lemmatize sentences\"\"\"\n",
    "    def __init__(self, filename):\n",
    "        self.filename = filename\n",
    "\n",
    "    def __iter__(self):\n",
    "        for line in open(self.filename, encoding='utf-8', errors=\"backslashreplace\"):\n",
    "            yield [unidecode(w.lower()) for w in wordpunct_tokenize(line)]"
   ]
  },
  {
   "cell_type": "markdown",
   "id": "c80cd2e3-4e7d-4755-a90d-2c7886a5f6ae",
   "metadata": {},
   "source": [
    "#### Fichier à nettoyer"
   ]
  },
  {
   "cell_type": "code",
   "execution_count": 5,
   "id": "590a72f4-6aa6-4e4c-9551-f2bb88a7650a",
   "metadata": {},
   "outputs": [],
   "source": [
    "infile = f\"../data/sents_2.txt\""
   ]
  },
  {
   "cell_type": "code",
   "execution_count": 6,
   "id": "74ce6a48-d5ed-4448-8388-9dc85d21e10c",
   "metadata": {},
   "outputs": [],
   "source": [
    "sentences = MySentences(infile)"
   ]
  },
  {
   "cell_type": "markdown",
   "id": "e0f31cb3-5038-4f4d-bbab-c02ffc61c8e2",
   "metadata": {},
   "source": [
    "#### Création des bigrammes"
   ]
  },
  {
   "cell_type": "code",
   "execution_count": 7,
   "id": "f866c305-7835-49f4-9ddd-3083f1ed1c92",
   "metadata": {},
   "outputs": [],
   "source": [
    "bigram_phrases = Phrases(sentences)"
   ]
  },
  {
   "cell_type": "code",
   "execution_count": 8,
   "id": "21d3d6e4-3ad3-4034-90e5-076077cff7a3",
   "metadata": {},
   "outputs": [
    {
     "data": {
      "text/plain": [
       "5978799"
      ]
     },
     "execution_count": 8,
     "metadata": {},
     "output_type": "execute_result"
    }
   ],
   "source": [
    "len(bigram_phrases.vocab.keys())"
   ]
  },
  {
   "cell_type": "code",
   "execution_count": 9,
   "id": "e853e65e-afd4-4763-a237-b3a2fff6ede7",
   "metadata": {},
   "outputs": [
    {
     "name": "stdout",
     "output_type": "stream",
     "text": [
      "maladie\n"
     ]
    }
   ],
   "source": [
    "# exploration des bigrammes\n",
    "\n",
    "key_ = list(bigram_phrases.vocab.keys())[145]\n",
    "print(key_)"
   ]
  },
  {
   "cell_type": "code",
   "execution_count": 10,
   "id": "87c73010-0803-4155-9c02-98a534affa0b",
   "metadata": {},
   "outputs": [
    {
     "data": {
      "text/plain": [
       "2929"
      ]
     },
     "execution_count": 10,
     "metadata": {},
     "output_type": "execute_result"
    }
   ],
   "source": [
    "# score de la clé\n",
    "\n",
    "bigram_phrases.vocab[key_]"
   ]
  },
  {
   "cell_type": "code",
   "execution_count": 11,
   "id": "c3c744cd-66f1-4f81-b1ad-1135a0af8358",
   "metadata": {},
   "outputs": [
    {
     "name": "stdout",
     "output_type": "stream",
     "text": [
      "['v', 'i', 'v_i', 'l', 'i_l', 'l_l', 'e', 'l_e', 'de', 'e_de']\n"
     ]
    }
   ],
   "source": [
    "print(list(bigram_phrases.vocab.keys())[:10])"
   ]
  },
  {
   "cell_type": "code",
   "execution_count": 12,
   "id": "e3063b88-768f-4ef1-bd6d-227673f7cf9b",
   "metadata": {},
   "outputs": [
    {
     "name": "stdout",
     "output_type": "stream",
     "text": [
      "CPU times: user 6.83 ms, sys: 0 ns, total: 6.83 ms\n",
      "Wall time: 5.87 ms\n"
     ]
    },
    {
     "data": {
      "text/plain": [
       "<gensim.interfaces.TransformedCorpus at 0x7fcfdfcec460>"
      ]
     },
     "execution_count": 12,
     "metadata": {},
     "output_type": "execute_result"
    }
   ],
   "source": [
    "%time bigram_phrases[sentences]"
   ]
  },
  {
   "cell_type": "code",
   "execution_count": 13,
   "id": "8efe9f0a-4b05-4492-8299-0b0f316f8060",
   "metadata": {},
   "outputs": [],
   "source": [
    "bigram_phraser = Phraser(phrases_model=bigram_phrases)"
   ]
  },
  {
   "cell_type": "code",
   "execution_count": 14,
   "id": "aef108da-dc60-4639-981e-839e16c024b5",
   "metadata": {},
   "outputs": [
    {
     "name": "stdout",
     "output_type": "stream",
     "text": [
      "CPU times: user 2.35 ms, sys: 0 ns, total: 2.35 ms\n",
      "Wall time: 2.73 ms\n"
     ]
    },
    {
     "data": {
      "text/plain": [
       "<gensim.interfaces.TransformedCorpus at 0x7fcfdfcf2d60>"
      ]
     },
     "execution_count": 14,
     "metadata": {},
     "output_type": "execute_result"
    }
   ],
   "source": [
    "%time bigram_phraser[sentences]"
   ]
  },
  {
   "cell_type": "code",
   "execution_count": 15,
   "id": "0ebf5848-c99b-41c1-9b23-d32b81bae084",
   "metadata": {},
   "outputs": [],
   "source": [
    "trigram_phrases = Phrases(bigram_phraser[sentences])"
   ]
  },
  {
   "cell_type": "code",
   "execution_count": 16,
   "id": "9d70c0b6-ea30-47a7-923b-3cc8c5348628",
   "metadata": {},
   "outputs": [],
   "source": [
    "trigram_phraser = Phraser(phrases_model=trigram_phrases)"
   ]
  },
  {
   "cell_type": "code",
   "execution_count": 17,
   "id": "5e2478f2-aefd-440b-be3a-066aeedd128e",
   "metadata": {},
   "outputs": [],
   "source": [
    "quadrigram_phrases = Phrases(trigram_phraser[sentences])"
   ]
  },
  {
   "cell_type": "code",
   "execution_count": 18,
   "id": "d0c703e3-838b-4c38-892e-d94111ec070a",
   "metadata": {},
   "outputs": [],
   "source": [
    "quadrigram_phraser = Phraser(phrases_model=quadrigram_phrases)"
   ]
  },
  {
   "cell_type": "code",
   "execution_count": 19,
   "id": "33f38b0a-077e-4428-811b-cf6788331f3e",
   "metadata": {},
   "outputs": [],
   "source": [
    "pentagram_phrases = Phrases(quadrigram_phraser[sentences])"
   ]
  },
  {
   "cell_type": "code",
   "execution_count": 20,
   "id": "e3a070f0-61f7-475c-8f63-2eca3ff73ad6",
   "metadata": {},
   "outputs": [],
   "source": [
    "pentagram_phraser = Phraser(phrases_model=pentagram_phrases)"
   ]
  },
  {
   "cell_type": "code",
   "execution_count": 21,
   "id": "eafc40c7-8fa4-4063-92eb-56cb024ced02",
   "metadata": {},
   "outputs": [],
   "source": [
    "corpus = list(pentagram_phraser[quadrigram_phraser[trigram_phraser[bigram_phraser[sentences]]]])"
   ]
  },
  {
   "cell_type": "code",
   "execution_count": 22,
   "id": "19bf7e5d-f24a-4203-b062-c627f306da10",
   "metadata": {},
   "outputs": [
    {
     "name": "stdout",
     "output_type": "stream",
     "text": [
      "[['v', 'i', 'l', 'l', 'e', 'de', 'bruxelles', 'bulletin', 'ires', '8eanas', 'dl', '!'], ['conseil_communal', 'annee', '1847', '.'], ['au', 'ville', 'de', 'b', 'r', 'u', 'x', 'e', 'l', 'l', 'e', 's', '.'], ['bulletin', 'conseil', 'aes', 'seances', 'communal', '.'], ['annee', '1847', '.'], ['bruxelles', ',', 'imprimerie', 'd', 'e', 'j', '.'], ['h', '.', 'b', 'r', 'i', 'a', 'r', 'd', ',', 'rite', 'n', 'e', 'u', 'v', 'e', ',', '3', '1', ',', 'faubourg', 'de', 'n', 'a', 'm', 'u', 'r', ',', '1', '84', '8', 'de', '!'], ['du', 'consei', 'dibi', 'e', '.', '-', 'communication', 'conclusions', 'de', 'la', 'section', 'des', 'du', 'nouvel_hospice', 'pour', 'les', 'av', 'enraisonde', 'l', \"'\", 'absence', '&', 'maladie', '.', 'le', 'conseil', 'ajourne', 'leurs', 'de', 'pierre', 'el', 'marchai', 'cles', 'des', 'taxes', 'communale', \"'\", 'bieniaance', 'eldeseianv', 'il', 'est', 'donne', 'communie', ';', 'mandant', 'le', 'o', 'p', 'fa', 'gnant', 'l', \"'\", 'envoi', 'de', 'leur', 'bn', 'par', 'l', \"'\", 'etat', 'obligatoire', 'p', 'secretariat', 'et', 'dtput', 'uf', 'proposition', 'dan', '*', 'le', 'meme', 'u', 'est', 'donne_lecture', 'd', \"'\", 't', 'glissement', 'd', \"'\", 'un', 'marc', '!'], [\"'*\", 'royales', ',', 'rue', 'de', 'la', 'i', 'd', 'e', 'k', ':', ';', 'i', 'fai', 'phonnenr', 'de', 'to', '>>', '<<', '<<', 'terrains', 'reumsderb', '.\"'], ['^', 'par', 'une', 'combinaison', 'f', 'sans', 'devoir', 'fe', 'soit', 'dow', 'ans', ',', 'un', 'marcs', '1', 's', 'u', 'r', 'l', 'iraocs', '.']]\n"
     ]
    }
   ],
   "source": [
    "print(corpus[:10])"
   ]
  },
  {
   "cell_type": "code",
   "execution_count": 23,
   "id": "1bc5750c-8d42-4ef3-804b-3b6b5d77b3dd",
   "metadata": {},
   "outputs": [
    {
     "name": "stdout",
     "output_type": "stream",
     "text": [
      "CPU times: user 2h 20min 49s, sys: 9min 36s, total: 2h 30min 25s\n",
      "Wall time: 44min 14s\n"
     ]
    }
   ],
   "source": [
    "%%time\n",
    "model = Word2Vec(\n",
    "    corpus, # On passe le corpus de ngrams que nous venons de créer\n",
    "    vector_size=300, # Le nombre de dimensions dans lesquelles le contexte des mots devra être réduit, aka. vector_size\n",
    "    window=10, # La taille du \"contexte\", ici 5 mots avant et après le mot observé\n",
    "    min_count=2, # On ignore les mots qui n'apparaissent pas au moins 5 fois dans le corpus\n",
    "    workers=4, # Permet de paralléliser l'entraînement du modèle en 4 threads\n",
    "    epochs=10 # Nombre d'itérations du réseau de neurones sur le jeu de données pour ajuster les paramètres avec la descende de gradient, aka. epochs.\n",
    ")"
   ]
  },
  {
   "cell_type": "code",
   "execution_count": 24,
   "id": "9cffac88-dcb0-4956-b5ed-39456543df9c",
   "metadata": {},
   "outputs": [],
   "source": [
    "outfile = f\"../data/bulletins_tp3_1.model\"\n",
    "model.save(outfile)"
   ]
  },
  {
   "cell_type": "code",
   "execution_count": 2,
   "id": "ce22be44-26e1-4664-a480-a29dd535f982",
   "metadata": {},
   "outputs": [],
   "source": [
    "model = Word2Vec.load(\"../data/bulletins_tp3_1.model\")"
   ]
  },
  {
   "cell_type": "markdown",
   "id": "78aac94d-1028-4e0c-aa97-49732e78dd04",
   "metadata": {
    "tags": []
   },
   "source": [
    "#### Exploration du modèle"
   ]
  },
  {
   "cell_type": "code",
   "execution_count": 5,
   "id": "6c8dda50-c978-4e2a-a745-c7224a4d6a34",
   "metadata": {},
   "outputs": [
    {
     "data": {
      "text/plain": [
       "0.57089794"
      ]
     },
     "execution_count": 5,
     "metadata": {},
     "output_type": "execute_result"
    }
   ],
   "source": [
    "model.wv.similarity(\"boucher\", \"boulanger\")"
   ]
  },
  {
   "cell_type": "code",
   "execution_count": 30,
   "id": "13d21d8d-2515-4bd0-aae9-0e3a21e17985",
   "metadata": {},
   "outputs": [
    {
     "data": {
      "text/plain": [
       "0.42860717"
      ]
     },
     "execution_count": 30,
     "metadata": {},
     "output_type": "execute_result"
    }
   ],
   "source": [
    "model.wv.similarity(\"homme\", \"femme\")"
   ]
  },
  {
   "cell_type": "code",
   "execution_count": 21,
   "id": "01f72032-1615-45e5-90b1-605eaf8c4867",
   "metadata": {},
   "outputs": [
    {
     "data": {
      "text/plain": [
       "0.5798148"
      ]
     },
     "execution_count": 21,
     "metadata": {},
     "output_type": "execute_result"
    }
   ],
   "source": [
    "model.wv.similarity(\"chat\", \"chien\")"
   ]
  },
  {
   "cell_type": "code",
   "execution_count": 22,
   "id": "9d60298c-2a58-4cf6-b175-14226d05f9cb",
   "metadata": {},
   "outputs": [
    {
     "data": {
      "text/plain": [
       "0.28735888"
      ]
     },
     "execution_count": 22,
     "metadata": {},
     "output_type": "execute_result"
    }
   ],
   "source": [
    "model.wv.similarity(\"voiture\", \"carrosse\")"
   ]
  },
  {
   "cell_type": "code",
   "execution_count": 25,
   "id": "1325f839-4910-42d9-8618-edb8bc909ab5",
   "metadata": {},
   "outputs": [
    {
     "data": {
      "text/plain": [
       "0.42339402"
      ]
     },
     "execution_count": 25,
     "metadata": {},
     "output_type": "execute_result"
    }
   ],
   "source": [
    "model.wv.similarity(\"voiture\", \"chien\")"
   ]
  },
  {
   "cell_type": "code",
   "execution_count": 6,
   "id": "f7527e20-dd33-477d-b3a5-aa662120123d",
   "metadata": {},
   "outputs": [
    {
     "data": {
      "text/plain": [
       "[('rruxelles', 0.5818007588386536),\n",
       " ('nivelles', 0.5182838439941406),\n",
       " ('liege', 0.5148740410804749),\n",
       " ('bruxeles', 0.4937210977077484),\n",
       " ('bruxelle', 0.4917224645614624),\n",
       " ('jrvice', 0.471939355134964),\n",
       " ('xelles', 0.4709879159927368),\n",
       " ('huy', 0.47084033489227295),\n",
       " ('prague', 0.46914100646972656),\n",
       " ('binche', 0.46828752756118774)]"
      ]
     },
     "execution_count": 6,
     "metadata": {},
     "output_type": "execute_result"
    }
   ],
   "source": [
    "model.wv.most_similar(\"bruxelles\", topn=10)"
   ]
  },
  {
   "cell_type": "code",
   "execution_count": 27,
   "id": "fb06844c-6c8b-47f2-86db-726966662028",
   "metadata": {},
   "outputs": [
    {
     "data": {
      "text/plain": [
       "[('aristotelisme', 0.8893957734107971),\n",
       " ('symbolis', 0.8818884491920471),\n",
       " ('centum', 0.8812199831008911),\n",
       " ('christiano', 0.879470705986023),\n",
       " ('147437', 0.8793374300003052),\n",
       " ('66637', 0.8787049055099487),\n",
       " ('153125', 0.8774873614311218),\n",
       " ('gewidmet', 0.8770879507064819),\n",
       " ('43451', 0.8768373727798462),\n",
       " ('122571', 0.8763118982315063)]"
      ]
     },
     "execution_count": 27,
     "metadata": {},
     "output_type": "execute_result"
    }
   ],
   "source": [
    "model.wv.most_similar(\"platonisme\", topn=10)"
   ]
  },
  {
   "cell_type": "code",
   "execution_count": 7,
   "id": "38f943d7-bd89-41c5-a18f-f4f5af1da77b",
   "metadata": {},
   "outputs": [
    {
     "name": "stdout",
     "output_type": "stream",
     "text": [
      "[('liege', 0.5035298466682434), ('londres', 0.494385689496994), ('milan', 0.48436862230300903), ('tournai', 0.47917115688323975), ('huy', 0.4791364371776581), ('verviers', 0.470472127199173), ('prague', 0.4691561460494995), ('ostende', 0.46747785806655884), ('hambourg', 0.4582105278968811), ('paris', 0.4556889533996582)]\n"
     ]
    }
   ],
   "source": [
    "print(model.wv.most_similar(positive=['bruxelles', 'france'], negative=['belgique']))"
   ]
  },
  {
   "cell_type": "code",
   "execution_count": 18,
   "id": "959b7768-296f-496e-a949-0238773bd8df",
   "metadata": {},
   "outputs": [
    {
     "name": "stdout",
     "output_type": "stream",
     "text": [
      "[('mere', 0.4184131324291229), ('eoi', 0.4026956558227539), ('boi', 0.39582201838493347), ('fille', 0.3846323490142822), ('famille_royale', 0.3765176236629486), ('eclale', 0.37051498889923096), ('zeepaard', 0.3684881925582886), ('sieur_van_eesbeeck', 0.36782413721084595), ('mgr', 0.3621143698692322), ('princesse_marie', 0.35621941089630127)]\n"
     ]
    }
   ],
   "source": [
    "print(model.wv.most_similar(positive=['roi', 'femme'], negative=['homme']))"
   ]
  },
  {
   "cell_type": "code",
   "execution_count": 15,
   "id": "f32347df-9522-4bc4-bfc0-e83c86caa2c6",
   "metadata": {},
   "outputs": [
    {
     "name": "stdout",
     "output_type": "stream",
     "text": [
      "[('obeissance', 0.538389265537262), ('<<_je_jure', 0.5057224631309509), ('je_jure_fidelite', 0.4389154016971588), ('inalterableattachement', 0.4325920641422272), ('hommage_particulier', 0.4223836660385132), ('peuple_belge', 0.42071980237960815), ('desinteressement', 0.4178043603897095), ('serment_suivant', 0.41470056772232056), ('serment', 0.4126855134963989), ('juste_hommage', 0.4065362513065338)]\n"
     ]
    }
   ],
   "source": [
    "print(model.wv.most_similar(positive=['fidelite', 'homme'], negative=['femme']))"
   ]
  },
  {
   "cell_type": "code",
   "execution_count": 14,
   "id": "0ff3abf0-7d66-4b2a-aafd-108aae018d77",
   "metadata": {},
   "outputs": [
    {
     "name": "stdout",
     "output_type": "stream",
     "text": [
      "[('individu', 0.5701825618743896), ('enfant', 0.5563074350357056), ('ouvrier', 0.5529573559761047), ('cet_homme', 0.48627912998199463), ('indigent', 0.48061877489089966), ('orphelin', 0.4713592529296875), ('artiste', 0.47036853432655334), ('fille', 0.46726277470588684), ('malade', 0.4668050706386566), ('jeune_fille', 0.465228408575058)]\n"
     ]
    }
   ],
   "source": [
    "print(model.wv.most_similar(positive=['femme', 'homme'], negative=['fidelite']))"
   ]
  },
  {
   "cell_type": "code",
   "execution_count": 17,
   "id": "b1b493a1-a788-4e32-ade9-1da484d0ee11",
   "metadata": {},
   "outputs": [
    {
     "name": "stdout",
     "output_type": "stream",
     "text": [
      "[('fenetre', 0.5346331000328064), ('mansarde', 0.5246878862380981), ('cloison', 0.520297110080719), ('terrasse', 0.5074345469474792), ('loge', 0.5059982538223267), ('douche', 0.49894893169403076), ('cave', 0.49847882986068726), ('chaudiere', 0.49798569083213806), ('pouponniere', 0.4923699200153351), ('laverie', 0.4922226071357727)]\n"
     ]
    }
   ],
   "source": [
    "print(model.wv.most_similar(positive=['urinoir', 'femme'], negative=['homme']))"
   ]
  },
  {
   "cell_type": "code",
   "execution_count": null,
   "id": "ae10546f-d68c-4143-a650-deecc7d2dacb",
   "metadata": {},
   "outputs": [],
   "source": []
  }
 ],
 "metadata": {
  "kernelspec": {
   "display_name": "Python 3 (ipykernel)",
   "language": "python",
   "name": "python3"
  },
  "language_info": {
   "codemirror_mode": {
    "name": "ipython",
    "version": 3
   },
   "file_extension": ".py",
   "mimetype": "text/x-python",
   "name": "python",
   "nbconvert_exporter": "python",
   "pygments_lexer": "ipython3",
   "version": "3.9.7"
  }
 },
 "nbformat": 4,
 "nbformat_minor": 5
}
