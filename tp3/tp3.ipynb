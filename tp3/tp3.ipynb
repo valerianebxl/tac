{
 "cells": [
  {
   "cell_type": "markdown",
   "id": "5470f524-1497-44a6-9fc1-b1541f376791",
   "metadata": {},
   "source": [
    "# Clustering et word2vec"
   ]
  },
  {
   "cell_type": "markdown",
   "id": "4aab9df9-3737-4fb0-9c57-ae33615ac09c",
   "metadata": {},
   "source": [
    "Sur la base des éléments méthodologiques et des enseignements techniques présentés lors du cours théorique, il est demandé dans le cadre de ce TP :\n",
    "- d’effectuer un clustering des bulletins pour une décennie au choix et d’interpréter les résultats\n",
    "- d’entraîner un modèle word2vec sur l’ensemble des bulletins et d’explorer les relations entre vecteurs\n",
    "\n",
    "Pour ce faire, vous utiliserez différentes librairies Python vues au cours comme scikit-learn et gensim."
   ]
  },
  {
   "cell_type": "code",
   "execution_count": null,
   "id": "9f6fcd20-ae63-448b-96bf-9f0d8c9ddfe9",
   "metadata": {},
   "outputs": [],
   "source": []
  }
 ],
 "metadata": {
  "kernelspec": {
   "display_name": "Python 3 (ipykernel)",
   "language": "python",
   "name": "python3"
  },
  "language_info": {
   "codemirror_mode": {
    "name": "ipython",
    "version": 3
   },
   "file_extension": ".py",
   "mimetype": "text/x-python",
   "name": "python",
   "nbconvert_exporter": "python",
   "pygments_lexer": "ipython3",
   "version": "3.9.7"
  }
 },
 "nbformat": 4,
 "nbformat_minor": 5
}
